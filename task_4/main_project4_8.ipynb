{
  "nbformat": 4,
  "nbformat_minor": 0,
  "metadata": {
    "colab": {
      "name": "ns_main_project4_7.ipynb",
      "provenance": [],
      "collapsed_sections": [],
      "machine_shape": "hm",
      "include_colab_link": true
    },
    "kernelspec": {
      "name": "python3",
      "display_name": "Python 3"
    }
  },
  "cells": [
    {
      "cell_type": "markdown",
      "metadata": {
        "id": "view-in-github",
        "colab_type": "text"
      },
      "source": [
        "<a href=\"https://colab.research.google.com/github/Ahmadrezauf/IML_Projects/blob/master/task_4/main_project4_8.ipynb\" target=\"_parent\"><img src=\"https://colab.research.google.com/assets/colab-badge.svg\" alt=\"Open In Colab\"/></a>"
      ]
    },
    {
      "cell_type": "code",
      "metadata": {
        "id": "ZRJ89EzIP3kM",
        "colab_type": "code",
        "colab": {}
      },
      "source": [
        "import pandas as pd\n",
        "import pickle\n",
        "import numpy as np\n",
        "import os\n",
        "import random\n",
        "\n",
        "from google.colab import files\n",
        "import io\n",
        "import time\n",
        "\n",
        "import pdb\n",
        "import cv2\n",
        "import matplotlib.pyplot as plt\n",
        "\n",
        "import keras.backend as K\n",
        "from keras import Sequential\n",
        "\n",
        "from keras.layers import Dense, Dropout, Activation, SimpleRNN, LSTM, Conv1D, MaxPooling1D, AveragePooling1D, Embedding\n",
        "from keras.layers import BatchNormalization\n",
        "from keras.layers import AlphaDropout\n",
        "from keras.layers import Conv2D, MaxPooling2D, Flatten, Lambda, Input, Layer\n",
        "\n",
        "from keras.regularizers import l2\n",
        "\n",
        "from keras.models import Model\n",
        "\n",
        "from keras import regularizers\n",
        "from keras.optimizers import SGD\n",
        "from keras.callbacks import Callback,ModelCheckpoint, EarlyStopping\n",
        "from keras import initializers\n",
        "\n",
        "from matplotlib import pyplot as plt"
      ],
      "execution_count": 0,
      "outputs": []
    },
    {
      "cell_type": "markdown",
      "metadata": {
        "id": "mH0ZJQoregUG",
        "colab_type": "text"
      },
      "source": [
        "### Mounting drive and changing dir"
      ]
    },
    {
      "cell_type": "code",
      "metadata": {
        "id": "u2uEzHW5QiXX",
        "colab_type": "code",
        "outputId": "c078cf71-04a0-46d1-9d91-083189688822",
        "colab": {
          "base_uri": "https://localhost:8080/",
          "height": 33
        }
      },
      "source": [
        "from google.colab import drive\n",
        "drive.mount('/content/drive', force_remount= True)\n",
        "import os\n",
        "workDir = '/content/drive/My Drive/IML/IML_Projects/task_4' #input('input the working directory: ')\n",
        "os.chdir(workDir)"
      ],
      "execution_count": 0,
      "outputs": [
        {
          "output_type": "stream",
          "text": [
            "Mounted at /content/drive\n"
          ],
          "name": "stdout"
        }
      ]
    },
    {
      "cell_type": "markdown",
      "metadata": {
        "id": "0BSkfTlDgJj_",
        "colab_type": "text"
      },
      "source": [
        "## Hyperparameters"
      ]
    },
    {
      "cell_type": "code",
      "metadata": {
        "id": "DUIBN-TMgH5r",
        "colab_type": "code",
        "colab": {}
      },
      "source": [
        "# desired image size for input to layer in format (w,h)\n",
        "imgSize = (100,100)\n",
        "# embedding size\n",
        "emb_size = 50\n",
        "# margin for triplet loss\n",
        "alpha = 1.0"
      ],
      "execution_count": 0,
      "outputs": []
    },
    {
      "cell_type": "markdown",
      "metadata": {
        "id": "kM677wGme1rb",
        "colab_type": "text"
      },
      "source": [
        "# Loading data"
      ]
    },
    {
      "cell_type": "markdown",
      "metadata": {
        "id": "Rdq2PXzleo_E",
        "colab_type": "text"
      },
      "source": [
        "## Importing image tensor"
      ]
    },
    {
      "cell_type": "code",
      "metadata": {
        "id": "rm0DD8U4xkNa",
        "colab_type": "code",
        "outputId": "dfb1b10c-37ee-4aa1-df46-f0894383776c",
        "colab": {
          "base_uri": "https://localhost:8080/",
          "height": 50
        }
      },
      "source": [
        "if os.path.exists('img_list.pickle'):\n",
        "  print(\"Loading the image array\")\n",
        "  pickle_in = open( \"img_list.pickle\", \"rb\" )\n",
        "  food_images = pickle.load(pickle_in)\n",
        "  pickle_in.close()\n",
        "  print(\"The image array was successfully loaded\")\n",
        "else:\n",
        "  num_food_images = 10000\n",
        "  path = 'food/'\n",
        "  imageSize = (450,300)\n",
        "\n",
        "  temp = np.zeros([imageSize[0],imageSize[1]])\n",
        "\n",
        "  food_images = [temp]*num_food_images\n",
        "\n",
        "  for indx in range(0, num_food_images):\n",
        "\n",
        "    # reading in images and adding it to array\n",
        "    fileName = f'{path}{indx:05d}.jpg'\n",
        "    # color correct from BGR to RGB \n",
        "    img = cv2.imread(fileName)\n",
        "    # resize image\n",
        "    img = cv2.cvtColor(img, cv2.COLOR_BGR2RGB)\n",
        "    # resize image\n",
        "    img = cv2.resize(img, imageSize)\n",
        "    # appending image\n",
        "    food_images[indx] = img\n",
        "\n",
        "    if indx%100 == 0:\n",
        "      print(f'The progress is {round(indx/num_food_images*100,1)} %')\n",
        "\n",
        "  saveY = input('Do you want to save the generated array? y/n')\n",
        "  if saveY == 'y':\n",
        "    pickle_out = open(\"img_list.pickle\",\"wb\")\n",
        "    pickle.dump(food_images, pickle_out)\n",
        "    pickle_out.close()\n",
        "    print('The image array was successfully saved')\n",
        "  else:\n",
        "    print('The image array was NOT saved')"
      ],
      "execution_count": 0,
      "outputs": [
        {
          "output_type": "stream",
          "text": [
            "Loading the image array\n",
            "The image array was successfully loaded\n"
          ],
          "name": "stdout"
        }
      ]
    },
    {
      "cell_type": "markdown",
      "metadata": {
        "id": "624njwbDPa4R",
        "colab_type": "text"
      },
      "source": [
        "## Importing training and testing triplets"
      ]
    },
    {
      "cell_type": "code",
      "metadata": {
        "id": "J1xkIH06P2LQ",
        "colab_type": "code",
        "colab": {}
      },
      "source": [
        "D_train = pd.read_csv('train_triplets.txt', header = None, delim_whitespace=True)\n",
        "D_test = pd.read_csv('test_triplets.txt', header = None, delim_whitespace=True)\n",
        "\n",
        "train_triplets = np.array(D_train)\n",
        "test_triplets = np.array(D_test)\n",
        "\n",
        "num_train_triplets = np.shape(D_train)[0]\n",
        "num_test_triplets = np.shape(D_test)[0]"
      ],
      "execution_count": 0,
      "outputs": []
    },
    {
      "cell_type": "markdown",
      "metadata": {
        "id": "BEak_0VexfQh",
        "colab_type": "text"
      },
      "source": [
        "# k-fold"
      ]
    },
    {
      "cell_type": "code",
      "metadata": {
        "id": "cG75AqSHJ_-f",
        "colab_type": "code",
        "outputId": "1971b946-ddff-40ab-b10c-b9c858fc50a8",
        "colab": {
          "base_uri": "https://localhost:8080/",
          "height": 150
        }
      },
      "source": [
        "# splitting data triplets\n",
        "k_fold = 5\n",
        "\n",
        "from sklearn.model_selection import KFold\n",
        "kf = KFold(n_splits = k_fold, shuffle=True, random_state=1)\n",
        "\n",
        "X = np.array(D_train)\n",
        "# specify pseudo classification for split function\n",
        "y = np.ones(X.shape[0])\n",
        "\n",
        "k_index = list(kf.split(X,y))\n",
        "k_index = np.array(k_index)\n",
        "print(np.shape(k_index))\n",
        "\n",
        "# visualize first k fold validation with training set\n",
        "X[k_index[0][0],:]"
      ],
      "execution_count": 64,
      "outputs": [
        {
          "output_type": "stream",
          "text": [
            "(5, 2)\n"
          ],
          "name": "stdout"
        },
        {
          "output_type": "execute_result",
          "data": {
            "text/plain": [
              "array([[2461, 3450, 2678],\n",
              "       [2299, 2499, 4987],\n",
              "       [4663, 1056, 3029],\n",
              "       ...,\n",
              "       [3255, 4844, 4334],\n",
              "       [2136, 4619,  161],\n",
              "       [2509, 2552, 3406]])"
            ]
          },
          "metadata": {
            "tags": []
          },
          "execution_count": 64
        }
      ]
    },
    {
      "cell_type": "code",
      "metadata": {
        "id": "YjtXazGDV5B-",
        "colab_type": "code",
        "colab": {
          "base_uri": "https://localhost:8080/",
          "height": 33
        },
        "outputId": "11810c00-df7b-4929-cd78-81a4d008397a"
      },
      "source": [
        "# defining data\n",
        "fold = X[k_index[0][0],:]\n",
        "validate = X[k_index[0][1],:]"
      ],
      "execution_count": 71,
      "outputs": [
        {
          "output_type": "stream",
          "text": [
            "(47612,) (11903,)\n"
          ],
          "name": "stdout"
        }
      ]
    },
    {
      "cell_type": "markdown",
      "metadata": {
        "id": "wvUL9mR2fmCU",
        "colab_type": "text"
      },
      "source": [
        "## function definitions"
      ]
    },
    {
      "cell_type": "code",
      "metadata": {
        "id": "LB1GvOda2JJv",
        "colab_type": "code",
        "colab": {}
      },
      "source": [
        "def create_batch(fold, batch_size=256, toSize = (450,300), flatten = True):\n",
        "    \n",
        "    if flatten:\n",
        "      x_anchors = np.zeros((batch_size, toSize[0]*toSize[1]*3))\n",
        "      x_positives = np.zeros((batch_size, toSize[0]*toSize[1]*3))\n",
        "      x_negatives = np.zeros((batch_size, toSize[0]*toSize[1]*3))\n",
        "    else:\n",
        "      x_anchors = np.zeros([batch_size, toSize[1], toSize[0], 3])\n",
        "      x_positives = np.zeros([batch_size, toSize[1], toSize[0], 3])\n",
        "      x_negatives = np.zeros([batch_size, toSize[1], toSize[0], 3])\n",
        "          \n",
        "    # get random samples from train triplets\n",
        "    for i in range(0, batch_size):\n",
        "        # preprocessing\n",
        "\n",
        "        # We need to find an anchor, a positive example and a negative example\n",
        "        random_index = random.randint(0, fold.shape[0]-1)\n",
        "        triplet = fold[random_index]\n",
        "\n",
        "        # reshaping, normalizing and flattening images --> this will take more time than pre-processed data, but will eliminate RAM issues\n",
        "\n",
        "        x_anchor = cv2.resize(food_images[triplet[0]],toSize)/255.0\n",
        "        x_positive = cv2.resize(food_images[triplet[1]],toSize)/255.0\n",
        "        x_negative = cv2.resize(food_images[triplet[2]],toSize)/255.0\n",
        "\n",
        "        if flatten:\n",
        "          x_anchor = np.reshape(x_anchor, np.prod(x_anchor.shape))\n",
        "          x_positive = np.reshape(x_positive, np.prod(x_positive.shape))\n",
        "          x_negative = np.reshape(x_negative, np.prod(x_negative.shape))\n",
        "             \n",
        "        x_anchors[i] = x_anchor\n",
        "        x_positives[i] = x_positive\n",
        "        x_negatives[i] = x_negative\n",
        "        \n",
        "    return [x_anchors, x_positives, x_negatives]"
      ],
      "execution_count": 0,
      "outputs": []
    },
    {
      "cell_type": "code",
      "metadata": {
        "id": "X13C_RzyHpZr",
        "colab_type": "code",
        "outputId": "152ad869-eae8-48e3-99db-8ed08e97f1b3",
        "colab": {
          "base_uri": "https://localhost:8080/",
          "height": 267
        }
      },
      "source": [
        "# Example how to use function\n",
        "\n",
        "tr = create_batch(fold, batch_size=3, toSize = (25,25), flatten = False)\n",
        "\n",
        "for n in range(0,len(tr[0])):\n",
        "  for i in range(0,3):\n",
        "    plt.subplot(len(tr[0]),3, 3*n + i+1)\n",
        "    plt.imshow(tr[i][n])"
      ],
      "execution_count": 0,
      "outputs": [
        {
          "output_type": "display_data",
          "data": {
            "image/png": "[encoded data removed]",
            "text/plain": [
              "<Figure size 432x288 with 9 Axes>"
            ]
          },
          "metadata": {
            "tags": [],
            "needs_background": "light"
          }
        }
      ]
    },
    {
      "cell_type": "code",
      "metadata": {
        "id": "bPSeNaBdfQNU",
        "colab_type": "code",
        "colab": {}
      },
      "source": [
        "def data_generator(fold, batch_size=256, toSize = (10,10), flatten=True):\n",
        "    while True:\n",
        "        x = create_batch(fold, batch_size, toSize, flatten)\n",
        "        y = np.zeros((batch_size, 3*emb_size))\n",
        "        yield x, y"
      ],
      "execution_count": 0,
      "outputs": []
    },
    {
      "cell_type": "code",
      "metadata": {
        "id": "Xa_rxV2yjX7O",
        "colab_type": "code",
        "colab": {}
      },
      "source": [
        "def run_through(fold, toSize = (450,300), flatten = True):\n",
        "    \n",
        "    batch_size = len(fold)\n",
        "\n",
        "    if flatten:\n",
        "      x_anchors = np.zeros((batch_size, toSize[0]*toSize[1]*3))\n",
        "      x_positives = np.zeros((batch_size, toSize[0]*toSize[1]*3))\n",
        "      x_negatives = np.zeros((batch_size, toSize[0]*toSize[1]*3))\n",
        "    else:\n",
        "      x_anchors = np.zeros([batch_size, toSize[1], toSize[0], 3])\n",
        "      x_positives = np.zeros([batch_size, toSize[1], toSize[0], 3])\n",
        "      x_negatives = np.zeros([batch_size, toSize[1], toSize[0], 3])\n",
        "\n",
        "    \n",
        "    # get random samples from train triplets\n",
        "    for i in range(0, len(fold)):\n",
        "        # preprocessing\n",
        "\n",
        "        # We need to find an anchor, a positive example and a negative example\n",
        "        triplet = fold[i]\n",
        "\n",
        "        # reshaping, normalizing and flattening images --> this will take more time than pre-processed data, but will eliminate RAM issues\n",
        "\n",
        "        x_anchor = cv2.resize(food_images[triplet[0]],toSize)/255.0\n",
        "        x_positive = cv2.resize(food_images[triplet[1]],toSize)/255.0\n",
        "        x_negative = cv2.resize(food_images[triplet[2]],toSize)/255.0\n",
        "\n",
        "        if flatten:\n",
        "          x_anchor = np.reshape(x_anchor, np.prod(x_anchor.shape))\n",
        "          x_positive = np.reshape(x_positive, np.prod(x_positive.shape))\n",
        "          x_negative = np.reshape(x_negative, np.prod(x_negative.shape))\n",
        "             \n",
        "        x_anchors[i] = x_anchor\n",
        "        x_positives[i] = x_positive\n",
        "        x_negatives[i] = x_negative\n",
        "\n",
        "        # yield [x_anchors, x_positives, x_negatives]\n",
        "        \n",
        "    return [x_anchors, x_positives, x_negatives]"
      ],
      "execution_count": 0,
      "outputs": []
    },
    {
      "cell_type": "code",
      "metadata": {
        "id": "0PxZtXalrG5-",
        "colab_type": "code",
        "outputId": "6cd6c9b0-a3fd-4502-d2b5-d30604e9a743",
        "colab": {
          "base_uri": "https://localhost:8080/",
          "height": 100
        }
      },
      "source": [
        "def plot_triplets(examples, imgSize):\n",
        "    plt.figure(figsize=(6, 2))\n",
        "    for i in range(3):\n",
        "        plt.subplot(1, 3, 1 + i)\n",
        "        plt.imshow(np.reshape(examples[i], (imgSize[1], imgSize[0], 3)))\n",
        "        plt.xticks([])\n",
        "        plt.yticks([])\n",
        "    plt.show()\n",
        "\n",
        "examples = create_batch(fold,1)\n",
        "plot_triplets(examples,(450,300))"
      ],
      "execution_count": 0,
      "outputs": [
        {
          "output_type": "display_data",
          "data": {
            "image/png": "[encoded data removed]",
            "text/plain": [
              "<Figure size 432x144 with 3 Axes>"
            ]
          },
          "metadata": {
            "tags": []
          }
        }
      ]
    },
    {
      "cell_type": "code",
      "metadata": {
        "id": "XphJ67r_QUm5",
        "colab_type": "code",
        "colab": {}
      },
      "source": [
        "# function for transforming predicted embeddings to required prediction 0 or 1\n",
        "# anchor: dish A, positive: dish B, negative: dish C\n",
        "# if distance A to B < A to C then A is more similar to B than to C -> return 1\n",
        "\n",
        "def similar_dish(prediction):\n",
        "  out = [0]*len(prediction)\n",
        "  for idx, vec in enumerate(prediction):\n",
        "    anchor, positive, negative = vec[:emb_size], vec[emb_size:2*emb_size], vec[2*emb_size:]\n",
        "    positive_dist = np.mean(np.square(anchor - positive))\n",
        "    negative_dist = np.mean(np.square(anchor - negative))\n",
        "\n",
        "    if positive_dist < negative_dist:\n",
        "      out[idx] = 1\n",
        "    else:\n",
        "      out[idx] = 0\n",
        "  return out"
      ],
      "execution_count": 0,
      "outputs": []
    },
    {
      "cell_type": "code",
      "metadata": {
        "id": "NzAuz3lSQUrp",
        "colab_type": "code",
        "colab": {}
      },
      "source": [
        "# less memory intense way of creating predictions\n",
        "def predict_vec(fold, batch_size = 1000, toSize = (450,300), flatten = True):\n",
        "\n",
        "  # define arrays\n",
        "  if flatten:\n",
        "    x_anchors = np.zeros((batch_size, toSize[0]*toSize[1]*3))\n",
        "    x_positives = np.zeros((batch_size, toSize[0]*toSize[1]*3))\n",
        "    x_negatives = np.zeros((batch_size, toSize[0]*toSize[1]*3))\n",
        "  else:\n",
        "    x_anchors = np.zeros([batch_size, toSize[1], toSize[0], 3])\n",
        "    x_positives = np.zeros([batch_size, toSize[1], toSize[0], 3])\n",
        "    x_negatives = np.zeros([batch_size, toSize[1], toSize[0], 3])\n",
        "\n",
        "  predictions = []\n",
        "  sample_in_batch = 0\n",
        "  totlen=0\n",
        "\n",
        "  # go through all the triplets in fold\n",
        "  for i in range(0, len(fold)):\n",
        "\n",
        "      # progress of prediction\n",
        "      # if i%500 == 0:\n",
        "        # print(f'The progress is {round(i/len(fold)*100,1)} %')\n",
        "\n",
        "      # preprocessing\n",
        "\n",
        "      # We need to find an anchor, a positive example and a negative example\n",
        "      triplet = fold[i]\n",
        "\n",
        "      # reshaping, normalizing and flattening images --> this will take more time than pre-processed data, but will eliminate RAM issues\n",
        "      x_anchor = cv2.resize(food_images[triplet[0]],toSize)/255.0\n",
        "      x_positive = cv2.resize(food_images[triplet[1]],toSize)/255.0\n",
        "      x_negative = cv2.resize(food_images[triplet[2]],toSize)/255.0\n",
        "\n",
        "      if flatten:\n",
        "        x_anchor = np.reshape(x_anchor, np.prod(x_anchor.shape))\n",
        "        x_positive = np.reshape(x_positive, np.prod(x_positive.shape))\n",
        "        x_negative = np.reshape(x_negative, np.prod(x_negative.shape))\n",
        "\n",
        "      # build array for prediciton\n",
        "      x_anchors[sample_in_batch] = x_anchor\n",
        "      x_positives[sample_in_batch] = x_positive\n",
        "      x_negatives[sample_in_batch] = x_negative\n",
        "\n",
        "      # go to next sample\n",
        "      sample_in_batch = sample_in_batch + 1\n",
        "\n",
        "      # if next sample would be in the next batch, predict for this batch\n",
        "\n",
        "      if sample_in_batch >= batch_size or i == (len(fold)-1):\n",
        "        # if i == (len(fold)-1):\n",
        "          # print(f'End with batch sample {sample_in_batch}')\n",
        "        # print(f'i is {i}, Predicting...')\n",
        "        X = [x_anchors[0: sample_in_batch], x_positives[0: sample_in_batch], x_negatives[0:sample_in_batch]]\n",
        "\n",
        "        vec = net.predict(X)\n",
        "        predictions.append(similar_dish(vec))\n",
        "\n",
        "        # predictions.append(similar_dish(vec))\n",
        "        # print('End of predictions...')\n",
        "\n",
        "        totlen = totlen + len(vec)\n",
        "\n",
        "        # resart at the sample zero for the next batch\n",
        "        sample_in_batch = 0\n",
        "\n",
        "\n",
        "\n",
        "  pred_flat = []\n",
        "  for li in predictions:\n",
        "    for elem in li:\n",
        "      pred_flat.append(elem)\n",
        "  \n",
        "  print(f' The length of the vector is: {totlen}')\n",
        "\n",
        "  return pred_flat"
      ],
      "execution_count": 0,
      "outputs": []
    },
    {
      "cell_type": "markdown",
      "metadata": {
        "id": "Vtwro22MfFgm",
        "colab_type": "text"
      },
      "source": [
        "# Defining Model & network"
      ]
    },
    {
      "cell_type": "markdown",
      "metadata": {
        "id": "DSEy0L8kqrz2",
        "colab_type": "text"
      },
      "source": [
        "## Embedding layer"
      ]
    },
    {
      "cell_type": "code",
      "metadata": {
        "id": "n2HpgSKhp4BD",
        "colab_type": "code",
        "colab": {}
      },
      "source": [
        "# import tensorflow as tf\n",
        "\n",
        "# embedding_model = tf.keras.models.Sequential([\n",
        "#     tf.keras.layers.Dense(emb_size, activation='relu', input_shape=(imgSize[0]*imgSize[1]*3,)),\n",
        "#     tf.keras.layers.Dense(emb_size, activation='sigmoid')\n",
        "# ])\n",
        "\n",
        "# embedding_model.summary()"
      ],
      "execution_count": 0,
      "outputs": []
    },
    {
      "cell_type": "markdown",
      "metadata": {
        "id": "Aqeu1JRRRJP_",
        "colab_type": "text"
      },
      "source": [
        "## Embedding layer with convolution"
      ]
    },
    {
      "cell_type": "code",
      "metadata": {
        "id": "4hENpRgcRHmi",
        "colab_type": "code",
        "colab": {}
      },
      "source": [
        "import tensorflow as tf\n",
        "from tensorflow import keras\n",
        "from tensorflow.keras import layers\n",
        "\n",
        "embedding_model = keras.Sequential()\n",
        "embedding_model.add(keras.Input(shape=(imgSize[1], imgSize[0], 3))) \n",
        "\n",
        "embedding_model.add(layers.Conv2D(32, 5, strides=2, activation=\"relu\"))\n",
        "embedding_model.add(layers.MaxPooling2D(2))\n",
        "\n",
        "embedding_model.add(layers.Conv2D(32, 3, strides=2, activation=\"relu\"))\n",
        "embedding_model.add(layers.MaxPooling2D(2))\n",
        "\n",
        "# embedding_model.add(layers.GlobalMaxPooling2D())\n",
        "\n",
        "embedding_model.add(layers.Flatten())\n",
        "\n",
        "embedding_model.add(layers.Dense(emb_size, activation='sigmoid'))\n"
      ],
      "execution_count": 0,
      "outputs": []
    },
    {
      "cell_type": "code",
      "metadata": {
        "id": "yCnVAkxVVoqR",
        "colab_type": "code",
        "outputId": "7d4c401b-237c-4f19-c8ec-db003ae7352e",
        "colab": {
          "base_uri": "https://localhost:8080/",
          "height": 350
        }
      },
      "source": [
        "embedding_model.summary()"
      ],
      "execution_count": 0,
      "outputs": [
        {
          "output_type": "stream",
          "text": [
            "Model: \"sequential\"\n",
            "_________________________________________________________________\n",
            "Layer (type)                 Output Shape              Param #   \n",
            "=================================================================\n",
            "conv2d (Conv2D)              (None, 48, 48, 32)        2432      \n",
            "_________________________________________________________________\n",
            "max_pooling2d (MaxPooling2D) (None, 24, 24, 32)        0         \n",
            "_________________________________________________________________\n",
            "conv2d_1 (Conv2D)            (None, 11, 11, 32)        9248      \n",
            "_________________________________________________________________\n",
            "max_pooling2d_1 (MaxPooling2 (None, 5, 5, 32)          0         \n",
            "_________________________________________________________________\n",
            "flatten (Flatten)            (None, 800)               0         \n",
            "_________________________________________________________________\n",
            "dense (Dense)                (None, 50)                40050     \n",
            "=================================================================\n",
            "Total params: 51,730\n",
            "Trainable params: 51,730\n",
            "Non-trainable params: 0\n",
            "_________________________________________________________________\n"
          ],
          "name": "stdout"
        }
      ]
    },
    {
      "cell_type": "markdown",
      "metadata": {
        "id": "DVWeMpV7rnqz",
        "colab_type": "text"
      },
      "source": [
        "## Siamese network"
      ]
    },
    {
      "cell_type": "code",
      "metadata": {
        "id": "vCpwKX-xp4xe",
        "colab_type": "code",
        "outputId": "6d3198ff-5e36-4a94-fbca-6e379d17b174",
        "colab": {
          "base_uri": "https://localhost:8080/",
          "height": 383
        }
      },
      "source": [
        "input_anchor = tf.keras.layers.Input(shape=(imgSize[1],imgSize[0],3))\n",
        "input_positive = tf.keras.layers.Input(shape=(imgSize[1],imgSize[0],3))\n",
        "input_negative = tf.keras.layers.Input(shape=(imgSize[1],imgSize[0],3))\n",
        "\n",
        "embedding_anchor = embedding_model(input_anchor)\n",
        "embedding_positive = embedding_model(input_positive)\n",
        "embedding_negative = embedding_model(input_negative)\n",
        "\n",
        "output = tf.keras.layers.concatenate([embedding_anchor, embedding_positive, embedding_negative], axis=1)\n",
        "\n",
        "net = tf.keras.models.Model([input_anchor, input_positive, input_negative], output)\n",
        "net.summary()"
      ],
      "execution_count": 0,
      "outputs": [
        {
          "output_type": "stream",
          "text": [
            "Model: \"model\"\n",
            "__________________________________________________________________________________________________\n",
            "Layer (type)                    Output Shape         Param #     Connected to                     \n",
            "==================================================================================================\n",
            "input_2 (InputLayer)            [(None, 100, 100, 3) 0                                            \n",
            "__________________________________________________________________________________________________\n",
            "input_3 (InputLayer)            [(None, 100, 100, 3) 0                                            \n",
            "__________________________________________________________________________________________________\n",
            "input_4 (InputLayer)            [(None, 100, 100, 3) 0                                            \n",
            "__________________________________________________________________________________________________\n",
            "sequential (Sequential)         (None, 50)           51730       input_2[0][0]                    \n",
            "                                                                 input_3[0][0]                    \n",
            "                                                                 input_4[0][0]                    \n",
            "__________________________________________________________________________________________________\n",
            "concatenate (Concatenate)       (None, 150)          0           sequential[1][0]                 \n",
            "                                                                 sequential[2][0]                 \n",
            "                                                                 sequential[3][0]                 \n",
            "==================================================================================================\n",
            "Total params: 51,730\n",
            "Trainable params: 51,730\n",
            "Non-trainable params: 0\n",
            "__________________________________________________________________________________________________\n"
          ],
          "name": "stdout"
        }
      ]
    },
    {
      "cell_type": "markdown",
      "metadata": {
        "id": "emsDMH-7t3ee",
        "colab_type": "text"
      },
      "source": [
        "## Triplet loss"
      ]
    },
    {
      "cell_type": "code",
      "metadata": {
        "id": "RlhVb37vtw7Y",
        "colab_type": "code",
        "colab": {}
      },
      "source": [
        "def triplet_loss(y_true, y_pred):\n",
        "    anchor, positive, negative = y_pred[:,:emb_size], y_pred[:,emb_size:2*emb_size], y_pred[:,2*emb_size:]\n",
        "    positive_dist = tf.reduce_mean(tf.square(anchor - positive), axis=1)\n",
        "    negative_dist = tf.reduce_mean(tf.square(anchor - negative), axis=1)\n",
        "    triplet_loss = tf.maximum(positive_dist - negative_dist + alpha, 0.)\n",
        "    loss = tf.reduce_mean(triplet_loss)\n",
        "    return loss"
      ],
      "execution_count": 0,
      "outputs": []
    },
    {
      "cell_type": "code",
      "metadata": {
        "id": "_WryQNM_d7GB",
        "colab_type": "code",
        "outputId": "576461e0-a4f8-4f2a-b30b-a18d073ed558",
        "colab": {
          "base_uri": "https://localhost:8080/",
          "height": 312
        }
      },
      "source": [
        "tf.keras.utils.plot_model(net, show_shapes=True, show_layer_names=True)"
      ],
      "execution_count": 0,
      "outputs": [
        {
          "output_type": "execute_result",
          "data": {
            "image/png": "[encoded data removed]",
            "text/plain": [
              "<IPython.core.display.Image object>"
            ]
          },
          "metadata": {
            "tags": []
          },
          "execution_count": 19
        }
      ]
    },
    {
      "cell_type": "markdown",
      "metadata": {
        "id": "HT4Sz8PMfwMq",
        "colab_type": "text"
      },
      "source": [
        "# Training & saving network"
      ]
    },
    {
      "cell_type": "code",
      "metadata": {
        "id": "tWq2FsVntxJA",
        "colab_type": "code",
        "outputId": "4bc1ef0e-d0b0-4da1-d29e-36ec1ad6167c",
        "colab": {
          "base_uri": "https://localhost:8080/",
          "height": 750
        }
      },
      "source": [
        "#from pca_plotter import PCAPlotter\n",
        "import math\n",
        "\n",
        "batch_size = 64\n",
        "# epochs = 50\n",
        "epochs = 5\n",
        "steps_per_epoch = math.floor(fold.shape[0]/batch_size)\n",
        "\n",
        "net.compile(loss=triplet_loss, optimizer='adamax')\n",
        "\n",
        "# go through each fold (this will ake a long time!?)\n",
        "for k in range(0, k_fold):\n",
        "  X_train = X[k_index[k][0],:]\n",
        "  X_validate = X[k_index[k][1],:]\n",
        "\n",
        "  result =  net.fit(\n",
        "      data_generator(X_train, batch_size, imgSize,flatten=False),\n",
        "      steps_per_epoch=steps_per_epoch,\n",
        "      epochs=epochs\n",
        "  )\n",
        "\n",
        "  # prediction on validation set\n",
        "  pr_val = predict_vec(X_validate, batch_size = 500, toSize = imgSize, flatten=False)\n",
        "  # percentage accuracy\n",
        "  perc_accuracy = round(np.sum(pr_val)/len(pr_val)*100,1)\n",
        "  print(f'The accurate predictions for fold {k} is {perc_accuracy} %')"
      ],
      "execution_count": 0,
      "outputs": [
        {
          "output_type": "stream",
          "text": [
            "Epoch 1/5\n",
            "743/743 [==============================] - 161s 217ms/step - loss: 0.8396\n",
            "Epoch 2/5\n",
            "743/743 [==============================] - 160s 215ms/step - loss: 0.8324\n",
            "Epoch 3/5\n",
            "743/743 [==============================] - 160s 215ms/step - loss: 0.8202\n",
            "Epoch 4/5\n",
            "743/743 [==============================] - 160s 216ms/step - loss: 0.8164\n",
            "Epoch 5/5\n",
            "743/743 [==============================] - 160s 215ms/step - loss: 0.8139\n",
            " The length of the vector is: 11903\n",
            "The accurate predictions for fold 0 is 60.4 %\n",
            "Epoch 1/5\n",
            "743/743 [==============================] - 159s 214ms/step - loss: 0.8079\n",
            "Epoch 2/5\n",
            "743/743 [==============================] - 159s 214ms/step - loss: 0.8132\n",
            "Epoch 3/5\n",
            "743/743 [==============================] - 160s 215ms/step - loss: 0.7994\n",
            "Epoch 4/5\n",
            "743/743 [==============================] - 162s 218ms/step - loss: 0.7956\n",
            "Epoch 5/5\n",
            "743/743 [==============================] - 161s 217ms/step - loss: 0.7881\n",
            " The length of the vector is: 11903\n",
            "The accurate predictions for fold 1 is 60.5 %\n",
            "Epoch 1/5\n",
            "743/743 [==============================] - 160s 215ms/step - loss: 0.7981\n",
            "Epoch 2/5\n",
            "743/743 [==============================] - 159s 213ms/step - loss: 0.7952\n",
            "Epoch 3/5\n",
            "743/743 [==============================] - 159s 213ms/step - loss: 0.7875\n",
            "Epoch 4/5\n",
            "743/743 [==============================] - 158s 213ms/step - loss: 0.7878\n",
            "Epoch 5/5\n",
            "743/743 [==============================] - 159s 214ms/step - loss: 0.7853\n",
            " The length of the vector is: 11903\n",
            "The accurate predictions for fold 2 is 62.1 %\n",
            "Epoch 1/5\n",
            "743/743 [==============================] - 158s 212ms/step - loss: 0.7772\n",
            "Epoch 2/5\n",
            "743/743 [==============================] - 158s 213ms/step - loss: 0.7814\n",
            "Epoch 3/5\n",
            "743/743 [==============================] - 158s 212ms/step - loss: 0.7778\n",
            "Epoch 4/5\n",
            "383/743 [==============>...............] - ETA: 1:16 - loss: 0.7634"
          ],
          "name": "stdout"
        }
      ]
    },
    {
      "cell_type": "code",
      "metadata": {
        "id": "TVQS8YdNctqV",
        "colab_type": "code",
        "outputId": "c7055929-131e-4de5-cc53-93c239cfa511",
        "colab": {
          "base_uri": "https://localhost:8080/",
          "height": 50
        }
      },
      "source": [
        "# saving as pickle object\n",
        "# pickle_out = open(\"net.pickle\",\"wb\")\n",
        "# pickle.dump(result, pickle_out)\n",
        "# pickle_out.close()\n",
        "\n",
        "import keras.losses\n",
        "keras.losses.custom_loss = triplet_loss\n",
        "\n",
        "from keras.models import load_model\n",
        "import datetime\n",
        "now = datetime.datetime.now()\n",
        "\n",
        "description = input('optional file description: ')\n",
        "\n",
        "filepath = f'{workDir}/models/{round(now.timestamp())}_sb_model_{description}.h5'\n",
        "print(filepath)\n",
        "net.save(filepath)"
      ],
      "execution_count": 0,
      "outputs": [
        {
          "output_type": "stream",
          "text": [
            "optional file description: simple\n",
            "/content/drive/My Drive/IML/IML_Projects/task_4/models/1590312377_sb_model_simple.h5\n"
          ],
          "name": "stdout"
        }
      ]
    },
    {
      "cell_type": "markdown",
      "metadata": {
        "id": "GNjC4FSL1Qhh",
        "colab_type": "text"
      },
      "source": [
        "# Test predictions & save results"
      ]
    },
    {
      "cell_type": "code",
      "metadata": {
        "id": "tR_w0HMQpgfr",
        "colab_type": "code",
        "outputId": "378274d6-8b2e-4762-f0da-2abef6cd11b5",
        "colab": {
          "base_uri": "https://localhost:8080/",
          "height": 33
        }
      },
      "source": [
        "# optionally loading a model\n",
        "from tensorflow.keras.models import load_model\n",
        "\n",
        "inp = input('Select model to run: ')\n",
        "\n",
        "filepath = f'{workDir}/models/1590312377_sb_model_simple.h5'\n",
        "\n",
        "net_saved = load_model(filepath, custom_objects={'triplet_loss': triplet_loss})"
      ],
      "execution_count": 0,
      "outputs": [
        {
          "output_type": "stream",
          "text": [
            "Select model to run: 1\n"
          ],
          "name": "stdout"
        }
      ]
    },
    {
      "cell_type": "code",
      "metadata": {
        "id": "kJ7Hfm4gfQpA",
        "colab_type": "code",
        "outputId": "decc26ed-9041-48fa-e334-f36f230b519b",
        "colab": {
          "base_uri": "https://localhost:8080/",
          "height": 1000
        }
      },
      "source": [
        "test_set = np.array(D_test)\n",
        "pr_test = predict_vec(test_set, batch_size = 1000, toSize = imgSize, flatten=False)"
      ],
      "execution_count": 0,
      "outputs": [
        {
          "output_type": "stream",
          "text": [
            "The progress is 0.0 %\n",
            "The progress is 0.8 %\n",
            "i is 999, Predicting...\n",
            "End of predictions...\n",
            "The progress is 1.7 %\n",
            "The progress is 2.5 %\n",
            "i is 1999, Predicting...\n",
            "End of predictions...\n",
            "The progress is 3.4 %\n",
            "The progress is 4.2 %\n",
            "i is 2999, Predicting...\n",
            "End of predictions...\n",
            "The progress is 5.0 %\n",
            "The progress is 5.9 %\n",
            "i is 3999, Predicting...\n",
            "End of predictions...\n",
            "The progress is 6.7 %\n",
            "The progress is 7.6 %\n",
            "i is 4999, Predicting...\n",
            "End of predictions...\n",
            "The progress is 8.4 %\n",
            "The progress is 9.2 %\n",
            "i is 5999, Predicting...\n",
            "End of predictions...\n",
            "The progress is 10.1 %\n",
            "The progress is 10.9 %\n",
            "i is 6999, Predicting...\n",
            "End of predictions...\n",
            "The progress is 11.8 %\n",
            "The progress is 12.6 %\n",
            "i is 7999, Predicting...\n",
            "End of predictions...\n",
            "The progress is 13.4 %\n",
            "The progress is 14.3 %\n",
            "i is 8999, Predicting...\n",
            "End of predictions...\n",
            "The progress is 15.1 %\n",
            "The progress is 16.0 %\n",
            "i is 9999, Predicting...\n",
            "End of predictions...\n",
            "The progress is 16.8 %\n",
            "The progress is 17.6 %\n",
            "i is 10999, Predicting...\n",
            "End of predictions...\n",
            "The progress is 18.5 %\n",
            "The progress is 19.3 %\n",
            "i is 11999, Predicting...\n",
            "End of predictions...\n",
            "The progress is 20.2 %\n",
            "The progress is 21.0 %\n",
            "i is 12999, Predicting...\n",
            "End of predictions...\n",
            "The progress is 21.8 %\n",
            "The progress is 22.7 %\n",
            "i is 13999, Predicting...\n",
            "End of predictions...\n",
            "The progress is 23.5 %\n",
            "The progress is 24.4 %\n",
            "i is 14999, Predicting...\n",
            "End of predictions...\n",
            "The progress is 25.2 %\n",
            "The progress is 26.0 %\n",
            "i is 15999, Predicting...\n",
            "End of predictions...\n",
            "The progress is 26.9 %\n",
            "The progress is 27.7 %\n",
            "i is 16999, Predicting...\n",
            "End of predictions...\n",
            "The progress is 28.6 %\n",
            "The progress is 29.4 %\n",
            "i is 17999, Predicting...\n",
            "End of predictions...\n",
            "The progress is 30.2 %\n",
            "The progress is 31.1 %\n",
            "i is 18999, Predicting...\n",
            "End of predictions...\n",
            "The progress is 31.9 %\n",
            "The progress is 32.7 %\n",
            "i is 19999, Predicting...\n",
            "End of predictions...\n",
            "The progress is 33.6 %\n",
            "The progress is 34.4 %\n",
            "i is 20999, Predicting...\n",
            "End of predictions...\n",
            "The progress is 35.3 %\n",
            "The progress is 36.1 %\n",
            "i is 21999, Predicting...\n",
            "End of predictions...\n",
            "The progress is 36.9 %\n",
            "The progress is 37.8 %\n",
            "i is 22999, Predicting...\n",
            "End of predictions...\n",
            "The progress is 38.6 %\n",
            "The progress is 39.5 %\n",
            "i is 23999, Predicting...\n",
            "End of predictions...\n",
            "The progress is 40.3 %\n",
            "The progress is 41.1 %\n",
            "i is 24999, Predicting...\n",
            "End of predictions...\n",
            "The progress is 42.0 %\n",
            "The progress is 42.8 %\n",
            "i is 25999, Predicting...\n",
            "End of predictions...\n",
            "The progress is 43.7 %\n",
            "The progress is 44.5 %\n",
            "i is 26999, Predicting...\n",
            "End of predictions...\n",
            "The progress is 45.3 %\n",
            "The progress is 46.2 %\n",
            "i is 27999, Predicting...\n",
            "End of predictions...\n",
            "The progress is 47.0 %\n",
            "The progress is 47.9 %\n",
            "i is 28999, Predicting...\n",
            "End of predictions...\n",
            "The progress is 48.7 %\n",
            "The progress is 49.5 %\n",
            "i is 29999, Predicting...\n",
            "End of predictions...\n",
            "The progress is 50.4 %\n",
            "The progress is 51.2 %\n",
            "i is 30999, Predicting...\n",
            "End of predictions...\n",
            "The progress is 52.1 %\n",
            "The progress is 52.9 %\n",
            "i is 31999, Predicting...\n",
            "End of predictions...\n",
            "The progress is 53.7 %\n",
            "The progress is 54.6 %\n",
            "i is 32999, Predicting...\n",
            "End of predictions...\n",
            "The progress is 55.4 %\n",
            "The progress is 56.3 %\n",
            "i is 33999, Predicting...\n",
            "End of predictions...\n",
            "The progress is 57.1 %\n",
            "The progress is 57.9 %\n",
            "i is 34999, Predicting...\n",
            "End of predictions...\n",
            "The progress is 58.8 %\n",
            "The progress is 59.6 %\n",
            "i is 35999, Predicting...\n",
            "End of predictions...\n",
            "The progress is 60.5 %\n",
            "The progress is 61.3 %\n",
            "i is 36999, Predicting...\n",
            "End of predictions...\n",
            "The progress is 62.1 %\n",
            "The progress is 63.0 %\n",
            "i is 37999, Predicting...\n",
            "End of predictions...\n",
            "The progress is 63.8 %\n",
            "The progress is 64.7 %\n",
            "i is 38999, Predicting...\n",
            "End of predictions...\n",
            "The progress is 65.5 %\n",
            "The progress is 66.3 %\n",
            "i is 39999, Predicting...\n",
            "End of predictions...\n",
            "The progress is 67.2 %\n",
            "The progress is 68.0 %\n",
            "i is 40999, Predicting...\n",
            "End of predictions...\n",
            "The progress is 68.9 %\n",
            "The progress is 69.7 %\n",
            "i is 41999, Predicting...\n",
            "End of predictions...\n",
            "The progress is 70.5 %\n",
            "The progress is 71.4 %\n",
            "i is 42999, Predicting...\n",
            "End of predictions...\n",
            "The progress is 72.2 %\n",
            "The progress is 73.1 %\n",
            "i is 43999, Predicting...\n",
            "End of predictions...\n",
            "The progress is 73.9 %\n",
            "The progress is 74.7 %\n",
            "i is 44999, Predicting...\n",
            "End of predictions...\n",
            "The progress is 75.6 %\n",
            "The progress is 76.4 %\n",
            "i is 45999, Predicting...\n",
            "End of predictions...\n",
            "The progress is 77.3 %\n",
            "The progress is 78.1 %\n",
            "i is 46999, Predicting...\n",
            "End of predictions...\n",
            "The progress is 78.9 %\n",
            "The progress is 79.8 %\n",
            "i is 47999, Predicting...\n",
            "End of predictions...\n",
            "The progress is 80.6 %\n",
            "The progress is 81.5 %\n",
            "i is 48999, Predicting...\n",
            "End of predictions...\n",
            "The progress is 82.3 %\n",
            "The progress is 83.1 %\n",
            "i is 49999, Predicting...\n",
            "End of predictions...\n",
            "The progress is 84.0 %\n",
            "The progress is 84.8 %\n",
            "i is 50999, Predicting...\n",
            "End of predictions...\n",
            "The progress is 85.7 %\n",
            "The progress is 86.5 %\n",
            "i is 51999, Predicting...\n",
            "End of predictions...\n",
            "The progress is 87.3 %\n",
            "The progress is 88.2 %\n",
            "i is 52999, Predicting...\n",
            "End of predictions...\n",
            "The progress is 89.0 %\n",
            "The progress is 89.8 %\n",
            "i is 53999, Predicting...\n",
            "End of predictions...\n",
            "The progress is 90.7 %\n",
            "The progress is 91.5 %\n",
            "i is 54999, Predicting...\n",
            "End of predictions...\n",
            "The progress is 92.4 %\n",
            "The progress is 93.2 %\n",
            "i is 55999, Predicting...\n",
            "End of predictions...\n",
            "The progress is 94.0 %\n",
            "The progress is 94.9 %\n",
            "i is 56999, Predicting...\n",
            "End of predictions...\n",
            "The progress is 95.7 %\n",
            "The progress is 96.6 %\n",
            "i is 57999, Predicting...\n",
            "End of predictions...\n",
            "The progress is 97.4 %\n",
            "The progress is 98.2 %\n",
            "i is 58999, Predicting...\n",
            "End of predictions...\n",
            "The progress is 99.1 %\n",
            "The progress is 99.9 %\n",
            "End with batch sample 544\n",
            "i is 59543, Predicting...\n",
            "End of predictions...\n",
            " The length of the vector is: 59544\n"
          ],
          "name": "stdout"
        }
      ]
    },
    {
      "cell_type": "code",
      "metadata": {
        "id": "Z1nihzZiZqwS",
        "colab_type": "code",
        "outputId": "1fc103b5-65ca-46b5-a788-7bd7f57d7edd",
        "colab": {
          "base_uri": "https://localhost:8080/",
          "height": 33
        }
      },
      "source": [
        "import datetime\n",
        "now = datetime.datetime.now()\n",
        "\n",
        "description = input('Add an optional description to the result file: ')\n",
        "filepath = f'{workDir}/results/{round(now.timestamp())}_sb_result_{description}.txt'\n",
        "np.savetxt(filepath, pr_test, fmt='%i', )"
      ],
      "execution_count": 0,
      "outputs": [
        {
          "output_type": "stream",
          "text": [
            "Add an optional description to the result file: simple\n"
          ],
          "name": "stdout"
        }
      ]
    },
    {
      "cell_type": "code",
      "metadata": {
        "id": "_shn5s-RKgr7",
        "colab_type": "code",
        "colab": {}
      },
      "source": [
        ""
      ],
      "execution_count": 0,
      "outputs": []
    }
  ]
}