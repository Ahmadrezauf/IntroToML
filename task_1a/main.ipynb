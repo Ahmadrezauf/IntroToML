{
 "cells": [
  {
   "cell_type": "markdown",
   "metadata": {},
   "source": [
    "## 10-fold Cross-validation with Ridge regression"
   ]
  },
  {
   "cell_type": "code",
   "execution_count": 1,
   "metadata": {},
   "outputs": [],
   "source": [
    "# import libraries\n",
    "\n",
    "import numpy as np\n",
    "import pandas as pd\n",
    "from sklearn.metrics import mean_squared_error\n",
    "from sklearn import linear_model\n",
    "from sklearn.model_selection import cross_validate\n",
    "from sklearn.metrics import mean_squared_error\n",
    "from sklearn.metrics import make_scorer"
   ]
  },
  {
   "cell_type": "code",
   "execution_count": 2,
   "metadata": {},
   "outputs": [],
   "source": [
    "# define constants\n",
    "\n",
    "folds = 10\n",
    "regularization_parameter = np.array([0.01, 0.1, 1, 10, 100])"
   ]
  },
  {
   "cell_type": "code",
   "execution_count": 3,
   "metadata": {},
   "outputs": [
    {
     "name": "stdout",
     "output_type": "stream",
     "text": [
      "<class 'pandas.core.frame.DataFrame'>\n",
      "RangeIndex: 506 entries, 0 to 505\n",
      "Data columns (total 13 columns):\n",
      " #   Column  Non-Null Count  Dtype  \n",
      "---  ------  --------------  -----  \n",
      " 0   x1      506 non-null    float64\n",
      " 1   x2      506 non-null    float64\n",
      " 2   x3      506 non-null    float64\n",
      " 3   x4      506 non-null    float64\n",
      " 4   x5      506 non-null    float64\n",
      " 5   x6      506 non-null    float64\n",
      " 6   x7      506 non-null    float64\n",
      " 7   x8      506 non-null    float64\n",
      " 8   x9      506 non-null    float64\n",
      " 9   x10     506 non-null    float64\n",
      " 10  x11     506 non-null    float64\n",
      " 11  x12     506 non-null    float64\n",
      " 12  x13     506 non-null    float64\n",
      "dtypes: float64(13)\n",
      "memory usage: 51.5 KB\n",
      "<class 'pandas.core.frame.DataFrame'>\n",
      "RangeIndex: 506 entries, 0 to 505\n",
      "Data columns (total 1 columns):\n",
      " #   Column  Non-Null Count  Dtype  \n",
      "---  ------  --------------  -----  \n",
      " 0   y       506 non-null    float64\n",
      "dtypes: float64(1)\n",
      "memory usage: 4.1 KB\n"
     ]
    }
   ],
   "source": [
    "# load training data\n",
    "\n",
    "# load data from csv file\n",
    "data_frame = pd.read_csv ('train.csv')\n",
    "x_values = data_frame[['x1','x2', 'x3', 'x4', 'x5', 'x6', 'x7', 'x8','x9','x10','x11','x12','x13']]\n",
    "y_values = data_frame[['y']]\n",
    "\n",
    "# visualize data\n",
    "x_values.info()\n",
    "y_values.info()"
   ]
  },
  {
   "cell_type": "code",
   "execution_count": 4,
   "metadata": {},
   "outputs": [],
   "source": [
    "# 10-fold cross validation with ridge regression\n",
    "results = []\n",
    "\n",
    "for i in range(0 , len(regularization_parameter)):\n",
    "    ridge_ridgr = linear_model.Ridge(alpha = regularization_parameter[i], normalize= False, fit_intercept = False, max_iter=100000)\n",
    "\n",
    "    cv_results = cross_validate(ridge_ridgr, x_values, y_values, cv = folds, scoring = 'neg_root_mean_squared_error')\n",
    "    results.append(np.mean((-1)*cv_results['test_score']))"
   ]
  },
  {
   "cell_type": "code",
   "execution_count": 5,
   "metadata": {},
   "outputs": [],
   "source": [
    "# save to file\n",
    "\n",
    "np.savetxt(\"results.csv\", results, delimiter=\",\")"
   ]
  }
 ],
 "metadata": {
  "kernelspec": {
   "display_name": "Python 3",
   "language": "python",
   "name": "python3"
  },
  "language_info": {
   "codemirror_mode": {
    "name": "ipython",
    "version": 3
   },
   "file_extension": ".py",
   "mimetype": "text/x-python",
   "name": "python",
   "nbconvert_exporter": "python",
   "pygments_lexer": "ipython3",
   "version": "3.7.1"
  }
 },
 "nbformat": 4,
 "nbformat_minor": 4
}
