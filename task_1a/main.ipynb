{
 "cells": [
  {
   "cell_type": "markdown",
   "metadata": {},
   "source": [
    "## 10-fold Cross-validation with Ridge regression"
   ]
  },
  {
   "cell_type": "code",
   "execution_count": 1,
   "metadata": {},
   "outputs": [],
   "source": [
    "# import libraries\n",
    "\n",
    "import numpy as np\n",
    "import matplotlib.pyplot as plt\n",
    "import pandas as pd\n",
    "\n",
    "import sklearn\n",
    "from sklearn.linear_model import Ridge\n",
    "from sklearn.model_selection import train_test_split"
   ]
  },
  {
   "cell_type": "code",
   "execution_count": 2,
   "metadata": {},
   "outputs": [],
   "source": [
    "# define constants\n",
    "\n",
    "folds = 10\n",
    "lamda = np.array([0.01, 0.1, 1, 10, 100])"
   ]
  },
  {
   "cell_type": "code",
   "execution_count": 3,
   "metadata": {},
   "outputs": [
    {
     "name": "stdout",
     "output_type": "stream",
     "text": [
      "   Id     y       x1   x2     x3   x4     x5     x6     x7      x8    x9  \\\n",
      "0   0  22.6  0.06724  0.0   3.24  0.0  0.460  6.333   17.2  5.2146   4.0   \n",
      "1   1  50.0  9.23230  0.0  18.10  0.0  0.631  6.216  100.0  1.1691  24.0   \n",
      "\n",
      "     x10   x11     x12   x13  \n",
      "0  430.0  16.9  375.21  7.34  \n",
      "1  666.0  20.2  366.15  9.53  \n"
     ]
    }
   ],
   "source": [
    "# load training data\n",
    "\n",
    "# load data from csv file\n",
    "data_frame = pd.read_csv ('train.csv')\n",
    "x_values = data_frame[['x1','x2', 'x3', 'x4', 'x5', 'x6', 'x7', 'x8','x9','x10','x11','x12','x13']]\n",
    "y_values = data_frame[['y']]\n",
    "# visualize data\n",
    "print(data_frame[:2])"
   ]
  },
  {
   "cell_type": "code",
   "execution_count": 4,
   "metadata": {},
   "outputs": [],
   "source": [
    "# 10-fold cross validation with ridge regression\n",
    "\n",
    "performance = np.zeros([len(lamda), folds])\n",
    "\n",
    "for i in range(0, len(lamda)):\n",
    "    for j in range(0, folds):\n",
    "        X_train,X_test,y_train,y_test = train_test_split(x_values, y_values, test_size = 1/folds)\n",
    "        ridge_reg = Ridge(alpha = lamda[i], normalize = True)\n",
    "        ridge_reg.fit(X_train, y_train)\n",
    "\n",
    "        y_predict = ridge_reg.predict(X_test)\n",
    "        rmse = np.sqrt(np.mean((y_predict-y_test)**2))\n",
    "        \n",
    "        performance[i,j] = rmse"
   ]
  },
  {
   "cell_type": "code",
   "execution_count": 10,
   "metadata": {},
   "outputs": [],
   "source": [
    "# mean RMSE\n",
    "\n",
    "mean_rmse = np.mean(performance, axis = 1)"
   ]
  },
  {
   "cell_type": "code",
   "execution_count": 12,
   "metadata": {},
   "outputs": [],
   "source": [
    "# save to file\n",
    "\n",
    "np.savetxt(\"sample.csv\", mean_rmse, delimiter=\",\")"
   ]
  },
  {
   "cell_type": "markdown",
   "metadata": {},
   "source": [
    "### evaluate best model on test data"
   ]
  },
  {
   "cell_type": "code",
   "execution_count": 5,
   "metadata": {},
   "outputs": [
    {
     "name": "stdout",
     "output_type": "stream",
     "text": [
      "0\n"
     ]
    },
    {
     "data": {
      "text/plain": [
       "Ridge(alpha=0.01, copy_X=True, fit_intercept=True, max_iter=None,\n",
       "      normalize=True, random_state=None, solver='auto', tol=0.001)"
      ]
     },
     "execution_count": 5,
     "metadata": {},
     "output_type": "execute_result"
    }
   ],
   "source": [
    "# select lamda such that the rmse is minimal\n",
    "lamda_optimal = np.argmin(np.mean(performance, axis = 1))\n",
    "print(lamda_optimal)\n",
    "\n",
    "ridge_reg_model = Ridge(alpha = lamda[lamda_optimal], normalize = True)\n",
    "ridge_reg_model.fit(x_values, y_values)"
   ]
  },
  {
   "cell_type": "code",
   "execution_count": 6,
   "metadata": {},
   "outputs": [],
   "source": [
    "# load test data\n",
    "\n",
    "data_frame = pd.read_csv ('test.csv')\n",
    "x_values_test = data_frame[['x1','x2', 'x3', 'x4', 'x5', 'x6', 'x7', 'x8','x9','x10','x11','x12','x13']]"
   ]
  },
  {
   "cell_type": "code",
   "execution_count": 7,
   "metadata": {},
   "outputs": [],
   "source": [
    "# prediction for test data\n",
    "y_predict_test = ridge_reg_model.predict(x_values)"
   ]
  },
  {
   "cell_type": "code",
   "execution_count": 8,
   "metadata": {},
   "outputs": [],
   "source": [
    "# save predictions\n",
    "\n",
    "results = data_frame[['Id']]\n",
    "y_predict_dataframe = pd.DataFrame(data = y_predict_test, columns= {\"y\"})\n",
    "results.append(y_predict_dataframe)\n",
    "# save to file\n",
    "results.to_csv('results_ns.csv', index = False)"
   ]
  },
  {
   "cell_type": "code",
   "execution_count": null,
   "metadata": {},
   "outputs": [],
   "source": []
  }
 ],
 "metadata": {
  "kernelspec": {
   "display_name": "Python 3",
   "language": "python",
   "name": "python3"
  },
  "language_info": {
   "codemirror_mode": {
    "name": "ipython",
    "version": 3
   },
   "file_extension": ".py",
   "mimetype": "text/x-python",
   "name": "python",
   "nbconvert_exporter": "python",
   "pygments_lexer": "ipython3",
   "version": "3.7.1"
  }
 },
 "nbformat": 4,
 "nbformat_minor": 4
}
