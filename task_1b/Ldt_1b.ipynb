{
 "cells": [
  {
   "cell_type": "code",
   "execution_count": 1,
   "metadata": {},
   "outputs": [],
   "source": [
    "import numpy as np\n",
    "import pandas as pd\n",
    "from sklearn.metrics import mean_squared_error\n",
    "from sklearn import linear_model\n",
    "from sklearn.linear_model import LinearRegression\n",
    "from sklearn.model_selection import cross_validate\n",
    "from sklearn.linear_model import RidgeCV\n",
    "from sklearn.preprocessing import StandardScaler\n",
    "from sklearn import preprocessing"
   ]
  },
  {
   "cell_type": "code",
   "execution_count": 2,
   "metadata": {},
   "outputs": [],
   "source": [
    "dat = pd.read_csv(\"./data/train.csv\", header = 0)\n",
    "y = dat['y']\n",
    "X = dat.iloc[:,2:7]"
   ]
  },
  {
   "cell_type": "code",
   "execution_count": 3,
   "metadata": {},
   "outputs": [],
   "source": [
    "fm2 = np.cos(X)\n",
    "fm3 = np.multiply(X, X)\n",
    "fm4 = np.exp(X)\n",
    "fm5 = pd.DataFrame(np.ones(X.shape[0]))\n",
    "\n",
    "frames = [X, fm3, fm4, fm2, fm5]\n",
    "dat = pd.concat(frames, axis = 1)"
   ]
  },
  {
   "cell_type": "code",
   "execution_count": 4,
   "metadata": {},
   "outputs": [
    {
     "name": "stdout",
     "output_type": "stream",
     "text": [
      "<class 'pandas.core.frame.DataFrame'>\n",
      "RangeIndex: 700 entries, 0 to 699\n",
      "Data columns (total 21 columns):\n",
      "x1    700 non-null float64\n",
      "x2    700 non-null float64\n",
      "x3    700 non-null float64\n",
      "x4    700 non-null float64\n",
      "x5    700 non-null float64\n",
      "x1    700 non-null float64\n",
      "x2    700 non-null float64\n",
      "x3    700 non-null float64\n",
      "x4    700 non-null float64\n",
      "x5    700 non-null float64\n",
      "x1    700 non-null float64\n",
      "x2    700 non-null float64\n",
      "x3    700 non-null float64\n",
      "x4    700 non-null float64\n",
      "x5    700 non-null float64\n",
      "x1    700 non-null float64\n",
      "x2    700 non-null float64\n",
      "x3    700 non-null float64\n",
      "x4    700 non-null float64\n",
      "x5    700 non-null float64\n",
      "0     700 non-null float64\n",
      "dtypes: float64(21)\n",
      "memory usage: 114.9 KB\n"
     ]
    }
   ],
   "source": [
    "# look at dataframe\n",
    "dat.info()"
   ]
  },
  {
   "cell_type": "code",
   "execution_count": 5,
   "metadata": {},
   "outputs": [],
   "source": [
    "# scale all the features\n",
    "min_max_scaler = preprocessing.MinMaxScaler()\n",
    "dat_scaled = min_max_scaler.fit_transform(dat)"
   ]
  },
  {
   "cell_type": "code",
   "execution_count": 6,
   "metadata": {},
   "outputs": [
    {
     "name": "stdout",
     "output_type": "stream",
     "text": [
      "[ 0.11474567 -0.06678273  0.14563605  0.29974673  0.10464111 -0.14308345\n",
      " -0.15877945 -0.07922056 -0.23689053  0.01577394  0.09395678 -0.08811665\n",
      "  0.14189713  0.2698375   0.12425499  0.18535497  0.20101083  0.12142954\n",
      "  0.28011013  0.02590653  0.        ]\n"
     ]
    }
   ],
   "source": [
    "# ridge regression with cross-validation\n",
    "regularization_param = np.linspace(0.01, 100, 1000)\n",
    "\n",
    "ridge_model = RidgeCV(alphas= regularization_param, fit_intercept= False, normalize= True, cv = 10).fit(dat_scaled, y)\n",
    "score = ridge_model.score(dat, y)\n",
    "coefs = ridge_model.coef_\n",
    "\n",
    "print(coefs)"
   ]
  },
  {
   "cell_type": "code",
   "execution_count": 7,
   "metadata": {},
   "outputs": [],
   "source": [
    "# save coefficients\n",
    "np.savetxt(\"results.csv\", coefs, delimiter=\",\")"
   ]
  },
  {
   "cell_type": "code",
   "execution_count": null,
   "metadata": {},
   "outputs": [],
   "source": []
  }
 ],
 "metadata": {
  "kernelspec": {
   "display_name": "Python 3",
   "language": "python",
   "name": "python3"
  },
  "language_info": {
   "codemirror_mode": {
    "name": "ipython",
    "version": 3
   },
   "file_extension": ".py",
   "mimetype": "text/x-python",
   "name": "python",
   "nbconvert_exporter": "python",
   "pygments_lexer": "ipython3",
   "version": "3.5.3"
  }
 },
 "nbformat": 4,
 "nbformat_minor": 4
}
