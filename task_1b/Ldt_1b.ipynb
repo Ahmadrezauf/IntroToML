{
 "cells": [
  {
   "cell_type": "code",
   "execution_count": 175,
   "metadata": {},
   "outputs": [],
   "source": [
    "import numpy as np\n",
    "import pandas as pd\n",
    "from sklearn.metrics import mean_squared_error\n",
    "from sklearn import linear_model\n",
    "from sklearn.linear_model import LinearRegression\n",
    "from sklearn.model_selection import cross_validate\n",
    "from sklearn.linear_model import RidgeCV\n",
    "from sklearn.preprocessing import StandardScaler\n",
    "from sklearn import preprocessing"
   ]
  },
  {
   "cell_type": "code",
   "execution_count": 4,
   "metadata": {},
   "outputs": [],
   "source": [
    "dat = pd.read_csv(\"./data/train.csv\", header = 0)\n",
    "y = dat['y']\n",
    "X = dat.iloc[:,2:7]"
   ]
  },
  {
   "cell_type": "code",
   "execution_count": 167,
   "metadata": {},
   "outputs": [],
   "source": [
    "fm2 = np.cos(X)\n",
    "fm3 = np.multiply(X, X)\n",
    "fm4 = np.exp(X)\n",
    "fm5 = pd.DataFrame(np.ones(X.shape[0]))\n",
    "\n",
    "frames = [X, fm3, fm4, fm2, fm5]\n",
    "dat = pd.concat(frames, axis = 1)"
   ]
  },
  {
   "cell_type": "code",
   "execution_count": 168,
   "metadata": {},
   "outputs": [],
   "source": [
    "# X.shape\n",
    "# fm2.shape\n",
    "\n",
    "# fm3.shape\n",
    "\n",
    "# fm4.shape\n",
    "\n",
    "# fm5.shape\n",
    "num = list(range(1,22))\n",
    "res = list(map(str,num)) \n",
    "res = np.core.defchararray.add(\"V\", res)\n",
    "dat.columns = res"
   ]
  },
  {
   "cell_type": "code",
   "execution_count": 177,
   "metadata": {},
   "outputs": [
    {
     "data": {
      "text/plain": [
       "array([[ 0.56145185,  0.87201635, -0.36262526, -0.98446682, -0.45765522],\n",
       "       [-0.52084013,  1.37180739, -0.24260745, -0.05438152,  0.49183693],\n",
       "       [ 0.99436864,  0.95531486, -0.12258963, -0.85159749,  0.49183693],\n",
       "       ...,\n",
       "       [-1.53097931, -1.37704329,  0.59751728, -0.25368551,  0.11204007],\n",
       "       [ 1.78804942,  1.37180739,  0.11744601,  0.07848781,  0.3019385 ],\n",
       "       [-0.23222894, -0.29416272, -0.00257181, -0.85159749, -0.07785836]])"
      ]
     },
     "execution_count": 177,
     "metadata": {},
     "output_type": "execute_result"
    }
   ],
   "source": []
  },
  {
   "cell_type": "code",
   "execution_count": 192,
   "metadata": {
    "scrolled": false
   },
   "outputs": [
    {
     "data": {
      "text/plain": [
       "-0.04566672740082567"
      ]
     },
     "execution_count": 192,
     "metadata": {},
     "output_type": "execute_result"
    }
   ],
   "source": [
    "ridgr_parameter = [0.001, 0.01, 0.1, 1, 1.1, 1.4, 1.5, 2, 2.5, 3, 3.5, 4, 4.5, 5, 5.5, 6, 7, 8, 9, 10, 15, 20, 30, 50, 70, 100]\n",
    "coefs = []\n",
    "score = 0\n",
    "for i in range(len(frames)):\n",
    "#     quantile_transformer = preprocessing.QuantileTransformer(random_state=0)\n",
    "#     X_scaled = quantile_transformer.fit_transform(frames[i])\n",
    "    min_max_scaler = preprocessing.MinMaxScaler()\n",
    "    X_scaled = min_max_scaler.fit_transform(frames[i])\n",
    "#     X_scaled = preprocessing.scale(frames[i])\n",
    "    \n",
    "    tmpRidge = RidgeCV(alphas= ridgr_parameter, fit_intercept= False, normalize= True, cv = 10).fit(X_scaled, y)\n",
    "#     print(tmpRidge.score(X_scaled, y))\n",
    "#     print(tmpRidge.alpha_)\n",
    "    \n",
    "    score += tmpRidge.score(X_scaled, y)\n",
    "    \n",
    "    coefs.extend(tmpRidge.coef_)\n",
    "#     print(coefs)\n",
    "score"
   ]
  },
  {
   "cell_type": "code",
   "execution_count": 193,
   "metadata": {
    "scrolled": false
   },
   "outputs": [
    {
     "data": {
      "text/plain": [
       "[0.39968649828132297,\n",
       " -0.15422323870973376,\n",
       " 0.5160065361755144,\n",
       " 1.1006020938076584,\n",
       " 0.40833644609348146,\n",
       " 0.259497772966346,\n",
       " 0.2215580421355792,\n",
       " 0.27029733928792293,\n",
       " 0.9763728230946705,\n",
       " 0.14100258707785157,\n",
       " 0.450912912452527,\n",
       " -0.3185111490047241,\n",
       " 0.6005718350561345,\n",
       " 1.3925945294025601,\n",
       " 0.5533162005767213,\n",
       " 0.25456039895146876,\n",
       " 0.2581134325637713,\n",
       " 0.1977610004140137,\n",
       " 0.45475740758224337,\n",
       " 0.0726978999076783,\n",
       " 0.0]"
      ]
     },
     "execution_count": 193,
     "metadata": {},
     "output_type": "execute_result"
    }
   ],
   "source": [
    "#np.savetxt(\"results.csv\", tmpRidge.coef_, delimiter=\",\")\n",
    "list(coefs)\n",
    "#np.savetxt(\"results.csv\", coefs, delimiter=\",\")"
   ]
  },
  {
   "cell_type": "code",
   "execution_count": 159,
   "metadata": {},
   "outputs": [],
   "source": [
    "ridgr_parameter = [0.001, 0.01, 0.1, 1, 1.1, 1.4, 1.5, 2, 2.5, 3, 3.5, 4, 4.5, 5, 5.5, 6, 6.5, 7, 10,15]\n",
    "tmpRidge = RidgeCV(alphas= ridgr_parameter, fit_intercept= False, normalize= True, cv = 10).fit(dat, y)\n",
    "tmpRidge.score(dat, y)\n",
    "tmpRidge.coef_\n",
    "#tmp = linear_model.Ridge(alpha = ridgr_parameter[3], normalize= True, fit_intercept = False,\n",
    "#                                     max_iter=100000, tol = 1e-8, solver = 'auto'))\n",
    "\n",
    "np.savetxt(\"results.csv\", coefs, delimiter=\",\")"
   ]
  },
  {
   "cell_type": "code",
   "execution_count": 160,
   "metadata": {},
   "outputs": [
    {
     "name": "stdout",
     "output_type": "stream",
     "text": [
      "15.0\n"
     ]
    },
    {
     "data": {
      "text/plain": [
       "array([ 0.4051243 , -0.31297052,  0.43481796,  1.11581142,  0.30389428,\n",
       "       -0.24292625, -0.2483427 , -0.07108757, -0.25231611,  0.03318921,\n",
       "        0.25592285, -0.45803371,  0.37180969,  0.99705097,  0.28772944,\n",
       "        0.09202115,  0.09489789,  0.00736052,  0.09602673, -0.04405375,\n",
       "       -0.02814898])"
      ]
     },
     "execution_count": 160,
     "metadata": {},
     "output_type": "execute_result"
    }
   ],
   "source": [
    "print(tmpRidge.alpha_)\n",
    "tmpRidge.score(dat, y)\n",
    "tmpRidge.coef_"
   ]
  }
 ],
 "metadata": {
  "kernelspec": {
   "display_name": "Python 3",
   "language": "python",
   "name": "python3"
  },
  "language_info": {
   "codemirror_mode": {
    "name": "ipython",
    "version": 3
   },
   "file_extension": ".py",
   "mimetype": "text/x-python",
   "name": "python",
   "nbconvert_exporter": "python",
   "pygments_lexer": "ipython3",
   "version": "3.7.5"
  }
 },
 "nbformat": 4,
 "nbformat_minor": 2
}
