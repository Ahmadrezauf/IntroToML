{
 "cells": [
  {
   "cell_type": "code",
   "execution_count": 1,
   "metadata": {},
   "outputs": [],
   "source": [
    "import pandas as pd\n",
    "import numpy as np\n",
    "from sklearn.impute import SimpleImputer\n",
    "\n",
    "from sklearn.svm import LinearSVR\n",
    "from sklearn.svm import SVR\n"
   ]
  },
  {
   "cell_type": "markdown",
   "metadata": {},
   "source": [
    "# Data Loading"
   ]
  },
  {
   "cell_type": "code",
   "execution_count": 2,
   "metadata": {},
   "outputs": [],
   "source": [
    "dat = pd.read_csv(filepath_or_buffer= \"./train_features.csv\")\n",
    "age = pd.Series(dat.Age.values,index=dat.pid).to_dict()\n",
    "pids = list(set(dat.pid))\n",
    "column_names = list(dat)\n",
    "dat_by_id = dat.groupby('pid')"
   ]
  },
  {
   "cell_type": "code",
   "execution_count": 3,
   "metadata": {},
   "outputs": [
    {
     "data": {
      "text/plain": [
       "pid                       0\n",
       "LABEL_BaseExcess          0\n",
       "LABEL_Fibrinogen          0\n",
       "LABEL_AST                 0\n",
       "LABEL_Alkalinephos        0\n",
       "LABEL_Bilirubin_total     0\n",
       "LABEL_Lactate             0\n",
       "LABEL_TroponinI           0\n",
       "LABEL_SaO2                0\n",
       "LABEL_Bilirubin_direct    0\n",
       "LABEL_EtCO2               0\n",
       "LABEL_Sepsis              0\n",
       "LABEL_RRate               0\n",
       "LABEL_ABPm                0\n",
       "LABEL_SpO2                0\n",
       "LABEL_Heartrate           0\n",
       "dtype: int64"
      ]
     },
     "execution_count": 3,
     "metadata": {},
     "output_type": "execute_result"
    }
   ],
   "source": [
    "# Loading the labels\n",
    "labs = pd.read_csv(\"./train_labels.csv\")\n",
    "labs.isna().sum()\n",
    "# No NAs"
   ]
  },
  {
   "cell_type": "markdown",
   "metadata": {},
   "source": [
    "### Histogram of the output labels "
   ]
  },
  {
   "cell_type": "markdown",
   "metadata": {},
   "source": [
    "We should check for class imbalance."
   ]
  },
  {
   "cell_type": "code",
   "execution_count": null,
   "metadata": {},
   "outputs": [],
   "source": []
  },
  {
   "cell_type": "markdown",
   "metadata": {},
   "source": [
    "### Loading the test data"
   ]
  },
  {
   "cell_type": "code",
   "execution_count": 4,
   "metadata": {},
   "outputs": [],
   "source": [
    "test = pd.read_csv(\"./test_features.csv\")\n",
    "test_pids = list(set(test.pid))\n",
    "test_column_names = list(test)\n",
    "test_by_id = test.groupby('pid')"
   ]
  },
  {
   "cell_type": "markdown",
   "metadata": {},
   "source": [
    "### Data Aggregation"
   ]
  },
  {
   "cell_type": "code",
   "execution_count": 5,
   "metadata": {},
   "outputs": [],
   "source": [
    "selected_col_names = [j + str(i) for j in column_names[3:] for i in range(12)]\n",
    "#[ + str(i) for i in range(37)]"
   ]
  },
  {
   "cell_type": "code",
   "execution_count": 6,
   "metadata": {},
   "outputs": [],
   "source": [
    "out = dat_by_id.get_group(pids[0])[column_names[3:]].stack(dropna = False).transpose().to_list()"
   ]
  },
  {
   "cell_type": "code",
   "execution_count": 7,
   "metadata": {},
   "outputs": [],
   "source": [
    "# # This block is for stacking the time-series next to each-other\n",
    "# rows = []\n",
    "# for i in pids:\n",
    "#     rows.append(dat_by_id.get_group(i)[column_names[3:]].stack(dropna = False).transpose().to_list())\n",
    "# dat_agg = pd.DataFrame(rows, columns = selected_col_names)\n",
    "# print(dat_agg)"
   ]
  },
  {
   "cell_type": "code",
   "execution_count": 8,
   "metadata": {},
   "outputs": [],
   "source": [
    "dat_summarystat = dat.describe()\n",
    "dat_median = dat_summarystat.loc['50%',]\n",
    "\n",
    "test_summarystat = test.describe()\n",
    "test_median = test_summarystat.loc['50%',]"
   ]
  },
  {
   "cell_type": "code",
   "execution_count": 9,
   "metadata": {},
   "outputs": [
    {
     "name": "stdout",
     "output_type": "stream",
     "text": [
      "pid                   1.00\n",
      "Time                  8.50\n",
      "Age                  34.00\n",
      "EtCO2                  NaN\n",
      "PTT                    NaN\n",
      "BUN                  12.00\n",
      "Lactate                NaN\n",
      "Temp                 37.00\n",
      "Hgb                   8.50\n",
      "HCO3                 26.00\n",
      "BaseExcess            0.00\n",
      "RRate                18.00\n",
      "Fibrinogen             NaN\n",
      "Phosphate             4.60\n",
      "WBC                   4.70\n",
      "Creatinine            0.50\n",
      "PaCO2                43.00\n",
      "AST                    NaN\n",
      "FiO2                  0.40\n",
      "Platelets           143.00\n",
      "SaO2                   NaN\n",
      "Glucose             120.00\n",
      "ABPm                 67.50\n",
      "Magnesium             1.80\n",
      "Potassium             4.10\n",
      "ABPd                 48.50\n",
      "Calcium               7.60\n",
      "Alkalinephos           NaN\n",
      "SpO2                100.00\n",
      "Bilirubin_direct       NaN\n",
      "Chloride            111.00\n",
      "Hct                  23.10\n",
      "Heartrate            75.00\n",
      "Bilirubin_total        NaN\n",
      "TroponinI              NaN\n",
      "ABPs                111.00\n",
      "pH                    7.37\n",
      "dtype: float64\n",
      "[1.0, 8.5, 34.0, 33.0, 32.2, 12.0, 2.1, 37.0, 8.5, 26.0, 0.0, 18.0, 233.0, 4.6, 4.7, 0.5, 43.0, 36.0, 0.4, 143.0, 97.0, 120.0, 67.5, 1.8, 4.1, 48.5, 7.6, 72.0, 100.0, 0.3, 111.0, 23.1, 75.0, 0.8, 0.15, 111.0, 7.37]\n"
     ]
    },
    {
     "name": "stderr",
     "output_type": "stream",
     "text": [
      "/Users/ahmadrezayousefkhani/Library/Python/3.7/lib/python/site-packages/numpy/lib/nanfunctions.py:1116: RuntimeWarning: All-NaN slice encountered\n",
      "  overwrite_input=overwrite_input)\n"
     ]
    }
   ],
   "source": [
    "# Taking the median for each feature\n",
    "# Sample for one vector\n",
    "temp_dat = dat_by_id.get_group(pids[0])\n",
    "tmp_median = temp_dat.median(skipna = True)\n",
    "print(tmp_median)\n",
    "tmp_median[tmp_median.isna()] = dat_median[tmp_median.isna()]\n",
    "print(tmp_median.to_list())"
   ]
  },
  {
   "cell_type": "markdown",
   "metadata": {},
   "source": [
    "### Train dataset aggregation"
   ]
  },
  {
   "cell_type": "code",
   "execution_count": 10,
   "metadata": {},
   "outputs": [
    {
     "name": "stdout",
     "output_type": "stream",
     "text": [
      "           pid  Time   Age  EtCO2   PTT   BUN  Lactate  Temp    Hgb  HCO3  \\\n",
      "0          1.0   8.5  34.0   33.0  32.2  12.0      2.1  37.0   8.50  26.0   \n",
      "1          2.0   6.5  86.0   33.0  31.8  32.0      2.1  36.0  13.10  23.9   \n",
      "2          4.0   6.5  66.0   33.0  34.6   8.0      2.1  37.0  10.55  23.9   \n",
      "3          6.0   7.5  66.0   33.0  53.8  32.0      1.8  38.0  10.60  19.5   \n",
      "4          8.0   6.5  42.0   33.0  32.2  18.0      2.1  36.0  10.50  23.9   \n",
      "...        ...   ...   ...    ...   ...   ...      ...   ...    ...   ...   \n",
      "18990  31653.0   6.5  52.0   33.0  25.8  11.0      1.7  36.0   9.10  23.0   \n",
      "18991  31654.0   6.5  66.0   33.0  32.2  33.0      2.1  37.5  11.20  23.9   \n",
      "18992  31656.0   6.5  44.0   33.0  32.2  15.0      2.1  38.0  12.40  24.0   \n",
      "18993  31657.0   6.5  70.0   33.0  32.2  17.0      2.1  36.5  10.50  23.9   \n",
      "18994  31658.0   6.5  60.0   33.0  32.2  13.0      2.1  36.5  14.40  23.9   \n",
      "\n",
      "       ...  Alkalinephos   SpO2  Bilirubin_direct  Chloride    Hct  Heartrate  \\\n",
      "0      ...          72.0  100.0               0.3     111.0  23.10       75.0   \n",
      "1      ...          72.0   96.0               0.3     107.0  40.20       59.0   \n",
      "2      ...         130.0  100.0               0.1     107.0  33.55       72.0   \n",
      "3      ...          72.0  100.0               0.3     113.5  30.45       88.0   \n",
      "4      ...          72.0   98.0               0.3     107.0  30.90       81.0   \n",
      "...    ...           ...    ...               ...       ...    ...        ...   \n",
      "18990  ...          72.0   96.0               0.3     106.0  32.90      102.0   \n",
      "18991  ...          72.0   96.0               0.3     107.0  34.60       90.0   \n",
      "18992  ...          72.0  100.0               0.3      97.0  36.70       97.5   \n",
      "18993  ...          72.0   99.0               0.3     107.0  30.90       64.0   \n",
      "18994  ...          72.0   96.0               0.3     107.0  40.20       71.0   \n",
      "\n",
      "       Bilirubin_total  TroponinI   ABPs     pH  \n",
      "0                  0.8       0.15  111.0  7.370  \n",
      "1                  0.8       0.44  129.0  7.370  \n",
      "2                  0.6       0.02  124.0  7.370  \n",
      "3                  0.8       0.15   99.0  7.350  \n",
      "4                  0.8       0.08  209.0  7.370  \n",
      "...                ...        ...    ...    ...  \n",
      "18990              0.8       0.15   87.0  7.330  \n",
      "18991              0.8       0.15  163.0  7.370  \n",
      "18992              0.8       0.15   98.0  7.305  \n",
      "18993              0.8       0.15  109.0  7.370  \n",
      "18994              0.8       0.15  135.0  7.370  \n",
      "\n",
      "[18995 rows x 37 columns]\n"
     ]
    }
   ],
   "source": [
    "rows = []\n",
    "for i in pids:\n",
    "    temp_dat = dat_by_id.get_group(i)\n",
    "    tmp_median = temp_dat.median(skipna = True)\n",
    "    tmp_idx = tmp_median.isna()\n",
    "    tmp_median[tmp_idx] = dat_median[tmp_idx]\n",
    "    rows.append(tmp_median)\n",
    "dat_agg = pd.DataFrame(rows, columns = list(dat))\n",
    "print(dat_agg)"
   ]
  },
  {
   "cell_type": "markdown",
   "metadata": {},
   "source": [
    "### Test data aggregation"
   ]
  },
  {
   "cell_type": "code",
   "execution_count": 11,
   "metadata": {},
   "outputs": [
    {
     "name": "stderr",
     "output_type": "stream",
     "text": [
      "/Users/ahmadrezayousefkhani/Library/Python/3.7/lib/python/site-packages/numpy/lib/nanfunctions.py:1116: RuntimeWarning: All-NaN slice encountered\n",
      "  overwrite_input=overwrite_input)\n"
     ]
    },
    {
     "name": "stdout",
     "output_type": "stream",
     "text": [
      "           pid  Time   Age  EtCO2    PTT   BUN  Lactate  Temp    Hgb  HCO3  \\\n",
      "0          0.0   6.5  39.0   33.0  41.35  18.5      2.1  36.0   9.65  14.5   \n",
      "1          3.0   6.5  84.0   33.0  32.20  17.0      2.1  35.0  10.50  23.9   \n",
      "2          5.0   6.5  62.0   33.0  32.20  17.0      2.1  37.0  10.50  23.9   \n",
      "3          7.0   6.5  71.0   33.0  41.80  21.0      2.1  36.0   8.70  25.0   \n",
      "4          9.0   6.5  51.0   33.0  35.40  47.0      2.1  36.5  10.30  22.0   \n",
      "...        ...   ...   ...    ...    ...   ...      ...   ...    ...   ...   \n",
      "12659  31647.0   6.5  29.0   33.0  32.20  17.0      2.1  37.0  10.50  23.9   \n",
      "12660  31649.0   6.5  83.0   33.0  28.80  22.0      2.2  36.0  12.30  24.0   \n",
      "12661  31651.0   6.5  74.0   33.0  32.40  38.5      2.1  35.5  10.45  31.5   \n",
      "12662  31652.0   6.5  40.0   33.0  32.20  11.0      2.1  37.0  11.05  23.9   \n",
      "12663  31655.0   6.5  23.0   33.0  56.80  17.0      2.1  37.0  11.80  23.9   \n",
      "\n",
      "       ...  Alkalinephos   SpO2  Bilirubin_direct  Chloride    Hct  Heartrate  \\\n",
      "0      ...         114.0  100.0              0.30     100.0  28.45       84.0   \n",
      "1      ...          72.0   97.0              0.30     107.0  30.90       98.5   \n",
      "2      ...          72.0   96.0              0.30     107.0  30.90       65.0   \n",
      "3      ...         106.0  100.0              1.25     101.0  24.30       96.0   \n",
      "4      ...          72.0   96.0              0.30     103.0  33.70       93.0   \n",
      "...    ...           ...    ...               ...       ...    ...        ...   \n",
      "12659  ...          72.0   97.0              0.30     107.0  30.90       72.0   \n",
      "12660  ...          64.0   98.0              0.30     106.0  36.80       90.0   \n",
      "12661  ...          72.0  100.0              0.30      98.5  29.85       80.0   \n",
      "12662  ...          72.0   99.0              0.30     107.0  33.50      136.0   \n",
      "12663  ...          72.0  100.0              0.30     107.0  37.10      117.0   \n",
      "\n",
      "       Bilirubin_total  TroponinI   ABPs    pH  \n",
      "0                 24.1      0.150  127.0  7.37  \n",
      "1                  0.8      0.150  100.0  7.37  \n",
      "2                  0.8      0.150  105.0  7.37  \n",
      "3                  1.9      0.150  130.0  7.38  \n",
      "4                  0.8      0.150  129.0  7.37  \n",
      "...                ...        ...    ...   ...  \n",
      "12659              0.8      0.150  108.0  7.37  \n",
      "12660              0.4      0.150  117.0  7.26  \n",
      "12661              0.8      0.150  118.0  7.38  \n",
      "12662              0.8      0.010  132.5  7.37  \n",
      "12663              0.8      6.735  119.0  7.37  \n",
      "\n",
      "[12664 rows x 37 columns]\n"
     ]
    }
   ],
   "source": [
    "rows = []\n",
    "for i in test_pids:\n",
    "    temp_dat = test_by_id.get_group(i)\n",
    "    tmp_median = temp_dat.median(skipna = True)\n",
    "    tmp_idx = tmp_median.isna()\n",
    "    tmp_median[tmp_idx] = dat_median[tmp_idx]\n",
    "    rows.append(tmp_median)\n",
    "test_agg = pd.DataFrame(rows, columns = list(dat))\n",
    "print(test_agg)"
   ]
  },
  {
   "cell_type": "markdown",
   "metadata": {},
   "source": [
    "# Imputation"
   ]
  },
  {
   "cell_type": "code",
   "execution_count": 12,
   "metadata": {},
   "outputs": [
    {
     "data": {
      "text/plain": [
       "32.983969465648855"
      ]
     },
     "execution_count": 12,
     "metadata": {},
     "output_type": "execute_result"
    }
   ],
   "source": [
    "dat_agg.EtCO2.mean()"
   ]
  },
  {
   "cell_type": "code",
   "execution_count": 13,
   "metadata": {},
   "outputs": [],
   "source": [
    "# # Simple imputation\n",
    "# imp_mean = SimpleImputer(missing_values=np.nan, strategy='mean')\n",
    "# dat_agg_imputed = imp_mean.fit_transform(X = dat_agg, y = labs)\n",
    "# dat_agg_imputed = pd.DataFrame(dat_agg_imputed, columns = selected_col_names)\n",
    "\n",
    "# Imputing with the median\n",
    "# Was done before\n",
    "dat_agg_imputed = dat_agg"
   ]
  },
  {
   "cell_type": "code",
   "execution_count": 14,
   "metadata": {},
   "outputs": [
    {
     "name": "stdout",
     "output_type": "stream",
     "text": [
      "0\n",
      "(18995, 37)\n"
     ]
    }
   ],
   "source": [
    "print(dat_agg_imputed.isna().sum().sum())\n",
    "print(dat_agg_imputed.shape)"
   ]
  },
  {
   "cell_type": "markdown",
   "metadata": {},
   "source": [
    "# Feature Generation"
   ]
  },
  {
   "cell_type": "code",
   "execution_count": null,
   "metadata": {},
   "outputs": [],
   "source": []
  },
  {
   "cell_type": "markdown",
   "metadata": {},
   "source": [
    "# Class Imbalance"
   ]
  },
  {
   "cell_type": "code",
   "execution_count": null,
   "metadata": {},
   "outputs": [],
   "source": []
  },
  {
   "cell_type": "markdown",
   "metadata": {},
   "source": [
    "# Prediction"
   ]
  },
  {
   "cell_type": "code",
   "execution_count": 15,
   "metadata": {},
   "outputs": [
    {
     "data": {
      "text/html": [
       "<div>\n",
       "<style scoped>\n",
       "    .dataframe tbody tr th:only-of-type {\n",
       "        vertical-align: middle;\n",
       "    }\n",
       "\n",
       "    .dataframe tbody tr th {\n",
       "        vertical-align: top;\n",
       "    }\n",
       "\n",
       "    .dataframe thead th {\n",
       "        text-align: right;\n",
       "    }\n",
       "</style>\n",
       "<table border=\"1\" class=\"dataframe\">\n",
       "  <thead>\n",
       "    <tr style=\"text-align: right;\">\n",
       "      <th></th>\n",
       "      <th>EtCO2</th>\n",
       "      <th>PTT</th>\n",
       "      <th>BUN</th>\n",
       "      <th>Lactate</th>\n",
       "      <th>Temp</th>\n",
       "      <th>Hgb</th>\n",
       "      <th>HCO3</th>\n",
       "      <th>BaseExcess</th>\n",
       "      <th>RRate</th>\n",
       "      <th>Fibrinogen</th>\n",
       "      <th>...</th>\n",
       "      <th>Alkalinephos</th>\n",
       "      <th>SpO2</th>\n",
       "      <th>Bilirubin_direct</th>\n",
       "      <th>Chloride</th>\n",
       "      <th>Hct</th>\n",
       "      <th>Heartrate</th>\n",
       "      <th>Bilirubin_total</th>\n",
       "      <th>TroponinI</th>\n",
       "      <th>ABPs</th>\n",
       "      <th>pH</th>\n",
       "    </tr>\n",
       "  </thead>\n",
       "  <tbody>\n",
       "    <tr>\n",
       "      <th>0</th>\n",
       "      <td>33.0</td>\n",
       "      <td>32.2</td>\n",
       "      <td>12.0</td>\n",
       "      <td>2.1</td>\n",
       "      <td>37.0</td>\n",
       "      <td>8.50</td>\n",
       "      <td>26.0</td>\n",
       "      <td>0.0</td>\n",
       "      <td>18.0</td>\n",
       "      <td>233.0</td>\n",
       "      <td>...</td>\n",
       "      <td>72.0</td>\n",
       "      <td>100.0</td>\n",
       "      <td>0.3</td>\n",
       "      <td>111.0</td>\n",
       "      <td>23.10</td>\n",
       "      <td>75.0</td>\n",
       "      <td>0.8</td>\n",
       "      <td>0.15</td>\n",
       "      <td>111.0</td>\n",
       "      <td>7.370</td>\n",
       "    </tr>\n",
       "    <tr>\n",
       "      <th>1</th>\n",
       "      <td>33.0</td>\n",
       "      <td>31.8</td>\n",
       "      <td>32.0</td>\n",
       "      <td>2.1</td>\n",
       "      <td>36.0</td>\n",
       "      <td>13.10</td>\n",
       "      <td>23.9</td>\n",
       "      <td>-1.0</td>\n",
       "      <td>19.0</td>\n",
       "      <td>233.0</td>\n",
       "      <td>...</td>\n",
       "      <td>72.0</td>\n",
       "      <td>96.0</td>\n",
       "      <td>0.3</td>\n",
       "      <td>107.0</td>\n",
       "      <td>40.20</td>\n",
       "      <td>59.0</td>\n",
       "      <td>0.8</td>\n",
       "      <td>0.44</td>\n",
       "      <td>129.0</td>\n",
       "      <td>7.370</td>\n",
       "    </tr>\n",
       "    <tr>\n",
       "      <th>2</th>\n",
       "      <td>33.0</td>\n",
       "      <td>34.6</td>\n",
       "      <td>8.0</td>\n",
       "      <td>2.1</td>\n",
       "      <td>37.0</td>\n",
       "      <td>10.55</td>\n",
       "      <td>23.9</td>\n",
       "      <td>-1.0</td>\n",
       "      <td>14.0</td>\n",
       "      <td>233.0</td>\n",
       "      <td>...</td>\n",
       "      <td>130.0</td>\n",
       "      <td>100.0</td>\n",
       "      <td>0.1</td>\n",
       "      <td>107.0</td>\n",
       "      <td>33.55</td>\n",
       "      <td>72.0</td>\n",
       "      <td>0.6</td>\n",
       "      <td>0.02</td>\n",
       "      <td>124.0</td>\n",
       "      <td>7.370</td>\n",
       "    </tr>\n",
       "    <tr>\n",
       "      <th>3</th>\n",
       "      <td>33.0</td>\n",
       "      <td>53.8</td>\n",
       "      <td>32.0</td>\n",
       "      <td>1.8</td>\n",
       "      <td>38.0</td>\n",
       "      <td>10.60</td>\n",
       "      <td>19.5</td>\n",
       "      <td>-3.0</td>\n",
       "      <td>13.5</td>\n",
       "      <td>233.0</td>\n",
       "      <td>...</td>\n",
       "      <td>72.0</td>\n",
       "      <td>100.0</td>\n",
       "      <td>0.3</td>\n",
       "      <td>113.5</td>\n",
       "      <td>30.45</td>\n",
       "      <td>88.0</td>\n",
       "      <td>0.8</td>\n",
       "      <td>0.15</td>\n",
       "      <td>99.0</td>\n",
       "      <td>7.350</td>\n",
       "    </tr>\n",
       "    <tr>\n",
       "      <th>4</th>\n",
       "      <td>33.0</td>\n",
       "      <td>32.2</td>\n",
       "      <td>18.0</td>\n",
       "      <td>2.1</td>\n",
       "      <td>36.0</td>\n",
       "      <td>10.50</td>\n",
       "      <td>23.9</td>\n",
       "      <td>-1.0</td>\n",
       "      <td>18.0</td>\n",
       "      <td>233.0</td>\n",
       "      <td>...</td>\n",
       "      <td>72.0</td>\n",
       "      <td>98.0</td>\n",
       "      <td>0.3</td>\n",
       "      <td>107.0</td>\n",
       "      <td>30.90</td>\n",
       "      <td>81.0</td>\n",
       "      <td>0.8</td>\n",
       "      <td>0.08</td>\n",
       "      <td>209.0</td>\n",
       "      <td>7.370</td>\n",
       "    </tr>\n",
       "    <tr>\n",
       "      <th>...</th>\n",
       "      <td>...</td>\n",
       "      <td>...</td>\n",
       "      <td>...</td>\n",
       "      <td>...</td>\n",
       "      <td>...</td>\n",
       "      <td>...</td>\n",
       "      <td>...</td>\n",
       "      <td>...</td>\n",
       "      <td>...</td>\n",
       "      <td>...</td>\n",
       "      <td>...</td>\n",
       "      <td>...</td>\n",
       "      <td>...</td>\n",
       "      <td>...</td>\n",
       "      <td>...</td>\n",
       "      <td>...</td>\n",
       "      <td>...</td>\n",
       "      <td>...</td>\n",
       "      <td>...</td>\n",
       "      <td>...</td>\n",
       "      <td>...</td>\n",
       "    </tr>\n",
       "    <tr>\n",
       "      <th>18990</th>\n",
       "      <td>33.0</td>\n",
       "      <td>25.8</td>\n",
       "      <td>11.0</td>\n",
       "      <td>1.7</td>\n",
       "      <td>36.0</td>\n",
       "      <td>9.10</td>\n",
       "      <td>23.0</td>\n",
       "      <td>0.0</td>\n",
       "      <td>14.0</td>\n",
       "      <td>633.0</td>\n",
       "      <td>...</td>\n",
       "      <td>72.0</td>\n",
       "      <td>96.0</td>\n",
       "      <td>0.3</td>\n",
       "      <td>106.0</td>\n",
       "      <td>32.90</td>\n",
       "      <td>102.0</td>\n",
       "      <td>0.8</td>\n",
       "      <td>0.15</td>\n",
       "      <td>87.0</td>\n",
       "      <td>7.330</td>\n",
       "    </tr>\n",
       "    <tr>\n",
       "      <th>18991</th>\n",
       "      <td>33.0</td>\n",
       "      <td>32.2</td>\n",
       "      <td>33.0</td>\n",
       "      <td>2.1</td>\n",
       "      <td>37.5</td>\n",
       "      <td>11.20</td>\n",
       "      <td>23.9</td>\n",
       "      <td>-1.0</td>\n",
       "      <td>17.0</td>\n",
       "      <td>233.0</td>\n",
       "      <td>...</td>\n",
       "      <td>72.0</td>\n",
       "      <td>96.0</td>\n",
       "      <td>0.3</td>\n",
       "      <td>107.0</td>\n",
       "      <td>34.60</td>\n",
       "      <td>90.0</td>\n",
       "      <td>0.8</td>\n",
       "      <td>0.15</td>\n",
       "      <td>163.0</td>\n",
       "      <td>7.370</td>\n",
       "    </tr>\n",
       "    <tr>\n",
       "      <th>18992</th>\n",
       "      <td>33.0</td>\n",
       "      <td>32.2</td>\n",
       "      <td>15.0</td>\n",
       "      <td>2.1</td>\n",
       "      <td>38.0</td>\n",
       "      <td>12.40</td>\n",
       "      <td>24.0</td>\n",
       "      <td>-3.5</td>\n",
       "      <td>25.0</td>\n",
       "      <td>233.0</td>\n",
       "      <td>...</td>\n",
       "      <td>72.0</td>\n",
       "      <td>100.0</td>\n",
       "      <td>0.3</td>\n",
       "      <td>97.0</td>\n",
       "      <td>36.70</td>\n",
       "      <td>97.5</td>\n",
       "      <td>0.8</td>\n",
       "      <td>0.15</td>\n",
       "      <td>98.0</td>\n",
       "      <td>7.305</td>\n",
       "    </tr>\n",
       "    <tr>\n",
       "      <th>18993</th>\n",
       "      <td>33.0</td>\n",
       "      <td>32.2</td>\n",
       "      <td>17.0</td>\n",
       "      <td>2.1</td>\n",
       "      <td>36.5</td>\n",
       "      <td>10.50</td>\n",
       "      <td>23.9</td>\n",
       "      <td>-1.0</td>\n",
       "      <td>15.5</td>\n",
       "      <td>233.0</td>\n",
       "      <td>...</td>\n",
       "      <td>72.0</td>\n",
       "      <td>99.0</td>\n",
       "      <td>0.3</td>\n",
       "      <td>107.0</td>\n",
       "      <td>30.90</td>\n",
       "      <td>64.0</td>\n",
       "      <td>0.8</td>\n",
       "      <td>0.15</td>\n",
       "      <td>109.0</td>\n",
       "      <td>7.370</td>\n",
       "    </tr>\n",
       "    <tr>\n",
       "      <th>18994</th>\n",
       "      <td>33.0</td>\n",
       "      <td>32.2</td>\n",
       "      <td>13.0</td>\n",
       "      <td>2.1</td>\n",
       "      <td>36.5</td>\n",
       "      <td>14.40</td>\n",
       "      <td>23.9</td>\n",
       "      <td>-1.0</td>\n",
       "      <td>18.0</td>\n",
       "      <td>233.0</td>\n",
       "      <td>...</td>\n",
       "      <td>72.0</td>\n",
       "      <td>96.0</td>\n",
       "      <td>0.3</td>\n",
       "      <td>107.0</td>\n",
       "      <td>40.20</td>\n",
       "      <td>71.0</td>\n",
       "      <td>0.8</td>\n",
       "      <td>0.15</td>\n",
       "      <td>135.0</td>\n",
       "      <td>7.370</td>\n",
       "    </tr>\n",
       "  </tbody>\n",
       "</table>\n",
       "<p>18995 rows × 34 columns</p>\n",
       "</div>"
      ],
      "text/plain": [
       "       EtCO2   PTT   BUN  Lactate  Temp    Hgb  HCO3  BaseExcess  RRate  \\\n",
       "0       33.0  32.2  12.0      2.1  37.0   8.50  26.0         0.0   18.0   \n",
       "1       33.0  31.8  32.0      2.1  36.0  13.10  23.9        -1.0   19.0   \n",
       "2       33.0  34.6   8.0      2.1  37.0  10.55  23.9        -1.0   14.0   \n",
       "3       33.0  53.8  32.0      1.8  38.0  10.60  19.5        -3.0   13.5   \n",
       "4       33.0  32.2  18.0      2.1  36.0  10.50  23.9        -1.0   18.0   \n",
       "...      ...   ...   ...      ...   ...    ...   ...         ...    ...   \n",
       "18990   33.0  25.8  11.0      1.7  36.0   9.10  23.0         0.0   14.0   \n",
       "18991   33.0  32.2  33.0      2.1  37.5  11.20  23.9        -1.0   17.0   \n",
       "18992   33.0  32.2  15.0      2.1  38.0  12.40  24.0        -3.5   25.0   \n",
       "18993   33.0  32.2  17.0      2.1  36.5  10.50  23.9        -1.0   15.5   \n",
       "18994   33.0  32.2  13.0      2.1  36.5  14.40  23.9        -1.0   18.0   \n",
       "\n",
       "       Fibrinogen  ...  Alkalinephos   SpO2  Bilirubin_direct  Chloride  \\\n",
       "0           233.0  ...          72.0  100.0               0.3     111.0   \n",
       "1           233.0  ...          72.0   96.0               0.3     107.0   \n",
       "2           233.0  ...         130.0  100.0               0.1     107.0   \n",
       "3           233.0  ...          72.0  100.0               0.3     113.5   \n",
       "4           233.0  ...          72.0   98.0               0.3     107.0   \n",
       "...           ...  ...           ...    ...               ...       ...   \n",
       "18990       633.0  ...          72.0   96.0               0.3     106.0   \n",
       "18991       233.0  ...          72.0   96.0               0.3     107.0   \n",
       "18992       233.0  ...          72.0  100.0               0.3      97.0   \n",
       "18993       233.0  ...          72.0   99.0               0.3     107.0   \n",
       "18994       233.0  ...          72.0   96.0               0.3     107.0   \n",
       "\n",
       "         Hct  Heartrate  Bilirubin_total  TroponinI   ABPs     pH  \n",
       "0      23.10       75.0              0.8       0.15  111.0  7.370  \n",
       "1      40.20       59.0              0.8       0.44  129.0  7.370  \n",
       "2      33.55       72.0              0.6       0.02  124.0  7.370  \n",
       "3      30.45       88.0              0.8       0.15   99.0  7.350  \n",
       "4      30.90       81.0              0.8       0.08  209.0  7.370  \n",
       "...      ...        ...              ...        ...    ...    ...  \n",
       "18990  32.90      102.0              0.8       0.15   87.0  7.330  \n",
       "18991  34.60       90.0              0.8       0.15  163.0  7.370  \n",
       "18992  36.70       97.5              0.8       0.15   98.0  7.305  \n",
       "18993  30.90       64.0              0.8       0.15  109.0  7.370  \n",
       "18994  40.20       71.0              0.8       0.15  135.0  7.370  \n",
       "\n",
       "[18995 rows x 34 columns]"
      ]
     },
     "execution_count": 15,
     "metadata": {},
     "output_type": "execute_result"
    }
   ],
   "source": [
    "list(labs)\n",
    "dat_agg_imputed.iloc[:,3:]"
   ]
  },
  {
   "cell_type": "code",
   "execution_count": 16,
   "metadata": {},
   "outputs": [
    {
     "name": "stderr",
     "output_type": "stream",
     "text": [
      "/usr/local/lib/python3.7/site-packages/sklearn/svm/base.py:929: ConvergenceWarning: Liblinear failed to converge, increase the number of iterations.\n",
      "  \"the number of iterations.\", ConvergenceWarning)\n"
     ]
    },
    {
     "data": {
      "text/plain": [
       "LinearSVR(C=1.0, dual=True, epsilon=0.0, fit_intercept=True,\n",
       "          intercept_scaling=1.0, loss='epsilon_insensitive', max_iter=1000,\n",
       "          random_state=0, tol=1e-05, verbose=0)"
      ]
     },
     "execution_count": 16,
     "metadata": {},
     "output_type": "execute_result"
    }
   ],
   "source": [
    "#clf = SVR(kernel= 'linear', C = 1.0, epsilon = 0.2)\n",
    "clf = LinearSVR(random_state=0, tol=1e-5)\n",
    "clf.fit(dat_agg_imputed.iloc[:,3:], labs.LABEL_BaseExcess)"
   ]
  },
  {
   "cell_type": "code",
   "execution_count": 17,
   "metadata": {},
   "outputs": [
    {
     "data": {
      "text/plain": [
       "array([7.28190115e-05, 8.29605093e-05, 8.09207184e-05, ...,\n",
       "       8.06536457e-05, 8.84117021e-05, 8.91986239e-05])"
      ]
     },
     "execution_count": 17,
     "metadata": {},
     "output_type": "execute_result"
    }
   ],
   "source": [
    "pred = clf.predict(test_agg.iloc[:,3:])\n",
    "# Should make it between 0 and 1\n",
    "pred/np.sum(pred)"
   ]
  },
  {
   "cell_type": "code",
   "execution_count": 30,
   "metadata": {},
   "outputs": [
    {
     "name": "stderr",
     "output_type": "stream",
     "text": [
      "/usr/local/lib/python3.7/site-packages/sklearn/svm/base.py:929: ConvergenceWarning: Liblinear failed to converge, increase the number of iterations.\n",
      "  \"the number of iterations.\", ConvergenceWarning)\n",
      "/usr/local/lib/python3.7/site-packages/sklearn/svm/base.py:929: ConvergenceWarning: Liblinear failed to converge, increase the number of iterations.\n",
      "  \"the number of iterations.\", ConvergenceWarning)\n",
      "/usr/local/lib/python3.7/site-packages/sklearn/svm/base.py:929: ConvergenceWarning: Liblinear failed to converge, increase the number of iterations.\n",
      "  \"the number of iterations.\", ConvergenceWarning)\n",
      "/usr/local/lib/python3.7/site-packages/sklearn/svm/base.py:929: ConvergenceWarning: Liblinear failed to converge, increase the number of iterations.\n",
      "  \"the number of iterations.\", ConvergenceWarning)\n",
      "/usr/local/lib/python3.7/site-packages/sklearn/svm/base.py:929: ConvergenceWarning: Liblinear failed to converge, increase the number of iterations.\n",
      "  \"the number of iterations.\", ConvergenceWarning)\n",
      "/usr/local/lib/python3.7/site-packages/sklearn/svm/base.py:929: ConvergenceWarning: Liblinear failed to converge, increase the number of iterations.\n",
      "  \"the number of iterations.\", ConvergenceWarning)\n",
      "/usr/local/lib/python3.7/site-packages/sklearn/svm/base.py:929: ConvergenceWarning: Liblinear failed to converge, increase the number of iterations.\n",
      "  \"the number of iterations.\", ConvergenceWarning)\n",
      "/usr/local/lib/python3.7/site-packages/sklearn/svm/base.py:929: ConvergenceWarning: Liblinear failed to converge, increase the number of iterations.\n",
      "  \"the number of iterations.\", ConvergenceWarning)\n",
      "/usr/local/lib/python3.7/site-packages/sklearn/svm/base.py:929: ConvergenceWarning: Liblinear failed to converge, increase the number of iterations.\n",
      "  \"the number of iterations.\", ConvergenceWarning)\n",
      "/usr/local/lib/python3.7/site-packages/sklearn/svm/base.py:929: ConvergenceWarning: Liblinear failed to converge, increase the number of iterations.\n",
      "  \"the number of iterations.\", ConvergenceWarning)\n",
      "/usr/local/lib/python3.7/site-packages/sklearn/svm/base.py:929: ConvergenceWarning: Liblinear failed to converge, increase the number of iterations.\n",
      "  \"the number of iterations.\", ConvergenceWarning)\n",
      "/usr/local/lib/python3.7/site-packages/sklearn/svm/base.py:929: ConvergenceWarning: Liblinear failed to converge, increase the number of iterations.\n",
      "  \"the number of iterations.\", ConvergenceWarning)\n",
      "/usr/local/lib/python3.7/site-packages/sklearn/svm/base.py:929: ConvergenceWarning: Liblinear failed to converge, increase the number of iterations.\n",
      "  \"the number of iterations.\", ConvergenceWarning)\n",
      "/usr/local/lib/python3.7/site-packages/sklearn/svm/base.py:929: ConvergenceWarning: Liblinear failed to converge, increase the number of iterations.\n",
      "  \"the number of iterations.\", ConvergenceWarning)\n",
      "/usr/local/lib/python3.7/site-packages/sklearn/svm/base.py:929: ConvergenceWarning: Liblinear failed to converge, increase the number of iterations.\n",
      "  \"the number of iterations.\", ConvergenceWarning)\n"
     ]
    }
   ],
   "source": [
    "columns = [test_pids]\n",
    "for i in range(1,12):\n",
    "    clf = LinearSVR(random_state=0, tol=1e-5, max_iter=1000)\n",
    "    clf.fit(dat_agg_imputed.iloc[:,3:], labs.iloc[:,i])\n",
    "    pred = clf.predict(test_agg.iloc[:,3:])\n",
    "    # Should make it between 0 and 1\n",
    "    columns.append(pred/np.sum(pred))\n",
    "                \n",
    "for i in range(12, 16):\n",
    "    clf = LinearSVR(random_state=0, tol=1e-5, max_iter=1000)\n",
    "    clf.fit(dat_agg_imputed.iloc[:,3:], labs.iloc[:,i])\n",
    "    pred = clf.predict(test_agg.iloc[:,3:])\n",
    "    columns.append(pred)"
   ]
  },
  {
   "cell_type": "code",
   "execution_count": 40,
   "metadata": {},
   "outputs": [],
   "source": [
    "result = pd.DataFrame(columns).transpose()\n",
    "result.columns = list(labs)\n",
    "result.to_csv('prediction.csv.zip', index=False, float_format='%.3f', compression='zip')"
   ]
  },
  {
   "cell_type": "code",
   "execution_count": 39,
   "metadata": {},
   "outputs": [],
   "source": [
    "result.to_csv('prediction.csv', index=False, float_format='%.3f')"
   ]
  }
 ],
 "metadata": {
  "kernelspec": {
   "display_name": "Python 3",
   "language": "python",
   "name": "python3"
  },
  "language_info": {
   "codemirror_mode": {
    "name": "ipython",
    "version": 3
   },
   "file_extension": ".py",
   "mimetype": "text/x-python",
   "name": "python",
   "nbconvert_exporter": "python",
   "pygments_lexer": "ipython3",
   "version": "3.7.1"
  }
 },
 "nbformat": 4,
 "nbformat_minor": 4
}
