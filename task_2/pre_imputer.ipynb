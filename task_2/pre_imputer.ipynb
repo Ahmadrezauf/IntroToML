{
 "cells": [
  {
   "cell_type": "markdown",
   "metadata": {},
   "source": [
    "# Support vector machines"
   ]
  },
  {
   "cell_type": "code",
   "execution_count": 2,
   "metadata": {},
   "outputs": [],
   "source": [
    "# import libraries\n",
    "\n",
    "import numpy as np\n",
    "import math\n",
    "import pandas as pd\n",
    "import matplotlib.pyplot as plt\n",
    "import missingno as msno\n",
    "import seaborn as sns\n",
    "\n",
    "from matplotlib.backends.backend_pdf import PdfPages\n",
    "from sklearn.decomposition import PCA\n",
    "\n",
    "from sklearn.ensemble import BaggingClassifier, RandomForestClassifier\n",
    "from sklearn.feature_selection import GenericUnivariateSelect, mutual_info_classif, mutual_info_regression, f_regression\n",
    "\n",
    "from sklearn import preprocessing\n",
    "from sklearn.svm import LinearSVR\n",
    "from sklearn.svm import LinearSVC\n",
    "from sklearn.svm import SVR\n",
    "from sklearn.svm import SVC\n",
    "from sklearn import linear_model\n",
    "\n",
    "from sklearn.preprocessing import StandardScaler\n",
    "from sklearn.metrics import roc_auc_score\n",
    "from sklearn.metrics import r2_score\n",
    "from sklearn.metrics.pairwise import pairwise_kernels\n",
    "\n",
    "from sklearn import model_selection\n",
    "\n",
    "from sklearn.impute import KNNImputer\n",
    "from sklearn.impute import SimpleImputer\n",
    "# explicitly require this experimental feature\n",
    "from sklearn.experimental import enable_iterative_imputer  # noqa\n",
    "# now you can import normally from sklearn.impute\n",
    "from sklearn.impute import IterativeImputer\n",
    "from sklearn.ensemble import RandomForestRegressor"
   ]
  },
  {
   "cell_type": "markdown",
   "metadata": {},
   "source": [
    "## Data pre-processing"
   ]
  },
  {
   "cell_type": "code",
   "execution_count": 7,
   "metadata": {},
   "outputs": [],
   "source": [
    "# load training data\n",
    "\n",
    "# load data from csv file\n",
    "df_train_features = pd.read_csv ('train_features.csv')\n",
    "df_train_labels = pd.read_csv('train_labels.csv')\n",
    "\n",
    "# Load test data\n",
    "df_test_features = pd.read_csv ('test_features.csv')"
   ]
  },
  {
   "cell_type": "markdown",
   "metadata": {},
   "source": [
    "### Sorting labels"
   ]
  },
  {
   "cell_type": "code",
   "execution_count": 8,
   "metadata": {},
   "outputs": [],
   "source": [
    "df_train_labels = df_train_labels.sort_values('pid')\n",
    "df_train_features = df_train_features.sort_values(['pid', 'Time'])\n",
    "\n",
    "# # Droping time\n",
    "# df_train_features = df_train_features.drop('Time', axis = 1)\n",
    "# df_test_features = df_test_features.drop('Time', axis = 1)"
   ]
  },
  {
   "cell_type": "markdown",
   "metadata": {},
   "source": [
    "# Using TSFresh"
   ]
  },
  {
   "cell_type": "code",
   "execution_count": null,
   "metadata": {},
   "outputs": [],
   "source": [
    "df_train_features"
   ]
  },
  {
   "cell_type": "markdown",
   "metadata": {},
   "source": [
    " ### Histogram of the output labels "
   ]
  },
  {
   "cell_type": "markdown",
   "metadata": {},
   "source": [
    "We should check for class imbalance."
   ]
  },
  {
   "cell_type": "code",
   "execution_count": null,
   "metadata": {},
   "outputs": [],
   "source": [
    "df_train_labels.hist()\n",
    "\n",
    "# with PdfPages(\"./Results/Labels_histogram.pdf\") as export_pdf:\n",
    "#     for i in list(df_train_labels)[1:]:\n",
    "#         df_train_labels.hist(column = i, bins = 100)\n",
    "#         export_pdf.savefig()"
   ]
  },
  {
   "cell_type": "markdown",
   "metadata": {},
   "source": [
    "One can see the class imbalance problem here. Other observations:\n",
    "  * Heartrate, RRate, ABPm,  distribution is similar to a normal distribution\n",
    "  * SpO2 is like a censored normal distribution. \n",
    "  * For all of the other features, class imbalance is an obvious problem."
   ]
  },
  {
   "cell_type": "markdown",
   "metadata": {},
   "source": [
    "A basic strategy that could be used here: Upsample both classes! Do the upsampling efficiently, not just replicating the datapoints"
   ]
  },
  {
   "cell_type": "markdown",
   "metadata": {},
   "source": [
    "### Boxplot over features"
   ]
  },
  {
   "cell_type": "code",
   "execution_count": null,
   "metadata": {},
   "outputs": [],
   "source": [
    "# data inspection: \n",
    "#############################################\n",
    "# range of the provided data?\n",
    "print(df_train_features.agg([min, max]))\n",
    "\n",
    "# Boxplotting the data\n",
    "# fig2, ax2 = plt.subplots()\n",
    "# ax2.set_title('BUN')\n",
    "# ax2.boxplot(df_train_features.iloc[:,5], notch=True)\n",
    "\n",
    "plt.figure(figsize=(16, 16))\n",
    "ax = sns.boxplot(data = df_train_features.iloc[:,1:])\n",
    "ax.set_xticklabels(\n",
    "    ax.get_xticklabels(),\n",
    "    rotation=90,\n",
    "    horizontalalignment='right'\n",
    ");\n",
    "\n",
    "# with PdfPages(\"./Results/Train_columns_boxplot.pdf\") as export_pdf:\n",
    "#     for i in list(df_train_labels)[1:]:\n",
    "#         df_train_labels.hist(column = i, bins = 100)\n",
    "#         export_pdf.savefig()"
   ]
  },
  {
   "cell_type": "code",
   "execution_count": null,
   "metadata": {},
   "outputs": [],
   "source": [
    "# calculate the correlation matrix\n",
    "corr = df_train_features.corr()\n",
    "\n",
    "# plot the heatmap\n",
    "plt.figure(figsize=(16, 16))\n",
    "ax = sns.heatmap(corr, \n",
    "        xticklabels=corr.columns,\n",
    "        yticklabels=corr.columns, \n",
    "        vmin=-1, vmax=1, center=0, \n",
    "           cmap=sns.diverging_palette(20, 220, n=200))\n",
    "ax.set_xticklabels(\n",
    "    ax.get_xticklabels(),\n",
    "    rotation=45,\n",
    "    horizontalalignment='right'\n",
    ");"
   ]
  },
  {
   "cell_type": "markdown",
   "metadata": {},
   "source": [
    "### Visualizing pattern of missing values"
   ]
  },
  {
   "cell_type": "code",
   "execution_count": null,
   "metadata": {},
   "outputs": [],
   "source": [
    "# how much missing data? \n",
    "print(\"Percentage of missing values:\")\n",
    "print(df_train_features.isnull().sum(axis=0) / len(df_train_features))\n",
    "\n",
    "msno.matrix(df_train_features)\n",
    "\n",
    "# Plotting the correlation between the missing values\n",
    "msno.heatmap(df_train_features)"
   ]
  },
  {
   "cell_type": "markdown",
   "metadata": {},
   "source": [
    "### Train data pre-processing"
   ]
  },
  {
   "cell_type": "code",
   "execution_count": 9,
   "metadata": {},
   "outputs": [
    {
     "name": "stdout",
     "output_type": "stream",
     "text": [
      "[ 0  1  2  7 11 21 22 25 28 32 35]\n",
      "[ 8 16 18 24 31 36]\n",
      "[ 3  4  5  6  9 10 12 13 14 15 17 19 20 23 26 27 29 30 33 34]\n",
      "(18995, 46)\n",
      "(18995, 18)\n",
      "(18995, 20)\n"
     ]
    }
   ],
   "source": [
    "# Which columns have less than a percent NA\n",
    "NA_percent = 0.8\n",
    "NA_percent_severe = 0.91\n",
    "\n",
    "sel_features = df_train_features.isnull().sum(axis=0) < (NA_percent * df_train_features.shape[0])\n",
    "inds = np.where(sel_features == True)\n",
    "\n",
    "sel_features_2 = (df_train_features.isnull().sum(axis=0) < (NA_percent_severe * df_train_features.shape[0])) & (df_train_features.isnull().sum(axis=0) > (NA_percent * df_train_features.shape[0]))        \n",
    "inds_2 = np.where(sel_features_2 == True)\n",
    "\n",
    "sel_features_3 = df_train_features.isnull().sum(axis=0) > (NA_percent_severe * df_train_features.shape[0])\n",
    "inds_3 = np.where(sel_features_3 == True)\n",
    "\n",
    "print(inds[0])\n",
    "print(inds_2[0])\n",
    "print(inds_3[0])\n",
    "\n",
    "present_columns = df_train_features.iloc[:,inds[0]]\n",
    "\n",
    "present_columns_agg = present_columns.groupby('pid').agg([np.min, np.max, np.mean, np.median, np.std])\n",
    "present_columns_agg = present_columns_agg.drop(present_columns_agg.columns[[0,1,3,4]], axis=1)\n",
    "\n",
    "missing_columns = df_train_features.iloc[:,np.append(0,inds_2)]\n",
    "\n",
    "missing_columns_agg = missing_columns.groupby('pid').agg([np.min, np.max, np.mean])\n",
    "\n",
    "missing_columns_severe = df_train_features.iloc[:,np.append(0,inds_3)]\n",
    "\n",
    "missing_columns_agg_severe = missing_columns_severe.groupby('pid').agg(np.mean)\n",
    "\n",
    "\n",
    "print(present_columns_agg.shape)\n",
    "print(missing_columns_agg.shape)\n",
    "print(missing_columns_agg_severe.shape)"
   ]
  },
  {
   "cell_type": "code",
   "execution_count": 10,
   "metadata": {},
   "outputs": [
    {
     "name": "stdout",
     "output_type": "stream",
     "text": [
      "(18995, 84)\n",
      "Index([       ('Time', 'mean'),         ('Age', 'amin'),\n",
      "               ('Age', 'amax'),         ('Age', 'mean'),\n",
      "             ('Age', 'median'),          ('Age', 'std'),\n",
      "              ('Temp', 'amin'),        ('Temp', 'amax'),\n",
      "              ('Temp', 'mean'),      ('Temp', 'median'),\n",
      "               ('Temp', 'std'),       ('RRate', 'amin'),\n",
      "             ('RRate', 'amax'),       ('RRate', 'mean'),\n",
      "           ('RRate', 'median'),        ('RRate', 'std'),\n",
      "           ('Glucose', 'amin'),     ('Glucose', 'amax'),\n",
      "           ('Glucose', 'mean'),   ('Glucose', 'median'),\n",
      "            ('Glucose', 'std'),        ('ABPm', 'amin'),\n",
      "              ('ABPm', 'amax'),        ('ABPm', 'mean'),\n",
      "            ('ABPm', 'median'),         ('ABPm', 'std'),\n",
      "              ('ABPd', 'amin'),        ('ABPd', 'amax'),\n",
      "              ('ABPd', 'mean'),      ('ABPd', 'median'),\n",
      "               ('ABPd', 'std'),        ('SpO2', 'amin'),\n",
      "              ('SpO2', 'amax'),        ('SpO2', 'mean'),\n",
      "            ('SpO2', 'median'),         ('SpO2', 'std'),\n",
      "         ('Heartrate', 'amin'),   ('Heartrate', 'amax'),\n",
      "         ('Heartrate', 'mean'), ('Heartrate', 'median'),\n",
      "          ('Heartrate', 'std'),        ('ABPs', 'amin'),\n",
      "              ('ABPs', 'amax'),        ('ABPs', 'mean'),\n",
      "            ('ABPs', 'median'),         ('ABPs', 'std'),\n",
      "               ('Hgb', 'amin'),         ('Hgb', 'amax'),\n",
      "               ('Hgb', 'mean'),       ('PaCO2', 'amin'),\n",
      "             ('PaCO2', 'amax'),       ('PaCO2', 'mean'),\n",
      "              ('FiO2', 'amin'),        ('FiO2', 'amax'),\n",
      "              ('FiO2', 'mean'),   ('Potassium', 'amin'),\n",
      "         ('Potassium', 'amax'),   ('Potassium', 'mean'),\n",
      "               ('Hct', 'amin'),         ('Hct', 'amax'),\n",
      "               ('Hct', 'mean'),          ('pH', 'amin'),\n",
      "                ('pH', 'amax'),          ('pH', 'mean'),\n",
      "                       'EtCO2',                   'PTT',\n",
      "                         'BUN',               'Lactate',\n",
      "                        'HCO3',            'BaseExcess',\n",
      "                  'Fibrinogen',             'Phosphate',\n",
      "                         'WBC',            'Creatinine',\n",
      "                         'AST',             'Platelets',\n",
      "                        'SaO2',             'Magnesium',\n",
      "                     'Calcium',          'Alkalinephos',\n",
      "            'Bilirubin_direct',              'Chloride',\n",
      "             'Bilirubin_total',             'TroponinI'],\n",
      "      dtype='object')\n"
     ]
    }
   ],
   "source": [
    "df_train_agg_features = pd.merge(present_columns_agg, missing_columns_agg, on=\"pid\")\n",
    "df_train_agg_features = pd.merge(df_train_agg_features, missing_columns_agg_severe, on = \"pid\")\n",
    "print(df_train_agg_features.shape)\n",
    "print(df_train_agg_features.columns)"
   ]
  },
  {
   "cell_type": "code",
   "execution_count": null,
   "metadata": {},
   "outputs": [],
   "source": [
    "# df_train_agg_features = df_train_features.groupby('pid').agg([np.min, np.max, np.mean np.std])\n",
    "# df_train_agg_features = df_train_agg_features.iloc[:,5:]\n",
    "# # Removing ETCo2 mean and max since it has so many NA\n",
    "# df_train_agg_features = df_train_agg_features.drop(df_train_agg_features.columns[[2,3]],  axis = 1)\n",
    "# print(df_train_agg_features.columns)\n",
    "# df_train_agg_features.columns\n",
    "# print(int(df_train_agg_features.shape[1]))\n",
    "# print(int(df_train_agg_features.shape[1]/3))\n",
    "\n",
    "# # how much missing data? \n",
    "# print(\"number of missing values:\")\n",
    "# print(df_train_agg_features.isnull().sum(axis=0))\n",
    "\n",
    "# na_percent_max = int(0.8 * df_train_agg_features.shape[0])\n",
    "# tmp = pd.DataFrame(df_train_agg_features)\n",
    "# for i in range(1, (int(df_train_agg_features.shape[1]/3))):\n",
    "#     na_count = df_train_agg_features.iloc[:,i].isna().sum()\n",
    "#     print(df_train_agg_features.columns[i])\n",
    "#     print(na_count)\n",
    "    \n",
    "#     if(na_count > na_percent_max):\n",
    "#         print(\"should be removed\")\n"
   ]
  },
  {
   "cell_type": "code",
   "execution_count": null,
   "metadata": {},
   "outputs": [],
   "source": [
    "# Run the imputer with a simple Random Forest estimator\n",
    "imp = IterativeImputer(RandomForestRegressor(n_estimators=5), max_iter=10, random_state=1)\n",
    "\n",
    "#perform filling\n",
    "df_train_agg_imputed_features = pd.DataFrame(imp.fit_transform(df_train_agg_features), columns=df_train_agg_features.columns)"
   ]
  },
  {
   "cell_type": "code",
   "execution_count": null,
   "metadata": {},
   "outputs": [],
   "source": [
    "# impute missing data points\n",
    "#imp = SimpleImputer(strategy=\"mean\")\n",
    "imputer = KNNImputer(n_neighbors = 10)\n",
    "#imputer = IterativeImputer(random_state=0, verbose = 2, max_iter = 30)\n",
    "df_train_agg_imputed_features = imputer.fit_transform(df_train_agg_features)\n",
    "#print(df_train_agg_imputed_features)"
   ]
  },
  {
   "cell_type": "code",
   "execution_count": null,
   "metadata": {},
   "outputs": [],
   "source": [
    "# scale the data\n",
    "min_max_scaler = preprocessing.StandardScaler()\n",
    "# standard_scalar = preprocessing.StandardScaler()\n",
    "\n",
    "data_train_scaled = min_max_scaler.fit_transform(df_train_agg_imputed_features)"
   ]
  },
  {
   "cell_type": "code",
   "execution_count": null,
   "metadata": {},
   "outputs": [],
   "source": [
    "# REARRANGE THE LABELS, TO MATCH THE REARRANGED FEATURES\n",
    "df_train_labels_sorted = df_train_labels.sort_values(by = 'pid')\n",
    "print(df_train_labels_sorted[['pid']])\n",
    "print(df_train_labels[['pid']])\n",
    "print(df_train_agg_features)"
   ]
  },
  {
   "cell_type": "code",
   "execution_count": null,
   "metadata": {},
   "outputs": [],
   "source": [
    "# Visualizing the training data after imputing and aggregating\n",
    "\n",
    "plt.figure(figsize=(16, 16))\n",
    "ax = sns.boxplot(data = pd.DataFrame(data_train_scaled))\n",
    "ax.set_xticklabels(\n",
    "    list(df_train_features),\n",
    "    rotation=90,\n",
    "    horizontalalignment='right'\n",
    ");"
   ]
  },
  {
   "cell_type": "code",
   "execution_count": null,
   "metadata": {},
   "outputs": [],
   "source": [
    "# What is the correlation between the \n",
    "pd.DataFrame(data_train_scaled).corrwith(other = pd.DataFrame(df_train_agg_imputed_features), method = \"spearman\").transpose()"
   ]
  },
  {
   "cell_type": "markdown",
   "metadata": {},
   "source": [
    "### PCA plot "
   ]
  },
  {
   "cell_type": "code",
   "execution_count": null,
   "metadata": {
    "jupyter": {
     "source_hidden": true
    }
   },
   "outputs": [],
   "source": [
    "pca = PCA(n_components=2)\n",
    "\n",
    "principalComponents = pca.fit_transform(data_train_scaled)\n",
    "principalDf = pd.DataFrame(data = principalComponents\n",
    "             , columns = ['principal component 1', 'principal component 2'])\n",
    "\n",
    "finalDf = pd.concat([principalDf, df_train_labels[[df_train_labels.columns[11]]]], axis = 1)\n",
    "\n",
    "fig = plt.figure(figsize = (8,8))\n",
    "ax = fig.add_subplot(1,1,1) \n",
    "ax.set_xlabel('Principal Component 1', fontsize = 15)\n",
    "ax.set_ylabel('Principal Component 2', fontsize = 15)\n",
    "ax.set_title('2 component PCA for label i', fontsize = 20)\n",
    "targets = [0, 1]\n",
    "colors = ['r', 'g', 'b']\n",
    "for target, color in zip(targets,colors):\n",
    "    indicesToKeep = finalDf[df_train_labels.columns[11]] == target\n",
    "    ax.scatter(finalDf.loc[indicesToKeep, 'principal component 1']\n",
    "               , finalDf.loc[indicesToKeep, 'principal component 2']\n",
    "               , c = color\n",
    "               , s = 50)\n",
    "ax.legend(targets)\n",
    "ax.grid()"
   ]
  },
  {
   "cell_type": "markdown",
   "metadata": {},
   "source": [
    "### Test Data pre-processing"
   ]
  },
  {
   "cell_type": "code",
   "execution_count": null,
   "metadata": {},
   "outputs": [],
   "source": [
    "# data inspection: \n",
    "#############################################\n",
    "# range of the provided data?\n",
    "print(df_test_features.agg([min, max]))\n",
    "\n",
    "# how much missing data? \n",
    "print(\"number of missing values:\")\n",
    "print(df_test_features.isnull().sum(axis=0))"
   ]
  },
  {
   "cell_type": "code",
   "execution_count": 11,
   "metadata": {},
   "outputs": [
    {
     "name": "stdout",
     "output_type": "stream",
     "text": [
      "[ 0  1  2  7 11 21 22 25 28 32 35]\n",
      "[ 8 16 18 24 31 36]\n",
      "[ 3  4  5  6  9 10 12 13 14 15 17 19 20 23 26 27 29 30 33 34]\n"
     ]
    }
   ],
   "source": [
    "# We should use the same indices as before\n",
    "print(inds[0])\n",
    "print(inds_2[0])\n",
    "print(inds_3[0])\n",
    "\n",
    "present_columns = df_test_features.iloc[:,inds[0]]\n",
    "\n",
    "present_columns_agg = present_columns.groupby('pid').agg([np.min, np.max, np.mean, np.median, np.std])\n",
    "present_columns_agg = present_columns_agg.drop(present_columns_agg.columns[[0,1,3,4]], axis=1)\n",
    "\n",
    "missing_columns = df_test_features.iloc[:,np.append(0,inds_2)]\n",
    "\n",
    "missing_columns_agg = missing_columns.groupby('pid').agg([np.min, np.max, np.mean])\n",
    "\n",
    "missing_columns_severe = df_test_features.iloc[:,np.append(0,inds_3)]\n",
    "\n",
    "missing_columns_agg_severe = missing_columns_severe.groupby('pid').agg(np.mean)"
   ]
  },
  {
   "cell_type": "code",
   "execution_count": 12,
   "metadata": {},
   "outputs": [
    {
     "name": "stdout",
     "output_type": "stream",
     "text": [
      "(12664, 84)\n",
      "Index([       ('Time', 'mean'),         ('Age', 'amin'),\n",
      "               ('Age', 'amax'),         ('Age', 'mean'),\n",
      "             ('Age', 'median'),          ('Age', 'std'),\n",
      "              ('Temp', 'amin'),        ('Temp', 'amax'),\n",
      "              ('Temp', 'mean'),      ('Temp', 'median'),\n",
      "               ('Temp', 'std'),       ('RRate', 'amin'),\n",
      "             ('RRate', 'amax'),       ('RRate', 'mean'),\n",
      "           ('RRate', 'median'),        ('RRate', 'std'),\n",
      "           ('Glucose', 'amin'),     ('Glucose', 'amax'),\n",
      "           ('Glucose', 'mean'),   ('Glucose', 'median'),\n",
      "            ('Glucose', 'std'),        ('ABPm', 'amin'),\n",
      "              ('ABPm', 'amax'),        ('ABPm', 'mean'),\n",
      "            ('ABPm', 'median'),         ('ABPm', 'std'),\n",
      "              ('ABPd', 'amin'),        ('ABPd', 'amax'),\n",
      "              ('ABPd', 'mean'),      ('ABPd', 'median'),\n",
      "               ('ABPd', 'std'),        ('SpO2', 'amin'),\n",
      "              ('SpO2', 'amax'),        ('SpO2', 'mean'),\n",
      "            ('SpO2', 'median'),         ('SpO2', 'std'),\n",
      "         ('Heartrate', 'amin'),   ('Heartrate', 'amax'),\n",
      "         ('Heartrate', 'mean'), ('Heartrate', 'median'),\n",
      "          ('Heartrate', 'std'),        ('ABPs', 'amin'),\n",
      "              ('ABPs', 'amax'),        ('ABPs', 'mean'),\n",
      "            ('ABPs', 'median'),         ('ABPs', 'std'),\n",
      "               ('Hgb', 'amin'),         ('Hgb', 'amax'),\n",
      "               ('Hgb', 'mean'),       ('PaCO2', 'amin'),\n",
      "             ('PaCO2', 'amax'),       ('PaCO2', 'mean'),\n",
      "              ('FiO2', 'amin'),        ('FiO2', 'amax'),\n",
      "              ('FiO2', 'mean'),   ('Potassium', 'amin'),\n",
      "         ('Potassium', 'amax'),   ('Potassium', 'mean'),\n",
      "               ('Hct', 'amin'),         ('Hct', 'amax'),\n",
      "               ('Hct', 'mean'),          ('pH', 'amin'),\n",
      "                ('pH', 'amax'),          ('pH', 'mean'),\n",
      "                       'EtCO2',                   'PTT',\n",
      "                         'BUN',               'Lactate',\n",
      "                        'HCO3',            'BaseExcess',\n",
      "                  'Fibrinogen',             'Phosphate',\n",
      "                         'WBC',            'Creatinine',\n",
      "                         'AST',             'Platelets',\n",
      "                        'SaO2',             'Magnesium',\n",
      "                     'Calcium',          'Alkalinephos',\n",
      "            'Bilirubin_direct',              'Chloride',\n",
      "             'Bilirubin_total',             'TroponinI'],\n",
      "      dtype='object')\n"
     ]
    }
   ],
   "source": [
    "df_test_agg_features = pd.merge(present_columns_agg, missing_columns_agg, on=\"pid\")\n",
    "df_test_agg_features = pd.merge(df_test_agg_features, missing_columns_agg_severe, on = \"pid\")\n",
    "print(df_test_agg_features.shape)\n",
    "print(df_test_agg_features.columns)"
   ]
  },
  {
   "cell_type": "code",
   "execution_count": null,
   "metadata": {},
   "outputs": [],
   "source": [
    "# # # aggregate data for each pid\n",
    "# # df_test_aggregate_features = df_test_features.groupby('pid').agg('median')\n",
    "\n",
    "# df_test_agg_features = df_test_features.groupby('pid').agg([np.min, np.max, np.mean])\n",
    "\n",
    "# df_test_agg_features = df_test_agg_features.iloc[:,5:]\n",
    "# # Removing ETCo2 mean and max since it has so many NA\n",
    "# df_test_agg_features = df_test_agg_features.drop(df_test_agg_features.columns[[2,3]],  axis = 1)"
   ]
  },
  {
   "cell_type": "code",
   "execution_count": null,
   "metadata": {},
   "outputs": [],
   "source": [
    "# impute missing data points\n",
    "# should we impute it with the same imputer that we've used for train?\n",
    "\n",
    "imputer = KNNImputer(n_neighbors= 10)\n",
    "#imputer = IterativeImputer(random_state=0, verbose = 1)\n",
    "df_test_agg_imputed_features = imputer.fit_transform(df_test_agg_features)"
   ]
  },
  {
   "cell_type": "code",
   "execution_count": null,
   "metadata": {},
   "outputs": [],
   "source": [
    "# scale test data\n",
    "min_max_scaler = preprocessing.StandardScaler()\n",
    "data_test_scaled = min_max_scaler.fit_transform(df_test_agg_imputed_features)"
   ]
  },
  {
   "cell_type": "code",
   "execution_count": null,
   "metadata": {},
   "outputs": [],
   "source": [
    "# This part is for chanding the order of standardizing and imputing\n",
    "\n",
    "# # scale the data\n",
    "# min_max_scaler = preprocessing.StandardScaler()\n",
    "# # standard_scalar = preprocessing.StandardScaler()\n",
    "\n",
    "# data_train_scaled_tmp = min_max_scaler.fit_transform(df_train_agg_features)\n",
    "# imputer = KNNImputer(n_neighbors = 5)\n",
    "# #imputer = IterativeImputer(random_state=0, verbose = 2, max_iter = 30)\n",
    "# data_train_scaled = imputer.fit_transform(data_train_scaled_tmp)\n",
    "\n",
    "\n",
    "# min_max_scaler = preprocessing.StandardScaler()\n",
    "# # standard_scalar = preprocessing.StandardScaler()\n",
    "\n",
    "# data_test_scaled_tmp = min_max_scaler.fit_transform(df_test_agg_features)\n",
    "# imputer = KNNImputer(n_neighbors = 5)\n",
    "# #imputer = IterativeImputer(random_state=0, verbose = 2, max_iter = 30)\n",
    "# data_test_scaled = imputer.fit_transform(data_test_scaled_tmp)"
   ]
  },
  {
   "cell_type": "code",
   "execution_count": null,
   "metadata": {},
   "outputs": [],
   "source": [
    "pd.DataFrame(data_train_scaled).to_csv(\"./Results/dat_train_scaled.csv\", index = False)\n",
    "pd.DataFrame(data_test_scaled).to_csv(\"./Results/dat_test_scaled.csv\", index = False)"
   ]
  },
  {
   "cell_type": "code",
   "execution_count": null,
   "metadata": {},
   "outputs": [],
   "source": [
    "# If want to run from here:\n",
    "data_train_scaled = pd.read_csv(\"./Results/dat_train_scaled.csv\")\n",
    "data_test_scaled = pd.read_csv(\"./Results/dat_test_scaled.csv\")"
   ]
  },
  {
   "cell_type": "markdown",
   "metadata": {},
   "source": [
    "## Fit a model & Predict"
   ]
  },
  {
   "cell_type": "markdown",
   "metadata": {},
   "source": [
    "### predict with support vector machine classification and use probabilities"
   ]
  },
  {
   "cell_type": "code",
   "execution_count": null,
   "metadata": {},
   "outputs": [],
   "source": [
    "# first for the labels that have an output [0,1]\n",
    "test_pids = list(set(df_test_features.pid))\n",
    "columns_1 = [test_pids]\n",
    "\n",
    "from sklearn.utils import resample\n",
    "\n",
    "for i in range(1, 12):\n",
    "    \n",
    "    # feature selection\n",
    "    transformer =  GenericUnivariateSelect(score_func= mutual_info_classif, mode ='k_best', param=40)\n",
    "    train_features = pd.DataFrame(transformer.fit_transform(data_train_scaled, df_train_labels.iloc[:,i]))\n",
    "    print(\"For feature \", df_train_labels.columns[i])\n",
    "#     print(df_train_agg_features.columns[transformer.get_support(indices = True)])\n",
    "    test_features = pd.DataFrame(transformer.transform(data_test_scaled))\n",
    "\n",
    "#     values_1 = train_features.loc[df_train_labels[df_train_labels.columns[i]] == 1]\n",
    "#     values_0 = train_features.loc[df_train_labels[df_train_labels.columns[i]] == 0]\n",
    "#     values_0 = resample(values_0, replace = False, n_samples = values_1.shape[0])\n",
    "\n",
    "#     train_features = pd.concat([values_0, values_1])\n",
    "    \n",
    "#     labels = np.repeat([0,1], values_0.shape[0])\n",
    "    \n",
    "    #clf = BaggingClassifier(SVC(kernel = 'poly', degree = 5, class_weight = 'balanced', verbose = True, C = 10))\n",
    "    clf_w = SVC(kernel = 'rbf', class_weight = 'balanced', verbose = 2)\n",
    "    \n",
    "    parameters = {'C':(0.1, 1, 5, 10)}\n",
    "    clf = model_selection.GridSearchCV(estimator= clf_w, param_grid = parameters, cv = 5,\n",
    "                                        refit = True, scoring = 'roc_auc', verbose = 2,\n",
    "                                       n_jobs=6, return_train_score = True)\n",
    "    clf.fit(train_features, df_train_labels.iloc[:,i])\n",
    "#     clf.fit(train_features, labels)\n",
    "    \n",
    "#     print(clf.cv_results_)\n",
    "    print(clf.best_params_)\n",
    "    print(clf.best_score_)\n",
    "    # compute probabilites as opposed to predictions\n",
    "    #dual_coefficients = clf.dual_coef_    # do we have to normalize with norm of this vector ?\n",
    "    \n",
    "    distance_hyperplane = clf.decision_function(test_features)\n",
    "    probability = np.empty(len(distance_hyperplane))\n",
    "    for j in range(0, len(probability)):\n",
    "        if distance_hyperplane[j] < 0:\n",
    "            probability[j] = 1 - 1/(1 + math.exp(distance_hyperplane[j]))\n",
    "        else:\n",
    "            probability[j] = 1/(1 + math.exp(-distance_hyperplane[j]))\n",
    "    columns_1.append(probability)\n",
    "\n",
    "    \n",
    "    distance_hyperplace_train = clf.decision_function(train_features)\n",
    "    probability = np.empty(len(distance_hyperplace_train))\n",
    "    for j in range(0, len(probability)):\n",
    "        if distance_hyperplace_train[j] < 0:\n",
    "            probability[j] = 1 - 1/(1 + math.exp(distance_hyperplace_train[j]))\n",
    "        else:\n",
    "            probability[j] = 1/(1 + math.exp(-distance_hyperplace_train[j]))\n",
    "    \n",
    "    tmp = roc_auc_score(y_score= probability, y_true= df_train_labels.iloc[:,i])\n",
    "    print(\"ROC AUC for feature\", list(df_train_labels)[i] , \" : \", tmp)\n"
   ]
  },
  {
   "cell_type": "code",
   "execution_count": null,
   "metadata": {},
   "outputs": [],
   "source": [
    "# labels that have a real value\n",
    "columns_2 = []\n",
    "# from sklearn.kernel_ridge import KernelRidge\n",
    "\n",
    "for i in range(12, 16):\n",
    "    # feature selection\n",
    "    transformer =  GenericUnivariateSelect(score_func= mutual_info_regression, mode ='k_best', param = 75)\n",
    "    train_features = transformer.fit_transform(data_train_scaled, df_train_labels.iloc[:,i])\n",
    "#     print(df_train_agg_features.columns[transformer.get_support(indices = True)])\n",
    "    test_features = transformer.transform(data_test_scaled)\n",
    "    \n",
    "    clf_w = SVR(kernel = 'rbf', cache_size = 6000)\n",
    "# #     clf_w = NuSVR(nu=0.5, kernel = 'linear')\n",
    "    parameters = {'C':(0.1, 1,10)}\n",
    "    clf = model_selection.GridSearchCV(estimator= clf_w, param_grid = parameters, cv = 10,\n",
    "                                       refit = True, scoring = 'r2', verbose = 2, n_jobs=6)\n",
    "#     clf = KernelRidge(kernel = 'poly', degree = 5)\n",
    "#     parameters = {'alpha':(0.1,1,10,30)}\n",
    "#     clf = model_selection.GridSearchCV(estimator= clf, param_grid = parameters, cv = 3,\n",
    "#                                       refit = True, scoring = 'r2', verbose = 2, n_jobs=6)\n",
    "    clf.fit(train_features, df_train_labels.iloc[:,i])\n",
    "    \n",
    "#     print(clf.cv_results_)\n",
    "    print(clf.best_params_)\n",
    "    print(clf.best_score_)\n",
    "\n",
    "    pred_train = clf.predict(train_features)\n",
    "    tmp = r2_score(y_pred= pred_train, y_true=df_train_labels.iloc[:,i])\n",
    "    print(\"R2 for feature\", list(df_train_labels)[i] , \" : \", tmp)\n",
    "    \n",
    "    pred = clf.predict(test_features)\n",
    "    columns_2.append(pred)\n",
    "    "
   ]
  },
  {
   "cell_type": "code",
   "execution_count": null,
   "metadata": {},
   "outputs": [],
   "source": [
    "columns_final = columns_1 + columns_2"
   ]
  },
  {
   "cell_type": "markdown",
   "metadata": {},
   "source": [
    "### predict with Support vector regression and then compute sigmoid function"
   ]
  },
  {
   "cell_type": "code",
   "execution_count": null,
   "metadata": {
    "jupyter": {
     "source_hidden": true
    }
   },
   "outputs": [],
   "source": [
    "# first for the labels that have an output [0,1]\n",
    "\n",
    "# columns_1 = [test_pids]\n",
    "\n",
    "# for i in range(1,12):\n",
    "    \n",
    "#     clf = SVR(kernel = 'poly', degree = 3, max_iter = 10000)\n",
    "#     clf.fit(data_train_scaled, df_train_labels.iloc[:,i])\n",
    "#     pred = clf.predict(data_test_scaled)\n",
    "#     prob = np.empty(len(pred))\n",
    "#     for j in range(0, len(pred)):\n",
    "#         prob[j] = 1 / (1 + math.exp(-pred[j]))\n",
    "#     columns_1.append(prob)\n",
    "    \n",
    "#     pred_train = clf.predict(data_train_scaled)\n",
    "#     prob_train = np.empty(len(pred_train))\n",
    "#     for j in range(0, len(pred_train)):\n",
    "#         prob_train[j] = 1 / (1 + math.exp(-pred_train[j]))    \n",
    "#     tmp = roc_auc_score(y_score= prob_train, y_true= df_train_labels.iloc[:,i])\n",
    "#     print(\"ROC AUC for feature\", list(df_train_labels)[i] , \" : \", tmp)\n"
   ]
  },
  {
   "cell_type": "code",
   "execution_count": null,
   "metadata": {
    "jupyter": {
     "source_hidden": true
    },
    "scrolled": true
   },
   "outputs": [],
   "source": [
    "# #labels that have a real value\n",
    "\n",
    "# columns_2 = []\n",
    "\n",
    "# for i in range(12, 16):\n",
    "    \n",
    "#     # feature selection\n",
    "#     transformer =  GenericUnivariateSelect(score_func= mutual_info_regression, mode ='k_best', param=20)\n",
    "#     train_features = transformer.fit_transform(data_train_scaled, df_train_labels.iloc[:,i])\n",
    "#     print(list(data_train_scaled)[transformer.get_support()])\n",
    "#     test_features = transformer.transform(data_test_scaled)\n",
    "    \n",
    "\n",
    "#     clf_w = LinearSVR()\n",
    "#     parameters = {'C':(0.1,1,10,30,60,100)}\n",
    "#     clf = model_selection.GridSearchCV(estimator= clf_w, param_grid = parameters, cv = 2,\n",
    "#                                        refit = True, scoring = 'r2', verbose = 1, n_jobs=6)\n",
    "#     clf.fit(train_features, df_train_labels.iloc[:,i])\n",
    "    \n",
    "#     print(clf.cv_results_)\n",
    "#     pred = clf.predict(test_features)\n",
    "#     columns_2.append(pred)\n",
    "    \n",
    "#     pred_train = clf.predict(train_features)\n",
    "#     tmp = r2_score(y_pred= pred_train, y_true=df_train_labels.iloc[:,i])\n",
    "#     print(\"R2 for feature\", list(df_train_labels)[i] , \" : \", tmp)"
   ]
  },
  {
   "cell_type": "code",
   "execution_count": null,
   "metadata": {},
   "outputs": [],
   "source": [
    "transformer =  GenericUnivariateSelect(score_func= mutual_info_regression, mode ='k_best', param=20)\n",
    "train_features = transformer.fit_transform(data_train_scaled, df_train_labels.iloc[:,11])\n",
    "test_features = transformer.transform(data_test_scaled)"
   ]
  },
  {
   "cell_type": "code",
   "execution_count": null,
   "metadata": {},
   "outputs": [],
   "source": [
    "df_train_agg_features.columns[transformer.get_support(indices = True)]"
   ]
  },
  {
   "cell_type": "code",
   "execution_count": null,
   "metadata": {},
   "outputs": [],
   "source": [
    "columns_final = columns_1 + columns_2"
   ]
  },
  {
   "cell_type": "markdown",
   "metadata": {},
   "source": [
    "### Random forest"
   ]
  },
  {
   "cell_type": "code",
   "execution_count": null,
   "metadata": {},
   "outputs": [],
   "source": [
    "# Random forest Classifier\n",
    "columns_1 = [test_pids]\n",
    "for i in range(1, 12):\n",
    "    clf = RandomForestClassifier(min_samples_leaf=2, class_weight='balanced', oob_score=False, bootstrap=False)\n",
    "    clf.fit(data_train_scaled, df_train_labels.iloc[:,i])\n",
    "    print(clf.oob_score)\n",
    "    # compute probabilites as opposed to predictions\n",
    "    probability = clf.apply(data_test_scaled)\n",
    "    probs = [i[1] for i in probability] \n",
    "    columns_1.append(probs)\n",
    "    \n",
    "    \n",
    "    probability = clf.predict_proba(data_train_scaled)\n",
    "\n",
    "    probs = [i[1] for i in probability]            \n",
    "    tmp = roc_auc_score(y_score= probs, y_true= df_train_labels.iloc[:,i])\n",
    "    print(\"ROC AUC for feature\", list(df_train_labels)[i] , \" : \", tmp)"
   ]
  },
  {
   "cell_type": "markdown",
   "metadata": {},
   "source": [
    "# Kernelized Logistic Regression"
   ]
  },
  {
   "cell_type": "code",
   "execution_count": null,
   "metadata": {},
   "outputs": [],
   "source": [
    "# first for the labels that have an output [0,1]\n",
    "test_pids = list(set(df_test_features.pid))\n",
    "columns_1 = [test_pids]\n",
    "\n",
    "from sklearn.linear_model import LogisticRegression\n",
    "from sklearn.kernel_approximation import Nystroem\n",
    "from sklearn.model_selection import StratifiedKFold, KFold\n",
    "\n",
    "for i in range(1, 12):\n",
    "\n",
    "    feature_map_nystroem = Nystroem(kernel = 'rbf',\n",
    "                                 random_state=1,\n",
    "                                 n_components=500)\n",
    "    \n",
    "    train_transformed = feature_map_nystroem.fit_transform(data_train_scaled)\n",
    "    test_transformed = feature_map_nystroem.transform(data_test_scaled)\n",
    "    \n",
    "    clf_w = LogisticRegression(penalty = 'l1', class_weight = 'balanced', max_iter=10000, solver = 'saga')\n",
    "    \n",
    "    # checked before\n",
    "    #parameters = {'alpha':(0.0001, 0.001, 0.01, 0.1, 1, 5, 10, 20, 30)}\n",
    "    parameters = {'C':(0.1, 1, 5, 10, 20)}\n",
    "    \n",
    "    skf = StratifiedKFold(n_splits=10, shuffle = True, random_state = 1)\n",
    "    \n",
    "    clf = model_selection.GridSearchCV(estimator= clf_w, param_grid = parameters, cv = skf,\n",
    "                                        refit = True, scoring = 'roc_auc', verbose = 1,\n",
    "                                       n_jobs=6, return_train_score = True)\n",
    "    clf.fit(train_transformed, df_train_labels.iloc[:,i])\n",
    "    \n",
    "    print(clf.cv_results_['mean_train_score'])\n",
    "    print(clf.cv_results_['mean_test_score'])\n",
    "    print(clf.best_params_)\n",
    "    print(clf.best_score_)\n",
    " \n",
    "    probability_tmp = clf.predict_proba(test_transformed)\n",
    "    probability = [item[1] for item in probability_tmp]\n",
    "    columns_1.append(probability)\n",
    "\n",
    "    probability_tmp = clf.predict_proba(train_transformed)\n",
    "    probability_train = [item[1] for item in probability_tmp]\n",
    "    tmp = roc_auc_score(y_score= probability_train, y_true= df_train_labels.iloc[:,i])\n",
    "    print(\"ROC AUC for feature\", list(df_train_labels)[i] , \" : \", tmp)\n",
    "    "
   ]
  },
  {
   "cell_type": "markdown",
   "metadata": {},
   "source": [
    "# Compute the kernel and use SGD Classifier and Regressor"
   ]
  },
  {
   "cell_type": "code",
   "execution_count": null,
   "metadata": {
    "scrolled": true
   },
   "outputs": [],
   "source": [
    "# first for the labels that have an output [0,1]\n",
    "test_pids = list(set(df_test_features.pid))\n",
    "columns_1 = [test_pids]\n",
    "\n",
    "# from sklearn.kernel_ridge import KernelRidge\n",
    "from sklearn.kernel_approximation import Nystroem\n",
    "from sklearn import linear_model\n",
    "\n",
    "\n",
    "for i in range(1, 12):\n",
    "   \n",
    "    # feature selection\n",
    "    transformer =  GenericUnivariateSelect(score_func= mutual_info_classif, mode ='k_best', param=70)\n",
    "    train_features = transformer.fit_transform(data_train_scaled, df_train_labels.iloc[:,i])\n",
    "    print(\"For feature \", df_train_labels.columns[i])\n",
    "#     print(df_train_agg_features.columns[transformer.get_support(indices = True)])\n",
    "    test_features = transformer.transform(data_test_scaled)\n",
    "\n",
    "    \n",
    "    feature_map_nystroem = Nystroem(kernel = 'poly', degree = 3,\n",
    "                                 random_state=1,\n",
    "                                 n_components=300)\n",
    "    train_transformed = feature_map_nystroem.fit_transform(train_features)\n",
    "    test_transformed = feature_map_nystroem.transform(test_features)\n",
    "    \n",
    "    clf_w = linear_model.SGDClassifier(max_iter=100000, tol=1e-4, penalty = \"l2\", \n",
    "                                       loss = \"epsilon_insensitive\", class_weight='balanced')\n",
    "    # checked before\n",
    "    #parameters = {'alpha':(0.0001, 0.001, 0.01, 0.1, 1, 5, 10, 20, 30)}\n",
    "    parameters = {'alpha':(0.1, 1, 5, 10)}\n",
    "    \n",
    "    clf = model_selection.GridSearchCV(estimator= clf_w, param_grid = parameters, cv = 10,\n",
    "                                        refit = True, scoring = 'roc_auc', verbose = 1,\n",
    "                                       n_jobs=6, return_train_score = True)\n",
    "    clf.fit(train_transformed, df_train_labels.iloc[:,i])\n",
    "    \n",
    "#     print(clf.cv_results_)\n",
    "    print(clf.best_params_)\n",
    "    print(clf.best_score_)\n",
    "    # compute probabilites as opposed to predictions\n",
    "    #dual_coefficients = clf.dual_coef_    # do we have to normalize with norm of this vector ?\n",
    "    \n",
    "    distance_hyperplane = clf.decision_function(test_transformed)\n",
    "    probability = np.empty(len(distance_hyperplane))\n",
    "    for j in range(0, len(probability)):\n",
    "        if distance_hyperplane[j] < 0:\n",
    "            probability[j] = 1 - 1/(1 + math.exp(distance_hyperplane[j]))\n",
    "        else:\n",
    "            probability[j] = 1/(1 + math.exp(-distance_hyperplane[j]))\n",
    "    columns_1.append(probability)\n",
    "\n",
    "    \n",
    "    distance_hyperplace_train = clf.decision_function(train_transformed)\n",
    "    probability = np.empty(len(distance_hyperplace_train))\n",
    "    for j in range(0, len(probability)):\n",
    "        if distance_hyperplace_train[j] < 0:\n",
    "            probability[j] = 1 - 1/(1 + math.exp(distance_hyperplace_train[j]))\n",
    "        else:\n",
    "            probability[j] = 1/(1 + math.exp(-distance_hyperplace_train[j]))\n",
    "    \n",
    "    tmp = roc_auc_score(y_score= probability, y_true= df_train_labels.iloc[:,i])\n",
    "    print(\"ROC AUC for feature\", list(df_train_labels)[i] , \" : \", tmp)\n",
    "    "
   ]
  },
  {
   "cell_type": "code",
   "execution_count": null,
   "metadata": {},
   "outputs": [],
   "source": [
    "# labels that have a real value\n",
    "columns_2 = []\n",
    "\n",
    "for i in range(12, 16):\n",
    "#     feature selection\n",
    "#     transformer =  GenericUnivariateSelect(score_func= mutual_info_regression, mode ='k_best', param = 70)\n",
    "#     train_features = transformer.fit_transform(data_train_scaled, df_train_labels.iloc[:,i])\n",
    "# #     print(df_train_agg_features.columns[transformer.get_support(indices = True)])\n",
    "#     test_features = transformer.transform(data_test_scaled)\n",
    "    \n",
    "    feature_map_nystroem = Nystroem(kernel = 'rbf',\n",
    "                                 random_state=1,\n",
    "                                 n_components=500)\n",
    "    train_features = feature_map_nystroem.fit_transform(data_train_scaled)\n",
    "    test_features = feature_map_nystroem.transform(data_test_scaled)\n",
    "    \n",
    "    clf_w = linear_model.SGDRegressor(max_iter=100000, tol=1e-4,\n",
    "                                     loss = 'epsilon_insensitive', penalty = 'l1')\n",
    "    parameters = {'alpha':(0.00001, 0.0001, 0.001, 0.01, 0.1, 1, 5, 10, 20, 30)}\n",
    "    clf = model_selection.GridSearchCV(estimator= clf_w, param_grid = parameters, cv = 10,\n",
    "                                       refit = True, scoring = 'r2', verbose = 1, n_jobs=6, return_train_score=True)\n",
    "#     clf = KernelRidge(kernel = 'poly', degree = 5)\n",
    "#     parameters = {'alpha':(0.1,1,10,30)}\n",
    "#     clf = model_selection.GridSearchCV(estimator= clf, param_grid = parameters, cv = 3,\n",
    "#                                       refit = True, scoring = 'r2', verbose = 2, n_jobs=6)\n",
    "    clf.fit(train_features, df_train_labels.iloc[:,i])\n",
    "    \n",
    "#     print(clf.cv_results_)\n",
    "    print(clf.cv_results_['mean_train_score'])\n",
    "    print(clf.cv_results_['mean_test_score'])\n",
    "    print(clf.best_params_)\n",
    "    print(clf.best_score_)\n",
    "    \n",
    "    pred = clf.predict(test_features)\n",
    "    columns_2.append(pred) \n",
    "\n",
    "    pred_train = clf.predict(train_features)\n",
    "    tmp = r2_score(y_pred= pred_train, y_true=df_train_labels.iloc[:,i])\n",
    "    print(\"R2 for feature\", list(df_train_labels)[i] , \" : \", tmp)\n",
    "   "
   ]
  },
  {
   "cell_type": "code",
   "execution_count": null,
   "metadata": {},
   "outputs": [],
   "source": [
    "columns_final = columns_1 + columns_2"
   ]
  },
  {
   "cell_type": "markdown",
   "metadata": {},
   "source": [
    "# XGBoosting"
   ]
  },
  {
   "cell_type": "markdown",
   "metadata": {},
   "source": [
    "The benefit of XGBoost is that it accepts missing values."
   ]
  },
  {
   "cell_type": "code",
   "execution_count": 13,
   "metadata": {},
   "outputs": [],
   "source": [
    "import xgboost as xgb\n",
    "# simple example\n",
    "# load file from text file, also binary buffer generated by xgboost\n",
    "dtrain = xgb.DMatrix(df_train_agg_features, label=df_train_labels.iloc[:,11])\n",
    "dtest = xgb.DMatrix(df_test_agg_features)"
   ]
  },
  {
   "cell_type": "code",
   "execution_count": 14,
   "metadata": {},
   "outputs": [],
   "source": [
    "param = {'max_depth': 2, 'eta': 1, 'objective': 'binary:logistic', 'verbosity':1}\n",
    "param['nthread'] = 4\n",
    "param['eval_metric'] = 'auc'\n",
    "evallist = [(dtrain, 'train')]"
   ]
  },
  {
   "cell_type": "code",
   "execution_count": 15,
   "metadata": {},
   "outputs": [
    {
     "name": "stdout",
     "output_type": "stream",
     "text": [
      "[0]\ttrain-auc:0.64354+0.00724\ttest-auc:0.63346+0.02823\n",
      "[1]\ttrain-auc:0.69151+0.00626\ttest-auc:0.67614+0.03512\n",
      "[2]\ttrain-auc:0.70502+0.00350\ttest-auc:0.68443+0.03363\n",
      "[3]\ttrain-auc:0.71608+0.00508\ttest-auc:0.69292+0.02595\n",
      "[4]\ttrain-auc:0.72693+0.00470\ttest-auc:0.70031+0.02049\n",
      "[5]\ttrain-auc:0.73649+0.00484\ttest-auc:0.70530+0.02197\n",
      "[6]\ttrain-auc:0.74349+0.00496\ttest-auc:0.70955+0.02387\n",
      "[7]\ttrain-auc:0.75035+0.00495\ttest-auc:0.71195+0.02153\n",
      "[8]\ttrain-auc:0.75524+0.00404\ttest-auc:0.71086+0.02351\n",
      "[9]\ttrain-auc:0.75904+0.00309\ttest-auc:0.70961+0.02207\n"
     ]
    },
    {
     "data": {
      "text/html": [
       "<div>\n",
       "<style scoped>\n",
       "    .dataframe tbody tr th:only-of-type {\n",
       "        vertical-align: middle;\n",
       "    }\n",
       "\n",
       "    .dataframe tbody tr th {\n",
       "        vertical-align: top;\n",
       "    }\n",
       "\n",
       "    .dataframe thead th {\n",
       "        text-align: right;\n",
       "    }\n",
       "</style>\n",
       "<table border=\"1\" class=\"dataframe\">\n",
       "  <thead>\n",
       "    <tr style=\"text-align: right;\">\n",
       "      <th></th>\n",
       "      <th>train-auc-mean</th>\n",
       "      <th>train-auc-std</th>\n",
       "      <th>test-auc-mean</th>\n",
       "      <th>test-auc-std</th>\n",
       "    </tr>\n",
       "  </thead>\n",
       "  <tbody>\n",
       "    <tr>\n",
       "      <th>0</th>\n",
       "      <td>0.643538</td>\n",
       "      <td>0.007237</td>\n",
       "      <td>0.633455</td>\n",
       "      <td>0.028234</td>\n",
       "    </tr>\n",
       "    <tr>\n",
       "      <th>1</th>\n",
       "      <td>0.691513</td>\n",
       "      <td>0.006258</td>\n",
       "      <td>0.676137</td>\n",
       "      <td>0.035120</td>\n",
       "    </tr>\n",
       "    <tr>\n",
       "      <th>2</th>\n",
       "      <td>0.705022</td>\n",
       "      <td>0.003501</td>\n",
       "      <td>0.684427</td>\n",
       "      <td>0.033634</td>\n",
       "    </tr>\n",
       "    <tr>\n",
       "      <th>3</th>\n",
       "      <td>0.716080</td>\n",
       "      <td>0.005076</td>\n",
       "      <td>0.692920</td>\n",
       "      <td>0.025947</td>\n",
       "    </tr>\n",
       "    <tr>\n",
       "      <th>4</th>\n",
       "      <td>0.726930</td>\n",
       "      <td>0.004701</td>\n",
       "      <td>0.700306</td>\n",
       "      <td>0.020486</td>\n",
       "    </tr>\n",
       "    <tr>\n",
       "      <th>5</th>\n",
       "      <td>0.736486</td>\n",
       "      <td>0.004842</td>\n",
       "      <td>0.705297</td>\n",
       "      <td>0.021974</td>\n",
       "    </tr>\n",
       "    <tr>\n",
       "      <th>6</th>\n",
       "      <td>0.743489</td>\n",
       "      <td>0.004956</td>\n",
       "      <td>0.709551</td>\n",
       "      <td>0.023865</td>\n",
       "    </tr>\n",
       "    <tr>\n",
       "      <th>7</th>\n",
       "      <td>0.750346</td>\n",
       "      <td>0.004955</td>\n",
       "      <td>0.711953</td>\n",
       "      <td>0.021528</td>\n",
       "    </tr>\n",
       "    <tr>\n",
       "      <th>8</th>\n",
       "      <td>0.755236</td>\n",
       "      <td>0.004044</td>\n",
       "      <td>0.710862</td>\n",
       "      <td>0.023507</td>\n",
       "    </tr>\n",
       "    <tr>\n",
       "      <th>9</th>\n",
       "      <td>0.759035</td>\n",
       "      <td>0.003087</td>\n",
       "      <td>0.709613</td>\n",
       "      <td>0.022069</td>\n",
       "    </tr>\n",
       "  </tbody>\n",
       "</table>\n",
       "</div>"
      ],
      "text/plain": [
       "   train-auc-mean  train-auc-std  test-auc-mean  test-auc-std\n",
       "0        0.643538       0.007237       0.633455      0.028234\n",
       "1        0.691513       0.006258       0.676137      0.035120\n",
       "2        0.705022       0.003501       0.684427      0.033634\n",
       "3        0.716080       0.005076       0.692920      0.025947\n",
       "4        0.726930       0.004701       0.700306      0.020486\n",
       "5        0.736486       0.004842       0.705297      0.021974\n",
       "6        0.743489       0.004956       0.709551      0.023865\n",
       "7        0.750346       0.004955       0.711953      0.021528\n",
       "8        0.755236       0.004044       0.710862      0.023507\n",
       "9        0.759035       0.003087       0.709613      0.022069"
      ]
     },
     "execution_count": 15,
     "metadata": {},
     "output_type": "execute_result"
    }
   ],
   "source": [
    "num_round = 10\n",
    "xgb.cv(param, dtrain, num_round, nfold=10,\n",
    "       metrics={'auc'}, seed=0,\n",
    "       callbacks=[xgb.callback.print_evaluation(show_stdv=True)])\n",
    "# bst = xgb.train(param, dtrain, num_round)\n",
    "# pred = bst.predict(dtest)"
   ]
  },
  {
   "cell_type": "code",
   "execution_count": 35,
   "metadata": {},
   "outputs": [
    {
     "name": "stdout",
     "output_type": "stream",
     "text": [
      "[0]\ttrain-auc:0.88610+0.00722\ttest-auc:0.88471+0.01329\n",
      "[1]\ttrain-auc:0.90073+0.00176\ttest-auc:0.89910+0.00653\n",
      "[2]\ttrain-auc:0.90932+0.00234\ttest-auc:0.90496+0.00716\n",
      "[3]\ttrain-auc:0.91530+0.00239\ttest-auc:0.91091+0.00799\n",
      "[4]\ttrain-auc:0.91818+0.00088\ttest-auc:0.91331+0.00677\n",
      "[5]\ttrain-auc:0.92019+0.00093\ttest-auc:0.91476+0.00664\n",
      "[6]\ttrain-auc:0.92169+0.00097\ttest-auc:0.91593+0.00663\n",
      "[7]\ttrain-auc:0.92278+0.00091\ttest-auc:0.91635+0.00752\n",
      "[8]\ttrain-auc:0.92399+0.00107\ttest-auc:0.91699+0.00808\n",
      "[9]\ttrain-auc:0.92498+0.00116\ttest-auc:0.91749+0.00821\n",
      "ROC AUC for feature LABEL_BaseExcess  :  0.9737049936280611\n",
      "[0]\ttrain-auc:0.74258+0.00134\ttest-auc:0.74033+0.01356\n",
      "[1]\ttrain-auc:0.76549+0.00436\ttest-auc:0.75907+0.01270\n",
      "[2]\ttrain-auc:0.77302+0.00434\ttest-auc:0.76308+0.01513\n",
      "[3]\ttrain-auc:0.77888+0.00413\ttest-auc:0.76977+0.01801\n",
      "[4]\ttrain-auc:0.78824+0.00418\ttest-auc:0.77541+0.02293\n",
      "[5]\ttrain-auc:0.79508+0.00335\ttest-auc:0.78146+0.02379\n",
      "[6]\ttrain-auc:0.79966+0.00338\ttest-auc:0.78441+0.02409\n",
      "[7]\ttrain-auc:0.80419+0.00272\ttest-auc:0.78716+0.02383\n",
      "[8]\ttrain-auc:0.80828+0.00377\ttest-auc:0.78815+0.02457\n",
      "[9]\ttrain-auc:0.81126+0.00321\ttest-auc:0.79162+0.02497\n",
      "ROC AUC for feature LABEL_Fibrinogen  :  0.96\n",
      "[0]\ttrain-auc:0.66005+0.00824\ttest-auc:0.65668+0.01056\n",
      "[1]\ttrain-auc:0.69486+0.00363\ttest-auc:0.68843+0.01183\n",
      "[2]\ttrain-auc:0.70672+0.00465\ttest-auc:0.69952+0.01001\n",
      "[3]\ttrain-auc:0.72114+0.00089\ttest-auc:0.71022+0.00811\n",
      "[4]\ttrain-auc:0.72762+0.00136\ttest-auc:0.71372+0.00928\n",
      "[5]\ttrain-auc:0.73200+0.00202\ttest-auc:0.71499+0.00882\n",
      "[6]\ttrain-auc:0.73501+0.00249\ttest-auc:0.71651+0.00959\n",
      "[7]\ttrain-auc:0.73843+0.00216\ttest-auc:0.71767+0.00888\n",
      "[8]\ttrain-auc:0.74116+0.00132\ttest-auc:0.71854+0.01076\n",
      "[9]\ttrain-auc:0.74300+0.00100\ttest-auc:0.71915+0.00930\n",
      "ROC AUC for feature LABEL_AST  :  0.8588587497468612\n",
      "[0]\ttrain-auc:0.65946+0.00835\ttest-auc:0.65440+0.00893\n",
      "[1]\ttrain-auc:0.69710+0.00444\ttest-auc:0.69075+0.01507\n",
      "[2]\ttrain-auc:0.70918+0.00320\ttest-auc:0.70236+0.01230\n",
      "[3]\ttrain-auc:0.72172+0.00142\ttest-auc:0.71173+0.01060\n",
      "[4]\ttrain-auc:0.72861+0.00136\ttest-auc:0.71655+0.00881\n",
      "[5]\ttrain-auc:0.73319+0.00182\ttest-auc:0.71968+0.01009\n",
      "[6]\ttrain-auc:0.73646+0.00175\ttest-auc:0.72043+0.01023\n",
      "[7]\ttrain-auc:0.73965+0.00168\ttest-auc:0.72224+0.01113\n",
      "[8]\ttrain-auc:0.74293+0.00231\ttest-auc:0.72489+0.01102\n",
      "[9]\ttrain-auc:0.74527+0.00150\ttest-auc:0.72567+0.01007\n",
      "ROC AUC for feature LABEL_Alkalinephos  :  0.8449897673326289\n",
      "[0]\ttrain-auc:0.65293+0.00818\ttest-auc:0.64507+0.01067\n",
      "[1]\ttrain-auc:0.69621+0.00525\ttest-auc:0.69402+0.01169\n",
      "[2]\ttrain-auc:0.70830+0.00386\ttest-auc:0.70428+0.01142\n",
      "[3]\ttrain-auc:0.72101+0.00125\ttest-auc:0.71570+0.00874\n",
      "[4]\ttrain-auc:0.72758+0.00204\ttest-auc:0.72006+0.00904\n",
      "[5]\ttrain-auc:0.73161+0.00193\ttest-auc:0.72089+0.00989\n",
      "[6]\ttrain-auc:0.73521+0.00237\ttest-auc:0.72397+0.00966\n",
      "[7]\ttrain-auc:0.73802+0.00235\ttest-auc:0.72501+0.01074\n",
      "[8]\ttrain-auc:0.74141+0.00256\ttest-auc:0.72492+0.01259\n",
      "[9]\ttrain-auc:0.74400+0.00202\ttest-auc:0.72501+0.01205\n",
      "ROC AUC for feature LABEL_Bilirubin_total  :  0.8655101653842217\n",
      "[0]\ttrain-auc:0.73955+0.00176\ttest-auc:0.73818+0.01425\n",
      "[1]\ttrain-auc:0.78512+0.00371\ttest-auc:0.78125+0.01863\n",
      "[2]\ttrain-auc:0.78909+0.00342\ttest-auc:0.78314+0.01719\n",
      "[3]\ttrain-auc:0.79330+0.00374\ttest-auc:0.78578+0.01776\n",
      "[4]\ttrain-auc:0.79725+0.00357\ttest-auc:0.78745+0.01672\n",
      "[5]\ttrain-auc:0.80075+0.00210\ttest-auc:0.79057+0.01716\n",
      "[6]\ttrain-auc:0.80420+0.00205\ttest-auc:0.79201+0.01669\n",
      "[7]\ttrain-auc:0.80606+0.00247\ttest-auc:0.79233+0.01555\n",
      "[8]\ttrain-auc:0.80774+0.00229\ttest-auc:0.79228+0.01647\n",
      "[9]\ttrain-auc:0.80927+0.00221\ttest-auc:0.79256+0.01651\n",
      "ROC AUC for feature LABEL_Lactate  :  0.906126568961036\n",
      "[0]\ttrain-auc:0.83446+0.01883\ttest-auc:0.83013+0.02559\n",
      "[1]\ttrain-auc:0.87386+0.00108\ttest-auc:0.87388+0.00944\n",
      "[2]\ttrain-auc:0.88267+0.00206\ttest-auc:0.88055+0.01021\n",
      "[3]\ttrain-auc:0.89062+0.00384\ttest-auc:0.88426+0.00975\n",
      "[4]\ttrain-auc:0.89366+0.00350\ttest-auc:0.88650+0.01041\n",
      "[5]\ttrain-auc:0.89637+0.00293\ttest-auc:0.88584+0.01182\n",
      "[6]\ttrain-auc:0.89975+0.00186\ttest-auc:0.88923+0.01105\n",
      "[7]\ttrain-auc:0.90106+0.00199\ttest-auc:0.88969+0.01025\n",
      "[8]\ttrain-auc:0.90180+0.00223\ttest-auc:0.88946+0.01085\n",
      "[9]\ttrain-auc:0.90273+0.00202\ttest-auc:0.88956+0.00979\n",
      "ROC AUC for feature LABEL_TroponinI  :  0.9562005277044855\n",
      "[0]\ttrain-auc:0.78166+0.00196\ttest-auc:0.77959+0.01353\n",
      "[1]\ttrain-auc:0.80062+0.00188\ttest-auc:0.79733+0.01444\n",
      "[2]\ttrain-auc:0.80811+0.00325\ttest-auc:0.80265+0.01404\n",
      "[3]\ttrain-auc:0.81394+0.00374\ttest-auc:0.80622+0.01579\n",
      "[4]\ttrain-auc:0.81851+0.00235\ttest-auc:0.81084+0.01554\n",
      "[5]\ttrain-auc:0.82254+0.00229\ttest-auc:0.81395+0.01559\n",
      "[6]\ttrain-auc:0.82513+0.00188\ttest-auc:0.81537+0.01665\n",
      "[7]\ttrain-auc:0.82728+0.00182\ttest-auc:0.81594+0.01630\n",
      "[8]\ttrain-auc:0.82972+0.00242\ttest-auc:0.81618+0.01532\n",
      "[9]\ttrain-auc:0.83152+0.00242\ttest-auc:0.81591+0.01545\n",
      "ROC AUC for feature LABEL_SaO2  :  0.9267462028866649\n",
      "[0]\ttrain-auc:0.61653+0.01649\ttest-auc:0.60229+0.04069\n",
      "[1]\ttrain-auc:0.65247+0.01203\ttest-auc:0.63806+0.03011\n",
      "[2]\ttrain-auc:0.69089+0.01187\ttest-auc:0.67247+0.02994\n",
      "[3]\ttrain-auc:0.73219+0.02159\ttest-auc:0.69902+0.03998\n",
      "[4]\ttrain-auc:0.74657+0.00684\ttest-auc:0.71290+0.04313\n",
      "[5]\ttrain-auc:0.75173+0.00675\ttest-auc:0.72181+0.03819\n",
      "[6]\ttrain-auc:0.75601+0.00786\ttest-auc:0.71986+0.03925\n",
      "[7]\ttrain-auc:0.76169+0.00827\ttest-auc:0.72324+0.03531\n",
      "[8]\ttrain-auc:0.76592+0.00866\ttest-auc:0.72372+0.03214\n",
      "[9]\ttrain-auc:0.77336+0.00942\ttest-auc:0.72481+0.03226\n",
      "ROC AUC for feature LABEL_Bilirubin_direct  :  0.9883540372670807\n",
      "[0]\ttrain-auc:0.89045+0.00151\ttest-auc:0.88993+0.01383\n",
      "[1]\ttrain-auc:0.89581+0.00687\ttest-auc:0.88856+0.01555\n",
      "[2]\ttrain-auc:0.90586+0.01031\ttest-auc:0.90157+0.01883\n",
      "[3]\ttrain-auc:0.91400+0.00676\ttest-auc:0.90642+0.01991\n",
      "[4]\ttrain-auc:0.91804+0.00578\ttest-auc:0.90715+0.01838\n",
      "[5]\ttrain-auc:0.92022+0.00608\ttest-auc:0.91000+0.01847\n",
      "[6]\ttrain-auc:0.92120+0.00574\ttest-auc:0.90992+0.01814\n",
      "[7]\ttrain-auc:0.92343+0.00569\ttest-auc:0.91064+0.01774\n",
      "[8]\ttrain-auc:0.92594+0.00481\ttest-auc:0.91140+0.01643\n",
      "[9]\ttrain-auc:0.92749+0.00405\ttest-auc:0.91141+0.01634\n",
      "ROC AUC for feature LABEL_EtCO2  :  0.9980063795853269\n",
      "[0]\ttrain-auc:0.64400+0.00715\ttest-auc:0.63409+0.02790\n",
      "[1]\ttrain-auc:0.68103+0.00835\ttest-auc:0.66437+0.03121\n",
      "[2]\ttrain-auc:0.70571+0.00983\ttest-auc:0.68686+0.03728\n",
      "[3]\ttrain-auc:0.71473+0.00866\ttest-auc:0.69161+0.02949\n",
      "[4]\ttrain-auc:0.71949+0.00664\ttest-auc:0.69489+0.03035\n",
      "[5]\ttrain-auc:0.72860+0.00662\ttest-auc:0.69735+0.02583\n",
      "[6]\ttrain-auc:0.73317+0.00622\ttest-auc:0.69891+0.02478\n",
      "[7]\ttrain-auc:0.73838+0.00482\ttest-auc:0.70252+0.02504\n",
      "[8]\ttrain-auc:0.74199+0.00547\ttest-auc:0.70430+0.02534\n",
      "[9]\ttrain-auc:0.74601+0.00478\ttest-auc:0.70317+0.02459\n",
      "ROC AUC for feature LABEL_Sepsis  :  0.9338235294117647\n"
     ]
    }
   ],
   "source": [
    "from sklearn.model_selection import KFold\n",
    "\n",
    "test_pids = list(set(df_test_features.pid))\n",
    "columns_1 = [test_pids]\n",
    "\n",
    "kf = KFold(n_splits=10, shuffle=True, random_state=1)\n",
    "\n",
    "for i in range(1,12):\n",
    "\n",
    "    clf_w = xgb.XGBClassifier(cv = 10)\n",
    "        \n",
    "    clf_w.fit(df_train_agg_features, df_train_labels.iloc[:,i])\n",
    "    \n",
    "    dtrain = xgb.DMatrix(df_train_agg_features, label=df_train_labels.iloc[:,i])\n",
    "    num_round = 10\n",
    "    xgb.cv(param, dtrain, num_round, nfold=10,\n",
    "       metrics={'auc'}, seed=0,\n",
    "       callbacks=[xgb.callback.print_evaluation(show_stdv=True)])\n",
    "    \n",
    "    probability = clf_w.predict(df_test_agg_features)\n",
    "    columns_1.append(probability)\n",
    "\n",
    "    probability_train = clf_w.predict(df_train_agg_features)\n",
    "#     probability_train = [item[1] for item in probability_tmp]\n",
    "    tmp = roc_auc_score(y_score= probability_train, y_true= df_train_labels.iloc[:,i])\n",
    "    print(\"ROC AUC for feature\", list(df_train_labels)[i] , \" : \", tmp)"
   ]
  },
  {
   "cell_type": "code",
   "execution_count": null,
   "metadata": {},
   "outputs": [
    {
     "name": "stdout",
     "output_type": "stream",
     "text": [
      "[0]\ttrain-rmse:2.84320+0.00569\ttest-rmse:2.85736+0.05203\n",
      "[1]\ttrain-rmse:2.79428+0.00671\ttest-rmse:2.81488+0.05538\n",
      "[2]\ttrain-rmse:2.77582+0.00709\ttest-rmse:2.81021+0.05452\n",
      "[3]\ttrain-rmse:2.75927+0.00829\ttest-rmse:2.80433+0.05643\n",
      "[4]\ttrain-rmse:2.74522+0.00924\ttest-rmse:2.79285+0.06114\n"
     ]
    }
   ],
   "source": [
    "columns_2 = []\n",
    "param = {'max_depth': 2, 'eta': 1, 'objective': 'reg:squarederror', 'verbosity':1}\n",
    "param['nthread'] = 4\n",
    "param['eval_metric'] = 'rmse'\n",
    "evallist = [(dtrain, 'train')]\n",
    "\n",
    "for i in range(12,16):\n",
    "\n",
    "    clf_w = xgb.XGBRegressor(cv = 10)\n",
    "        \n",
    "    clf_w.fit(df_train_agg_features, df_train_labels.iloc[:,i])\n",
    "    \n",
    "    dtrain = xgb.DMatrix(df_train_agg_features, label=df_train_labels.iloc[:,i])\n",
    "    num_round = 10\n",
    "    xgb.cv(param, dtrain, num_round, nfold=10, seed=0,\n",
    "       callbacks=[xgb.callback.print_evaluation(show_stdv=True)])\n",
    "    \n",
    "    probability = clf_w.predict(df_test_agg_features)\n",
    "    columns_1.append(probability)\n",
    "\n",
    "    pred_train = clf_w.predict(df_train_agg_features)\n",
    "#     probability_train = [item[1] for item in probability_tmp]\n",
    "    tmp = r2_score(y_pred= pred_train, y_true=df_train_labels.iloc[:,i])\n",
    "    print(\"R2 for feature\", list(df_train_labels)[i] , \" : \", tmp)\n",
    "   "
   ]
  },
  {
   "cell_type": "code",
   "execution_count": 32,
   "metadata": {},
   "outputs": [
    {
     "name": "stdout",
     "output_type": "stream",
     "text": [
      "[[0, 3, 5, 7, 9, 11, 12, 15, 16, 17, 19, 21, 22, 25, 28, 32, 36, 40, 42, 44, 46, 52, 58, 59, 60, 65, 66, 67, 68, 72, 75, 78, 79, 82, 83, 84, 86, 93, 95, 98, 103, 106, 108, 110, 116, 117, 118, 119, 121, 125, 126, 132, 133, 135, 139, 147, 149, 152, 155, 156, 162, 167, 169, 172, 174, 178, 181, 183, 185, 186, 189, 192, 193, 196, 197, 198, 210, 217, 218, 219, 220, 221, 223, 229, 233, 234, 236, 242, 244, 246, 248, 250, 252, 255, 259, 260, 263, 264, 267, 269, 270, 273, 280, 281, 284, 291, 293, 298, 301, 303, 304, 306, 307, 310, 312, 313, 316, 317, 318, 323, 329, 335, 336, 337, 340, 341, 345, 350, 351, 353, 356, 358, 360, 363, 368, 369, 378, 379, 385, 386, 388, 389, 390, 392, 394, 399, 404, 411, 412, 413, 414, 417, 422, 423, 425, 429, 431, 432, 433, 436, 440, 442, 447, 450, 451, 454, 455, 457, 459, 461, 465, 470, 472, 474, 476, 482, 483, 489, 495, 498, 501, 505, 510, 511, 512, 514, 515, 516, 522, 523, 525, 526, 528, 529, 530, 533, 535, 539, 543, 544, 547, 550, 551, 554, 555, 563, 566, 567, 572, 577, 579, 583, 585, 586, 588, 591, 592, 593, 594, 595, 598, 599, 600, 601, 602, 604, 605, 606, 607, 608, 612, 613, 617, 624, 625, 626, 627, 630, 631, 632, 633, 635, 636, 638, 642, 643, 645, 647, 650, 653, 655, 656, 660, 661, 665, 666, 667, 668, 672, 676, 677, 678, 679, 681, 686, 697, 702, 714, 716, 719, 722, 723, 727, 732, 737, 742, 743, 752, 756, 761, 764, 767, 768, 770, 771, 776, 784, 787, 790, 791, 792, 794, 796, 797, 803, 804, 805, 806, 809, 810, 813, 818, 821, 822, 826, 827, 828, 829, 830, 831, 832, 836, 839, 841, 844, 845, 846, 848, 851, 853, 855, 856, 857, 858, 859, 864, 866, 867, 868, 870, 871, 873, 879, 880, 881, 888, 889, 890, 892, 895, 897, 901, 903, 904, 906, 910, 911, 912, 913, 915, 916, 920, 921, 923, 925, 926, 929, 930, 931, 933, 935, 939, 942, 943, 944, 947, 949, 950, 955, 965, 967, 969, 971, 972, 977, 978, 979, 981, 982, 983, 986, 987, 988, 989, 990, 991, 993, 994, 995, 996, 997, 1003, 1004, 1005, 1006, 1012, 1016, 1018, 1025, 1027, 1029, 1031, 1032, 1034, 1035, 1037, 1040, 1041, 1055, 1057, 1060, 1061, 1062, 1063, 1064, 1069, 1071, 1072, 1076, 1077, 1079, 1081, 1083, 1084, 1088, 1089, 1090, 1091, 1095, 1098, 1100, 1105, 1106, 1109, 1110, 1111, 1112, 1116, 1117, 1122, 1123, 1124, 1125, 1127, 1128, 1131, 1138, 1141, 1144, 1146, 1147, 1153, 1156, 1157, 1158, 1161, 1162, 1164, 1168, 1169, 1170, 1174, 1176, 1177, 1180, 1182, 1186, 1189, 1191, 1193, 1197, 1199, 1200, 1202, 1204, 1206, 1207, 1208, 1210, 1213, 1215, 1216, 1218, 1219, 1220, 1224, 1225, 1229, 1231, 1233, 1238, 1242, 1243, 1245, 1249, 1251, 1255, 1259, 1265, 1266, 1268, 1269, 1270, 1271, 1272, 1273, 1275, 1276, 1278, 1280, 1282, 1288, 1290, 1291, 1294, 1295, 1297, 1298, 1301, 1302, 1303, 1305, 1310, 1315, 1316, 1321, 1322, 1323, 1325, 1326, 1327, 1331, 1332, 1333, 1334, 1335, 1336, 1337, 1341, 1343, 1347, 1352, 1353, 1356, 1358, 1359, 1360, 1361, 1362, 1369, 1370, 1372, 1374, 1375, 1376, 1378, 1379, 1380, 1382, 1383, 1384, 1385, 1386, 1387, 1390, 1391, 1393, 1394, 1401, 1404, 1405, 1406, 1407, 1410, 1411, 1414, 1415, 1419, 1421, 1422, 1423, 1426, 1430, 1432, 1433, 1435, 1436, 1437, 1441, 1442, 1444, 1449, 1450, 1451, 1452, 1453, 1455, 1456, 1469, 1471, 1474, 1475, 1477, 1479, 1480, 1481, 1482, 1484, 1488, 1490, 1493, 1495, 1496, 1497, 1498, 1501, 1502, 1504, 1505, 1506, 1509, 1511, 1513, 1517, 1523, 1526, 1528, 1529, 1532, 1533, 1536, 1538, 1539, 1542, 1543, 1546, 1547, 1549, 1550, 1552, 1553, 1554, 1556, 1559, 1567, 1576, 1577, 1578, 1579, 1580, 1582, 1588, 1590, 1591, 1592, 1595, 1596, 1597, 1598, 1602, 1603, 1606, 1608, 1609, 1613, 1617, 1618, 1621, 1631, 1632, 1634, 1635, 1636, 1638, 1640, 1641, 1644, 1647, 1648, 1658, 1662, 1663, 1664, 1669, 1670, 1676, 1681, 1683, 1685, 1688, 1691, 1693, 1694, 1695, 1699, 1700, 1701, 1702, 1704, 1705, 1706, 1707, 1716, 1719, 1720, 1723, 1726, 1728, 1732, 1735, 1736, 1738, 1739, 1741, 1742, 1744, 1746, 1747, 1752, 1755, 1757, 1758, 1761, 1763, 1765, 1767, 1770, 1773, 1774, 1776, 1778, 1781, 1782, 1787, 1792, 1794, 1796, 1800, 1801, 1804, 1807, 1808, 1814, 1815, 1822, 1824, 1827, 1832, 1834, 1835, 1836, 1839, 1842, 1843, 1849, 1850, 1854, 1860, 1861, 1865, 1867, 1870, 1873, 1875, 1876, 1878, 1881, 1883, 1885, 1886, 1889, 1894, 1896, 1898, 1904, 1907, 1911, 1913, 1919, 1920, 1923, 1925, 1929, 1930, 1932, 1933, 1934, 1940, 1943, 1949, 1951, 1953, 1955, 1956, 1960, 1963, 1964, 1965, 1967, 1968, 1972, 1973, 1975, 1978, 1982, 1983, 1985, 1986, 1992, 1994, 1996, 2004, 2007, 2012, 2015, 2016, 2019, 2020, 2024, 2025, 2027, 2029, 2030, 2034, 2036, 2039, 2041, 2042, 2043, 2044, 2045, 2046, 2052, 2055, 2060, 2066, 2067, 2071, 2074, 2075, 2077, 2080, 2081, 2087, 2090, 2091, 2097, 2098, 2100, 2102, 2104, 2107, 2108, 2109, 2117, 2121, 2122, 2123, 2128, 2129, 2130, 2136, 2137, 2138, 2139, 2143, 2150, 2151, 2154, 2156, 2158, 2159, 2161, 2162, 2163, 2164, 2165, 2170, 2175, 2176, 2177, 2182, 2185, 2188, 2190, 2192, 2194, 2196, 2199, 2201, 2204, 2207, 2209, 2210, 2211, 2212, 2213, 2218, 2221, 2222, 2224, 2228, 2230, 2233, 2234, 2236, 2237, 2246, 2249, 2252, 2253, 2254, 2258, 2263, 2264, 2267, 2270, 2271, 2272, 2273, 2280, 2286, 2287, 2292, 2296, 2297, 2299, 2300, 2301, 2303, 2304, 2306, 2307, 2309, 2311, 2313, 2314, 2315, 2316, 2317, 2319, 2321, 2324, 2325, 2331, 2335, 2336, 2339, 2340, 2341, 2342, 2343, 2344, 2347, 2352, 2358, 2362, 2364, 2365, 2366, 2369, 2371, 2375, 2376, 2377, 2383, 2386, 2388, 2390, 2392, 2394, 2401, 2404, 2405, 2406, 2409, 2414, 2415, 2417, 2419, 2422, 2423, 2427, 2429, 2433, 2434, 2435, 2436, 2437, 2438, 2441, 2442, 2443, 2446, 2447, 2448, 2451, 2456, 2459, 2460, 2461, 2464, 2469, 2470, 2473, 2477, 2482, 2484, 2486, 2487, 2493, 2497, 2498, 2503, 2507, 2509, 2511, 2512, 2513, 2517, 2519, 2526, 2528, 2530, 2535, 2537, 2538, 2540, 2543, 2547, 2548, 2549, 2554, 2555, 2557, 2559, 2560, 2566, 2570, 2571, 2573, 2576, 2579, 2580, 2583, 2590, 2593, 2599, 2601, 2603, 2604, 2609, 2614, 2616, 2617, 2618, 2620, 2624, 2625, 2629, 2636, 2638, 2642, 2643, 2645, 2647, 2649, 2657, 2658, 2659, 2661, 2665, 2666, 2668, 2671, 2673, 2685, 2686, 2693, 2696, 2704, 2705, 2713, 2723, 2724, 2727, 2728, 2729, 2733, 2736, 2742, 2743, 2745, 2748, 2754, 2757, 2764, 2768, 2771, 2774, 2776, 2777, 2779, 2780, 2782, 2784, 2787, 2788, 2790, 2792, 2794, 2795, 2796, 2798, 2800, 2801, 2802, 2804, 2805, 2807, 2809, 2812, 2814, 2816, 2817, 2818, 2819, 2822, 2823, 2826, 2829, 2830, 2832, 2835, 2843, 2846, 2847, 2849, 2850, 2851, 2852, 2853, 2855, 2856, 2858, 2861, 2867, 2869, 2872, 2873, 2882, 2884, 2887, 2891, 2892, 2893, 2896, 2898, 2905, 2910, 2911, 2912, 2914, 2915, 2916, 2917, 2919, 2922, 2924, 2930, 2931, 2932, 2933, 2937, 2939, 2944, 2945, 2947, 2948, 2949, 2952, 2953, 2955, 2958, 2967, 2969, 2971, 2973, 2975, 2979, 2980, 2981, 2982, 2983, 2984, 2985, 2986, 2988, 2989, 2990, 2993, 2997, 3007, 3011, 3012, 3013, 3014, 3018, 3019, 3021, 3022, 3023, 3025, 3026, 3034, 3039, 3040, 3042, 3045, 3046, 3049, 3053, 3054, 3057, 3060, 3061, 3063, 3066, 3069, 3076, 3078, 3079, 3080, 3085, 3086, 3088, 3090, 3091, 3092, 3094, 3101, 3102, 3106, 3108, 3113, 3114, 3115, 3116, 3118, 3119, 3124, 3129, 3131, 3133, 3135, 3136, 3142, 3144, 3146, 3147, 3149, 3150, 3152, 3155, 3156, 3158, 3162, 3167, 3173, 3175, 3177, 3180, 3181, 3185, 3189, 3192, 3193, 3195, 3196, 3198, 3204, 3205, 3206, 3208, 3209, 3210, 3217, 3219, 3221, 3222, 3225, 3227, 3233, 3234, 3235, 3241, 3243, 3244, 3247, 3253, 3259, 3260, 3262, 3263, 3264, 3265, 3266, 3268, 3270, 3280, 3283, 3284, 3285, 3289, 3295, 3297, 3302, 3303, 3307, 3308, 3311, 3315, 3316, 3317, 3322, 3323, 3324, 3328, 3329, 3330, 3339, 3345, 3348, 3349, 3350, 3351, 3353, 3356, 3360, 3364, 3368, 3371, 3375, 3378, 3379, 3380, 3381, 3385, 3386, 3390, 3393, 3400, 3404, 3407, 3408, 3409, 3416, 3420, 3421, 3424, 3425, 3426, 3429, 3431, 3433, 3435, 3436, 3437, 3441, 3442, 3454, 3459, 3461, 3464, 3468, 3469, 3471, 3472, 3476, 3477, 3478, 3479, 3480, 3485, 3492, 3501, 3509, 3513, 3514, 3516, 3519, 3522, 3526, 3531, 3535, 3536, 3537, 3542, 3544, 3545, 3551, 3553, 3557, 3564, 3566, 3567, 3568, 3569, 3570, 3571, 3572, 3576, 3577, 3580, 3582, 3583, 3586, 3592, 3599, 3600, 3601, 3603, 3609, 3612, 3614, 3615, 3616, 3618, 3621, 3628, 3630, 3634, 3637, 3638, 3639, 3642, 3644, 3647, 3648, 3650, 3651, 3656, 3660, 3661, 3663, 3664, 3667, 3671, 3674, 3678, 3682, 3690, 3692, 3693, 3694, 3701, 3703, 3706, 3708, 3709, 3712, 3715, 3716, 3717, 3718, 3723, 3725, 3727, 3729, 3732, 3745, 3748, 3750, 3751, 3752, 3761, 3762, 3764, 3770, 3771, 3772, 3773, 3776, 3777, 3780, 3783, 3786, 3789, 3792, 3793, 3798, 3800, 3803, 3804, 3805, 3807, 3809, 3812, 3815, 3816, 3822, 3826, 3830, 3831, 3835, 3837, 3840, 3842, 3844, 3846, 3854, 3857, 3859, 3861, 3864, 3869, 3871, 3872, 3873, 3874, 3885, 3886, 3887, 3894, 3895, 3896, 3899, 3910, 3911, 3913, 3916, 3918, 3924, 3926, 3928, 3932, 3933, 3936, 3938, 3941, 3944, 3947, 3952, 3954, 3957, 3961, 3962, 3972, 3973, 3974, 3975, 3978, 3980, 3981, 3982, 3983, 3984, 3990, 3991, 3995, 4000, 4001, 4006, 4008, 4009, 4010, 4012, 4015, 4016, 4017, 4020, 4022, 4024, 4025, 4026, 4028, 4029, 4030, 4031, 4036, 4038, 4039, 4040, 4041, 4042, 4044, 4047, 4048, 4050, 4058, 4060, 4062, 4066, 4068, 4070, 4074, 4076, 4080, 4082, 4083, 4084, 4087, 4088, 4089, 4090, 4094, 4098, 4099, 4102, 4103, 4106, 4107, 4108, 4110, 4115, 4124, 4125, 4126, 4130, 4139, 4140, 4144, 4147, 4148, 4150, 4152, 4153, 4154, 4155, 4156, 4157, 4160, 4162, 4165, 4167, 4171, 4176, 4179, 4182, 4184, 4186, 4190, 4193, 4194, 4196, 4198, 4201, 4202, 4204, 4207, 4208, 4209, 4210, 4211, 4212, 4213, 4216, 4217, 4218, 4220, 4222, 4225, 4227, 4230, 4231, 4234, 4236, 4237, 4238, 4240, 4241, 4243, 4244, 4245, 4247, 4250, 4256, 4259, 4260, 4261, 4262, 4264, 4266, 4269, 4272, 4273, 4276, 4279, 4288, 4290, 4293, 4294, 4297, 4300, 4301, 4306, 4307, 4312, 4314, 4315, 4316, 4318, 4319, 4322, 4323, 4325, 4329, 4330, 4333, 4335, 4336, 4337, 4340, 4343, 4344, 4351, 4352, 4354, 4359, 4361, 4365, 4366, 4370, 4373, 4374, 4375, 4376, 4378, 4385, 4387, 4388, 4395, 4398, 4399, 4402, 4403, 4407, 4408, 4409, 4411, 4413, 4418, 4420, 4421, 4426, 4428, 4429, 4430, 4431, 4433, 4434, 4436, 4437, 4441, 4447, 4448, 4450, 4452, 4453, 4456, 4459, 4460, 4462, 4463, 4467, 4468, 4469, 4471, 4473, 4475, 4476, 4479, 4480, 4482, 4486, 4487, 4491, 4492, 4493, 4501, 4507, 4508, 4511, 4512, 4513, 4517, 4518, 4521, 4524, 4527, 4536, 4537, 4539, 4541, 4542, 4543, 4549, 4552, 4554, 4560, 4563, 4565, 4569, 4570, 4571, 4574, 4575, 4576, 4579, 4580, 4584, 4586, 4587, 4589, 4591, 4592, 4593, 4594, 4596, 4598, 4601, 4606, 4607, 4608, 4609, 4615, 4620, 4621, 4623, 4624, 4627, 4628, 4631, 4635, 4640, 4641, 4642, 4643, 4644, 4651, 4653, 4655, 4657, 4659, 4664, 4668, 4672, 4674, 4676, 4677, 4679, 4680, 4687, 4691, 4692, 4693, 4698, 4701, 4702, 4703, 4709, 4710, 4711, 4714, 4717, 4718, 4720, 4723, 4724, 4725, 4728, 4731, 4732, 4735, 4736, 4739, 4744, 4746, 4747, 4750, 4760, 4764, 4765, 4768, 4769, 4770, 4771, 4773, 4775, 4778, 4786, 4790, 4791, 4800, 4802, 4803, 4804, 4810, 4811, 4814, 4816, 4818, 4820, 4822, 4823, 4824, 4825, 4829, 4831, 4838, 4841, 4842, 4843, 4846, 4848, 4849, 4850, 4853, 4855, 4856, 4857, 4858, 4861, 4862, 4865, 4867, 4870, 4871, 4872, 4873, 4882, 4892, 4893, 4896, 4897, 4899, 4900, 4903, 4904, 4907, 4909, 4911, 4916, 4918, 4923, 4924, 4926, 4933, 4934, 4938, 4940, 4945, 4952, 4954, 4955, 4958, 4960, 4961, 4964, 4969, 4970, 4972, 4974, 4977, 4978, 4980, 4985, 4986, 4987, 4995, 4996, 5001, 5005, 5006, 5009, 5012, 5020, 5022, 5028, 5040, 5044, 5046, 5049, 5055, 5056, 5061, 5062, 5066, 5067, 5070, 5071, 5081, 5084, 5085, 5086, 5091, 5093, 5094, 5096, 5097, 5099, 5100, 5101, 5103, 5106, 5107, 5111, 5112, 5113, 5114, 5116, 5120, 5122, 5123, 5128, 5129, 5134, 5136, 5138, 5139, 5140, 5141, 5146, 5149, 5150, 5151, 5157, 5160, 5161, 5166, 5167, 5169, 5170, 5173, 5175, 5184, 5185, 5186, 5189, 5191, 5193, 5197, 5202, 5203, 5206, 5207, 5210, 5212, 5218, 5227, 5232, 5233, 5234, 5241, 5246, 5248, 5250, 5253, 5258, 5259, 5261, 5262, 5263, 5265, 5266, 5268, 5269, 5273, 5275, 5276, 5278, 5279, 5287, 5290, 5291, 5293, 5304, 5311, 5312, 5315, 5318, 5320, 5323, 5324, 5326, 5331, 5332, 5335, 5337, 5338, 5343, 5344, 5345, 5346, 5347, 5350, 5351, 5352, 5353, 5354, 5355, 5358, 5359, 5363, 5369, 5372, 5375, 5378, 5379, 5381, 5383, 5384, 5385, 5389, 5390, 5391, 5394, 5397, 5400, 5401, 5403, 5406, 5411, 5418, 5420, 5421, 5431, 5433, 5442, 5443, 5444, 5445, 5448, 5452, 5454, 5455, 5460, 5461, 5462, 5463, 5466, 5471, 5474, 5476, 5480, 5482, 5484, 5486, 5487, 5491, 5493, 5496, 5497, 5499, 5501, 5504, 5506, 5510, 5511, 5512, 5514, 5515, 5517, 5519, 5523, 5524, 5533, 5536, 5537, 5539, 5541, 5545, 5546, 5549, 5552, 5556, 5558, 5559, 5560, 5561, 5563, 5565, 5567, 5569, 5574, 5575, 5576, 5577, 5581, 5583, 5591, 5592, 5593, 5594, 5595, 5600, 5603, 5605, 5607, 5610, 5614, 5615, 5617, 5624, 5625, 5626, 5627, 5629, 5630, 5632, 5634, 5638, 5640, 5642, 5643, 5645, 5646, 5650, 5655, 5656, 5657, 5659, 5661, 5662, 5663, 5666, 5671, 5672, 5676, 5678, 5679, 5680, 5683, 5689, 5691, 5692, 5693, 5694, 5698, 5699, 5703, 5707, 5708, 5709, 5711, 5714, 5717, 5720, 5721, 5722, 5724, 5732, 5733, 5734, 5735, 5737, 5738, 5741, 5744, 5746, 5747, 5748, 5749, 5751, 5753, 5762, 5764, 5766, 5769, 5770, 5771, 5772, 5774, 5776, 5780, 5781, 5784, 5785, 5790, 5791, 5792, 5800, 5802, 5803, 5804, 5807, 5809, 5813, 5814, 5817, 5820, 5827, 5828, 5831, 5834, 5835, 5836, 5837, 5839, 5841, 5843, 5845, 5846, 5847, 5850, 5851, 5854, 5856, 5858, 5864, 5865, 5867, 5868, 5869, 5873, 5875, 5878, 5879, 5883, 5886, 5893, 5895, 5900, 5903, 5905, 5907, 5911, 5915, 5920, 5922, 5923, 5925, 5926, 5932, 5933, 5935, 5937, 5938, 5939, 5940, 5942, 5943, 5947, 5948, 5949, 5951, 5952, 5955, 5956, 5957, 5958, 5959, 5962, 5967, 5971, 5973, 5977, 5978, 5979, 5980, 5981, 5984, 5986, 5989, 5990, 5992, 5993, 5995, 5997, 5998, 5999, 6000, 6001, 6004, 6005, 6006, 6007, 6009, 6010, 6011, 6015, 6017, 6020, 6021, 6022, 6024, 6029, 6032, 6033, 6036, 6039, 6041, 6042, 6044, 6047, 6058, 6059, 6060, 6062, 6064, 6065, 6066, 6067, 6070, 6071, 6083, 6085, 6086, 6087, 6090, 6091, 6092, 6093, 6098, 6103, 6105, 6114, 6116, 6118, 6122, 6123, 6125, 6127, 6128, 6132, 6133, 6134, 6136, 6137, 6147, 6153, 6154, 6158, 6161, 6166, 6167, 6168, 6175, 6182, 6185, 6187, 6188, 6189, 6191, 6192, 6193, 6197, 6200, 6203, 6208, 6211, 6216, 6220, 6226, 6229, 6231, 6232, 6233, 6235, 6237, 6239, 6246, 6247, 6248, 6249, 6250, 6251, 6255, 6256, 6257, 6258, 6261, 6262, 6263, 6264, 6265, 6266, 6267, 6268, 6269, 6274, 6278, 6281, 6282, 6284, 6285, 6288, 6289, 6293, 6294, 6296, 6300, 6302, 6303, 6305, 6306, 6308, 6316, 6321, 6322, 6323, 6324, 6325, 6327, 6330, 6331, 6332, 6336, 6337, 6342, 6345, 6346, 6349, 6351, 6357, 6360, 6362, 6365, 6366, 6368, 6374, 6377, 6379, 6382, 6383, 6384, 6386, 6387, 6388, 6390, 6397, 6400, 6402, 6403, 6407, 6409, 6410, 6412, 6414, 6417, 6418, 6423, 6428, 6430, 6432, 6433, 6438, 6439, 6444, 6446, 6451, 6452, 6455, 6456, 6462, 6464, 6465, 6467, 6469, 6470, 6472, 6476, 6478, 6479, 6483, 6486, 6488, 6489, 6492, 6494, 6496, 6498, 6499, 6502, 6507, 6508, 6509, 6512, 6515, 6516, 6519, 6523, 6525, 6527, 6528, 6530, 6533, 6535, 6538, 6539, 6540, 6541, 6542, 6543, 6555, 6557, 6558, 6560, 6563, 6564, 6565, 6566, 6569, 6570, 6571, 6572, 6573, 6577, 6578, 6580, 6581, 6582, 6583, 6584, 6587, 6592, 6593, 6594, 6596, 6597, 6600, 6601, 6604, 6606, 6609, 6610, 6615, 6616, 6617, 6624, 6627, 6628, 6630, 6637, 6638, 6645, 6649, 6650, 6651, 6652, 6653, 6655, 6656, 6663, 6668, 6669, 6674, 6675, 6682, 6684, 6685, 6687, 6691, 6693, 6697, 6698, 6701, 6702, 6703, 6706, 6711, 6714, 6715, 6719, 6720, 6722, 6726, 6729, 6730, 6731, 6733, 6734, 6735, 6738, 6739, 6740, 6744, 6747, 6751, 6752, 6753, 6756, 6759, 6760, 6761, 6762, 6766, 6769, 6772, 6776, 6779, 6780, 6782, 6789, 6790, 6793, 6794, 6798, 6803, 6805, 6807, 6808, 6811, 6813, 6814, 6818, 6819, 6830, 6834, 6835, 6837, 6841, 6844, 6848, 6850, 6851, 6852, 6854, 6855, 6857, 6862, 6863, 6864, 6865, 6867, 6872, 6874, 6878, 6882, 6888, 6890, 6898, 6899, 6906, 6907, 6908, 6909, 6911, 6914, 6916, 6920, 6922, 6924, 6927, 6928, 6931, 6937, 6942, 6944, 6945, 6946, 6954, 6955, 6958, 6961, 6967, 6968, 6972, 6973, 6978, 6979, 6982, 6983, 6984, 6990, 6993, 6995, 6996, 6998, 6999, 7009, 7012, 7016, 7018, 7019, 7022, 7023, 7025, 7030, 7035, 7038, 7046, 7047, 7048, 7050, 7053, 7057, 7059, 7062, 7064, 7067, 7070, 7075, 7078, 7082, 7084, 7085, 7086, 7087, 7090, 7095, 7097, 7099, 7103, 7104, 7105, 7107, 7108, 7109, 7111, 7114, 7120, 7121, 7124, 7125, 7126, 7128, 7129, 7132, 7136, 7137, 7140, 7145, 7146, 7147, 7148, 7149, 7154, 7158, 7159, 7162, 7163, 7165, 7167, 7168, 7170, 7171, 7174, 7176, 7178, 7179, 7181, 7183, 7186, 7187, 7189, 7190, 7192, 7193, 7194, 7198, 7200, 7203, 7212, 7213, 7214, 7217, 7222, 7224, 7228, 7229, 7232, 7236, 7237, 7238, 7243, 7245, 7249, 7254, 7255, 7256, 7257, 7259, 7261, 7262, 7265, 7267, 7268, 7272, 7274, 7279, 7282, 7284, 7285, 7288, 7292, 7294, 7295, 7296, 7297, 7299, 7301, 7305, 7306, 7308, 7309, 7313, 7314, 7316, 7317, 7318, 7324, 7326, 7327, 7328, 7330, 7337, 7342, 7350, 7352, 7355, 7356, 7357, 7358, 7361, 7364, 7365, 7367, 7369, 7370, 7372, 7385, 7386, 7388, 7389, 7392, 7394, 7395, 7398, 7401, 7402, 7404, 7406, 7412, 7417, 7419, 7420, 7423, 7424, 7426, 7427, 7428, 7429, 7430, 7433, 7434, 7435, 7436, 7437, 7443, 7444, 7447, 7449, 7452, 7453, 7459, 7462, 7464, 7466, 7469, 7472, 7473, 7474, 7478, 7480, 7481, 7484, 7486, 7492, 7493, 7494, 7496, 7497, 7499, 7502, 7506, 7518, 7523, 7526, 7528, 7533, 7536, 7537, 7540, 7546, 7548, 7551, 7554, 7555, 7556, 7558, 7560, 7562, 7563, 7564, 7565, 7569, 7578, 7579, 7583, 7588, 7594, 7602, 7603, 7608, 7610, 7611, 7612, 7615, 7616, 7617, 7621, 7623, 7626, 7633, 7636, 7637, 7639, 7641, 7643, 7644, 7645, 7650, 7651, 7652, 7653, 7654, 7655, 7657, 7658, 7659, 7661, 7663, 7664, 7665, 7668, 7669, 7670, 7672, 7674, 7675, 7677, 7679, 7681, 7682, 7683, 7684, 7685, 7686, 7690, 7693, 7697, 7698, 7701, 7705, 7711, 7712, 7714, 7717, 7718, 7719, 7720, 7722, 7724, 7726, 7727, 7729, 7731, 7733, 7735, 7738, 7741, 7743, 7744, 7745, 7757, 7762, 7772, 7774, 7777, 7778, 7779, 7782, 7783, 7789, 7790, 7792, 7797, 7800, 7801, 7802, 7804, 7806, 7808, 7810, 7812, 7814, 7815, 7816, 7818, 7820, 7823, 7825, 7827, 7829, 7830, 7831, 7832, 7833, 7834, 7836, 7837, 7838, 7839, 7843, 7845, 7849, 7852, 7853, 7856, 7858, 7859, 7861, 7864, 7865, 7866, 7868, 7871, 7873, 7876, 7878, 7889, 7892, 7899, 7904, 7908, 7909, 7913, 7915, 7918, 7928, 7929, 7930, 7932, 7934, 7936, 7938, 7939, 7942, 7943, 7946, 7947, 7952, 7955, 7958, 7963, 7964, 7965, 7967, 7972, 7975, 7977, 7981, 7983, 7987, 7990, 7994, 7995, 7996, 7999, 8001, 8002, 8005, 8007, 8010, 8013, 8017, 8018, 8021, 8025, 8031, 8034, 8041, 8043, 8044, 8050, 8051, 8057, 8058, 8063, 8064, 8067, 8070, 8071, 8073, 8077, 8083, 8084, 8085, 8086, 8087, 8089, 8093, 8096, 8097, 8104, 8106, 8107, 8108, 8109, 8110, 8111, 8112, 8114, 8116, 8121, 8125, 8126, 8131, 8133, 8134, 8135, 8136, 8137, 8138, 8139, 8142, 8143, 8146, 8149, 8156, 8157, 8160, 8162, 8165, 8167, 8171, 8172, 8173, 8177, 8184, 8185, 8186, 8189, 8191, 8193, 8196, 8198, 8200, 8202, 8203, 8207, 8210, 8211, 8213, 8214, 8215, 8217, 8221, 8222, 8223, 8224, 8226, 8230, 8232, 8233, 8236, 8238, 8239, 8240, 8241, 8242, 8245, 8248, 8261, 8266, 8267, 8270, 8271, 8272, 8274, 8275, 8276, 8277, 8280, 8287, 8293, 8299, 8305, 8306, 8311, 8312, 8313, 8314, 8315, 8326, 8329, 8330, 8333, 8337, 8341, 8347, 8349, 8350, 8351, 8354, 8356, 8357, 8358, 8360, 8363, 8364, 8376, 8378, 8384, 8385, 8392, 8395, 8397, 8398, 8400, 8402, 8403, 8405, 8408, 8413, 8419, 8424, 8425, 8427, 8428, 8434, 8435, 8438, 8446, 8449, 8450, 8451, 8452, 8457, 8458, 8460, 8462, 8464, 8467, 8470, 8472, 8475, 8476, 8479, 8481, 8482, 8484, 8485, 8486, 8487, 8489, 8491, 8494, 8496, 8497, 8498, 8499, 8503, 8504, 8505, 8513, 8514, 8520, 8524, 8526, 8527, 8528, 8531, 8535, 8537, 8539, 8540, 8544, 8547, 8552, 8554, 8556, 8558, 8559, 8565, 8566, 8568, 8570, 8571, 8575, 8577, 8578, 8580, 8583, 8584, 8587, 8588, 8589, 8590, 8593, 8595, 8599, 8600, 8601, 8604, 8606, 8609, 8611, 8618, 8619, 8621, 8623, 8626, 8628, 8629, 8630, 8633, 8634, 8644, 8645, 8646, 8647, 8648, 8649, 8651, 8652, 8657, 8659, 8661, 8662, 8663, 8664, 8667, 8669, 8671, 8676, 8678, 8685, 8686, 8688, 8697, 8698, 8699, 8700, 8702, 8703, 8704, 8706, 8712, 8714, 8716, 8717, 8723, 8728, 8729, 8730, 8731, 8732, 8733, 8740, 8742, 8744, 8748, 8750, 8753, 8758, 8762, 8764, 8766, 8770, 8771, 8773, 8778, 8780, 8783, 8789, 8791, 8792, 8794, 8796, 8797, 8798, 8802, 8804, 8806, 8808, 8809, 8810, 8812, 8814, 8817, 8818, 8822, 8824, 8825, 8826, 8827, 8828, 8829, 8830, 8836, 8837, 8838, 8840, 8841, 8848, 8852, 8854, 8857, 8860, 8862, 8865, 8866, 8874, 8875, 8876, 8877, 8881, 8882, 8884, 8885, 8886, 8888, 8891, 8896, 8897, 8900, 8901, 8902, 8905, 8912, 8913, 8915, 8918, 8919, 8920, 8922, 8925, 8928, 8930, 8937, 8940, 8942, 8943, 8945, 8947, 8949, 8952, 8955, 8958, 8960, 8963, 8965, 8966, 8967, 8971, 8973, 8978, 8979, 8984, 8987, 8989, 8991, 8993, 8999, 9000, 9009, 9016, 9020, 9023, 9029, 9030, 9031, 9034, 9036, 9037, 9040, 9049, 9050, 9052, 9053, 9054, 9056, 9059, 9061, 9064, 9066, 9067, 9068, 9071, 9075, 9076, 9077, 9079, 9087, 9089, 9090, 9091, 9094, 9095, 9098, 9101, 9102, 9106, 9109, 9111, 9117, 9118, 9119, 9121, 9127, 9128, 9129, 9131, 9134, 9136, 9141, 9143, 9146, 9155, 9157, 9159, 9163, 9164, 9165, 9166, 9170, 9171, 9179, 9180, 9182, 9186, 9191, 9196, 9197, 9199, 9202, 9205, 9213, 9214, 9218, 9220, 9221, 9222, 9226, 9230, 9231, 9232, 9234, 9236, 9237, 9239, 9241, 9242, 9243, 9244, 9245, 9249, 9251, 9252, 9253, 9254, 9259, 9260, 9263, 9266, 9267, 9278, 9282, 9285, 9288, 9289, 9290, 9291, 9292, 9293, 9294, 9298, 9301, 9307, 9309, 9318, 9319, 9323, 9325, 9327, 9328, 9329, 9335, 9336, 9338, 9339, 9340, 9343, 9344, 9345, 9350, 9351, 9356, 9359, 9363, 9367, 9370, 9372, 9373, 9375, 9376, 9377, 9379, 9380, 9383, 9386, 9387, 9390, 9394, 9395, 9400, 9402, 9405, 9406, 9414, 9415, 9418, 9420, 9421, 9425, 9426, 9427, 9429, 9430, 9431, 9432, 9433, 9434, 9438, 9441, 9445, 9446, 9447, 9449, 9451, 9452, 9456, 9458, 9460, 9461, 9462, 9463, 9464, 9466, 9468, 9469, 9470, 9473, 9474, 9476, 9485, 9486, 9489, 9492, 9493, 9496, 9503, 9506, 9510, 9514, 9515, 9517, 9519, 9525, 9526, 9528, 9532, 9533, 9537, 9538, 9539, 9540, 9543, 9545, 9546, 9548, 9561, 9562, 9563, 9569, 9572, 9575, 9576, 9578, 9579, 9581, 9583, 9585, 9587, 9588, 9590, 9591, 9592, 9593, 9594, 9595, 9598, 9601, 9606, 9610, 9614, 9617, 9618, 9620, 9627, 9629, 9630, 9631, 9635, 9636, 9641, 9644, 9645, 9646, 9651, 9654, 9655, 9656, 9658, 9660, 9661, 9664, 9666, 9671, 9672, 9676, 9677, 9680, 9682, 9684, 9687, 9688, 9689, 9691, 9693, 9696, 9700, 9702, 9705, 9708, 9709, 9711, 9713, 9715, 9716, 9717, 9720, 9722, 9727, 9728, 9729, 9730, 9732, 9735, 9738, 9739, 9741, 9747, 9748, 9751, 9752, 9755, 9756, 9757, 9759, 9761, 9764, 9770, 9774, 9778, 9782, 9789, 9791, 9792, 9793, 9796, 9800, 9804, 9806, 9810, 9811, 9815, 9818, 9819, 9821, 9823, 9824, 9826, 9832, 9836, 9841, 9848, 9850, 9851, 9853, 9854, 9856, 9858, 9860, 9864, 9865, 9867, 9868, 9869, 9870, 9871, 9873, 9874, 9875, 9877, 9879, 9886, 9888, 9889, 9890, 9891, 9892, 9893, 9894, 9895, 9897, 9902, 9906, 9907, 9910, 9911, 9915, 9916, 9918, 9923, 9924, 9926, 9931, 9935, 9936, 9937, 9945, 9947, 9948, 9950, 9952, 9954, 9955, 9956, 9957, 9962, 9964, 9967, 9970, 9971, 9972, 9975, 9980, 9982, 9983, 9988, 9989, 9991, 9992, 9994, 9997, 10001, 10003, 10004, 10005, 10008, 10011, 10017, 10018, 10019, 10025, 10028, 10032, 10033, 10039, 10041, 10042, 10043, 10046, 10047, 10051, 10060, 10062, 10063, 10064, 10067, 10068, 10076, 10077, 10078, 10081, 10083, 10084, 10086, 10089, 10093, 10097, 10100, 10101, 10102, 10103, 10105, 10108, 10110, 10111, 10112, 10118, 10119, 10123, 10124, 10128, 10131, 10132, 10133, 10141, 10142, 10147, 10153, 10158, 10159, 10161, 10167, 10171, 10174, 10177, 10182, 10183, 10184, 10188, 10189, 10191, 10192, 10193, 10199, 10202, 10203, 10204, 10206, 10207, 10208, 10210, 10212, 10214, 10216, 10217, 10219, 10223, 10229, 10231, 10235, 10237, 10239, 10240, 10241, 10242, 10243, 10244, 10251, 10252, 10253, 10254, 10258, 10262, 10264, 10265, 10266, 10271, 10274, 10276, 10277, 10279, 10280, 10282, 10284, 10285, 10287, 10291, 10293, 10294, 10297, 10298, 10299, 10301, 10302, 10303, 10312, 10313, 10317, 10318, 10320, 10321, 10323, 10326, 10328, 10329, 10330, 10332, 10335, 10337, 10341, 10342, 10351, 10360, 10363, 10365, 10366, 10367, 10371, 10372, 10373, 10375, 10376, 10387, 10388, 10389, 10392, 10395, 10398, 10401, 10406, 10408, 10410, 10414, 10416, 10420, 10427, 10429, 10430, 10432, 10434, 10436, 10442, 10445, 10446, 10448, 10450, 10451, 10454, 10455, 10461, 10473, 10474, 10475, 10476, 10477, 10479, 10480, 10481, 10482, 10485, 10486, 10488, 10489, 10490, 10492, 10494, 10495, 10500, 10503, 10505, 10508, 10513, 10517, 10520, 10523, 10524, 10526, 10529, 10531, 10533, 10537, 10538, 10541, 10545, 10549, 10550, 10555, 10556, 10557, 10560, 10561, 10568, 10572, 10574, 10579, 10581, 10582, 10589, 10595, 10597, 10599, 10601, 10607, 10610, 10613, 10615, 10623, 10628, 10630, 10634, 10641, 10642, 10645, 10646, 10647, 10659, 10660, 10662, 10665, 10666, 10669, 10670, 10672, 10673, 10674, 10677, 10679, 10680, 10681, 10684, 10685, 10691, 10692, 10695, 10698, 10705, 10706, 10708, 10709, 10710, 10712, 10716, 10717, 10721, 10727, 10728, 10729, 10731, 10732, 10735, 10737, 10738, 10740, 10748, 10752, 10756, 10765, 10769, 10771, 10773, 10775, 10776, 10780, 10781, 10782, 10786, 10788, 10790, 10791, 10794, 10796, 10798, 10802, 10805, 10806, 10807, 10809, 10818, 10819, 10820, 10822, 10826, 10838, 10839, 10845, 10848, 10851, 10853, 10860, 10863, 10871, 10872, 10873, 10874, 10876, 10883, 10884, 10886, 10888, 10889, 10897, 10899, 10902, 10903, 10906, 10907, 10909, 10911, 10913, 10914, 10915, 10923, 10925, 10927, 10928, 10930, 10931, 10932, 10941, 10944, 10946, 10948, 10954, 10955, 10962, 10963, 10964, 10969, 10972, 10975, 10979, 10980, 10982, 10984, 10987, 10990, 10991, 10992, 10994, 10995, 10999, 11013, 11017, 11019, 11021, 11023, 11024, 11027, 11028, 11031, 11032, 11033, 11034, 11036, 11039, 11042, 11043, 11046, 11048, 11049, 11050, 11052, 11055, 11058, 11059, 11060, 11062, 11063, 11066, 11067, 11068, 11071, 11073, 11075, 11077, 11079, 11080, 11081, 11083, 11084, 11085, 11091, 11092, 11093, 11095, 11097, 11100, 11101, 11103, 11105, 11108, 11110, 11111, 11113, 11116, 11117, 11124, 11125, 11127, 11129, 11134, 11135, 11138, 11139, 11140, 11142, 11143, 11144, 11145, 11147, 11148, 11152, 11153, 11154, 11157, 11158, 11159, 11161, 11162, 11163, 11165, 11166, 11167, 11171, 11173, 11178, 11180, 11185, 11186, 11187, 11190, 11191, 11193, 11198, 11199, 11200, 11201, 11202, 11203, 11206, 11209, 11210, 11213, 11215, 11218, 11220, 11222, 11227, 11228, 11233, 11235, 11236, 11240, 11241, 11242, 11243, 11245, 11248, 11253, 11256, 11259, 11260, 11261, 11267, 11268, 11270, 11271, 11275, 11279, 11281, 11283, 11287, 11290, 11292, 11293, 11294, 11296, 11297, 11303, 11304, 11309, 11310, 11312, 11318, 11319, 11325, 11328, 11329, 11330, 11332, 11333, 11339, 11341, 11345, 11349, 11351, 11352, 11353, 11358, 11362, 11363, 11367, 11368, 11369, 11372, 11373, 11374, 11375, 11377, 11380, 11381, 11385, 11391, 11392, 11400, 11403, 11404, 11405, 11406, 11408, 11411, 11418, 11426, 11427, 11429, 11430, 11434, 11438, 11440, 11450, 11451, 11453, 11457, 11461, 11462, 11463, 11465, 11469, 11470, 11476, 11481, 11489, 11494, 11499, 11500, 11501, 11503, 11505, 11513, 11517, 11520, 11521, 11526, 11527, 11529, 11533, 11535, 11536, 11538, 11539, 11540, 11541, 11542, 11544, 11546, 11550, 11552, 11554, 11558, 11560, 11566, 11568, 11569, 11570, 11571, 11573, 11581, 11582, 11584, 11585, 11586, 11589, 11590, 11594, 11595, 11596, 11600, 11602, 11603, 11606, 11608, 11611, 11614, 11616, 11618, 11621, 11622, 11623, 11628, 11631, 11632, 11633, 11634, 11638, 11639, 11642, 11646, 11647, 11651, 11665, 11671, 11672, 11673, 11677, 11682, 11684, 11686, 11688, 11689, 11694, 11698, 11699, 11701, 11705, 11707, 11709, 11712, 11713, 11715, 11720, 11723, 11727, 11728, 11729, 11732, 11733, 11736, 11739, 11742, 11743, 11744, 11746, 11757, 11759, 11762, 11763, 11764, 11767, 11770, 11778, 11779, 11780, 11781, 11783, 11784, 11793, 11794, 11796, 11803, 11808, 11809, 11810, 11812, 11813, 11819, 11821, 11829, 11831, 11832, 11833, 11836, 11837, 11839, 11842, 11843, 11846, 11849, 11852, 11853, 11856, 11859, 11861, 11862, 11863, 11867, 11868, 11869, 11870, 11875, 11876, 11879, 11880, 11885, 11886, 11887, 11891, 11894, 11897, 11898, 11903, 11909, 11910, 11912, 11913, 11914, 11915, 11916, 11919, 11920, 11926, 11928, 11929, 11932, 11934, 11935, 11936, 11938, 11939, 11942, 11947, 11951, 11952, 11954, 11956, 11957, 11959, 11962, 11964, 11968, 11971, 11972, 11973, 11974, 11975, 11976, 11977, 11979, 11980, 11981, 11984, 11986, 11987, 11988, 11989, 11990, 11991, 11996, 11998, 11999, 12001, 12002, 12008, 12009, 12012, 12013, 12014, 12017, 12019, 12021, 12025, 12030, 12031, 12039, 12040, 12042, 12044, 12045, 12048, 12050, 12051, 12054, 12056, 12059, 12061, 12062, 12063, 12064, 12067, 12070, 12072, 12073, 12081, 12083, 12085, 12086, 12088, 12090, 12091, 12092, 12095, 12097, 12099, 12103, 12105, 12106, 12109, 12110, 12111, 12113, 12114, 12115, 12116, 12119, 12120, 12124, 12127, 12130, 12135, 12137, 12138, 12140, 12142, 12143, 12144, 12146, 12147, 12151, 12152, 12153, 12154, 12155, 12156, 12162, 12163, 12164, 12165, 12169, 12170, 12171, 12181, 12183, 12184, 12186, 12187, 12193, 12197, 12203, 12205, 12209, 12211, 12215, 12216, 12219, 12226, 12235, 12240, 12242, 12246, 12248, 12251, 12254, 12255, 12259, 12260, 12261, 12265, 12267, 12269, 12270, 12272, 12273, 12275, 12276, 12277, 12282, 12288, 12292, 12293, 12294, 12295, 12299, 12300, 12302, 12304, 12306, 12307, 12308, 12309, 12313, 12314, 12316, 12317, 12320, 12322, 12323, 12324, 12325, 12329, 12330, 12339, 12342, 12343, 12346, 12348, 12349, 12350, 12352, 12354, 12359, 12360, 12366, 12368, 12370, 12371, 12372, 12374, 12375, 12381, 12382, 12383, 12386, 12387, 12390, 12391, 12392, 12393, 12396, 12398, 12400, 12402, 12405, 12407, 12411, 12414, 12415, 12422, 12423, 12428, 12429, 12430, 12431, 12432, 12438, 12439, 12441, 12444, 12446, 12449, 12450, 12455, 12456, 12457, 12458, 12460, 12461, 12463, 12467, 12474, 12480, 12483, 12484, 12487, 12491, 12496, 12498, 12499, 12504, 12508, 12509, 12511, 12512, 12513, 12530, 12533, 12535, 12538, 12539, 12542, 12543, 12548, 12550, 12551, 12554, 12557, 12558, 12559, 12560, 12561, 12565, 12571, 12573, 12575, 12576, 12577, 12578, 12581, 12588, 12589, 12592, 12601, 12602, 12604, 12606, 12612, 12614, 12616, 12619, 12622, 12623, 12626, 12634, 12635, 12636, 12641, 12646, 12647, 12649, 12650, 12651, 12657, 12658, 12659, 12660, 12661, 12662, 12663, 12664, 12665, 12667, 12669, 12673, 12674, 12677, 12680, 12681, 12683, 12689, 12691, 12694, 12696, 12697, 12701, 12704, 12707, 12710, 12712, 12719, 12721, 12722, 12723, 12728, 12731, 12733, 12734, 12736, 12739, 12743, 12746, 12747, 12750, 12754, 12758, 12759, 12761, 12762, 12765, 12767, 12769, 12771, 12773, 12774, 12777, 12781, 12782, 12783, 12785, 12786, 12787, 12800, 12804, 12806, 12807, 12810, 12815, 12816, 12818, 12821, 12822, 12824, 12825, 12826, 12828, 12830, 12831, 12832, 12834, 12836, 12838, 12839, 12841, 12843, 12844, 12851, 12853, 12858, 12862, 12863, 12864, 12867, 12870, 12872, 12873, 12877, 12878, 12880, 12882, 12883, 12888, 12892, 12902, 12904, 12905, 12908, 12912, 12913, 12915, 12916, 12917, 12921, 12927, 12929, 12933, 12939, 12942, 12943, 12945, 12946, 12947, 12950, 12952, 12954, 12956, 12958, 12959, 12960, 12965, 12966, 12971, 12972, 12984, 12985, 12987, 12988, 12992, 12994, 12997, 12999, 13000, 13005, 13008, 13015, 13016, 13019, 13021, 13022, 13023, 13024, 13025, 13029, 13033, 13034, 13038, 13043, 13044, 13045, 13046, 13053, 13056, 13060, 13064, 13065, 13066, 13067, 13070, 13073, 13074, 13076, 13077, 13079, 13084, 13086, 13087, 13088, 13090, 13095, 13096, 13101, 13102, 13103, 13105, 13113, 13114, 13117, 13118, 13122, 13127, 13128, 13129, 13130, 13131, 13132, 13134, 13137, 13140, 13141, 13145, 13148, 13149, 13151, 13154, 13156, 13159, 13162, 13163, 13167, 13171, 13173, 13174, 13175, 13176, 13178, 13179, 13181, 13187, 13189, 13191, 13192, 13195, 13196, 13199, 13201, 13207, 13208, 13209, 13217, 13218, 13221, 13224, 13228, 13235, 13236, 13238, 13240, 13243, 13245, 13246, 13248, 13251, 13252, 13254, 13256, 13259, 13261, 13262, 13264, 13267, 13271, 13272, 13278, 13280, 13292, 13295, 13299, 13300, 13302, 13306, 13307, 13310, 13316, 13317, 13318, 13320, 13323, 13325, 13326, 13329, 13337, 13338, 13339, 13340, 13350, 13352, 13353, 13355, 13357, 13362, 13364, 13366, 13369, 13373, 13376, 13378, 13381, 13384, 13391, 13392, 13395, 13396, 13397, 13401, 13402, 13404, 13406, 13408, 13410, 13413, 13414, 13416, 13418, 13420, 13421, 13427, 13428, 13429, 13432, 13438, 13441, 13443, 13444, 13448, 13449, 13450, 13453, 13455, 13456, 13459, 13463, 13464, 13467, 13468, 13470, 13471, 13476, 13478, 13479, 13480, 13481, 13483, 13484, 13485, 13488, 13490, 13492, 13493, 13499, 13500, 13510, 13512, 13517, 13518, 13520, 13522, 13524, 13525, 13526, 13531, 13532, 13534, 13535, 13536, 13540, 13541, 13542, 13543, 13544, 13548, 13549, 13550, 13562, 13565, 13567, 13568, 13570, 13573, 13574, 13577, 13578, 13580, 13584, 13586, 13587, 13592, 13595, 13598, 13601, 13605, 13606, 13607, 13611, 13612, 13614, 13616, 13619, 13622, 13623, 13626, 13629, 13632, 13634, 13636, 13638, 13640, 13642, 13644, 13646, 13651, 13652, 13653, 13654, 13656, 13658, 13660, 13665, 13671, 13682, 13685, 13687, 13692, 13694, 13695, 13698, 13699, 13700, 13703, 13706, 13709, 13711, 13712, 13717, 13719, 13722, 13726, 13730, 13731, 13733, 13736, 13738, 13740, 13741, 13745, 13749, 13751, 13752, 13755, 13756, 13757, 13758, 13759, 13761, 13764, 13765, 13766, 13767, 13769, 13773, 13778, 13779, 13780, 13785, 13788, 13789, 13790, 13794, 13797, 13799, 13800, 13804, 13806, 13808, 13810, 13811, 13812, 13814, 13817, 13822, 13823, 13824, 13825, 13826, 13829, 13832, 13833, 13834, 13836, 13838, 13840, 13843, 13844, 13851, 13855, 13860, 13861, 13866, 13871, 13878, 13879, 13880, 13883, 13884, 13888, 13889, 13890, 13898, 13899, 13900, 13902, 13903, 13912, 13914, 13915, 13916, 13921, 13922, 13923, 13928, 13929, 13934, 13936, 13937, 13940, 13941, 13943, 13944, 13947, 13948, 13951, 13952, 13953, 13955, 13957, 13960, 13964, 13965, 13967, 13968, 13976, 13979, 13986, 13988, 13991, 13992, 13993, 13996, 13998, 14001, 14003, 14008, 14010, 14017, 14018, 14021, 14023, 14024, 14031, 14032, 14033, 14034, 14036, 14038, 14040, 14042, 14045, 14047, 14049, 14052, 14057, 14059, 14061, 14068, 14071, 14072, 14074, 14076, 14079, 14080, 14081, 14083, 14086, 14088, 14090, 14095, 14096, 14098, 14100, 14102, 14103, 14105, 14106, 14109, 14113, 14123, 14124, 14128, 14129, 14131, 14136, 14137, 14141, 14142, 14147, 14149, 14150, 14151, 14154, 14155, 14158, 14163, 14168, 14169, 14172, 14176, 14177, 14181, 14187, 14194, 14195, 14197, 14198, 14202, 14208, 14209, 14211, 14213, 14215, 14218, 14223, 14226, 14234, 14236, 14238, 14239, 14241, 14242, 14243, 14246, 14248, 14250, 14252, 14255, 14258, 14261, 14262, 14263, 14266, 14272, 14274, 14278, 14280, 14285, 14290, 14291, 14294, 14296, 14297, 14299, 14300, 14301, 14303, 14305, 14307, 14311, 14312, 14314, 14321, 14322, 14324, 14330, 14333, 14334, 14335, 14338, 14339, 14342, 14343, 14344, 14346, 14347, 14348, 14349, 14353, 14354, 14356, 14358, 14362, 14363, 14364, 14367, 14368, 14375, 14377, 14384, 14387, 14388, 14397, 14398, 14400, 14403, 14404, 14407, 14408, 14409, 14410, 14411, 14413, 14414, 14415, 14418, 14419, 14424, 14425, 14431, 14435, 14436, 14438, 14440, 14442, 14445, 14450, 14453, 14454, 14458, 14460, 14462, 14466, 14468, 14472, 14473, 14479, 14481, 14482, 14484, 14489, 14490, 14492, 14493, 14500, 14501, 14503, 14504, 14506, 14510, 14512, 14513, 14518, 14519, 14520, 14521, 14524, 14526, 14527, 14529, 14532, 14535, 14538, 14540, 14541, 14543, 14547, 14553, 14555, 14556, 14559, 14563, 14569, 14571, 14572, 14574, 14575, 14576, 14579, 14580, 14584, 14586, 14588, 14590, 14595, 14596, 14597, 14600, 14601, 14606, 14607, 14614, 14615, 14617, 14618, 14619, 14621, 14623, 14624, 14628, 14632, 14634, 14636, 14638, 14640, 14641, 14643, 14647, 14650, 14653, 14656, 14657, 14658, 14659, 14663, 14664, 14665, 14666, 14667, 14675, 14676, 14677, 14682, 14683, 14686, 14690, 14694, 14695, 14704, 14705, 14706, 14708, 14709, 14710, 14714, 14715, 14718, 14719, 14720, 14723, 14728, 14729, 14730, 14734, 14736, 14739, 14745, 14751, 14754, 14760, 14761, 14762, 14765, 14767, 14769, 14770, 14773, 14779, 14788, 14791, 14793, 14797, 14798, 14799, 14800, 14802, 14803, 14807, 14815, 14821, 14823, 14826, 14827, 14833, 14840, 14842, 14846, 14852, 14860, 14861, 14862, 14864, 14868, 14869, 14871, 14873, 14876, 14879, 14883, 14884, 14885, 14886, 14888, 14893, 14896, 14897, 14898, 14899, 14904, 14905, 14909, 14910, 14914, 14916, 14917, 14927, 14928, 14929, 14931, 14932, 14934, 14936, 14938, 14942, 14944, 14946, 14947, 14949, 14957, 14960, 14962, 14963, 14965, 14967, 14969, 14972, 14977, 14979, 14982, 14987, 14988, 14990, 14992, 14994, 14996, 14997, 14998, 14999, 15000, 15002, 15003, 15004, 15011, 15013, 15018, 15020, 15021, 15027, 15030, 15031, 15032, 15035, 15037, 15052, 15053, 15055, 15056, 15057, 15058, 15059, 15060, 15061, 15062, 15064, 15067, 15068, 15069, 15071, 15072, 15075, 15077, 15078, 15079, 15080, 15081, 15082, 15084, 15085, 15086, 15094, 15096, 15097, 15098, 15101, 15102, 15103, 15106, 15113, 15114, 15118, 15120, 15126, 15127, 15130, 15132, 15133, 15134, 15140, 15143, 15149, 15153, 15155, 15162, 15164, 15165, 15166, 15170, 15172, 15173, 15174, 15178, 15180, 15184, 15190, 15196, 15202, 15204, 15205, 15206, 15208, 15209, 15210, 15216, 15217, 15224, 15226, 15229, 15231, 15235, 15236, 15237, 15238, 15241, 15242, 15244, 15245, 15251, 15255, 15256, 15259, 15260, 15261, 15262, 15268, 15269, 15271, 15278, 15279, 15285, 15286, 15287, 15289, 15290, 15292, 15293, 15295, 15297, 15299, 15300, 15303, 15320, 15322, 15323, 15325, 15327, 15328, 15331, 15332, 15333, 15334, 15340, 15347, 15350, 15351, 15354, 15362, 15365, 15369, 15370, 15375, 15376, 15378, 15380, 15382, 15384, 15385, 15386, 15390, 15393, 15394, 15395, 15397, 15403, 15404, 15405, 15409, 15410, 15411, 15413, 15416, 15418, 15423, 15424, 15425, 15427, 15429, 15431, 15434, 15435, 15438, 15440, 15441, 15442, 15447, 15452, 15453, 15454, 15456, 15457, 15459, 15464, 15465, 15470, 15472, 15473, 15477, 15479, 15481, 15484, 15489, 15490, 15492, 15494, 15495, 15497, 15500, 15506, 15507, 15509, 15510, 15511, 15512, 15516, 15519, 15522, 15523, 15525, 15527, 15528, 15529, 15530, 15532, 15535, 15536, 15537, 15540, 15545, 15546, 15550, 15553, 15558, 15559, 15560, 15563, 15565, 15566, 15569, 15572, 15574, 15579, 15580, 15581, 15583, 15585, 15588, 15589, 15594, 15598, 15599, 15601, 15607, 15608, 15611, 15614, 15619, 15621, 15622, 15624, 15626, 15627, 15629, 15630, 15631, 15632, 15633, 15636, 15639, 15642, 15643, 15644, 15647, 15648, 15650, 15651, 15652, 15657, 15658, 15660, 15661, 15663, 15664, 15667, 15668, 15671, 15672, 15673, 15676, 15680, 15681, 15682, 15683, 15684, 15687, 15688, 15694, 15698, 15700, 15703, 15704, 15705, 15707, 15708, 15709, 15710, 15713, 15714, 15715, 15716, 15720, 15721, 15724, 15728, 15729, 15731, 15732, 15734, 15736, 15738, 15740, 15741, 15744, 15752, 15754, 15755, 15760, 15762, 15766, 15768, 15769, 15772, 15775, 15780, 15784, 15785, 15786, 15787, 15789, 15795, 15796, 15801, 15805, 15812, 15816, 15818, 15819, 15823, 15827, 15829, 15832, 15834, 15835, 15836, 15838, 15839, 15841, 15842, 15844, 15845, 15848, 15849, 15852, 15853, 15858, 15863, 15869, 15872, 15873, 15874, 15875, 15876, 15877, 15878, 15879, 15880, 15881, 15883, 15884, 15890, 15893, 15894, 15895, 15902, 15903, 15905, 15906, 15910, 15917, 15919, 15920, 15926, 15928, 15933, 15938, 15939, 15942, 15946, 15947, 15950, 15952, 15956, 15957, 15958, 15959, 15961, 15962, 15964, 15969, 15970, 15973, 15974, 15977, 15979, 15981, 15982, 15984, 15986, 15987, 15988, 16001, 16003, 16006, 16012, 16016, 16017, 16018, 16024, 16025, 16027, 16029, 16030, 16035, 16038, 16040, 16042, 16044, 16046, 16048, 16049, 16050, 16054, 16055, 16057, 16059, 16060, 16066, 16067, 16068, 16069, 16071, 16072, 16073, 16077, 16079, 16080, 16081, 16086, 16089, 16094, 16095, 16097, 16099, 16104, 16106, 16107, 16111, 16116, 16119, 16120, 16122, 16129, 16130, 16132, 16133, 16135, 16136, 16139, 16143, 16144, 16145, 16146, 16147, 16152, 16155, 16157, 16160, 16164, 16168, 16170, 16171, 16173, 16178, 16181, 16183, 16187, 16193, 16194, 16198, 16200, 16201, 16204, 16205, 16208, 16209, 16210, 16213, 16214, 16216, 16218, 16220, 16222, 16226, 16227, 16229, 16230, 16235, 16236, 16238, 16241, 16244, 16248, 16253, 16255, 16256, 16265, 16269, 16272, 16273, 16274, 16275, 16282, 16283, 16288, 16291, 16292, 16295, 16299, 16301, 16303, 16305, 16306, 16307, 16311, 16314, 16315, 16318, 16320, 16321, 16323, 16324, 16325, 16328, 16330, 16331, 16333, 16337, 16338, 16339, 16340, 16345, 16346, 16348, 16349, 16350, 16351, 16353, 16359, 16361, 16362, 16363, 16364, 16366, 16367, 16368, 16371, 16376, 16378, 16379, 16383, 16384, 16385, 16389, 16392, 16393, 16394, 16396, 16398, 16401, 16405, 16409, 16410, 16413, 16415, 16417, 16419, 16420, 16422, 16425, 16430, 16431, 16433, 16435, 16440, 16442, 16445, 16449, 16452, 16454, 16456, 16457, 16459, 16462, 16465, 16468, 16470, 16472, 16473, 16475, 16476, 16477, 16480, 16483, 16484, 16489, 16491, 16492, 16493, 16495, 16496, 16497, 16498, 16499, 16500, 16515, 16516, 16524, 16525, 16526, 16527, 16528, 16531, 16532, 16534, 16535, 16537, 16538, 16539, 16540, 16543, 16544, 16547, 16550, 16552, 16554, 16558, 16561, 16562, 16564, 16565, 16566, 16567, 16571, 16574, 16577, 16579, 16580, 16581, 16583, 16585, 16587, 16591, 16600, 16601, 16605, 16607, 16608, 16613, 16614, 16619, 16620, 16621, 16624, 16625, 16629, 16630, 16632, 16634, 16636, 16638, 16639, 16642, 16644, 16648, 16652, 16655, 16656, 16659, 16662, 16665, 16666, 16670, 16673, 16674, 16675, 16676, 16677, 16679, 16680, 16682, 16683, 16684, 16685, 16689, 16690, 16691, 16695, 16697, 16698, 16699, 16700, 16701, 16702, 16708, 16711, 16713, 16714, 16720, 16721, 16722, 16726, 16728, 16733, 16739, 16744, 16748, 16749, 16750, 16751, 16754, 16756, 16758, 16760, 16763, 16765, 16767, 16768, 16770, 16773, 16774, 16785, 16787, 16792, 16793, 16798, 16810, 16814, 16815, 16816, 16817, 16818, 16820, 16823, 16826, 16828, 16830, 16832, 16833, 16834, 16838, 16840, 16841, 16843, 16847, 16848, 16849, 16850, 16853, 16855, 16856, 16857, 16861, 16865, 16867, 16874, 16875, 16876, 16877, 16878, 16881, 16882, 16885, 16892, 16895, 16897, 16906, 16909, 16911, 16913, 16914, 16916, 16919, 16921, 16924, 16930, 16931, 16936, 16939, 16941, 16943, 16944, 16947, 16948, 16949, 16950, 16953, 16955, 16956, 16957, 16958, 16959, 16963, 16966, 16967, 16975, 16979, 16985, 16987, 16990, 16991, 16994, 17000, 17002, 17004, 17007, 17015, 17016, 17018, 17019, 17021, 17022, 17024, 17026, 17028, 17031, 17032, 17035, 17040, 17044, 17045, 17047, 17050, 17053, 17055, 17058, 17059, 17060, 17061, 17063, 17064, 17068, 17069, 17070, 17074, 17075, 17077, 17079, 17081, 17083, 17084, 17088, 17089, 17090, 17093, 17095, 17096, 17097, 17102, 17103, 17104, 17108, 17111, 17114, 17117, 17121, 17124, 17126, 17128, 17129, 17132, 17134, 17139, 17140, 17142, 17144, 17147, 17151, 17153, 17156, 17157, 17159, 17161, 17164, 17167, 17169, 17172, 17180, 17183, 17186, 17187, 17191, 17192, 17196, 17198, 17199, 17201, 17203, 17207, 17208, 17212, 17214, 17215, 17216, 17218, 17223, 17226, 17227, 17228, 17230, 17232, 17233, 17234, 17235, 17236, 17240, 17247, 17248, 17250, 17252, 17254, 17255, 17256, 17257, 17258, 17268, 17278, 17279, 17282, 17285, 17288, 17290, 17292, 17294, 17295, 17297, 17300, 17302, 17306, 17307, 17309, 17310, 17311, 17314, 17317, 17318, 17319, 17321, 17323, 17325, 17326, 17328, 17331, 17333, 17335, 17337, 17338, 17339, 17343, 17345, 17346, 17349, 17352, 17353, 17356, 17359, 17362, 17363, 17364, 17376, 17377, 17379, 17383, 17387, 17391, 17393, 17395, 17404, 17405, 17407, 17408, 17409, 17411, 17412, 17413, 17415, 17418, 17420, 17421, 17423, 17428, 17429, 17433, 17438, 17440, 17444, 17446, 17447, 17448, 17449, 17456, 17458, 17459, 17462, 17467, 17468, 17474, 17476, 17479, 17481, 17483, 17484, 17490, 17493, 17495, 17497, 17502, 17506, 17507, 17509, 17510, 17511, 17513, 17519, 17520, 17526, 17527, 17528, 17532, 17538, 17539, 17540, 17543, 17548, 17550, 17551, 17553, 17557, 17561, 17562, 17563, 17564, 17567, 17570, 17571, 17572, 17577, 17580, 17581, 17582, 17583, 17584, 17585, 17587, 17588, 17591, 17593, 17599, 17602, 17603, 17605, 17606, 17607, 17608, 17611, 17613, 17615, 17617, 17618, 17619, 17622, 17624, 17625, 17631, 17634, 17640, 17645, 17650, 17651, 17653, 17656, 17659, 17660, 17661, 17662, 17664, 17666, 17670, 17671, 17673, 17674, 17676, 17679, 17680, 17685, 17687, 17689, 17690, 17691, 17694, 17695, 17696, 17697, 17703, 17704, 17712, 17713, 17714, 17716, 17719, 17722, 17724, 17731, 17732, 17735, 17736, 17738, 17744, 17745, 17746, 17748, 17749, 17750, 17752, 17757, 17758, 17759, 17760, 17761, 17765, 17766, 17767, 17772, 17773, 17774, 17775, 17782, 17785, 17786, 17788, 17790, 17791, 17792, 17794, 17795, 17799, 17803, 17806, 17810, 17815, 17818, 17823, 17824, 17826, 17828, 17829, 17830, 17832, 17833, 17836, 17838, 17839, 17847, 17852, 17853, 17854, 17856, 17857, 17858, 17862, 17870, 17874, 17875, 17881, 17885, 17888, 17890, 17891, 17893, 17895, 17898, 17900, 17902, 17904, 17909, 17910, 17913, 17914, 17919, 17922, 17923, 17924, 17925, 17927, 17929, 17933, 17934, 17937, 17938, 17942, 17944, 17945, 17951, 17952, 17956, 17962, 17964, 17965, 17969, 17971, 17972, 17973, 17976, 17980, 17981, 17982, 17984, 17992, 17993, 17997, 17998, 17999, 18001, 18003, 18004, 18009, 18010, 18013, 18014, 18022, 18025, 18026, 18027, 18028, 18030, 18031, 18034, 18035, 18036, 18037, 18039, 18042, 18044, 18045, 18049, 18050, 18051, 18053, 18055, 18057, 18058, 18061, 18062, 18065, 18067, 18076, 18079, 18080, 18083, 18085, 18088, 18095, 18097, 18098, 18100, 18102, 18104, 18106, 18107, 18109, 18110, 18113, 18116, 18118, 18119, 18120, 18122, 18125, 18126, 18130, 18137, 18138, 18140, 18141, 18142, 18143, 18145, 18147, 18149, 18150, 18152, 18153, 18154, 18160, 18161, 18163, 18168, 18173, 18174, 18176, 18177, 18181, 18186, 18187, 18189, 18192, 18193, 18195, 18196, 18204, 18207, 18214, 18215, 18216, 18217, 18222, 18225, 18234, 18243, 18244, 18250, 18256, 18258, 18267, 18268, 18269, 18272, 18277, 18282, 18285, 18287, 18288, 18290, 18294, 18300, 18315, 18316, 18317, 18318, 18320, 18323, 18324, 18325, 18326, 18328, 18329, 18334, 18336, 18337, 18339, 18344, 18346, 18348, 18351, 18354, 18356, 18357, 18361, 18362, 18363, 18365, 18366, 18371, 18376, 18383, 18384, 18385, 18386, 18387, 18388, 18391, 18393, 18395, 18397, 18399, 18400, 18404, 18413, 18414, 18415, 18416, 18417, 18418, 18419, 18422, 18425, 18428, 18433, 18434, 18437, 18439, 18442, 18443, 18444, 18445, 18446, 18448, 18449, 18454, 18455, 18456, 18457, 18459, 18460, 18461, 18463, 18464, 18465, 18466, 18467, 18468, 18469, 18472, 18480, 18482, 18483, 18488, 18489, 18491, 18494, 18495, 18496, 18497, 18500, 18502, 18503, 18504, 18505, 18506, 18509, 18515, 18527, 18528, 18529, 18531, 18532, 18533, 18535, 18536, 18537, 18538, 18540, 18543, 18545, 18547, 18550, 18553, 18556, 18558, 18562, 18565, 18567, 18568, 18569, 18571, 18575, 18576, 18578, 18581, 18584, 18586, 18588, 18590, 18594, 18596, 18598, 18599, 18603, 18604, 18605, 18611, 18612, 18613, 18614, 18616, 18617, 18618, 18619, 18620, 18621, 18622, 18624, 18626, 18627, 18628, 18630, 18632, 18633, 18635, 18636, 18637, 18639, 18641, 18646, 18652, 18661, 18662, 18664, 18668, 18670, 18671, 18672, 18675, 18679, 18680, 18682, 18683, 18684, 18685, 18688, 18689, 18690, 18692, 18695, 18696, 18697, 18699, 18702, 18705, 18709, 18712, 18715, 18717, 18718, 18722, 18723, 18727, 18728, 18731, 18732, 18736, 18738, 18747, 18750, 18752, 18753, 18755, 18756, 18757, 18761, 18762, 18768, 18769, 18771, 18773, 18775, 18777, 18779, 18780, 18781, 18783, 18784, 18786, 18793, 18794, 18795, 18797, 18801, 18803, 18806, 18807, 18811, 18815, 18816, 18823, 18824, 18825, 18836, 18837, 18839, 18840, 18843, 18846, 18847, 18850, 18854, 18858, 18859, 18861, 18862, 18865, 18866, 18867, 18868, 18870, 18872, 18873, 18875, 18877, 18880, 18881, 18883, 18884, 18889, 18891, 18892, 18893, 18894, 18895, 18896, 18897, 18899, 18900, 18906, 18910, 18912, 18913, 18915, 18918, 18919, 18920, 18923, 18931, 18932, 18935, 18936, 18937, 18938, 18939, 18941, 18945, 18946, 18947, 18949, 18950, 18952, 18953, 18954, 18956, 18969, 18970, 18971, 18974, 18977, 18978, 18979, 18980, 18982, 18983, 18987, 18990, 18991, 18992, 18993, 18994, 18997, 18998, 19000, 19001, 19004, 19005, 19006, 19007, 19011, 19012, 19015, 19017, 19023, 19027, 19028, 19031, 19033, 19034, 19039, 19041, 19042, 19044, 19045, 19046, 19047, 19050, 19052, 19053, 19054, 19055, 19063, 19068, 19071, 19073, 19074, 19078, 19079, 19083, 19084, 19090, 19092, 19093, 19096, 19097, 19100, 19101, 19103, 19106, 19111, 19113, 19118, 19119, 19120, 19121, 19122, 19126, 19128, 19129, 19131, 19132, 19134, 19137, 19142, 19144, 19147, 19149, 19150, 19152, 19156, 19157, 19158, 19161, 19163, 19164, 19166, 19167, 19168, 19170, 19171, 19177, 19184, 19186, 19191, 19192, 19194, 19196, 19197, 19198, 19201, 19202, 19204, 19205, 19206, 19212, 19219, 19223, 19225, 19230, 19231, 19232, 19238, 19239, 19240, 19241, 19242, 19243, 19244, 19245, 19253, 19255, 19262, 19263, 19266, 19267, 19268, 19269, 19270, 19280, 19281, 19282, 19285, 19287, 19288, 19292, 19295, 19296, 19297, 19299, 19300, 19301, 19303, 19304, 19311, 19314, 19315, 19316, 19318, 19321, 19322, 19327, 19328, 19330, 19333, 19336, 19338, 19340, 19341, 19342, 19344, 19354, 19359, 19363, 19365, 19366, 19372, 19373, 19376, 19379, 19381, 19387, 19390, 19395, 19396, 19398, 19401, 19403, 19404, 19407, 19408, 19415, 19416, 19419, 19425, 19426, 19428, 19429, 19430, 19437, 19439, 19440, 19443, 19445, 19451, 19452, 19453, 19455, 19456, 19459, 19460, 19462, 19465, 19468, 19470, 19471, 19475, 19478, 19480, 19481, 19482, 19484, 19487, 19489, 19490, 19492, 19493, 19494, 19496, 19497, 19498, 19501, 19502, 19503, 19508, 19509, 19513, 19514, 19519, 19520, 19523, 19524, 19525, 19526, 19529, 19531, 19532, 19534, 19539, 19540, 19548, 19549, 19550, 19551, 19552, 19554, 19555, 19558, 19561, 19562, 19566, 19567, 19570, 19573, 19574, 19577, 19579, 19580, 19582, 19583, 19584, 19590, 19593, 19594, 19596, 19598, 19606, 19610, 19614, 19615, 19616, 19621, 19625, 19626, 19627, 19632, 19637, 19639, 19640, 19641, 19643, 19644, 19646, 19647, 19648, 19650, 19651, 19652, 19654, 19659, 19662, 19663, 19665, 19669, 19671, 19672, 19674, 19675, 19678, 19684, 19685, 19686, 19687, 19691, 19692, 19694, 19697, 19699, 19700, 19706, 19707, 19708, 19712, 19716, 19718, 19723, 19724, 19725, 19730, 19731, 19733, 19735, 19740, 19742, 19745, 19747, 19753, 19757, 19762, 19763, 19770, 19773, 19775, 19777, 19780, 19781, 19783, 19784, 19785, 19788, 19793, 19794, 19795, 19799, 19800, 19801, 19806, 19811, 19812, 19813, 19814, 19815, 19816, 19817, 19818, 19819, 19820, 19821, 19832, 19833, 19834, 19841, 19842, 19844, 19845, 19846, 19847, 19850, 19853, 19856, 19857, 19858, 19859, 19863, 19865, 19868, 19870, 19874, 19875, 19885, 19886, 19887, 19889, 19891, 19892, 19898, 19901, 19902, 19906, 19908, 19911, 19913, 19914, 19918, 19919, 19920, 19921, 19923, 19925, 19926, 19928, 19929, 19932, 19936, 19939, 19942, 19944, 19946, 19947, 19948, 19949, 19952, 19954, 19965, 19967, 19969, 19975, 19977, 19979, 19980, 19982, 19985, 19987, 19989, 19993, 19994, 19999, 20001, 20003, 20009, 20016, 20017, 20021, 20023, 20025, 20026, 20030, 20031, 20045, 20047, 20048, 20049, 20050, 20052, 20053, 20054, 20060, 20062, 20063, 20064, 20065, 20066, 20067, 20068, 20069, 20072, 20075, 20077, 20078, 20081, 20086, 20090, 20091, 20092, 20096, 20099, 20104, 20105, 20107, 20108, 20110, 20111, 20112, 20115, 20119, 20120, 20121, 20127, 20128, 20132, 20133, 20135, 20136, 20140, 20141, 20144, 20148, 20150, 20156, 20157, 20158, 20159, 20160, 20164, 20168, 20176, 20177, 20184, 20198, 20199, 20201, 20202, 20203, 20207, 20215, 20217, 20218, 20229, 20230, 20231, 20233, 20235, 20236, 20238, 20241, 20245, 20249, 20250, 20251, 20254, 20255, 20259, 20264, 20266, 20278, 20279, 20281, 20282, 20291, 20292, 20296, 20301, 20303, 20305, 20308, 20310, 20312, 20315, 20316, 20317, 20318, 20319, 20322, 20323, 20324, 20325, 20330, 20333, 20334, 20337, 20338, 20345, 20353, 20356, 20361, 20364, 20368, 20371, 20372, 20374, 20375, 20377, 20379, 20380, 20381, 20384, 20388, 20390, 20391, 20393, 20397, 20402, 20404, 20407, 20408, 20409, 20411, 20413, 20417, 20418, 20420, 20421, 20422, 20423, 20427, 20429, 20433, 20434, 20438, 20442, 20451, 20453, 20454, 20455, 20457, 20460, 20465, 20468, 20469, 20470, 20476, 20480, 20482, 20488, 20492, 20493, 20494, 20495, 20496, 20499, 20500, 20502, 20503, 20504, 20510, 20511, 20512, 20514, 20517, 20521, 20522, 20523, 20524, 20529, 20530, 20531, 20533, 20535, 20537, 20542, 20547, 20548, 20551, 20552, 20555, 20556, 20560, 20561, 20563, 20568, 20570, 20572, 20573, 20575, 20580, 20581, 20582, 20586, 20587, 20590, 20593, 20595, 20597, 20598, 20599, 20603, 20604, 20607, 20609, 20611, 20613, 20616, 20617, 20620, 20622, 20623, 20626, 20627, 20628, 20632, 20633, 20634, 20640, 20641, 20642, 20643, 20644, 20645, 20652, 20654, 20656, 20661, 20662, 20664, 20665, 20667, 20668, 20670, 20671, 20672, 20676, 20678, 20681, 20688, 20690, 20694, 20697, 20699, 20701, 20703, 20704, 20705, 20707, 20709, 20714, 20716, 20717, 20718, 20720, 20728, 20734, 20736, 20737, 20738, 20740, 20743, 20746, 20752, 20753, 20756, 20759, 20760, 20761, 20763, 20766, 20767, 20770, 20772, 20774, 20775, 20776, 20778, 20782, 20783, 20784, 20793, 20795, 20798, 20799, 20806, 20809, 20810, 20812, 20816, 20817, 20826, 20831, 20832, 20834, 20835, 20836, 20839, 20840, 20841, 20842, 20843, 20844, 20846, 20848, 20854, 20855, 20857, 20858, 20861, 20862, 20863, 20865, 20866, 20868, 20869, 20870, 20872, 20873, 20874, 20875, 20878, 20879, 20880, 20883, 20885, 20887, 20888, 20889, 20893, 20901, 20905, 20908, 20910, 20912, 20914, 20917, 20918, 20921, 20924, 20927, 20928, 20930, 20932, 20935, 20939, 20941, 20942, 20944, 20945, 20948, 20950, 20951, 20953, 20956, 20957, 20959, 20960, 20961, 20964, 20966, 20970, 20971, 20974, 20975, 20976, 20979, 20980, 20981, 20985, 20986, 20987, 20989, 20991, 20996, 21001, 21004, 21005, 21015, 21016, 21017, 21019, 21020, 21022, 21027, 21028, 21030, 21036, 21039, 21041, 21043, 21044, 21045, 21047, 21052, 21054, 21055, 21057, 21058, 21062, 21063, 21064, 21067, 21070, 21074, 21075, 21077, 21079, 21080, 21082, 21083, 21085, 21088, 21089, 21090, 21091, 21095, 21098, 21099, 21100, 21106, 21109, 21110, 21111, 21114, 21116, 21117, 21119, 21120, 21123, 21125, 21133, 21136, 21137, 21138, 21139, 21143, 21144, 21146, 21148, 21156, 21162, 21163, 21164, 21169, 21172, 21174, 21175, 21188, 21190, 21192, 21193, 21194, 21201, 21203, 21204, 21207, 21209, 21210, 21211, 21217, 21218, 21221, 21222, 21227, 21230, 21234, 21235, 21239, 21240, 21241, 21244, 21245, 21252, 21263, 21265, 21273, 21275, 21278, 21285, 21288, 21291, 21294, 21295, 21297, 21298, 21299, 21300, 21306, 21310, 21311, 21312, 21313, 21317, 21319, 21320, 21322, 21323, 21324, 21326, 21328, 21330, 21335, 21336, 21337, 21338, 21339, 21340, 21342, 21345, 21346, 21350, 21352, 21354, 21356, 21360, 21361, 21364, 21366, 21367, 21370, 21375, 21379, 21380, 21381, 21382, 21384, 21385, 21386, 21387, 21389, 21392, 21395, 21396, 21397, 21398, 21400, 21411, 21413, 21414, 21415, 21417, 21422, 21423, 21430, 21432, 21433, 21435, 21439, 21441, 21448, 21451, 21452, 21453, 21454, 21458, 21460, 21461, 21462, 21463, 21464, 21466, 21467, 21473, 21477, 21482, 21487, 21488, 21498, 21502, 21503, 21504, 21505, 21506, 21507, 21508, 21510, 21511, 21515, 21520, 21522, 21530, 21533, 21535, 21537, 21539, 21540, 21546, 21547, 21551, 21553, 21556, 21559, 21562, 21567, 21568, 21569, 21571, 21573, 21574, 21577, 21579, 21581, 21582, 21586, 21589, 21591, 21592, 21593, 21594, 21596, 21599, 21605, 21608, 21609, 21611, 21612, 21615, 21616, 21622, 21623, 21624, 21625, 21627, 21633, 21634, 21640, 21643, 21644, 21646, 21647, 21653, 21654, 21656, 21659, 21662, 21665, 21667, 21670, 21671, 21677, 21681, 21683, 21688, 21692, 21697, 21698, 21701, 21702, 21703, 21705, 21708, 21711, 21712, 21713, 21716, 21717, 21720, 21725, 21726, 21729, 21730, 21736, 21737, 21739, 21742, 21746, 21748, 21749, 21751, 21752, 21753, 21754, 21761, 21763, 21767, 21769, 21770, 21772, 21774, 21776, 21777, 21783, 21786, 21788, 21789, 21799, 21802, 21804, 21806, 21808, 21810, 21812, 21814, 21815, 21823, 21826, 21832, 21835, 21836, 21837, 21839, 21841, 21843, 21844, 21846, 21847, 21854, 21856, 21858, 21859, 21862, 21864, 21865, 21866, 21868, 21872, 21873, 21875, 21878, 21879, 21888, 21889, 21890, 21893, 21894, 21896, 21898, 21899, 21901, 21902, 21903, 21905, 21906, 21908, 21910, 21914, 21915, 21917, 21924, 21925, 21933, 21935, 21936, 21939, 21940, 21942, 21949, 21951, 21954, 21960, 21961, 21963, 21964, 21965, 21967, 21969, 21971, 21972, 21977, 21978, 21979, 21980, 21985, 21986, 21989, 21990, 21992, 21993, 21994, 21998, 21999, 22006, 22007, 22015, 22016, 22018, 22021, 22023, 22025, 22026, 22033, 22037, 22041, 22043, 22048, 22052, 22056, 22060, 22062, 22063, 22065, 22066, 22072, 22073, 22076, 22080, 22083, 22084, 22088, 22089, 22093, 22094, 22095, 22096, 22098, 22099, 22102, 22103, 22106, 22107, 22113, 22115, 22116, 22117, 22119, 22120, 22122, 22124, 22125, 22126, 22127, 22131, 22133, 22136, 22138, 22141, 22142, 22144, 22145, 22146, 22149, 22151, 22152, 22153, 22158, 22160, 22162, 22164, 22166, 22169, 22170, 22174, 22175, 22179, 22181, 22182, 22183, 22185, 22186, 22187, 22191, 22198, 22199, 22200, 22202, 22205, 22208, 22212, 22213, 22219, 22220, 22222, 22223, 22227, 22228, 22229, 22232, 22239, 22244, 22245, 22247, 22248, 22251, 22252, 22253, 22258, 22264, 22266, 22267, 22268, 22271, 22272, 22285, 22286, 22287, 22290, 22291, 22294, 22295, 22298, 22307, 22308, 22310, 22314, 22315, 22316, 22318, 22321, 22323, 22330, 22333, 22337, 22338, 22339, 22341, 22342, 22343, 22345, 22348, 22349, 22351, 22353, 22354, 22355, 22356, 22357, 22358, 22359, 22362, 22365, 22367, 22371, 22373, 22375, 22377, 22379, 22380, 22381, 22382, 22384, 22397, 22400, 22401, 22402, 22403, 22404, 22407, 22409, 22412, 22419, 22421, 22422, 22427, 22428, 22429, 22430, 22432, 22435, 22436, 22437, 22439, 22440, 22441, 22442, 22448, 22450, 22456, 22465, 22468, 22470, 22472, 22475, 22478, 22480, 22481, 22482, 22486, 22489, 22493, 22497, 22500, 22501, 22502, 22503, 22504, 22507, 22508, 22509, 22511, 22512, 22513, 22514, 22517, 22520, 22522, 22526, 22528, 22529, 22532, 22539, 22542, 22544, 22548, 22556, 22557, 22559, 22563, 22571, 22575, 22576, 22578, 22581, 22582, 22583, 22585, 22590, 22591, 22600, 22601, 22602, 22605, 22608, 22609, 22610, 22611, 22613, 22614, 22620, 22621, 22625, 22629, 22632, 22638, 22639, 22640, 22642, 22643, 22646, 22648, 22650, 22651, 22655, 22659, 22665, 22668, 22669, 22670, 22678, 22679, 22684, 22690, 22693, 22695, 22696, 22697, 22699, 22703, 22705, 22706, 22709, 22711, 22712, 22714, 22722, 22723, 22725, 22726, 22727, 22733, 22741, 22742, 22743, 22744, 22745, 22748, 22749, 22750, 22752, 22754, 22755, 22761, 22767, 22768, 22777, 22779, 22781, 22785, 22787, 22793, 22794, 22796, 22801, 22803, 22806, 22808, 22809, 22812, 22813, 22814, 22816, 22817, 22818, 22819, 22820, 22823, 22825, 22828, 22829, 22830, 22831, 22832, 22833, 22834, 22840, 22843, 22846, 22847, 22848, 22851, 22853, 22855, 22856, 22857, 22860, 22861, 22863, 22865, 22866, 22867, 22869, 22873, 22877, 22879, 22882, 22886, 22887, 22888, 22890, 22891, 22895, 22897, 22898, 22900, 22902, 22904, 22909, 22910, 22918, 22919, 22925, 22927, 22929, 22931, 22933, 22934, 22936, 22941, 22942, 22946, 22948, 22949, 22951, 22954, 22961, 22962, 22970, 22973, 22977, 22982, 22983, 22984, 22994, 22996, 22997, 23003, 23004, 23006, 23008, 23009, 23015, 23016, 23019, 23025, 23028, 23029, 23030, 23031, 23036, 23040, 23044, 23045, 23048, 23049, 23050, 23053, 23057, 23059, 23065, 23068, 23069, 23071, 23073, 23076, 23078, 23082, 23084, 23086, 23088, 23089, 23090, 23092, 23100, 23101, 23103, 23104, 23105, 23108, 23112, 23121, 23122, 23123, 23124, 23131, 23135, 23136, 23140, 23141, 23142, 23145, 23150, 23151, 23153, 23156, 23166, 23167, 23169, 23172, 23173, 23174, 23177, 23179, 23183, 23184, 23185, 23186, 23187, 23188, 23189, 23195, 23196, 23197, 23200, 23201, 23202, 23203, 23205, 23206, 23207, 23208, 23210, 23211, 23214, 23218, 23219, 23220, 23221, 23223, 23224, 23225, 23226, 23229, 23230, 23231, 23235, 23236, 23239, 23240, 23242, 23244, 23245, 23249, 23251, 23256, 23258, 23267, 23271, 23274, 23279, 23282, 23283, 23290, 23291, 23292, 23294, 23296, 23303, 23304, 23305, 23307, 23308, 23309, 23310, 23312, 23315, 23316, 23317, 23320, 23323, 23324, 23326, 23327, 23330, 23336, 23337, 23339, 23343, 23344, 23348, 23353, 23354, 23356, 23359, 23360, 23361, 23364, 23367, 23369, 23370, 23371, 23375, 23376, 23378, 23380, 23382, 23384, 23385, 23387, 23389, 23390, 23394, 23396, 23397, 23400, 23401, 23402, 23403, 23407, 23411, 23412, 23416, 23422, 23423, 23425, 23428, 23430, 23433, 23435, 23436, 23438, 23440, 23445, 23451, 23452, 23454, 23455, 23456, 23458, 23459, 23462, 23463, 23468, 23469, 23475, 23476, 23478, 23480, 23481, 23484, 23486, 23487, 23488, 23489, 23491, 23493, 23497, 23500, 23503, 23513, 23514, 23516, 23517, 23519, 23520, 23522, 23526, 23531, 23534, 23536, 23538, 23541, 23543, 23544, 23546, 23547, 23548, 23556, 23558, 23560, 23563, 23564, 23567, 23568, 23569, 23573, 23577, 23580, 23581, 23582, 23584, 23585, 23589, 23593, 23595, 23597, 23600, 23601, 23603, 23609, 23615, 23617, 23619, 23620, 23621, 23623, 23626, 23629, 23630, 23638, 23641, 23645, 23646, 23648, 23659, 23661, 23664, 23667, 23668, 23671, 23672, 23677, 23680, 23683, 23684, 23685, 23687, 23690, 23693, 23694, 23701, 23702, 23705, 23708, 23710, 23711, 23714, 23718, 23731, 23733, 23735, 23736, 23737, 23739, 23744, 23745, 23746, 23747, 23751, 23752, 23754, 23758, 23759, 23765, 23771, 23772, 23773, 23776, 23778, 23781, 23782, 23784, 23786, 23788, 23789, 23790, 23792, 23795, 23796, 23799, 23807, 23808, 23809, 23810, 23811, 23815, 23816, 23818, 23826, 23829, 23835, 23838, 23841, 23843, 23846, 23848, 23850, 23851, 23852, 23853, 23859, 23866, 23868, 23869, 23871, 23872, 23874, 23879, 23882, 23887, 23890, 23894, 23898, 23899, 23900, 23901, 23909, 23910, 23911, 23914, 23918, 23923, 23925, 23926, 23929, 23932, 23936, 23938, 23941, 23943, 23944, 23945, 23947, 23948, 23950, 23954, 23961, 23966, 23968, 23969, 23971, 23981, 23983, 23985, 23990, 23994, 23997, 24002, 24006, 24007, 24008, 24012, 24013, 24014, 24017, 24018, 24021, 24023, 24030, 24031, 24032, 24034, 24035, 24039, 24047, 24048, 24050, 24051, 24052, 24053, 24057, 24059, 24060, 24061, 24062, 24066, 24070, 24071, 24072, 24076, 24077, 24079, 24081, 24086, 24090, 24091, 24093, 24094, 24098, 24101, 24104, 24105, 24108, 24110, 24113, 24114, 24115, 24116, 24118, 24120, 24122, 24124, 24126, 24127, 24128, 24130, 24131, 24134, 24136, 24137, 24143, 24145, 24147, 24149, 24152, 24153, 24155, 24156, 24157, 24159, 24160, 24161, 24163, 24164, 24168, 24170, 24174, 24177, 24178, 24180, 24184, 24185, 24186, 24190, 24192, 24195, 24197, 24201, 24202, 24203, 24205, 24212, 24214, 24219, 24220, 24223, 24225, 24228, 24229, 24231, 24232, 24237, 24238, 24239, 24240, 24241, 24244, 24246, 24247, 24260, 24261, 24262, 24269, 24270, 24271, 24272, 24273, 24279, 24280, 24281, 24282, 24284, 24287, 24293, 24297, 24301, 24302, 24305, 24306, 24308, 24309, 24310, 24312, 24314, 24321, 24325, 24326, 24328, 24331, 24333, 24336, 24337, 24342, 24345, 24346, 24351, 24352, 24355, 24357, 24359, 24360, 24361, 24362, 24363, 24367, 24372, 24374, 24375, 24378, 24380, 24381, 24383, 24384, 24386, 24388, 24389, 24390, 24391, 24392, 24395, 24398, 24399, 24402, 24403, 24405, 24409, 24410, 24411, 24414, 24420, 24425, 24426, 24429, 24431, 24442, 24444, 24446, 24447, 24449, 24450, 24457, 24458, 24459, 24461, 24464, 24467, 24475, 24482, 24484, 24491, 24492, 24494, 24495, 24496, 24497, 24498, 24499, 24503, 24505, 24506, 24507, 24511, 24513, 24515, 24517, 24521, 24524, 24525, 24526, 24528, 24530, 24533, 24534, 24535, 24536, 24537, 24538, 24539, 24541, 24542, 24544, 24546, 24549, 24552, 24555, 24557, 24560, 24561, 24564, 24565, 24566, 24568, 24570, 24572, 24573, 24574, 24576, 24579, 24581, 24585, 24586, 24587, 24588, 24590, 24593, 24594, 24596, 24597, 24601, 24609, 24614, 24618, 24622, 24623, 24625, 24626, 24633, 24635, 24639, 24640, 24641, 24651, 24655, 24657, 24661, 24662, 24665, 24666, 24668, 24670, 24675, 24681, 24682, 24686, 24689, 24690, 24691, 24692, 24695, 24697, 24700, 24704, 24707, 24708, 24710, 24711, 24713, 24715, 24716, 24717, 24722, 24726, 24729, 24730, 24737, 24741, 24750, 24757, 24758, 24760, 24764, 24765, 24766, 24768, 24769, 24770, 24771, 24772, 24774, 24776, 24777, 24782, 24784, 24787, 24788, 24789, 24790, 24792, 24793, 24794, 24797, 24799, 24800, 24801, 24807, 24810, 24813, 24814, 24816, 24817, 24818, 24820, 24822, 24824, 24826, 24830, 24832, 24838, 24839, 24840, 24841, 24842, 24844, 24845, 24846, 24847, 24852, 24860, 24863, 24864, 24874, 24876, 24881, 24882, 24883, 24886, 24888, 24890, 24891, 24895, 24897, 24898, 24899, 24900, 24903, 24905, 24906, 24907, 24909, 24910, 24911, 24912, 24917, 24918, 24919, 24921, 24922, 24930, 24933, 24937, 24938, 24942, 24943, 24944, 24945, 24949, 24953, 24955, 24956, 24960, 24961, 24967, 24972, 24974, 24979, 24983, 24984, 24987, 24988, 24990, 24991, 24993, 24998, 24999, 25000, 25004, 25010, 25011, 25013, 25015, 25016, 25022, 25025, 25027, 25030, 25032, 25034, 25036, 25038, 25039, 25041, 25042, 25044, 25045, 25046, 25050, 25053, 25054, 25057, 25058, 25059, 25061, 25063, 25065, 25066, 25068, 25070, 25073, 25079, 25081, 25082, 25085, 25087, 25089, 25090, 25092, 25093, 25094, 25095, 25099, 25103, 25104, 25105, 25106, 25107, 25108, 25109, 25110, 25111, 25112, 25114, 25121, 25123, 25124, 25126, 25127, 25130, 25133, 25134, 25136, 25137, 25138, 25139, 25142, 25146, 25147, 25148, 25153, 25159, 25160, 25163, 25166, 25168, 25169, 25175, 25177, 25178, 25181, 25183, 25184, 25189, 25192, 25198, 25201, 25202, 25208, 25210, 25212, 25213, 25220, 25225, 25227, 25228, 25230, 25231, 25232, 25233, 25236, 25237, 25238, 25241, 25242, 25243, 25244, 25245, 25246, 25247, 25251, 25252, 25253, 25258, 25271, 25274, 25275, 25276, 25280, 25282, 25286, 25294, 25295, 25300, 25301, 25302, 25304, 25305, 25306, 25307, 25312, 25314, 25318, 25320, 25322, 25327, 25331, 25334, 25339, 25340, 25341, 25344, 25348, 25349, 25350, 25352, 25354, 25356, 25359, 25361, 25368, 25369, 25373, 25375, 25376, 25377, 25379, 25380, 25385, 25389, 25390, 25396, 25399, 25405, 25406, 25407, 25408, 25413, 25420, 25422, 25424, 25425, 25429, 25438, 25440, 25441, 25445, 25447, 25448, 25449, 25451, 25452, 25454, 25463, 25464, 25466, 25468, 25470, 25471, 25478, 25479, 25480, 25481, 25483, 25486, 25489, 25490, 25493, 25494, 25496, 25499, 25500, 25504, 25505, 25510, 25512, 25521, 25523, 25524, 25525, 25531, 25533, 25537, 25538, 25542, 25544, 25547, 25548, 25552, 25553, 25554, 25555, 25556, 25558, 25561, 25563, 25569, 25570, 25575, 25576, 25577, 25578, 25579, 25580, 25581, 25584, 25586, 25587, 25589, 25590, 25594, 25595, 25596, 25599, 25602, 25603, 25604, 25610, 25612, 25619, 25624, 25628, 25634, 25635, 25638, 25642, 25645, 25647, 25649, 25653, 25657, 25658, 25665, 25668, 25670, 25671, 25672, 25673, 25674, 25677, 25678, 25680, 25681, 25682, 25684, 25686, 25689, 25691, 25692, 25693, 25694, 25695, 25698, 25700, 25702, 25706, 25707, 25709, 25711, 25713, 25715, 25716, 25721, 25723, 25724, 25727, 25729, 25738, 25744, 25745, 25747, 25750, 25754, 25757, 25763, 25769, 25772, 25773, 25776, 25779, 25789, 25795, 25796, 25800, 25802, 25804, 25805, 25807, 25811, 25812, 25815, 25816, 25820, 25821, 25822, 25824, 25825, 25826, 25827, 25828, 25832, 25836, 25839, 25840, 25841, 25845, 25846, 25847, 25848, 25850, 25853, 25854, 25858, 25861, 25867, 25869, 25870, 25872, 25878, 25880, 25881, 25883, 25884, 25886, 25887, 25890, 25891, 25895, 25899, 25902, 25904, 25908, 25910, 25913, 25924, 25925, 25930, 25939, 25944, 25946, 25948, 25950, 25951, 25953, 25958, 25962, 25965, 25966, 25967, 25968, 25972, 25974, 25975, 25986, 25991, 25992, 25993, 25995, 25996, 25998, 26003, 26006, 26007, 26011, 26015, 26016, 26022, 26025, 26029, 26031, 26036, 26037, 26039, 26040, 26041, 26043, 26044, 26047, 26049, 26050, 26051, 26053, 26054, 26055, 26061, 26063, 26065, 26072, 26073, 26080, 26082, 26083, 26084, 26085, 26086, 26087, 26088, 26095, 26101, 26102, 26103, 26104, 26105, 26107, 26108, 26109, 26110, 26111, 26112, 26113, 26116, 26118, 26119, 26120, 26124, 26125, 26129, 26130, 26131, 26133, 26138, 26139, 26142, 26143, 26146, 26147, 26149, 26151, 26153, 26158, 26160, 26163, 26165, 26171, 26177, 26178, 26180, 26188, 26193, 26195, 26199, 26207, 26208, 26211, 26213, 26215, 26217, 26218, 26219, 26221, 26222, 26223, 26224, 26225, 26227, 26228, 26234, 26237, 26241, 26242, 26245, 26246, 26250, 26253, 26258, 26261, 26264, 26267, 26268, 26270, 26271, 26272, 26273, 26275, 26276, 26279, 26281, 26282, 26284, 26288, 26292, 26294, 26297, 26298, 26300, 26305, 26310, 26314, 26319, 26320, 26324, 26326, 26327, 26329, 26330, 26333, 26334, 26340, 26342, 26344, 26350, 26352, 26353, 26355, 26357, 26362, 26364, 26365, 26368, 26369, 26375, 26378, 26380, 26381, 26383, 26386, 26391, 26392, 26393, 26394, 26397, 26399, 26400, 26401, 26407, 26410, 26411, 26415, 26416, 26421, 26425, 26430, 26432, 26433, 26435, 26437, 26440, 26441, 26442, 26443, 26446, 26448, 26449, 26451, 26455, 26459, 26461, 26462, 26463, 26464, 26466, 26470, 26475, 26478, 26479, 26482, 26485, 26486, 26489, 26491, 26492, 26494, 26497, 26498, 26499, 26500, 26501, 26502, 26510, 26511, 26513, 26514, 26516, 26518, 26520, 26521, 26522, 26525, 26526, 26527, 26535, 26539, 26540, 26542, 26549, 26551, 26557, 26560, 26568, 26570, 26572, 26574, 26578, 26580, 26581, 26584, 26586, 26587, 26589, 26593, 26595, 26597, 26598, 26600, 26602, 26603, 26606, 26607, 26609, 26612, 26618, 26620, 26623, 26625, 26629, 26631, 26632, 26633, 26634, 26635, 26637, 26638, 26639, 26642, 26645, 26647, 26648, 26651, 26654, 26659, 26660, 26661, 26662, 26664, 26665, 26667, 26668, 26671, 26674, 26678, 26682, 26685, 26686, 26689, 26690, 26691, 26692, 26699, 26703, 26705, 26707, 26708, 26710, 26715, 26717, 26720, 26721, 26726, 26727, 26729, 26738, 26739, 26742, 26745, 26748, 26750, 26752, 26756, 26758, 26759, 26760, 26762, 26766, 26767, 26771, 26772, 26774, 26775, 26776, 26777, 26780, 26784, 26785, 26787, 26789, 26796, 26797, 26798, 26799, 26801, 26804, 26807, 26809, 26812, 26814, 26818, 26819, 26824, 26825, 26826, 26827, 26828, 26829, 26831, 26834, 26835, 26842, 26843, 26848, 26851, 26853, 26856, 26858, 26859, 26860, 26861, 26862, 26864, 26867, 26868, 26876, 26877, 26878, 26880, 26881, 26883, 26884, 26885, 26893, 26896, 26897, 26898, 26899, 26900, 26901, 26903, 26904, 26908, 26909, 26911, 26914, 26915, 26918, 26921, 26923, 26924, 26928, 26931, 26935, 26937, 26938, 26945, 26946, 26947, 26950, 26952, 26954, 26959, 26960, 26961, 26962, 26963, 26967, 26969, 26970, 26973, 26975, 26977, 26979, 26980, 26983, 26984, 26986, 26988, 26990, 26992, 26993, 26994, 26995, 27002, 27005, 27008, 27009, 27012, 27015, 27016, 27017, 27028, 27035, 27036, 27038, 27039, 27042, 27043, 27045, 27051, 27053, 27054, 27055, 27056, 27058, 27064, 27068, 27069, 27072, 27073, 27075, 27076, 27078, 27082, 27086, 27087, 27089, 27096, 27097, 27100, 27101, 27102, 27103, 27105, 27108, 27114, 27115, 27118, 27120, 27124, 27126, 27130, 27137, 27138, 27139, 27140, 27145, 27147, 27149, 27150, 27153, 27154, 27158, 27163, 27165, 27168, 27169, 27173, 27177, 27179, 27183, 27184, 27186, 27190, 27193, 27195, 27196, 27202, 27203, 27204, 27210, 27212, 27213, 27214, 27215, 27216, 27218, 27222, 27224, 27227, 27235, 27236, 27238, 27240, 27242, 27244, 27250, 27251, 27253, 27255, 27257, 27259, 27260, 27264, 27265, 27267, 27269, 27270, 27275, 27276, 27278, 27281, 27283, 27288, 27289, 27290, 27292, 27294, 27296, 27299, 27300, 27304, 27310, 27311, 27314, 27319, 27326, 27329, 27330, 27331, 27332, 27336, 27338, 27340, 27341, 27344, 27347, 27348, 27353, 27359, 27361, 27362, 27363, 27364, 27366, 27367, 27369, 27370, 27372, 27373, 27375, 27377, 27381, 27388, 27390, 27391, 27393, 27396, 27397, 27406, 27407, 27409, 27410, 27414, 27416, 27417, 27418, 27419, 27420, 27421, 27422, 27427, 27428, 27433, 27434, 27440, 27442, 27443, 27445, 27449, 27450, 27453, 27454, 27457, 27458, 27461, 27467, 27468, 27471, 27472, 27473, 27474, 27475, 27476, 27477, 27479, 27480, 27481, 27482, 27484, 27485, 27487, 27489, 27490, 27491, 27493, 27495, 27497, 27498, 27499, 27502, 27505, 27506, 27508, 27512, 27515, 27517, 27520, 27521, 27525, 27526, 27527, 27528, 27529, 27530, 27534, 27539, 27542, 27544, 27546, 27548, 27551, 27555, 27557, 27558, 27559, 27562, 27563, 27565, 27568, 27574, 27575, 27577, 27582, 27583, 27584, 27585, 27587, 27588, 27590, 27594, 27595, 27598, 27600, 27601, 27606, 27613, 27616, 27618, 27620, 27621, 27623, 27624, 27625, 27627, 27630, 27631, 27637, 27641, 27642, 27645, 27646, 27647, 27649, 27650, 27652, 27654, 27655, 27656, 27657, 27665, 27668, 27669, 27670, 27671, 27679, 27681, 27685, 27686, 27688, 27689, 27690, 27692, 27697, 27701, 27702, 27708, 27711, 27717, 27719, 27721, 27722, 27723, 27725, 27727, 27728, 27729, 27730, 27732, 27737, 27739, 27742, 27743, 27744, 27746, 27750, 27751, 27752, 27755, 27761, 27765, 27767, 27771, 27772, 27773, 27777, 27785, 27793, 27794, 27797, 27800, 27803, 27804, 27808, 27812, 27813, 27819, 27822, 27823, 27824, 27826, 27827, 27832, 27836, 27837, 27839, 27841, 27843, 27844, 27848, 27849, 27850, 27851, 27853, 27854, 27861, 27863, 27864, 27865, 27869, 27879, 27883, 27889, 27891, 27892, 27893, 27894, 27897, 27901, 27902, 27903, 27904, 27907, 27908, 27912, 27918, 27919, 27921, 27923, 27929, 27930, 27933, 27934, 27935, 27937, 27940, 27946, 27947, 27949, 27958, 27959, 27963, 27964, 27966, 27967, 27976, 27977, 27982, 27983, 27985, 27988, 27990, 27991, 27998, 28000, 28007, 28008, 28009, 28010, 28014, 28015, 28016, 28017, 28022, 28023, 28025, 28026, 28028, 28029, 28031, 28032, 28033, 28035, 28037, 28042, 28043, 28045, 28047, 28048, 28050, 28062, 28065, 28067, 28068, 28069, 28070, 28071, 28076, 28078, 28080, 28082, 28085, 28087, 28088, 28089, 28090, 28092, 28094, 28095, 28096, 28101, 28109, 28111, 28112, 28114, 28115, 28121, 28123, 28124, 28128, 28130, 28131, 28132, 28135, 28139, 28143, 28144, 28151, 28152, 28156, 28158, 28165, 28167, 28168, 28169, 28170, 28171, 28172, 28176, 28177, 28178, 28179, 28182, 28184, 28185, 28187, 28191, 28192, 28203, 28206, 28207, 28208, 28211, 28213, 28216, 28218, 28220, 28227, 28230, 28232, 28235, 28236, 28239, 28245, 28251, 28252, 28254, 28255, 28264, 28267, 28268, 28269, 28271, 28272, 28278, 28280, 28282, 28289, 28291, 28295, 28296, 28300, 28301, 28303, 28311, 28313, 28317, 28319, 28320, 28322, 28323, 28324, 28326, 28329, 28335, 28336, 28340, 28341, 28342, 28345, 28346, 28347, 28348, 28351, 28354, 28359, 28361, 28362, 28366, 28373, 28379, 28381, 28382, 28383, 28387, 28389, 28393, 28395, 28396, 28399, 28400, 28403, 28405, 28407, 28408, 28413, 28415, 28418, 28419, 28421, 28422, 28423, 28425, 28427, 28430, 28431, 28433, 28436, 28437, 28438, 28445, 28447, 28449, 28451, 28454, 28459, 28461, 28463, 28469, 28470, 28472, 28474, 28477, 28486, 28489, 28490, 28495, 28499, 28503, 28504, 28507, 28510, 28511, 28512, 28517, 28518, 28520, 28521, 28522, 28525, 28526, 28533, 28536, 28537, 28547, 28549, 28553, 28554, 28555, 28559, 28560, 28563, 28566, 28570, 28574, 28576, 28577, 28579, 28580, 28584, 28585, 28587, 28589, 28597, 28598, 28599, 28600, 28601, 28602, 28604, 28605, 28607, 28609, 28611, 28614, 28615, 28618, 28620, 28623, 28624, 28625, 28626, 28627, 28629, 28630, 28636, 28637, 28640, 28641, 28642, 28643, 28647, 28649, 28651, 28655, 28659, 28660, 28664, 28666, 28667, 28671, 28675, 28677, 28680, 28681, 28682, 28686, 28687, 28690, 28695, 28698, 28699, 28701, 28702, 28703, 28704, 28706, 28707, 28713, 28714, 28716, 28721, 28723, 28725, 28728, 28729, 28730, 28734, 28735, 28736, 28739, 28745, 28747, 28748, 28749, 28757, 28767, 28768, 28771, 28774, 28776, 28778, 28782, 28783, 28784, 28788, 28792, 28801, 28803, 28806, 28808, 28809, 28810, 28811, 28822, 28824, 28825, 28828, 28830, 28837, 28838, 28839, 28845, 28846, 28849, 28852, 28853, 28856, 28857, 28863, 28864, 28865, 28866, 28868, 28869, 28873, 28875, 28878, 28886, 28889, 28891, 28893, 28898, 28899, 28901, 28904, 28906, 28907, 28908, 28909, 28914, 28918, 28923, 28925, 28928, 28929, 28931, 28935, 28936, 28940, 28942, 28948, 28951, 28953, 28956, 28960, 28961, 28965, 28966, 28967, 28969, 28970, 28971, 28973, 28977, 28979, 28982, 28985, 28989, 28990, 28992, 28994, 28998, 29002, 29004, 29006, 29007, 29012, 29014, 29015, 29016, 29017, 29021, 29023, 29025, 29027, 29028, 29031, 29032, 29033, 29036, 29037, 29038, 29039, 29042, 29044, 29045, 29049, 29054, 29055, 29056, 29058, 29060, 29061, 29063, 29064, 29065, 29066, 29067, 29072, 29075, 29076, 29079, 29081, 29084, 29086, 29087, 29089, 29090, 29092, 29093, 29094, 29096, 29102, 29103, 29104, 29107, 29108, 29109, 29110, 29111, 29115, 29116, 29120, 29121, 29124, 29125, 29128, 29132, 29136, 29139, 29141, 29145, 29146, 29147, 29151, 29153, 29157, 29158, 29162, 29163, 29165, 29167, 29172, 29181, 29183, 29185, 29186, 29187, 29189, 29190, 29192, 29193, 29195, 29198, 29206, 29210, 29213, 29215, 29218, 29219, 29220, 29225, 29226, 29227, 29229, 29230, 29232, 29234, 29237, 29242, 29248, 29249, 29251, 29252, 29255, 29258, 29266, 29268, 29270, 29271, 29275, 29279, 29280, 29283, 29289, 29290, 29291, 29294, 29295, 29299, 29301, 29303, 29304, 29315, 29327, 29328, 29329, 29330, 29332, 29337, 29338, 29339, 29341, 29343, 29344, 29346, 29348, 29354, 29355, 29356, 29357, 29358, 29362, 29363, 29365, 29366, 29367, 29369, 29370, 29372, 29376, 29377, 29382, 29383, 29387, 29392, 29395, 29397, 29398, 29400, 29401, 29403, 29406, 29409, 29410, 29411, 29412, 29414, 29426, 29427, 29433, 29440, 29443, 29445, 29447, 29449, 29455, 29456, 29457, 29460, 29462, 29465, 29469, 29474, 29477, 29479, 29483, 29484, 29489, 29490, 29491, 29492, 29494, 29501, 29502, 29503, 29507, 29508, 29511, 29519, 29520, 29521, 29523, 29527, 29530, 29532, 29533, 29535, 29538, 29539, 29541, 29543, 29549, 29552, 29553, 29557, 29558, 29559, 29561, 29563, 29567, 29569, 29577, 29580, 29584, 29586, 29588, 29590, 29593, 29600, 29602, 29604, 29605, 29606, 29612, 29615, 29619, 29620, 29622, 29623, 29626, 29628, 29629, 29630, 29632, 29636, 29637, 29639, 29643, 29647, 29649, 29651, 29656, 29660, 29665, 29666, 29672, 29676, 29681, 29683, 29691, 29695, 29696, 29703, 29706, 29707, 29710, 29712, 29715, 29720, 29726, 29727, 29730, 29731, 29736, 29737, 29738, 29740, 29741, 29744, 29745, 29747, 29750, 29751, 29752, 29756, 29758, 29759, 29761, 29765, 29767, 29773, 29781, 29783, 29784, 29786, 29790, 29798, 29799, 29804, 29805, 29806, 29807, 29809, 29810, 29811, 29813, 29816, 29818, 29819, 29820, 29822, 29823, 29824, 29825, 29827, 29830, 29832, 29835, 29837, 29838, 29842, 29850, 29851, 29852, 29859, 29860, 29862, 29870, 29872, 29876, 29881, 29882, 29883, 29889, 29891, 29892, 29893, 29896, 29898, 29900, 29903, 29907, 29909, 29910, 29912, 29914, 29916, 29922, 29924, 29925, 29927, 29928, 29930, 29933, 29936, 29942, 29946, 29951, 29953, 29955, 29956, 29957, 29958, 29959, 29962, 29963, 29964, 29965, 29966, 29967, 29968, 29969, 29975, 29982, 29983, 29984, 29988, 29990, 29994, 29996, 29997, 30001, 30002, 30003, 30007, 30010, 30011, 30012, 30017, 30019, 30022, 30025, 30026, 30031, 30034, 30039, 30040, 30041, 30043, 30044, 30048, 30050, 30051, 30052, 30055, 30056, 30061, 30062, 30063, 30068, 30072, 30074, 30076, 30077, 30082, 30085, 30091, 30092, 30096, 30098, 30101, 30107, 30108, 30114, 30121, 30123, 30124, 30125, 30127, 30129, 30131, 30132, 30133, 30134, 30137, 30141, 30143, 30150, 30153, 30154, 30155, 30156, 30158, 30160, 30161, 30165, 30167, 30171, 30172, 30174, 30177, 30178, 30181, 30182, 30184, 30185, 30188, 30191, 30194, 30195, 30202, 30203, 30207, 30208, 30209, 30210, 30211, 30212, 30215, 30216, 30217, 30218, 30219, 30221, 30222, 30223, 30225, 30226, 30227, 30229, 30230, 30231, 30232, 30235, 30238, 30244, 30245, 30247, 30248, 30251, 30252, 30259, 30260, 30261, 30263, 30264, 30266, 30269, 30270, 30271, 30273, 30274, 30276, 30277, 30279, 30281, 30284, 30287, 30288, 30289, 30293, 30294, 30298, 30300, 30303, 30304, 30314, 30315, 30316, 30319, 30321, 30323, 30326, 30327, 30329, 30335, 30337, 30338, 30345, 30347, 30348, 30349, 30350, 30353, 30354, 30355, 30357, 30359, 30361, 30362, 30366, 30368, 30369, 30370, 30374, 30375, 30384, 30386, 30387, 30388, 30392, 30395, 30398, 30406, 30410, 30411, 30414, 30415, 30416, 30417, 30423, 30426, 30427, 30428, 30429, 30430, 30432, 30437, 30440, 30441, 30444, 30446, 30447, 30450, 30451, 30455, 30457, 30462, 30463, 30470, 30477, 30478, 30487, 30492, 30494, 30496, 30499, 30503, 30508, 30509, 30512, 30514, 30519, 30521, 30522, 30523, 30525, 30527, 30528, 30530, 30532, 30533, 30534, 30537, 30539, 30542, 30543, 30544, 30546, 30551, 30554, 30556, 30557, 30559, 30561, 30562, 30563, 30568, 30572, 30574, 30575, 30576, 30578, 30580, 30581, 30587, 30592, 30593, 30599, 30606, 30607, 30608, 30609, 30610, 30611, 30612, 30619, 30620, 30621, 30622, 30624, 30625, 30628, 30629, 30632, 30634, 30635, 30636, 30637, 30639, 30640, 30643, 30644, 30646, 30651, 30653, 30655, 30658, 30661, 30662, 30663, 30665, 30666, 30670, 30671, 30674, 30677, 30685, 30686, 30688, 30693, 30694, 30699, 30701, 30704, 30707, 30710, 30711, 30715, 30721, 30725, 30729, 30730, 30733, 30735, 30736, 30739, 30746, 30747, 30751, 30753, 30757, 30760, 30762, 30766, 30767, 30770, 30771, 30773, 30774, 30777, 30782, 30787, 30792, 30793, 30797, 30799, 30800, 30801, 30802, 30804, 30805, 30806, 30808, 30811, 30813, 30814, 30816, 30821, 30822, 30824, 30828, 30833, 30834, 30837, 30839, 30849, 30850, 30851, 30856, 30857, 30858, 30859, 30860, 30861, 30862, 30864, 30866, 30869, 30871, 30872, 30874, 30877, 30881, 30883, 30886, 30888, 30893, 30894, 30904, 30905, 30909, 30910, 30913, 30915, 30916, 30919, 30920, 30922, 30923, 30925, 30930, 30931, 30934, 30935, 30936, 30937, 30940, 30941, 30942, 30945, 30948, 30949, 30951, 30952, 30954, 30956, 30959, 30961, 30962, 30963, 30965, 30966, 30968, 30970, 30975, 30977, 30979, 30983, 30985, 30986, 30987, 30989, 30998, 30999, 31000, 31001, 31002, 31003, 31005, 31009, 31012, 31015, 31017, 31019, 31021, 31022, 31024, 31026, 31027, 31030, 31033, 31035, 31040, 31041, 31044, 31046, 31047, 31050, 31055, 31059, 31064, 31066, 31068, 31070, 31078, 31081, 31082, 31086, 31089, 31093, 31095, 31097, 31099, 31101, 31102, 31108, 31115, 31117, 31119, 31121, 31122, 31123, 31124, 31128, 31129, 31130, 31131, 31133, 31137, 31138, 31139, 31140, 31143, 31145, 31146, 31147, 31150, 31151, 31156, 31163, 31164, 31168, 31170, 31172, 31175, 31176, 31180, 31181, 31185, 31186, 31187, 31189, 31194, 31197, 31198, 31199, 31200, 31201, 31202, 31203, 31205, 31208, 31210, 31213, 31214, 31217, 31218, 31219, 31222, 31223, 31224, 31225, 31227, 31233, 31238, 31239, 31240, 31241, 31242, 31243, 31244, 31246, 31257, 31259, 31260, 31265, 31269, 31270, 31273, 31275, 31279, 31281, 31282, 31283, 31286, 31291, 31296, 31299, 31300, 31301, 31304, 31306, 31308, 31309, 31310, 31313, 31315, 31318, 31321, 31322, 31326, 31330, 31335, 31338, 31339, 31341, 31346, 31348, 31351, 31352, 31357, 31358, 31360, 31361, 31366, 31367, 31368, 31371, 31372, 31375, 31377, 31379, 31380, 31382, 31385, 31389, 31391, 31393, 31398, 31400, 31401, 31406, 31407, 31410, 31411, 31412, 31414, 31416, 31420, 31421, 31424, 31428, 31430, 31433, 31436, 31437, 31443, 31445, 31446, 31448, 31450, 31452, 31454, 31456, 31458, 31461, 31464, 31467, 31471, 31474, 31479, 31481, 31482, 31483, 31486, 31493, 31494, 31496, 31497, 31498, 31502, 31504, 31506, 31508, 31517, 31518, 31519, 31520, 31521, 31522, 31530, 31532, 31533, 31536, 31540, 31541, 31542, 31544, 31547, 31553, 31554, 31556, 31558, 31567, 31568, 31570, 31571, 31575, 31578, 31580, 31585, 31587, 31588, 31589, 31591, 31592, 31595, 31596, 31597, 31600, 31605, 31618, 31620, 31623, 31625, 31632, 31635, 31636, 31637, 31638, 31639, 31646, 31647, 31649, 31651, 31652, 31655], array([1., 0., 0., ..., 1., 0., 0.]), array([0., 0., 0., ..., 0., 0., 0.]), array([1., 0., 0., ..., 0., 0., 0.]), array([1., 0., 0., ..., 0., 0., 0.]), array([1., 0., 0., ..., 0., 0., 0.]), array([1., 0., 0., ..., 0., 0., 0.]), array([0., 0., 0., ..., 0., 0., 1.]), array([1., 0., 0., ..., 0., 0., 0.]), array([0., 0., 0., ..., 0., 0., 0.]), array([0., 0., 0., ..., 0., 0., 0.]), array([0., 0., 0., ..., 0., 0., 0.]), array([14.9485  , 17.172384, 18.536434, ..., 18.746168, 19.249512,\n",
      "       17.240091], dtype=float32), array([14.9485  , 17.172384, 18.536434, ..., 18.746168, 19.249512,\n",
      "       17.240091], dtype=float32), array([14.9485  , 17.172384, 18.536434, ..., 18.746168, 19.249512,\n",
      "       17.240091], dtype=float32), array([82.184204, 72.52297 , 71.90683 , ..., 74.47129 , 91.46346 ,\n",
      "       86.23392 ], dtype=float32), array([98.57954, 96.20369, 95.87712, ..., 98.29163, 98.06636, 99.2445 ],\n",
      "      dtype=float32), array([ 83.7003 ,  92.22978,  69.32882, ...,  93.89256, 115.37662,\n",
      "       105.97055], dtype=float32)]\n"
     ]
    }
   ],
   "source": [
    "columns_final = columns_1 + columns_2"
   ]
  },
  {
   "cell_type": "markdown",
   "metadata": {},
   "source": [
    "## Save predictions"
   ]
  },
  {
   "cell_type": "code",
   "execution_count": 31,
   "metadata": {},
   "outputs": [
    {
     "name": "stdout",
     "output_type": "stream",
     "text": [
      "(18, 12664)\n"
     ]
    },
    {
     "ename": "ValueError",
     "evalue": "Length mismatch: Expected axis has 18 elements, new values have 16 elements",
     "output_type": "error",
     "traceback": [
      "\u001b[0;31m---------------------------------------------------------------------------\u001b[0m",
      "\u001b[0;31mValueError\u001b[0m                                Traceback (most recent call last)",
      "\u001b[0;32m<ipython-input-31-c0343205ad70>\u001b[0m in \u001b[0;36m<module>\u001b[0;34m\u001b[0m\n\u001b[1;32m      1\u001b[0m \u001b[0mprint\u001b[0m\u001b[0;34m(\u001b[0m\u001b[0mnp\u001b[0m\u001b[0;34m.\u001b[0m\u001b[0mshape\u001b[0m\u001b[0;34m(\u001b[0m\u001b[0mcolumns_final\u001b[0m\u001b[0;34m)\u001b[0m\u001b[0;34m)\u001b[0m\u001b[0;34m\u001b[0m\u001b[0;34m\u001b[0m\u001b[0m\n\u001b[1;32m      2\u001b[0m \u001b[0mresult\u001b[0m \u001b[0;34m=\u001b[0m \u001b[0mpd\u001b[0m\u001b[0;34m.\u001b[0m\u001b[0mDataFrame\u001b[0m\u001b[0;34m(\u001b[0m\u001b[0mcolumns_final\u001b[0m\u001b[0;34m)\u001b[0m\u001b[0;34m.\u001b[0m\u001b[0mtranspose\u001b[0m\u001b[0;34m(\u001b[0m\u001b[0;34m)\u001b[0m\u001b[0;34m\u001b[0m\u001b[0;34m\u001b[0m\u001b[0m\n\u001b[0;32m----> 3\u001b[0;31m \u001b[0mresult\u001b[0m\u001b[0;34m.\u001b[0m\u001b[0mcolumns\u001b[0m \u001b[0;34m=\u001b[0m \u001b[0mlist\u001b[0m\u001b[0;34m(\u001b[0m\u001b[0mdf_train_labels\u001b[0m\u001b[0;34m)\u001b[0m\u001b[0;34m\u001b[0m\u001b[0;34m\u001b[0m\u001b[0m\n\u001b[0m\u001b[1;32m      4\u001b[0m \u001b[0mresult\u001b[0m\u001b[0;34m.\u001b[0m\u001b[0mto_csv\u001b[0m\u001b[0;34m(\u001b[0m\u001b[0;34m'./Results/prediction.csv.zip'\u001b[0m\u001b[0;34m,\u001b[0m \u001b[0mindex\u001b[0m\u001b[0;34m=\u001b[0m\u001b[0;32mFalse\u001b[0m\u001b[0;34m,\u001b[0m \u001b[0mfloat_format\u001b[0m\u001b[0;34m=\u001b[0m\u001b[0;34m'%.3f'\u001b[0m\u001b[0;34m,\u001b[0m \u001b[0mcompression\u001b[0m\u001b[0;34m=\u001b[0m\u001b[0;34m'zip'\u001b[0m\u001b[0;34m)\u001b[0m\u001b[0;34m\u001b[0m\u001b[0;34m\u001b[0m\u001b[0m\n",
      "\u001b[0;32m/usr/local/lib/python3.7/site-packages/pandas/core/generic.py\u001b[0m in \u001b[0;36m__setattr__\u001b[0;34m(self, name, value)\u001b[0m\n\u001b[1;32m   5285\u001b[0m         \u001b[0;32mtry\u001b[0m\u001b[0;34m:\u001b[0m\u001b[0;34m\u001b[0m\u001b[0;34m\u001b[0m\u001b[0m\n\u001b[1;32m   5286\u001b[0m             \u001b[0mobject\u001b[0m\u001b[0;34m.\u001b[0m\u001b[0m__getattribute__\u001b[0m\u001b[0;34m(\u001b[0m\u001b[0mself\u001b[0m\u001b[0;34m,\u001b[0m \u001b[0mname\u001b[0m\u001b[0;34m)\u001b[0m\u001b[0;34m\u001b[0m\u001b[0;34m\u001b[0m\u001b[0m\n\u001b[0;32m-> 5287\u001b[0;31m             \u001b[0;32mreturn\u001b[0m \u001b[0mobject\u001b[0m\u001b[0;34m.\u001b[0m\u001b[0m__setattr__\u001b[0m\u001b[0;34m(\u001b[0m\u001b[0mself\u001b[0m\u001b[0;34m,\u001b[0m \u001b[0mname\u001b[0m\u001b[0;34m,\u001b[0m \u001b[0mvalue\u001b[0m\u001b[0;34m)\u001b[0m\u001b[0;34m\u001b[0m\u001b[0;34m\u001b[0m\u001b[0m\n\u001b[0m\u001b[1;32m   5288\u001b[0m         \u001b[0;32mexcept\u001b[0m \u001b[0mAttributeError\u001b[0m\u001b[0;34m:\u001b[0m\u001b[0;34m\u001b[0m\u001b[0;34m\u001b[0m\u001b[0m\n\u001b[1;32m   5289\u001b[0m             \u001b[0;32mpass\u001b[0m\u001b[0;34m\u001b[0m\u001b[0;34m\u001b[0m\u001b[0m\n",
      "\u001b[0;32mpandas/_libs/properties.pyx\u001b[0m in \u001b[0;36mpandas._libs.properties.AxisProperty.__set__\u001b[0;34m()\u001b[0m\n",
      "\u001b[0;32m/usr/local/lib/python3.7/site-packages/pandas/core/generic.py\u001b[0m in \u001b[0;36m_set_axis\u001b[0;34m(self, axis, labels)\u001b[0m\n\u001b[1;32m    659\u001b[0m \u001b[0;34m\u001b[0m\u001b[0m\n\u001b[1;32m    660\u001b[0m     \u001b[0;32mdef\u001b[0m \u001b[0m_set_axis\u001b[0m\u001b[0;34m(\u001b[0m\u001b[0mself\u001b[0m\u001b[0;34m,\u001b[0m \u001b[0maxis\u001b[0m\u001b[0;34m,\u001b[0m \u001b[0mlabels\u001b[0m\u001b[0;34m)\u001b[0m \u001b[0;34m->\u001b[0m \u001b[0;32mNone\u001b[0m\u001b[0;34m:\u001b[0m\u001b[0;34m\u001b[0m\u001b[0;34m\u001b[0m\u001b[0m\n\u001b[0;32m--> 661\u001b[0;31m         \u001b[0mself\u001b[0m\u001b[0;34m.\u001b[0m\u001b[0m_data\u001b[0m\u001b[0;34m.\u001b[0m\u001b[0mset_axis\u001b[0m\u001b[0;34m(\u001b[0m\u001b[0maxis\u001b[0m\u001b[0;34m,\u001b[0m \u001b[0mlabels\u001b[0m\u001b[0;34m)\u001b[0m\u001b[0;34m\u001b[0m\u001b[0;34m\u001b[0m\u001b[0m\n\u001b[0m\u001b[1;32m    662\u001b[0m         \u001b[0mself\u001b[0m\u001b[0;34m.\u001b[0m\u001b[0m_clear_item_cache\u001b[0m\u001b[0;34m(\u001b[0m\u001b[0;34m)\u001b[0m\u001b[0;34m\u001b[0m\u001b[0;34m\u001b[0m\u001b[0m\n\u001b[1;32m    663\u001b[0m \u001b[0;34m\u001b[0m\u001b[0m\n",
      "\u001b[0;32m/usr/local/lib/python3.7/site-packages/pandas/core/internals/managers.py\u001b[0m in \u001b[0;36mset_axis\u001b[0;34m(self, axis, new_labels)\u001b[0m\n\u001b[1;32m    176\u001b[0m         \u001b[0;32mif\u001b[0m \u001b[0mnew_len\u001b[0m \u001b[0;34m!=\u001b[0m \u001b[0mold_len\u001b[0m\u001b[0;34m:\u001b[0m\u001b[0;34m\u001b[0m\u001b[0;34m\u001b[0m\u001b[0m\n\u001b[1;32m    177\u001b[0m             raise ValueError(\n\u001b[0;32m--> 178\u001b[0;31m                 \u001b[0;34mf\"Length mismatch: Expected axis has {old_len} elements, new \"\u001b[0m\u001b[0;34m\u001b[0m\u001b[0;34m\u001b[0m\u001b[0m\n\u001b[0m\u001b[1;32m    179\u001b[0m                 \u001b[0;34mf\"values have {new_len} elements\"\u001b[0m\u001b[0;34m\u001b[0m\u001b[0;34m\u001b[0m\u001b[0m\n\u001b[1;32m    180\u001b[0m             )\n",
      "\u001b[0;31mValueError\u001b[0m: Length mismatch: Expected axis has 18 elements, new values have 16 elements"
     ]
    }
   ],
   "source": [
    "print(np.shape(columns_final))\n",
    "result = pd.DataFrame(columns_final).transpose()\n",
    "result.columns = list(df_train_labels)\n",
    "result.to_csv('./Results/prediction.csv.zip', index=False, float_format='%.3f', compression='zip')"
   ]
  },
  {
   "cell_type": "code",
   "execution_count": null,
   "metadata": {},
   "outputs": [],
   "source": [
    "result.to_csv('./Results/prediction.csv', index=False, float_format='%.3f')"
   ]
  },
  {
   "cell_type": "code",
   "execution_count": null,
   "metadata": {},
   "outputs": [],
   "source": []
  }
 ],
 "metadata": {
  "kernelspec": {
   "display_name": "Python 3",
   "language": "python",
   "name": "python3"
  },
  "language_info": {
   "codemirror_mode": {
    "name": "ipython",
    "version": 3
   },
   "file_extension": ".py",
   "mimetype": "text/x-python",
   "name": "python",
   "nbconvert_exporter": "python",
   "pygments_lexer": "ipython3",
   "version": "3.7.5"
  }
 },
 "nbformat": 4,
 "nbformat_minor": 4
}
