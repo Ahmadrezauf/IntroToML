{
 "cells": [
  {
   "cell_type": "markdown",
   "metadata": {},
   "source": [
    "# Support vector machines"
   ]
  },
  {
   "cell_type": "code",
   "execution_count": 1,
   "metadata": {},
   "outputs": [],
   "source": [
    "# import libraries\n",
    "\n",
    "import numpy as np\n",
    "import math\n",
    "import pandas as pd\n",
    "import matplotlib.pyplot as plt\n",
    "import missingno as msno\n",
    "import seaborn as sns\n",
    "\n",
    "from matplotlib.backends.backend_pdf import PdfPages\n",
    "from sklearn.decomposition import PCA\n",
    "\n",
    "from sklearn.ensemble import BaggingClassifier, RandomForestClassifier\n",
    "from sklearn.feature_selection import GenericUnivariateSelect, mutual_info_classif, mutual_info_regression, f_regression, f_classif\n",
    "\n",
    "from sklearn import preprocessing\n",
    "from sklearn.svm import LinearSVR\n",
    "from sklearn.svm import LinearSVC\n",
    "from sklearn.svm import SVR\n",
    "from sklearn.svm import SVC\n",
    "from sklearn import linear_model\n",
    "\n",
    "from sklearn.preprocessing import StandardScaler\n",
    "from sklearn.metrics import roc_auc_score\n",
    "from sklearn.metrics import r2_score\n",
    "from sklearn.metrics.pairwise import pairwise_kernels\n",
    "\n",
    "from sklearn import model_selection\n",
    "\n",
    "from sklearn.impute import KNNImputer\n",
    "from sklearn.impute import SimpleImputer\n",
    "# explicitly require this experimental feature\n",
    "from sklearn.experimental import enable_iterative_imputer  # noqa\n",
    "# now you can import normally from sklearn.impute\n",
    "from sklearn.impute import IterativeImputer\n",
    "from sklearn.ensemble import RandomForestRegressor\n",
    "\n",
    "import copy"
   ]
  },
  {
   "cell_type": "markdown",
   "metadata": {},
   "source": [
    "## Data pre-processing"
   ]
  },
  {
   "cell_type": "code",
   "execution_count": 2,
   "metadata": {},
   "outputs": [],
   "source": [
    "# load training data\n",
    "\n",
    "# load data from csv file\n",
    "df_train_features = pd.read_csv ('train_features.csv')\n",
    "df_train_labels = pd.read_csv('train_labels.csv')\n",
    "\n",
    "# Load test data\n",
    "df_test_features = pd.read_csv('test_features.csv')"
   ]
  },
  {
   "cell_type": "markdown",
   "metadata": {},
   "source": [
    "### Sorting labels"
   ]
  },
  {
   "cell_type": "code",
   "execution_count": 3,
   "metadata": {},
   "outputs": [],
   "source": [
    "df_train_labels = df_train_labels.sort_values('pid')\n",
    "df_train_features = df_train_features.sort_values('pid')\n",
    "df_test_features = df_test_features.sort_values('pid')\n",
    "\n",
    "# Droping time\n",
    "df_train_features = df_train_features.drop('Time', axis = 1)\n",
    "df_test_features = df_test_features.drop('Time', axis = 1)"
   ]
  },
  {
   "cell_type": "markdown",
   "metadata": {},
   "source": [
    "### Extracting IDs"
   ]
  },
  {
   "cell_type": "code",
   "execution_count": 4,
   "metadata": {},
   "outputs": [],
   "source": [
    "train_pids = df_train_features['pid'].unique()\n",
    "test_pids = df_test_features['pid'].unique()"
   ]
  },
  {
   "cell_type": "markdown",
   "metadata": {},
   "source": [
    " ### Histogram of the output labels "
   ]
  },
  {
   "cell_type": "markdown",
   "metadata": {},
   "source": [
    "We should check for class imbalance."
   ]
  },
  {
   "cell_type": "code",
   "execution_count": null,
   "metadata": {},
   "outputs": [],
   "source": [
    "df_train_labels.hist()\n",
    "\n",
    "# with PdfPages(\"./Results/Labels_histogram.pdf\") as export_pdf:\n",
    "#     for i in list(df_train_labels)[1:]:\n",
    "#         df_train_labels.hist(column = i, bins = 100)\n",
    "#         export_pdf.savefig()"
   ]
  },
  {
   "cell_type": "markdown",
   "metadata": {},
   "source": [
    "One can see the class imbalance problem here. Other observations:\n",
    "  * Heartrate, RRate, ABPm,  distribution is similar to a normal distribution\n",
    "  * SpO2 is like a censored normal distribution. \n",
    "  * For all of the other features, class imbalance is an obvious problem."
   ]
  },
  {
   "cell_type": "markdown",
   "metadata": {},
   "source": [
    "A basic strategy that could be used here: Upsample both classes! Do the upsampling efficiently, not just replicating the datapoints"
   ]
  },
  {
   "cell_type": "markdown",
   "metadata": {},
   "source": [
    "### Boxplot over features"
   ]
  },
  {
   "cell_type": "code",
   "execution_count": null,
   "metadata": {},
   "outputs": [],
   "source": [
    "# data inspection: \n",
    "#############################################\n",
    "# range of the provided data?\n",
    "print(df_train_features.agg([min, max]))\n",
    "\n",
    "# Boxplotting the data\n",
    "# fig2, ax2 = plt.subplots()\n",
    "# ax2.set_title('BUN')\n",
    "# ax2.boxplot(df_train_features.iloc[:,5], notch=True)\n",
    "\n",
    "plt.figure(figsize=(16, 16))\n",
    "ax = sns.boxplot(data = df_train_features.iloc[:,1:])\n",
    "ax.set_xticklabels(\n",
    "    ax.get_xticklabels(),\n",
    "    rotation=90,\n",
    "    horizontalalignment='right'\n",
    ");\n",
    "\n",
    "# with PdfPages(\"./Results/Train_columns_boxplot.pdf\") as export_pdf:\n",
    "#     for i in list(df_train_labels)[1:]:\n",
    "#         df_train_labels.hist(column = i, bins = 100)\n",
    "#         export_pdf.savefig()"
   ]
  },
  {
   "cell_type": "code",
   "execution_count": null,
   "metadata": {},
   "outputs": [],
   "source": [
    "# calculate the correlation matrix\n",
    "corr = df_train_features.corr()\n",
    "\n",
    "# plot the heatmap\n",
    "plt.figure(figsize=(16, 16))\n",
    "ax = sns.heatmap(corr, \n",
    "        xticklabels=corr.columns,\n",
    "        yticklabels=corr.columns, \n",
    "        vmin=-1, vmax=1, center=0, \n",
    "           cmap=sns.diverging_palette(20, 220, n=200))\n",
    "ax.set_xticklabels(\n",
    "    ax.get_xticklabels(),\n",
    "    rotation=45,\n",
    "    horizontalalignment='right'\n",
    ");"
   ]
  },
  {
   "cell_type": "markdown",
   "metadata": {},
   "source": [
    "### Visualizing pattern of missing values"
   ]
  },
  {
   "cell_type": "code",
   "execution_count": null,
   "metadata": {},
   "outputs": [],
   "source": [
    "# how much missing data? \n",
    "print(\"Percentage of missing values:\")\n",
    "print(df_train_features.isnull().sum(axis=0) / len(df_train_features))\n",
    "\n",
    "msno.matrix(df_train_features)\n",
    "\n",
    "# Plotting the correlation between the missing values\n",
    "msno.heatmap(df_train_features)"
   ]
  },
  {
   "cell_type": "markdown",
   "metadata": {},
   "source": [
    "# Another Strategy for preprocessing"
   ]
  },
  {
   "cell_type": "code",
   "execution_count": 8,
   "metadata": {},
   "outputs": [],
   "source": [
    "# Which columns have less than a percent NA\n",
    "NA_percent = 0.7\n",
    "NA_percent_severe = 0.91\n",
    "\n",
    "sel_features = df_train_features.isnull().sum(axis=0) < (NA_percent * df_train_features.shape[0])\n",
    "inds = np.where(sel_features == True)\n",
    "\n",
    "sel_features_2 = (df_train_features.isnull().sum(axis=0) < (NA_percent_severe * df_train_features.shape[0])) & (df_train_features.isnull().sum(axis=0) > (NA_percent * df_train_features.shape[0]))        \n",
    "inds_2 = np.where(sel_features_2 == True)\n",
    "\n",
    "sel_features_3 = df_train_features.isnull().sum(axis=0) > (NA_percent_severe * df_train_features.shape[0])\n",
    "inds_3 = np.where(sel_features_3 == True)\n",
    "\n",
    "vars_class1 = df_train_features.columns[inds[0]]\n",
    "vars_class2 = df_train_features.columns[inds_2[0]]\n",
    "vars_class3 = df_train_features.columns[inds_3[0]]\n",
    "vars_classes = [vars_class1, vars_class2, vars_class3]\n",
    "\n",
    "# print(\"--------Our Columns are are: \",df_train_features.columns.drop(\"pid\"))\n",
    "# print(\"--------Labels are: \", df_train_labels.columns)\n",
    "# print(\"********Var classes are: \" ,vars_classes)"
   ]
  },
  {
   "cell_type": "code",
   "execution_count": 9,
   "metadata": {},
   "outputs": [],
   "source": [
    "# Extract Statistics out of columns\n",
    "train_columns_mean = df_train_features.mean(skipna = True)\n",
    "train_columns_median = df_train_features.median(skipna = True)\n",
    "\n",
    "# Extract Statistics out of test\n",
    "test_columns_mean = df_test_features.mean(skipna = True)\n",
    "test_columns_median = df_test_features.median(skipna = True)"
   ]
  },
  {
   "cell_type": "code",
   "execution_count": null,
   "metadata": {},
   "outputs": [],
   "source": [
    "# df\n",
    "x =[1,2,3,np.NaN,5]\n",
    "print(np.isnan(x))\n",
    "[i for count,i in enumerate(x) if ~np.isnan(i)]"
   ]
  },
  {
   "cell_type": "code",
   "execution_count": 11,
   "metadata": {},
   "outputs": [],
   "source": [
    "def imputation_pid(df, IMPUTATIONS_TRATEGY, trainStats):\n",
    "\n",
    "    datInp = copy.deepcopy(df)\n",
    "\n",
    "    totNACounts = datInp.isna().sum(axis = 0)\n",
    "    # def imputation_technique(datInp, var, IMPUTATIONS_TRATEGY, trainStats):\n",
    "\n",
    "    # do it in a sorted fashion to do iterative imputing\n",
    "    col_size = df.shape[1]\n",
    "    df_NACount = pd.DataFrame({'NACounts':totNACounts, 'Columns':list(datInp), 'ColNum':np.linspace(0,col_size - 1, col_size, dtype = int)}).sort_values('NACounts', ascending = False)\n",
    "    for index, row in df_NACount.iterrows():\n",
    "\n",
    "    #     var = dataInp[:,row[2]].tolist()\n",
    "    #     print(var)\n",
    "        if(row[0] == 12):\n",
    "            datInp.iloc[:,row[2]] = [trainStats[row[2]]] * 12\n",
    "\n",
    "        elif(row[0] == 11):\n",
    "            # If 11, then copy that element 11 times\n",
    "            datInp.iloc[:,row[2]] = [ [i for count,i in enumerate(datInp.iloc[:,row[2]]) if ~np.isnan(i)][0] ] * 12\n",
    "    \n",
    "    dataInp = IMPUTATIONS_TRATEGY.fit_transform(datInp)\n",
    "    \n",
    "    return(pd.DataFrame(dataInp, columns = list(datInp)))"
   ]
  },
  {
   "cell_type": "code",
   "execution_count": null,
   "metadata": {},
   "outputs": [],
   "source": [
    "arr = np.linspace(1,10, 10, dtype = int)\n",
    "arr = []\n",
    "for i in range(12):\n",
    "    arr.append(\"v\" + str(i))\n",
    "print(arr)"
   ]
  },
  {
   "cell_type": "code",
   "execution_count": 13,
   "metadata": {},
   "outputs": [
    {
     "data": {
      "text/html": [
       "<div>\n",
       "<style scoped>\n",
       "    .dataframe tbody tr th:only-of-type {\n",
       "        vertical-align: middle;\n",
       "    }\n",
       "\n",
       "    .dataframe tbody tr th {\n",
       "        vertical-align: top;\n",
       "    }\n",
       "\n",
       "    .dataframe thead th {\n",
       "        text-align: right;\n",
       "    }\n",
       "</style>\n",
       "<table border=\"1\" class=\"dataframe\">\n",
       "  <thead>\n",
       "    <tr style=\"text-align: right;\">\n",
       "      <th></th>\n",
       "      <th>Age</th>\n",
       "      <th>EtCO2:mean</th>\n",
       "      <th>EtCO2:std</th>\n",
       "      <th>PTT:mean</th>\n",
       "      <th>PTT:std</th>\n",
       "      <th>BUN:mean</th>\n",
       "      <th>BUN:std</th>\n",
       "      <th>Lactate:mean</th>\n",
       "      <th>Lactate:std</th>\n",
       "      <th>Temp:0</th>\n",
       "      <th>...</th>\n",
       "      <th>ABPs:6</th>\n",
       "      <th>ABPs:7</th>\n",
       "      <th>ABPs:8</th>\n",
       "      <th>ABPs:9</th>\n",
       "      <th>ABPs:10</th>\n",
       "      <th>ABPs:11</th>\n",
       "      <th>pH:mean</th>\n",
       "      <th>pH:std</th>\n",
       "      <th>pH:min</th>\n",
       "      <th>pH:max</th>\n",
       "    </tr>\n",
       "  </thead>\n",
       "  <tbody>\n",
       "    <tr>\n",
       "      <th>0</th>\n",
       "      <td>34.0</td>\n",
       "      <td>32.883114</td>\n",
       "      <td>7.105427e-15</td>\n",
       "      <td>40.09131</td>\n",
       "      <td>7.105427e-15</td>\n",
       "      <td>12.000000</td>\n",
       "      <td>0.000000</td>\n",
       "      <td>2.859716</td>\n",
       "      <td>4.440892e-16</td>\n",
       "      <td>36.0</td>\n",
       "      <td>...</td>\n",
       "      <td>102.0</td>\n",
       "      <td>100.0</td>\n",
       "      <td>104.0</td>\n",
       "      <td>110.0</td>\n",
       "      <td>125.0</td>\n",
       "      <td>106.0</td>\n",
       "      <td>7.379167</td>\n",
       "      <td>2.430992e-02</td>\n",
       "      <td>7.330000</td>\n",
       "      <td>7.410000</td>\n",
       "    </tr>\n",
       "    <tr>\n",
       "      <th>1</th>\n",
       "      <td>86.0</td>\n",
       "      <td>32.883114</td>\n",
       "      <td>7.105427e-15</td>\n",
       "      <td>31.80000</td>\n",
       "      <td>0.000000e+00</td>\n",
       "      <td>32.000000</td>\n",
       "      <td>0.000000</td>\n",
       "      <td>2.859716</td>\n",
       "      <td>4.440892e-16</td>\n",
       "      <td>36.0</td>\n",
       "      <td>...</td>\n",
       "      <td>132.0</td>\n",
       "      <td>125.0</td>\n",
       "      <td>129.0</td>\n",
       "      <td>126.0</td>\n",
       "      <td>148.0</td>\n",
       "      <td>131.5</td>\n",
       "      <td>7.367231</td>\n",
       "      <td>8.881784e-16</td>\n",
       "      <td>7.367231</td>\n",
       "      <td>7.367231</td>\n",
       "    </tr>\n",
       "    <tr>\n",
       "      <th>2</th>\n",
       "      <td>66.0</td>\n",
       "      <td>32.883114</td>\n",
       "      <td>7.105427e-15</td>\n",
       "      <td>34.60000</td>\n",
       "      <td>7.105427e-15</td>\n",
       "      <td>8.000000</td>\n",
       "      <td>0.000000</td>\n",
       "      <td>2.859716</td>\n",
       "      <td>4.440892e-16</td>\n",
       "      <td>37.0</td>\n",
       "      <td>...</td>\n",
       "      <td>168.0</td>\n",
       "      <td>124.0</td>\n",
       "      <td>130.0</td>\n",
       "      <td>116.0</td>\n",
       "      <td>86.0</td>\n",
       "      <td>90.0</td>\n",
       "      <td>7.367231</td>\n",
       "      <td>8.881784e-16</td>\n",
       "      <td>7.367231</td>\n",
       "      <td>7.367231</td>\n",
       "    </tr>\n",
       "    <tr>\n",
       "      <th>3</th>\n",
       "      <td>66.0</td>\n",
       "      <td>32.883114</td>\n",
       "      <td>7.105427e-15</td>\n",
       "      <td>53.80000</td>\n",
       "      <td>7.105427e-15</td>\n",
       "      <td>32.000000</td>\n",
       "      <td>0.000000</td>\n",
       "      <td>1.800000</td>\n",
       "      <td>0.000000e+00</td>\n",
       "      <td>38.0</td>\n",
       "      <td>...</td>\n",
       "      <td>103.0</td>\n",
       "      <td>95.0</td>\n",
       "      <td>102.0</td>\n",
       "      <td>98.0</td>\n",
       "      <td>97.0</td>\n",
       "      <td>100.0</td>\n",
       "      <td>7.353333</td>\n",
       "      <td>1.699673e-02</td>\n",
       "      <td>7.330000</td>\n",
       "      <td>7.390000</td>\n",
       "    </tr>\n",
       "    <tr>\n",
       "      <th>4</th>\n",
       "      <td>42.0</td>\n",
       "      <td>32.883114</td>\n",
       "      <td>7.105427e-15</td>\n",
       "      <td>40.09131</td>\n",
       "      <td>7.105427e-15</td>\n",
       "      <td>18.000000</td>\n",
       "      <td>0.000000</td>\n",
       "      <td>2.859716</td>\n",
       "      <td>4.440892e-16</td>\n",
       "      <td>36.0</td>\n",
       "      <td>...</td>\n",
       "      <td>229.0</td>\n",
       "      <td>234.0</td>\n",
       "      <td>239.0</td>\n",
       "      <td>204.0</td>\n",
       "      <td>149.0</td>\n",
       "      <td>209.0</td>\n",
       "      <td>7.367231</td>\n",
       "      <td>8.881784e-16</td>\n",
       "      <td>7.367231</td>\n",
       "      <td>7.367231</td>\n",
       "    </tr>\n",
       "    <tr>\n",
       "      <th>...</th>\n",
       "      <td>...</td>\n",
       "      <td>...</td>\n",
       "      <td>...</td>\n",
       "      <td>...</td>\n",
       "      <td>...</td>\n",
       "      <td>...</td>\n",
       "      <td>...</td>\n",
       "      <td>...</td>\n",
       "      <td>...</td>\n",
       "      <td>...</td>\n",
       "      <td>...</td>\n",
       "      <td>...</td>\n",
       "      <td>...</td>\n",
       "      <td>...</td>\n",
       "      <td>...</td>\n",
       "      <td>...</td>\n",
       "      <td>...</td>\n",
       "      <td>...</td>\n",
       "      <td>...</td>\n",
       "      <td>...</td>\n",
       "      <td>...</td>\n",
       "    </tr>\n",
       "    <tr>\n",
       "      <th>18990</th>\n",
       "      <td>52.0</td>\n",
       "      <td>32.883114</td>\n",
       "      <td>7.105427e-15</td>\n",
       "      <td>25.80000</td>\n",
       "      <td>0.000000e+00</td>\n",
       "      <td>11.000000</td>\n",
       "      <td>0.000000</td>\n",
       "      <td>1.733333</td>\n",
       "      <td>2.560382e-01</td>\n",
       "      <td>36.0</td>\n",
       "      <td>...</td>\n",
       "      <td>86.5</td>\n",
       "      <td>75.0</td>\n",
       "      <td>86.0</td>\n",
       "      <td>96.0</td>\n",
       "      <td>91.0</td>\n",
       "      <td>86.5</td>\n",
       "      <td>7.330000</td>\n",
       "      <td>8.881784e-16</td>\n",
       "      <td>7.330000</td>\n",
       "      <td>7.330000</td>\n",
       "    </tr>\n",
       "    <tr>\n",
       "      <th>18991</th>\n",
       "      <td>66.0</td>\n",
       "      <td>32.883114</td>\n",
       "      <td>7.105427e-15</td>\n",
       "      <td>40.09131</td>\n",
       "      <td>7.105427e-15</td>\n",
       "      <td>33.000000</td>\n",
       "      <td>0.408248</td>\n",
       "      <td>2.859716</td>\n",
       "      <td>4.440892e-16</td>\n",
       "      <td>37.5</td>\n",
       "      <td>...</td>\n",
       "      <td>172.0</td>\n",
       "      <td>154.0</td>\n",
       "      <td>156.0</td>\n",
       "      <td>166.0</td>\n",
       "      <td>172.0</td>\n",
       "      <td>163.0</td>\n",
       "      <td>7.367231</td>\n",
       "      <td>8.881784e-16</td>\n",
       "      <td>7.367231</td>\n",
       "      <td>7.367231</td>\n",
       "    </tr>\n",
       "    <tr>\n",
       "      <th>18992</th>\n",
       "      <td>44.0</td>\n",
       "      <td>32.883114</td>\n",
       "      <td>7.105427e-15</td>\n",
       "      <td>40.09131</td>\n",
       "      <td>7.105427e-15</td>\n",
       "      <td>15.000000</td>\n",
       "      <td>0.000000</td>\n",
       "      <td>2.859716</td>\n",
       "      <td>4.440892e-16</td>\n",
       "      <td>38.0</td>\n",
       "      <td>...</td>\n",
       "      <td>94.0</td>\n",
       "      <td>108.0</td>\n",
       "      <td>89.0</td>\n",
       "      <td>102.0</td>\n",
       "      <td>114.0</td>\n",
       "      <td>104.5</td>\n",
       "      <td>7.301250</td>\n",
       "      <td>2.227901e-02</td>\n",
       "      <td>7.250000</td>\n",
       "      <td>7.340000</td>\n",
       "    </tr>\n",
       "    <tr>\n",
       "      <th>18993</th>\n",
       "      <td>70.0</td>\n",
       "      <td>32.883114</td>\n",
       "      <td>7.105427e-15</td>\n",
       "      <td>40.09131</td>\n",
       "      <td>7.105427e-15</td>\n",
       "      <td>23.192664</td>\n",
       "      <td>0.000000</td>\n",
       "      <td>2.859716</td>\n",
       "      <td>4.440892e-16</td>\n",
       "      <td>37.0</td>\n",
       "      <td>...</td>\n",
       "      <td>113.0</td>\n",
       "      <td>113.0</td>\n",
       "      <td>119.0</td>\n",
       "      <td>124.0</td>\n",
       "      <td>109.0</td>\n",
       "      <td>105.0</td>\n",
       "      <td>7.367231</td>\n",
       "      <td>8.881784e-16</td>\n",
       "      <td>7.367231</td>\n",
       "      <td>7.367231</td>\n",
       "    </tr>\n",
       "    <tr>\n",
       "      <th>18994</th>\n",
       "      <td>60.0</td>\n",
       "      <td>32.883114</td>\n",
       "      <td>7.105427e-15</td>\n",
       "      <td>40.09131</td>\n",
       "      <td>7.105427e-15</td>\n",
       "      <td>13.000000</td>\n",
       "      <td>0.000000</td>\n",
       "      <td>2.859716</td>\n",
       "      <td>4.440892e-16</td>\n",
       "      <td>37.0</td>\n",
       "      <td>...</td>\n",
       "      <td>137.0</td>\n",
       "      <td>127.0</td>\n",
       "      <td>127.0</td>\n",
       "      <td>135.0</td>\n",
       "      <td>127.0</td>\n",
       "      <td>135.0</td>\n",
       "      <td>7.367231</td>\n",
       "      <td>8.881784e-16</td>\n",
       "      <td>7.367231</td>\n",
       "      <td>7.367231</td>\n",
       "    </tr>\n",
       "  </tbody>\n",
       "</table>\n",
       "<p>18995 rows × 153 columns</p>\n",
       "</div>"
      ],
      "text/plain": [
       "        Age  EtCO2:mean     EtCO2:std  PTT:mean       PTT:std   BUN:mean  \\\n",
       "0      34.0   32.883114  7.105427e-15  40.09131  7.105427e-15  12.000000   \n",
       "1      86.0   32.883114  7.105427e-15  31.80000  0.000000e+00  32.000000   \n",
       "2      66.0   32.883114  7.105427e-15  34.60000  7.105427e-15   8.000000   \n",
       "3      66.0   32.883114  7.105427e-15  53.80000  7.105427e-15  32.000000   \n",
       "4      42.0   32.883114  7.105427e-15  40.09131  7.105427e-15  18.000000   \n",
       "...     ...         ...           ...       ...           ...        ...   \n",
       "18990  52.0   32.883114  7.105427e-15  25.80000  0.000000e+00  11.000000   \n",
       "18991  66.0   32.883114  7.105427e-15  40.09131  7.105427e-15  33.000000   \n",
       "18992  44.0   32.883114  7.105427e-15  40.09131  7.105427e-15  15.000000   \n",
       "18993  70.0   32.883114  7.105427e-15  40.09131  7.105427e-15  23.192664   \n",
       "18994  60.0   32.883114  7.105427e-15  40.09131  7.105427e-15  13.000000   \n",
       "\n",
       "        BUN:std  Lactate:mean   Lactate:std  Temp:0  ...  ABPs:6  ABPs:7  \\\n",
       "0      0.000000      2.859716  4.440892e-16    36.0  ...   102.0   100.0   \n",
       "1      0.000000      2.859716  4.440892e-16    36.0  ...   132.0   125.0   \n",
       "2      0.000000      2.859716  4.440892e-16    37.0  ...   168.0   124.0   \n",
       "3      0.000000      1.800000  0.000000e+00    38.0  ...   103.0    95.0   \n",
       "4      0.000000      2.859716  4.440892e-16    36.0  ...   229.0   234.0   \n",
       "...         ...           ...           ...     ...  ...     ...     ...   \n",
       "18990  0.000000      1.733333  2.560382e-01    36.0  ...    86.5    75.0   \n",
       "18991  0.408248      2.859716  4.440892e-16    37.5  ...   172.0   154.0   \n",
       "18992  0.000000      2.859716  4.440892e-16    38.0  ...    94.0   108.0   \n",
       "18993  0.000000      2.859716  4.440892e-16    37.0  ...   113.0   113.0   \n",
       "18994  0.000000      2.859716  4.440892e-16    37.0  ...   137.0   127.0   \n",
       "\n",
       "       ABPs:8  ABPs:9  ABPs:10  ABPs:11   pH:mean        pH:std    pH:min  \\\n",
       "0       104.0   110.0    125.0    106.0  7.379167  2.430992e-02  7.330000   \n",
       "1       129.0   126.0    148.0    131.5  7.367231  8.881784e-16  7.367231   \n",
       "2       130.0   116.0     86.0     90.0  7.367231  8.881784e-16  7.367231   \n",
       "3       102.0    98.0     97.0    100.0  7.353333  1.699673e-02  7.330000   \n",
       "4       239.0   204.0    149.0    209.0  7.367231  8.881784e-16  7.367231   \n",
       "...       ...     ...      ...      ...       ...           ...       ...   \n",
       "18990    86.0    96.0     91.0     86.5  7.330000  8.881784e-16  7.330000   \n",
       "18991   156.0   166.0    172.0    163.0  7.367231  8.881784e-16  7.367231   \n",
       "18992    89.0   102.0    114.0    104.5  7.301250  2.227901e-02  7.250000   \n",
       "18993   119.0   124.0    109.0    105.0  7.367231  8.881784e-16  7.367231   \n",
       "18994   127.0   135.0    127.0    135.0  7.367231  8.881784e-16  7.367231   \n",
       "\n",
       "         pH:max  \n",
       "0      7.410000  \n",
       "1      7.367231  \n",
       "2      7.367231  \n",
       "3      7.390000  \n",
       "4      7.367231  \n",
       "...         ...  \n",
       "18990  7.330000  \n",
       "18991  7.367231  \n",
       "18992  7.340000  \n",
       "18993  7.367231  \n",
       "18994  7.367231  \n",
       "\n",
       "[18995 rows x 153 columns]"
      ]
     },
     "execution_count": 13,
     "metadata": {},
     "output_type": "execute_result"
    }
   ],
   "source": [
    "from scipy import stats\n",
    "\n",
    "def aggregation_imputation_technique(datInp, variables, vars_classes, pids, trainStats):\n",
    "    vars_class1 = vars_classes[0]\n",
    "    vars_class2 = vars_classes[1]\n",
    "    vars_class3 = vars_classes[2]\n",
    "    \n",
    "    dat = copy.deepcopy(datInp)\n",
    "    \n",
    "    vars_class1 = vars_classes[0]\n",
    "    vars_class2 = vars_classes[1]\n",
    "    vars_class3 = vars_classes[2]\n",
    "    \n",
    "    aggregated_dataframe = []\n",
    "    for pid in pids:\n",
    "        # dataframe for this pid\n",
    "        df = dat.loc[dat['pid'] == pid]\n",
    "        \n",
    "        imputer = KNNImputer(n_neighbors=2)\n",
    "\n",
    "        df = imputation_pid(df, imputer, trainStats)\n",
    "        \n",
    "        calculated_features = []\n",
    "        col_names = []\n",
    "        for var in variables:\n",
    "            \n",
    "            # how many NaN are in there for this variable\n",
    "            data = df[var].tolist()\n",
    "            \n",
    "            if var == \"pid\":\n",
    "                continue\n",
    "                \n",
    "            if var == \"Age\":\n",
    "                arr = \"Age\"\n",
    "                col_names.append(arr)\n",
    "                calculated_features.append(data[0])\n",
    "                \n",
    "            elif var in vars_class1:\n",
    "                for i in range(12):\n",
    "                    col_names.append(var + \":\" + str(i))\n",
    "                \n",
    "                calculated_features = calculated_features + data\n",
    "                calculated_features.append(np.nanmean(data))\n",
    "                calculated_features.append(np.nanstd(data))\n",
    "                calculated_features.append(stats.iqr(nan_policy = \"omit\"))\n",
    "                \n",
    "                col_names.append(var + \":mean\")\n",
    "                col_names.append(var + \":std\")\n",
    "                col_names.append(var + \":iqr\")\n",
    "                \n",
    "            elif var in vars_class2:\n",
    "                calculated_features.append(np.nanmean(data))\n",
    "                calculated_features.append(np.nanstd(data))\n",
    "                calculated_features.append(np.nanmin(data))\n",
    "                calculated_features.append(np.nanmax(data))\n",
    "                calculated_features.append(stats.iqr(nan_policy = \"omit\"))\n",
    "                \n",
    "                col_names.append(var + \":mean\")\n",
    "                col_names.append(var + \":std\")\n",
    "                col_names.append(var + \":min\")\n",
    "                col_names.append(var + \":max\")\n",
    "                col_names.append(var + \":iqr\")\n",
    "            \n",
    "            else:\n",
    "                calculated_features.append(np.nanmean(data))\n",
    "                calculated_features.append(np.nanstd(data))\n",
    "                \n",
    "                col_names.append(var + \":mean\")\n",
    "                col_names.append(var + \":std\")\n",
    "        \n",
    "        aggregated_dataframe.append(calculated_features)\n",
    "        \n",
    "    aggregated_dataframe = pd.DataFrame(aggregated_dataframe, columns = col_names)\n",
    "        \n",
    "    return(aggregated_dataframe)\n",
    "\n",
    "df_train_agg_features = aggregation_imputation_technique(df_train_features, df_train_features.columns, vars_classes,\n",
    "                                                         train_pids, train_columns_mean)\n",
    "df_train_agg_features"
   ]
  },
  {
   "cell_type": "code",
   "execution_count": 14,
   "metadata": {},
   "outputs": [],
   "source": [
    "# scale the data\n",
    "\n",
    "min_max_scaler = preprocessing.StandardScaler()\n",
    "# standard_scalar = preprocessing.StandardScaler()\n",
    "\n",
    "data_train_scaled = min_max_scaler.fit_transform(df_train_agg_features)\n",
    "data_train_scaled = pd.DataFrame(data_train_scaled, columns = list(df_train_agg_features))"
   ]
  },
  {
   "cell_type": "code",
   "execution_count": 16,
   "metadata": {},
   "outputs": [],
   "source": [
    "df_test_agg_features = aggregation_imputation_technique(df_test_features, df_test_features.columns, vars_classes,\n",
    "                                                        test_pids, test_columns_mean)\n",
    "\n",
    "min_max_scaler = preprocessing.StandardScaler()\n",
    "# standard_scalar = preprocessing.StandardScaler()\n",
    "\n",
    "data_test_scaled = min_max_scaler.fit_transform(df_test_agg_features)\n",
    "data_test_scaled = pd.DataFrame(data_test_scaled, columns = list(df_test_agg_features))"
   ]
  },
  {
   "cell_type": "code",
   "execution_count": 19,
   "metadata": {},
   "outputs": [
    {
     "name": "stdout",
     "output_type": "stream",
     "text": [
      "(12664, 153)\n",
      "(18995, 153)\n"
     ]
    }
   ],
   "source": [
    "print(data_test_scaled.shape)\n",
    "print(data_train_scaled.shape)"
   ]
  },
  {
   "cell_type": "code",
   "execution_count": 20,
   "metadata": {},
   "outputs": [],
   "source": [
    "pd.DataFrame(data_train_scaled).to_csv(\"./Results/other_dat_train_scaled.csv\", index = False)\n",
    "pd.DataFrame(data_test_scaled).to_csv(\"./Results/other_dat_test_scaled.csv\", index = False)"
   ]
  },
  {
   "cell_type": "markdown",
   "metadata": {},
   "source": [
    "# Previous approach for preprocessing"
   ]
  },
  {
   "cell_type": "markdown",
   "metadata": {},
   "source": [
    "### Train data pre-processing"
   ]
  },
  {
   "cell_type": "code",
   "execution_count": null,
   "metadata": {},
   "outputs": [],
   "source": [
    "# Which columns have less than a percent NA\n",
    "NA_percent = 0.7\n",
    "NA_percent_severe = 0.91\n",
    "\n",
    "sel_features = df_train_features.isnull().sum(axis=0) < (NA_percent * df_train_features.shape[0])\n",
    "inds = np.where(sel_features == True)\n",
    "\n",
    "sel_features_2 = (df_train_features.isnull().sum(axis=0) < (NA_percent_severe * df_train_features.shape[0])) & (df_train_features.isnull().sum(axis=0) > (NA_percent * df_train_features.shape[0]))        \n",
    "inds_2 = np.where(sel_features_2 == True)\n",
    "\n",
    "sel_features_3 = df_train_features.isnull().sum(axis=0) > (NA_percent_severe * df_train_features.shape[0])\n",
    "inds_3 = np.where(sel_features_3 == True)\n",
    "\n",
    "vars_class1 = df_train_features.columns[inds[0]]\n",
    "vars_class2 = df_train_features.columns[inds_2[0]]\n",
    "vars_class3 = df_train_features.columns[inds_3[0]]\n",
    "vars_classes = [vars_class1, vars_class2, vars_class3]\n",
    "\n",
    "print(\"--------Our Columns are are: \",df_train_features.columns.drop(\"pid\"))\n",
    "print(\"--------Labels are: \", df_train_labels.columns)\n",
    "print(\"********Var classes are: \" ,vars_classes)"
   ]
  },
  {
   "cell_type": "code",
   "execution_count": null,
   "metadata": {},
   "outputs": [],
   "source": [
    "def aggregation_technique(dat, variables, pids, vars_classes):\n",
    "    \n",
    "    vars_class1 = vars_classes[0]\n",
    "    vars_class2 = vars_classes[1]\n",
    "    vars_class3 = vars_classes[2]\n",
    "    \n",
    "    aggregated_dataframe = []\n",
    "    for pid in pids:\n",
    "        # dataframe for this pid\n",
    "        df = dat.loc[dat['pid'] == pid]\n",
    "        calculated_features = []\n",
    "        for var in variables:\n",
    "            # how many NaN are in there for this variable\n",
    "            data = df[var].tolist()\n",
    "#             num_nan = np.count_nonzero(np.isnan(data))\n",
    "            if var == \"Age\":\n",
    "                calculated_features.append(data[0])\n",
    "                \n",
    "            elif var in vars_class1:\n",
    "                calculated_features = calculated_features + data\n",
    "#                 calculated_features.append(np.nanmean(data))\n",
    "#                 calculated_features.append(np.nanstd(data))\n",
    "                \n",
    "            elif var in vars_class2:\n",
    "                calculated_features.append(np.nanmean(data))\n",
    "                calculated_features.append(np.nanstd(data))\n",
    "                calculated_features.append(np.nanmin(data))\n",
    "                calculated_features.append(np.nanmax(data))\n",
    "            else:\n",
    "                calculated_features.append(np.nanmean(data))\n",
    "#                 calculated_features.append(np.nanstd(data))\n",
    "                \n",
    "        aggregated_dataframe.append(calculated_features)\n",
    "        \n",
    "    aggregated_dataframe = pd.DataFrame(aggregated_dataframe)\n",
    "    return(aggregated_dataframe)\n",
    " \n",
    "train_pids = df_train_features['pid'].unique()\n",
    "df_train_agg_features = aggregation_technique(df_train_features, df_train_features.columns.drop(\"pid\"), train_pids, vars_classes)"
   ]
  },
  {
   "cell_type": "code",
   "execution_count": null,
   "metadata": {},
   "outputs": [],
   "source": [
    "print(df_train_agg_features.shape)\n",
    "print(df_train_agg_features.columns)\n",
    "print(df_train_agg_features)\n",
    "# pd.DataFrame(data_train_scaled)"
   ]
  },
  {
   "cell_type": "code",
   "execution_count": null,
   "metadata": {},
   "outputs": [],
   "source": [
    "# print(train_pids[1:50])\n",
    "# print(df_train_labels['pid'].tolist()[1:50])\n",
    "print(np.nanmean(df_train_features['Age'].tolist()))\n",
    "print(np.nanvar(df_train_features['Age'].tolist()))"
   ]
  },
  {
   "cell_type": "code",
   "execution_count": null,
   "metadata": {},
   "outputs": [],
   "source": [
    "# # Run the imputer with a simple Random Forest estimator\n",
    "# imp = IterativeImputer(RandomForestRegressor(n_estimators=5), max_iter=10, random_state=1)\n",
    "\n",
    "# #perform filling\n",
    "# df_train_agg_imputed_features = pd.DataFrame(imp.fit_transform(df_train_agg_features), columns=df_train_agg_features.columns)"
   ]
  },
  {
   "cell_type": "code",
   "execution_count": null,
   "metadata": {},
   "outputs": [],
   "source": [
    "# impute missing data points\n",
    "#imp = SimpleImputer(strategy=\"mean\")\n",
    "imputer = KNNImputer(n_neighbors = 10)\n",
    "\n",
    "df_train_agg_imputed_features = imputer.fit_transform(df_train_agg_features)"
   ]
  },
  {
   "cell_type": "code",
   "execution_count": null,
   "metadata": {},
   "outputs": [],
   "source": [
    "# scale the data\n",
    "min_max_scaler = preprocessing.StandardScaler()\n",
    "# standard_scalar = preprocessing.StandardScaler()\n",
    "\n",
    "data_train_scaled = min_max_scaler.fit_transform(df_train_agg_imputed_features)"
   ]
  },
  {
   "cell_type": "code",
   "execution_count": null,
   "metadata": {},
   "outputs": [],
   "source": [
    "# Visualizing the training data after imputing and aggregating\n",
    "\n",
    "plt.figure(figsize=(16, 16))\n",
    "ax = sns.boxplot(data = pd.DataFrame(data_train_scaled))\n",
    "ax.set_xticklabels(\n",
    "    list(df_train_features),\n",
    "    rotation=90,\n",
    "    horizontalalignment='right'\n",
    ");"
   ]
  },
  {
   "cell_type": "code",
   "execution_count": null,
   "metadata": {},
   "outputs": [],
   "source": [
    "# What is the correlation between the \n",
    "pd.DataFrame(data_train_scaled).corrwith(other = pd.DataFrame(df_train_agg_imputed_features), method = \"spearman\").transpose()"
   ]
  },
  {
   "cell_type": "markdown",
   "metadata": {},
   "source": [
    "### PCA plot "
   ]
  },
  {
   "cell_type": "code",
   "execution_count": null,
   "metadata": {
    "jupyter": {
     "source_hidden": true
    }
   },
   "outputs": [],
   "source": [
    "pca = PCA(n_components=2)\n",
    "\n",
    "principalComponents = pca.fit_transform(data_train_scaled)\n",
    "principalDf = pd.DataFrame(data = principalComponents\n",
    "             , columns = ['principal component 1', 'principal component 2'])\n",
    "\n",
    "finalDf = pd.concat([principalDf, df_train_labels[[df_train_labels.columns[1]]]], axis = 1)\n",
    "\n",
    "fig = plt.figure(figsize = (8,8))\n",
    "ax = fig.add_subplot(1,1,1) \n",
    "ax.set_xlabel('Principal Component 1', fontsize = 15)\n",
    "ax.set_ylabel('Principal Component 2', fontsize = 15)\n",
    "ax.set_title('2 component PCA for label i', fontsize = 20)\n",
    "targets = [0, 1]\n",
    "colors = ['r', 'g', 'b']\n",
    "for target, color in zip(targets,colors):\n",
    "    indicesToKeep = finalDf[df_train_labels.columns[1]] == target\n",
    "    ax.scatter(finalDf.loc[indicesToKeep, 'principal component 1']\n",
    "               , finalDf.loc[indicesToKeep, 'principal component 2']\n",
    "               , c = color\n",
    "               , s = 50)\n",
    "ax.legend(targets)\n",
    "ax.grid()"
   ]
  },
  {
   "cell_type": "markdown",
   "metadata": {},
   "source": [
    "### Test Data pre-processing"
   ]
  },
  {
   "cell_type": "code",
   "execution_count": null,
   "metadata": {},
   "outputs": [],
   "source": [
    "test_pids = df_test_features['pid'].unique()\n",
    "df_test_agg_features = aggregation_technique(df_test_features, df_test_features.columns.drop(\"pid\"),\n",
    "                                             test_pids, vars_classes)"
   ]
  },
  {
   "cell_type": "code",
   "execution_count": null,
   "metadata": {},
   "outputs": [],
   "source": [
    "print(df_test_agg_features.isna().sum(axis = 0).tolist()[0:100])\n",
    "print(df_train_agg_features.isna().sum(axis = 0).tolist()[0:100])"
   ]
  },
  {
   "cell_type": "code",
   "execution_count": null,
   "metadata": {},
   "outputs": [],
   "source": [
    "# impute missing data points\n",
    "# should we impute it with the same imputer that we've used for train?\n",
    "\n",
    "imputer = KNNImputer(n_neighbors= 10)\n",
    "df_test_agg_imputed_features = imputer.fit_transform(df_test_agg_features)"
   ]
  },
  {
   "cell_type": "code",
   "execution_count": null,
   "metadata": {},
   "outputs": [],
   "source": [
    "# scale test data\n",
    "min_max_scaler = preprocessing.StandardScaler()\n",
    "data_test_scaled = min_max_scaler.fit_transform(df_test_agg_imputed_features)"
   ]
  },
  {
   "cell_type": "code",
   "execution_count": null,
   "metadata": {},
   "outputs": [],
   "source": [
    "pd.DataFrame(data_train_scaled).to_csv(\"./Results/dat_train_robust_scaled.csv\", index = False)\n",
    "pd.DataFrame(data_test_scaled).to_csv(\"./Results/dat_test_robust_scaled.csv\", index = False)"
   ]
  },
  {
   "cell_type": "code",
   "execution_count": null,
   "metadata": {},
   "outputs": [],
   "source": [
    "# If want to run from here:\n",
    "# data_train_scaled = pd.read_csv(\"./Results/dat_train_scaled.csv\")\n",
    "# data_test_scaled = pd.read_csv(\"./Results/dat_test_scaled.csv\")"
   ]
  },
  {
   "cell_type": "markdown",
   "metadata": {},
   "source": [
    "## Fit a model & Predict"
   ]
  },
  {
   "cell_type": "markdown",
   "metadata": {},
   "source": [
    "### predict with support vector machine classification and use probabilities"
   ]
  },
  {
   "cell_type": "code",
   "execution_count": null,
   "metadata": {},
   "outputs": [],
   "source": [
    "print(list(set(df_test_features.pid))[1:30])\n",
    "test_pids = df_test_features['pid'].unique()\n",
    "print(test_pids[1:30])"
   ]
  },
  {
   "cell_type": "code",
   "execution_count": 27,
   "metadata": {},
   "outputs": [
    {
     "name": "stdout",
     "output_type": "stream",
     "text": [
      "For feature  LABEL_BaseExcess\n",
      "Fitting 5 folds for each of 4 candidates, totalling 20 fits\n"
     ]
    },
    {
     "name": "stderr",
     "output_type": "stream",
     "text": [
      "[Parallel(n_jobs=6)]: Using backend LokyBackend with 6 concurrent workers.\n",
      "[Parallel(n_jobs=6)]: Done  20 out of  20 | elapsed:  3.4min remaining:    0.0s\n",
      "[Parallel(n_jobs=6)]: Done  20 out of  20 | elapsed:  3.4min finished\n"
     ]
    },
    {
     "name": "stdout",
     "output_type": "stream",
     "text": [
      "[LibSVM]{'C': 0.1}\n",
      "0.751694015564537\n",
      "ROC AUC for feature LABEL_BaseExcess  :  0.8387606350049691\n"
     ]
    },
    {
     "data": {
      "image/png": "[encoded data removed]",
      "text/plain": [
       "<Figure size 432x288 with 1 Axes>"
      ]
     },
     "metadata": {
      "needs_background": "light"
     },
     "output_type": "display_data"
    }
   ],
   "source": [
    "# first for the labels that have an output [0,1]\n",
    "columns_1 = [test_pids]\n",
    "\n",
    "from sklearn.utils import resample\n",
    "\n",
    "for i in range(1, 12):\n",
    "    \n",
    "    # feature selection\n",
    "    transformer =  GenericUnivariateSelect(score_func= mutual_info_classif, mode ='k_best', param=45)\n",
    "    train_features = pd.DataFrame(transformer.fit_transform(data_train_scaled, df_train_labels.iloc[:,i]))\n",
    "    print(\"For feature \", df_train_labels.columns[i])\n",
    "#     print(df_train_agg_features.columns[transformer.get_support(indices = True)])\n",
    "    test_features = pd.DataFrame(transformer.transform(data_test_scaled))\n",
    "\n",
    "    \n",
    "    #clf = BaggingClassifier(SVC(kernel = 'poly', degree = 5, class_weight = 'balanced', verbose = True, C = 10))\n",
    "    clf_w = SVC(kernel = 'rbf', class_weight = {0:1,1:50}, verbose = 2)\n",
    "    \n",
    "    parameters = {'C':(0.1, 1, 10, 20)}\n",
    "    clf = model_selection.GridSearchCV(estimator= clf_w, param_grid = parameters, cv = 5,\n",
    "                                        refit = True, scoring = 'roc_auc', verbose = 2,\n",
    "                                       n_jobs=6, return_train_score = True)\n",
    "    \n",
    "#     weight_multiplier = 2\n",
    "#     class_1 = df_train_labels.iloc[:,i] == 1\n",
    "#     class_0 = df_train_labels.iloc[:,i] == 0\n",
    "\n",
    "#     samples_count = int(np.sum(class_1)) * weight_multiplier\n",
    "#     X = resample(train_features.loc[class_0,:],\n",
    "#                     n_samples = samples_count, replace = False, random_state=0)\n",
    "#     data_train = pd.concat([pd.DataFrame(X), pd.DataFrame(train_features.loc[class_1,:])], axis = 0)\n",
    "#     data_label = ([0] * samples_count) + ([1] * int(samples_count / weight_multiplier))\n",
    "#     print(data_train.shape)\n",
    "#     print(len(data_label))\n",
    "\n",
    "    clf.fit(train_features, df_train_labels.iloc[:,i])\n",
    "#     clf.fit(train_features, labels)\n",
    "    \n",
    "#     print(clf.cv_results_)\n",
    "    print(clf.best_params_)\n",
    "    print(clf.best_score_)\n",
    "    # compute probabilites as opposed to predictions\n",
    "    #dual_coefficients = clf.dual_coef_    # do we have to normalize with norm of this vector ?\n",
    "    \n",
    "    distance_hyperplane = clf.decision_function(test_features)\n",
    "    probability = np.empty(len(distance_hyperplane))\n",
    "    for j in range(0, len(probability)):\n",
    "        if distance_hyperplane[j] < 0:\n",
    "            probability[j] = 1 - 1/(1 + math.exp(distance_hyperplane[j]))\n",
    "        else:\n",
    "            probability[j] = 1/(1 + math.exp(-distance_hyperplane[j]))\n",
    "    columns_1.append(probability)\n",
    "\n",
    "    \n",
    "    distance_hyperplace_train = clf.decision_function(train_features)\n",
    "    probability_train = np.empty(len(distance_hyperplace_train))\n",
    "    for j in range(0, len(probability_train)):\n",
    "        if distance_hyperplace_train[j] < 0:\n",
    "            probability_train[j] = 1 - 1/(1 + math.exp(distance_hyperplace_train[j]))\n",
    "        else:\n",
    "            probability_train[j] = 1/(1 + math.exp(-distance_hyperplace_train[j]))\n",
    "    \n",
    "    tmp = roc_auc_score(y_score= probability_train, y_true= df_train_labels.iloc[:,i])\n",
    "    print(\"ROC AUC for feature\", list(df_train_labels)[i] , \" : \", tmp)\n",
    "    \n",
    "    svc_disp = plot_roc_curve(clf, train_features, df_train_labels.iloc[:,i])\n",
    "    plt.show()\n",
    "    break"
   ]
  },
  {
   "cell_type": "code",
   "execution_count": null,
   "metadata": {},
   "outputs": [],
   "source": [
    "# labels that have a real value\n",
    "columns_2 = []\n",
    "# from sklearn.kernel_ridge import KernelRidge\n",
    "\n",
    "for i in range(12, 16):\n",
    "    # feature selection\n",
    "    transformer =  GenericUnivariateSelect(score_func= mutual_info_regression, mode ='k_best', param =80)\n",
    "    train_features = transformer.fit_transform(data_train_scaled, df_train_labels.iloc[:,i])\n",
    "#     print(df_train_agg_features.columns[transformer.get_support(indices = True)])\n",
    "    test_features = transformer.transform(data_test_scaled)\n",
    "    \n",
    "    clf_w = SVR(kernel = 'rbf', cache_size = 6000)\n",
    "# #     clf_w = NuSVR(nu=0.5, kernel = 'linear')\n",
    "    parameters = {'C':(0.1, 1,10, 20)}\n",
    "    clf = model_selection.GridSearchCV(estimator= clf_w, param_grid = parameters, cv = 10,\n",
    "                                       refit = True, scoring = 'r2', verbose = 2, n_jobs=6)\n",
    "#     clf = KernelRidge(kernel = 'poly', degree = 5)\n",
    "#     parameters = {'alpha':(0.1,1,10,30)}\n",
    "#     clf = model_selection.GridSearchCV(estimator= clf, param_grid = parameters, cv = 3,\n",
    "#                                       refit = True, scoring = 'r2', verbose = 2, n_jobs=6)\n",
    "    clf.fit(train_features, df_train_labels.iloc[:,i])\n",
    "    \n",
    "#     print(clf.cv_results_)\n",
    "    print(clf.best_params_)\n",
    "    print(clf.best_score_)\n",
    "\n",
    "    pred_train = clf.predict(train_features)\n",
    "    tmp = r2_score(y_pred= pred_train, y_true=df_train_labels.iloc[:,i])\n",
    "    print(\"R2 for feature\", list(df_train_labels)[i] , \" : \", tmp)\n",
    "    \n",
    "    pred = clf.predict(test_features)\n",
    "    columns_2.append(pred)\n",
    "    "
   ]
  },
  {
   "cell_type": "code",
   "execution_count": null,
   "metadata": {},
   "outputs": [],
   "source": [
    "columns_final = columns_1 + columns_2"
   ]
  },
  {
   "cell_type": "markdown",
   "metadata": {},
   "source": [
    "### predict with Support vector regression and then compute sigmoid function"
   ]
  },
  {
   "cell_type": "code",
   "execution_count": null,
   "metadata": {
    "jupyter": {
     "source_hidden": true
    }
   },
   "outputs": [],
   "source": [
    "# first for the labels that have an output [0,1]\n",
    "\n",
    "# columns_1 = [test_pids]\n",
    "\n",
    "# for i in range(1,12):\n",
    "    \n",
    "#     clf = SVR(kernel = 'poly', degree = 3, max_iter = 10000)\n",
    "#     clf.fit(data_train_scaled, df_train_labels.iloc[:,i])\n",
    "#     pred = clf.predict(data_test_scaled)\n",
    "#     prob = np.empty(len(pred))\n",
    "#     for j in range(0, len(pred)):\n",
    "#         prob[j] = 1 / (1 + math.exp(-pred[j]))\n",
    "#     columns_1.append(prob)\n",
    "    \n",
    "#     pred_train = clf.predict(data_train_scaled)\n",
    "#     prob_train = np.empty(len(pred_train))\n",
    "#     for j in range(0, len(pred_train)):\n",
    "#         prob_train[j] = 1 / (1 + math.exp(-pred_train[j]))    \n",
    "#     tmp = roc_auc_score(y_score= prob_train, y_true= df_train_labels.iloc[:,i])\n",
    "#     print(\"ROC AUC for feature\", list(df_train_labels)[i] , \" : \", tmp)\n"
   ]
  },
  {
   "cell_type": "code",
   "execution_count": 32,
   "metadata": {
    "jupyter": {
     "source_hidden": true
    },
    "scrolled": true
   },
   "outputs": [
    {
     "name": "stdout",
     "output_type": "stream",
     "text": [
      "Index(['Age', 'Temp:0', 'Temp:1', 'Temp:2', 'Temp:3', 'Temp:4', 'Temp:5',\n",
      "       'Temp:6', 'Temp:7', 'RRate:0', 'RRate:1', 'RRate:2', 'RRate:3',\n",
      "       'RRate:4', 'RRate:5', 'RRate:6', 'RRate:7', 'RRate:8', 'RRate:9',\n",
      "       'RRate:10', 'RRate:11', 'SpO2:0', 'SpO2:1', 'SpO2:2', 'SpO2:3',\n",
      "       'SpO2:4', 'SpO2:5', 'SpO2:6', 'SpO2:7', 'SpO2:8', 'SpO2:9', 'SpO2:10',\n",
      "       'SpO2:11', 'Heartrate:0', 'Heartrate:1', 'Heartrate:2', 'Heartrate:3',\n",
      "       'Heartrate:4', 'Heartrate:5', 'Heartrate:6', 'Heartrate:7',\n",
      "       'Heartrate:8', 'Heartrate:9', 'Heartrate:10', 'Heartrate:11'],\n",
      "      dtype='object')\n",
      "Fitting 5 folds for each of 6 candidates, totalling 30 fits\n"
     ]
    },
    {
     "name": "stderr",
     "output_type": "stream",
     "text": [
      "[Parallel(n_jobs=6)]: Using backend LokyBackend with 6 concurrent workers.\n",
      "[Parallel(n_jobs=6)]: Done  30 out of  30 | elapsed:    9.0s finished\n",
      "/usr/local/lib/python3.7/site-packages/sklearn/svm/_base.py:947: ConvergenceWarning: Liblinear failed to converge, increase the number of iterations.\n",
      "  \"the number of iterations.\", ConvergenceWarning)\n",
      "[Parallel(n_jobs=6)]: Using backend LokyBackend with 6 concurrent workers.\n"
     ]
    },
    {
     "name": "stdout",
     "output_type": "stream",
     "text": [
      "[-1.31623881 -1.31674063  0.36478978  0.38453877  0.38545859  0.37975916]\n",
      "[-1.33703963 -1.33759276  0.36069912  0.38007297  0.38095871  0.37540409]\n",
      "{'C': 1}\n",
      "0.3809587086350403\n",
      "R2 for feature LABEL_RRate  :  0.3853603779177224\n",
      "Index(['Age', 'Hgb:min', 'BaseExcess:std', 'PaCO2:std', 'SaO2:std', 'ABPm:0',\n",
      "       'ABPm:1', 'ABPm:2', 'ABPm:3', 'ABPm:4', 'ABPm:5', 'ABPm:6', 'ABPm:7',\n",
      "       'ABPm:8', 'ABPm:9', 'ABPm:10', 'ABPm:11', 'ABPd:0', 'ABPd:1', 'ABPd:2',\n",
      "       'ABPd:3', 'ABPd:4', 'ABPd:5', 'ABPd:6', 'ABPd:7', 'ABPd:8', 'ABPd:9',\n",
      "       'ABPd:10', 'ABPd:11', 'Hct:mean', 'Hct:std', 'Hct:min', 'ABPs:0',\n",
      "       'ABPs:1', 'ABPs:2', 'ABPs:3', 'ABPs:4', 'ABPs:5', 'ABPs:6', 'ABPs:7',\n",
      "       'ABPs:8', 'ABPs:9', 'ABPs:10', 'ABPs:11', 'pH:std'],\n",
      "      dtype='object')\n",
      "Fitting 5 folds for each of 6 candidates, totalling 30 fits\n"
     ]
    },
    {
     "name": "stderr",
     "output_type": "stream",
     "text": [
      "[Parallel(n_jobs=6)]: Done  30 out of  30 | elapsed:    4.8s finished\n"
     ]
    },
    {
     "name": "stdout",
     "output_type": "stream",
     "text": [
      "[-27.90313324 -27.90313324   0.42790005   0.59871711   0.60170856\n",
      "   0.60111092]\n",
      "[-27.97829721 -27.97829721   0.42488369   0.59597282   0.59901738\n",
      "   0.5981781 ]\n",
      "{'C': 1}\n",
      "0.5990173760166995\n",
      "R2 for feature LABEL_ABPm  :  0.6014031152566025\n",
      "Index(['Age', 'Lactate:mean', 'Hgb:mean', 'Hgb:min', 'Hgb:max', 'HCO3:mean',\n",
      "       'RRate:0', 'RRate:1', 'RRate:2', 'RRate:3', 'RRate:4', 'RRate:5',\n",
      "       'RRate:6', 'RRate:7', 'RRate:8', 'RRate:9', 'RRate:10', 'RRate:11',\n",
      "       'PaCO2:mean', 'PaCO2:min', 'PaCO2:max', 'FiO2:min', 'SaO2:mean',\n",
      "       'Glucose:std', 'SpO2:0', 'SpO2:1', 'SpO2:2', 'SpO2:3', 'SpO2:4',\n",
      "       'SpO2:5', 'SpO2:6', 'SpO2:7', 'SpO2:8', 'SpO2:9', 'SpO2:10', 'SpO2:11',\n",
      "       'Chloride:mean', 'Hct:mean', 'Hct:min', 'Hct:max', 'Heartrate:1',\n",
      "       'Heartrate:3', 'pH:mean', 'pH:min', 'pH:max'],\n",
      "      dtype='object')\n",
      "Fitting 5 folds for each of 6 candidates, totalling 30 fits\n"
     ]
    },
    {
     "name": "stderr",
     "output_type": "stream",
     "text": [
      "[Parallel(n_jobs=6)]: Using backend LokyBackend with 6 concurrent workers.\n",
      "[Parallel(n_jobs=6)]: Done  30 out of  30 | elapsed:  4.1min finished\n"
     ]
    },
    {
     "name": "stdout",
     "output_type": "stream",
     "text": [
      "[0.10062016 0.2289486  0.28444978 0.3452131  0.38893905 0.65554828]\n",
      "[0.10150319 0.22827748 0.26720478 0.28120005 0.28213263 0.26663333]\n",
      "{'C': 1}\n",
      "0.28213262796921884\n",
      "R2 for feature LABEL_SpO2  :  0.38675065702150524\n",
      "Index(['Age', 'Temp:0', 'Temp:1', 'Temp:2', 'Temp:3', 'Temp:4', 'Temp:5',\n",
      "       'Temp:6', 'Temp:7', 'Temp:8', 'Temp:9', 'Temp:10', 'Temp:11', 'RRate:0',\n",
      "       'RRate:1', 'RRate:2', 'RRate:3', 'RRate:4', 'RRate:5', 'RRate:6',\n",
      "       'RRate:7', 'RRate:8', 'RRate:9', 'RRate:10', 'RRate:11', 'FiO2:min',\n",
      "       'Calcium:mean', 'Heartrate:0', 'Heartrate:1', 'Heartrate:2',\n",
      "       'Heartrate:3', 'Heartrate:4', 'Heartrate:5', 'Heartrate:6',\n",
      "       'Heartrate:7', 'Heartrate:8', 'Heartrate:9', 'Heartrate:10',\n",
      "       'Heartrate:11', 'ABPs:0', 'ABPs:6', 'ABPs:7', 'ABPs:8', 'ABPs:9',\n",
      "       'pH:std'],\n",
      "      dtype='object')\n",
      "Fitting 5 folds for each of 6 candidates, totalling 30 fits\n"
     ]
    },
    {
     "name": "stderr",
     "output_type": "stream",
     "text": [
      "[Parallel(n_jobs=6)]: Using backend LokyBackend with 6 concurrent workers.\n",
      "[Parallel(n_jobs=6)]: Done  30 out of  30 | elapsed:    4.3s finished\n"
     ]
    },
    {
     "name": "stdout",
     "output_type": "stream",
     "text": [
      "[-21.92472633 -21.92472633   0.48158856   0.63026369   0.63285305\n",
      "   0.63281346]\n",
      "[-21.98628673 -21.98628673   0.47715383   0.62744418   0.62975773\n",
      "   0.62991163]\n",
      "{'C': 10}\n",
      "0.6299116328948454\n",
      "R2 for feature LABEL_Heartrate  :  0.6323524114171495\n"
     ]
    },
    {
     "name": "stderr",
     "output_type": "stream",
     "text": [
      "/usr/local/lib/python3.7/site-packages/sklearn/svm/_base.py:947: ConvergenceWarning: Liblinear failed to converge, increase the number of iterations.\n",
      "  \"the number of iterations.\", ConvergenceWarning)\n"
     ]
    }
   ],
   "source": [
    "#labels that have a real value\n",
    "from sklearn.metrics import make_scorer\n",
    "columns_2 = []\n",
    "\n",
    "\n",
    "for i in range(12, 16):\n",
    "    # feature selection\n",
    "    transformer =  GenericUnivariateSelect(score_func= f_regression, mode ='k_best', param=45)\n",
    "    train_features = transformer.fit_transform(data_train_scaled, df_train_labels.iloc[:,i])\n",
    "    print(data_train_scaled.columns[transformer.get_support(indices = True)])\n",
    "    test_features = transformer.transform(data_test_scaled)\n",
    "    \n",
    "    if(i == 14):\n",
    "        # Bagging the regressor have been tried, does not help\n",
    "        clf_w = SVR(kernel = 'rbf', tol = 1e-4, cache_size= 7000)\n",
    "        \n",
    "        # This parameter vector have been tried, 1 is the best\n",
    "        #parameters = {'base_estimator__C':(0.001, 0.01, 0.1, 1,10, 20)}\n",
    "        #parameters = {'C':np.linspace(0.1,1,10)}\n",
    "        parameters = {'C':(0.001, 0.01, 0.1, 0.5, 1,10)}\n",
    "    else:\n",
    "        clf_w = LinearSVR()\n",
    "        parameters = {'C':(0.001, 0.001, 0.01, 0.1,1,10)}\n",
    "        \n",
    "    clf = model_selection.GridSearchCV(estimator= clf_w, param_grid = parameters, cv = 5,\n",
    "                                       refit = True, scoring = make_scorer(r2_score), verbose = 2,\n",
    "                                       n_jobs=6, return_train_score = True)\n",
    "    clf.fit(train_features, df_train_labels.iloc[:,i])\n",
    "        \n",
    "    print(clf.cv_results_['mean_train_score'])\n",
    "    print(clf.cv_results_['mean_test_score'])\n",
    "    print(clf.best_params_)\n",
    "    print(clf.best_score_)\n",
    "    \n",
    "    pred = clf.predict(test_features)\n",
    "    columns_2.append(pred)\n",
    "    \n",
    "    pred_train = clf.predict(train_features)\n",
    "    tmp = r2_score(y_pred= pred_train, y_true=df_train_labels.iloc[:,i])\n",
    "    print(\"R2 for feature\", list(df_train_labels)[i] , \" : \", tmp)\n",
    "    "
   ]
  },
  {
   "cell_type": "code",
   "execution_count": null,
   "metadata": {},
   "outputs": [],
   "source": [
    "transformer =  GenericUnivariateSelect(score_func= mutual_info_regression, mode ='k_best', param=40)\n",
    "train_features = transformer.fit_transform(data_train_scaled, df_train_labels.iloc[:,14])\n",
    "test_features = transformer.transform(data_test_scaled)"
   ]
  },
  {
   "cell_type": "code",
   "execution_count": 31,
   "metadata": {},
   "outputs": [
    {
     "name": "stdout",
     "output_type": "stream",
     "text": [
      "Index(['Age', 'Temp:0', 'Temp:1', 'Temp:2', 'Temp:3', 'Temp:4', 'Temp:5',\n",
      "       'Temp:6', 'Temp:7', 'RRate:0', 'RRate:1', 'RRate:2', 'RRate:3',\n",
      "       'RRate:4', 'RRate:5', 'RRate:6', 'RRate:7', 'RRate:8', 'RRate:9',\n",
      "       'RRate:10', 'RRate:11', 'SpO2:0', 'SpO2:1', 'SpO2:2', 'SpO2:3',\n",
      "       'SpO2:4', 'SpO2:5', 'SpO2:6', 'SpO2:7', 'SpO2:8', 'SpO2:9', 'SpO2:10',\n",
      "       'SpO2:11', 'Heartrate:0', 'Heartrate:1', 'Heartrate:2', 'Heartrate:3',\n",
      "       'Heartrate:4', 'Heartrate:5', 'Heartrate:6', 'Heartrate:7',\n",
      "       'Heartrate:8', 'Heartrate:9', 'Heartrate:10', 'Heartrate:11'],\n",
      "      dtype='object')\n"
     ]
    }
   ],
   "source": [
    "# df_train_agg_features.columns[transformer.get_support(indices = True)]\n",
    "print(df_train_agg_features.columns[transformer.get_support(indices = True)])\n",
    "# transformer.get_support(indices = True)\n",
    "# print(list(df_train_agg_features))"
   ]
  },
  {
   "cell_type": "code",
   "execution_count": null,
   "metadata": {},
   "outputs": [],
   "source": [
    "columns_final = columns_1 + columns_2"
   ]
  },
  {
   "cell_type": "markdown",
   "metadata": {},
   "source": [
    "### Random forest"
   ]
  },
  {
   "cell_type": "code",
   "execution_count": null,
   "metadata": {},
   "outputs": [],
   "source": [
    "# Random forest Classifier\n",
    "columns_1 = [test_pids]\n",
    "for i in range(1, 12):\n",
    "    clf = RandomForestClassifier(min_samples_leaf=2, class_weight='balanced', oob_score=False, bootstrap=False)\n",
    "    clf.fit(data_train_scaled, df_train_labels.iloc[:,i])\n",
    "    print(clf.oob_score)\n",
    "    # compute probabilites as opposed to predictions\n",
    "    probability = clf.apply(data_test_scaled)\n",
    "    probs = [i[1] for i in probability] \n",
    "    columns_1.append(probs)\n",
    "    \n",
    "    \n",
    "    probability = clf.predict_proba(data_train_scaled)\n",
    "\n",
    "    probs = [i[1] for i in probability]            \n",
    "    tmp = roc_auc_score(y_score= probs, y_true= df_train_labels.iloc[:,i])\n",
    "    print(\"ROC AUC for feature\", list(df_train_labels)[i] , \" : \", tmp)"
   ]
  },
  {
   "cell_type": "markdown",
   "metadata": {},
   "source": [
    "# Kernelized Logistic Regression"
   ]
  },
  {
   "cell_type": "code",
   "execution_count": null,
   "metadata": {},
   "outputs": [],
   "source": [
    "from sklearn.utils import resample\n",
    "i = 1\n",
    "\n",
    "# transformer =  GenericUnivariateSelect(score_func= mutual_info_classif, mode ='k_best', param = 40)\n",
    "# train_features = transformer.fit_transform(data_train_scaled, df_train_labels.iloc[:,i])\n",
    "# #     print(df_train_agg_features.columns[transformer.get_support(indices = True)])\n",
    "# test_features = transformer.transform(data_test_scaled)\n",
    "\n",
    "\n",
    "class_1 = df_train_labels.iloc[:,i] == 1\n",
    "class_0 = df_train_labels.iloc[:,i] == 0\n",
    "print(np.where(class_0)[0])\n",
    "\n",
    "weight_multiplier = 2\n",
    "samples_count = int(np.sum(df_train_labels.iloc[:,i])) * weight_multiplier\n",
    "X = resample(train_features[np.where(class_0)[0]],\n",
    "                n_samples = samples_count, replace = False, random_state=0)\n",
    "data_train = pd.concat([pd.DataFrame(X), pd.DataFrame(train_features[np.where(class_1)[0]])], axis = 0)\n",
    "data_label = ([0] * samples_count) + ([1] * int(samples_count / weight_multiplier))\n",
    "\n",
    "print(data_train.shape)\n",
    "print(len(data_label))\n",
    "\n",
    "weights = data_train.shape[0] / (2 * np.bincount(df_train_labels.iloc[:,i]))\n",
    "print(weights[0])\n",
    "print(np.sum(class_1))\n",
    "print(np.sum(class_0))"
   ]
  },
  {
   "cell_type": "code",
   "execution_count": 21,
   "metadata": {},
   "outputs": [
    {
     "name": "stdout",
     "output_type": "stream",
     "text": [
      "Fitting 5 folds for each of 9 candidates, totalling 45 fits\n"
     ]
    },
    {
     "name": "stderr",
     "output_type": "stream",
     "text": [
      "[Parallel(n_jobs=6)]: Using backend LokyBackend with 6 concurrent workers.\n",
      "[Parallel(n_jobs=6)]: Done  45 out of  45 | elapsed:   28.0s finished\n"
     ]
    },
    {
     "name": "stdout",
     "output_type": "stream",
     "text": [
      "[0.77176141 0.77536576 0.79850541 0.84805005 0.87761751 0.88596557\n",
      " 0.88791125 0.88918791 0.88970394]\n",
      "[0.77100717 0.77458366 0.7974166  0.84545392 0.87157834 0.87650334\n",
      " 0.87702782 0.87710434 0.87702056]\n",
      "{'C': 20}\n",
      "0.8771043405259007\n",
      "ROC AUC for feature LABEL_BaseExcess  :  0.8881811827488802\n"
     ]
    },
    {
     "data": {
      "image/png": "[encoded data removed]",
      "text/plain": [
       "<Figure size 432x288 with 1 Axes>"
      ]
     },
     "metadata": {
      "needs_background": "light"
     },
     "output_type": "display_data"
    },
    {
     "name": "stdout",
     "output_type": "stream",
     "text": [
      "Fitting 5 folds for each of 9 candidates, totalling 45 fits\n"
     ]
    },
    {
     "name": "stderr",
     "output_type": "stream",
     "text": [
      "[Parallel(n_jobs=6)]: Using backend LokyBackend with 6 concurrent workers.\n",
      "[Parallel(n_jobs=6)]: Done  45 out of  45 | elapsed:   24.0s finished\n"
     ]
    },
    {
     "name": "stdout",
     "output_type": "stream",
     "text": [
      "[0.67705003 0.67939165 0.69699778 0.74914768 0.79176162 0.80907244\n",
      " 0.81309913 0.81553477 0.8164225 ]\n",
      "[0.67432256 0.67625452 0.69113192 0.73317694 0.75753369 0.75893446\n",
      " 0.75776306 0.75618327 0.75498955]\n",
      "{'C': 5}\n",
      "0.7589344578411075\n",
      "ROC AUC for feature LABEL_Fibrinogen  :  0.8048151666463688\n"
     ]
    },
    {
     "data": {
      "image/png": "[encoded data removed]",
      "text/plain": [
       "<Figure size 432x288 with 1 Axes>"
      ]
     },
     "metadata": {
      "needs_background": "light"
     },
     "output_type": "display_data"
    },
    {
     "name": "stdout",
     "output_type": "stream",
     "text": [
      "Fitting 5 folds for each of 9 candidates, totalling 45 fits\n"
     ]
    },
    {
     "name": "stderr",
     "output_type": "stream",
     "text": [
      "[Parallel(n_jobs=6)]: Using backend LokyBackend with 6 concurrent workers.\n",
      "[Parallel(n_jobs=6)]: Done  45 out of  45 | elapsed:   27.0s finished\n"
     ]
    },
    {
     "name": "stdout",
     "output_type": "stream",
     "text": [
      "[0.64515794 0.64772244 0.66255468 0.6879353  0.70874872 0.71914839\n",
      " 0.72167313 0.72327966 0.72390018]\n",
      "[0.64390828 0.64637974 0.66033845 0.68091889 0.68881512 0.68882065\n",
      " 0.6878859  0.68706181 0.68670318]\n",
      "{'C': 5}\n",
      "0.6888206499432934\n",
      "ROC AUC for feature LABEL_AST  :  0.7165587631614312\n"
     ]
    },
    {
     "data": {
      "image/png": "[encoded data removed]",
      "text/plain": [
       "<Figure size 432x288 with 1 Axes>"
      ]
     },
     "metadata": {
      "needs_background": "light"
     },
     "output_type": "display_data"
    },
    {
     "name": "stdout",
     "output_type": "stream",
     "text": [
      "Fitting 5 folds for each of 9 candidates, totalling 45 fits\n"
     ]
    },
    {
     "name": "stderr",
     "output_type": "stream",
     "text": [
      "[Parallel(n_jobs=6)]: Using backend LokyBackend with 6 concurrent workers.\n",
      "[Parallel(n_jobs=6)]: Done  45 out of  45 | elapsed:   26.8s finished\n"
     ]
    },
    {
     "name": "stdout",
     "output_type": "stream",
     "text": [
      "[0.64773631 0.65031926 0.66525119 0.69066241 0.71117139 0.72146604\n",
      " 0.72403337 0.7256346  0.72626204]\n",
      "[0.6461632  0.64859485 0.66228855 0.6829437  0.69120195 0.6918028\n",
      " 0.69101678 0.69024508 0.68990926]\n",
      "{'C': 5}\n",
      "0.6918028017939903\n",
      "ROC AUC for feature LABEL_Alkalinephos  :  0.7189165754034155\n"
     ]
    },
    {
     "data": {
      "image/png": "[encoded data removed]",
      "text/plain": [
       "<Figure size 432x288 with 1 Axes>"
      ]
     },
     "metadata": {
      "needs_background": "light"
     },
     "output_type": "display_data"
    },
    {
     "name": "stdout",
     "output_type": "stream",
     "text": [
      "Fitting 5 folds for each of 9 candidates, totalling 45 fits\n"
     ]
    },
    {
     "name": "stderr",
     "output_type": "stream",
     "text": [
      "[Parallel(n_jobs=6)]: Using backend LokyBackend with 6 concurrent workers.\n",
      "[Parallel(n_jobs=6)]: Done  45 out of  45 | elapsed:   23.1s finished\n"
     ]
    },
    {
     "name": "stdout",
     "output_type": "stream",
     "text": [
      "[0.64719054 0.64984019 0.66507764 0.69048125 0.71079652 0.72093676\n",
      " 0.72343982 0.72499123 0.72558281]\n",
      "[0.64587082 0.64837521 0.66248327 0.68274137 0.69115689 0.69233404\n",
      " 0.69193956 0.69133449 0.69099925]\n",
      "{'C': 5}\n",
      "0.6923340374456272\n",
      "ROC AUC for feature LABEL_Bilirubin_total  :  0.71862862690518\n"
     ]
    },
    {
     "data": {
      "image/png": "[encoded data removed]",
      "text/plain": [
       "<Figure size 432x288 with 1 Axes>"
      ]
     },
     "metadata": {
      "needs_background": "light"
     },
     "output_type": "display_data"
    },
    {
     "name": "stdout",
     "output_type": "stream",
     "text": [
      "Fitting 5 folds for each of 9 candidates, totalling 45 fits\n"
     ]
    },
    {
     "name": "stderr",
     "output_type": "stream",
     "text": [
      "[Parallel(n_jobs=6)]: Using backend LokyBackend with 6 concurrent workers.\n",
      "[Parallel(n_jobs=6)]: Done  45 out of  45 | elapsed:   24.2s finished\n"
     ]
    },
    {
     "name": "stdout",
     "output_type": "stream",
     "text": [
      "[0.71485822 0.71647545 0.72657231 0.74986548 0.77122755 0.78036445\n",
      " 0.78226859 0.78331162 0.78368397]\n",
      "[0.71363772 0.71517269 0.72456484 0.74405033 0.75529963 0.75552006\n",
      " 0.75424674 0.75300965 0.75235481]\n",
      "{'C': 5}\n",
      "0.7555200557355178\n",
      "ROC AUC for feature LABEL_Lactate  :  0.778061022263264\n"
     ]
    },
    {
     "data": {
      "image/png": "[encoded data removed]",
      "text/plain": [
       "<Figure size 432x288 with 1 Axes>"
      ]
     },
     "metadata": {
      "needs_background": "light"
     },
     "output_type": "display_data"
    },
    {
     "name": "stdout",
     "output_type": "stream",
     "text": [
      "Fitting 5 folds for each of 9 candidates, totalling 45 fits\n"
     ]
    },
    {
     "name": "stderr",
     "output_type": "stream",
     "text": [
      "[Parallel(n_jobs=6)]: Using backend LokyBackend with 6 concurrent workers.\n",
      "[Parallel(n_jobs=6)]: Done  45 out of  45 | elapsed:   28.9s finished\n"
     ]
    },
    {
     "name": "stdout",
     "output_type": "stream",
     "text": [
      "[0.65237918 0.6571027  0.68476955 0.74890002 0.79020507 0.80474387\n",
      " 0.80835922 0.81064734 0.81150485]\n",
      "[0.64891481 0.65333873 0.67882393 0.7364383  0.76658257 0.77142233\n",
      " 0.77141014 0.7708164  0.77037958]\n",
      "{'C': 5}\n",
      "0.7714223333179034\n",
      "ROC AUC for feature LABEL_TroponinI  :  0.8022709808822848\n"
     ]
    },
    {
     "data": {
      "image/png": "[encoded data removed]",
      "text/plain": [
       "<Figure size 432x288 with 1 Axes>"
      ]
     },
     "metadata": {
      "needs_background": "light"
     },
     "output_type": "display_data"
    },
    {
     "name": "stdout",
     "output_type": "stream",
     "text": [
      "Fitting 5 folds for each of 9 candidates, totalling 45 fits\n"
     ]
    },
    {
     "name": "stderr",
     "output_type": "stream",
     "text": [
      "[Parallel(n_jobs=6)]: Using backend LokyBackend with 6 concurrent workers.\n",
      "[Parallel(n_jobs=6)]: Done  45 out of  45 | elapsed:   26.1s finished\n"
     ]
    },
    {
     "name": "stdout",
     "output_type": "stream",
     "text": [
      "[0.74887609 0.75095745 0.76326858 0.78572494 0.80310825 0.81116852\n",
      " 0.81314636 0.81428146 0.8146745 ]\n",
      "[0.74791661 0.74990451 0.76150849 0.78088073 0.78997557 0.79125301\n",
      " 0.79089625 0.79017724 0.7897446 ]\n",
      "{'C': 5}\n",
      "0.7912530091590988\n",
      "ROC AUC for feature LABEL_SaO2  :  0.8095493004280615\n"
     ]
    },
    {
     "data": {
      "image/png": "[encoded data removed]",
      "text/plain": [
       "<Figure size 432x288 with 1 Axes>"
      ]
     },
     "metadata": {
      "needs_background": "light"
     },
     "output_type": "display_data"
    },
    {
     "name": "stdout",
     "output_type": "stream",
     "text": [
      "Fitting 5 folds for each of 9 candidates, totalling 45 fits\n"
     ]
    },
    {
     "name": "stderr",
     "output_type": "stream",
     "text": [
      "[Parallel(n_jobs=6)]: Using backend LokyBackend with 6 concurrent workers.\n",
      "[Parallel(n_jobs=6)]: Done  45 out of  45 | elapsed:   25.0s finished\n"
     ]
    },
    {
     "name": "stdout",
     "output_type": "stream",
     "text": [
      "[0.67959434 0.68243969 0.70192121 0.74946084 0.7955042  0.81851865\n",
      " 0.82434811 0.8279524  0.82928147]\n",
      "[0.67396131 0.67599379 0.689969   0.71485716 0.71572814 0.70744074\n",
      " 0.70306418 0.69951095 0.69768447]\n",
      "{'C': 1}\n",
      "0.7157281423668078\n",
      "ROC AUC for feature LABEL_Bilirubin_direct  :  0.7892769311063659\n"
     ]
    },
    {
     "data": {
      "image/png": "[encoded data removed]",
      "text/plain": [
       "<Figure size 432x288 with 1 Axes>"
      ]
     },
     "metadata": {
      "needs_background": "light"
     },
     "output_type": "display_data"
    },
    {
     "name": "stdout",
     "output_type": "stream",
     "text": [
      "Fitting 5 folds for each of 9 candidates, totalling 45 fits\n"
     ]
    },
    {
     "name": "stderr",
     "output_type": "stream",
     "text": [
      "[Parallel(n_jobs=6)]: Using backend LokyBackend with 6 concurrent workers.\n",
      "[Parallel(n_jobs=6)]: Done  45 out of  45 | elapsed:   27.0s finished\n"
     ]
    },
    {
     "name": "stdout",
     "output_type": "stream",
     "text": [
      "[0.76361761 0.7698955  0.80663448 0.87105247 0.91141114 0.92474281\n",
      " 0.92793622 0.92993641 0.93067354]\n",
      "[0.7606054  0.76662058 0.80208866 0.86149567 0.89055872 0.89439528\n",
      " 0.89395375 0.89293935 0.89221242]\n",
      "{'C': 5}\n",
      "0.8943952765493723\n",
      "ROC AUC for feature LABEL_EtCO2  :  0.9225116007784167\n"
     ]
    },
    {
     "data": {
      "image/png": "[encoded data removed]",
      "text/plain": [
       "<Figure size 432x288 with 1 Axes>"
      ]
     },
     "metadata": {
      "needs_background": "light"
     },
     "output_type": "display_data"
    },
    {
     "name": "stdout",
     "output_type": "stream",
     "text": [
      "Fitting 5 folds for each of 9 candidates, totalling 45 fits\n"
     ]
    },
    {
     "name": "stderr",
     "output_type": "stream",
     "text": [
      "[Parallel(n_jobs=6)]: Using backend LokyBackend with 6 concurrent workers.\n",
      "[Parallel(n_jobs=6)]: Done  45 out of  45 | elapsed:   24.1s finished\n"
     ]
    },
    {
     "name": "stdout",
     "output_type": "stream",
     "text": [
      "[0.65610095 0.65827046 0.67326344 0.71069995 0.74806126 0.76462259\n",
      " 0.76863614 0.77105779 0.77194168]\n",
      "[0.65218122 0.65389691 0.66548825 0.68822681 0.69577183 0.69098749\n",
      " 0.68765963 0.68446548 0.68288721]\n",
      "{'C': 1}\n",
      "0.6957718288702314\n",
      "ROC AUC for feature LABEL_Sepsis  :  0.744239436434651\n"
     ]
    },
    {
     "data": {
      "image/png": "[encoded data removed]",
      "text/plain": [
       "<Figure size 432x288 with 1 Axes>"
      ]
     },
     "metadata": {
      "needs_background": "light"
     },
     "output_type": "display_data"
    }
   ],
   "source": [
    "# first for the labels that have an output [0,1]\n",
    "columns_1 = [test_pids]\n",
    "\n",
    "from sklearn.linear_model import LogisticRegression\n",
    "from sklearn.kernel_approximation import Nystroem\n",
    "from sklearn.model_selection import StratifiedKFold, KFold\n",
    "from sklearn.metrics import plot_roc_curve\n",
    "\n",
    "for i in range(1, 12):\n",
    "    #     feature selection\n",
    "    transformer =  GenericUnivariateSelect(score_func= mutual_info_classif, mode ='k_best', param = 40)\n",
    "    train_features = transformer.fit_transform(data_train_scaled, df_train_labels.iloc[:,i])\n",
    "#     print(df_train_agg_features.columns[transformer.get_support(indices = True)])\n",
    "    test_features = transformer.transform(data_test_scaled)\n",
    "\n",
    "    feature_map_nystroem = Nystroem(kernel = 'rbf',\n",
    "                                 random_state=1,\n",
    "                                 n_components=300)\n",
    "    \n",
    "    train_transformed = feature_map_nystroem.fit_transform(data_train_scaled)\n",
    "    test_transformed = feature_map_nystroem.transform(data_test_scaled)\n",
    "    \n",
    "#     weights = data_train.shape[0] / (2 * np.bincount(df_train_labels.iloc[:,i]))\n",
    "#     class_1_multiplier = 2\n",
    "#     print(np.sum(class_1))\n",
    "#     print(np.sum(class_0))\n",
    "#     class_weight = {0:weights[0], 1:(class_1_multiplier*weights[1])}\n",
    "    clf_w = LogisticRegression(penalty = 'l2', class_weight = 'balanced',\n",
    "                                                               fit_intercept= True, max_iter=10000)\n",
    "    \n",
    "    # checked before\n",
    "    #parameters = {'alpha':(0.0001, 0.001, 0.01, 0.1, 1, 5, 10, 20, 30)}\n",
    "    parameters = {'C':(0.0001, 0.001, 0.01, 0.1, 1, 5, 10, 20, 30)}\n",
    "    \n",
    "    skf = StratifiedKFold(n_splits=5, shuffle = True, random_state = 1)\n",
    "    \n",
    "    clf = model_selection.GridSearchCV(estimator= clf_w, param_grid = parameters, cv = skf,\n",
    "                                        refit = True, scoring = 'roc_auc', verbose = 1,\n",
    "                                       n_jobs=6, return_train_score = True)\n",
    "    clf.fit(train_transformed, df_train_labels.iloc[:,i])\n",
    "    \n",
    "    print(clf.cv_results_['mean_train_score'])\n",
    "    print(clf.cv_results_['mean_test_score'])\n",
    "    print(clf.best_params_)\n",
    "    print(clf.best_score_)\n",
    "#     print(\"Class weightt is \", clf_w.class_weight_)\n",
    " \n",
    "    probability_tmp = clf.predict_proba(test_transformed)\n",
    "    probability = [item[1] for item in probability_tmp]\n",
    "    columns_1.append(probability)\n",
    "\n",
    "    probability_tmp = clf.predict_proba(train_transformed)\n",
    "    probability_train = [item[1] for item in probability_tmp]\n",
    "    tmp = roc_auc_score(y_score= probability_train, y_true= df_train_labels.iloc[:,i])\n",
    "    print(\"ROC AUC for feature\", list(df_train_labels)[i] , \" : \", tmp)\n",
    "    \n",
    "    svc_disp = plot_roc_curve(clf, train_transformed, df_train_labels.iloc[:,i])\n",
    "    plt.show()"
   ]
  },
  {
   "cell_type": "markdown",
   "metadata": {},
   "source": [
    "# Compute the kernel and use SGD Classifier and Regressor"
   ]
  },
  {
   "cell_type": "code",
   "execution_count": null,
   "metadata": {
    "scrolled": true
   },
   "outputs": [],
   "source": [
    "# first for the labels that have an output [0,1]\n",
    "columns_1 = [test_pids]\n",
    "\n",
    "# from sklearn.kernel_ridge import KernelRidge\n",
    "from sklearn.kernel_approximation import Nystroem\n",
    "from sklearn import linear_model\n",
    "\n",
    "\n",
    "for i in range(1, 12):\n",
    "   \n",
    "    # feature selection\n",
    "    transformer =  GenericUnivariateSelect(score_func= mutual_info_classif, mode ='k_best', param=70)\n",
    "    train_features = transformer.fit_transform(data_train_scaled, df_train_labels.iloc[:,i])\n",
    "    print(\"For feature \", df_train_labels.columns[i])\n",
    "#     print(df_train_agg_features.columns[transformer.get_support(indices = True)])\n",
    "    test_features = transformer.transform(data_test_scaled)\n",
    "\n",
    "    \n",
    "    feature_map_nystroem = Nystroem(kernel = 'rbf',\n",
    "                                 random_state=1,\n",
    "                                 n_components=300)\n",
    "    train_transformed = feature_map_nystroem.fit_transform(train_features)\n",
    "    test_transformed = feature_map_nystroem.transform(test_features)\n",
    "    \n",
    "    clf_w = linear_model.SGDClassifier(max_iter=100000, tol=1e-4, penalty = \"l2\", \n",
    "                                       loss = \"epsilon_insensitive\", class_weight={0:1, 1:500})\n",
    "    # checked before\n",
    "    #parameters = {'alpha':(0.0001, 0.001, 0.01, 0.1, 1, 5, 10, 20, 30)}\n",
    "    parameters = {'alpha':(0.1, 1, 5, 10)}\n",
    "    \n",
    "    clf = model_selection.GridSearchCV(estimator= clf_w, param_grid = parameters, cv = 10,\n",
    "                                        refit = True, scoring = 'roc_auc', verbose = 1,\n",
    "                                       n_jobs=6, return_train_score = True)\n",
    "    clf.fit(train_transformed, df_train_labels.iloc[:,i])\n",
    "    \n",
    "#     print(clf.cv_results_)\n",
    "    print(clf.best_params_)\n",
    "    print(clf.best_score_)\n",
    "    # compute probabilites as opposed to predictions\n",
    "    #dual_coefficients = clf.dual_coef_    # do we have to normalize with norm of this vector ?\n",
    "    \n",
    "    distance_hyperplane = clf.decision_function(test_transformed)\n",
    "    probability = np.empty(len(distance_hyperplane))\n",
    "    for j in range(0, len(probability)):\n",
    "        if distance_hyperplane[j] < 0:\n",
    "            probability[j] = 1 - 1/(1 + math.exp(distance_hyperplane[j]))\n",
    "        else:\n",
    "            probability[j] = 1/(1 + math.exp(-distance_hyperplane[j]))\n",
    "    columns_1.append(probability)\n",
    "\n",
    "    \n",
    "    distance_hyperplace_train = clf.decision_function(train_transformed)\n",
    "    probability = np.empty(len(distance_hyperplace_train))\n",
    "    for j in range(0, len(probability)):\n",
    "        if distance_hyperplace_train[j] < 0:\n",
    "            probability[j] = 1 - 1/(1 + math.exp(distance_hyperplace_train[j]))\n",
    "        else:\n",
    "            probability[j] = 1/(1 + math.exp(-distance_hyperplace_train[j]))\n",
    "    \n",
    "    tmp = roc_auc_score(y_score= probability, y_true= df_train_labels.iloc[:,i])\n",
    "    print(\"ROC AUC for feature\", list(df_train_labels)[i] , \" : \", tmp)\n",
    "    "
   ]
  },
  {
   "cell_type": "code",
   "execution_count": null,
   "metadata": {},
   "outputs": [],
   "source": [
    "# labels that have a real value\n",
    "columns_2 = []\n",
    "\n",
    "for i in range(12, 16):\n",
    "#     feature selection\n",
    "    transformer =  GenericUnivariateSelect(score_func= mutual_info_regression, mode ='k_best', param = 40)\n",
    "    train_features = transformer.fit_transform(data_train_scaled, df_train_labels.iloc[:,i])\n",
    "#     print(df_train_agg_features.columns[transformer.get_support(indices = True)])\n",
    "    test_features = transformer.transform(data_test_scaled)\n",
    "    \n",
    "    feature_map_nystroem = Nystroem(kernel = 'rbf',\n",
    "                                 random_state=1,\n",
    "                                 n_components=200)\n",
    "    train_features = feature_map_nystroem.fit_transform(train_features)\n",
    "    test_features = feature_map_nystroem.transform(test_features)\n",
    "    \n",
    "    clf_w = linear_model.SGDRegressor(max_iter=100000, tol=1e-4,\n",
    "                                     loss = 'epsilon_insensitive', penalty = 'l2')\n",
    "    parameters = {'alpha':(0.0001, 0.001, 0.01, 0.1, 1, 5, 10)}\n",
    "    clf = model_selection.GridSearchCV(estimator= clf_w, param_grid = parameters, cv = 10,\n",
    "                                       refit = True, scoring = 'r2', verbose = 1, n_jobs=6, return_train_score=True)\n",
    "#     clf = KernelRidge(kernel = 'poly', degree = 5)\n",
    "#     parameters = {'alpha':(0.1,1,10,30)}\n",
    "#     clf = model_selection.GridSearchCV(estimator= clf, param_grid = parameters, cv = 3,\n",
    "#                                       refit = True, scoring = 'r2', verbose = 2, n_jobs=6)\n",
    "    clf.fit(train_features, df_train_labels.iloc[:,i])\n",
    "    \n",
    "#     print(clf.cv_results_)\n",
    "    print(clf.cv_results_['mean_train_score'])\n",
    "    print(clf.cv_results_['mean_test_score'])\n",
    "    print(clf.best_params_)\n",
    "    print(clf.best_score_)\n",
    "    \n",
    "    pred = clf.predict(test_features)\n",
    "    columns_2.append(pred) \n",
    "\n",
    "    pred_train = clf.predict(train_features)\n",
    "    tmp = r2_score(y_pred= pred_train, y_true=df_train_labels.iloc[:,i])\n",
    "    print(\"R2 for feature\", list(df_train_labels)[i] , \" : \", tmp)\n",
    "   "
   ]
  },
  {
   "cell_type": "code",
   "execution_count": 25,
   "metadata": {},
   "outputs": [],
   "source": [
    "columns_final = columns_1 + columns_2"
   ]
  },
  {
   "cell_type": "markdown",
   "metadata": {},
   "source": [
    "# XGBoosting"
   ]
  },
  {
   "cell_type": "markdown",
   "metadata": {},
   "source": [
    "The benefit of XGBoost is that it accepts missing values."
   ]
  },
  {
   "cell_type": "code",
   "execution_count": 225,
   "metadata": {},
   "outputs": [],
   "source": [
    "import xgboost as xgb\n",
    "# simple example\n",
    "# load file from text file, also binary buffer generated by xgboost\n",
    "\n",
    "# scale test data\n",
    "min_max_scaler = preprocessing.StandardScaler()\n",
    "df_train_scaled_xgboost = min_max_scaler.fit_transform(df_train_agg_features)\n",
    "min_max_scaler = preprocessing.StandardScaler()\n",
    "df_test_scaled_xgboost = min_max_scaler.fit_transform(df_test_agg_features)\n",
    "\n",
    "dtrain = xgb.DMatrix(df_train_scaled_xgboost, label=df_train_labels.iloc[:,1])\n",
    "dtest = xgb.DMatrix(df_test_scaled_xgboost)"
   ]
  },
  {
   "cell_type": "code",
   "execution_count": null,
   "metadata": {},
   "outputs": [],
   "source": [
    "param = {'eta': 1, 'objective': 'binary:logistic', 'verbosity':1}\n",
    "param['nthread'] = 4\n",
    "param['eval_metric'] = 'auc'\n",
    "evallist = [(dtrain, 'train')]"
   ]
  },
  {
   "cell_type": "code",
   "execution_count": null,
   "metadata": {},
   "outputs": [],
   "source": [
    "num_round = 10\n",
    "xgb.cv(param, dtrain, num_round, nfold=10,\n",
    "       metrics={'auc'}, seed=0,\n",
    "       callbacks=[xgb.callback.print_evaluation(show_stdv=True)])\n",
    "# bst = xgb.train(param, dtrain, num_round)\n",
    "# pred = bst.predict(dtest)"
   ]
  },
  {
   "cell_type": "code",
   "execution_count": null,
   "metadata": {},
   "outputs": [],
   "source": [
    "from sklearn.model_selection import StratifiedKFold\n",
    "from sklearn.model_selection import cross_validate\n",
    "from sklearn.kernel_approximation import Nystroem\n",
    "\n",
    "columns_1 = [test_pids]\n",
    "\n",
    "\n",
    "for i in range(1,12):\n",
    "\n",
    "    clf = xgb.XGBClassifier('binary:logistic')\n",
    "    \n",
    "    clf_w = model_selection.GridSearchCV(estimator= clf, param_grid = {'max_depth': [2,3,4,5]}, cv = 10,\n",
    "                                        refit = True, scoring = 'roc_auc', verbose = 1,\n",
    "                                       n_jobs=6, return_train_score = True)\n",
    "    \n",
    "\n",
    "    clf_w.fit(df_train_scaled_xgboost, df_train_labels.iloc[:,i])\n",
    "    print(clf_w.best_params_)\n",
    "    print(clf_w.best_score_) \n",
    "#     dtrain = xgb.DMatrix(df_train_agg_features, label=df_train_labels.iloc[:,i])\n",
    "#     num_round = 10\n",
    "#     xgb.cv(param, dtrain, num_round, nfold=10,\n",
    "#        metrics={'auc'}, seed=0,\n",
    "#        callbacks=[xgb.callback.print_evaluation(show_stdv=True)])\n",
    "    \n",
    "    probability = clf_w.predict(df_test_scaled_xgboost)\n",
    "    columns_1.append(probability)\n",
    "\n",
    "    probability_train = clf_w.predict(df_train_scaled_xgboost)\n",
    "#     probability_train = [item[1] for item in probability_tmp]\n",
    "    tmp = roc_auc_score(y_score= probability_train, y_true= df_train_labels.iloc[:,i])\n",
    "    print(\"ROC AUC for feature\", list(df_train_labels)[i] , \" : \", tmp)"
   ]
  },
  {
   "cell_type": "code",
   "execution_count": 24,
   "metadata": {},
   "outputs": [
    {
     "name": "stdout",
     "output_type": "stream",
     "text": [
      "Fitting 10 folds for each of 3 candidates, totalling 30 fits\n"
     ]
    },
    {
     "name": "stderr",
     "output_type": "stream",
     "text": [
      "[Parallel(n_jobs=6)]: Using backend LokyBackend with 6 concurrent workers.\n",
      "[Parallel(n_jobs=6)]: Done  30 out of  30 | elapsed:  1.4min finished\n"
     ]
    },
    {
     "name": "stdout",
     "output_type": "stream",
     "text": [
      "{'max_depth': 3}\n",
      "0.40012660882715256\n",
      "R2 for feature LABEL_RRate  :  0.5304384457926086\n",
      "Fitting 10 folds for each of 3 candidates, totalling 30 fits\n"
     ]
    },
    {
     "name": "stderr",
     "output_type": "stream",
     "text": [
      "[Parallel(n_jobs=6)]: Using backend LokyBackend with 6 concurrent workers.\n",
      "[Parallel(n_jobs=6)]: Done  30 out of  30 | elapsed:  1.4min finished\n"
     ]
    },
    {
     "name": "stdout",
     "output_type": "stream",
     "text": [
      "{'max_depth': 3}\n",
      "0.6075901025083927\n",
      "R2 for feature LABEL_ABPm  :  0.6892117363925453\n",
      "Fitting 10 folds for each of 3 candidates, totalling 30 fits\n"
     ]
    },
    {
     "name": "stderr",
     "output_type": "stream",
     "text": [
      "[Parallel(n_jobs=6)]: Using backend LokyBackend with 6 concurrent workers.\n",
      "[Parallel(n_jobs=6)]: Done  30 out of  30 | elapsed:  1.4min finished\n"
     ]
    },
    {
     "name": "stdout",
     "output_type": "stream",
     "text": [
      "{'max_depth': 3}\n",
      "0.37624840303664514\n",
      "R2 for feature LABEL_SpO2  :  0.6110783227767885\n",
      "Fitting 10 folds for each of 3 candidates, totalling 30 fits\n"
     ]
    },
    {
     "name": "stderr",
     "output_type": "stream",
     "text": [
      "[Parallel(n_jobs=6)]: Using backend LokyBackend with 6 concurrent workers.\n",
      "[Parallel(n_jobs=6)]: Done  30 out of  30 | elapsed:  1.4min finished\n"
     ]
    },
    {
     "name": "stdout",
     "output_type": "stream",
     "text": [
      "{'max_depth': 3}\n",
      "0.6352556330403624\n",
      "R2 for feature LABEL_Heartrate  :  0.707456417247583\n"
     ]
    }
   ],
   "source": [
    "import xgboost as xgb\n",
    "\n",
    "columns_2_1 = []\n",
    "param = {'max_depth': 2, 'eta': 1, 'objective': 'reg:squarederror', 'verbosity':1}\n",
    "param['nthread'] = 4\n",
    "param['eval_metric'] = 'rmse'\n",
    "# evallist = [(dtrain, 'train')]\n",
    "\n",
    "train_features = data_train_scaled\n",
    "test_features = data_test_scaled\n",
    "for i in range(12,16):\n",
    "#     transformer =  GenericUnivariateSelect(score_func= mutual_info_regression, mode ='k_best', param=80)\n",
    "#     train_features = transformer.fit_transform(data_train_scaled, df_train_labels.iloc[:,i])\n",
    "# #     print(list(data_train_scaled)[transformer.get_support()])\n",
    "#     test_features = transformer.transform(data_test_scaled)\n",
    "    \n",
    "    clf_w = xgb.XGBRegressor(feval = r2_score, verbosity = 0)\n",
    "            \n",
    "    clf = model_selection.GridSearchCV(estimator= clf_w, param_grid = {'max_depth':(3,4,5)}, cv = 10,\n",
    "                                       refit = True, verbose = 1, scoring='r2',\n",
    "                                       n_jobs=6, return_train_score = True)\n",
    "    \n",
    "    clf.fit(data_train_scaled, df_train_labels.iloc[:,i])\n",
    "    print(clf.best_params_)\n",
    "    print(clf.best_score_)    \n",
    "    \n",
    "#     dtrain = xgb.DMatrix(df_train_scaled_xgboost, label=df_train_labels.iloc[:,i])\n",
    "#     num_round = 10\n",
    "    \n",
    "    probability = clf.predict(data_test_scaled)\n",
    "    columns_2_1.append(probability)\n",
    "\n",
    "    pred_train = clf.predict(data_train_scaled)\n",
    "#     probability_train = [item[1] for item in probability_tmp]\n",
    "    tmp = r2_score(y_pred= pred_train, y_true=df_train_labels.iloc[:,i])\n",
    "    print(\"R2 for feature\", list(df_train_labels)[i] , \" : \", tmp)\n",
    "   "
   ]
  },
  {
   "cell_type": "code",
   "execution_count": null,
   "metadata": {},
   "outputs": [],
   "source": [
    "columns_final = columns_1 + columns_2_1"
   ]
  },
  {
   "cell_type": "markdown",
   "metadata": {},
   "source": [
    "## Save predictions"
   ]
  },
  {
   "cell_type": "code",
   "execution_count": 26,
   "metadata": {},
   "outputs": [
    {
     "name": "stdout",
     "output_type": "stream",
     "text": [
      "(16, 12664)\n"
     ]
    }
   ],
   "source": [
    "print(np.shape(columns_final))\n",
    "result = pd.DataFrame(columns_final).transpose()\n",
    "result.columns = list(df_train_labels)\n",
    "result.to_csv('./Results/prediction.csv.zip', index=False, float_format='%.3f', compression='zip')"
   ]
  },
  {
   "cell_type": "code",
   "execution_count": null,
   "metadata": {},
   "outputs": [],
   "source": [
    "result.to_csv('./Results/prediction.csv', index=False, float_format='%.3f')"
   ]
  },
  {
   "cell_type": "code",
   "execution_count": null,
   "metadata": {},
   "outputs": [],
   "source": []
  }
 ],
 "metadata": {
  "kernelspec": {
   "display_name": "Python 3",
   "language": "python",
   "name": "python3"
  },
  "language_info": {
   "codemirror_mode": {
    "name": "ipython",
    "version": 3
   },
   "file_extension": ".py",
   "mimetype": "text/x-python",
   "name": "python",
   "nbconvert_exporter": "python",
   "pygments_lexer": "ipython3",
   "version": "3.7.5"
  }
 },
 "nbformat": 4,
 "nbformat_minor": 4
}
