{
 "cells": [
  {
   "cell_type": "markdown",
   "metadata": {},
   "source": [
    "# Support vector machines"
   ]
  },
  {
   "cell_type": "code",
   "execution_count": 1,
   "metadata": {},
   "outputs": [],
   "source": [
    "# import libraries\n",
    "\n",
    "import numpy as np\n",
    "import math\n",
    "import pandas as pd\n",
    "import matplotlib.pyplot as plt\n",
    "import missingno as msno\n",
    "import seaborn as sns\n",
    "\n",
    "from matplotlib.backends.backend_pdf import PdfPages\n",
    "from sklearn.decomposition import PCA\n",
    "\n",
    "from sklearn.ensemble import BaggingClassifier, RandomForestClassifier\n",
    "from sklearn.feature_selection import GenericUnivariateSelect, mutual_info_classif, mutual_info_regression, f_regression, f_classif\n",
    "\n",
    "from sklearn import preprocessing\n",
    "from sklearn.svm import LinearSVR\n",
    "from sklearn.svm import LinearSVC\n",
    "from sklearn.svm import SVR\n",
    "from sklearn.svm import SVC\n",
    "from sklearn import linear_model\n",
    "\n",
    "from sklearn.preprocessing import StandardScaler\n",
    "from sklearn.metrics import roc_auc_score\n",
    "from sklearn.metrics import r2_score\n",
    "from sklearn.metrics.pairwise import pairwise_kernels\n",
    "\n",
    "from sklearn import model_selection\n",
    "\n",
    "from sklearn.impute import KNNImputer\n",
    "from sklearn.impute import SimpleImputer\n",
    "# explicitly require this experimental feature\n",
    "from sklearn.experimental import enable_iterative_imputer  # noqa\n",
    "# now you can import normally from sklearn.impute\n",
    "from sklearn.impute import IterativeImputer\n",
    "from sklearn.ensemble import RandomForestRegressor\n",
    "\n",
    "import copy"
   ]
  },
  {
   "cell_type": "markdown",
   "metadata": {},
   "source": [
    "## Data pre-processing"
   ]
  },
  {
   "cell_type": "code",
   "execution_count": 2,
   "metadata": {},
   "outputs": [],
   "source": [
    "# load training data\n",
    "\n",
    "# load data from csv file\n",
    "df_train_features = pd.read_csv ('train_features.csv')\n",
    "df_train_labels = pd.read_csv('train_labels.csv')\n",
    "\n",
    "# Load test data\n",
    "df_test_features = pd.read_csv('test_features.csv')"
   ]
  },
  {
   "cell_type": "markdown",
   "metadata": {},
   "source": [
    "### Sorting labels"
   ]
  },
  {
   "cell_type": "code",
   "execution_count": 3,
   "metadata": {},
   "outputs": [],
   "source": [
    "df_train_labels = df_train_labels.sort_values('pid')\n",
    "df_train_features = df_train_features.sort_values('pid')\n",
    "df_test_features = df_test_features.sort_values('pid')\n",
    "\n",
    "# Droping time\n",
    "df_train_features = df_train_features.drop('Time', axis = 1)\n",
    "df_test_features = df_test_features.drop('Time', axis = 1)"
   ]
  },
  {
   "cell_type": "markdown",
   "metadata": {},
   "source": [
    "### Extracting IDs"
   ]
  },
  {
   "cell_type": "code",
   "execution_count": 4,
   "metadata": {},
   "outputs": [],
   "source": [
    "train_pids = df_train_features['pid'].unique()\n",
    "test_pids = df_test_features['pid'].unique()"
   ]
  },
  {
   "cell_type": "code",
   "execution_count": 5,
   "metadata": {},
   "outputs": [
    {
     "data": {
      "text/plain": [
       "0             1\n",
       "10            1\n",
       "9             1\n",
       "8             1\n",
       "7             1\n",
       "          ...  \n",
       "172873    31658\n",
       "172872    31658\n",
       "172883    31658\n",
       "172876    31658\n",
       "172882    31658\n",
       "Name: pid, Length: 227940, dtype: int64"
      ]
     },
     "execution_count": 5,
     "metadata": {},
     "output_type": "execute_result"
    }
   ],
   "source": [
    "df_train_features.iloc[:,0]"
   ]
  },
  {
   "cell_type": "markdown",
   "metadata": {},
   "source": [
    "### Standardizing before imputing?"
   ]
  },
  {
   "cell_type": "code",
   "execution_count": 5,
   "metadata": {},
   "outputs": [],
   "source": [
    "# scale the data\n",
    "\n",
    "min_max_scaler = preprocessing.StandardScaler()\n",
    "# standard_scalar = preprocessing.StandardScaler()\n",
    "\n",
    "data_train_scaled_2 = min_max_scaler.fit_transform(df_train_features.iloc[:,1:])\n",
    "data_train_scaled_2 = pd.DataFrame(data_train_scaled_2, columns = list(df_train_features)[1:])\n",
    "data_train_scaled_2.insert(loc=0, column='pid', value=df_train_features.iloc[:,0].tolist())\n",
    "\n",
    "min_max_scaler = preprocessing.StandardScaler()\n",
    "\n",
    "data_test_scaled_2 = min_max_scaler.fit_transform(df_test_features.iloc[:,1:])\n",
    "data_test_scaled_2 = pd.DataFrame(data_test_scaled_2, columns = list(df_test_features)[1:])\n",
    "data_test_scaled_2.insert(loc=0, column='pid', value=df_test_features.iloc[:,0].tolist())"
   ]
  },
  {
   "cell_type": "code",
   "execution_count": null,
   "metadata": {},
   "outputs": [],
   "source": []
  },
  {
   "cell_type": "code",
   "execution_count": 7,
   "metadata": {},
   "outputs": [
    {
     "name": "stdout",
     "output_type": "stream",
     "text": [
      "<class 'pandas.core.frame.DataFrame'>\n",
      "<class 'pandas.core.frame.DataFrame'>\n",
      "0        NaN\n",
      "10       NaN\n",
      "9        NaN\n",
      "8        NaN\n",
      "7        NaN\n",
      "          ..\n",
      "172873   NaN\n",
      "172872   NaN\n",
      "172883   NaN\n",
      "172876   NaN\n",
      "172882   NaN\n",
      "Name: EtCO2, Length: 227940, dtype: float64\n",
      "0        NaN\n",
      "1        NaN\n",
      "2        NaN\n",
      "3        NaN\n",
      "4        NaN\n",
      "          ..\n",
      "227935   NaN\n",
      "227936   NaN\n",
      "227937   NaN\n",
      "227938   NaN\n",
      "227939   NaN\n",
      "Name: EtCO2, Length: 227940, dtype: float64\n"
     ]
    }
   ],
   "source": [
    "print(type(df_train_features))\n",
    "print(type(data_train_scaled_2))\n",
    "print(df_train_features['EtCO2'])\n",
    "print(data_train_scaled_2['EtCO2'])"
   ]
  },
  {
   "cell_type": "markdown",
   "metadata": {},
   "source": [
    " ### Histogram of the output labels "
   ]
  },
  {
   "cell_type": "markdown",
   "metadata": {},
   "source": [
    "We should check for class imbalance."
   ]
  },
  {
   "cell_type": "code",
   "execution_count": null,
   "metadata": {},
   "outputs": [],
   "source": [
    "df_train_labels.hist()\n",
    "\n",
    "# with PdfPages(\"./Results/Labels_histogram.pdf\") as export_pdf:\n",
    "#     for i in list(df_train_labels)[1:]:\n",
    "#         df_train_labels.hist(column = i, bins = 100)\n",
    "#         export_pdf.savefig()"
   ]
  },
  {
   "cell_type": "markdown",
   "metadata": {},
   "source": [
    "One can see the class imbalance problem here. Other observations:\n",
    "  * Heartrate, RRate, ABPm,  distribution is similar to a normal distribution\n",
    "  * SpO2 is like a censored normal distribution. \n",
    "  * For all of the other features, class imbalance is an obvious problem."
   ]
  },
  {
   "cell_type": "markdown",
   "metadata": {},
   "source": [
    "A basic strategy that could be used here: Upsample both classes! Do the upsampling efficiently, not just replicating the datapoints"
   ]
  },
  {
   "cell_type": "markdown",
   "metadata": {},
   "source": [
    "### Boxplot over features"
   ]
  },
  {
   "cell_type": "code",
   "execution_count": null,
   "metadata": {},
   "outputs": [],
   "source": [
    "# data inspection: \n",
    "#############################################\n",
    "# range of the provided data?\n",
    "print(df_train_features.agg([min, max]))\n",
    "\n",
    "# Boxplotting the data\n",
    "# fig2, ax2 = plt.subplots()\n",
    "# ax2.set_title('BUN')\n",
    "# ax2.boxplot(df_train_features.iloc[:,5], notch=True)\n",
    "\n",
    "plt.figure(figsize=(16, 16))\n",
    "ax = sns.boxplot(data = df_train_features.iloc[:,1:])\n",
    "ax.set_xticklabels(\n",
    "    ax.get_xticklabels(),\n",
    "    rotation=90,\n",
    "    horizontalalignment='right'\n",
    ");\n",
    "\n",
    "# with PdfPages(\"./Results/Train_columns_boxplot.pdf\") as export_pdf:\n",
    "#     for i in list(df_train_labels)[1:]:\n",
    "#         df_train_labels.hist(column = i, bins = 100)\n",
    "#         export_pdf.savefig()"
   ]
  },
  {
   "cell_type": "code",
   "execution_count": null,
   "metadata": {},
   "outputs": [],
   "source": [
    "# calculate the correlation matrix\n",
    "corr = df_train_features.corr()\n",
    "\n",
    "# plot the heatmap\n",
    "plt.figure(figsize=(16, 16))\n",
    "ax = sns.heatmap(corr, \n",
    "        xticklabels=corr.columns,\n",
    "        yticklabels=corr.columns, \n",
    "        vmin=-1, vmax=1, center=0, \n",
    "           cmap=sns.diverging_palette(20, 220, n=200))\n",
    "ax.set_xticklabels(\n",
    "    ax.get_xticklabels(),\n",
    "    rotation=45,\n",
    "    horizontalalignment='right'\n",
    ");"
   ]
  },
  {
   "cell_type": "markdown",
   "metadata": {},
   "source": [
    "### Visualizing pattern of missing values"
   ]
  },
  {
   "cell_type": "code",
   "execution_count": null,
   "metadata": {},
   "outputs": [],
   "source": [
    "# how much missing data? \n",
    "print(\"Percentage of missing values:\")\n",
    "print(df_train_features.isnull().sum(axis=0) / len(df_train_features))\n",
    "\n",
    "msno.matrix(df_train_features)\n",
    "\n",
    "# Plotting the correlation between the missing values\n",
    "msno.heatmap(df_train_features)"
   ]
  },
  {
   "cell_type": "markdown",
   "metadata": {},
   "source": [
    "# Another Strategy for preprocessing"
   ]
  },
  {
   "cell_type": "code",
   "execution_count": 8,
   "metadata": {},
   "outputs": [
    {
     "name": "stdout",
     "output_type": "stream",
     "text": [
      "--------Our Columns are are:  Index(['Age', 'EtCO2', 'PTT', 'BUN', 'Lactate', 'Temp', 'Hgb', 'HCO3',\n",
      "       'BaseExcess', 'RRate', 'Fibrinogen', 'Phosphate', 'WBC', 'Creatinine',\n",
      "       'PaCO2', 'AST', 'FiO2', 'Platelets', 'SaO2', 'Glucose', 'ABPm',\n",
      "       'Magnesium', 'Potassium', 'ABPd', 'Calcium', 'Alkalinephos', 'SpO2',\n",
      "       'Bilirubin_direct', 'Chloride', 'Hct', 'Heartrate', 'Bilirubin_total',\n",
      "       'TroponinI', 'ABPs', 'pH'],\n",
      "      dtype='object')\n",
      "--------Labels are:  Index(['pid', 'LABEL_BaseExcess', 'LABEL_Fibrinogen', 'LABEL_AST',\n",
      "       'LABEL_Alkalinephos', 'LABEL_Bilirubin_total', 'LABEL_Lactate',\n",
      "       'LABEL_TroponinI', 'LABEL_SaO2', 'LABEL_Bilirubin_direct',\n",
      "       'LABEL_EtCO2', 'LABEL_Sepsis', 'LABEL_RRate', 'LABEL_ABPm',\n",
      "       'LABEL_SpO2', 'LABEL_Heartrate'],\n",
      "      dtype='object')\n",
      "********Var classes are:  [Index(['pid', 'Age', 'Temp', 'RRate', 'Glucose', 'ABPm', 'ABPd', 'SpO2',\n",
      "       'Heartrate', 'ABPs'],\n",
      "      dtype='object'), Index(['Hgb', 'PaCO2', 'FiO2', 'Potassium', 'Hct', 'pH'], dtype='object'), Index(['EtCO2', 'PTT', 'BUN', 'Lactate', 'HCO3', 'BaseExcess', 'Fibrinogen',\n",
      "       'Phosphate', 'WBC', 'Creatinine', 'AST', 'Platelets', 'SaO2',\n",
      "       'Magnesium', 'Calcium', 'Alkalinephos', 'Bilirubin_direct', 'Chloride',\n",
      "       'Bilirubin_total', 'TroponinI'],\n",
      "      dtype='object')]\n"
     ]
    }
   ],
   "source": [
    "# Which columns have less than a percent NA\n",
    "NA_percent = 0.85\n",
    "NA_percent_severe = 0.91\n",
    "\n",
    "sel_features = df_train_features.isnull().sum(axis=0) < (NA_percent * df_train_features.shape[0])\n",
    "inds = np.where(sel_features == True)\n",
    "\n",
    "sel_features_2 = (df_train_features.isnull().sum(axis=0) <= (NA_percent_severe * df_train_features.shape[0])) & (df_train_features.isnull().sum(axis=0) >= (NA_percent * df_train_features.shape[0]))        \n",
    "inds_2 = np.where(sel_features_2 == True)\n",
    "\n",
    "sel_features_3 = df_train_features.isnull().sum(axis=0) > (NA_percent_severe * df_train_features.shape[0])\n",
    "inds_3 = np.where(sel_features_3 == True)\n",
    "\n",
    "vars_class1 = df_train_features.columns[inds[0]]\n",
    "vars_class2 = df_train_features.columns[inds_2[0]]\n",
    "vars_class3 = df_train_features.columns[inds_3[0]]\n",
    "vars_classes = [vars_class1, vars_class2, vars_class3]\n",
    "\n",
    "print(\"--------Our Columns are are: \",df_train_features.columns.drop(\"pid\"))\n",
    "print(\"--------Labels are: \", df_train_labels.columns)\n",
    "print(\"********Var classes are: \" ,vars_classes)"
   ]
  },
  {
   "cell_type": "code",
   "execution_count": 7,
   "metadata": {},
   "outputs": [],
   "source": [
    "# Extract Statistics out of columns\n",
    "train_columns_mean = df_train_features.mean(skipna = True)\n",
    "train_columns_median = df_train_features.median(skipna = True)\n",
    "\n",
    "# Extract Statistics out of test\n",
    "test_columns_mean = df_test_features.mean(skipna = True)\n",
    "test_columns_median = df_test_features.median(skipna = True)\n",
    "\n",
    "# Extract Statistics out of columns\n",
    "train_scaled_2_columns_mean = data_train_scaled_2.mean(skipna = True)\n",
    "train_scaled_2_columns_median = data_train_scaled_2.median(skipna = True)\n",
    "\n",
    "# Extract Statistics out of test\n",
    "test_scaled_2_columns_mean = data_train_scaled_2.mean(skipna = True)\n",
    "test_scaled_2_columns_median = data_train_scaled_2.median(skipna = True)"
   ]
  },
  {
   "cell_type": "code",
   "execution_count": 9,
   "metadata": {},
   "outputs": [
    {
     "name": "stdout",
     "output_type": "stream",
     "text": [
      "pid                 15788.831219\n",
      "Age                    62.073809\n",
      "EtCO2                  32.883114\n",
      "PTT                    40.091310\n",
      "BUN                    23.192664\n",
      "Lactate                 2.859716\n",
      "Temp                   36.852136\n",
      "Hgb                    10.628208\n",
      "HCO3                   23.488100\n",
      "BaseExcess             -1.239284\n",
      "RRate                  18.154043\n",
      "Fibrinogen            262.496911\n",
      "Phosphate               3.612519\n",
      "WBC                    11.738649\n",
      "Creatinine              1.495777\n",
      "PaCO2                  41.115696\n",
      "AST                   193.444888\n",
      "FiO2                    0.701666\n",
      "Platelets             204.666426\n",
      "SaO2                   93.010527\n",
      "Glucose               142.169407\n",
      "ABPm                   82.117276\n",
      "Magnesium               2.004149\n",
      "Potassium               4.152729\n",
      "ABPd                   64.014711\n",
      "Calcium                 7.161149\n",
      "Alkalinephos           97.796163\n",
      "SpO2                   97.663449\n",
      "Bilirubin_direct        1.390723\n",
      "Chloride              106.260185\n",
      "Hct                    31.283090\n",
      "Heartrate              84.522371\n",
      "Bilirubin_total         1.640941\n",
      "TroponinI               7.269240\n",
      "ABPs                  122.369877\n",
      "pH                      7.367231\n",
      "dtype: float64\n",
      "pid                 15889.250000\n",
      "Age                    62.154296\n",
      "EtCO2                  32.560432\n",
      "PTT                    39.934071\n",
      "BUN                    23.438467\n",
      "Lactate                 2.743194\n",
      "Temp                   36.853698\n",
      "Hgb                    10.655362\n",
      "HCO3                   23.494028\n",
      "BaseExcess             -1.129381\n",
      "RRate                  18.201614\n",
      "Fibrinogen            263.741571\n",
      "Phosphate               3.612015\n",
      "WBC                    11.638304\n",
      "Creatinine              1.478575\n",
      "PaCO2                  41.122434\n",
      "AST                   251.066658\n",
      "FiO2                    0.553304\n",
      "Platelets             207.103660\n",
      "SaO2                   92.981430\n",
      "Glucose               142.704627\n",
      "ABPm                   81.858080\n",
      "Magnesium               2.012246\n",
      "Potassium               4.153665\n",
      "ABPd                   63.708425\n",
      "Calcium                 7.158564\n",
      "Alkalinephos           99.091557\n",
      "SpO2                   97.668464\n",
      "Bilirubin_direct        1.460460\n",
      "Chloride              106.321705\n",
      "Hct                    31.373145\n",
      "Heartrate              84.525235\n",
      "Bilirubin_total         1.670710\n",
      "TroponinI               7.410737\n",
      "ABPs                  122.179033\n",
      "pH                      7.369232\n",
      "dtype: float64\n"
     ]
    }
   ],
   "source": [
    "train_columns_mean\n",
    "print(df_test_features.var(skipna = True))\n",
    "print(test_columns_mean)"
   ]
  },
  {
   "cell_type": "code",
   "execution_count": null,
   "metadata": {},
   "outputs": [],
   "source": [
    "# df\n",
    "x =[1,2,3,np.NaN,5]\n",
    "print(np.isnan(x))\n",
    "[i for count,i in enumerate(x) if ~np.isnan(i)]"
   ]
  },
  {
   "cell_type": "code",
   "execution_count": 10,
   "metadata": {},
   "outputs": [],
   "source": [
    "def imputation_pid(df, IMPUTATIONS_TRATEGY, trainStats1, trainStats2):\n",
    "\n",
    "    datInp = copy.deepcopy(df)\n",
    "\n",
    "    totNACounts = datInp.isna().sum(axis = 0)\n",
    "    # def imputation_technique(datInp, var, IMPUTATIONS_TRATEGY, trainStats):\n",
    "\n",
    "    # do it in a sorted fashion to do iterative imputing\n",
    "    col_size = df.shape[1]\n",
    "    df_NACount = pd.DataFrame({'NACounts':totNACounts,\n",
    "                               'Columns':list(datInp),\n",
    "                               'ColNum':np.linspace(0,col_size - 1, col_size, dtype = int)}).sort_values('NACounts', ascending = False)\n",
    "    \n",
    "    for index, row in df_NACount.iterrows():\n",
    "\n",
    "    #     var = dataInp[:,row[2]].tolist()\n",
    "    #     print(var)\n",
    "        if(row[0] == 12):\n",
    "            datInp.iloc[:,row[2]] = [trainStats1[row[2]]] * 12\n",
    "\n",
    "        elif(row[0] == 11):\n",
    "            # If 11, then copy that element 11 times\n",
    "            datInp.iloc[:,row[2]] = [ [i for count,i in enumerate(datInp.iloc[:,row[2]]) if ~np.isnan(i)][0] ] * 12\n",
    "\n",
    "    datInp.append(trainStats1.tolist())\n",
    "#     datInp.append(trainStats2.tolist())\n",
    "\n",
    "    dataInp = IMPUTATIONS_TRATEGY.fit_transform(datInp.iloc[:,2:])\n",
    "    dataInp = dataInp[0:12]\n",
    "    dataInp = pd.DataFrame(dataInp, columns = list(datInp)[2:])\n",
    "\n",
    "    dataInp.insert(loc = 0, column =  'pid', value = df.iloc[:, 0].tolist())\n",
    "    dataInp.insert(loc = 1, column =  'Age', value = df.iloc[:, 1].tolist())\n",
    "    \n",
    "    return(dataInp)"
   ]
  },
  {
   "cell_type": "code",
   "execution_count": null,
   "metadata": {},
   "outputs": [],
   "source": [
    "arr = np.linspace(1,10, 10, dtype = int)\n",
    "arr = []\n",
    "# for i in range(12):\n",
    "#     arr.append(\"v\" + str(i))\n",
    "# print(arr)\n",
    "data_train_scaled_2"
   ]
  },
  {
   "cell_type": "code",
   "execution_count": 11,
   "metadata": {},
   "outputs": [
    {
     "name": "stdout",
     "output_type": "stream",
     "text": [
      "            Age    EtCO2:mean     EtCO2:std     EtCO2:min     EtCO2:max  \\\n",
      "0     -1.706426 -3.752110e-16  9.860761e-32 -3.752110e-16 -3.752110e-16   \n",
      "1      1.454319 -3.752110e-16  9.860761e-32 -3.752110e-16 -3.752110e-16   \n",
      "2      0.238648 -3.752110e-16  9.860761e-32 -3.752110e-16 -3.752110e-16   \n",
      "3      0.238648 -3.752110e-16  9.860761e-32 -3.752110e-16 -3.752110e-16   \n",
      "4     -1.220158 -3.752110e-16  9.860761e-32 -3.752110e-16 -3.752110e-16   \n",
      "...         ...           ...           ...           ...           ...   \n",
      "18990 -0.612322 -3.752110e-16  9.860761e-32 -3.752110e-16 -3.752110e-16   \n",
      "18991  0.238648 -3.752110e-16  9.860761e-32 -3.752110e-16 -3.752110e-16   \n",
      "18992 -1.098590 -3.752110e-16  9.860761e-32 -3.752110e-16 -3.752110e-16   \n",
      "18993  0.481782 -3.752110e-16  9.860761e-32 -3.752110e-16 -3.752110e-16   \n",
      "18994 -0.126053 -3.752110e-16  9.860761e-32 -3.752110e-16 -3.752110e-16   \n",
      "\n",
      "           PTT:mean       PTT:std       PTT:min       PTT:max      BUN:mean  \\\n",
      "0      2.116851e-16  0.000000e+00  2.116851e-16  2.116851e-16 -5.589683e-01   \n",
      "1     -3.184838e-01  0.000000e+00 -3.184838e-01 -3.184838e-01  4.398436e-01   \n",
      "2     -2.109308e-01  2.775558e-17 -2.109308e-01 -2.109308e-01 -7.587306e-01   \n",
      "3      5.265748e-01  1.110223e-16  5.265748e-01  5.265748e-01  4.398436e-01   \n",
      "4      2.116851e-16  0.000000e+00  2.116851e-16  2.116851e-16 -2.593247e-01   \n",
      "...             ...           ...           ...           ...           ...   \n",
      "18990 -5.489543e-01  1.110223e-16 -5.489543e-01 -5.489543e-01 -6.089089e-01   \n",
      "18991  2.116851e-16  0.000000e+00  2.116851e-16  2.116851e-16  4.897842e-01   \n",
      "18992  2.116851e-16  0.000000e+00  2.116851e-16  2.116851e-16 -4.091465e-01   \n",
      "18993  2.116851e-16  0.000000e+00  2.116851e-16  2.116851e-16 -1.347398e-17   \n",
      "18994  2.116851e-16  0.000000e+00  2.116851e-16  2.116851e-16 -5.090277e-01   \n",
      "\n",
      "       ...   ABPs:10   ABPs:11  ABPs:mean  ABPs:std  ABPs:iqr       pH:mean  \\\n",
      "0      ...  0.113008 -0.703362  -0.338144  0.497222  0.698211  1.716604e-01   \n",
      "1      ...  1.101245  0.413776   0.381551  0.334721  0.461893  3.046619e-16   \n",
      "2      ... -1.562698 -1.390831   0.089138  1.224831  2.234275  3.046619e-16   \n",
      "3      ... -1.090063 -0.961162  -0.932518  0.237508  0.332993 -2.167232e-01   \n",
      "4      ...  1.144212  3.722221   3.491871  1.080967  1.460872  3.046619e-16   \n",
      "...    ...       ...       ...        ...       ...       ...           ...   \n",
      "18990  ... -1.462442 -1.433797  -1.473184  0.217139  0.164706 -5.005421e-01   \n",
      "18991  ...  1.860325  1.745747   1.834068  0.438600  0.719694  3.046619e-16   \n",
      "18992  ... -0.359627 -1.133030  -0.979065  0.418957  0.537085 -9.636150e-01   \n",
      "18993  ... -0.617428 -0.746328  -0.527914  0.261038  0.300768  3.046619e-16   \n",
      "18994  ...  0.342164  0.542676   0.399453  0.143223  0.200512  3.046619e-16   \n",
      "\n",
      "             pH:std        pH:min        pH:max    pH:iqr  \n",
      "0      3.323458e-01 -5.005421e-01  5.749820e-01  0.358508  \n",
      "1      0.000000e+00  3.046619e-16  3.046619e-16  0.000000  \n",
      "2      0.000000e+00  3.046619e-16  3.046619e-16  0.000000  \n",
      "3      2.143983e-01 -5.005421e-01  3.061009e-01  0.190457  \n",
      "4      0.000000e+00  3.046619e-16  3.046619e-16  0.000000  \n",
      "...             ...           ...           ...       ...  \n",
      "18990  1.110223e-16 -5.005421e-01 -5.005421e-01  0.000000  \n",
      "18991  0.000000e+00  3.046619e-16  3.046619e-16  0.000000  \n",
      "18992  3.008036e-01 -1.576066e+00 -3.661016e-01  0.268881  \n",
      "18993  0.000000e+00  3.046619e-16  3.046619e-16  0.000000  \n",
      "18994  0.000000e+00  3.046619e-16  3.046619e-16  0.000000  \n",
      "\n",
      "[18995 rows x 231 columns]\n"
     ]
    }
   ],
   "source": [
    "from scipy import stats\n",
    "\n",
    "def aggregation_imputation_technique(datInp, variables, vars_classes, pids, trainStats1, trainStats2):\n",
    "    \n",
    "    dat = copy.deepcopy(datInp)\n",
    "    \n",
    "    vars_class1 = vars_classes[0]\n",
    "    vars_class2 = vars_classes[1]\n",
    "    vars_class3 = vars_classes[2]\n",
    "    \n",
    "    aggregated_dataframe = []\n",
    "    for pid in pids:\n",
    "        # dataframe for this pid\n",
    "        df = dat.loc[dat['pid'] == pid]\n",
    "        \n",
    "        imputer = KNNImputer(n_neighbors=3)\n",
    "\n",
    "        df = imputation_pid(df, imputer, trainStats1, trainStats2)\n",
    "\n",
    "        calculated_features = []\n",
    "        col_names = []\n",
    "        for var in variables:\n",
    "\n",
    "            # how many NaN are in there for this variable\n",
    "            data = df[var].tolist()\n",
    "            \n",
    "            if var == \"pid\":\n",
    "                continue\n",
    "                \n",
    "            if var == \"Age\":\n",
    "                arr = \"Age\"\n",
    "                col_names.append(arr)\n",
    "                calculated_features.append(data[0])\n",
    "                \n",
    "            elif var in vars_class1:\n",
    "                for i in range(12):\n",
    "                    col_names.append(var + \":\" + str(i))\n",
    "                \n",
    "                calculated_features = calculated_features + data\n",
    "                calculated_features.append(np.nanmean(data))\n",
    "                calculated_features.append(np.nanstd(data))\n",
    "                calculated_features.append(stats.iqr(data, nan_policy = \"omit\"))\n",
    "                \n",
    "                col_names.append(var + \":mean\")\n",
    "                col_names.append(var + \":std\")\n",
    "                col_names.append(var + \":iqr\")\n",
    "                \n",
    "            elif var in vars_class2:\n",
    "                calculated_features.append(np.nanmean(data))\n",
    "                calculated_features.append(np.nanstd(data))\n",
    "                calculated_features.append(np.nanmin(data))\n",
    "                calculated_features.append(np.nanmax(data))\n",
    "                calculated_features.append(stats.iqr(data, nan_policy = \"omit\"))\n",
    "                \n",
    "                col_names.append(var + \":mean\")\n",
    "                col_names.append(var + \":std\")\n",
    "                col_names.append(var + \":min\")\n",
    "                col_names.append(var + \":max\")\n",
    "                col_names.append(var + \":iqr\")\n",
    "            \n",
    "            else:\n",
    "                calculated_features.append(np.nanmean(data))\n",
    "                calculated_features.append(np.nanstd(data))\n",
    "                calculated_features.append(np.nanmin(data))\n",
    "                calculated_features.append(np.nanmax(data))\n",
    "                \n",
    "                col_names.append(var + \":mean\")\n",
    "                col_names.append(var + \":std\")\n",
    "                col_names.append(var + \":min\")\n",
    "                col_names.append(var + \":max\")\n",
    "                \n",
    "        aggregated_dataframe.append(calculated_features)\n",
    "        \n",
    "    aggregated_dataframe = pd.DataFrame(aggregated_dataframe, columns = col_names)\n",
    "        \n",
    "    return(aggregated_dataframe)\n",
    "\n",
    "df_train_agg_features = aggregation_imputation_technique(data_train_scaled_2, data_train_scaled_2.columns, vars_classes,\n",
    "                                                         train_pids, train_scaled_2_columns_mean, train_scaled_2_columns_median)\n",
    "print(df_train_agg_features)"
   ]
  },
  {
   "cell_type": "code",
   "execution_count": 12,
   "metadata": {},
   "outputs": [],
   "source": [
    "# For test\n",
    "df_test_agg_features = aggregation_imputation_technique(data_test_scaled_2, data_test_scaled_2.columns, vars_classes,\n",
    "                                                        test_pids, test_scaled_2_columns_mean, test_scaled_2_columns_median)\n"
   ]
  },
  {
   "cell_type": "code",
   "execution_count": 13,
   "metadata": {},
   "outputs": [],
   "source": [
    "data_train_scaled = df_train_agg_features\n",
    "data_test_scaled = df_test_agg_features"
   ]
  },
  {
   "cell_type": "code",
   "execution_count": null,
   "metadata": {},
   "outputs": [],
   "source": [
    "# scale the data\n",
    "\n",
    "min_max_scaler = preprocessing.StandardScaler()\n",
    "# standard_scalar = preprocessing.StandardScaler()\n",
    "\n",
    "data_train_scaled = min_max_scaler.fit_transform(df_train_agg_features)\n",
    "data_train_scaled = pd.DataFrame(data_train_scaled, columns = list(df_train_agg_features))"
   ]
  },
  {
   "cell_type": "code",
   "execution_count": null,
   "metadata": {},
   "outputs": [],
   "source": [
    "df_test_agg_features = aggregation_imputation_technique(df_test_features, df_test_features.columns, vars_classes,\n",
    "                                                        test_pids, test_columns_mean, test_columns_median)\n",
    "\n",
    "min_max_scaler = preprocessing.StandardScaler()\n",
    "# standard_scalar = preprocessing.StandardScaler()\n",
    "\n",
    "data_test_scaled = min_max_scaler.fit_transform(df_test_agg_features)\n",
    "data_test_scaled = pd.DataFrame(data_test_scaled, columns = list(df_test_agg_features))"
   ]
  },
  {
   "cell_type": "code",
   "execution_count": null,
   "metadata": {},
   "outputs": [],
   "source": [
    "print(data_test_scaled.shape)\n",
    "print(data_train_scaled.shape)"
   ]
  },
  {
   "cell_type": "code",
   "execution_count": null,
   "metadata": {},
   "outputs": [],
   "source": [
    "pd.DataFrame(data_train_scaled).to_csv(\"./Results/Standardize_before_dat_train_scaled.csv\", index = False)\n",
    "pd.DataFrame(data_test_scaled).to_csv(\"./Results/Standardize_before_dat_test_scaled.csv\", index = False)"
   ]
  },
  {
   "cell_type": "code",
   "execution_count": null,
   "metadata": {},
   "outputs": [],
   "source": [
    "# # If want to run from here:\n",
    "# data_train_scaled = pd.read_csv(\"./Results/other_dat_train_scaled_2.csv\")\n",
    "# data_test_scaled = pd.read_csv(\"./Results/other_dat_test_scaled_2.csv\")"
   ]
  },
  {
   "cell_type": "markdown",
   "metadata": {},
   "source": [
    "# Previous approach for preprocessing"
   ]
  },
  {
   "cell_type": "markdown",
   "metadata": {},
   "source": [
    "### Train data pre-processing"
   ]
  },
  {
   "cell_type": "code",
   "execution_count": null,
   "metadata": {},
   "outputs": [],
   "source": [
    "# Which columns have less than a percent NA\n",
    "NA_percent = 0.7\n",
    "NA_percent_severe = 0.91\n",
    "\n",
    "sel_features = df_train_features.isnull().sum(axis=0) < (NA_percent * df_train_features.shape[0])\n",
    "inds = np.where(sel_features == True)\n",
    "\n",
    "sel_features_2 = (df_train_features.isnull().sum(axis=0) < (NA_percent_severe * df_train_features.shape[0])) & (df_train_features.isnull().sum(axis=0) > (NA_percent * df_train_features.shape[0]))        \n",
    "inds_2 = np.where(sel_features_2 == True)\n",
    "\n",
    "sel_features_3 = df_train_features.isnull().sum(axis=0) > (NA_percent_severe * df_train_features.shape[0])\n",
    "inds_3 = np.where(sel_features_3 == True)\n",
    "\n",
    "vars_class1 = df_train_features.columns[inds[0]]\n",
    "vars_class2 = df_train_features.columns[inds_2[0]]\n",
    "vars_class3 = df_train_features.columns[inds_3[0]]\n",
    "vars_classes = [vars_class1, vars_class2, vars_class3]\n",
    "\n",
    "print(\"--------Our Columns are are: \",df_train_features.columns.drop(\"pid\"))\n",
    "print(\"--------Labels are: \", df_train_labels.columns)\n",
    "print(\"********Var classes are: \" ,vars_classes)"
   ]
  },
  {
   "cell_type": "code",
   "execution_count": null,
   "metadata": {},
   "outputs": [],
   "source": [
    "def aggregation_technique(dat, variables, pids, vars_classes):\n",
    "    \n",
    "    vars_class1 = vars_classes[0]\n",
    "    vars_class2 = vars_classes[1]\n",
    "    vars_class3 = vars_classes[2]\n",
    "    \n",
    "    aggregated_dataframe = []\n",
    "    for pid in pids:\n",
    "        # dataframe for this pid\n",
    "        df = dat.loc[dat['pid'] == pid]\n",
    "        calculated_features = []\n",
    "        for var in variables:\n",
    "            # how many NaN are in there for this variable\n",
    "            data = df[var].tolist()\n",
    "#             num_nan = np.count_nonzero(np.isnan(data))\n",
    "            if var == \"Age\":\n",
    "                calculated_features.append(data[0])\n",
    "                \n",
    "            elif var in vars_class1:\n",
    "                calculated_features = calculated_features + data\n",
    "#                 calculated_features.append(np.nanmean(data))\n",
    "#                 calculated_features.append(np.nanstd(data))\n",
    "                \n",
    "            elif var in vars_class2:\n",
    "                calculated_features.append(np.nanmean(data))\n",
    "                calculated_features.append(np.nanstd(data))\n",
    "                calculated_features.append(np.nanmin(data))\n",
    "                calculated_features.append(np.nanmax(data))\n",
    "            else:\n",
    "                calculated_features.append(np.nanmean(data))\n",
    "#                 calculated_features.append(np.nanstd(data))\n",
    "                \n",
    "        aggregated_dataframe.append(calculated_features)\n",
    "        \n",
    "    aggregated_dataframe = pd.DataFrame(aggregated_dataframe)\n",
    "    return(aggregated_dataframe)\n",
    " \n",
    "train_pids = df_train_features['pid'].unique()\n",
    "df_train_agg_features = aggregation_technique(df_train_features, df_train_features.columns.drop(\"pid\"), train_pids, vars_classes)"
   ]
  },
  {
   "cell_type": "code",
   "execution_count": null,
   "metadata": {},
   "outputs": [],
   "source": [
    "print(df_train_agg_features.shape)\n",
    "print(df_train_agg_features.columns)\n",
    "print(df_train_agg_features)\n",
    "# pd.DataFrame(data_train_scaled)"
   ]
  },
  {
   "cell_type": "code",
   "execution_count": null,
   "metadata": {},
   "outputs": [],
   "source": [
    "# print(train_pids[1:50])\n",
    "# print(df_train_labels['pid'].tolist()[1:50])\n",
    "print(np.nanmean(df_train_features['Age'].tolist()))\n",
    "print(np.nanvar(df_train_features['Age'].tolist()))"
   ]
  },
  {
   "cell_type": "code",
   "execution_count": null,
   "metadata": {},
   "outputs": [],
   "source": [
    "# # Run the imputer with a simple Random Forest estimator\n",
    "# imp = IterativeImputer(RandomForestRegressor(n_estimators=5), max_iter=10, random_state=1)\n",
    "\n",
    "# #perform filling\n",
    "# df_train_agg_imputed_features = pd.DataFrame(imp.fit_transform(df_train_agg_features), columns=df_train_agg_features.columns)"
   ]
  },
  {
   "cell_type": "code",
   "execution_count": null,
   "metadata": {},
   "outputs": [],
   "source": [
    "# impute missing data points\n",
    "#imp = SimpleImputer(strategy=\"mean\")\n",
    "imputer = KNNImputer(n_neighbors = 10)\n",
    "\n",
    "df_train_agg_imputed_features = imputer.fit_transform(df_train_agg_features)"
   ]
  },
  {
   "cell_type": "code",
   "execution_count": null,
   "metadata": {},
   "outputs": [],
   "source": [
    "# scale the data\n",
    "min_max_scaler = preprocessing.StandardScaler()\n",
    "# standard_scalar = preprocessing.StandardScaler()\n",
    "\n",
    "data_train_scaled = min_max_scaler.fit_transform(df_train_agg_imputed_features)"
   ]
  },
  {
   "cell_type": "code",
   "execution_count": null,
   "metadata": {},
   "outputs": [],
   "source": [
    "# Visualizing the training data after imputing and aggregating\n",
    "\n",
    "plt.figure(figsize=(16, 16))\n",
    "ax = sns.boxplot(data = pd.DataFrame(data_train_scaled))\n",
    "ax.set_xticklabels(\n",
    "    list(df_train_features),\n",
    "    rotation=90,\n",
    "    horizontalalignment='right'\n",
    ");"
   ]
  },
  {
   "cell_type": "code",
   "execution_count": null,
   "metadata": {},
   "outputs": [],
   "source": [
    "# What is the correlation between the \n",
    "pd.DataFrame(data_train_scaled).corrwith(other = pd.DataFrame(df_train_agg_imputed_features), method = \"spearman\").transpose()"
   ]
  },
  {
   "cell_type": "markdown",
   "metadata": {},
   "source": [
    "### PCA plot "
   ]
  },
  {
   "cell_type": "code",
   "execution_count": null,
   "metadata": {
    "jupyter": {
     "source_hidden": true
    }
   },
   "outputs": [],
   "source": [
    "pca = PCA(n_components=2)\n",
    "\n",
    "principalComponents = pca.fit_transform(data_train_scaled)\n",
    "principalDf = pd.DataFrame(data = principalComponents\n",
    "             , columns = ['principal component 1', 'principal component 2'])\n",
    "\n",
    "finalDf = pd.concat([principalDf, df_train_labels[[df_train_labels.columns[1]]]], axis = 1)\n",
    "\n",
    "fig = plt.figure(figsize = (8,8))\n",
    "ax = fig.add_subplot(1,1,1) \n",
    "ax.set_xlabel('Principal Component 1', fontsize = 15)\n",
    "ax.set_ylabel('Principal Component 2', fontsize = 15)\n",
    "ax.set_title('2 component PCA for label i', fontsize = 20)\n",
    "targets = [0, 1]\n",
    "colors = ['r', 'g', 'b']\n",
    "for target, color in zip(targets,colors):\n",
    "    indicesToKeep = finalDf[df_train_labels.columns[1]] == target\n",
    "    ax.scatter(finalDf.loc[indicesToKeep, 'principal component 1']\n",
    "               , finalDf.loc[indicesToKeep, 'principal component 2']\n",
    "               , c = color\n",
    "               , s = 50)\n",
    "ax.legend(targets)\n",
    "ax.grid()"
   ]
  },
  {
   "cell_type": "markdown",
   "metadata": {},
   "source": [
    "### Test Data pre-processing"
   ]
  },
  {
   "cell_type": "code",
   "execution_count": null,
   "metadata": {},
   "outputs": [],
   "source": [
    "test_pids = df_test_features['pid'].unique()\n",
    "df_test_agg_features = aggregation_technique(df_test_features, df_test_features.columns.drop(\"pid\"),\n",
    "                                             test_pids, vars_classes)"
   ]
  },
  {
   "cell_type": "code",
   "execution_count": null,
   "metadata": {},
   "outputs": [],
   "source": [
    "print(df_test_agg_features.isna().sum(axis = 0).tolist()[0:100])\n",
    "print(df_train_agg_features.isna().sum(axis = 0).tolist()[0:100])"
   ]
  },
  {
   "cell_type": "code",
   "execution_count": null,
   "metadata": {},
   "outputs": [],
   "source": [
    "# impute missing data points\n",
    "# should we impute it with the same imputer that we've used for train?\n",
    "\n",
    "imputer = KNNImputer(n_neighbors= 10)\n",
    "df_test_agg_imputed_features = imputer.fit_transform(df_test_agg_features)"
   ]
  },
  {
   "cell_type": "code",
   "execution_count": null,
   "metadata": {},
   "outputs": [],
   "source": [
    "# scale test data\n",
    "min_max_scaler = preprocessing.StandardScaler()\n",
    "data_test_scaled = min_max_scaler.fit_transform(df_test_agg_imputed_features)"
   ]
  },
  {
   "cell_type": "code",
   "execution_count": null,
   "metadata": {},
   "outputs": [],
   "source": [
    "pd.DataFrame(data_train_scaled).to_csv(\"./Results/dat_train_robust_scaled.csv\", index = False)\n",
    "pd.DataFrame(data_test_scaled).to_csv(\"./Results/dat_test_robust_scaled.csv\", index = False)"
   ]
  },
  {
   "cell_type": "code",
   "execution_count": null,
   "metadata": {},
   "outputs": [],
   "source": [
    "# If want to run from here:\n",
    "# data_train_scaled = pd.read_csv(\"./Results/dat_train_scaled.csv\")\n",
    "# data_test_scaled = pd.read_csv(\"./Results/dat_test_scaled.csv\")"
   ]
  },
  {
   "cell_type": "markdown",
   "metadata": {},
   "source": [
    "## Fit a model & Predict"
   ]
  },
  {
   "cell_type": "markdown",
   "metadata": {},
   "source": [
    "### predict with support vector machine classification and use probabilities"
   ]
  },
  {
   "cell_type": "code",
   "execution_count": null,
   "metadata": {},
   "outputs": [],
   "source": [
    "print(list(set(df_test_features.pid))[1:30])\n",
    "test_pids = df_test_features['pid'].unique()\n",
    "print(test_pids[1:30])"
   ]
  },
  {
   "cell_type": "code",
   "execution_count": null,
   "metadata": {},
   "outputs": [],
   "source": [
    "# first for the labels that have an output [0,1]\n",
    "columns_1 = [test_pids]\n",
    "\n",
    "from sklearn.utils import resample\n",
    "\n",
    "for i in range(1, 12):\n",
    "    \n",
    "    # feature selection\n",
    "    transformer =  GenericUnivariateSelect(score_func= mutual_info_classif, mode ='k_best', param=45)\n",
    "    train_features = pd.DataFrame(transformer.fit_transform(data_train_scaled, df_train_labels.iloc[:,i]))\n",
    "    print(\"For feature \", df_train_labels.columns[i])\n",
    "#     print(df_train_agg_features.columns[transformer.get_support(indices = True)])\n",
    "    test_features = pd.DataFrame(transformer.transform(data_test_scaled))\n",
    "\n",
    "    \n",
    "    #clf = BaggingClassifier(SVC(kernel = 'poly', degree = 5, class_weight = 'balanced', verbose = True, C = 10))\n",
    "    clf_w = SVC(kernel = 'rbf', class_weight = {0:1,1:50}, verbose = 2)\n",
    "    \n",
    "    parameters = {'C':(0.1, 1, 10, 20)}\n",
    "    clf = model_selection.GridSearchCV(estimator= clf_w, param_grid = parameters, cv = 5,\n",
    "                                        refit = True, scoring = 'roc_auc', verbose = 2,\n",
    "                                       n_jobs=6, return_train_score = True)\n",
    "    \n",
    "#     weight_multiplier = 2\n",
    "#     class_1 = df_train_labels.iloc[:,i] == 1\n",
    "#     class_0 = df_train_labels.iloc[:,i] == 0\n",
    "\n",
    "#     samples_count = int(np.sum(class_1)) * weight_multiplier\n",
    "#     X = resample(train_features.loc[class_0,:],\n",
    "#                     n_samples = samples_count, replace = False, random_state=0)\n",
    "#     data_train = pd.concat([pd.DataFrame(X), pd.DataFrame(train_features.loc[class_1,:])], axis = 0)\n",
    "#     data_label = ([0] * samples_count) + ([1] * int(samples_count / weight_multiplier))\n",
    "#     print(data_train.shape)\n",
    "#     print(len(data_label))\n",
    "\n",
    "    clf.fit(train_features, df_train_labels.iloc[:,i])\n",
    "#     clf.fit(train_features, labels)\n",
    "    \n",
    "#     print(clf.cv_results_)\n",
    "    print(clf.best_params_)\n",
    "    print(clf.best_score_)\n",
    "    # compute probabilites as opposed to predictions\n",
    "    #dual_coefficients = clf.dual_coef_    # do we have to normalize with norm of this vector ?\n",
    "    \n",
    "    distance_hyperplane = clf.decision_function(test_features)\n",
    "    probability = np.empty(len(distance_hyperplane))\n",
    "    for j in range(0, len(probability)):\n",
    "        if distance_hyperplane[j] < 0:\n",
    "            probability[j] = 1 - 1/(1 + math.exp(distance_hyperplane[j]))\n",
    "        else:\n",
    "            probability[j] = 1/(1 + math.exp(-distance_hyperplane[j]))\n",
    "    columns_1.append(probability)\n",
    "\n",
    "    \n",
    "    distance_hyperplace_train = clf.decision_function(train_features)\n",
    "    probability_train = np.empty(len(distance_hyperplace_train))\n",
    "    for j in range(0, len(probability_train)):\n",
    "        if distance_hyperplace_train[j] < 0:\n",
    "            probability_train[j] = 1 - 1/(1 + math.exp(distance_hyperplace_train[j]))\n",
    "        else:\n",
    "            probability_train[j] = 1/(1 + math.exp(-distance_hyperplace_train[j]))\n",
    "    \n",
    "    tmp = roc_auc_score(y_score= probability_train, y_true= df_train_labels.iloc[:,i])\n",
    "    print(\"ROC AUC for feature\", list(df_train_labels)[i] , \" : \", tmp)\n",
    "    \n",
    "    svc_disp = plot_roc_curve(clf, train_features, df_train_labels.iloc[:,i])\n",
    "    plt.show()\n",
    "    break"
   ]
  },
  {
   "cell_type": "code",
   "execution_count": null,
   "metadata": {},
   "outputs": [],
   "source": [
    "# labels that have a real value\n",
    "columns_2 = []\n",
    "# from sklearn.kernel_ridge import KernelRidge\n",
    "\n",
    "for i in range(12, 16):\n",
    "    # feature selection\n",
    "    transformer =  GenericUnivariateSelect(score_func= mutual_info_regression, mode ='k_best', param =80)\n",
    "    train_features = transformer.fit_transform(data_train_scaled, df_train_labels.iloc[:,i])\n",
    "#     print(df_train_agg_features.columns[transformer.get_support(indices = True)])\n",
    "    test_features = transformer.transform(data_test_scaled)\n",
    "    \n",
    "    clf_w = SVR(kernel = 'rbf', cache_size = 6000)\n",
    "# #     clf_w = NuSVR(nu=0.5, kernel = 'linear')\n",
    "    parameters = {'C':(0.1, 1,10, 20)}\n",
    "    clf = model_selection.GridSearchCV(estimator= clf_w, param_grid = parameters, cv = 10,\n",
    "                                       refit = True, scoring = 'r2', verbose = 2, n_jobs=6)\n",
    "#     clf = KernelRidge(kernel = 'poly', degree = 5)\n",
    "#     parameters = {'alpha':(0.1,1,10,30)}\n",
    "#     clf = model_selection.GridSearchCV(estimator= clf, param_grid = parameters, cv = 3,\n",
    "#                                       refit = True, scoring = 'r2', verbose = 2, n_jobs=6)\n",
    "    clf.fit(train_features, df_train_labels.iloc[:,i])\n",
    "    \n",
    "#     print(clf.cv_results_)\n",
    "    print(clf.best_params_)\n",
    "    print(clf.best_score_)\n",
    "\n",
    "    pred_train = clf.predict(train_features)\n",
    "    tmp = r2_score(y_pred= pred_train, y_true=df_train_labels.iloc[:,i])\n",
    "    print(\"R2 for feature\", list(df_train_labels)[i] , \" : \", tmp)\n",
    "    \n",
    "    pred = clf.predict(test_features)\n",
    "    columns_2.append(pred)\n",
    "    "
   ]
  },
  {
   "cell_type": "code",
   "execution_count": null,
   "metadata": {},
   "outputs": [],
   "source": [
    "columns_final = columns_1 + columns_2"
   ]
  },
  {
   "cell_type": "markdown",
   "metadata": {},
   "source": [
    "### predict with Support vector regression and then compute sigmoid function"
   ]
  },
  {
   "cell_type": "code",
   "execution_count": null,
   "metadata": {
    "jupyter": {
     "source_hidden": true
    }
   },
   "outputs": [],
   "source": [
    "# first for the labels that have an output [0,1]\n",
    "\n",
    "# columns_1 = [test_pids]\n",
    "\n",
    "# for i in range(1,12):\n",
    "    \n",
    "#     clf = SVR(kernel = 'poly', degree = 3, max_iter = 10000)\n",
    "#     clf.fit(data_train_scaled, df_train_labels.iloc[:,i])\n",
    "#     pred = clf.predict(data_test_scaled)\n",
    "#     prob = np.empty(len(pred))\n",
    "#     for j in range(0, len(pred)):\n",
    "#         prob[j] = 1 / (1 + math.exp(-pred[j]))\n",
    "#     columns_1.append(prob)\n",
    "    \n",
    "#     pred_train = clf.predict(data_train_scaled)\n",
    "#     prob_train = np.empty(len(pred_train))\n",
    "#     for j in range(0, len(pred_train)):\n",
    "#         prob_train[j] = 1 / (1 + math.exp(-pred_train[j]))    \n",
    "#     tmp = roc_auc_score(y_score= prob_train, y_true= df_train_labels.iloc[:,i])\n",
    "#     print(\"ROC AUC for feature\", list(df_train_labels)[i] , \" : \", tmp)\n"
   ]
  },
  {
   "cell_type": "code",
   "execution_count": null,
   "metadata": {
    "jupyter": {
     "source_hidden": true
    },
    "scrolled": true
   },
   "outputs": [],
   "source": [
    "#labels that have a real value\n",
    "from sklearn.metrics import make_scorer\n",
    "columns_2 = []\n",
    "\n",
    "\n",
    "for i in range(12, 16):\n",
    "    # feature selection\n",
    "    transformer =  GenericUnivariateSelect(score_func= f_regression, mode ='k_best', param=40)\n",
    "    train_features = transformer.fit_transform(data_train_scaled, df_train_labels.iloc[:,i])\n",
    "    print(data_train_scaled.columns[transformer.get_support(indices = True)])\n",
    "    test_features = transformer.transform(data_test_scaled)\n",
    "    \n",
    "    if(i == 14):\n",
    "        # Bagging the regressor have been tried, does not help\n",
    "        clf_w = SVR(kernel = 'rbf', tol = 1e-4, cache_size= 7000)\n",
    "        \n",
    "        # This parameter vector have been tried, 1 is the best\n",
    "        #parameters = {'base_estimator__C':(0.001, 0.01, 0.1, 1,10, 20)}\n",
    "        #parameters = {'C':np.linspace(0.1,1,10)}\n",
    "        parameters = {'C':(0.001, 0.01, 0.1, 0.5, 1,10)}\n",
    "    else:\n",
    "        clf_w = LinearSVR()\n",
    "        parameters = {'C':(0.001, 0.001, 0.01, 0.1,1,10)}\n",
    "        \n",
    "    clf = model_selection.GridSearchCV(estimator= clf_w, param_grid = parameters, cv = 5,\n",
    "                                       refit = True, scoring = make_scorer(r2_score), verbose = 2,\n",
    "                                       n_jobs=6, return_train_score = True)\n",
    "    clf.fit(train_features, df_train_labels.iloc[:,i])\n",
    "        \n",
    "    print(clf.cv_results_['mean_train_score'])\n",
    "    print(clf.cv_results_['mean_test_score'])\n",
    "    print(clf.best_params_)\n",
    "    print(clf.best_score_)\n",
    "    \n",
    "    pred = clf.predict(test_features)\n",
    "    columns_2.append(pred)\n",
    "    \n",
    "    pred_train = clf.predict(train_features)\n",
    "    tmp = r2_score(y_pred= pred_train, y_true=df_train_labels.iloc[:,i])\n",
    "    print(\"R2 for feature\", list(df_train_labels)[i] , \" : \", tmp)\n"
   ]
  },
  {
   "cell_type": "code",
   "execution_count": null,
   "metadata": {},
   "outputs": [],
   "source": [
    "transformer =  GenericUnivariateSelect(score_func= mutual_info_regression, mode ='k_best', param=60)\n",
    "train_features = transformer.fit_transform(data_train_scaled, df_train_labels.iloc[:,14])\n",
    "test_features = transformer.transform(data_test_scaled)"
   ]
  },
  {
   "cell_type": "code",
   "execution_count": null,
   "metadata": {},
   "outputs": [],
   "source": [
    "# df_train_agg_features.columns[transformer.get_support(indices = True)]\n",
    "print(data_train_scaled.columns[transformer.get_support(indices = True)])\n",
    "# transformer.get_support(indices = True)\n",
    "# print(list(df_train_agg_features))"
   ]
  },
  {
   "cell_type": "code",
   "execution_count": null,
   "metadata": {},
   "outputs": [],
   "source": [
    "columns_final = columns_1 + columns_2"
   ]
  },
  {
   "cell_type": "markdown",
   "metadata": {},
   "source": [
    "### Random forest"
   ]
  },
  {
   "cell_type": "code",
   "execution_count": null,
   "metadata": {},
   "outputs": [],
   "source": [
    "# Random forest Classifier\n",
    "columns_1 = [test_pids]\n",
    "for i in range(1, 12):\n",
    "    clf = RandomForestClassifier(min_samples_leaf=2, class_weight='balanced', oob_score=False, bootstrap=False)\n",
    "    clf.fit(data_train_scaled, df_train_labels.iloc[:,i])\n",
    "    print(clf.oob_score)\n",
    "    # compute probabilites as opposed to predictions\n",
    "    probability = clf.apply(data_test_scaled)\n",
    "    probs = [i[1] for i in probability] \n",
    "    columns_1.append(probs)\n",
    "    \n",
    "    \n",
    "    probability = clf.predict_proba(data_train_scaled)\n",
    "\n",
    "    probs = [i[1] for i in probability]            \n",
    "    tmp = roc_auc_score(y_score= probs, y_true= df_train_labels.iloc[:,i])\n",
    "    print(\"ROC AUC for feature\", list(df_train_labels)[i] , \" : \", tmp)"
   ]
  },
  {
   "cell_type": "markdown",
   "metadata": {},
   "source": [
    "# Kernelized Logistic Regression"
   ]
  },
  {
   "cell_type": "code",
   "execution_count": null,
   "metadata": {},
   "outputs": [],
   "source": [
    "from sklearn.utils import resample\n",
    "i = 1\n",
    "\n",
    "# transformer =  GenericUnivariateSelect(score_func= mutual_info_classif, mode ='k_best', param = 40)\n",
    "# train_features = transformer.fit_transform(data_train_scaled, df_train_labels.iloc[:,i])\n",
    "# #     print(df_train_agg_features.columns[transformer.get_support(indices = True)])\n",
    "# test_features = transformer.transform(data_test_scaled)\n",
    "\n",
    "\n",
    "class_1 = df_train_labels.iloc[:,i] == 1\n",
    "class_0 = df_train_labels.iloc[:,i] == 0\n",
    "print(np.where(class_0)[0])\n",
    "\n",
    "weight_multiplier = 2\n",
    "samples_count = int(np.sum(df_train_labels.iloc[:,i])) * weight_multiplier\n",
    "X = resample(train_features[np.where(class_0)[0]],\n",
    "                n_samples = samples_count, replace = False, random_state=0)\n",
    "data_train = pd.concat([pd.DataFrame(X), pd.DataFrame(train_features[np.where(class_1)[0]])], axis = 0)\n",
    "data_label = ([0] * samples_count) + ([1] * int(samples_count / weight_multiplier))\n",
    "\n",
    "print(data_train.shape)\n",
    "print(len(data_label))\n",
    "\n",
    "weights = data_train.shape[0] / (2 * np.bincount(df_train_labels.iloc[:,i]))\n",
    "print(weights[0])\n",
    "print(np.sum(class_1))\n",
    "print(np.sum(class_0))"
   ]
  },
  {
   "cell_type": "code",
   "execution_count": null,
   "metadata": {},
   "outputs": [
    {
     "name": "stdout",
     "output_type": "stream",
     "text": [
      "Fitting 10 folds for each of 9 candidates, totalling 90 fits\n"
     ]
    },
    {
     "name": "stderr",
     "output_type": "stream",
     "text": [
      "[Parallel(n_jobs=6)]: Using backend LokyBackend with 6 concurrent workers.\n",
      "[Parallel(n_jobs=6)]: Done  38 tasks      | elapsed:    5.5s\n",
      "[Parallel(n_jobs=6)]: Done  90 out of  90 | elapsed:  1.1min finished\n"
     ]
    },
    {
     "name": "stdout",
     "output_type": "stream",
     "text": [
      "[0.69549482 0.71180138 0.77042003 0.81518222 0.84427816 0.85778303\n",
      " 0.86133579 0.8635623  0.86433987]\n",
      "[0.69515795 0.7112082  0.76900971 0.81174772 0.83659428 0.84626528\n",
      " 0.84817965 0.84895781 0.84905474]\n",
      "{'C': 30}\n",
      "0.8490547432635986\n",
      "ROC AUC for feature LABEL_BaseExcess  :  0.8637598570783642\n"
     ]
    },
    {
     "data": {
      "image/png": "[encoded data removed]",
      "text/plain": [
       "<Figure size 432x288 with 1 Axes>"
      ]
     },
     "metadata": {
      "needs_background": "light"
     },
     "output_type": "display_data"
    },
    {
     "name": "stdout",
     "output_type": "stream",
     "text": [
      "Fitting 10 folds for each of 9 candidates, totalling 90 fits\n"
     ]
    },
    {
     "name": "stderr",
     "output_type": "stream",
     "text": [
      "[Parallel(n_jobs=6)]: Using backend LokyBackend with 6 concurrent workers.\n",
      "[Parallel(n_jobs=6)]: Done  38 tasks      | elapsed:    4.4s\n",
      "[Parallel(n_jobs=6)]: Done  90 out of  90 | elapsed:  1.2min finished\n"
     ]
    },
    {
     "name": "stdout",
     "output_type": "stream",
     "text": [
      "[0.72180835 0.72353952 0.73008667 0.74619409 0.76941485 0.78312062\n",
      " 0.7895626  0.79581795 0.79914828]\n",
      "[0.72135117 0.72296053 0.7277962  0.7408822  0.75509168 0.75767237\n",
      " 0.75779242 0.75821738 0.75806689]\n",
      "{'C': 20}\n",
      "0.7582173798433658\n",
      "ROC AUC for feature LABEL_Fibrinogen  :  0.7942564649048025\n"
     ]
    },
    {
     "data": {
      "image/png": "[encoded data removed]",
      "text/plain": [
       "<Figure size 432x288 with 1 Axes>"
      ]
     },
     "metadata": {
      "needs_background": "light"
     },
     "output_type": "display_data"
    },
    {
     "name": "stdout",
     "output_type": "stream",
     "text": [
      "Fitting 10 folds for each of 9 candidates, totalling 90 fits\n"
     ]
    },
    {
     "name": "stderr",
     "output_type": "stream",
     "text": [
      "[Parallel(n_jobs=6)]: Using backend LokyBackend with 6 concurrent workers.\n",
      "[Parallel(n_jobs=6)]: Done  38 tasks      | elapsed:    3.7s\n",
      "[Parallel(n_jobs=6)]: Done  90 out of  90 | elapsed:   56.8s finished\n"
     ]
    },
    {
     "name": "stdout",
     "output_type": "stream",
     "text": [
      "[0.62212676 0.62540862 0.63783363 0.65827825 0.68897964 0.7040258\n",
      " 0.70704636 0.70860552 0.70906508]\n",
      "[0.62133882 0.62440517 0.63545739 0.64986397 0.66843929 0.67505123\n",
      " 0.67539529 0.67501262 0.67472696]\n",
      "{'C': 10}\n",
      "0.6753952886417527\n",
      "ROC AUC for feature LABEL_AST  :  0.7057167812926628\n"
     ]
    },
    {
     "data": {
      "image/png": "[encoded data removed]",
      "text/plain": [
       "<Figure size 432x288 with 1 Axes>"
      ]
     },
     "metadata": {
      "needs_background": "light"
     },
     "output_type": "display_data"
    },
    {
     "name": "stdout",
     "output_type": "stream",
     "text": [
      "Fitting 10 folds for each of 9 candidates, totalling 90 fits\n"
     ]
    },
    {
     "name": "stderr",
     "output_type": "stream",
     "text": [
      "[Parallel(n_jobs=6)]: Using backend LokyBackend with 6 concurrent workers.\n",
      "[Parallel(n_jobs=6)]: Done  38 tasks      | elapsed:    3.7s\n",
      "[Parallel(n_jobs=6)]: Done  90 out of  90 | elapsed:   57.5s finished\n"
     ]
    },
    {
     "name": "stdout",
     "output_type": "stream",
     "text": [
      "[0.62337713 0.6267233  0.63928331 0.66125171 0.69438009 0.70953053\n",
      " 0.71252365 0.71406717 0.71452971]\n",
      "[0.62240369 0.62555425 0.63657323 0.65310339 0.67460589 0.68012781\n",
      " 0.68000013 0.67922512 0.67873482]\n",
      "{'C': 5}\n",
      "0.6801278131420561\n",
      "ROC AUC for feature LABEL_Alkalinephos  :  0.7084553428220078\n"
     ]
    },
    {
     "data": {
      "image/png": "[encoded data removed]",
      "text/plain": [
       "<Figure size 432x288 with 1 Axes>"
      ]
     },
     "metadata": {
      "needs_background": "light"
     },
     "output_type": "display_data"
    },
    {
     "name": "stdout",
     "output_type": "stream",
     "text": [
      "Fitting 10 folds for each of 9 candidates, totalling 90 fits\n"
     ]
    },
    {
     "name": "stderr",
     "output_type": "stream",
     "text": [
      "[Parallel(n_jobs=6)]: Using backend LokyBackend with 6 concurrent workers.\n",
      "[Parallel(n_jobs=6)]: Done  38 tasks      | elapsed:    3.6s\n",
      "[Parallel(n_jobs=6)]: Done  90 out of  90 | elapsed:   56.5s finished\n"
     ]
    },
    {
     "name": "stdout",
     "output_type": "stream",
     "text": [
      "[0.62587135 0.62949277 0.64236436 0.66331542 0.69437946 0.7093533\n",
      " 0.71250128 0.7141927  0.71471454]\n",
      "[0.62488057 0.62837663 0.63988511 0.65553748 0.67527084 0.68151006\n",
      " 0.68165409 0.68106991 0.68057924]\n",
      "{'C': 10}\n",
      "0.6816540876641575\n",
      "ROC AUC for feature LABEL_Bilirubin_total  :  0.7111646522987307\n"
     ]
    },
    {
     "data": {
      "image/png": "[encoded data removed]",
      "text/plain": [
       "<Figure size 432x288 with 1 Axes>"
      ]
     },
     "metadata": {
      "needs_background": "light"
     },
     "output_type": "display_data"
    },
    {
     "name": "stdout",
     "output_type": "stream",
     "text": [
      "Fitting 10 folds for each of 9 candidates, totalling 90 fits\n"
     ]
    },
    {
     "name": "stderr",
     "output_type": "stream",
     "text": [
      "[Parallel(n_jobs=6)]: Using backend LokyBackend with 6 concurrent workers.\n",
      "[Parallel(n_jobs=6)]: Done  38 tasks      | elapsed:    3.5s\n",
      "[Parallel(n_jobs=6)]: Done  90 out of  90 | elapsed:  1.1min finished\n"
     ]
    },
    {
     "name": "stdout",
     "output_type": "stream",
     "text": [
      "[0.710073   0.71237952 0.7251167  0.74845223 0.76835836 0.77954478\n",
      " 0.78316331 0.78596189 0.78724347]\n",
      "[0.7093426  0.71156447 0.72372511 0.74523485 0.76090937 0.76667148\n",
      " 0.76734542 0.76738552 0.76713887]\n",
      "{'C': 20}\n",
      "0.7673855191292317\n",
      "ROC AUC for feature LABEL_Lactate  :  0.7851969157134199\n"
     ]
    },
    {
     "data": {
      "image/png": "[encoded data removed]",
      "text/plain": [
       "<Figure size 432x288 with 1 Axes>"
      ]
     },
     "metadata": {
      "needs_background": "light"
     },
     "output_type": "display_data"
    },
    {
     "name": "stdout",
     "output_type": "stream",
     "text": [
      "Fitting 10 folds for each of 9 candidates, totalling 90 fits\n"
     ]
    },
    {
     "name": "stderr",
     "output_type": "stream",
     "text": [
      "[Parallel(n_jobs=6)]: Using backend LokyBackend with 6 concurrent workers.\n"
     ]
    }
   ],
   "source": [
    "# first for the labels that have an output [0,1]\n",
    "columns_1 = [test_pids]\n",
    "\n",
    "from sklearn.linear_model import LogisticRegression\n",
    "from sklearn.kernel_approximation import Nystroem\n",
    "from sklearn.model_selection import StratifiedKFold, KFold\n",
    "from sklearn.metrics import plot_roc_curve\n",
    "\n",
    "for i in range(1, 12):\n",
    "    #     feature selection\n",
    "    transformer =  GenericUnivariateSelect(score_func= f_classif, mode ='k_best', param = 45)\n",
    "    train_features = transformer.fit_transform(data_train_scaled, df_train_labels.iloc[:,i])\n",
    "#     print(df_train_agg_features.columns[transformer.get_support(indices = True)])\n",
    "    test_features = transformer.transform(data_test_scaled)\n",
    "\n",
    "    feature_map_nystroem = Nystroem(kernel = 'rbf',\n",
    "                                 random_state=1,\n",
    "                                 n_components=300)\n",
    "    \n",
    "    train_transformed = feature_map_nystroem.fit_transform(train_features)\n",
    "    test_transformed = feature_map_nystroem.transform(test_features)\n",
    "\n",
    "#     weights = data_train.shape[0] / (2 * np.bincount(df_train_labels.iloc[:,i]))\n",
    "#     class_1_multiplier = 2\n",
    "#     print(np.sum(class_1))\n",
    "#     print(np.sum(class_0))\n",
    "#     class_weight = {0:weights[0], 1:(class_1_multiplier*weights[1])}\n",
    "    clf_w = LogisticRegression(penalty = 'l2', class_weight = 'balanced',\n",
    "                                                               fit_intercept= True, max_iter=10000)\n",
    "    \n",
    "    # checked before\n",
    "    #parameters = {'alpha':(0.0001, 0.001, 0.01, 0.1, 1, 5, 10, 20, 30)}\n",
    "    parameters = {'C':(0.0001, 0.001, 0.01, 0.1, 1, 5, 10, 20, 30)}\n",
    "    \n",
    "    skf = StratifiedKFold(n_splits=10, shuffle = True, random_state = 1)\n",
    "    \n",
    "    clf = model_selection.GridSearchCV(estimator= clf_w, param_grid = parameters, cv = skf,\n",
    "                                        refit = True, scoring = 'roc_auc', verbose = 1,\n",
    "                                       n_jobs=6, return_train_score = True)\n",
    "    clf.fit(train_transformed, df_train_labels.iloc[:,i])\n",
    "    \n",
    "    print(clf.cv_results_['mean_train_score'])\n",
    "    print(clf.cv_results_['mean_test_score'])\n",
    "    print(clf.best_params_)\n",
    "    print(clf.best_score_)\n",
    "#     print(\"Class weightt is \", clf_w.class_weight_)\n",
    " \n",
    "    probability_tmp = clf.predict_proba(test_transformed)\n",
    "    probability = [item[1] for item in probability_tmp]\n",
    "    columns_1.append(probability)\n",
    "\n",
    "    probability_tmp = clf.predict_proba(train_transformed)\n",
    "    probability_train = [item[1] for item in probability_tmp]\n",
    "    tmp = roc_auc_score(y_score= probability_train, y_true= df_train_labels.iloc[:,i])\n",
    "    print(\"ROC AUC for feature\", list(df_train_labels)[i] , \" : \", tmp)\n",
    "    \n",
    "    svc_disp = plot_roc_curve(clf, train_transformed, df_train_labels.iloc[:,i])\n",
    "    plt.show()"
   ]
  },
  {
   "cell_type": "markdown",
   "metadata": {},
   "source": [
    "# Compute the kernel and use SGD Classifier and Regressor"
   ]
  },
  {
   "cell_type": "code",
   "execution_count": null,
   "metadata": {
    "scrolled": true
   },
   "outputs": [],
   "source": [
    "# first for the labels that have an output [0,1]\n",
    "columns_1 = [test_pids]\n",
    "\n",
    "# from sklearn.kernel_ridge import KernelRidge\n",
    "from sklearn.kernel_approximation import Nystroem\n",
    "from sklearn import linear_model\n",
    "\n",
    "\n",
    "for i in range(1, 12):\n",
    "   \n",
    "    # feature selection\n",
    "    transformer =  GenericUnivariateSelect(score_func= mutual_info_classif, mode ='k_best', param=70)\n",
    "    train_features = transformer.fit_transform(data_train_scaled, df_train_labels.iloc[:,i])\n",
    "    print(\"For feature \", df_train_labels.columns[i])\n",
    "#     print(df_train_agg_features.columns[transformer.get_support(indices = True)])\n",
    "    test_features = transformer.transform(data_test_scaled)\n",
    "\n",
    "    \n",
    "    feature_map_nystroem = Nystroem(kernel = 'rbf',\n",
    "                                 random_state=1,\n",
    "                                 n_components=300)\n",
    "    train_transformed = feature_map_nystroem.fit_transform(train_features)\n",
    "    test_transformed = feature_map_nystroem.transform(test_features)\n",
    "    \n",
    "    clf_w = linear_model.SGDClassifier(max_iter=100000, tol=1e-4, penalty = \"l2\", \n",
    "                                       loss = \"epsilon_insensitive\", class_weight={0:1, 1:500})\n",
    "    # checked before\n",
    "    #parameters = {'alpha':(0.0001, 0.001, 0.01, 0.1, 1, 5, 10, 20, 30)}\n",
    "    parameters = {'alpha':(0.1, 1, 5, 10)}\n",
    "    \n",
    "    clf = model_selection.GridSearchCV(estimator= clf_w, param_grid = parameters, cv = 10,\n",
    "                                        refit = True, scoring = 'roc_auc', verbose = 1,\n",
    "                                       n_jobs=6, return_train_score = True)\n",
    "    clf.fit(train_transformed, df_train_labels.iloc[:,i])\n",
    "    \n",
    "#     print(clf.cv_results_)\n",
    "    print(clf.best_params_)\n",
    "    print(clf.best_score_)\n",
    "    # compute probabilites as opposed to predictions\n",
    "    #dual_coefficients = clf.dual_coef_    # do we have to normalize with norm of this vector ?\n",
    "    \n",
    "    distance_hyperplane = clf.decision_function(test_transformed)\n",
    "    probability = np.empty(len(distance_hyperplane))\n",
    "    for j in range(0, len(probability)):\n",
    "        if distance_hyperplane[j] < 0:\n",
    "            probability[j] = 1 - 1/(1 + math.exp(distance_hyperplane[j]))\n",
    "        else:\n",
    "            probability[j] = 1/(1 + math.exp(-distance_hyperplane[j]))\n",
    "    columns_1.append(probability)\n",
    "\n",
    "    \n",
    "    distance_hyperplace_train = clf.decision_function(train_transformed)\n",
    "    probability = np.empty(len(distance_hyperplace_train))\n",
    "    for j in range(0, len(probability)):\n",
    "        if distance_hyperplace_train[j] < 0:\n",
    "            probability[j] = 1 - 1/(1 + math.exp(distance_hyperplace_train[j]))\n",
    "        else:\n",
    "            probability[j] = 1/(1 + math.exp(-distance_hyperplace_train[j]))\n",
    "    \n",
    "    tmp = roc_auc_score(y_score= probability, y_true= df_train_labels.iloc[:,i])\n",
    "    print(\"ROC AUC for feature\", list(df_train_labels)[i] , \" : \", tmp)\n",
    "    "
   ]
  },
  {
   "cell_type": "code",
   "execution_count": null,
   "metadata": {},
   "outputs": [],
   "source": [
    "# labels that have a real value\n",
    "columns_2 = []\n",
    "\n",
    "for i in range(12, 16):\n",
    "#     feature selection\n",
    "    transformer =  GenericUnivariateSelect(score_func= mutual_info_regression, mode ='k_best', param = 40)\n",
    "    train_features = transformer.fit_transform(data_train_scaled, df_train_labels.iloc[:,i])\n",
    "#     print(df_train_agg_features.columns[transformer.get_support(indices = True)])\n",
    "    test_features = transformer.transform(data_test_scaled)\n",
    "    \n",
    "    feature_map_nystroem = Nystroem(kernel = 'rbf',\n",
    "                                 random_state=1,\n",
    "                                 n_components=200)\n",
    "    train_features = feature_map_nystroem.fit_transform(train_features)\n",
    "    test_features = feature_map_nystroem.transform(test_features)\n",
    "    \n",
    "    clf_w = linear_model.SGDRegressor(max_iter=100000, tol=1e-4,\n",
    "                                     loss = 'epsilon_insensitive', penalty = 'l2')\n",
    "    parameters = {'alpha':(0.0001, 0.001, 0.01, 0.1, 1, 5, 10)}\n",
    "    clf = model_selection.GridSearchCV(estimator= clf_w, param_grid = parameters, cv = 10,\n",
    "                                       refit = True, scoring = 'r2', verbose = 1, n_jobs=6, return_train_score=True)\n",
    "#     clf = KernelRidge(kernel = 'poly', degree = 5)\n",
    "#     parameters = {'alpha':(0.1,1,10,30)}\n",
    "#     clf = model_selection.GridSearchCV(estimator= clf, param_grid = parameters, cv = 3,\n",
    "#                                       refit = True, scoring = 'r2', verbose = 2, n_jobs=6)\n",
    "    clf.fit(train_features, df_train_labels.iloc[:,i])\n",
    "    \n",
    "#     print(clf.cv_results_)\n",
    "    print(clf.cv_results_['mean_train_score'])\n",
    "    print(clf.cv_results_['mean_test_score'])\n",
    "    print(clf.best_params_)\n",
    "    print(clf.best_score_)\n",
    "    \n",
    "    pred = clf.predict(test_features)\n",
    "    columns_2.append(pred) \n",
    "\n",
    "    pred_train = clf.predict(train_features)\n",
    "    tmp = r2_score(y_pred= pred_train, y_true=df_train_labels.iloc[:,i])\n",
    "    print(\"R2 for feature\", list(df_train_labels)[i] , \" : \", tmp)\n",
    "   "
   ]
  },
  {
   "cell_type": "code",
   "execution_count": null,
   "metadata": {},
   "outputs": [],
   "source": [
    "columns_final = columns_1 + columns_2"
   ]
  },
  {
   "cell_type": "markdown",
   "metadata": {},
   "source": [
    "# XGBoosting"
   ]
  },
  {
   "cell_type": "markdown",
   "metadata": {},
   "source": [
    "The benefit of XGBoost is that it accepts missing values."
   ]
  },
  {
   "cell_type": "code",
   "execution_count": null,
   "metadata": {},
   "outputs": [],
   "source": [
    "import xgboost as xgb\n",
    "# simple example\n",
    "# load file from text file, also binary buffer generated by xgboost\n",
    "\n",
    "# scale test data\n",
    "min_max_scaler = preprocessing.StandardScaler()\n",
    "df_train_scaled_xgboost = min_max_scaler.fit_transform(df_train_agg_features)\n",
    "min_max_scaler = preprocessing.StandardScaler()\n",
    "df_test_scaled_xgboost = min_max_scaler.fit_transform(df_test_agg_features)\n",
    "\n",
    "dtrain = xgb.DMatrix(df_train_scaled_xgboost, label=df_train_labels.iloc[:,1])\n",
    "dtest = xgb.DMatrix(df_test_scaled_xgboost)"
   ]
  },
  {
   "cell_type": "code",
   "execution_count": null,
   "metadata": {},
   "outputs": [],
   "source": [
    "param = {'eta': 1, 'objective': 'binary:logistic', 'verbosity':1}\n",
    "param['nthread'] = 4\n",
    "param['eval_metric'] = 'auc'\n",
    "evallist = [(dtrain, 'train')]"
   ]
  },
  {
   "cell_type": "code",
   "execution_count": null,
   "metadata": {},
   "outputs": [],
   "source": [
    "num_round = 10\n",
    "xgb.cv(param, dtrain, num_round, nfold=10,\n",
    "       metrics={'auc'}, seed=0,\n",
    "       callbacks=[xgb.callback.print_evaluation(show_stdv=True)])\n",
    "# bst = xgb.train(param, dtrain, num_round)\n",
    "# pred = bst.predict(dtest)"
   ]
  },
  {
   "cell_type": "code",
   "execution_count": null,
   "metadata": {},
   "outputs": [],
   "source": [
    "from sklearn.model_selection import StratifiedKFold\n",
    "from sklearn.model_selection import cross_validate\n",
    "from sklearn.kernel_approximation import Nystroem\n",
    "\n",
    "columns_1 = [test_pids]\n",
    "\n",
    "\n",
    "for i in range(1,12):\n",
    "\n",
    "    clf = xgb.XGBClassifier('binary:logistic')\n",
    "    \n",
    "    clf_w = model_selection.GridSearchCV(estimator= clf, param_grid = {'max_depth': [2,3,4,5]}, cv = 10,\n",
    "                                        refit = True, scoring = 'roc_auc', verbose = 1,\n",
    "                                       n_jobs=6, return_train_score = True)\n",
    "    \n",
    "\n",
    "    clf_w.fit(df_train_scaled_xgboost, df_train_labels.iloc[:,i])\n",
    "    print(clf_w.best_params_)\n",
    "    print(clf_w.best_score_) \n",
    "#     dtrain = xgb.DMatrix(df_train_agg_features, label=df_train_labels.iloc[:,i])\n",
    "#     num_round = 10\n",
    "#     xgb.cv(param, dtrain, num_round, nfold=10,\n",
    "#        metrics={'auc'}, seed=0,\n",
    "#        callbacks=[xgb.callback.print_evaluation(show_stdv=True)])\n",
    "    \n",
    "    probability = clf_w.predict(df_test_scaled_xgboost)\n",
    "    columns_1.append(probability)\n",
    "\n",
    "    probability_train = clf_w.predict(df_train_scaled_xgboost)\n",
    "#     probability_train = [item[1] for item in probability_tmp]\n",
    "    tmp = roc_auc_score(y_score= probability_train, y_true= df_train_labels.iloc[:,i])\n",
    "    print(\"ROC AUC for feature\", list(df_train_labels)[i] , \" : \", tmp)"
   ]
  },
  {
   "cell_type": "code",
   "execution_count": null,
   "metadata": {},
   "outputs": [],
   "source": [
    "import xgboost as xgb\n",
    "\n",
    "columns_2_1 = []\n",
    "param = {'max_depth': 2, 'eta': 1, 'objective': 'reg:squarederror', 'verbosity':1}\n",
    "param['nthread'] = 4\n",
    "param['eval_metric'] = 'rmse'\n",
    "# evallist = [(dtrain, 'train')]\n",
    "\n",
    "train_features = data_train_scaled\n",
    "test_features = data_test_scaled\n",
    "for i in range(12,16):\n",
    "#     transformer =  GenericUnivariateSelect(score_func= mutual_info_regression, mode ='k_best', param=80)\n",
    "#     train_features = transformer.fit_transform(data_train_scaled, df_train_labels.iloc[:,i])\n",
    "# #     print(list(data_train_scaled)[transformer.get_support()])\n",
    "#     test_features = transformer.transform(data_test_scaled)\n",
    "    \n",
    "    clf_w = xgb.XGBRegressor(feval = r2_score, verbosity = 0)\n",
    "            \n",
    "    clf = model_selection.GridSearchCV(estimator= clf_w, param_grid = {'max_depth':(3,4,5,6)}, cv = 10,\n",
    "                                       refit = True, verbose = 1, scoring='r2',\n",
    "                                       n_jobs=6, return_train_score = True)\n",
    "    \n",
    "    clf.fit(data_train_scaled, df_train_labels.iloc[:,i])\n",
    "    print(clf.best_params_)\n",
    "    print(clf.best_score_)    \n",
    "    \n",
    "#     dtrain = xgb.DMatrix(df_train_scaled_xgboost, label=df_train_labels.iloc[:,i])\n",
    "#     num_round = 10\n",
    "    \n",
    "    probability = clf.predict(data_test_scaled)\n",
    "    columns_2_1.append(probability)\n",
    "\n",
    "    pred_train = clf.predict(data_train_scaled)\n",
    "#     probability_train = [item[1] for item in probability_tmp]\n",
    "    tmp = r2_score(y_pred= pred_train, y_true=df_train_labels.iloc[:,i])\n",
    "    print(\"R2 for feature\", list(df_train_labels)[i] , \" : \", tmp)\n",
    "   "
   ]
  },
  {
   "cell_type": "code",
   "execution_count": null,
   "metadata": {},
   "outputs": [],
   "source": [
    "columns_final = columns_1 + columns_2_1"
   ]
  },
  {
   "cell_type": "markdown",
   "metadata": {},
   "source": [
    "# Neural Nets"
   ]
  },
  {
   "cell_type": "code",
   "execution_count": null,
   "metadata": {},
   "outputs": [],
   "source": [
    "NEPOCHS = 60    \n",
    "BATCHSIZE = 32\n",
    "VALIDATIONSPLIT = 0.2\n",
    "HIDDENSIZE = 80\n",
    "kfold_splits = 10"
   ]
  },
  {
   "cell_type": "code",
   "execution_count": null,
   "metadata": {},
   "outputs": [],
   "source": [
    "def coeff_determination(y_true, y_pred):\n",
    "    from keras import backend as K\n",
    "    SS_res =  K.sum(K.square( y_true-y_pred ))\n",
    "    SS_tot = K.sum(K.square( y_true - K.mean(y_true) ) )\n",
    "    return ( 1 - SS_res/(SS_tot + K.epsilon()) )"
   ]
  },
  {
   "cell_type": "code",
   "execution_count": null,
   "metadata": {},
   "outputs": [],
   "source": [
    "import tensorflow as tf\n",
    "import keras\n",
    "from keras.models import Sequential\n",
    "from keras.layers import Dense, Dropout\n",
    "from keras.layers import BatchNormalization\n",
    "from keras.callbacks import Callback,ModelCheckpoint\n",
    "\n",
    "def create_model():\n",
    "    model = Sequential()\n",
    "    model.add(Dense(HIDDENSIZE, input_dim = data_train_scaled.shape[1], activation='relu'))\n",
    "    model.add(Dense(HIDDENSIZE, input_dim = HIDDENSIZE, activation='relu'))\n",
    "    model.add(Dense(HIDDENSIZE, input_dim = HIDDENSIZE, activation='relu'))\n",
    "#     model.add(Dense(HIDDENSIZE, input_dim = HIDDENSIZE, activation='relu'))\n",
    "    model.add(Dropout(0.2))\n",
    "    model.add(BatchNormalization())\n",
    "\n",
    "    model.add(Dense(HIDDENSIZE, input_dim = HIDDENSIZE, activation='relu'))\n",
    "    # model.add(Dense(HIDDENSIZE, input_dim = HIDDENSIZE, activation='relu'))\n",
    "    # model.add(Dense(HIDDENSIZE, input_dim = HIDDENSIZE, activation='relu'))\n",
    "    # model.add(Dense(HIDDENSIZE, input_dim = HIDDENSIZE, activation='relu'))\n",
    "    # model.add(BatchNormalization(momentum=0.7))\n",
    "    # model.add(Dropout(0.2))\n",
    "\n",
    "    model.add(Dense(HIDDENSIZE, input_dim = HIDDENSIZE, activation='relu'))\n",
    "    # model.add(Dense(HIDDENSIZE, input_dim = HIDDENSIZE, activation='relu'))\n",
    "    # model.add(Dense(HIDDENSIZE, input_dim = HIDDENSIZE, activation='relu'))\n",
    "    # model.add(Dense(HIDDENSIZE, input_dim = HIDDENSIZE, activation='relu'))\n",
    "    model.add(Dropout(0.5))\n",
    "    model.add(BatchNormalization())\n",
    "\n",
    "    model.add(Dense(1, input_dim = HIDDENSIZE, activation='relu'))\n",
    "\n",
    "\n",
    "\n",
    "    model.compile(optimizer='rmsprop',\n",
    "                loss='mean_squared_error',\n",
    "                metrics=[coeff_determination])\n",
    "    return model"
   ]
  },
  {
   "cell_type": "code",
   "execution_count": null,
   "metadata": {},
   "outputs": [],
   "source": [
    "from sklearn.model_selection import KFold\n",
    "columns_2_1 = []\n",
    "\n",
    "mode_path = './models/mlp_v2.h5'\n",
    "\n",
    "model = None\n",
    "model = create_model()\n",
    "model.summary()\n",
    "\n",
    "best_fold = -1\n",
    "best_score = 0\n",
    "best_model = None\n",
    "\n",
    "folds = KFold(n_splits=10, shuffle=True, random_state=1)\n",
    "index = 0\n",
    "for train_indices, val_indices in folds.split(data_train_scaled):\n",
    "    print(\"Training on fold \" + str(index+1) + \"/10...\")\n",
    "    # Generate batches from indices\n",
    "    xtrain, xval = data_train_scaled.iloc[train_indices,:], data_train_scaled.iloc[val_indices,:]\n",
    "    ytrain, yval = df_train_labels.iloc[train_indices, 14], df_train_labels.iloc[val_indices, 14]\n",
    "\n",
    "    # xtrain_onehot = onehot_encoder.transform(xtrain)\n",
    "    # xval_onehot = onehot_encoder.transform(xval)\n",
    "    # ytrain_onehot = keras.utils.to_categorical(y_train, num_classes=2)\n",
    "    # yval_onehot = keras.utils.to_categorical(y_val, num_classes=2)\n",
    "\n",
    "    model = None\n",
    "    model = create_model()\n",
    "\n",
    "    # model.summary()\n",
    "    callbacks = [ModelCheckpoint(filepath=mode_path, save_best_only=True)]\n",
    "    model.fit(xtrain, ytrain, validation_data = (xval, yval), epochs = NEPOCHS, batch_size=BATCHSIZE, verbose = 2,\n",
    "            callbacks=callbacks)  # starts training\n",
    "\n",
    "    # get the best fold based on the best f1 score\n",
    "    y_pred = model.predict(xval, batch_size=BATCHSIZE, verbose=1)\n",
    "    tmp_score = r2_score(y_true=yval ,y_pred=y_pred_bool)\n",
    "    print(\"R2 score for this fold is : \", tmp_score)\n",
    "    if(tmp_score > best_score):\n",
    "        best_fold = index\n",
    "        best_model = model\n",
    "\n",
    "    index = index + 1"
   ]
  },
  {
   "cell_type": "markdown",
   "metadata": {},
   "source": [
    "## Save predictions"
   ]
  },
  {
   "cell_type": "code",
   "execution_count": null,
   "metadata": {},
   "outputs": [],
   "source": [
    "print(np.shape(columns_final))\n",
    "result = pd.DataFrame(columns_final).transpose()\n",
    "result.columns = list(df_train_labels)\n",
    "result.to_csv('./Results/prediction.csv.zip', index=False, float_format='%.3f', compression='zip')"
   ]
  },
  {
   "cell_type": "code",
   "execution_count": null,
   "metadata": {},
   "outputs": [],
   "source": [
    "result.to_csv('./Results/prediction.csv', index=False, float_format='%.3f')"
   ]
  },
  {
   "cell_type": "code",
   "execution_count": null,
   "metadata": {},
   "outputs": [],
   "source": []
  }
 ],
 "metadata": {
  "kernelspec": {
   "display_name": "Python 3",
   "language": "python",
   "name": "python3"
  },
  "language_info": {
   "codemirror_mode": {
    "name": "ipython",
    "version": 3
   },
   "file_extension": ".py",
   "mimetype": "text/x-python",
   "name": "python",
   "nbconvert_exporter": "python",
   "pygments_lexer": "ipython3",
   "version": "3.7.5"
  }
 },
 "nbformat": 4,
 "nbformat_minor": 4
}
