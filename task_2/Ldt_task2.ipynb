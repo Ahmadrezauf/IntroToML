{
 "cells": [
  {
   "cell_type": "markdown",
   "metadata": {},
   "source": [
    "# Support vector machines"
   ]
  },
  {
   "cell_type": "code",
   "execution_count": 1,
   "metadata": {},
   "outputs": [],
   "source": [
    "# import libraries\n",
    "\n",
    "import numpy as np\n",
    "import pandas as pd\n",
    "from sklearn.svm import SCV"
   ]
  },
  {
   "cell_type": "code",
   "execution_count": 14,
   "metadata": {},
   "outputs": [],
   "source": [
    "# load training data\n",
    "\n",
    "# load data from csv file\n",
    "df_train_features = pd.read_csv ('train_features.csv')\n",
    "df_train_labels = pd.read_csv('train_labels.csv')"
   ]
  },
  {
   "cell_type": "markdown",
   "metadata": {},
   "source": [
    "### Data pre-processing"
   ]
  },
  {
   "cell_type": "code",
   "execution_count": 11,
   "metadata": {},
   "outputs": [
    {
     "name": "stdout",
     "output_type": "stream",
     "text": [
      "       pid  Time    Age  EtCO2    PTT    BUN  Lactate  Temp   Hgb  HCO3  ...  \\\n",
      "min      1     1   15.0   10.0   12.5    1.0      0.2  21.0   3.3   0.0  ...   \n",
      "max  31658   315  100.0  100.0  250.0  268.0     31.0  42.0  23.8  50.0  ...   \n",
      "\n",
      "     Alkalinephos   SpO2  Bilirubin_direct  Chloride   Hct  Heartrate  \\\n",
      "min          12.0   20.0              0.01      66.0   9.4       23.0   \n",
      "max        3833.0  100.0             21.20     141.0  63.4      191.0   \n",
      "\n",
      "     Bilirubin_total  TroponinI   ABPs    pH  \n",
      "min              0.1       0.01   21.0  6.82  \n",
      "max             46.5     440.00  287.0  7.78  \n",
      "\n",
      "[2 rows x 37 columns]\n",
      "number of missing values:\n",
      "pid                      0\n",
      "Time                     0\n",
      "Age                      0\n",
      "EtCO2               218157\n",
      "PTT                 217641\n",
      "BUN                 207835\n",
      "Lactate             217184\n",
      "Temp                146825\n",
      "Hgb                 205645\n",
      "HCO3                215381\n",
      "BaseExcess          208053\n",
      "RRate                40155\n",
      "Fibrinogen          225447\n",
      "Phosphate           216350\n",
      "WBC                 208857\n",
      "Creatinine          210148\n",
      "PaCO2               206897\n",
      "AST                 222179\n",
      "FiO2                201338\n",
      "Platelets           209905\n",
      "SaO2                214926\n",
      "Glucose             180904\n",
      "ABPm                 32051\n",
      "Magnesium           210417\n",
      "Potassium           199547\n",
      "ABPd                 75522\n",
      "Calcium             210110\n",
      "Alkalinephos        222232\n",
      "SpO2                 32748\n",
      "Bilirubin_direct    227221\n",
      "Chloride            214023\n",
      "Hct                 200643\n",
      "Heartrate            27812\n",
      "Bilirubin_total     222614\n",
      "TroponinI           224164\n",
      "ABPs                 36290\n",
      "pH                  202894\n",
      "dtype: int64\n"
     ]
    }
   ],
   "source": [
    "# data inspection: \n",
    "#############################################\n",
    "# range of the provided data?\n",
    "print(df_train_features.agg([min, max]))\n",
    "\n",
    "# how much missing data? \n",
    "print(\"number of missing values:\")\n",
    "print(df_train_features.isnull().sum(axis=0))"
   ]
  },
  {
   "cell_type": "code",
   "execution_count": 4,
   "metadata": {},
   "outputs": [],
   "source": [
    "# data pre-processing\n",
    "#############################################\n",
    "# scale the inputs all to have same range\n",
    "\n",
    "# what to do for missing data?"
   ]
  },
  {
   "cell_type": "markdown",
   "metadata": {},
   "source": [
    "## Fit a model"
   ]
  },
  {
   "cell_type": "code",
   "execution_count": null,
   "metadata": {},
   "outputs": [],
   "source": []
  },
  {
   "cell_type": "code",
   "execution_count": null,
   "metadata": {},
   "outputs": [],
   "source": []
  },
  {
   "cell_type": "markdown",
   "metadata": {},
   "source": [
    "## Predictions"
   ]
  },
  {
   "cell_type": "code",
   "execution_count": null,
   "metadata": {},
   "outputs": [],
   "source": []
  }
 ],
 "metadata": {
  "kernelspec": {
   "display_name": "Python 3",
   "language": "python",
   "name": "python3"
  },
  "language_info": {
   "codemirror_mode": {
    "name": "ipython",
    "version": 3
   },
   "file_extension": ".py",
   "mimetype": "text/x-python",
   "name": "python",
   "nbconvert_exporter": "python",
   "pygments_lexer": "ipython3",
   "version": "3.7.1"
  }
 },
 "nbformat": 4,
 "nbformat_minor": 4
}
