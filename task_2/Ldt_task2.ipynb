{
 "cells": [
  {
   "cell_type": "markdown",
   "metadata": {},
   "source": [
    "# Support vector machines"
   ]
  },
  {
   "cell_type": "code",
   "execution_count": 56,
   "metadata": {},
   "outputs": [],
   "source": [
    "# import libraries\n",
    "\n",
    "import numpy as np\n",
    "import math\n",
    "import pandas as pd\n",
    "import matplotlib.pyplot as plt\n",
    "import missingno as msno\n",
    "import seaborn as sns\n",
    "\n",
    "from matplotlib.backends.backend_pdf import PdfPages\n",
    "from sklearn.decomposition import PCA\n",
    "\n",
    "from sklearn.ensemble import BaggingClassifier, RandomForestClassifier\n",
    "\n",
    "from sklearn.impute import SimpleImputer\n",
    "from sklearn import preprocessing\n",
    "from sklearn.svm import LinearSVR\n",
    "from sklearn.svm import LinearSVC\n",
    "from sklearn.svm import SVR\n",
    "from sklearn.preprocessing import StandardScaler\n",
    "from sklearn.svm import SVC\n",
    "\n",
    "from sklearn.metrics import roc_auc_score\n",
    "from sklearn.metrics import r2_score\n",
    "from sklearn.metrics.pairwise import pairwise_kernels\n",
    "\n",
    "from sklearn import model_selection\n",
    "\n",
    "from sklearn.impute import KNNImputer"
   ]
  },
  {
   "cell_type": "markdown",
   "metadata": {},
   "source": [
    "## Data pre-processing"
   ]
  },
  {
   "cell_type": "code",
   "execution_count": 2,
   "metadata": {},
   "outputs": [],
   "source": [
    "# load training data\n",
    "\n",
    "# load data from csv file\n",
    "df_train_features = pd.read_csv ('train_features.csv')\n",
    "df_train_labels = pd.read_csv('train_labels.csv')\n",
    "\n",
    "# Load test data\n",
    "df_test_features = pd.read_csv ('test_features.csv')"
   ]
  },
  {
   "cell_type": "markdown",
   "metadata": {},
   "source": [
    " ### Histogram of the output labels "
   ]
  },
  {
   "cell_type": "markdown",
   "metadata": {},
   "source": [
    "We should check for class imbalance."
   ]
  },
  {
   "cell_type": "code",
   "execution_count": null,
   "metadata": {},
   "outputs": [],
   "source": [
    "df_train_labels.hist()\n",
    "\n",
    "# with PdfPages(\"./Results/Labels_histogram.pdf\") as export_pdf:\n",
    "#     for i in list(df_train_labels)[1:]:\n",
    "#         df_train_labels.hist(column = i, bins = 100)\n",
    "#         export_pdf.savefig()"
   ]
  },
  {
   "cell_type": "markdown",
   "metadata": {},
   "source": [
    "One can see the class imbalance problem here. Other observations:\n",
    "  * Heartrate, RRate, ABPm,  distribution is similar to a normal distribution\n",
    "  * SpO2 is like a censored normal distribution. \n",
    "  * For all of the other features, class imbalance is an obvious problem."
   ]
  },
  {
   "cell_type": "markdown",
   "metadata": {},
   "source": [
    "A basic strategy that could be used here: Upsample both classes! Do the upsampling efficiently, not just replicating the datapoints"
   ]
  },
  {
   "cell_type": "markdown",
   "metadata": {},
   "source": [
    "### Train Data pre-processing"
   ]
  },
  {
   "cell_type": "code",
   "execution_count": null,
   "metadata": {},
   "outputs": [],
   "source": [
    "# data inspection: \n",
    "#############################################\n",
    "# range of the provided data?\n",
    "print(df_train_features.agg([min, max]))\n",
    "\n",
    "# Boxplotting the data\n",
    "# fig2, ax2 = plt.subplots()\n",
    "# ax2.set_title('BUN')\n",
    "# ax2.boxplot(df_train_features.iloc[:,5], notch=True)\n",
    "\n",
    "plt.figure(figsize=(16, 16))\n",
    "ax = sns.boxplot(data = df_train_features.iloc[:,1:])\n",
    "ax.set_xticklabels(\n",
    "    ax.get_xticklabels(),\n",
    "    rotation=90,\n",
    "    horizontalalignment='right'\n",
    ");\n",
    "\n",
    "# with PdfPages(\"./Results/Train_columns_boxplot.pdf\") as export_pdf:\n",
    "#     for i in list(df_train_labels)[1:]:\n",
    "#         df_train_labels.hist(column = i, bins = 100)\n",
    "#         export_pdf.savefig()"
   ]
  },
  {
   "cell_type": "code",
   "execution_count": null,
   "metadata": {},
   "outputs": [],
   "source": [
    "# calculate the correlation matrix\n",
    "corr = df_train_features.corr()\n",
    "\n",
    "# plot the heatmap\n",
    "plt.figure(figsize=(16, 16))\n",
    "ax = sns.heatmap(corr, \n",
    "        xticklabels=corr.columns,\n",
    "        yticklabels=corr.columns, \n",
    "        vmin=-1, vmax=1, center=0, \n",
    "           cmap=sns.diverging_palette(20, 220, n=200))\n",
    "ax.set_xticklabels(\n",
    "    ax.get_xticklabels(),\n",
    "    rotation=45,\n",
    "    horizontalalignment='right'\n",
    ");"
   ]
  },
  {
   "cell_type": "markdown",
   "metadata": {},
   "source": [
    "### Visualizing pattern of missing values"
   ]
  },
  {
   "cell_type": "code",
   "execution_count": null,
   "metadata": {},
   "outputs": [],
   "source": [
    "# how much missing data? \n",
    "print(\"Percentage of missing values:\")\n",
    "print(df_train_features.isnull().sum(axis=0) / len(df_train_features))\n",
    "\n",
    "msno.matrix(df_train_features)\n",
    "\n",
    "# Plotting the correlation between the missing values\n",
    "msno.heatmap(df_train_features)"
   ]
  },
  {
   "cell_type": "markdown",
   "metadata": {},
   "source": [
    "### Train data pre-processing"
   ]
  },
  {
   "cell_type": "code",
   "execution_count": 3,
   "metadata": {},
   "outputs": [],
   "source": [
    "# Patient by patient pre-processing for imputation and feature generation\n",
    "\n",
    "# get variables from train features\n",
    "variables = df_train_features.columns[2:]\n",
    "\n",
    "# get all pids, to impute and pre-process individually\n",
    "train_pids = df_train_features['pid'].unique()\n",
    "\n",
    "for pid in train_pids:\n",
    "    # dataframe for this pid\n",
    "    df = df_train_features.loc[df_train_features['pid'] == pid]\n",
    "    \n",
    "    for var in variables:\n",
    "        # how many NaN are in there for this variable\n",
    "        data = df[var]\n",
    "        num_nan = data.isnull().sum(axis=0)\n",
    "        if num_nan == 12:\n",
    "            continue\n",
    "        \n",
    "        data = data.to_numpy()\n",
    "           \n",
    "        imp = SimpleImputer(missing_values = np.nan)\n",
    "        train_imputed = imp.fit_transform(data.reshape(-1, 1))\n",
    "    \n",
    "        df_train_features.loc[df_train_features['pid'] == pid,var] = train_imputed\n"
   ]
  },
  {
   "cell_type": "code",
   "execution_count": 4,
   "metadata": {},
   "outputs": [],
   "source": [
    "# aggregate the time series\n",
    "data_array = np.empty([len(train_pids), len(variables)])\n",
    "i = 0\n",
    "j = 0\n",
    "\n",
    "for pid in train_pids:\n",
    "    \n",
    "    df = df_train_features.loc[df_train_features['pid'] == pid]\n",
    "    j = 0\n",
    "    \n",
    "    for var in variables:\n",
    "        # how many NaN are in there for this variable\n",
    "        data = df[var]\n",
    "        num_nan = data.isnull().sum(axis=0)\n",
    "        if num_nan == 12:\n",
    "            data_array[i, j] = np.nan\n",
    "            j = j + 1\n",
    "            continue\n",
    "        data = data.to_numpy()\n",
    "        data_array[i, j] = np.mean(data)\n",
    "        j = j + 1 \n",
    "        \n",
    "    i = i +1"
   ]
  },
  {
   "cell_type": "code",
   "execution_count": 5,
   "metadata": {},
   "outputs": [],
   "source": [
    "# impute missing data points\n",
    "#imp = SimpleImputer(strategy=\"mean\")\n",
    "imputer = KNNImputer(n_neighbors=5)\n",
    "df_train_agg_imputed_features = imputer.fit_transform(data_array)\n",
    "#print(df_train_agg_imputed_features)"
   ]
  },
  {
   "cell_type": "code",
   "execution_count": 6,
   "metadata": {},
   "outputs": [],
   "source": [
    "# scale the data\n",
    "min_max_scaler = preprocessing.StandardScaler()\n",
    "# standard_scalar = preprocessing.StandardScaler()\n",
    "\n",
    "data_train_scaled = min_max_scaler.fit_transform(df_train_agg_imputed_features)"
   ]
  },
  {
   "cell_type": "code",
   "execution_count": 7,
   "metadata": {},
   "outputs": [],
   "source": [
    "# REARRANGE THE LABELS, TO MATCH THE REARRANGED FEATURES\n",
    "df_train_labels_sorted = df_train_labels.sort_values(by = 'pid')\n",
    "# print(df_train_labels_sorted)"
   ]
  },
  {
   "cell_type": "code",
   "execution_count": null,
   "metadata": {},
   "outputs": [],
   "source": [
    "# Visualizing the training data after imputing and aggregating\n",
    "\n",
    "plt.figure(figsize=(16, 16))\n",
    "ax = sns.boxplot(data = pd.DataFrame(data_train_scaled))\n",
    "ax.set_xticklabels(\n",
    "    list(df_train_features),\n",
    "    rotation=90,\n",
    "    horizontalalignment='right'\n",
    ");"
   ]
  },
  {
   "cell_type": "code",
   "execution_count": null,
   "metadata": {},
   "outputs": [],
   "source": [
    "# What is the correlation between the \n",
    "pd.DataFrame(data_train_scaled).corrwith(other = pd.DataFrame(df_train_agg_imputed_features), method = \"spearman\").transpose()"
   ]
  },
  {
   "cell_type": "markdown",
   "metadata": {},
   "source": [
    "### PCA plot "
   ]
  },
  {
   "cell_type": "code",
   "execution_count": null,
   "metadata": {
    "jupyter": {
     "source_hidden": true
    }
   },
   "outputs": [],
   "source": [
    "pca = PCA(n_components=2)\n",
    "\n",
    "principalComponents = pca.fit_transform(data_train_scaled)\n",
    "principalDf = pd.DataFrame(data = principalComponents\n",
    "             , columns = ['principal component 1', 'principal component 2'])\n",
    "\n",
    "finalDf = pd.concat([principalDf, df_train_labels[['LABEL_BaseExcess']]], axis = 1)\n",
    "\n",
    "fig = plt.figure(figsize = (8,8))\n",
    "ax = fig.add_subplot(1,1,1) \n",
    "ax.set_xlabel('Principal Component 1', fontsize = 15)\n",
    "ax.set_ylabel('Principal Component 2', fontsize = 15)\n",
    "ax.set_title('2 component PCA for LABEL_BaseExcess', fontsize = 20)\n",
    "targets = [0, 1]\n",
    "colors = ['r', 'g', 'b']\n",
    "for target, color in zip(targets,colors):\n",
    "    indicesToKeep = finalDf['LABEL_BaseExcess'] == target\n",
    "    ax.scatter(finalDf.loc[indicesToKeep, 'principal component 1']\n",
    "               , finalDf.loc[indicesToKeep, 'principal component 2']\n",
    "               , c = color\n",
    "               , s = 50)\n",
    "ax.legend(targets)\n",
    "ax.grid()"
   ]
  },
  {
   "cell_type": "markdown",
   "metadata": {},
   "source": [
    "### Test Data pre-processing"
   ]
  },
  {
   "cell_type": "code",
   "execution_count": null,
   "metadata": {},
   "outputs": [],
   "source": [
    "# data inspection: \n",
    "#############################################\n",
    "# range of the provided data?\n",
    "print(df_test_features.agg([min, max]))\n",
    "\n",
    "# how much missing data? \n",
    "print(\"number of missing values:\")\n",
    "print(df_test_features.isnull().sum(axis=0))"
   ]
  },
  {
   "cell_type": "code",
   "execution_count": 8,
   "metadata": {},
   "outputs": [],
   "source": [
    "# # aggregate data for each pid\n",
    "# df_test_aggregate_features = df_test_features.groupby('pid').agg('median')\n",
    "\n",
    "# #print(df_test_aggregate_features)\n",
    "\n",
    "# # collect all test pids\n",
    "test_pids = list(set(df_test_features.pid))"
   ]
  },
  {
   "cell_type": "code",
   "execution_count": 9,
   "metadata": {},
   "outputs": [],
   "source": [
    "# Patient by patient pre-processing for imputation and feature generation\n",
    "\n",
    "# get variables from train features\n",
    "variables_test = df_test_features.columns[2:]\n",
    "\n",
    "# get all pids, to impute and pre-process individually\n",
    "test_pids = list(set(df_test_features.pid))\n",
    "\n",
    "for pid in test_pids:\n",
    "    # dataframe for this pid\n",
    "    df = df_test_features.loc[df_test_features['pid'] == pid]\n",
    "    \n",
    "    for var in variables_test:\n",
    "        # how many NaN are in there for this variable\n",
    "        data = df[var]\n",
    "        num_nan = data.isnull().sum(axis=0)\n",
    "        if num_nan == 12:\n",
    "            continue\n",
    "        \n",
    "        data = data.to_numpy()\n",
    "           \n",
    "        imp = SimpleImputer(missing_values = np.nan)\n",
    "        test_imputed = imp.fit_transform(data.reshape(-1, 1))\n",
    "    \n",
    "        df_test_features.loc[df_test_features['pid'] == pid,var] = test_imputed\n",
    "\n",
    "# aggregate the time series\n",
    "data_array = np.empty([len(test_pids), len(variables_test)])\n",
    "i = 0\n",
    "j = 0\n",
    "\n",
    "for pid in test_pids:\n",
    "    \n",
    "    df = df_test_features.loc[df_test_features['pid'] == pid]\n",
    "    j = 0\n",
    "    \n",
    "    for var in variables:\n",
    "        # how many NaN are in there for this variable\n",
    "        data = df[var]\n",
    "        num_nan = data.isnull().sum(axis=0)\n",
    "        if num_nan == 12:\n",
    "            data_array[i, j] = np.nan\n",
    "            j = j + 1\n",
    "            continue\n",
    "        data = data.to_numpy()\n",
    "        data_array[i, j] = np.mean(data)\n",
    "        j = j + 1 \n",
    "        \n",
    "    i = i +1"
   ]
  },
  {
   "cell_type": "code",
   "execution_count": 12,
   "metadata": {},
   "outputs": [
    {
     "name": "stdout",
     "output_type": "stream",
     "text": [
      "         pid  Time   Age  EtCO2    PTT   BUN  Lactate   Temp    Hgb  HCO3  \\\n",
      "0          0     1  39.0    NaN  41.35  18.5      NaN  36.00   9.65  14.5   \n",
      "1          0     2  39.0    NaN  44.20  17.0      NaN  36.00  10.20  13.0   \n",
      "2          0     3  39.0    NaN  41.35  18.5      NaN  36.00   9.65  14.5   \n",
      "3          0     4  39.0    NaN  41.35  18.5      NaN  36.00   9.65  14.5   \n",
      "4          0     5  39.0    NaN  41.35  18.5      NaN  36.00   9.65  14.5   \n",
      "...      ...   ...   ...    ...    ...   ...      ...    ...    ...   ...   \n",
      "151963  9997     8  57.0    NaN  27.30  20.0      NaN  37.75   9.90  20.0   \n",
      "151964  9997     9  57.0    NaN  27.30  20.0      NaN  37.75   9.90  20.0   \n",
      "151965  9997    10  57.0    NaN  27.30  20.0      NaN  37.75   9.90  20.0   \n",
      "151966  9997    11  57.0    NaN  27.30  20.0      NaN  37.00   9.90  20.0   \n",
      "151967  9997    12  57.0    NaN  27.30  20.0      NaN  37.75   9.90  20.0   \n",
      "\n",
      "        ...  Alkalinephos   SpO2  Bilirubin_direct  Chloride    Hct  \\\n",
      "0       ...         114.0  100.0               NaN     100.0  28.45   \n",
      "1       ...         119.0  100.0               NaN      98.0  31.00   \n",
      "2       ...         114.0  100.0               NaN     100.0  28.45   \n",
      "3       ...         114.0  100.0               NaN     100.0  28.45   \n",
      "4       ...         114.0  100.0               NaN     100.0  28.45   \n",
      "...     ...           ...    ...               ...       ...    ...   \n",
      "151963  ...           NaN  100.0               NaN     107.0  30.00   \n",
      "151964  ...           NaN  100.0               NaN     107.0  30.00   \n",
      "151965  ...           NaN  100.0               NaN     107.0  30.00   \n",
      "151966  ...           NaN  100.0               NaN     107.0  30.00   \n",
      "151967  ...           NaN  100.0               NaN     107.0  30.00   \n",
      "\n",
      "        Heartrate  Bilirubin_total  TroponinI     ABPs    pH  \n",
      "0            84.5             24.1        NaN  128.625  7.37  \n",
      "1            82.0             21.8        NaN  119.000  7.37  \n",
      "2            78.0             24.1        NaN  125.000  7.34  \n",
      "3            80.0             24.1        NaN  136.000  7.37  \n",
      "4            83.0             24.1        NaN  135.000  7.37  \n",
      "...           ...              ...        ...      ...   ...  \n",
      "151963       84.0              NaN        NaN  103.000  7.35  \n",
      "151964       83.0              NaN        NaN  110.000  7.35  \n",
      "151965       88.0              NaN        NaN  111.000  7.35  \n",
      "151966       89.0              NaN        NaN  118.000  7.35  \n",
      "151967       86.0              NaN        NaN  111.000  7.35  \n",
      "\n",
      "[151968 rows x 37 columns]\n"
     ]
    }
   ],
   "source": [
    "# # remove time from data frame \n",
    "# df_test_agg_features = df_test_aggregate_features.drop(['Time'], axis = 1)\n",
    "print(df_test_features)"
   ]
  },
  {
   "cell_type": "code",
   "execution_count": 13,
   "metadata": {},
   "outputs": [],
   "source": [
    "# impute missing data points\n",
    "# should we impute it with the same imputer that we've used for train?\n",
    "\n",
    "imputer = KNNImputer(n_neighbors=5)\n",
    "df_test_agg_imputed_features = imputer.fit_transform(data_array)"
   ]
  },
  {
   "cell_type": "code",
   "execution_count": 14,
   "metadata": {},
   "outputs": [],
   "source": [
    "# scale test data\n",
    "min_max_scaler = preprocessing.StandardScaler()\n",
    "data_test_scaled = min_max_scaler.fit_transform(df_test_agg_imputed_features)"
   ]
  },
  {
   "cell_type": "code",
   "execution_count": 50,
   "metadata": {},
   "outputs": [],
   "source": [
    "pd.DataFrame(data_train_scaled).to_csv(\"./Results/dat_train_scaled.csv\")\n",
    "pd.DataFrame(data_test_scaled).to_csv(\"./Results/dat_test_scaled.csv\")"
   ]
  },
  {
   "cell_type": "markdown",
   "metadata": {},
   "source": [
    "## Fit a model & Predict"
   ]
  },
  {
   "cell_type": "markdown",
   "metadata": {},
   "source": [
    "### predict with support vector machine classification and use probabilities"
   ]
  },
  {
   "cell_type": "code",
   "execution_count": 88,
   "metadata": {},
   "outputs": [
    {
     "name": "stdout",
     "output_type": "stream",
     "text": [
      "False\n",
      "ROC AUC for feature LABEL_BaseExcess  :  1.0\n",
      "False\n",
      "ROC AUC for feature LABEL_Fibrinogen  :  1.0\n",
      "False\n",
      "ROC AUC for feature LABEL_AST  :  1.0\n",
      "False\n",
      "ROC AUC for feature LABEL_Alkalinephos  :  1.0\n",
      "False\n",
      "ROC AUC for feature LABEL_Bilirubin_total  :  1.0\n",
      "False\n",
      "ROC AUC for feature LABEL_Lactate  :  0.9999999999999999\n",
      "False\n",
      "ROC AUC for feature LABEL_TroponinI  :  0.9999999999999999\n",
      "False\n",
      "ROC AUC for feature LABEL_SaO2  :  1.0\n",
      "False\n",
      "ROC AUC for feature LABEL_Bilirubin_direct  :  1.0\n",
      "False\n",
      "ROC AUC for feature LABEL_EtCO2  :  1.0\n",
      "False\n",
      "ROC AUC for feature LABEL_Sepsis  :  1.0\n"
     ]
    }
   ],
   "source": [
    "# Random forest Classifier\n",
    "columns_1 = [test_pids]\n",
    "for i in range(1, 12):\n",
    "    clf = RandomForestClassifier(min_samples_leaf=2, class_weight='balanced', oob_score=False, bootstrap=False)\n",
    "    clf.fit(data_train_scaled, df_train_labels.iloc[:,i])\n",
    "    print(clf.oob_score)\n",
    "    # compute probabilites as opposed to predictions\n",
    "    probability = clf.apply(data_test_scaled)\n",
    "    probs = [i[1] for i in probability] \n",
    "    columns_1.append(probs)\n",
    "    \n",
    "    \n",
    "    probability = clf.predict_proba(data_train_scaled)\n",
    "\n",
    "    probs = [i[1] for i in probability]            \n",
    "    tmp = roc_auc_score(y_score= probs, y_true= df_train_labels.iloc[:,i])\n",
    "    print(\"ROC AUC for feature\", list(df_train_labels)[i] , \" : \", tmp)"
   ]
  },
  {
   "cell_type": "code",
   "execution_count": null,
   "metadata": {},
   "outputs": [
    {
     "name": "stdout",
     "output_type": "stream",
     "text": [
      "[LibSVM][LibSVM][LibSVM][LibSVM][LibSVM]"
     ]
    }
   ],
   "source": [
    "# first for the labels that have an output [0,1]\n",
    "\n",
    "columns_1 = [test_pids]\n",
    "\n",
    "for i in range(1, 12):\n",
    "    clf = BaggingClassifier(SVC(kernel = 'poly', degree = 5, class_weight = 'balanced', verbose = True, C = 10))\n",
    "    #parameters = {'C':np.linspace(0.1,10,20)}\n",
    "#     clf = model_selection.GridSearchCV(estimator= clf_w, param_grid = parameters, cv = 4,\n",
    "#                                        refit = True, scoring = 'roc_auc', verbose = 1, n_jobs=6)\n",
    "    clf.fit(data_train_scaled, df_train_labels.iloc[:,i])\n",
    "    \n",
    "    #print(clf.best_params_)\n",
    "    # compute probabilites as opposed to predictions\n",
    "    #dual_coefficients = clf.dual_coef_    # do we have to normalize with norm of this vector ?\n",
    "    \n",
    "    distance_hyperplane = clf.decision_function(data_test_scaled)\n",
    "    probability = np.empty(len(distance_hyperplane))\n",
    "    for j in range(0, len(probability)):\n",
    "        if distance_hyperplane[j] < 0:\n",
    "            probability[j] = 1 - 1/(1 + math.exp(distance_hyperplane[j]))\n",
    "        else:\n",
    "            probability[j] = 1/(1 + math.exp(-distance_hyperplane[j]))\n",
    "    columns_1.append(probability)\n",
    "\n",
    "    \n",
    "    distance_hyperplace_train = clf.decision_function(data_train_scaled)\n",
    "    probability = np.empty(len(distance_hyperplace_train))\n",
    "    for j in range(0, len(probability)):\n",
    "        if distance_hyperplace_train[j] < 0:\n",
    "            probability[j] = 1 - 1/(1 + math.exp(distance_hyperplace_train[j]))\n",
    "        else:\n",
    "            probability[j] = 1/(1 + math.exp(-distance_hyperplace_train[j]))\n",
    "    \n",
    "    tmp = roc_auc_score(y_score= probability, y_true= df_train_labels.iloc[:,i])\n",
    "    print(\"ROC AUC for feature\", list(df_train_labels)[i] , \" : \", tmp)\n",
    "    "
   ]
  },
  {
   "cell_type": "code",
   "execution_count": 27,
   "metadata": {},
   "outputs": [
    {
     "name": "stdout",
     "output_type": "stream",
     "text": [
      "Fitting 5 folds for each of 10 candidates, totalling 50 fits\n"
     ]
    },
    {
     "name": "stderr",
     "output_type": "stream",
     "text": [
      "[Parallel(n_jobs=6)]: Using backend LokyBackend with 6 concurrent workers.\n",
      "[Parallel(n_jobs=6)]: Done  38 tasks      | elapsed:  8.3min\n",
      "[Parallel(n_jobs=6)]: Done  50 out of  50 | elapsed: 12.8min finished\n"
     ]
    },
    {
     "name": "stdout",
     "output_type": "stream",
     "text": [
      "{'mean_fit_time': array([ 24.26356025,  37.08510661,  50.63805652,  59.79719958,\n",
      "        68.22096133,  84.09716425, 100.10133696, 120.14321575,\n",
      "       141.78595657, 141.88823218]), 'std_fit_time': array([ 0.78193777,  1.58172054,  2.87223471,  3.70161724,  1.75013687,\n",
      "        5.86425543,  3.22495575,  6.68448067,  5.83171327, 20.06454897]), 'mean_score_time': array([2.76414261, 2.7054904 , 2.60875549, 2.51900043, 2.50029249,\n",
      "       2.4874114 , 2.61314158, 2.56653919, 2.57755361, 1.94303102]), 'std_score_time': array([0.02598785, 0.01555165, 0.03177854, 0.05287047, 0.02575073,\n",
      "       0.02144058, 0.12908522, 0.02626385, 0.03907306, 0.27650337]), 'param_C': masked_array(data=[1.0, 2.0, 3.0, 4.0, 5.0, 6.0, 7.0, 8.0, 9.0, 10.0],\n",
      "             mask=[False, False, False, False, False, False, False, False,\n",
      "                   False, False],\n",
      "       fill_value='?',\n",
      "            dtype=object), 'params': [{'C': 1.0}, {'C': 2.0}, {'C': 3.0}, {'C': 4.0}, {'C': 5.0}, {'C': 6.0}, {'C': 7.0}, {'C': 8.0}, {'C': 9.0}, {'C': 10.0}], 'split0_test_score': array([-0.82149627, -1.99768846, -2.45921865, -3.06254307, -3.92894978,\n",
      "       -4.28884735, -4.58412671, -5.01467913, -5.36996651, -5.76932318]), 'split1_test_score': array([-0.03617184, -0.52189166, -1.02273809, -1.43627979, -1.9345639 ,\n",
      "       -2.47356222, -2.9063608 , -3.21363249, -3.47839215, -3.64719405]), 'split2_test_score': array([-0.27819074, -0.66282465, -0.73444211, -0.72441495, -0.79584065,\n",
      "       -0.88355441, -0.97963471, -1.10262967, -1.25024648, -1.38824423]), 'split3_test_score': array([ 0.01466541, -0.1388752 , -0.31558791, -0.49734936, -0.68058081,\n",
      "       -0.83906987, -1.02572299, -1.18156145, -1.32784618, -1.46317506]), 'split4_test_score': array([-1.43800168, -1.71087666, -2.10117024, -2.371723  , -2.66161348,\n",
      "       -3.09672843, -3.43422563, -3.74332753, -4.13986647, -4.49264139]), 'mean_test_score': array([-0.51183902, -1.00643133, -1.3266314 , -1.61846203, -2.00030973,\n",
      "       -2.31635246, -2.58601417, -2.85116605, -3.11326356, -3.35211558]), 'std_test_score': array([0.54985864, 0.71893419, 0.81828021, 0.97387641, 1.21274299,\n",
      "       1.32360959, 1.4021057 , 1.51347824, 1.60863224, 1.71205432]), 'rank_test_score': array([ 1,  2,  3,  4,  5,  6,  7,  8,  9, 10], dtype=int32)}\n",
      "R2 for feature LABEL_RRate  :  0.43585413881741786\n",
      "Fitting 5 folds for each of 10 candidates, totalling 50 fits\n"
     ]
    },
    {
     "name": "stderr",
     "output_type": "stream",
     "text": [
      "[Parallel(n_jobs=6)]: Using backend LokyBackend with 6 concurrent workers.\n",
      "[Parallel(n_jobs=6)]: Done  38 tasks      | elapsed:  3.8min\n",
      "[Parallel(n_jobs=6)]: Done  50 out of  50 | elapsed:  5.4min finished\n"
     ]
    },
    {
     "name": "stdout",
     "output_type": "stream",
     "text": [
      "{'mean_fit_time': array([17.71627531, 20.6306324 , 24.16375551, 28.05695519, 32.93605757,\n",
      "       36.10372167, 40.67268195, 44.08757458, 48.91899505, 47.35820279]), 'std_fit_time': array([0.32516692, 0.26787686, 0.89159049, 0.45229754, 0.54111283,\n",
      "       1.09467786, 2.37227955, 1.26473053, 1.05429997, 6.68549009]), 'mean_score_time': array([2.60946536, 2.65970502, 2.69947052, 2.68894782, 2.66633039,\n",
      "       2.64484501, 2.66010704, 2.62202168, 2.62365475, 2.05812993]), 'std_score_time': array([0.01281616, 0.04342416, 0.03741824, 0.03961654, 0.05163414,\n",
      "       0.03262146, 0.02338802, 0.02707709, 0.02410384, 0.29204509]), 'param_C': masked_array(data=[1.0, 2.0, 3.0, 4.0, 5.0, 6.0, 7.0, 8.0, 9.0, 10.0],\n",
      "             mask=[False, False, False, False, False, False, False, False,\n",
      "                   False, False],\n",
      "       fill_value='?',\n",
      "            dtype=object), 'params': [{'C': 1.0}, {'C': 2.0}, {'C': 3.0}, {'C': 4.0}, {'C': 5.0}, {'C': 6.0}, {'C': 7.0}, {'C': 8.0}, {'C': 9.0}, {'C': 10.0}], 'split0_test_score': array([-0.30985183, -0.46358486, -0.53597103, -0.74785919, -1.08755443,\n",
      "       -1.49414914, -1.86410579, -2.34633272, -2.78697002, -3.25244106]), 'split1_test_score': array([ 0.33059329,  0.18885284,  0.02196677, -0.16103766, -0.30739425,\n",
      "       -0.46622064, -0.63877886, -0.77988739, -0.92259392, -1.06809067]), 'split2_test_score': array([ 0.12604712, -0.08785094, -0.32563076, -0.63422077, -0.93558557,\n",
      "       -1.200261  , -1.49980413, -1.7257099 , -1.9362035 , -2.07956256]), 'split3_test_score': array([-0.63682546, -0.81060794, -0.96123659, -1.12689107, -1.32162451,\n",
      "       -1.53804146, -1.71389543, -1.87181748, -2.0267615 , -2.18140245]), 'split4_test_score': array([ 0.27081714,  0.04571478, -0.14253789, -0.2844311 , -0.44793639,\n",
      "       -0.58853792, -0.71234731, -0.82951968, -0.92781652, -1.02471002]), 'mean_test_score': array([-0.04384395, -0.22549522, -0.3886819 , -0.59088796, -0.82001903,\n",
      "       -1.05744203, -1.28578631, -1.51065343, -1.72006909, -1.92124135]), 'std_test_score': array([0.37160869, 0.36420563, 0.34138178, 0.34423949, 0.3841272 ,\n",
      "       0.44977771, 0.51205183, 0.61204752, 0.71311748, 0.82419374]), 'rank_test_score': array([ 1,  2,  3,  4,  5,  6,  7,  8,  9, 10], dtype=int32)}\n",
      "R2 for feature LABEL_ABPm  :  0.505072809748619\n",
      "Fitting 5 folds for each of 10 candidates, totalling 50 fits\n"
     ]
    },
    {
     "name": "stderr",
     "output_type": "stream",
     "text": [
      "[Parallel(n_jobs=6)]: Using backend LokyBackend with 6 concurrent workers.\n",
      "[Parallel(n_jobs=6)]: Done  38 tasks      | elapsed: 13.8min\n",
      "[Parallel(n_jobs=6)]: Done  50 out of  50 | elapsed: 23.1min finished\n"
     ]
    },
    {
     "name": "stdout",
     "output_type": "stream",
     "text": [
      "{'mean_fit_time': array([ 29.33529305,  50.15217581,  68.32146988,  95.81132073,\n",
      "       127.0476346 , 155.00124097, 206.52213483, 234.10829382,\n",
      "       290.46561227, 287.18926678]), 'std_fit_time': array([ 1.3624228 ,  2.75373346,  4.44484461,  7.87358326,  8.3224808 ,\n",
      "       17.60029208, 35.36992762, 26.67028525, 37.59911886, 29.5342148 ]), 'mean_score_time': array([2.51843181, 2.50076056, 2.49138608, 2.53562341, 2.5059135 ,\n",
      "       2.51753979, 2.51636314, 2.52095699, 2.55071263, 1.91032915]), 'std_score_time': array([0.02486152, 0.04319786, 0.02573233, 0.02679131, 0.03306611,\n",
      "       0.00859763, 0.01757959, 0.02285168, 0.0576419 , 0.26239243]), 'param_C': masked_array(data=[1.0, 2.0, 3.0, 4.0, 5.0, 6.0, 7.0, 8.0, 9.0, 10.0],\n",
      "             mask=[False, False, False, False, False, False, False, False,\n",
      "                   False, False],\n",
      "       fill_value='?',\n",
      "            dtype=object), 'params': [{'C': 1.0}, {'C': 2.0}, {'C': 3.0}, {'C': 4.0}, {'C': 5.0}, {'C': 6.0}, {'C': 7.0}, {'C': 8.0}, {'C': 9.0}, {'C': 10.0}], 'split0_test_score': array([-0.84854905, -0.69866455, -0.72520743, -0.91627762, -1.03285522,\n",
      "       -1.23343801, -1.38241044, -1.51174142, -1.64833965, -1.73878176]), 'split1_test_score': array([-0.18144649, -0.36062079, -0.53920667, -0.7869136 , -1.02457579,\n",
      "       -1.27319265, -1.5236425 , -1.78081447, -1.95859732, -2.18333792]), 'split2_test_score': array([-0.86158163, -1.76186172, -2.64500627, -3.07970388, -3.47086549,\n",
      "       -3.94011648, -4.45559696, -4.94626659, -5.36232979, -5.88244654]), 'split3_test_score': array([-1.57939685, -1.6544832 , -1.78829292, -1.91153004, -2.02914845,\n",
      "       -2.10115704, -2.2627768 , -2.38992573, -2.50344495, -2.64196386]), 'split4_test_score': array([-0.01856403, -0.32194133, -0.61005574, -0.80793526, -1.02021291,\n",
      "       -1.2241921 , -1.47417751, -1.7352293 , -1.91979568, -2.04064449]), 'mean_test_score': array([-0.69790761, -0.95951432, -1.26155381, -1.50047208, -1.71553157,\n",
      "       -1.95441926, -2.21972084, -2.4727955 , -2.67850148, -2.89743491]), 'std_test_score': array([0.55762803, 0.6260924 , 0.8276832 , 0.89364398, 0.95984245,\n",
      "       1.0470569 , 1.16124454, 1.27054266, 1.3703072 , 1.52066178]), 'rank_test_score': array([ 1,  2,  3,  4,  5,  6,  7,  8,  9, 10], dtype=int32)}\n",
      "R2 for feature LABEL_SpO2  :  0.510887553735046\n",
      "Fitting 5 folds for each of 10 candidates, totalling 50 fits\n"
     ]
    },
    {
     "name": "stderr",
     "output_type": "stream",
     "text": [
      "[Parallel(n_jobs=6)]: Using backend LokyBackend with 6 concurrent workers.\n",
      "[Parallel(n_jobs=6)]: Done  38 tasks      | elapsed:  3.5min\n",
      "[Parallel(n_jobs=6)]: Done  50 out of  50 | elapsed:  4.8min finished\n"
     ]
    },
    {
     "name": "stdout",
     "output_type": "stream",
     "text": [
      "{'mean_fit_time': array([16.81290073, 19.68092899, 22.55827308, 26.13143687, 29.55735402,\n",
      "       33.25632582, 34.88318014, 39.28785138, 42.3173522 , 40.2092742 ]), 'std_fit_time': array([0.53556888, 0.25729745, 0.94174783, 0.95243922, 0.57781273,\n",
      "       2.97172492, 1.54584047, 2.2654442 , 2.99741734, 5.59257032]), 'mean_score_time': array([2.63369579, 2.65311422, 2.71309643, 2.66118712, 2.73305945,\n",
      "       2.6698616 , 2.63144407, 2.63539357, 2.65155482, 1.98331952]), 'std_score_time': array([0.03272501, 0.0554388 , 0.04434087, 0.05863746, 0.07289693,\n",
      "       0.03234807, 0.01612869, 0.02253627, 0.04394569, 0.25927067]), 'param_C': masked_array(data=[1.0, 2.0, 3.0, 4.0, 5.0, 6.0, 7.0, 8.0, 9.0, 10.0],\n",
      "             mask=[False, False, False, False, False, False, False, False,\n",
      "                   False, False],\n",
      "       fill_value='?',\n",
      "            dtype=object), 'params': [{'C': 1.0}, {'C': 2.0}, {'C': 3.0}, {'C': 4.0}, {'C': 5.0}, {'C': 6.0}, {'C': 7.0}, {'C': 8.0}, {'C': 9.0}, {'C': 10.0}], 'split0_test_score': array([ 0.17124745,  0.16103977,  0.06340842,  0.01306424, -0.08018929,\n",
      "       -0.15346221, -0.15011796, -0.17433023, -0.20532511, -0.24384123]), 'split1_test_score': array([ 0.34770942,  0.29311205,  0.21148581,  0.13556545,  0.06709874,\n",
      "        0.00198957, -0.053868  , -0.1082543 , -0.15823412, -0.20951922]), 'split2_test_score': array([0.35037676, 0.33448658, 0.28833211, 0.26646809, 0.24327823,\n",
      "       0.20266979, 0.16328454, 0.10705435, 0.06444127, 0.02455264]), 'split3_test_score': array([-0.16003317, -0.27860957, -0.40010732, -0.48992537, -0.5668827 ,\n",
      "       -0.66602983, -0.78011096, -0.8905404 , -1.00150949, -1.12044559]), 'split4_test_score': array([ 0.35938532,  0.28106583,  0.21651539,  0.15352401,  0.10388951,\n",
      "        0.0621584 ,  0.0207691 , -0.02723893, -0.08172973, -0.1279755 ]), 'mean_test_score': array([ 0.21373716,  0.15821893,  0.07592688,  0.01573928, -0.0465611 ,\n",
      "       -0.11053486, -0.16000866, -0.2186619 , -0.27647144, -0.33544578]), 'std_test_score': array([0.19967071, 0.22591365, 0.24900707, 0.26529673, 0.279795  ,\n",
      "       0.30033291, 0.326524  , 0.34880071, 0.37386304, 0.40326576]), 'rank_test_score': array([ 1,  2,  3,  4,  5,  6,  7,  8,  9, 10], dtype=int32)}\n",
      "R2 for feature LABEL_Heartrate  :  0.5123337595260786\n"
     ]
    }
   ],
   "source": [
    "# labels that have a real value\n",
    "columns_2 = []\n",
    "\n",
    "for i in range(12, 16):\n",
    "    clf_w = SVR(kernel = 'poly', degree = 3)\n",
    "    parameters = {'C':np.linspace(1,10, 10)}\n",
    "    clf = model_selection.GridSearchCV(estimator= clf_w, param_grid = parameters, cv = 5,\n",
    "                                       refit = True, scoring = 'r2', verbose = 1, n_jobs=6)\n",
    "    clf.fit(data_train_scaled, df_train_labels.iloc[:,i])\n",
    "    print(clf.cv_results_)\n",
    "    \n",
    "    pred_train = clf.predict(data_train_scaled)\n",
    "    tmp = r2_score(y_pred= pred_train, y_true=df_train_labels.iloc[:,i])\n",
    "    print(\"R2 for feature\", list(df_train_labels)[i] , \" : \", tmp)\n",
    "    \n",
    "    pred = clf.predict(data_test_scaled)\n",
    "    columns_2.append(pred)\n",
    "    "
   ]
  },
  {
   "cell_type": "code",
   "execution_count": 28,
   "metadata": {},
   "outputs": [],
   "source": [
    "columns_final = columns_1 + columns_2"
   ]
  },
  {
   "cell_type": "markdown",
   "metadata": {},
   "source": [
    "### predict with Support vector regression and then compute sigmoid function"
   ]
  },
  {
   "cell_type": "code",
   "execution_count": null,
   "metadata": {
    "jupyter": {
     "source_hidden": true
    }
   },
   "outputs": [],
   "source": [
    "# first for the labels that have an output [0,1]\n",
    "\n",
    "# columns_1 = [test_pids]\n",
    "\n",
    "# for i in range(1,12):\n",
    "    \n",
    "#     clf = SVR(kernel = 'poly', degree = 3, max_iter = 10000)\n",
    "#     clf.fit(data_train_scaled, df_train_labels.iloc[:,i])\n",
    "#     pred = clf.predict(data_test_scaled)\n",
    "#     prob = np.empty(len(pred))\n",
    "#     for j in range(0, len(pred)):\n",
    "#         prob[j] = 1 / (1 + math.exp(-pred[j]))\n",
    "#     columns_1.append(prob)\n",
    "    \n",
    "#     pred_train = clf.predict(data_train_scaled)\n",
    "#     prob_train = np.empty(len(pred_train))\n",
    "#     for j in range(0, len(pred_train)):\n",
    "#         prob_train[j] = 1 / (1 + math.exp(-pred_train[j]))    \n",
    "#     tmp = roc_auc_score(y_score= prob_train, y_true= df_train_labels.iloc[:,i])\n",
    "#     print(\"ROC AUC for feature\", list(df_train_labels)[i] , \" : \", tmp)\n"
   ]
  },
  {
   "cell_type": "code",
   "execution_count": 31,
   "metadata": {
    "jupyter": {
     "source_hidden": true
    },
    "scrolled": true
   },
   "outputs": [
    {
     "name": "stdout",
     "output_type": "stream",
     "text": [
      "Fitting 5 folds for each of 20 candidates, totalling 100 fits\n"
     ]
    },
    {
     "name": "stderr",
     "output_type": "stream",
     "text": [
      "[Parallel(n_jobs=6)]: Using backend LokyBackend with 6 concurrent workers.\n",
      "[Parallel(n_jobs=6)]: Done  38 tasks      | elapsed:   21.3s\n",
      "[Parallel(n_jobs=6)]: Done 100 out of 100 | elapsed:  1.1min finished\n",
      "/usr/local/lib/python3.7/site-packages/sklearn/svm/_base.py:947: ConvergenceWarning: Liblinear failed to converge, increase the number of iterations.\n",
      "  \"the number of iterations.\", ConvergenceWarning)\n",
      "[Parallel(n_jobs=6)]: Using backend LokyBackend with 6 concurrent workers.\n"
     ]
    },
    {
     "name": "stdout",
     "output_type": "stream",
     "text": [
      "{'mean_fit_time': array([0.37665977, 1.84511938, 2.86973948, 3.4093596 , 3.73474226,\n",
      "       3.86177664, 3.82795773, 3.86649203, 4.12736535, 4.14848909,\n",
      "       4.05751448, 4.14853668, 4.22228336, 4.19334617, 4.31581178,\n",
      "       4.339077  , 4.24260187, 4.19198799, 4.1739429 , 3.61826892]), 'std_fit_time': array([0.0301936 , 0.17417734, 0.1671176 , 0.09573891, 0.13961228,\n",
      "       0.03360373, 0.03236656, 0.04460098, 0.09393808, 0.03945186,\n",
      "       0.05634337, 0.03362465, 0.028355  , 0.04193226, 0.04294149,\n",
      "       0.0659562 , 0.03528951, 0.03726532, 0.03116721, 0.30399726]), 'mean_score_time': array([0.00148292, 0.00127683, 0.00117359, 0.00118756, 0.0012589 ,\n",
      "       0.00117841, 0.00114655, 0.00125933, 0.00123529, 0.00113654,\n",
      "       0.00119953, 0.00126786, 0.00099845, 0.00114436, 0.00136724,\n",
      "       0.00132933, 0.001373  , 0.00125742, 0.00119443, 0.00080848]), 'std_score_time': array([2.17440013e-04, 1.30272278e-04, 1.93977250e-04, 2.64423596e-04,\n",
      "       2.00888920e-04, 2.07395365e-04, 2.36248873e-04, 1.85551976e-04,\n",
      "       1.85584777e-04, 1.98588050e-04, 1.53076047e-04, 1.90504078e-04,\n",
      "       1.58465435e-04, 2.19990382e-04, 9.13255326e-05, 8.83795001e-05,\n",
      "       3.89618924e-04, 1.87708569e-04, 1.69167577e-04, 1.27748848e-04]), 'param_C': masked_array(data=[0.1, 0.6210526315789474, 1.142105263157895,\n",
      "                   1.6631578947368424, 2.18421052631579,\n",
      "                   2.7052631578947373, 3.2263157894736847,\n",
      "                   3.747368421052632, 4.268421052631579,\n",
      "                   4.7894736842105265, 5.310526315789474,\n",
      "                   5.831578947368421, 6.352631578947369,\n",
      "                   6.873684210526316, 7.394736842105264,\n",
      "                   7.915789473684211, 8.436842105263159,\n",
      "                   8.957894736842105, 9.478947368421053, 10.0],\n",
      "             mask=[False, False, False, False, False, False, False, False,\n",
      "                   False, False, False, False, False, False, False, False,\n",
      "                   False, False, False, False],\n",
      "       fill_value='?',\n",
      "            dtype=object), 'params': [{'C': 0.1}, {'C': 0.6210526315789474}, {'C': 1.142105263157895}, {'C': 1.6631578947368424}, {'C': 2.18421052631579}, {'C': 2.7052631578947373}, {'C': 3.2263157894736847}, {'C': 3.747368421052632}, {'C': 4.268421052631579}, {'C': 4.7894736842105265}, {'C': 5.310526315789474}, {'C': 5.831578947368421}, {'C': 6.352631578947369}, {'C': 6.873684210526316}, {'C': 7.394736842105264}, {'C': 7.915789473684211}, {'C': 8.436842105263159}, {'C': 8.957894736842105}, {'C': 9.478947368421053}, {'C': 10.0}], 'split0_test_score': array([0.39367572, 0.39452486, 0.39499336, 0.39475012, 0.39492404,\n",
      "       0.39476493, 0.39392685, 0.39464419, 0.39361946, 0.39307912,\n",
      "       0.39291811, 0.39099847, 0.39547605, 0.39367837, 0.39116973,\n",
      "       0.39206135, 0.38412448, 0.38765209, 0.39151952, 0.39221659]), 'split1_test_score': array([0.40661522, 0.40754503, 0.4071999 , 0.4077485 , 0.40506346,\n",
      "       0.4075291 , 0.40643193, 0.40786247, 0.40540907, 0.40530595,\n",
      "       0.4051088 , 0.40776329, 0.40431887, 0.40492551, 0.40306341,\n",
      "       0.40158378, 0.40334269, 0.39731931, 0.39940613, 0.4069608 ]), 'split2_test_score': array([0.38167664, 0.38246137, 0.38280444, 0.382188  , 0.38248174,\n",
      "       0.38298777, 0.38212961, 0.38164263, 0.38160535, 0.38118417,\n",
      "       0.3801081 , 0.37975997, 0.37984813, 0.37808082, 0.3801027 ,\n",
      "       0.37669486, 0.37862651, 0.38284378, 0.38112822, 0.37479348]), 'split3_test_score': array([0.38951653, 0.39155417, 0.39187052, 0.3924499 , 0.39149592,\n",
      "       0.38858029, 0.3903999 , 0.39117311, 0.38996333, 0.38580962,\n",
      "       0.38846039, 0.38840346, 0.39134639, 0.38461977, 0.3895553 ,\n",
      "       0.38133391, 0.38882702, 0.39046173, 0.38592088, 0.38667973]), 'split4_test_score': array([0.3368509 , 0.33799414, 0.33780128, 0.33823725, 0.33732809,\n",
      "       0.33692872, 0.33449957, 0.33711387, 0.33967165, 0.3371361 ,\n",
      "       0.33688427, 0.33478419, 0.33690758, 0.33335483, 0.33651543,\n",
      "       0.33316437, 0.33403432, 0.33037269, 0.33159238, 0.33512024]), 'mean_test_score': array([0.381667  , 0.38281591, 0.3829339 , 0.38307475, 0.38225865,\n",
      "       0.38215816, 0.38147757, 0.38248726, 0.38205377, 0.38050299,\n",
      "       0.38069593, 0.38034188, 0.3815794 , 0.37893186, 0.38008131,\n",
      "       0.37696765, 0.377791  , 0.37772992, 0.37791343, 0.37915417]), 'std_test_score': array([0.02381899, 0.02380799, 0.02387929, 0.02385032, 0.02359917,\n",
      "       0.02404267, 0.0247575 , 0.02419336, 0.02253105, 0.02316315,\n",
      "       0.02334722, 0.02452071, 0.02368191, 0.02450906, 0.02297334,\n",
      "       0.02354417, 0.02336724, 0.02413773, 0.02394642, 0.02432477]), 'rank_test_score': array([ 8,  3,  2,  1,  5,  6, 10,  4,  7, 12, 11, 13,  9, 16, 14, 20, 18,\n",
      "       19, 17, 15], dtype=int32)}\n",
      "R2 for feature LABEL_RRate  :  0.3848377652521744\n",
      "Fitting 5 folds for each of 20 candidates, totalling 100 fits\n"
     ]
    },
    {
     "name": "stderr",
     "output_type": "stream",
     "text": [
      "[Parallel(n_jobs=6)]: Done  50 tasks      | elapsed:   19.1s\n",
      "[Parallel(n_jobs=6)]: Done 100 out of 100 | elapsed:   49.9s finished\n",
      "/usr/local/lib/python3.7/site-packages/sklearn/svm/_base.py:947: ConvergenceWarning: Liblinear failed to converge, increase the number of iterations.\n",
      "  \"the number of iterations.\", ConvergenceWarning)\n",
      "[Parallel(n_jobs=6)]: Using backend LokyBackend with 6 concurrent workers.\n"
     ]
    },
    {
     "name": "stdout",
     "output_type": "stream",
     "text": [
      "{'mean_fit_time': array([0.14033079, 0.76479621, 1.34748406, 1.83143563, 2.17888765,\n",
      "       2.42992315, 2.78290434, 3.10851498, 3.13098316, 3.39342022,\n",
      "       3.45551186, 3.55833025, 3.68782778, 3.71560326, 3.77993011,\n",
      "       3.69346962, 3.90296822, 3.97981229, 3.8629849 , 3.52852173]), 'std_fit_time': array([0.0136319 , 0.09668082, 0.10955783, 0.10771298, 0.19673337,\n",
      "       0.11704928, 0.11397408, 0.09703625, 0.12530069, 0.18489637,\n",
      "       0.13984047, 0.19602886, 0.12019974, 0.13370317, 0.14944065,\n",
      "       0.10712289, 0.17877291, 0.15506792, 0.11604887, 0.29402882]), 'mean_score_time': array([0.00104618, 0.00140123, 0.001087  , 0.00121737, 0.00115862,\n",
      "       0.00129442, 0.00124364, 0.0013597 , 0.00113182, 0.00134597,\n",
      "       0.00129452, 0.00117755, 0.00130978, 0.00124478, 0.00145187,\n",
      "       0.00120525, 0.00149841, 0.00116839, 0.0011085 , 0.00085721]), 'std_score_time': array([2.20926791e-04, 2.87246617e-04, 2.46704753e-04, 4.19097438e-04,\n",
      "       1.69461150e-04, 2.21574504e-04, 3.03948789e-04, 3.31379629e-04,\n",
      "       1.62624290e-04, 3.38514171e-04, 2.15217724e-04, 1.47190834e-04,\n",
      "       1.13246426e-04, 1.46087918e-04, 2.24849102e-04, 2.45061893e-04,\n",
      "       4.49952027e-04, 2.15412557e-04, 1.90832745e-04, 8.58315627e-05]), 'param_C': masked_array(data=[0.1, 0.6210526315789474, 1.142105263157895,\n",
      "                   1.6631578947368424, 2.18421052631579,\n",
      "                   2.7052631578947373, 3.2263157894736847,\n",
      "                   3.747368421052632, 4.268421052631579,\n",
      "                   4.7894736842105265, 5.310526315789474,\n",
      "                   5.831578947368421, 6.352631578947369,\n",
      "                   6.873684210526316, 7.394736842105264,\n",
      "                   7.915789473684211, 8.436842105263159,\n",
      "                   8.957894736842105, 9.478947368421053, 10.0],\n",
      "             mask=[False, False, False, False, False, False, False, False,\n",
      "                   False, False, False, False, False, False, False, False,\n",
      "                   False, False, False, False],\n",
      "       fill_value='?',\n",
      "            dtype=object), 'params': [{'C': 0.1}, {'C': 0.6210526315789474}, {'C': 1.142105263157895}, {'C': 1.6631578947368424}, {'C': 2.18421052631579}, {'C': 2.7052631578947373}, {'C': 3.2263157894736847}, {'C': 3.747368421052632}, {'C': 4.268421052631579}, {'C': 4.7894736842105265}, {'C': 5.310526315789474}, {'C': 5.831578947368421}, {'C': 6.352631578947369}, {'C': 6.873684210526316}, {'C': 7.394736842105264}, {'C': 7.915789473684211}, {'C': 8.436842105263159}, {'C': 8.957894736842105}, {'C': 9.478947368421053}, {'C': 10.0}], 'split0_test_score': array([0.59697294, 0.5999492 , 0.60006685, 0.60008817, 0.6000084 ,\n",
      "       0.59947194, 0.59969687, 0.60041431, 0.60029003, 0.60003143,\n",
      "       0.59938483, 0.60024199, 0.59946028, 0.6000405 , 0.59943685,\n",
      "       0.60066578, 0.6005793 , 0.59959227, 0.60063765, 0.59884926]), 'split1_test_score': array([0.6018758 , 0.60412833, 0.60406236, 0.60419801, 0.6042611 ,\n",
      "       0.60426929, 0.60419374, 0.60439033, 0.60422201, 0.60426839,\n",
      "       0.60454188, 0.60429214, 0.60457584, 0.60407657, 0.60442714,\n",
      "       0.60402895, 0.60414471, 0.60328723, 0.60413625, 0.60348997]), 'split2_test_score': array([0.60534124, 0.60927309, 0.60954136, 0.6098331 , 0.60977134,\n",
      "       0.60990868, 0.60994428, 0.60931627, 0.60986939, 0.60960377,\n",
      "       0.6097772 , 0.6097025 , 0.60882621, 0.60871618, 0.61015382,\n",
      "       0.60971011, 0.60889177, 0.61019564, 0.60955251, 0.60867089]), 'split3_test_score': array([0.55945738, 0.56243755, 0.56217234, 0.56221194, 0.56185655,\n",
      "       0.56186281, 0.56188548, 0.56251749, 0.5620053 , 0.562499  ,\n",
      "       0.56253619, 0.56117876, 0.56190614, 0.56212265, 0.56203328,\n",
      "       0.56072326, 0.56248744, 0.56221857, 0.5616951 , 0.56312074]), 'split4_test_score': array([0.58127317, 0.58468413, 0.58470885, 0.58461481, 0.58490797,\n",
      "       0.58452364, 0.5848712 , 0.58436759, 0.58471352, 0.58460087,\n",
      "       0.58449524, 0.58468181, 0.58444466, 0.58490702, 0.58498916,\n",
      "       0.58435275, 0.58463709, 0.5832391 , 0.58399473, 0.58540703]), 'mean_test_score': array([0.58898411, 0.59209446, 0.59211035, 0.59218921, 0.59216107,\n",
      "       0.59200727, 0.59211832, 0.5922012 , 0.59222005, 0.59220069,\n",
      "       0.59214707, 0.59201944, 0.59184262, 0.59197258, 0.59220805,\n",
      "       0.59189617, 0.59214806, 0.59170656, 0.59200325, 0.59190758]), 'std_test_score': array([0.01690479, 0.01694734, 0.01709423, 0.01716927, 0.01725737,\n",
      "       0.01726981, 0.01724854, 0.01703786, 0.01726239, 0.01702801,\n",
      "       0.01704226, 0.0175266 , 0.01708525, 0.01692859, 0.01724089,\n",
      "       0.01772061, 0.01692054, 0.01720106, 0.01739229, 0.01633577]), 'rank_test_score': array([20, 11, 10,  5,  6, 13,  9,  3,  1,  4,  8, 12, 18, 15,  2, 17,  7,\n",
      "       19, 14, 16], dtype=int32)}\n",
      "R2 for feature LABEL_ABPm  :  0.5942650536353751\n",
      "Fitting 5 folds for each of 20 candidates, totalling 100 fits\n"
     ]
    },
    {
     "name": "stderr",
     "output_type": "stream",
     "text": [
      "[Parallel(n_jobs=6)]: Done  38 tasks      | elapsed:   23.4s\n",
      "[Parallel(n_jobs=6)]: Done 100 out of 100 | elapsed:  1.1min finished\n"
     ]
    },
    {
     "name": "stdout",
     "output_type": "stream",
     "text": [
      "{'mean_fit_time': array([0.70487409, 3.01477675, 3.55682173, 3.71108637, 3.82644238,\n",
      "       3.96093736, 4.06440988, 4.16327481, 4.1999311 , 4.3748807 ,\n",
      "       4.43286967, 4.32352052, 4.43522792, 4.50657101, 4.65875335,\n",
      "       4.63944921, 4.64045367, 4.60776439, 4.77660542, 4.09745331]), 'std_fit_time': array([0.08916813, 0.24264078, 0.16550176, 0.10907231, 0.06963476,\n",
      "       0.07505626, 0.03917425, 0.04177427, 0.02236836, 0.07406129,\n",
      "       0.07014707, 0.03787632, 0.08255509, 0.0513171 , 0.07843107,\n",
      "       0.04800747, 0.06153179, 0.04507189, 0.03342084, 0.23454754]), 'mean_score_time': array([0.0011838 , 0.00125375, 0.00121236, 0.00094385, 0.0011343 ,\n",
      "       0.00117741, 0.00117011, 0.00113602, 0.00124197, 0.00105262,\n",
      "       0.00113435, 0.00118966, 0.00138984, 0.0012198 , 0.00113382,\n",
      "       0.0011395 , 0.00116291, 0.0013875 , 0.00130858, 0.00091629]), 'std_score_time': array([1.78717740e-04, 1.85774043e-04, 2.47979988e-04, 9.14088748e-05,\n",
      "       2.13854826e-04, 2.33592620e-04, 2.34368660e-04, 1.75817652e-04,\n",
      "       2.28925214e-04, 1.79101522e-04, 2.05799040e-04, 1.61688822e-04,\n",
      "       1.57240232e-04, 2.85354567e-04, 1.63953480e-04, 3.20956559e-04,\n",
      "       2.29035892e-04, 2.77116309e-04, 4.21035913e-04, 2.72314825e-04]), 'param_C': masked_array(data=[0.1, 0.6210526315789474, 1.142105263157895,\n",
      "                   1.6631578947368424, 2.18421052631579,\n",
      "                   2.7052631578947373, 3.2263157894736847,\n",
      "                   3.747368421052632, 4.268421052631579,\n",
      "                   4.7894736842105265, 5.310526315789474,\n",
      "                   5.831578947368421, 6.352631578947369,\n",
      "                   6.873684210526316, 7.394736842105264,\n",
      "                   7.915789473684211, 8.436842105263159,\n",
      "                   8.957894736842105, 9.478947368421053, 10.0],\n",
      "             mask=[False, False, False, False, False, False, False, False,\n",
      "                   False, False, False, False, False, False, False, False,\n",
      "                   False, False, False, False],\n",
      "       fill_value='?',\n",
      "            dtype=object), 'params': [{'C': 0.1}, {'C': 0.6210526315789474}, {'C': 1.142105263157895}, {'C': 1.6631578947368424}, {'C': 2.18421052631579}, {'C': 2.7052631578947373}, {'C': 3.2263157894736847}, {'C': 3.747368421052632}, {'C': 4.268421052631579}, {'C': 4.7894736842105265}, {'C': 5.310526315789474}, {'C': 5.831578947368421}, {'C': 6.352631578947369}, {'C': 6.873684210526316}, {'C': 7.394736842105264}, {'C': 7.915789473684211}, {'C': 8.436842105263159}, {'C': 8.957894736842105}, {'C': 9.478947368421053}, {'C': 10.0}], 'split0_test_score': array([0.35286413, 0.35010397, 0.34932137, 0.3488446 , 0.34899515,\n",
      "       0.34831472, 0.34485175, 0.34573472, 0.34132419, 0.3467081 ,\n",
      "       0.34936139, 0.34329199, 0.33457006, 0.34055177, 0.34417876,\n",
      "       0.34350447, 0.3383493 , 0.34745082, 0.32242056, 0.32419447]), 'split1_test_score': array([0.30369339, 0.30204533, 0.30073066, 0.30065315, 0.30311526,\n",
      "       0.29890276, 0.29855096, 0.30128083, 0.29278814, 0.29991752,\n",
      "       0.29533481, 0.29857591, 0.30395787, 0.29881382, 0.29637483,\n",
      "       0.29948484, 0.28720881, 0.28782571, 0.28585272, 0.2979475 ]), 'split2_test_score': array([0.45171747, 0.45181479, 0.45133712, 0.45238625, 0.45081349,\n",
      "       0.45084142, 0.45048692, 0.45118751, 0.45138333, 0.4459604 ,\n",
      "       0.44760963, 0.44630862, 0.44759043, 0.44621679, 0.44259501,\n",
      "       0.44627273, 0.44208341, 0.4386838 , 0.44163862, 0.44502579]), 'split3_test_score': array([0.35211759, 0.34857294, 0.34820234, 0.34695024, 0.34531287,\n",
      "       0.34753493, 0.34867895, 0.34387771, 0.34751984, 0.34041727,\n",
      "       0.33990709, 0.34407037, 0.33832765, 0.3465648 , 0.34474513,\n",
      "       0.32972306, 0.33098804, 0.33807032, 0.34398187, 0.34046574]), 'split4_test_score': array([0.44479787, 0.44127087, 0.44093806, 0.43997217, 0.43767913,\n",
      "       0.44109654, 0.43568177, 0.43902096, 0.43664708, 0.43564649,\n",
      "       0.43651658, 0.44058133, 0.43644441, 0.43330171, 0.43118153,\n",
      "       0.42527492, 0.432456  , 0.43218018, 0.41944225, 0.42463591]), 'mean_test_score': array([0.38103809, 0.37876158, 0.37810591, 0.37776128, 0.37718318,\n",
      "       0.37733807, 0.37565007, 0.37622035, 0.37393252, 0.37372996,\n",
      "       0.3737459 , 0.37456564, 0.37217809, 0.37308978, 0.37181505,\n",
      "       0.368852  , 0.36621711, 0.36884217, 0.3626672 , 0.36645388]), 'std_test_score': array([0.05774644, 0.05807268, 0.05834448, 0.05860075, 0.05723202,\n",
      "       0.05890767, 0.05800795, 0.05857532, 0.06046005, 0.05716482,\n",
      "       0.05879452, 0.05863031, 0.05836334, 0.05701272, 0.05607487,\n",
      "       0.05685576, 0.06066844, 0.058065  , 0.05887153, 0.05781533]), 'rank_test_score': array([ 1,  2,  3,  4,  6,  5,  8,  7, 10, 12, 11,  9, 14, 13, 15, 16, 19,\n",
      "       17, 20, 18], dtype=int32)}\n",
      "R2 for feature LABEL_SpO2  :  0.3866654518824183\n",
      "Fitting 5 folds for each of 20 candidates, totalling 100 fits\n"
     ]
    },
    {
     "name": "stderr",
     "output_type": "stream",
     "text": [
      "[Parallel(n_jobs=6)]: Using backend LokyBackend with 6 concurrent workers.\n",
      "[Parallel(n_jobs=6)]: Done  50 tasks      | elapsed:   18.9s\n",
      "[Parallel(n_jobs=6)]: Done 100 out of 100 | elapsed:   49.9s finished\n"
     ]
    },
    {
     "name": "stdout",
     "output_type": "stream",
     "text": [
      "{'mean_fit_time': array([0.14238529, 0.8435739 , 1.40691385, 1.91267419, 2.07772284,\n",
      "       2.34503956, 2.58634086, 2.82495112, 3.09933977, 3.33921504,\n",
      "       3.41598296, 3.510497  , 3.78512964, 3.70053749, 3.76686277,\n",
      "       3.90678439, 3.88004794, 3.70462565, 4.00099239, 3.63537078]), 'std_fit_time': array([0.03954871, 0.24611757, 0.37274413, 0.48070649, 0.24093776,\n",
      "       0.27298437, 0.2041579 , 0.15408963, 0.19853701, 0.15694872,\n",
      "       0.22033353, 0.13023352, 0.18470883, 0.17382976, 0.10250573,\n",
      "       0.12075567, 0.17414585, 0.10281227, 0.13496137, 0.44413943]), 'mean_score_time': array([0.00110798, 0.00110674, 0.00111575, 0.0011076 , 0.00114546,\n",
      "       0.00123849, 0.00123682, 0.00120792, 0.00123782, 0.00132041,\n",
      "       0.00124679, 0.00183454, 0.00125823, 0.0012773 , 0.00121498,\n",
      "       0.00120158, 0.00132957, 0.00105333, 0.00145855, 0.00082092]), 'std_score_time': array([2.20028052e-04, 2.83314273e-04, 1.86492128e-04, 1.91320569e-04,\n",
      "       1.79006003e-04, 8.04860444e-05, 1.55444789e-04, 3.07023690e-04,\n",
      "       2.20595476e-04, 6.18914426e-05, 1.89942658e-04, 1.35564799e-03,\n",
      "       1.80081680e-04, 1.57545626e-04, 1.70159859e-04, 2.39258973e-04,\n",
      "       2.61751027e-05, 2.05103898e-04, 2.69501874e-04, 1.08567915e-04]), 'param_C': masked_array(data=[0.1, 0.6210526315789474, 1.142105263157895,\n",
      "                   1.6631578947368424, 2.18421052631579,\n",
      "                   2.7052631578947373, 3.2263157894736847,\n",
      "                   3.747368421052632, 4.268421052631579,\n",
      "                   4.7894736842105265, 5.310526315789474,\n",
      "                   5.831578947368421, 6.352631578947369,\n",
      "                   6.873684210526316, 7.394736842105264,\n",
      "                   7.915789473684211, 8.436842105263159,\n",
      "                   8.957894736842105, 9.478947368421053, 10.0],\n",
      "             mask=[False, False, False, False, False, False, False, False,\n",
      "                   False, False, False, False, False, False, False, False,\n",
      "                   False, False, False, False],\n",
      "       fill_value='?',\n",
      "            dtype=object), 'params': [{'C': 0.1}, {'C': 0.6210526315789474}, {'C': 1.142105263157895}, {'C': 1.6631578947368424}, {'C': 2.18421052631579}, {'C': 2.7052631578947373}, {'C': 3.2263157894736847}, {'C': 3.747368421052632}, {'C': 4.268421052631579}, {'C': 4.7894736842105265}, {'C': 5.310526315789474}, {'C': 5.831578947368421}, {'C': 6.352631578947369}, {'C': 6.873684210526316}, {'C': 7.394736842105264}, {'C': 7.915789473684211}, {'C': 8.436842105263159}, {'C': 8.957894736842105}, {'C': 9.478947368421053}, {'C': 10.0}], 'split0_test_score': array([0.62452173, 0.62709117, 0.62700326, 0.6269707 , 0.62702224,\n",
      "       0.62702129, 0.62718446, 0.62759332, 0.62677795, 0.62715532,\n",
      "       0.62683162, 0.62713087, 0.62740691, 0.62738895, 0.62674391,\n",
      "       0.62661504, 0.62690658, 0.62737438, 0.62576168, 0.62615558]), 'split1_test_score': array([0.61721793, 0.61835975, 0.61854696, 0.61850116, 0.61859536,\n",
      "       0.61848698, 0.61811506, 0.61806679, 0.61835803, 0.61860673,\n",
      "       0.61871649, 0.61852904, 0.61819436, 0.6186753 , 0.61838982,\n",
      "       0.61816796, 0.6176652 , 0.61852614, 0.61818815, 0.61814638]), 'split2_test_score': array([0.58555089, 0.58743534, 0.58716864, 0.58698792, 0.58715591,\n",
      "       0.58707715, 0.58701168, 0.58720284, 0.58668349, 0.5864701 ,\n",
      "       0.58612856, 0.58684847, 0.58650577, 0.58602899, 0.58661291,\n",
      "       0.58632746, 0.58596053, 0.586519  , 0.58688449, 0.5863934 ]), 'split3_test_score': array([0.60428765, 0.60685127, 0.60724962, 0.60725851, 0.60700903,\n",
      "       0.60631186, 0.60558928, 0.60536142, 0.60432026, 0.60337305,\n",
      "       0.59745643, 0.59660381, 0.59915742, 0.60004465, 0.60244364,\n",
      "       0.60408411, 0.60720616, 0.60752372, 0.6065875 , 0.60664122]), 'split4_test_score': array([0.631171  , 0.63457488, 0.63465057, 0.63461882, 0.63488613,\n",
      "       0.63474649, 0.63481869, 0.63489751, 0.63501293, 0.63463199,\n",
      "       0.63458644, 0.63493925, 0.63469187, 0.63515438, 0.63452291,\n",
      "       0.63415918, 0.63489831, 0.63479091, 0.634578  , 0.63406649]), 'mean_test_score': array([0.61254984, 0.61486248, 0.61492381, 0.61486742, 0.61493373,\n",
      "       0.61472875, 0.61454383, 0.61462438, 0.61423053, 0.61404744,\n",
      "       0.61274391, 0.61281029, 0.61319127, 0.61345845, 0.61374264,\n",
      "       0.61387075, 0.61452736, 0.61494683, 0.61439996, 0.61428061]), 'std_test_score': array([0.01618068, 0.01653347, 0.01659776, 0.01664316, 0.0166856 ,\n",
      "       0.01674154, 0.01686305, 0.01690436, 0.0171081 , 0.01726719,\n",
      "       0.01818414, 0.01824357, 0.01787991, 0.01802384, 0.01724029,\n",
      "       0.01701126, 0.01701605, 0.01687772, 0.01654526, 0.01663428]), 'rank_test_score': array([20,  5,  3,  4,  2,  6,  8,  7, 12, 13, 19, 18, 17, 16, 15, 14,  9,\n",
      "        1, 10, 11], dtype=int32)}\n",
      "R2 for feature LABEL_Heartrate  :  0.6156478311919021\n"
     ]
    },
    {
     "name": "stderr",
     "output_type": "stream",
     "text": [
      "/usr/local/lib/python3.7/site-packages/sklearn/svm/_base.py:947: ConvergenceWarning: Liblinear failed to converge, increase the number of iterations.\n",
      "  \"the number of iterations.\", ConvergenceWarning)\n"
     ]
    }
   ],
   "source": [
    "#labels that have a real value\n",
    "\n",
    "columns_2 = []\n",
    "\n",
    "for i in range(12, 16):\n",
    "    clf_w = LinearSVR()\n",
    "    parameters = {'C':np.linspace(0.1,10, 20)}\n",
    "    clf = model_selection.GridSearchCV(estimator= clf_w, param_grid = parameters, cv = 5,\n",
    "                                       refit = True, scoring = 'r2', verbose = 1, n_jobs=6)\n",
    "    \n",
    "    clf.fit(data_train_scaled, df_train_labels.iloc[:,i])\n",
    "    print(clf.cv_results_)\n",
    "    pred = clf.predict(data_test_scaled)\n",
    "    columns_2.append(pred)\n",
    "    \n",
    "    pred_train = clf.predict(data_train_scaled)\n",
    "    tmp = r2_score(y_pred= pred_train, y_true=df_train_labels.iloc[:,i])\n",
    "    print(\"R2 for feature\", list(df_train_labels)[i] , \" : \", tmp)"
   ]
  },
  {
   "cell_type": "code",
   "execution_count": 89,
   "metadata": {},
   "outputs": [],
   "source": [
    "columns_final = columns_1 + columns_2"
   ]
  },
  {
   "cell_type": "markdown",
   "metadata": {},
   "source": [
    "## Save predictions"
   ]
  },
  {
   "cell_type": "code",
   "execution_count": 90,
   "metadata": {},
   "outputs": [
    {
     "name": "stdout",
     "output_type": "stream",
     "text": [
      "(16, 12664)\n"
     ]
    }
   ],
   "source": [
    "print(np.shape(columns_final))\n",
    "result = pd.DataFrame(columns_final).transpose()\n",
    "result.columns = list(df_train_labels)\n",
    "result.to_csv('./Results/prediction.csv.zip', index=False, float_format='%.3f', compression='zip')"
   ]
  },
  {
   "cell_type": "code",
   "execution_count": null,
   "metadata": {},
   "outputs": [],
   "source": [
    "result.to_csv('./Results/prediction.csv', index=False, float_format='%.3f')"
   ]
  },
  {
   "cell_type": "code",
   "execution_count": null,
   "metadata": {},
   "outputs": [],
   "source": []
  }
 ],
 "metadata": {
  "kernelspec": {
   "display_name": "Python 3",
   "language": "python",
   "name": "python3"
  },
  "language_info": {
   "codemirror_mode": {
    "name": "ipython",
    "version": 3
   },
   "file_extension": ".py",
   "mimetype": "text/x-python",
   "name": "python",
   "nbconvert_exporter": "python",
   "pygments_lexer": "ipython3",
   "version": "3.7.5"
  }
 },
 "nbformat": 4,
 "nbformat_minor": 4
}
