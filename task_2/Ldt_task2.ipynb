{
 "cells": [
  {
   "cell_type": "markdown",
   "metadata": {},
   "source": [
    "# Support vector machines"
   ]
  },
  {
   "cell_type": "code",
   "execution_count": 1,
   "metadata": {},
   "outputs": [],
   "source": [
    "# import libraries\n",
    "\n",
    "import numpy as np\n",
    "import math\n",
    "import pandas as pd\n",
    "import matplotlib.pyplot as plt\n",
    "import missingno as msno\n",
    "import seaborn as sns\n",
    "\n",
    "from matplotlib.backends.backend_pdf import PdfPages\n",
    "from sklearn.decomposition import PCA\n",
    "\n",
    "from sklearn.ensemble import BaggingClassifier, RandomForestClassifier\n",
    "from sklearn.feature_selection import GenericUnivariateSelect, mutual_info_classif, mutual_info_regression, f_regression, f_classif\n",
    "\n",
    "from sklearn import preprocessing\n",
    "from sklearn.svm import LinearSVR\n",
    "from sklearn.svm import LinearSVC\n",
    "from sklearn.svm import SVR\n",
    "from sklearn.svm import SVC\n",
    "from sklearn import linear_model\n",
    "\n",
    "from sklearn.preprocessing import StandardScaler\n",
    "from sklearn.metrics import roc_auc_score\n",
    "from sklearn.metrics import r2_score\n",
    "from sklearn.metrics.pairwise import pairwise_kernels\n",
    "\n",
    "from sklearn import model_selection\n",
    "\n",
    "from sklearn.impute import KNNImputer\n",
    "from sklearn.impute import SimpleImputer\n",
    "# explicitly require this experimental feature\n",
    "from sklearn.experimental import enable_iterative_imputer  # noqa\n",
    "# now you can import normally from sklearn.impute\n",
    "from sklearn.impute import IterativeImputer\n",
    "from sklearn.ensemble import RandomForestRegressor"
   ]
  },
  {
   "cell_type": "markdown",
   "metadata": {},
   "source": [
    "## Data pre-processing"
   ]
  },
  {
   "cell_type": "code",
   "execution_count": 4,
   "metadata": {},
   "outputs": [],
   "source": [
    "# load training data\n",
    "\n",
    "# load data from csv file\n",
    "df_train_features = pd.read_csv ('train_features.csv')\n",
    "df_train_labels = pd.read_csv('train_labels.csv')\n",
    "\n",
    "# Load test data\n",
    "df_test_features = pd.read_csv('test_features.csv')"
   ]
  },
  {
   "cell_type": "markdown",
   "metadata": {},
   "source": [
    "### Sorting labels"
   ]
  },
  {
   "cell_type": "code",
   "execution_count": 5,
   "metadata": {},
   "outputs": [],
   "source": [
    "df_train_labels = df_train_labels.sort_values('pid')\n",
    "df_train_features = df_train_features.sort_values('pid')\n",
    "df_test_features = df_test_features.sort_values('pid')\n",
    "\n",
    "# Droping time\n",
    "df_train_features = df_train_features.drop('Time', axis = 1)\n",
    "df_test_features = df_test_features.drop('Time', axis = 1)"
   ]
  },
  {
   "cell_type": "markdown",
   "metadata": {},
   "source": [
    " ### Histogram of the output labels "
   ]
  },
  {
   "cell_type": "markdown",
   "metadata": {},
   "source": [
    "We should check for class imbalance."
   ]
  },
  {
   "cell_type": "code",
   "execution_count": null,
   "metadata": {},
   "outputs": [],
   "source": [
    "df_train_labels.hist()\n",
    "\n",
    "# with PdfPages(\"./Results/Labels_histogram.pdf\") as export_pdf:\n",
    "#     for i in list(df_train_labels)[1:]:\n",
    "#         df_train_labels.hist(column = i, bins = 100)\n",
    "#         export_pdf.savefig()"
   ]
  },
  {
   "cell_type": "markdown",
   "metadata": {},
   "source": [
    "One can see the class imbalance problem here. Other observations:\n",
    "  * Heartrate, RRate, ABPm,  distribution is similar to a normal distribution\n",
    "  * SpO2 is like a censored normal distribution. \n",
    "  * For all of the other features, class imbalance is an obvious problem."
   ]
  },
  {
   "cell_type": "markdown",
   "metadata": {},
   "source": [
    "A basic strategy that could be used here: Upsample both classes! Do the upsampling efficiently, not just replicating the datapoints"
   ]
  },
  {
   "cell_type": "markdown",
   "metadata": {},
   "source": [
    "### Boxplot over features"
   ]
  },
  {
   "cell_type": "code",
   "execution_count": null,
   "metadata": {},
   "outputs": [],
   "source": [
    "# data inspection: \n",
    "#############################################\n",
    "# range of the provided data?\n",
    "print(df_train_features.agg([min, max]))\n",
    "\n",
    "# Boxplotting the data\n",
    "# fig2, ax2 = plt.subplots()\n",
    "# ax2.set_title('BUN')\n",
    "# ax2.boxplot(df_train_features.iloc[:,5], notch=True)\n",
    "\n",
    "plt.figure(figsize=(16, 16))\n",
    "ax = sns.boxplot(data = df_train_features.iloc[:,1:])\n",
    "ax.set_xticklabels(\n",
    "    ax.get_xticklabels(),\n",
    "    rotation=90,\n",
    "    horizontalalignment='right'\n",
    ");\n",
    "\n",
    "# with PdfPages(\"./Results/Train_columns_boxplot.pdf\") as export_pdf:\n",
    "#     for i in list(df_train_labels)[1:]:\n",
    "#         df_train_labels.hist(column = i, bins = 100)\n",
    "#         export_pdf.savefig()"
   ]
  },
  {
   "cell_type": "code",
   "execution_count": null,
   "metadata": {},
   "outputs": [],
   "source": [
    "# calculate the correlation matrix\n",
    "corr = df_train_features.corr()\n",
    "\n",
    "# plot the heatmap\n",
    "plt.figure(figsize=(16, 16))\n",
    "ax = sns.heatmap(corr, \n",
    "        xticklabels=corr.columns,\n",
    "        yticklabels=corr.columns, \n",
    "        vmin=-1, vmax=1, center=0, \n",
    "           cmap=sns.diverging_palette(20, 220, n=200))\n",
    "ax.set_xticklabels(\n",
    "    ax.get_xticklabels(),\n",
    "    rotation=45,\n",
    "    horizontalalignment='right'\n",
    ");"
   ]
  },
  {
   "cell_type": "markdown",
   "metadata": {},
   "source": [
    "### Visualizing pattern of missing values"
   ]
  },
  {
   "cell_type": "code",
   "execution_count": null,
   "metadata": {},
   "outputs": [],
   "source": [
    "# how much missing data? \n",
    "print(\"Percentage of missing values:\")\n",
    "print(df_train_features.isnull().sum(axis=0) / len(df_train_features))\n",
    "\n",
    "msno.matrix(df_train_features)\n",
    "\n",
    "# Plotting the correlation between the missing values\n",
    "msno.heatmap(df_train_features)"
   ]
  },
  {
   "cell_type": "markdown",
   "metadata": {},
   "source": [
    "### Train data pre-processing"
   ]
  },
  {
   "cell_type": "code",
   "execution_count": 6,
   "metadata": {},
   "outputs": [
    {
     "name": "stdout",
     "output_type": "stream",
     "text": [
      "--------Our Columns are are:  Index(['Age', 'EtCO2', 'PTT', 'BUN', 'Lactate', 'Temp', 'Hgb', 'HCO3',\n",
      "       'BaseExcess', 'RRate', 'Fibrinogen', 'Phosphate', 'WBC', 'Creatinine',\n",
      "       'PaCO2', 'AST', 'FiO2', 'Platelets', 'SaO2', 'Glucose', 'ABPm',\n",
      "       'Magnesium', 'Potassium', 'ABPd', 'Calcium', 'Alkalinephos', 'SpO2',\n",
      "       'Bilirubin_direct', 'Chloride', 'Hct', 'Heartrate', 'Bilirubin_total',\n",
      "       'TroponinI', 'ABPs', 'pH'],\n",
      "      dtype='object')\n",
      "--------Labels are:  Index(['pid', 'LABEL_BaseExcess', 'LABEL_Fibrinogen', 'LABEL_AST',\n",
      "       'LABEL_Alkalinephos', 'LABEL_Bilirubin_total', 'LABEL_Lactate',\n",
      "       'LABEL_TroponinI', 'LABEL_SaO2', 'LABEL_Bilirubin_direct',\n",
      "       'LABEL_EtCO2', 'LABEL_Sepsis', 'LABEL_RRate', 'LABEL_ABPm',\n",
      "       'LABEL_SpO2', 'LABEL_Heartrate'],\n",
      "      dtype='object')\n",
      "********Var classes are:  [Index(['pid', 'Age', 'Temp', 'RRate', 'ABPm', 'ABPd', 'SpO2', 'Heartrate',\n",
      "       'ABPs'],\n",
      "      dtype='object'), Index(['Hgb', 'PaCO2', 'FiO2', 'Glucose', 'Potassium', 'Hct', 'pH'], dtype='object'), Index(['EtCO2', 'PTT', 'BUN', 'Lactate', 'HCO3', 'BaseExcess', 'Fibrinogen',\n",
      "       'Phosphate', 'WBC', 'Creatinine', 'AST', 'Platelets', 'SaO2',\n",
      "       'Magnesium', 'Calcium', 'Alkalinephos', 'Bilirubin_direct', 'Chloride',\n",
      "       'Bilirubin_total', 'TroponinI'],\n",
      "      dtype='object')]\n"
     ]
    }
   ],
   "source": [
    "# Which columns have less than a percent NA\n",
    "NA_percent = 0.7\n",
    "NA_percent_severe = 0.91\n",
    "\n",
    "sel_features = df_train_features.isnull().sum(axis=0) < (NA_percent * df_train_features.shape[0])\n",
    "inds = np.where(sel_features == True)\n",
    "\n",
    "sel_features_2 = (df_train_features.isnull().sum(axis=0) < (NA_percent_severe * df_train_features.shape[0])) & (df_train_features.isnull().sum(axis=0) > (NA_percent * df_train_features.shape[0]))        \n",
    "inds_2 = np.where(sel_features_2 == True)\n",
    "\n",
    "sel_features_3 = df_train_features.isnull().sum(axis=0) > (NA_percent_severe * df_train_features.shape[0])\n",
    "inds_3 = np.where(sel_features_3 == True)\n",
    "\n",
    "vars_class1 = df_train_features.columns[inds[0]]\n",
    "vars_class2 = df_train_features.columns[inds_2[0]]\n",
    "vars_class3 = df_train_features.columns[inds_3[0]]\n",
    "vars_classes = [vars_class1, vars_class2, vars_class3]\n",
    "\n",
    "print(\"--------Our Columns are are: \",df_train_features.columns.drop(\"pid\"))\n",
    "print(\"--------Labels are: \", df_train_labels.columns)\n",
    "print(\"********Var classes are: \" ,vars_classes)"
   ]
  },
  {
   "cell_type": "code",
   "execution_count": 7,
   "metadata": {},
   "outputs": [
    {
     "name": "stderr",
     "output_type": "stream",
     "text": [
      "/usr/local/lib/python3.7/site-packages/ipykernel_launcher.py:30: RuntimeWarning: Mean of empty slice\n",
      "/usr/local/lib/python3.7/site-packages/ipykernel_launcher.py:25: RuntimeWarning: Mean of empty slice\n",
      "/usr/local/lib/python3.7/site-packages/numpy/lib/nanfunctions.py:1667: RuntimeWarning: Degrees of freedom <= 0 for slice.\n",
      "  keepdims=keepdims)\n",
      "/usr/local/lib/python3.7/site-packages/ipykernel_launcher.py:27: RuntimeWarning: All-NaN axis encountered\n",
      "/usr/local/lib/python3.7/site-packages/ipykernel_launcher.py:28: RuntimeWarning: All-NaN axis encountered\n"
     ]
    }
   ],
   "source": [
    "def aggregation_technique(dat, variables, pids, vars_classes):\n",
    "    \n",
    "    vars_class1 = vars_classes[0]\n",
    "    vars_class2 = vars_classes[1]\n",
    "    vars_class3 = vars_classes[2]\n",
    "    \n",
    "    aggregated_dataframe = []\n",
    "    for pid in pids:\n",
    "        # dataframe for this pid\n",
    "        df = dat.loc[dat['pid'] == pid]\n",
    "        calculated_features = []\n",
    "        for var in variables:\n",
    "            # how many NaN are in there for this variable\n",
    "            data = df[var].tolist()\n",
    "#             num_nan = np.count_nonzero(np.isnan(data))\n",
    "            if var == \"Age\":\n",
    "                calculated_features.append(data[0])\n",
    "                \n",
    "            elif var in vars_class1:\n",
    "                calculated_features = calculated_features + data\n",
    "#                 calculated_features.append(np.nanmean(data))\n",
    "#                 calculated_features.append(np.nanstd(data))\n",
    "                \n",
    "            elif var in vars_class2:\n",
    "                calculated_features.append(np.nanmean(data))\n",
    "                calculated_features.append(np.nanstd(data))\n",
    "                calculated_features.append(np.nanmin(data))\n",
    "                calculated_features.append(np.nanmax(data))\n",
    "            else:\n",
    "                calculated_features.append(np.nanmean(data))\n",
    "#                 calculated_features.append(np.nanstd(data))\n",
    "                \n",
    "        aggregated_dataframe.append(calculated_features)\n",
    "        \n",
    "    aggregated_dataframe = pd.DataFrame(aggregated_dataframe)\n",
    "    return(aggregated_dataframe)\n",
    " \n",
    "train_pids = df_train_features['pid'].unique()\n",
    "df_train_agg_features = aggregation_technique(df_train_features, df_train_features.columns.drop(\"pid\"), train_pids, vars_classes)"
   ]
  },
  {
   "cell_type": "code",
   "execution_count": 8,
   "metadata": {},
   "outputs": [
    {
     "name": "stdout",
     "output_type": "stream",
     "text": [
      "(18995, 133)\n",
      "RangeIndex(start=0, stop=133, step=1)\n",
      "        0    1     2     3    4     5     6     7     8     9    ...    123  \\\n",
      "0      34.0  NaN   NaN  12.0  NaN  36.0   NaN  38.0   NaN  37.0  ...  102.0   \n",
      "1      86.0  NaN  31.8  32.0  NaN   NaN   NaN   NaN   NaN  36.0  ...  132.0   \n",
      "2      66.0  NaN  34.6   8.0  NaN   NaN  37.0   NaN   NaN   NaN  ...  168.0   \n",
      "3      66.0  NaN  53.8  32.0  1.8  38.0  38.0  38.0  38.0  38.0  ...  103.0   \n",
      "4      42.0  NaN   NaN  18.0  NaN  36.0   NaN   NaN   NaN   NaN  ...  229.0   \n",
      "...     ...  ...   ...   ...  ...   ...   ...   ...   ...   ...  ...    ...   \n",
      "18990  52.0  NaN  25.8  11.0  1.7   NaN   NaN   NaN  36.0   NaN  ...    NaN   \n",
      "18991  66.0  NaN   NaN  33.0  NaN   NaN   NaN   NaN  38.0   NaN  ...  172.0   \n",
      "18992  44.0  NaN   NaN  15.0  NaN   NaN  38.0   NaN   NaN   NaN  ...   94.0   \n",
      "18993  70.0  NaN   NaN   NaN  NaN  37.0   NaN   NaN   NaN   NaN  ...  113.0   \n",
      "18994  60.0  NaN   NaN  13.0  NaN   NaN   NaN  37.0  37.0   NaN  ...  137.0   \n",
      "\n",
      "         124    125    126    127    128       129       130   131   132  \n",
      "0      100.0  104.0  110.0  125.0  106.0  7.370000  0.028284  7.33  7.41  \n",
      "1      125.0  129.0  126.0  148.0    NaN       NaN       NaN   NaN   NaN  \n",
      "2      124.0  130.0  116.0   86.0   90.0       NaN       NaN   NaN   NaN  \n",
      "3       95.0  102.0   98.0   97.0  100.0  7.352857  0.019060  7.33  7.39  \n",
      "4      234.0  239.0  204.0  149.0  209.0       NaN       NaN   NaN   NaN  \n",
      "...      ...    ...    ...    ...    ...       ...       ...   ...   ...  \n",
      "18990   75.0   86.0   96.0    NaN    NaN  7.330000  0.000000  7.33  7.33  \n",
      "18991  154.0  156.0  166.0    NaN  163.0       NaN       NaN   NaN   NaN  \n",
      "18992  108.0   89.0  102.0  114.0    NaN  7.300000  0.036742  7.25  7.34  \n",
      "18993  113.0  119.0  124.0    NaN  105.0       NaN       NaN   NaN   NaN  \n",
      "18994    NaN    NaN  135.0    NaN  135.0       NaN       NaN   NaN   NaN  \n",
      "\n",
      "[18995 rows x 133 columns]\n"
     ]
    }
   ],
   "source": [
    "print(df_train_agg_features.shape)\n",
    "print(df_train_agg_features.columns)\n",
    "print(df_train_agg_features)\n",
    "# pd.DataFrame(data_train_scaled)"
   ]
  },
  {
   "cell_type": "code",
   "execution_count": null,
   "metadata": {},
   "outputs": [],
   "source": [
    "# print(train_pids[1:50])\n",
    "# print(df_train_labels['pid'].tolist()[1:50])\n",
    "print(np.nanmean(df_train_features['Age'].tolist()))\n",
    "print(np.nanvar(df_train_features['Age'].tolist()))"
   ]
  },
  {
   "cell_type": "code",
   "execution_count": null,
   "metadata": {},
   "outputs": [],
   "source": [
    "# # Run the imputer with a simple Random Forest estimator\n",
    "# imp = IterativeImputer(RandomForestRegressor(n_estimators=5), max_iter=10, random_state=1)\n",
    "\n",
    "# #perform filling\n",
    "# df_train_agg_imputed_features = pd.DataFrame(imp.fit_transform(df_train_agg_features), columns=df_train_agg_features.columns)"
   ]
  },
  {
   "cell_type": "code",
   "execution_count": 9,
   "metadata": {},
   "outputs": [],
   "source": [
    "# impute missing data points\n",
    "#imp = SimpleImputer(strategy=\"mean\")\n",
    "imputer = KNNImputer(n_neighbors = 10)\n",
    "\n",
    "df_train_agg_imputed_features = imputer.fit_transform(df_train_agg_features)"
   ]
  },
  {
   "cell_type": "code",
   "execution_count": 117,
   "metadata": {},
   "outputs": [],
   "source": [
    "# scale the data\n",
    "min_max_scaler = preprocessing.StandardScaler()\n",
    "# standard_scalar = preprocessing.StandardScaler()\n",
    "\n",
    "data_train_scaled = min_max_scaler.fit_transform(df_train_agg_imputed_features)"
   ]
  },
  {
   "cell_type": "code",
   "execution_count": null,
   "metadata": {},
   "outputs": [],
   "source": [
    "# Visualizing the training data after imputing and aggregating\n",
    "\n",
    "plt.figure(figsize=(16, 16))\n",
    "ax = sns.boxplot(data = pd.DataFrame(data_train_scaled))\n",
    "ax.set_xticklabels(\n",
    "    list(df_train_features),\n",
    "    rotation=90,\n",
    "    horizontalalignment='right'\n",
    ");"
   ]
  },
  {
   "cell_type": "code",
   "execution_count": null,
   "metadata": {},
   "outputs": [],
   "source": [
    "# What is the correlation between the \n",
    "pd.DataFrame(data_train_scaled).corrwith(other = pd.DataFrame(df_train_agg_imputed_features), method = \"spearman\").transpose()"
   ]
  },
  {
   "cell_type": "markdown",
   "metadata": {},
   "source": [
    "### PCA plot "
   ]
  },
  {
   "cell_type": "code",
   "execution_count": null,
   "metadata": {
    "jupyter": {
     "source_hidden": true
    }
   },
   "outputs": [],
   "source": [
    "pca = PCA(n_components=2)\n",
    "\n",
    "principalComponents = pca.fit_transform(data_train_scaled)\n",
    "principalDf = pd.DataFrame(data = principalComponents\n",
    "             , columns = ['principal component 1', 'principal component 2'])\n",
    "\n",
    "finalDf = pd.concat([principalDf, df_train_labels[[df_train_labels.columns[1]]]], axis = 1)\n",
    "\n",
    "fig = plt.figure(figsize = (8,8))\n",
    "ax = fig.add_subplot(1,1,1) \n",
    "ax.set_xlabel('Principal Component 1', fontsize = 15)\n",
    "ax.set_ylabel('Principal Component 2', fontsize = 15)\n",
    "ax.set_title('2 component PCA for label i', fontsize = 20)\n",
    "targets = [0, 1]\n",
    "colors = ['r', 'g', 'b']\n",
    "for target, color in zip(targets,colors):\n",
    "    indicesToKeep = finalDf[df_train_labels.columns[1]] == target\n",
    "    ax.scatter(finalDf.loc[indicesToKeep, 'principal component 1']\n",
    "               , finalDf.loc[indicesToKeep, 'principal component 2']\n",
    "               , c = color\n",
    "               , s = 50)\n",
    "ax.legend(targets)\n",
    "ax.grid()"
   ]
  },
  {
   "cell_type": "markdown",
   "metadata": {},
   "source": [
    "### Test Data pre-processing"
   ]
  },
  {
   "cell_type": "code",
   "execution_count": 11,
   "metadata": {},
   "outputs": [
    {
     "name": "stderr",
     "output_type": "stream",
     "text": [
      "/usr/local/lib/python3.7/site-packages/ipykernel_launcher.py:30: RuntimeWarning: Mean of empty slice\n",
      "/usr/local/lib/python3.7/site-packages/ipykernel_launcher.py:25: RuntimeWarning: Mean of empty slice\n",
      "/usr/local/lib/python3.7/site-packages/numpy/lib/nanfunctions.py:1667: RuntimeWarning: Degrees of freedom <= 0 for slice.\n",
      "  keepdims=keepdims)\n",
      "/usr/local/lib/python3.7/site-packages/ipykernel_launcher.py:27: RuntimeWarning: All-NaN axis encountered\n",
      "/usr/local/lib/python3.7/site-packages/ipykernel_launcher.py:28: RuntimeWarning: All-NaN axis encountered\n"
     ]
    }
   ],
   "source": [
    "test_pids = df_test_features['pid'].unique()\n",
    "df_test_agg_features = aggregation_technique(df_test_features, df_test_features.columns.drop(\"pid\"),\n",
    "                                             test_pids, vars_classes)"
   ]
  },
  {
   "cell_type": "code",
   "execution_count": null,
   "metadata": {},
   "outputs": [],
   "source": [
    "print(df_test_agg_features.isna().sum(axis = 0).tolist()[0:100])\n",
    "print(df_train_agg_features.isna().sum(axis = 0).tolist()[0:100])"
   ]
  },
  {
   "cell_type": "code",
   "execution_count": 12,
   "metadata": {},
   "outputs": [],
   "source": [
    "# impute missing data points\n",
    "# should we impute it with the same imputer that we've used for train?\n",
    "\n",
    "imputer = KNNImputer(n_neighbors= 10)\n",
    "df_test_agg_imputed_features = imputer.fit_transform(df_test_agg_features)"
   ]
  },
  {
   "cell_type": "code",
   "execution_count": 118,
   "metadata": {},
   "outputs": [],
   "source": [
    "# scale test data\n",
    "min_max_scaler = preprocessing.StandardScaler()\n",
    "data_test_scaled = min_max_scaler.fit_transform(df_test_agg_imputed_features)"
   ]
  },
  {
   "cell_type": "code",
   "execution_count": 14,
   "metadata": {},
   "outputs": [],
   "source": [
    "pd.DataFrame(data_train_scaled).to_csv(\"./Results/dat_train_robust_scaled.csv\", index = False)\n",
    "pd.DataFrame(data_test_scaled).to_csv(\"./Results/dat_test_robust_scaled.csv\", index = False)"
   ]
  },
  {
   "cell_type": "code",
   "execution_count": 4,
   "metadata": {},
   "outputs": [],
   "source": [
    "# If want to run from here:\n",
    "# data_train_scaled = pd.read_csv(\"./Results/dat_train_scaled.csv\")\n",
    "# data_test_scaled = pd.read_csv(\"./Results/dat_test_scaled.csv\")"
   ]
  },
  {
   "cell_type": "markdown",
   "metadata": {},
   "source": [
    "## Fit a model & Predict"
   ]
  },
  {
   "cell_type": "markdown",
   "metadata": {},
   "source": [
    "### predict with support vector machine classification and use probabilities"
   ]
  },
  {
   "cell_type": "code",
   "execution_count": 10,
   "metadata": {},
   "outputs": [
    {
     "name": "stdout",
     "output_type": "stream",
     "text": [
      "[3, 5, 7, 9, 11, 12, 15, 16, 17, 19, 21, 22, 25, 28, 32, 36, 40, 42, 44, 46, 52, 58, 59, 60, 65, 66, 67, 68, 72]\n",
      "[10001 10003 10004 10005 10008 10011 10017 10018 10019 10025 10028  1003\n",
      " 10032 10033 10039  1004 10041 10042 10043 10046 10047  1005 10051  1006\n",
      " 10060 10062 10063 10064 10067]\n"
     ]
    }
   ],
   "source": [
    "print(list(set(df_test_features.pid))[1:30])\n",
    "test_pids = df_test_features['pid'].unique()\n",
    "print(test_pids[1:30])"
   ]
  },
  {
   "cell_type": "code",
   "execution_count": 114,
   "metadata": {},
   "outputs": [
    {
     "name": "stdout",
     "output_type": "stream",
     "text": [
      "For feature  LABEL_BaseExcess\n",
      "Fitting 5 folds for each of 4 candidates, totalling 20 fits\n"
     ]
    },
    {
     "name": "stderr",
     "output_type": "stream",
     "text": [
      "[Parallel(n_jobs=6)]: Using backend LokyBackend with 6 concurrent workers.\n",
      "[Parallel(n_jobs=6)]: Done  20 out of  20 | elapsed:  3.5min remaining:    0.0s\n",
      "[Parallel(n_jobs=6)]: Done  20 out of  20 | elapsed:  3.5min finished\n"
     ]
    },
    {
     "name": "stdout",
     "output_type": "stream",
     "text": [
      "[LibSVM]{'C': 20}\n",
      "0.690690816442676\n",
      "ROC AUC for feature LABEL_BaseExcess  :  0.7343770736473707\n"
     ]
    },
    {
     "data": {
      "image/png": "[encoded data removed]",
      "text/plain": [
       "<Figure size 432x288 with 1 Axes>"
      ]
     },
     "metadata": {
      "needs_background": "light"
     },
     "output_type": "display_data"
    }
   ],
   "source": [
    "# first for the labels that have an output [0,1]\n",
    "columns_1 = [test_pids]\n",
    "\n",
    "from sklearn.utils import resample\n",
    "\n",
    "for i in range(1, 12):\n",
    "    \n",
    "    # feature selection\n",
    "    transformer =  GenericUnivariateSelect(score_func= mutual_info_classif, mode ='k_best', param=50)\n",
    "    train_features = pd.DataFrame(transformer.fit_transform(data_train_scaled, df_train_labels.iloc[:,i]))\n",
    "    print(\"For feature \", df_train_labels.columns[i])\n",
    "#     print(df_train_agg_features.columns[transformer.get_support(indices = True)])\n",
    "    test_features = pd.DataFrame(transformer.transform(data_test_scaled))\n",
    "\n",
    "    \n",
    "    #clf = BaggingClassifier(SVC(kernel = 'poly', degree = 5, class_weight = 'balanced', verbose = True, C = 10))\n",
    "    clf_w = SVC(kernel = 'rbf', class_weight = {0:1,1:50}, verbose = 2)\n",
    "    \n",
    "    parameters = {'C':(0.1, 1, 10, 20)}\n",
    "    clf = model_selection.GridSearchCV(estimator= clf_w, param_grid = parameters, cv = 5,\n",
    "                                        refit = True, scoring = 'roc_auc', verbose = 2,\n",
    "                                       n_jobs=6, return_train_score = True)\n",
    "    \n",
    "#     weight_multiplier = 2\n",
    "#     class_1 = df_train_labels.iloc[:,i] == 1\n",
    "#     class_0 = df_train_labels.iloc[:,i] == 0\n",
    "\n",
    "#     samples_count = int(np.sum(class_1)) * weight_multiplier\n",
    "#     X = resample(train_features.loc[class_0,:],\n",
    "#                     n_samples = samples_count, replace = False, random_state=0)\n",
    "#     data_train = pd.concat([pd.DataFrame(X), pd.DataFrame(train_features.loc[class_1,:])], axis = 0)\n",
    "#     data_label = ([0] * samples_count) + ([1] * int(samples_count / weight_multiplier))\n",
    "#     print(data_train.shape)\n",
    "#     print(len(data_label))\n",
    "\n",
    "    clf.fit(train_features, df_train_labels.iloc[:,i])\n",
    "#     clf.fit(train_features, labels)\n",
    "    \n",
    "#     print(clf.cv_results_)\n",
    "    print(clf.best_params_)\n",
    "    print(clf.best_score_)\n",
    "    # compute probabilites as opposed to predictions\n",
    "    #dual_coefficients = clf.dual_coef_    # do we have to normalize with norm of this vector ?\n",
    "    \n",
    "    distance_hyperplane = clf.decision_function(test_features)\n",
    "    probability = np.empty(len(distance_hyperplane))\n",
    "    for j in range(0, len(probability)):\n",
    "        if distance_hyperplane[j] < 0:\n",
    "            probability[j] = 1 - 1/(1 + math.exp(distance_hyperplane[j]))\n",
    "        else:\n",
    "            probability[j] = 1/(1 + math.exp(-distance_hyperplane[j]))\n",
    "    columns_1.append(probability)\n",
    "\n",
    "    \n",
    "    distance_hyperplace_train = clf.decision_function(train_features)\n",
    "    probability_train = np.empty(len(distance_hyperplace_train))\n",
    "    for j in range(0, len(probability_train)):\n",
    "        if distance_hyperplace_train[j] < 0:\n",
    "            probability_train[j] = 1 - 1/(1 + math.exp(distance_hyperplace_train[j]))\n",
    "        else:\n",
    "            probability_train[j] = 1/(1 + math.exp(-distance_hyperplace_train[j]))\n",
    "    \n",
    "    tmp = roc_auc_score(y_score= probability_train, y_true= df_train_labels.iloc[:,i])\n",
    "    print(\"ROC AUC for feature\", list(df_train_labels)[i] , \" : \", tmp)\n",
    "    \n",
    "    svc_disp = plot_roc_curve(clf, train_features, df_train_labels.iloc[:,i])\n",
    "    plt.show()\n",
    "    break"
   ]
  },
  {
   "cell_type": "code",
   "execution_count": null,
   "metadata": {},
   "outputs": [],
   "source": [
    "# labels that have a real value\n",
    "columns_2 = []\n",
    "# from sklearn.kernel_ridge import KernelRidge\n",
    "\n",
    "for i in range(12, 16):\n",
    "    # feature selection\n",
    "    transformer =  GenericUnivariateSelect(score_func= mutual_info_regression, mode ='k_best', param =80)\n",
    "    train_features = transformer.fit_transform(data_train_scaled, df_train_labels.iloc[:,i])\n",
    "#     print(df_train_agg_features.columns[transformer.get_support(indices = True)])\n",
    "    test_features = transformer.transform(data_test_scaled)\n",
    "    \n",
    "    clf_w = SVR(kernel = 'rbf', cache_size = 6000)\n",
    "# #     clf_w = NuSVR(nu=0.5, kernel = 'linear')\n",
    "    parameters = {'C':(0.1, 1,10, 20)}\n",
    "    clf = model_selection.GridSearchCV(estimator= clf_w, param_grid = parameters, cv = 10,\n",
    "                                       refit = True, scoring = 'r2', verbose = 2, n_jobs=6)\n",
    "#     clf = KernelRidge(kernel = 'poly', degree = 5)\n",
    "#     parameters = {'alpha':(0.1,1,10,30)}\n",
    "#     clf = model_selection.GridSearchCV(estimator= clf, param_grid = parameters, cv = 3,\n",
    "#                                       refit = True, scoring = 'r2', verbose = 2, n_jobs=6)\n",
    "    clf.fit(train_features, df_train_labels.iloc[:,i])\n",
    "    \n",
    "#     print(clf.cv_results_)\n",
    "    print(clf.best_params_)\n",
    "    print(clf.best_score_)\n",
    "\n",
    "    pred_train = clf.predict(train_features)\n",
    "    tmp = r2_score(y_pred= pred_train, y_true=df_train_labels.iloc[:,i])\n",
    "    print(\"R2 for feature\", list(df_train_labels)[i] , \" : \", tmp)\n",
    "    \n",
    "    pred = clf.predict(test_features)\n",
    "    columns_2.append(pred)\n",
    "    "
   ]
  },
  {
   "cell_type": "code",
   "execution_count": null,
   "metadata": {},
   "outputs": [],
   "source": [
    "columns_final = columns_1 + columns_2"
   ]
  },
  {
   "cell_type": "markdown",
   "metadata": {},
   "source": [
    "### predict with Support vector regression and then compute sigmoid function"
   ]
  },
  {
   "cell_type": "code",
   "execution_count": null,
   "metadata": {
    "jupyter": {
     "source_hidden": true
    }
   },
   "outputs": [],
   "source": [
    "# first for the labels that have an output [0,1]\n",
    "\n",
    "# columns_1 = [test_pids]\n",
    "\n",
    "# for i in range(1,12):\n",
    "    \n",
    "#     clf = SVR(kernel = 'poly', degree = 3, max_iter = 10000)\n",
    "#     clf.fit(data_train_scaled, df_train_labels.iloc[:,i])\n",
    "#     pred = clf.predict(data_test_scaled)\n",
    "#     prob = np.empty(len(pred))\n",
    "#     for j in range(0, len(pred)):\n",
    "#         prob[j] = 1 / (1 + math.exp(-pred[j]))\n",
    "#     columns_1.append(prob)\n",
    "    \n",
    "#     pred_train = clf.predict(data_train_scaled)\n",
    "#     prob_train = np.empty(len(pred_train))\n",
    "#     for j in range(0, len(pred_train)):\n",
    "#         prob_train[j] = 1 / (1 + math.exp(-pred_train[j]))    \n",
    "#     tmp = roc_auc_score(y_score= prob_train, y_true= df_train_labels.iloc[:,i])\n",
    "#     print(\"ROC AUC for feature\", list(df_train_labels)[i] , \" : \", tmp)\n"
   ]
  },
  {
   "cell_type": "code",
   "execution_count": 160,
   "metadata": {
    "jupyter": {
     "source_hidden": true
    },
    "scrolled": true
   },
   "outputs": [
    {
     "name": "stdout",
     "output_type": "stream",
     "text": [
      "Fitting 5 folds for each of 6 candidates, totalling 30 fits\n"
     ]
    },
    {
     "name": "stderr",
     "output_type": "stream",
     "text": [
      "[Parallel(n_jobs=6)]: Using backend LokyBackend with 6 concurrent workers.\n",
      "[Parallel(n_jobs=6)]: Done  30 out of  30 | elapsed:    5.8s finished\n"
     ]
    },
    {
     "name": "stdout",
     "output_type": "stream",
     "text": [
      "[-1.32287941 -1.32307934  0.37849471  0.39649323  0.39782534  0.39623789]\n",
      "[ -1.34421369  -1.34444955   0.37507533   0.38957537  -0.40040609\n",
      " -19.22795471]\n",
      "{'C': 0.1}\n",
      "0.38957536925266956\n",
      "R2 for feature LABEL_RRate  :  0.39694070462031394\n",
      "Fitting 5 folds for each of 6 candidates, totalling 30 fits\n"
     ]
    },
    {
     "name": "stderr",
     "output_type": "stream",
     "text": [
      "[Parallel(n_jobs=6)]: Using backend LokyBackend with 6 concurrent workers.\n",
      "[Parallel(n_jobs=6)]: Done  30 out of  30 | elapsed:    3.2s finished\n",
      "/usr/local/lib/python3.7/site-packages/sklearn/svm/_base.py:947: ConvergenceWarning: Liblinear failed to converge, increase the number of iterations.\n",
      "  \"the number of iterations.\", ConvergenceWarning)\n"
     ]
    },
    {
     "name": "stdout",
     "output_type": "stream",
     "text": [
      "[-27.90138498 -27.90138498   0.41749752   0.58974558   0.59279281\n",
      "   0.59291003]\n",
      "[-27.9692819  -27.9692819    0.41537497   0.58783426   0.59078415\n",
      "   0.59089003]\n",
      "{'C': 10}\n",
      "0.5908900282975706\n",
      "R2 for feature LABEL_ABPm  :  0.5927004801879588\n",
      "Fitting 5 folds for each of 3 candidates, totalling 15 fits\n"
     ]
    },
    {
     "name": "stderr",
     "output_type": "stream",
     "text": [
      "[Parallel(n_jobs=6)]: Using backend LokyBackend with 6 concurrent workers.\n",
      "[Parallel(n_jobs=6)]: Done  12 out of  15 | elapsed:  1.1min remaining:   16.6s\n",
      "[Parallel(n_jobs=6)]: Done  15 out of  15 | elapsed:  1.5min finished\n"
     ]
    },
    {
     "name": "stdout",
     "output_type": "stream",
     "text": [
      "[0.28655082 0.34043881 0.38054968]\n",
      "[0.26915109 0.27711666 0.27521375]\n",
      "{'C': 0.5}\n",
      "0.2771166560285897\n",
      "R2 for feature LABEL_SpO2  :  0.33921743813408733\n",
      "Fitting 5 folds for each of 6 candidates, totalling 30 fits\n"
     ]
    },
    {
     "name": "stderr",
     "output_type": "stream",
     "text": [
      "[Parallel(n_jobs=6)]: Using backend LokyBackend with 6 concurrent workers.\n",
      "[Parallel(n_jobs=6)]: Done  30 out of  30 | elapsed:    3.4s finished\n"
     ]
    },
    {
     "name": "stdout",
     "output_type": "stream",
     "text": [
      "[-21.92334149 -21.92334149   0.46996217   0.62013462   0.62272145\n",
      "   0.62239563]\n",
      "[-21.98479027 -21.98479027   0.46679473   0.61783855   0.62032556\n",
      "   0.61980218]\n",
      "{'C': 1}\n",
      "0.6203255557773912\n",
      "R2 for feature LABEL_Heartrate  :  0.622974796443698\n"
     ]
    }
   ],
   "source": [
    "#labels that have a real value\n",
    "from sklearn.metrics import make_scorer\n",
    "columns_2 = []\n",
    "\n",
    "from sklearn.ensemble import BaggingRegressor\n",
    "\n",
    "for i in range(12, 16):\n",
    "    # feature selection\n",
    "    transformer =  GenericUnivariateSelect(score_func= mutual_info_regression, mode ='k_best', param=30)\n",
    "    train_features = transformer.fit_transform(data_train_scaled, df_train_labels.iloc[:,i])\n",
    "#     print(list(data_train_scaled)[transformer.get_support(indices = True)])\n",
    "    test_features = transformer.transform(data_test_scaled)\n",
    "    \n",
    "    if(i == 14):\n",
    "        # Bagging the regressor have been tried, does not help\n",
    "        clf_w = SVR(kernel = 'rbf', tol = 1e-4, cache_size= 7000, epsilon = 0.1)\n",
    "        \n",
    "        # This parameter vector have been tried, 1 is the best\n",
    "        #parameters = {'base_estimator__C':(0.001, 0.01, 0.1, 1,10, 20)}\n",
    "        #parameters = {'C':np.linspace(0.1,1,10)}\n",
    "        parameters = {'C':(0.1,0.5,1)}\n",
    "    else:\n",
    "        clf_w = LinearSVR()\n",
    "        parameters = {'C':(0.001, 0.001, 0.01, 0.1,1,10)}\n",
    "        \n",
    "    clf = model_selection.GridSearchCV(estimator= clf_w, param_grid = parameters, cv = 5,\n",
    "                                       refit = True, scoring = make_scorer(r2_score), verbose = 2,\n",
    "                                       n_jobs=6, return_train_score = True)\n",
    "    clf.fit(train_features, df_train_labels.iloc[:,i])\n",
    "        \n",
    "    print(clf.cv_results_['mean_train_score'])\n",
    "    print(clf.cv_results_['mean_test_score'])\n",
    "    print(clf.best_params_)\n",
    "    print(clf.best_score_)\n",
    "    \n",
    "    pred = clf.predict(test_features)\n",
    "    columns_2.append(pred)\n",
    "    \n",
    "    pred_train = clf.predict(train_features)\n",
    "    tmp = r2_score(y_pred= pred_train, y_true=df_train_labels.iloc[:,i])\n",
    "    print(\"R2 for feature\", list(df_train_labels)[i] , \" : \", tmp)\n",
    "    "
   ]
  },
  {
   "cell_type": "code",
   "execution_count": 126,
   "metadata": {},
   "outputs": [],
   "source": [
    "transformer =  GenericUnivariateSelect(score_func= mutual_info_regression, mode ='k_best', param=40)\n",
    "train_features = transformer.fit_transform(data_train_scaled, df_train_labels.iloc[:,14])\n",
    "test_features = transformer.transform(data_test_scaled)"
   ]
  },
  {
   "cell_type": "code",
   "execution_count": 140,
   "metadata": {},
   "outputs": [
    {
     "name": "stdout",
     "output_type": "stream",
     "text": [
      "Int64Index([  6,  23,  24,  26,  33,  34,  39,  40,  41,  43,  44,  46,  47,\n",
      "             49,  54,  57,  60,  72,  77,  85,  86,  87,  88,  89,  90,  91,\n",
      "             92,  93,  94,  95,  96,  99, 101, 102, 103, 107, 112, 122, 129,\n",
      "            130],\n",
      "           dtype='int64')\n"
     ]
    }
   ],
   "source": [
    "# df_train_agg_features.columns[transformer.get_support(indices = True)]\n",
    "print(df_train_agg_features.columns[transformer.get_support(indices = True)])\n",
    "# transformer.get_support(indices = True)\n",
    "# print(list(df_train_agg_features))"
   ]
  },
  {
   "cell_type": "code",
   "execution_count": 43,
   "metadata": {},
   "outputs": [],
   "source": [
    "columns_final = columns_1 + columns_2"
   ]
  },
  {
   "cell_type": "markdown",
   "metadata": {},
   "source": [
    "### Random forest"
   ]
  },
  {
   "cell_type": "code",
   "execution_count": null,
   "metadata": {},
   "outputs": [],
   "source": [
    "# Random forest Classifier\n",
    "columns_1 = [test_pids]\n",
    "for i in range(1, 12):\n",
    "    clf = RandomForestClassifier(min_samples_leaf=2, class_weight='balanced', oob_score=False, bootstrap=False)\n",
    "    clf.fit(data_train_scaled, df_train_labels.iloc[:,i])\n",
    "    print(clf.oob_score)\n",
    "    # compute probabilites as opposed to predictions\n",
    "    probability = clf.apply(data_test_scaled)\n",
    "    probs = [i[1] for i in probability] \n",
    "    columns_1.append(probs)\n",
    "    \n",
    "    \n",
    "    probability = clf.predict_proba(data_train_scaled)\n",
    "\n",
    "    probs = [i[1] for i in probability]            \n",
    "    tmp = roc_auc_score(y_score= probs, y_true= df_train_labels.iloc[:,i])\n",
    "    print(\"ROC AUC for feature\", list(df_train_labels)[i] , \" : \", tmp)"
   ]
  },
  {
   "cell_type": "markdown",
   "metadata": {},
   "source": [
    "# Kernelized Logistic Regression"
   ]
  },
  {
   "cell_type": "code",
   "execution_count": 119,
   "metadata": {},
   "outputs": [
    {
     "name": "stdout",
     "output_type": "stream",
     "text": [
      "[    1     2     4 ... 18991 18993 18994]\n",
      "(15288, 70)\n",
      "15288\n",
      "0.549967623570041\n",
      "5096\n",
      "13899\n"
     ]
    }
   ],
   "source": [
    "from sklearn.utils import resample\n",
    "i = 1\n",
    "\n",
    "# transformer =  GenericUnivariateSelect(score_func= mutual_info_classif, mode ='k_best', param = 40)\n",
    "# train_features = transformer.fit_transform(data_train_scaled, df_train_labels.iloc[:,i])\n",
    "# #     print(df_train_agg_features.columns[transformer.get_support(indices = True)])\n",
    "# test_features = transformer.transform(data_test_scaled)\n",
    "\n",
    "\n",
    "class_1 = df_train_labels.iloc[:,i] == 1\n",
    "class_0 = df_train_labels.iloc[:,i] == 0\n",
    "print(np.where(class_0)[0])\n",
    "\n",
    "weight_multiplier = 2\n",
    "samples_count = int(np.sum(df_train_labels.iloc[:,i])) * weight_multiplier\n",
    "X = resample(train_features[np.where(class_0)[0]],\n",
    "                n_samples = samples_count, replace = False, random_state=0)\n",
    "data_train = pd.concat([pd.DataFrame(X), pd.DataFrame(train_features[np.where(class_1)[0]])], axis = 0)\n",
    "data_label = ([0] * samples_count) + ([1] * int(samples_count / weight_multiplier))\n",
    "\n",
    "print(data_train.shape)\n",
    "print(len(data_label))\n",
    "\n",
    "weights = data_train.shape[0] / (2 * np.bincount(df_train_labels.iloc[:,i]))\n",
    "print(weights[0])\n",
    "print(np.sum(class_1))\n",
    "print(np.sum(class_0))"
   ]
  },
  {
   "cell_type": "code",
   "execution_count": 122,
   "metadata": {},
   "outputs": [
    {
     "name": "stdout",
     "output_type": "stream",
     "text": [
      "0.549967623570041\n",
      "5096\n",
      "13899\n",
      "Fitting 10 folds for each of 9 candidates, totalling 90 fits\n"
     ]
    },
    {
     "name": "stderr",
     "output_type": "stream",
     "text": [
      "[Parallel(n_jobs=6)]: Using backend LokyBackend with 6 concurrent workers.\n",
      "[Parallel(n_jobs=6)]: Done  38 tasks      | elapsed:    3.2s\n",
      "[Parallel(n_jobs=6)]: Done  90 out of  90 | elapsed:   32.3s finished\n"
     ]
    },
    {
     "name": "stdout",
     "output_type": "stream",
     "text": [
      "[0.71575562 0.71894989 0.73676011 0.77004914 0.79802177 0.80761275\n",
      " 0.809319   0.81018807 0.81046325]\n",
      "[0.71492964 0.71806652 0.73535174 0.76631822 0.78953973 0.79600478\n",
      " 0.79675519 0.79693634 0.79690449]\n",
      "{'C': 20}\n",
      "0.7969363401599117\n",
      "ROC AUC for feature LABEL_BaseExcess  :  0.8096054282843158\n"
     ]
    },
    {
     "data": {
      "image/png": "[encoded data removed]",
      "text/plain": [
       "<Figure size 432x288 with 1 Axes>"
      ]
     },
     "metadata": {
      "needs_background": "light"
     },
     "output_type": "display_data"
    },
    {
     "name": "stdout",
     "output_type": "stream",
     "text": [
      "0.4344416027280477\n",
      "5096\n",
      "13899\n",
      "Fitting 10 folds for each of 9 candidates, totalling 90 fits\n"
     ]
    },
    {
     "name": "stderr",
     "output_type": "stream",
     "text": [
      "[Parallel(n_jobs=6)]: Using backend LokyBackend with 6 concurrent workers.\n",
      "[Parallel(n_jobs=6)]: Done  64 tasks      | elapsed:   16.4s\n",
      "[Parallel(n_jobs=6)]: Done  90 out of  90 | elapsed:   34.5s finished\n"
     ]
    },
    {
     "name": "stdout",
     "output_type": "stream",
     "text": [
      "[0.65496692 0.65777154 0.67645667 0.71770797 0.74732254 0.75612164\n",
      " 0.75769047 0.75857635 0.75889536]\n",
      "[0.6516678  0.65411283 0.67010492 0.70090445 0.71298253 0.71139017\n",
      " 0.71020216 0.70941882 0.70901541]\n",
      "{'C': 1}\n",
      "0.7129825256288623\n",
      "ROC AUC for feature LABEL_Fibrinogen  :  0.7461437502537246\n"
     ]
    },
    {
     "data": {
      "image/png": "[encoded data removed]",
      "text/plain": [
       "<Figure size 432x288 with 1 Axes>"
      ]
     },
     "metadata": {
      "needs_background": "light"
     },
     "output_type": "display_data"
    },
    {
     "name": "stdout",
     "output_type": "stream",
     "text": [
      "0.5293262239457102\n",
      "5096\n",
      "13899\n",
      "Fitting 10 folds for each of 9 candidates, totalling 90 fits\n"
     ]
    },
    {
     "name": "stderr",
     "output_type": "stream",
     "text": [
      "[Parallel(n_jobs=6)]: Using backend LokyBackend with 6 concurrent workers.\n",
      "[Parallel(n_jobs=6)]: Done  64 tasks      | elapsed:   14.5s\n",
      "[Parallel(n_jobs=6)]: Done  90 out of  90 | elapsed:   26.7s finished\n"
     ]
    },
    {
     "name": "stdout",
     "output_type": "stream",
     "text": [
      "[0.63637241 0.63872565 0.65322603 0.67732916 0.69480286 0.70006905\n",
      " 0.70087307 0.70124553 0.7013555 ]\n",
      "[0.63528618 0.63753395 0.65100773 0.67113422 0.67981933 0.67962252\n",
      " 0.67895101 0.67839875 0.67812331]\n",
      "{'C': 1}\n",
      "0.6798193254681066\n",
      "ROC AUC for feature LABEL_AST  :  0.6943659596297165\n"
     ]
    },
    {
     "data": {
      "image/png": "[encoded data removed]",
      "text/plain": [
       "<Figure size 432x288 with 1 Axes>"
      ]
     },
     "metadata": {
      "needs_background": "light"
     },
     "output_type": "display_data"
    },
    {
     "name": "stdout",
     "output_type": "stream",
     "text": [
      "0.5268817204301075\n",
      "5096\n",
      "13899\n",
      "Fitting 10 folds for each of 9 candidates, totalling 90 fits\n"
     ]
    },
    {
     "name": "stderr",
     "output_type": "stream",
     "text": [
      "[Parallel(n_jobs=6)]: Using backend LokyBackend with 6 concurrent workers.\n",
      "[Parallel(n_jobs=6)]: Done  64 tasks      | elapsed:   15.9s\n",
      "[Parallel(n_jobs=6)]: Done  90 out of  90 | elapsed:   28.8s finished\n"
     ]
    },
    {
     "name": "stdout",
     "output_type": "stream",
     "text": [
      "[0.63852159 0.64090802 0.65557661 0.67996849 0.69778875 0.70327251\n",
      " 0.70411805 0.70449926 0.7046166 ]\n",
      "[0.63723627 0.63953876 0.65321135 0.6734781  0.68287262 0.68303061\n",
      " 0.6824389  0.6818895  0.68157774]\n",
      "{'C': 5}\n",
      "0.683030613473659\n",
      "ROC AUC for feature LABEL_Alkalinephos  :  0.7023392763667536\n"
     ]
    },
    {
     "data": {
      "image/png": "[encoded data removed]",
      "text/plain": [
       "<Figure size 432x288 with 1 Axes>"
      ]
     },
     "metadata": {
      "needs_background": "light"
     },
     "output_type": "display_data"
    },
    {
     "name": "stdout",
     "output_type": "stream",
     "text": [
      "0.5299133448873483\n",
      "5096\n",
      "13899\n",
      "Fitting 10 folds for each of 9 candidates, totalling 90 fits\n"
     ]
    },
    {
     "name": "stderr",
     "output_type": "stream",
     "text": [
      "[Parallel(n_jobs=6)]: Using backend LokyBackend with 6 concurrent workers.\n",
      "[Parallel(n_jobs=6)]: Done  38 tasks      | elapsed:    2.9s\n",
      "[Parallel(n_jobs=6)]: Done  90 out of  90 | elapsed:   35.6s finished\n"
     ]
    },
    {
     "name": "stdout",
     "output_type": "stream",
     "text": [
      "[0.63800418 0.64043499 0.65531557 0.67972849 0.69731666 0.70282727\n",
      " 0.7037088  0.70411845 0.70423689]\n",
      "[0.63669183 0.63899425 0.65279378 0.67287026 0.68150057 0.68169721\n",
      " 0.68118393 0.68066135 0.68040348]\n",
      "{'C': 5}\n",
      "0.6816972072118552\n",
      "ROC AUC for feature LABEL_Bilirubin_total  :  0.7018258933819765\n"
     ]
    },
    {
     "data": {
      "image/png": "[encoded data removed]",
      "text/plain": [
       "<Figure size 432x288 with 1 Axes>"
      ]
     },
     "metadata": {
      "needs_background": "light"
     },
     "output_type": "display_data"
    },
    {
     "name": "stdout",
     "output_type": "stream",
     "text": [
      "0.5031595576619273\n",
      "5096\n",
      "13899\n",
      "Fitting 10 folds for each of 9 candidates, totalling 90 fits\n"
     ]
    },
    {
     "name": "stderr",
     "output_type": "stream",
     "text": [
      "[Parallel(n_jobs=6)]: Using backend LokyBackend with 6 concurrent workers.\n",
      "[Parallel(n_jobs=6)]: Done  38 tasks      | elapsed:    3.2s\n",
      "[Parallel(n_jobs=6)]: Done  90 out of  90 | elapsed:   30.2s finished\n"
     ]
    },
    {
     "name": "stdout",
     "output_type": "stream",
     "text": [
      "[0.68963727 0.69147209 0.70257799 0.72312617 0.74102413 0.74682424\n",
      " 0.7477034  0.74809393 0.74820549]\n",
      "[0.68870901 0.69046657 0.70086123 0.71778942 0.72750018 0.72746729\n",
      " 0.726762   0.72607747 0.72571538]\n",
      "{'C': 1}\n",
      "0.7275001762213185\n",
      "ROC AUC for feature LABEL_Lactate  :  0.7407502834781498\n"
     ]
    },
    {
     "data": {
      "image/png": "[encoded data removed]",
      "text/plain": [
       "<Figure size 432x288 with 1 Axes>"
      ]
     },
     "metadata": {
      "needs_background": "light"
     },
     "output_type": "display_data"
    },
    {
     "name": "stdout",
     "output_type": "stream",
     "text": [
      "0.44701754385964915\n",
      "5096\n",
      "13899\n",
      "Fitting 10 folds for each of 9 candidates, totalling 90 fits\n"
     ]
    },
    {
     "name": "stderr",
     "output_type": "stream",
     "text": [
      "[Parallel(n_jobs=6)]: Using backend LokyBackend with 6 concurrent workers.\n",
      "[Parallel(n_jobs=6)]: Done  38 tasks      | elapsed:    3.3s\n",
      "[Parallel(n_jobs=6)]: Done  90 out of  90 | elapsed:   41.8s finished\n"
     ]
    },
    {
     "name": "stdout",
     "output_type": "stream",
     "text": [
      "[0.6373229  0.6411379  0.66211302 0.70584393 0.74020809 0.749073\n",
      " 0.75046453 0.75119048 0.75147895]\n",
      "[0.63500697 0.6385271  0.65747615 0.69410571 0.71602704 0.717712\n",
      " 0.71702646 0.71640748 0.7161088 ]\n",
      "{'C': 5}\n",
      "0.7177120009249894\n",
      "ROC AUC for feature LABEL_TroponinI  :  0.7476536592139981\n"
     ]
    },
    {
     "data": {
      "image/png": "[encoded data removed]",
      "text/plain": [
       "<Figure size 432x288 with 1 Axes>"
      ]
     },
     "metadata": {
      "needs_background": "light"
     },
     "output_type": "display_data"
    },
    {
     "name": "stdout",
     "output_type": "stream",
     "text": [
      "0.5251442704039572\n",
      "5096\n",
      "13899\n",
      "Fitting 10 folds for each of 9 candidates, totalling 90 fits\n"
     ]
    },
    {
     "name": "stderr",
     "output_type": "stream",
     "text": [
      "[Parallel(n_jobs=6)]: Using backend LokyBackend with 6 concurrent workers.\n",
      "[Parallel(n_jobs=6)]: Done  38 tasks      | elapsed:    3.2s\n",
      "[Parallel(n_jobs=6)]: Done  90 out of  90 | elapsed:   35.3s finished\n"
     ]
    },
    {
     "name": "stdout",
     "output_type": "stream",
     "text": [
      "[0.71646197 0.71922804 0.73349228 0.75490544 0.77194783 0.77720935\n",
      " 0.77793697 0.77821957 0.77828692]\n",
      "[0.71571299 0.71840234 0.73199351 0.75047713 0.76146218 0.76244426\n",
      " 0.76185276 0.76127092 0.76094913]\n",
      "{'C': 5}\n",
      "0.7624442588063475\n",
      "ROC AUC for feature LABEL_SaO2  :  0.7765164789769364\n"
     ]
    },
    {
     "data": {
      "image/png": "[encoded data removed]",
      "text/plain": [
       "<Figure size 432x288 with 1 Axes>"
      ]
     },
     "metadata": {
      "needs_background": "light"
     },
     "output_type": "display_data"
    },
    {
     "name": "stdout",
     "output_type": "stream",
     "text": [
      "0.416544057544548\n",
      "5096\n",
      "13899\n",
      "Fitting 10 folds for each of 9 candidates, totalling 90 fits\n"
     ]
    },
    {
     "name": "stderr",
     "output_type": "stream",
     "text": [
      "[Parallel(n_jobs=6)]: Using backend LokyBackend with 6 concurrent workers.\n",
      "[Parallel(n_jobs=6)]: Done  38 tasks      | elapsed:    2.8s\n",
      "[Parallel(n_jobs=6)]: Done  90 out of  90 | elapsed:   32.5s finished\n"
     ]
    },
    {
     "name": "stdout",
     "output_type": "stream",
     "text": [
      "[0.66234536 0.66539827 0.68572067 0.7277332  0.76185273 0.77429242\n",
      " 0.77638169 0.77728734 0.77749912]\n",
      "[0.65679987 0.65918027 0.6738007  0.69577404 0.69433258 0.68471564\n",
      " 0.68102672 0.67809565 0.67658938]\n",
      "{'C': 0.1}\n",
      "0.6957740369060944\n",
      "ROC AUC for feature LABEL_Bilirubin_direct  :  0.7272039264704041\n"
     ]
    },
    {
     "data": {
      "image/png": "[encoded data removed]",
      "text/plain": [
       "<Figure size 432x288 with 1 Axes>"
      ]
     },
     "metadata": {
      "needs_background": "light"
     },
     "output_type": "display_data"
    },
    {
     "name": "stdout",
     "output_type": "stream",
     "text": [
      "0.4308663547714334\n",
      "5096\n",
      "13899\n",
      "Fitting 10 folds for each of 9 candidates, totalling 90 fits\n"
     ]
    },
    {
     "name": "stderr",
     "output_type": "stream",
     "text": [
      "[Parallel(n_jobs=6)]: Using backend LokyBackend with 6 concurrent workers.\n",
      "[Parallel(n_jobs=6)]: Done  38 tasks      | elapsed:    2.4s\n",
      "[Parallel(n_jobs=6)]: Done  90 out of  90 | elapsed:   30.4s finished\n"
     ]
    },
    {
     "name": "stdout",
     "output_type": "stream",
     "text": [
      "[0.69891234 0.70321065 0.72658173 0.77600882 0.81334384 0.82565024\n",
      " 0.82781916 0.82878095 0.82901464]\n",
      "[0.69447421 0.69848372 0.72005373 0.76253272 0.78720485 0.79167701\n",
      " 0.79144191 0.79074931 0.79027259]\n",
      "{'C': 5}\n",
      "0.791677006175346\n",
      "ROC AUC for feature LABEL_EtCO2  :  0.8244259258709877\n"
     ]
    },
    {
     "data": {
      "image/png": "[encoded data removed]",
      "text/plain": [
       "<Figure size 432x288 with 1 Axes>"
      ]
     },
     "metadata": {
      "needs_background": "light"
     },
     "output_type": "display_data"
    },
    {
     "name": "stdout",
     "output_type": "stream",
     "text": [
      "0.42687217289328194\n",
      "5096\n",
      "13899\n",
      "Fitting 10 folds for each of 9 candidates, totalling 90 fits\n"
     ]
    },
    {
     "name": "stderr",
     "output_type": "stream",
     "text": [
      "[Parallel(n_jobs=6)]: Using backend LokyBackend with 6 concurrent workers.\n",
      "[Parallel(n_jobs=6)]: Done  64 tasks      | elapsed:   14.7s\n",
      "[Parallel(n_jobs=6)]: Done  90 out of  90 | elapsed:   29.9s finished\n"
     ]
    },
    {
     "name": "stdout",
     "output_type": "stream",
     "text": [
      "[0.632818   0.6349879  0.65011733 0.68417967 0.71151705 0.72159185\n",
      " 0.72349264 0.72441173 0.72469099]\n",
      "[0.62866275 0.63036804 0.64144717 0.66075366 0.6626151  0.65813315\n",
      " 0.65619782 0.65481251 0.65414014]\n",
      "{'C': 1}\n",
      "0.6626150983137691\n",
      "ROC AUC for feature LABEL_Sepsis  :  0.7095356235977386\n"
     ]
    },
    {
     "data": {
      "image/png": "[encoded data removed]",
      "text/plain": [
       "<Figure size 432x288 with 1 Axes>"
      ]
     },
     "metadata": {
      "needs_background": "light"
     },
     "output_type": "display_data"
    }
   ],
   "source": [
    "# first for the labels that have an output [0,1]\n",
    "columns_1 = [test_pids]\n",
    "\n",
    "from sklearn.linear_model import LogisticRegression\n",
    "from sklearn.kernel_approximation import Nystroem\n",
    "from sklearn.model_selection import StratifiedKFold, KFold\n",
    "from sklearn.metrics import plot_roc_curve\n",
    "\n",
    "for i in range(1, 12):\n",
    "    #     feature selection\n",
    "    transformer =  GenericUnivariateSelect(score_func= mutual_info_classif, mode ='k_best', param = 40)\n",
    "    train_features = transformer.fit_transform(data_train_scaled, df_train_labels.iloc[:,i])\n",
    "#     print(df_train_agg_features.columns[transformer.get_support(indices = True)])\n",
    "    test_features = transformer.transform(data_test_scaled)\n",
    "\n",
    "    feature_map_nystroem = Nystroem(kernel = 'rbf',\n",
    "                                 random_state=1,\n",
    "                                 n_components=200)\n",
    "    \n",
    "    train_transformed = feature_map_nystroem.fit_transform(data_train_scaled)\n",
    "    test_transformed = feature_map_nystroem.transform(data_test_scaled)\n",
    "    \n",
    "    weights = data_train.shape[0] / (2 * np.bincount(df_train_labels.iloc[:,i]))\n",
    "    class_1_multiplier = 2\n",
    "    print(np.sum(class_1))\n",
    "    print(np.sum(class_0))\n",
    "    clf_w = LogisticRegression(penalty = 'l2', class_weight = {0:weights[0], 1:(class_1_multiplier*weights[1])},\n",
    "                                                               fit_intercept= True, max_iter=10000)\n",
    "    \n",
    "    # checked before\n",
    "    #parameters = {'alpha':(0.0001, 0.001, 0.01, 0.1, 1, 5, 10, 20, 30)}\n",
    "    parameters = {'C':(0.0001, 0.001, 0.01, 0.1, 1, 5, 10, 20, 30)}\n",
    "    \n",
    "    skf = StratifiedKFold(n_splits=5, shuffle = True, random_state = 1)\n",
    "    \n",
    "    clf = model_selection.GridSearchCV(estimator= clf_w, param_grid = parameters, cv = skf,\n",
    "                                        refit = True, scoring = 'roc_auc', verbose = 1,\n",
    "                                       n_jobs=6, return_train_score = True)\n",
    "    clf.fit(train_transformed, df_train_labels.iloc[:,i])\n",
    "    \n",
    "    print(clf.cv_results_['mean_train_score'])\n",
    "    print(clf.cv_results_['mean_test_score'])\n",
    "    print(clf.best_params_)\n",
    "    print(clf.best_score_)\n",
    "#     print(\"Class weightt is \", clf_w.class_weight_)\n",
    " \n",
    "    probability_tmp = clf.predict_proba(test_transformed)\n",
    "    probability = [item[1] for item in probability_tmp]\n",
    "    columns_1.append(probability)\n",
    "\n",
    "    probability_tmp = clf.predict_proba(train_transformed)\n",
    "    probability_train = [item[1] for item in probability_tmp]\n",
    "    tmp = roc_auc_score(y_score= probability_train, y_true= df_train_labels.iloc[:,i])\n",
    "    print(\"ROC AUC for feature\", list(df_train_labels)[i] , \" : \", tmp)\n",
    "    \n",
    "    svc_disp = plot_roc_curve(clf, train_transformed, df_train_labels.iloc[:,i])\n",
    "    plt.show()"
   ]
  },
  {
   "cell_type": "markdown",
   "metadata": {},
   "source": [
    "# Compute the kernel and use SGD Classifier and Regressor"
   ]
  },
  {
   "cell_type": "code",
   "execution_count": 116,
   "metadata": {
    "scrolled": true
   },
   "outputs": [
    {
     "name": "stdout",
     "output_type": "stream",
     "text": [
      "For feature  LABEL_BaseExcess\n",
      "Fitting 10 folds for each of 4 candidates, totalling 40 fits\n"
     ]
    },
    {
     "name": "stderr",
     "output_type": "stream",
     "text": [
      "[Parallel(n_jobs=6)]: Using backend LokyBackend with 6 concurrent workers.\n",
      "/usr/local/lib/python3.7/site-packages/joblib/externals/loky/process_executor.py:706: UserWarning: A worker stopped while some jobs were given to the executor. This can be caused by a too short worker timeout or by a memory leak.\n",
      "  \"timeout or by a memory leak.\", UserWarning\n"
     ]
    },
    {
     "ename": "KeyboardInterrupt",
     "evalue": "",
     "output_type": "error",
     "traceback": [
      "\u001b[0;31m---------------------------------------------------------------------------\u001b[0m",
      "\u001b[0;31mKeyboardInterrupt\u001b[0m                         Traceback (most recent call last)",
      "\u001b[0;32m<ipython-input-116-3452331b7706>\u001b[0m in \u001b[0;36m<module>\u001b[0;34m\u001b[0m\n\u001b[1;32m     32\u001b[0m                                         \u001b[0mrefit\u001b[0m \u001b[0;34m=\u001b[0m \u001b[0;32mTrue\u001b[0m\u001b[0;34m,\u001b[0m \u001b[0mscoring\u001b[0m \u001b[0;34m=\u001b[0m \u001b[0;34m'roc_auc'\u001b[0m\u001b[0;34m,\u001b[0m \u001b[0mverbose\u001b[0m \u001b[0;34m=\u001b[0m \u001b[0;36m1\u001b[0m\u001b[0;34m,\u001b[0m\u001b[0;34m\u001b[0m\u001b[0;34m\u001b[0m\u001b[0m\n\u001b[1;32m     33\u001b[0m                                        n_jobs=6, return_train_score = True)\n\u001b[0;32m---> 34\u001b[0;31m     \u001b[0mclf\u001b[0m\u001b[0;34m.\u001b[0m\u001b[0mfit\u001b[0m\u001b[0;34m(\u001b[0m\u001b[0mtrain_transformed\u001b[0m\u001b[0;34m,\u001b[0m \u001b[0mdf_train_labels\u001b[0m\u001b[0;34m.\u001b[0m\u001b[0miloc\u001b[0m\u001b[0;34m[\u001b[0m\u001b[0;34m:\u001b[0m\u001b[0;34m,\u001b[0m\u001b[0mi\u001b[0m\u001b[0;34m]\u001b[0m\u001b[0;34m)\u001b[0m\u001b[0;34m\u001b[0m\u001b[0;34m\u001b[0m\u001b[0m\n\u001b[0m\u001b[1;32m     35\u001b[0m \u001b[0;34m\u001b[0m\u001b[0m\n\u001b[1;32m     36\u001b[0m \u001b[0;31m#     print(clf.cv_results_)\u001b[0m\u001b[0;34m\u001b[0m\u001b[0;34m\u001b[0m\u001b[0;34m\u001b[0m\u001b[0m\n",
      "\u001b[0;32m/usr/local/lib/python3.7/site-packages/sklearn/model_selection/_search.py\u001b[0m in \u001b[0;36mfit\u001b[0;34m(self, X, y, groups, **fit_params)\u001b[0m\n\u001b[1;32m    708\u001b[0m                 \u001b[0;32mreturn\u001b[0m \u001b[0mresults\u001b[0m\u001b[0;34m\u001b[0m\u001b[0;34m\u001b[0m\u001b[0m\n\u001b[1;32m    709\u001b[0m \u001b[0;34m\u001b[0m\u001b[0m\n\u001b[0;32m--> 710\u001b[0;31m             \u001b[0mself\u001b[0m\u001b[0;34m.\u001b[0m\u001b[0m_run_search\u001b[0m\u001b[0;34m(\u001b[0m\u001b[0mevaluate_candidates\u001b[0m\u001b[0;34m)\u001b[0m\u001b[0;34m\u001b[0m\u001b[0;34m\u001b[0m\u001b[0m\n\u001b[0m\u001b[1;32m    711\u001b[0m \u001b[0;34m\u001b[0m\u001b[0m\n\u001b[1;32m    712\u001b[0m         \u001b[0;31m# For multi-metric evaluation, store the best_index_, best_params_ and\u001b[0m\u001b[0;34m\u001b[0m\u001b[0;34m\u001b[0m\u001b[0;34m\u001b[0m\u001b[0m\n",
      "\u001b[0;32m/usr/local/lib/python3.7/site-packages/sklearn/model_selection/_search.py\u001b[0m in \u001b[0;36m_run_search\u001b[0;34m(self, evaluate_candidates)\u001b[0m\n\u001b[1;32m   1149\u001b[0m     \u001b[0;32mdef\u001b[0m \u001b[0m_run_search\u001b[0m\u001b[0;34m(\u001b[0m\u001b[0mself\u001b[0m\u001b[0;34m,\u001b[0m \u001b[0mevaluate_candidates\u001b[0m\u001b[0;34m)\u001b[0m\u001b[0;34m:\u001b[0m\u001b[0;34m\u001b[0m\u001b[0;34m\u001b[0m\u001b[0m\n\u001b[1;32m   1150\u001b[0m         \u001b[0;34m\"\"\"Search all candidates in param_grid\"\"\"\u001b[0m\u001b[0;34m\u001b[0m\u001b[0;34m\u001b[0m\u001b[0m\n\u001b[0;32m-> 1151\u001b[0;31m         \u001b[0mevaluate_candidates\u001b[0m\u001b[0;34m(\u001b[0m\u001b[0mParameterGrid\u001b[0m\u001b[0;34m(\u001b[0m\u001b[0mself\u001b[0m\u001b[0;34m.\u001b[0m\u001b[0mparam_grid\u001b[0m\u001b[0;34m)\u001b[0m\u001b[0;34m)\u001b[0m\u001b[0;34m\u001b[0m\u001b[0;34m\u001b[0m\u001b[0m\n\u001b[0m\u001b[1;32m   1152\u001b[0m \u001b[0;34m\u001b[0m\u001b[0m\n\u001b[1;32m   1153\u001b[0m \u001b[0;34m\u001b[0m\u001b[0m\n",
      "\u001b[0;32m/usr/local/lib/python3.7/site-packages/sklearn/model_selection/_search.py\u001b[0m in \u001b[0;36mevaluate_candidates\u001b[0;34m(candidate_params)\u001b[0m\n\u001b[1;32m    687\u001b[0m                                \u001b[0;32mfor\u001b[0m \u001b[0mparameters\u001b[0m\u001b[0;34m,\u001b[0m \u001b[0;34m(\u001b[0m\u001b[0mtrain\u001b[0m\u001b[0;34m,\u001b[0m \u001b[0mtest\u001b[0m\u001b[0;34m)\u001b[0m\u001b[0;34m\u001b[0m\u001b[0;34m\u001b[0m\u001b[0m\n\u001b[1;32m    688\u001b[0m                                in product(candidate_params,\n\u001b[0;32m--> 689\u001b[0;31m                                           cv.split(X, y, groups)))\n\u001b[0m\u001b[1;32m    690\u001b[0m \u001b[0;34m\u001b[0m\u001b[0m\n\u001b[1;32m    691\u001b[0m                 \u001b[0;32mif\u001b[0m \u001b[0mlen\u001b[0m\u001b[0;34m(\u001b[0m\u001b[0mout\u001b[0m\u001b[0;34m)\u001b[0m \u001b[0;34m<\u001b[0m \u001b[0;36m1\u001b[0m\u001b[0;34m:\u001b[0m\u001b[0;34m\u001b[0m\u001b[0;34m\u001b[0m\u001b[0m\n",
      "\u001b[0;32m/usr/local/lib/python3.7/site-packages/joblib/parallel.py\u001b[0m in \u001b[0;36m__call__\u001b[0;34m(self, iterable)\u001b[0m\n\u001b[1;32m   1015\u001b[0m \u001b[0;34m\u001b[0m\u001b[0m\n\u001b[1;32m   1016\u001b[0m             \u001b[0;32mwith\u001b[0m \u001b[0mself\u001b[0m\u001b[0;34m.\u001b[0m\u001b[0m_backend\u001b[0m\u001b[0;34m.\u001b[0m\u001b[0mretrieval_context\u001b[0m\u001b[0;34m(\u001b[0m\u001b[0;34m)\u001b[0m\u001b[0;34m:\u001b[0m\u001b[0;34m\u001b[0m\u001b[0;34m\u001b[0m\u001b[0m\n\u001b[0;32m-> 1017\u001b[0;31m                 \u001b[0mself\u001b[0m\u001b[0;34m.\u001b[0m\u001b[0mretrieve\u001b[0m\u001b[0;34m(\u001b[0m\u001b[0;34m)\u001b[0m\u001b[0;34m\u001b[0m\u001b[0;34m\u001b[0m\u001b[0m\n\u001b[0m\u001b[1;32m   1018\u001b[0m             \u001b[0;31m# Make sure that we get a last message telling us we are done\u001b[0m\u001b[0;34m\u001b[0m\u001b[0;34m\u001b[0m\u001b[0;34m\u001b[0m\u001b[0m\n\u001b[1;32m   1019\u001b[0m             \u001b[0melapsed_time\u001b[0m \u001b[0;34m=\u001b[0m \u001b[0mtime\u001b[0m\u001b[0;34m.\u001b[0m\u001b[0mtime\u001b[0m\u001b[0;34m(\u001b[0m\u001b[0;34m)\u001b[0m \u001b[0;34m-\u001b[0m \u001b[0mself\u001b[0m\u001b[0;34m.\u001b[0m\u001b[0m_start_time\u001b[0m\u001b[0;34m\u001b[0m\u001b[0;34m\u001b[0m\u001b[0m\n",
      "\u001b[0;32m/usr/local/lib/python3.7/site-packages/joblib/parallel.py\u001b[0m in \u001b[0;36mretrieve\u001b[0;34m(self)\u001b[0m\n\u001b[1;32m    907\u001b[0m             \u001b[0;32mtry\u001b[0m\u001b[0;34m:\u001b[0m\u001b[0;34m\u001b[0m\u001b[0;34m\u001b[0m\u001b[0m\n\u001b[1;32m    908\u001b[0m                 \u001b[0;32mif\u001b[0m \u001b[0mgetattr\u001b[0m\u001b[0;34m(\u001b[0m\u001b[0mself\u001b[0m\u001b[0;34m.\u001b[0m\u001b[0m_backend\u001b[0m\u001b[0;34m,\u001b[0m \u001b[0;34m'supports_timeout'\u001b[0m\u001b[0;34m,\u001b[0m \u001b[0;32mFalse\u001b[0m\u001b[0;34m)\u001b[0m\u001b[0;34m:\u001b[0m\u001b[0;34m\u001b[0m\u001b[0;34m\u001b[0m\u001b[0m\n\u001b[0;32m--> 909\u001b[0;31m                     \u001b[0mself\u001b[0m\u001b[0;34m.\u001b[0m\u001b[0m_output\u001b[0m\u001b[0;34m.\u001b[0m\u001b[0mextend\u001b[0m\u001b[0;34m(\u001b[0m\u001b[0mjob\u001b[0m\u001b[0;34m.\u001b[0m\u001b[0mget\u001b[0m\u001b[0;34m(\u001b[0m\u001b[0mtimeout\u001b[0m\u001b[0;34m=\u001b[0m\u001b[0mself\u001b[0m\u001b[0;34m.\u001b[0m\u001b[0mtimeout\u001b[0m\u001b[0;34m)\u001b[0m\u001b[0;34m)\u001b[0m\u001b[0;34m\u001b[0m\u001b[0;34m\u001b[0m\u001b[0m\n\u001b[0m\u001b[1;32m    910\u001b[0m                 \u001b[0;32melse\u001b[0m\u001b[0;34m:\u001b[0m\u001b[0;34m\u001b[0m\u001b[0;34m\u001b[0m\u001b[0m\n\u001b[1;32m    911\u001b[0m                     \u001b[0mself\u001b[0m\u001b[0;34m.\u001b[0m\u001b[0m_output\u001b[0m\u001b[0;34m.\u001b[0m\u001b[0mextend\u001b[0m\u001b[0;34m(\u001b[0m\u001b[0mjob\u001b[0m\u001b[0;34m.\u001b[0m\u001b[0mget\u001b[0m\u001b[0;34m(\u001b[0m\u001b[0;34m)\u001b[0m\u001b[0;34m)\u001b[0m\u001b[0;34m\u001b[0m\u001b[0;34m\u001b[0m\u001b[0m\n",
      "\u001b[0;32m/usr/local/lib/python3.7/site-packages/joblib/_parallel_backends.py\u001b[0m in \u001b[0;36mwrap_future_result\u001b[0;34m(future, timeout)\u001b[0m\n\u001b[1;32m    560\u001b[0m         AsyncResults.get from multiprocessing.\"\"\"\n\u001b[1;32m    561\u001b[0m         \u001b[0;32mtry\u001b[0m\u001b[0;34m:\u001b[0m\u001b[0;34m\u001b[0m\u001b[0;34m\u001b[0m\u001b[0m\n\u001b[0;32m--> 562\u001b[0;31m             \u001b[0;32mreturn\u001b[0m \u001b[0mfuture\u001b[0m\u001b[0;34m.\u001b[0m\u001b[0mresult\u001b[0m\u001b[0;34m(\u001b[0m\u001b[0mtimeout\u001b[0m\u001b[0;34m=\u001b[0m\u001b[0mtimeout\u001b[0m\u001b[0;34m)\u001b[0m\u001b[0;34m\u001b[0m\u001b[0;34m\u001b[0m\u001b[0m\n\u001b[0m\u001b[1;32m    563\u001b[0m         \u001b[0;32mexcept\u001b[0m \u001b[0mLokyTimeoutError\u001b[0m\u001b[0;34m:\u001b[0m\u001b[0;34m\u001b[0m\u001b[0;34m\u001b[0m\u001b[0m\n\u001b[1;32m    564\u001b[0m             \u001b[0;32mraise\u001b[0m \u001b[0mTimeoutError\u001b[0m\u001b[0;34m(\u001b[0m\u001b[0;34m)\u001b[0m\u001b[0;34m\u001b[0m\u001b[0;34m\u001b[0m\u001b[0m\n",
      "\u001b[0;32m/usr/local/Cellar/python/3.7.5/Frameworks/Python.framework/Versions/3.7/lib/python3.7/concurrent/futures/_base.py\u001b[0m in \u001b[0;36mresult\u001b[0;34m(self, timeout)\u001b[0m\n\u001b[1;32m    428\u001b[0m                 \u001b[0;32mreturn\u001b[0m \u001b[0mself\u001b[0m\u001b[0;34m.\u001b[0m\u001b[0m__get_result\u001b[0m\u001b[0;34m(\u001b[0m\u001b[0;34m)\u001b[0m\u001b[0;34m\u001b[0m\u001b[0;34m\u001b[0m\u001b[0m\n\u001b[1;32m    429\u001b[0m \u001b[0;34m\u001b[0m\u001b[0m\n\u001b[0;32m--> 430\u001b[0;31m             \u001b[0mself\u001b[0m\u001b[0;34m.\u001b[0m\u001b[0m_condition\u001b[0m\u001b[0;34m.\u001b[0m\u001b[0mwait\u001b[0m\u001b[0;34m(\u001b[0m\u001b[0mtimeout\u001b[0m\u001b[0;34m)\u001b[0m\u001b[0;34m\u001b[0m\u001b[0;34m\u001b[0m\u001b[0m\n\u001b[0m\u001b[1;32m    431\u001b[0m \u001b[0;34m\u001b[0m\u001b[0m\n\u001b[1;32m    432\u001b[0m             \u001b[0;32mif\u001b[0m \u001b[0mself\u001b[0m\u001b[0;34m.\u001b[0m\u001b[0m_state\u001b[0m \u001b[0;32min\u001b[0m \u001b[0;34m[\u001b[0m\u001b[0mCANCELLED\u001b[0m\u001b[0;34m,\u001b[0m \u001b[0mCANCELLED_AND_NOTIFIED\u001b[0m\u001b[0;34m]\u001b[0m\u001b[0;34m:\u001b[0m\u001b[0;34m\u001b[0m\u001b[0;34m\u001b[0m\u001b[0m\n",
      "\u001b[0;32m/usr/local/Cellar/python/3.7.5/Frameworks/Python.framework/Versions/3.7/lib/python3.7/threading.py\u001b[0m in \u001b[0;36mwait\u001b[0;34m(self, timeout)\u001b[0m\n\u001b[1;32m    294\u001b[0m         \u001b[0;32mtry\u001b[0m\u001b[0;34m:\u001b[0m    \u001b[0;31m# restore state no matter what (e.g., KeyboardInterrupt)\u001b[0m\u001b[0;34m\u001b[0m\u001b[0;34m\u001b[0m\u001b[0m\n\u001b[1;32m    295\u001b[0m             \u001b[0;32mif\u001b[0m \u001b[0mtimeout\u001b[0m \u001b[0;32mis\u001b[0m \u001b[0;32mNone\u001b[0m\u001b[0;34m:\u001b[0m\u001b[0;34m\u001b[0m\u001b[0;34m\u001b[0m\u001b[0m\n\u001b[0;32m--> 296\u001b[0;31m                 \u001b[0mwaiter\u001b[0m\u001b[0;34m.\u001b[0m\u001b[0macquire\u001b[0m\u001b[0;34m(\u001b[0m\u001b[0;34m)\u001b[0m\u001b[0;34m\u001b[0m\u001b[0;34m\u001b[0m\u001b[0m\n\u001b[0m\u001b[1;32m    297\u001b[0m                 \u001b[0mgotit\u001b[0m \u001b[0;34m=\u001b[0m \u001b[0;32mTrue\u001b[0m\u001b[0;34m\u001b[0m\u001b[0;34m\u001b[0m\u001b[0m\n\u001b[1;32m    298\u001b[0m             \u001b[0;32melse\u001b[0m\u001b[0;34m:\u001b[0m\u001b[0;34m\u001b[0m\u001b[0;34m\u001b[0m\u001b[0m\n",
      "\u001b[0;31mKeyboardInterrupt\u001b[0m: "
     ]
    }
   ],
   "source": [
    "# first for the labels that have an output [0,1]\n",
    "columns_1 = [test_pids]\n",
    "\n",
    "# from sklearn.kernel_ridge import KernelRidge\n",
    "from sklearn.kernel_approximation import Nystroem\n",
    "from sklearn import linear_model\n",
    "\n",
    "\n",
    "for i in range(1, 12):\n",
    "   \n",
    "    # feature selection\n",
    "    transformer =  GenericUnivariateSelect(score_func= mutual_info_classif, mode ='k_best', param=70)\n",
    "    train_features = transformer.fit_transform(data_train_scaled, df_train_labels.iloc[:,i])\n",
    "    print(\"For feature \", df_train_labels.columns[i])\n",
    "#     print(df_train_agg_features.columns[transformer.get_support(indices = True)])\n",
    "    test_features = transformer.transform(data_test_scaled)\n",
    "\n",
    "    \n",
    "    feature_map_nystroem = Nystroem(kernel = 'rbf',\n",
    "                                 random_state=1,\n",
    "                                 n_components=300)\n",
    "    train_transformed = feature_map_nystroem.fit_transform(train_features)\n",
    "    test_transformed = feature_map_nystroem.transform(test_features)\n",
    "    \n",
    "    clf_w = linear_model.SGDClassifier(max_iter=100000, tol=1e-4, penalty = \"l2\", \n",
    "                                       loss = \"epsilon_insensitive\", class_weight={0:1, 1:500})\n",
    "    # checked before\n",
    "    #parameters = {'alpha':(0.0001, 0.001, 0.01, 0.1, 1, 5, 10, 20, 30)}\n",
    "    parameters = {'alpha':(0.1, 1, 5, 10)}\n",
    "    \n",
    "    clf = model_selection.GridSearchCV(estimator= clf_w, param_grid = parameters, cv = 10,\n",
    "                                        refit = True, scoring = 'roc_auc', verbose = 1,\n",
    "                                       n_jobs=6, return_train_score = True)\n",
    "    clf.fit(train_transformed, df_train_labels.iloc[:,i])\n",
    "    \n",
    "#     print(clf.cv_results_)\n",
    "    print(clf.best_params_)\n",
    "    print(clf.best_score_)\n",
    "    # compute probabilites as opposed to predictions\n",
    "    #dual_coefficients = clf.dual_coef_    # do we have to normalize with norm of this vector ?\n",
    "    \n",
    "    distance_hyperplane = clf.decision_function(test_transformed)\n",
    "    probability = np.empty(len(distance_hyperplane))\n",
    "    for j in range(0, len(probability)):\n",
    "        if distance_hyperplane[j] < 0:\n",
    "            probability[j] = 1 - 1/(1 + math.exp(distance_hyperplane[j]))\n",
    "        else:\n",
    "            probability[j] = 1/(1 + math.exp(-distance_hyperplane[j]))\n",
    "    columns_1.append(probability)\n",
    "\n",
    "    \n",
    "    distance_hyperplace_train = clf.decision_function(train_transformed)\n",
    "    probability = np.empty(len(distance_hyperplace_train))\n",
    "    for j in range(0, len(probability)):\n",
    "        if distance_hyperplace_train[j] < 0:\n",
    "            probability[j] = 1 - 1/(1 + math.exp(distance_hyperplace_train[j]))\n",
    "        else:\n",
    "            probability[j] = 1/(1 + math.exp(-distance_hyperplace_train[j]))\n",
    "    \n",
    "    tmp = roc_auc_score(y_score= probability, y_true= df_train_labels.iloc[:,i])\n",
    "    print(\"ROC AUC for feature\", list(df_train_labels)[i] , \" : \", tmp)\n",
    "    "
   ]
  },
  {
   "cell_type": "code",
   "execution_count": null,
   "metadata": {},
   "outputs": [],
   "source": [
    "# labels that have a real value\n",
    "columns_2 = []\n",
    "\n",
    "for i in range(12, 16):\n",
    "#     feature selection\n",
    "    transformer =  GenericUnivariateSelect(score_func= mutual_info_regression, mode ='k_best', param = 40)\n",
    "    train_features = transformer.fit_transform(data_train_scaled, df_train_labels.iloc[:,i])\n",
    "#     print(df_train_agg_features.columns[transformer.get_support(indices = True)])\n",
    "    test_features = transformer.transform(data_test_scaled)\n",
    "    \n",
    "    feature_map_nystroem = Nystroem(kernel = 'rbf',\n",
    "                                 random_state=1,\n",
    "                                 n_components=200)\n",
    "    train_features = feature_map_nystroem.fit_transform(train_features)\n",
    "    test_features = feature_map_nystroem.transform(test_features)\n",
    "    \n",
    "    clf_w = linear_model.SGDRegressor(max_iter=100000, tol=1e-4,\n",
    "                                     loss = 'epsilon_insensitive', penalty = 'l2')\n",
    "    parameters = {'alpha':(0.0001, 0.001, 0.01, 0.1, 1, 5, 10)}\n",
    "    clf = model_selection.GridSearchCV(estimator= clf_w, param_grid = parameters, cv = 10,\n",
    "                                       refit = True, scoring = 'r2', verbose = 1, n_jobs=6, return_train_score=True)\n",
    "#     clf = KernelRidge(kernel = 'poly', degree = 5)\n",
    "#     parameters = {'alpha':(0.1,1,10,30)}\n",
    "#     clf = model_selection.GridSearchCV(estimator= clf, param_grid = parameters, cv = 3,\n",
    "#                                       refit = True, scoring = 'r2', verbose = 2, n_jobs=6)\n",
    "    clf.fit(train_features, df_train_labels.iloc[:,i])\n",
    "    \n",
    "#     print(clf.cv_results_)\n",
    "    print(clf.cv_results_['mean_train_score'])\n",
    "    print(clf.cv_results_['mean_test_score'])\n",
    "    print(clf.best_params_)\n",
    "    print(clf.best_score_)\n",
    "    \n",
    "    pred = clf.predict(test_features)\n",
    "    columns_2.append(pred) \n",
    "\n",
    "    pred_train = clf.predict(train_features)\n",
    "    tmp = r2_score(y_pred= pred_train, y_true=df_train_labels.iloc[:,i])\n",
    "    print(\"R2 for feature\", list(df_train_labels)[i] , \" : \", tmp)\n",
    "   "
   ]
  },
  {
   "cell_type": "code",
   "execution_count": 161,
   "metadata": {},
   "outputs": [],
   "source": [
    "columns_final = columns_1 + columns_2"
   ]
  },
  {
   "cell_type": "markdown",
   "metadata": {},
   "source": [
    "# XGBoosting"
   ]
  },
  {
   "cell_type": "markdown",
   "metadata": {},
   "source": [
    "The benefit of XGBoost is that it accepts missing values."
   ]
  },
  {
   "cell_type": "code",
   "execution_count": 163,
   "metadata": {},
   "outputs": [],
   "source": [
    "import xgboost as xgb\n",
    "# simple example\n",
    "# load file from text file, also binary buffer generated by xgboost\n",
    "\n",
    "# scale test data\n",
    "min_max_scaler = preprocessing.StandardScaler()\n",
    "df_train_scaled_xgboost = min_max_scaler.fit_transform(df_train_agg_features)\n",
    "min_max_scaler = preprocessing.StandardScaler()\n",
    "df_test_scaled_xgboost = min_max_scaler.fit_transform(df_test_agg_features)\n",
    "\n",
    "dtrain = xgb.DMatrix(df_train_scaled_xgboost, label=df_train_labels.iloc[:,1])\n",
    "dtest = xgb.DMatrix(df_test_scaled_xgboost)"
   ]
  },
  {
   "cell_type": "code",
   "execution_count": null,
   "metadata": {},
   "outputs": [],
   "source": [
    "param = {'eta': 1, 'objective': 'binary:logistic', 'verbosity':1}\n",
    "param['nthread'] = 4\n",
    "param['eval_metric'] = 'auc'\n",
    "evallist = [(dtrain, 'train')]"
   ]
  },
  {
   "cell_type": "code",
   "execution_count": null,
   "metadata": {},
   "outputs": [],
   "source": [
    "num_round = 10\n",
    "xgb.cv(param, dtrain, num_round, nfold=10,\n",
    "       metrics={'auc'}, seed=0,\n",
    "       callbacks=[xgb.callback.print_evaluation(show_stdv=True)])\n",
    "# bst = xgb.train(param, dtrain, num_round)\n",
    "# pred = bst.predict(dtest)"
   ]
  },
  {
   "cell_type": "code",
   "execution_count": null,
   "metadata": {},
   "outputs": [
    {
     "name": "stdout",
     "output_type": "stream",
     "text": [
      "Fitting 10 folds for each of 4 candidates, totalling 40 fits\n"
     ]
    },
    {
     "name": "stderr",
     "output_type": "stream",
     "text": [
      "[Parallel(n_jobs=6)]: Using backend LokyBackend with 6 concurrent workers.\n",
      "[Parallel(n_jobs=6)]: Done  40 out of  40 | elapsed:  1.7min finished\n"
     ]
    },
    {
     "name": "stdout",
     "output_type": "stream",
     "text": [
      "{'max_depth': 3}\n",
      "0.9274783568945348\n",
      "ROC AUC for feature LABEL_BaseExcess  :  0.8779255899507357\n",
      "Fitting 10 folds for each of 4 candidates, totalling 40 fits\n"
     ]
    },
    {
     "name": "stderr",
     "output_type": "stream",
     "text": [
      "[Parallel(n_jobs=6)]: Using backend LokyBackend with 6 concurrent workers.\n",
      "[Parallel(n_jobs=6)]: Done  40 out of  40 | elapsed:  1.7min finished\n"
     ]
    },
    {
     "name": "stdout",
     "output_type": "stream",
     "text": [
      "{'max_depth': 2}\n",
      "0.8017052966930738\n",
      "ROC AUC for feature LABEL_Fibrinogen  :  0.6419432265659888\n",
      "Fitting 10 folds for each of 4 candidates, totalling 40 fits\n"
     ]
    },
    {
     "name": "stderr",
     "output_type": "stream",
     "text": [
      "[Parallel(n_jobs=6)]: Using backend LokyBackend with 6 concurrent workers.\n"
     ]
    }
   ],
   "source": [
    "from sklearn.model_selection import StratifiedKFold\n",
    "from sklearn.model_selection import cross_validate\n",
    "from sklearn.kernel_approximation import Nystroem\n",
    "\n",
    "columns_1 = [test_pids]\n",
    "\n",
    "\n",
    "for i in range(1,12):\n",
    "\n",
    "    clf = xgb.XGBClassifier('binary:logistic')\n",
    "    \n",
    "    clf_w = model_selection.GridSearchCV(estimator= clf, param_grid = {'max_depth': [2,3,4,5]}, cv = 10,\n",
    "                                        refit = True, scoring = 'roc_auc', verbose = 1,\n",
    "                                       n_jobs=6, return_train_score = True)\n",
    "    \n",
    "\n",
    "    clf_w.fit(df_train_scaled_xgboost, df_train_labels.iloc[:,i])\n",
    "    print(clf_w.best_params_)\n",
    "    print(clf_w.best_score_) \n",
    "#     dtrain = xgb.DMatrix(df_train_agg_features, label=df_train_labels.iloc[:,i])\n",
    "#     num_round = 10\n",
    "#     xgb.cv(param, dtrain, num_round, nfold=10,\n",
    "#        metrics={'auc'}, seed=0,\n",
    "#        callbacks=[xgb.callback.print_evaluation(show_stdv=True)])\n",
    "    \n",
    "    probability = clf_w.predict(df_test_scaled_xgboost)\n",
    "    columns_1.append(probability)\n",
    "\n",
    "    probability_train = clf_w.predict(df_train_scaled_xgboost)\n",
    "#     probability_train = [item[1] for item in probability_tmp]\n",
    "    tmp = roc_auc_score(y_score= probability_train, y_true= df_train_labels.iloc[:,i])\n",
    "    print(\"ROC AUC for feature\", list(df_train_labels)[i] , \" : \", tmp)"
   ]
  },
  {
   "cell_type": "code",
   "execution_count": 164,
   "metadata": {},
   "outputs": [
    {
     "name": "stdout",
     "output_type": "stream",
     "text": [
      "Fitting 10 folds for each of 3 candidates, totalling 30 fits\n"
     ]
    },
    {
     "name": "stderr",
     "output_type": "stream",
     "text": [
      "[Parallel(n_jobs=6)]: Using backend LokyBackend with 6 concurrent workers.\n",
      "[Parallel(n_jobs=6)]: Done  30 out of  30 | elapsed:  1.6min finished\n"
     ]
    },
    {
     "name": "stdout",
     "output_type": "stream",
     "text": [
      "{'max_depth': 3}\n",
      "0.4024408119294852\n",
      "R2 for feature LABEL_RRate  :  0.5339601114737615\n",
      "Fitting 10 folds for each of 3 candidates, totalling 30 fits\n"
     ]
    },
    {
     "name": "stderr",
     "output_type": "stream",
     "text": [
      "[Parallel(n_jobs=6)]: Using backend LokyBackend with 6 concurrent workers.\n",
      "[Parallel(n_jobs=6)]: Done  30 out of  30 | elapsed:  1.6min finished\n"
     ]
    },
    {
     "name": "stdout",
     "output_type": "stream",
     "text": [
      "{'max_depth': 3}\n",
      "0.6030995483696787\n",
      "R2 for feature LABEL_ABPm  :  0.6833183189191033\n",
      "Fitting 10 folds for each of 3 candidates, totalling 30 fits\n"
     ]
    },
    {
     "name": "stderr",
     "output_type": "stream",
     "text": [
      "[Parallel(n_jobs=6)]: Using backend LokyBackend with 6 concurrent workers.\n",
      "[Parallel(n_jobs=6)]: Done  30 out of  30 | elapsed:  1.5min finished\n"
     ]
    },
    {
     "name": "stdout",
     "output_type": "stream",
     "text": [
      "{'max_depth': 4}\n",
      "0.31282149409352555\n",
      "R2 for feature LABEL_SpO2  :  0.6756105677316524\n",
      "Fitting 10 folds for each of 3 candidates, totalling 30 fits\n"
     ]
    },
    {
     "name": "stderr",
     "output_type": "stream",
     "text": [
      "[Parallel(n_jobs=6)]: Using backend LokyBackend with 6 concurrent workers.\n",
      "[Parallel(n_jobs=6)]: Done  30 out of  30 | elapsed:  1.6min finished\n"
     ]
    },
    {
     "name": "stdout",
     "output_type": "stream",
     "text": [
      "{'max_depth': 3}\n",
      "0.6305290492575178\n",
      "R2 for feature LABEL_Heartrate  :  0.7045131774351334\n"
     ]
    }
   ],
   "source": [
    "columns_2_1 = []\n",
    "param = {'max_depth': 2, 'eta': 1, 'objective': 'reg:squarederror', 'verbosity':1}\n",
    "param['nthread'] = 4\n",
    "param['eval_metric'] = 'rmse'\n",
    "# evallist = [(dtrain, 'train')]\n",
    "\n",
    "train_features = data_train_scaled\n",
    "test_features = data_test_scaled\n",
    "for i in range(12,16):\n",
    "#     transformer =  GenericUnivariateSelect(score_func= mutual_info_regression, mode ='k_best', param=80)\n",
    "#     train_features = transformer.fit_transform(data_train_scaled, df_train_labels.iloc[:,i])\n",
    "# #     print(list(data_train_scaled)[transformer.get_support()])\n",
    "#     test_features = transformer.transform(data_test_scaled)\n",
    "    \n",
    "    clf_w = xgb.XGBRegressor(feval = r2_score, verbosity = 0)\n",
    "            \n",
    "    clf = model_selection.GridSearchCV(estimator= clf_w, param_grid = {'max_depth':(3,4,5)}, cv = 10,\n",
    "                                       refit = True, verbose = 1, scoring='r2',\n",
    "                                       n_jobs=6, return_train_score = True)\n",
    "    \n",
    "    clf.fit(df_train_scaled_xgboost, df_train_labels.iloc[:,i])\n",
    "    print(clf.best_params_)\n",
    "    print(clf.best_score_)    \n",
    "    \n",
    "#     dtrain = xgb.DMatrix(df_train_scaled_xgboost, label=df_train_labels.iloc[:,i])\n",
    "#     num_round = 10\n",
    "    \n",
    "    probability = clf.predict(df_test_scaled_xgboost)\n",
    "    columns_2_1.append(probability)\n",
    "\n",
    "    pred_train = clf.predict(df_train_scaled_xgboost)\n",
    "#     probability_train = [item[1] for item in probability_tmp]\n",
    "    tmp = r2_score(y_pred= pred_train, y_true=df_train_labels.iloc[:,i])\n",
    "    print(\"R2 for feature\", list(df_train_labels)[i] , \" : \", tmp)\n",
    "   "
   ]
  },
  {
   "cell_type": "code",
   "execution_count": 20,
   "metadata": {},
   "outputs": [],
   "source": [
    "columns_final = columns_1 + columns_2_1"
   ]
  },
  {
   "cell_type": "markdown",
   "metadata": {},
   "source": [
    "## Save predictions"
   ]
  },
  {
   "cell_type": "code",
   "execution_count": 162,
   "metadata": {},
   "outputs": [
    {
     "name": "stdout",
     "output_type": "stream",
     "text": [
      "(16, 12664)\n"
     ]
    }
   ],
   "source": [
    "print(np.shape(columns_final))\n",
    "result = pd.DataFrame(columns_final).transpose()\n",
    "result.columns = list(df_train_labels)\n",
    "result.to_csv('./Results/prediction.csv.zip', index=False, float_format='%.3f', compression='zip')"
   ]
  },
  {
   "cell_type": "code",
   "execution_count": null,
   "metadata": {},
   "outputs": [],
   "source": [
    "result.to_csv('./Results/prediction.csv', index=False, float_format='%.3f')"
   ]
  },
  {
   "cell_type": "code",
   "execution_count": null,
   "metadata": {},
   "outputs": [],
   "source": []
  }
 ],
 "metadata": {
  "kernelspec": {
   "display_name": "Python 3",
   "language": "python",
   "name": "python3"
  },
  "language_info": {
   "codemirror_mode": {
    "name": "ipython",
    "version": 3
   },
   "file_extension": ".py",
   "mimetype": "text/x-python",
   "name": "python",
   "nbconvert_exporter": "python",
   "pygments_lexer": "ipython3",
   "version": "3.7.5"
  }
 },
 "nbformat": 4,
 "nbformat_minor": 4
}
