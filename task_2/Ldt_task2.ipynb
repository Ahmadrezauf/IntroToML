{
 "cells": [
  {
   "cell_type": "markdown",
   "metadata": {},
   "source": [
    "# Support vector machines"
   ]
  },
  {
   "cell_type": "code",
   "execution_count": 1,
   "metadata": {},
   "outputs": [],
   "source": [
    "# import libraries\n",
    "\n",
    "import numpy as np\n",
    "import math\n",
    "import pandas as pd\n",
    "import matplotlib.pyplot as plt\n",
    "import missingno as msno\n",
    "import seaborn as sns\n",
    "\n",
    "from matplotlib.backends.backend_pdf import PdfPages\n",
    "from sklearn.decomposition import PCA\n",
    "\n",
    "from sklearn.ensemble import BaggingClassifier, RandomForestClassifier\n",
    "from sklearn.feature_selection import GenericUnivariateSelect, mutual_info_classif, mutual_info_regression, f_regression\n",
    "\n",
    "from sklearn import preprocessing\n",
    "from sklearn.svm import LinearSVR\n",
    "from sklearn.svm import LinearSVC\n",
    "from sklearn.svm import SVR\n",
    "from sklearn.svm import SVC\n",
    "\n",
    "from sklearn.preprocessing import StandardScaler\n",
    "from sklearn.metrics import roc_auc_score\n",
    "from sklearn.metrics import r2_score\n",
    "from sklearn.metrics.pairwise import pairwise_kernels\n",
    "\n",
    "from sklearn import model_selection\n",
    "\n",
    "from sklearn.impute import KNNImputer\n",
    "from sklearn.impute import SimpleImputer\n",
    "# explicitly require this experimental feature\n",
    "from sklearn.experimental import enable_iterative_imputer  # noqa\n",
    "# now you can import normally from sklearn.impute\n",
    "from sklearn.impute import IterativeImputer"
   ]
  },
  {
   "cell_type": "markdown",
   "metadata": {},
   "source": [
    "## Data pre-processing"
   ]
  },
  {
   "cell_type": "code",
   "execution_count": 2,
   "metadata": {},
   "outputs": [],
   "source": [
    "# load training data\n",
    "\n",
    "# load data from csv file\n",
    "df_train_features = pd.read_csv ('train_features.csv')\n",
    "df_train_labels = pd.read_csv('train_labels.csv')\n",
    "\n",
    "# Load test data\n",
    "df_test_features = pd.read_csv ('test_features.csv')"
   ]
  },
  {
   "cell_type": "markdown",
   "metadata": {},
   "source": [
    "### Sorting labels"
   ]
  },
  {
   "cell_type": "code",
   "execution_count": 4,
   "metadata": {},
   "outputs": [],
   "source": [
    "df_train_labels = df_train_labels.sort_values(by = 'pid')\n",
    "df_train_features = df_train_features.sort_values(by = 'pid')"
   ]
  },
  {
   "cell_type": "markdown",
   "metadata": {},
   "source": [
    " ### Histogram of the output labels "
   ]
  },
  {
   "cell_type": "markdown",
   "metadata": {},
   "source": [
    "We should check for class imbalance."
   ]
  },
  {
   "cell_type": "code",
   "execution_count": 3,
   "metadata": {},
   "outputs": [
    {
     "data": {
      "text/plain": [
       "array([[<matplotlib.axes._subplots.AxesSubplot object at 0x129110b50>,\n",
       "        <matplotlib.axes._subplots.AxesSubplot object at 0x10c871490>,\n",
       "        <matplotlib.axes._subplots.AxesSubplot object at 0x10c8aab10>,\n",
       "        <matplotlib.axes._subplots.AxesSubplot object at 0x10c8ec1d0>],\n",
       "       [<matplotlib.axes._subplots.AxesSubplot object at 0x10c920850>,\n",
       "        <matplotlib.axes._subplots.AxesSubplot object at 0x10c955ed0>,\n",
       "        <matplotlib.axes._subplots.AxesSubplot object at 0x12913a610>,\n",
       "        <matplotlib.axes._subplots.AxesSubplot object at 0x12916ebd0>],\n",
       "       [<matplotlib.axes._subplots.AxesSubplot object at 0x12916ec10>,\n",
       "        <matplotlib.axes._subplots.AxesSubplot object at 0x1291b13d0>,\n",
       "        <matplotlib.axes._subplots.AxesSubplot object at 0x129212b10>,\n",
       "        <matplotlib.axes._subplots.AxesSubplot object at 0x12925f690>],\n",
       "       [<matplotlib.axes._subplots.AxesSubplot object at 0x129294d10>,\n",
       "        <matplotlib.axes._subplots.AxesSubplot object at 0x1292d53d0>,\n",
       "        <matplotlib.axes._subplots.AxesSubplot object at 0x12930ba50>,\n",
       "        <matplotlib.axes._subplots.AxesSubplot object at 0x12934b110>]],\n",
       "      dtype=object)"
      ]
     },
     "execution_count": 3,
     "metadata": {},
     "output_type": "execute_result"
    },
    {
     "data": {
      "image/png": "[encoded data removed]",
      "text/plain": [
       "<Figure size 432x288 with 16 Axes>"
      ]
     },
     "metadata": {
      "needs_background": "light"
     },
     "output_type": "display_data"
    }
   ],
   "source": [
    "df_train_labels.hist()\n",
    "\n",
    "# with PdfPages(\"./Results/Labels_histogram.pdf\") as export_pdf:\n",
    "#     for i in list(df_train_labels)[1:]:\n",
    "#         df_train_labels.hist(column = i, bins = 100)\n",
    "#         export_pdf.savefig()"
   ]
  },
  {
   "cell_type": "markdown",
   "metadata": {},
   "source": [
    "One can see the class imbalance problem here. Other observations:\n",
    "  * Heartrate, RRate, ABPm,  distribution is similar to a normal distribution\n",
    "  * SpO2 is like a censored normal distribution. \n",
    "  * For all of the other features, class imbalance is an obvious problem."
   ]
  },
  {
   "cell_type": "markdown",
   "metadata": {},
   "source": [
    "A basic strategy that could be used here: Upsample both classes! Do the upsampling efficiently, not just replicating the datapoints"
   ]
  },
  {
   "cell_type": "markdown",
   "metadata": {},
   "source": [
    "### Train Data pre-processing"
   ]
  },
  {
   "cell_type": "code",
   "execution_count": null,
   "metadata": {},
   "outputs": [],
   "source": [
    "# data inspection: \n",
    "#############################################\n",
    "# range of the provided data?\n",
    "print(df_train_features.agg([min, max]))\n",
    "\n",
    "# Boxplotting the data\n",
    "# fig2, ax2 = plt.subplots()\n",
    "# ax2.set_title('BUN')\n",
    "# ax2.boxplot(df_train_features.iloc[:,5], notch=True)\n",
    "\n",
    "plt.figure(figsize=(16, 16))\n",
    "ax = sns.boxplot(data = df_train_features.iloc[:,1:])\n",
    "ax.set_xticklabels(\n",
    "    ax.get_xticklabels(),\n",
    "    rotation=90,\n",
    "    horizontalalignment='right'\n",
    ");\n",
    "\n",
    "# with PdfPages(\"./Results/Train_columns_boxplot.pdf\") as export_pdf:\n",
    "#     for i in list(df_train_labels)[1:]:\n",
    "#         df_train_labels.hist(column = i, bins = 100)\n",
    "#         export_pdf.savefig()"
   ]
  },
  {
   "cell_type": "code",
   "execution_count": null,
   "metadata": {},
   "outputs": [],
   "source": [
    "# calculate the correlation matrix\n",
    "corr = df_train_features.corr()\n",
    "\n",
    "# plot the heatmap\n",
    "plt.figure(figsize=(16, 16))\n",
    "ax = sns.heatmap(corr, \n",
    "        xticklabels=corr.columns,\n",
    "        yticklabels=corr.columns, \n",
    "        vmin=-1, vmax=1, center=0, \n",
    "           cmap=sns.diverging_palette(20, 220, n=200))\n",
    "ax.set_xticklabels(\n",
    "    ax.get_xticklabels(),\n",
    "    rotation=45,\n",
    "    horizontalalignment='right'\n",
    ");"
   ]
  },
  {
   "cell_type": "markdown",
   "metadata": {},
   "source": [
    "### Visualizing pattern of missing values"
   ]
  },
  {
   "cell_type": "code",
   "execution_count": null,
   "metadata": {},
   "outputs": [],
   "source": [
    "# how much missing data? \n",
    "print(\"Percentage of missing values:\")\n",
    "print(df_train_features.isnull().sum(axis=0) / len(df_train_features))\n",
    "\n",
    "msno.matrix(df_train_features)\n",
    "\n",
    "# Plotting the correlation between the missing values\n",
    "msno.heatmap(df_train_features)"
   ]
  },
  {
   "cell_type": "markdown",
   "metadata": {},
   "source": [
    "### Train data pre-processing"
   ]
  },
  {
   "cell_type": "code",
   "execution_count": 5,
   "metadata": {},
   "outputs": [
    {
     "name": "stdout",
     "output_type": "stream",
     "text": [
      "MultiIndex([(            'Age', 'mean'),\n",
      "            (          'EtCO2', 'amin'),\n",
      "            (            'PTT', 'amin'),\n",
      "            (            'PTT', 'amax'),\n",
      "            (            'PTT', 'mean'),\n",
      "            (            'BUN', 'amin'),\n",
      "            (            'BUN', 'amax'),\n",
      "            (            'BUN', 'mean'),\n",
      "            (        'Lactate', 'amin'),\n",
      "            (        'Lactate', 'amax'),\n",
      "            ...\n",
      "            ('Bilirubin_total', 'mean'),\n",
      "            (      'TroponinI', 'amin'),\n",
      "            (      'TroponinI', 'amax'),\n",
      "            (      'TroponinI', 'mean'),\n",
      "            (           'ABPs', 'amin'),\n",
      "            (           'ABPs', 'amax'),\n",
      "            (           'ABPs', 'mean'),\n",
      "            (             'pH', 'amin'),\n",
      "            (             'pH', 'amax'),\n",
      "            (             'pH', 'mean')],\n",
      "           length=101)\n",
      "101\n",
      "33\n",
      "number of missing values:\n",
      "Age    mean        0\n",
      "EtCO2  amin    17673\n",
      "PTT    amin    11179\n",
      "       amax    11179\n",
      "       mean    11179\n",
      "               ...  \n",
      "ABPs   amax      398\n",
      "       mean      398\n",
      "pH     amin    11001\n",
      "       amax    11001\n",
      "       mean    11001\n",
      "Length: 101, dtype: int64\n",
      "('EtCO2', 'amin')\n",
      "17673\n",
      "should be removed\n",
      "('PTT', 'amin')\n",
      "11179\n",
      "('PTT', 'amax')\n",
      "11179\n",
      "('PTT', 'mean')\n",
      "11179\n",
      "('BUN', 'amin')\n",
      "5029\n",
      "('BUN', 'amax')\n",
      "5029\n",
      "('BUN', 'mean')\n",
      "5029\n",
      "('Lactate', 'amin')\n",
      "14123\n",
      "('Lactate', 'amax')\n",
      "14123\n",
      "('Lactate', 'mean')\n",
      "14123\n",
      "('Temp', 'amin')\n",
      "443\n",
      "('Temp', 'amax')\n",
      "443\n",
      "('Temp', 'mean')\n",
      "443\n",
      "('Hgb', 'amin')\n",
      "5020\n",
      "('Hgb', 'amax')\n",
      "5020\n",
      "('Hgb', 'mean')\n",
      "5020\n",
      "('HCO3', 'amin')\n",
      "11158\n",
      "('HCO3', 'amax')\n",
      "11158\n",
      "('HCO3', 'mean')\n",
      "11158\n",
      "('BaseExcess', 'amin')\n",
      "13298\n",
      "('BaseExcess', 'amax')\n",
      "13298\n",
      "('BaseExcess', 'mean')\n",
      "13298\n",
      "('RRate', 'amin')\n",
      "152\n",
      "('RRate', 'amax')\n",
      "152\n",
      "('RRate', 'mean')\n",
      "152\n",
      "('Fibrinogen', 'amin')\n",
      "17281\n",
      "should be removed\n",
      "('Fibrinogen', 'amax')\n",
      "17281\n",
      "should be removed\n",
      "('Fibrinogen', 'mean')\n",
      "17281\n",
      "should be removed\n",
      "('Phosphate', 'amin')\n",
      "9666\n",
      "('Phosphate', 'amax')\n",
      "9666\n",
      "('Phosphate', 'mean')\n",
      "9666\n",
      "('WBC', 'amin')\n",
      "5654\n"
     ]
    }
   ],
   "source": [
    "df_train_agg_features = df_train_features.groupby('pid').agg([np.min, np.max, np.mean])\n",
    "df_train_agg_features = df_train_agg_features.iloc[:,5:]\n",
    "# Removing ETCo2 mean and max since it has so many NA\n",
    "df_train_agg_features = df_train_agg_features.drop(df_train_agg_features.columns[[2,3]],  axis = 1)\n",
    "print(df_train_agg_features.columns)\n",
    "df_train_agg_features.columns\n",
    "print(int(df_train_agg_features.shape[1]))\n",
    "print(int(df_train_agg_features.shape[1]/3))\n",
    "\n",
    "# how much missing data? \n",
    "print(\"number of missing values:\")\n",
    "print(df_train_agg_features.isnull().sum(axis=0))\n",
    "\n",
    "na_percent_max = int(0.8 * df_train_agg_features.shape[0])\n",
    "tmp = pd.DataFrame(df_train_agg_features)\n",
    "for i in range(1, (int(df_train_agg_features.shape[1]/3))):\n",
    "    na_count = df_train_agg_features.iloc[:,i].isna().sum()\n",
    "    print(df_train_agg_features.columns[i])\n",
    "    print(na_count)\n",
    "    \n",
    "    if(na_count > na_percent_max):\n",
    "        print(\"should be removed\")\n"
   ]
  },
  {
   "cell_type": "code",
   "execution_count": 6,
   "metadata": {},
   "outputs": [],
   "source": [
    "# impute missing data points\n",
    "#imp = SimpleImputer(strategy=\"mean\")\n",
    "imputer = KNNImputer(n_neighbors = 10)\n",
    "#imputer = IterativeImputer(random_state=0, verbose = 2, max_iter = 30)\n",
    "df_train_agg_imputed_features = imputer.fit_transform(df_train_agg_features)\n",
    "#print(df_train_agg_imputed_features)"
   ]
  },
  {
   "cell_type": "code",
   "execution_count": 7,
   "metadata": {},
   "outputs": [],
   "source": [
    "# scale the data\n",
    "min_max_scaler = preprocessing.StandardScaler()\n",
    "# standard_scalar = preprocessing.StandardScaler()\n",
    "\n",
    "data_train_scaled = min_max_scaler.fit_transform(df_train_agg_imputed_features)"
   ]
  },
  {
   "cell_type": "code",
   "execution_count": 106,
   "metadata": {},
   "outputs": [
    {
     "name": "stdout",
     "output_type": "stream",
     "text": [
      "         pid\n",
      "0          1\n",
      "6622       2\n",
      "15008      4\n",
      "16335      6\n",
      "17676      8\n",
      "...      ...\n",
      "14402  31653\n",
      "14403  31654\n",
      "14404  31656\n",
      "14405  31657\n",
      "14406  31658\n",
      "\n",
      "[18995 rows x 1 columns]\n",
      "         pid\n",
      "0          1\n",
      "1         10\n",
      "2        100\n",
      "3       1000\n",
      "4      10000\n",
      "...      ...\n",
      "18990   9993\n",
      "18991   9995\n",
      "18992   9996\n",
      "18993   9998\n",
      "18994   9999\n",
      "\n",
      "[18995 rows x 1 columns]\n",
      "        Age   PTT               BUN             Lactate            ...  \\\n",
      "       mean  amin  amax  mean  amin  amax  mean    amin amax mean  ...   \n",
      "pid                                                                ...   \n",
      "1      34.0   NaN   NaN   NaN  12.0  12.0  12.0     NaN  NaN  NaN  ...   \n",
      "2      86.0  31.8  31.8  31.8  32.0  32.0  32.0     NaN  NaN  NaN  ...   \n",
      "4      66.0  34.6  34.6  34.6   8.0   8.0   8.0     NaN  NaN  NaN  ...   \n",
      "6      66.0  53.8  53.8  53.8  32.0  32.0  32.0     1.8  1.8  1.8  ...   \n",
      "8      42.0   NaN   NaN   NaN  18.0  18.0  18.0     NaN  NaN  NaN  ...   \n",
      "...     ...   ...   ...   ...   ...   ...   ...     ...  ...  ...  ...   \n",
      "31653  52.0  25.8  25.8  25.8  11.0  11.0  11.0     1.3  2.1  1.7  ...   \n",
      "31654  66.0   NaN   NaN   NaN  32.0  34.0  33.0     NaN  NaN  NaN  ...   \n",
      "31656  44.0   NaN   NaN   NaN  15.0  15.0  15.0     NaN  NaN  NaN  ...   \n",
      "31657  70.0   NaN   NaN   NaN   NaN   NaN   NaN     NaN  NaN  NaN  ...   \n",
      "31658  60.0   NaN   NaN   NaN  13.0  13.0  13.0     NaN  NaN  NaN  ...   \n",
      "\n",
      "      Bilirubin_total TroponinI               ABPs                       pH  \\\n",
      "                 mean      amin  amax  mean   amin   amax        mean  amin   \n",
      "pid                                                                           \n",
      "1                 NaN       NaN   NaN   NaN  100.0  142.0  114.500000  7.33   \n",
      "2                 NaN      0.44  0.44  0.44  120.0  148.0  131.181818   NaN   \n",
      "4                 0.6      0.02  0.02  0.02   86.0  168.0  125.454545   NaN   \n",
      "6                 NaN       NaN   NaN   NaN   94.0  110.0  100.666667  7.33   \n",
      "8                 NaN      0.08  0.08  0.08  149.0  239.0  204.545455   NaN   \n",
      "...               ...       ...   ...   ...    ...    ...         ...   ...   \n",
      "31653             NaN       NaN   NaN   NaN   75.0   96.0   87.333333  7.33   \n",
      "31654             NaN       NaN   NaN   NaN  153.0  187.0  165.000000   NaN   \n",
      "31656             NaN       NaN   NaN   NaN   88.0  120.0  100.300000  7.25   \n",
      "31657             NaN       NaN   NaN   NaN  101.0  124.0  110.500000   NaN   \n",
      "31658             NaN       NaN   NaN   NaN  127.0  137.0  133.000000   NaN   \n",
      "\n",
      "                       \n",
      "       amax      mean  \n",
      "pid                    \n",
      "1      7.41  7.370000  \n",
      "2       NaN       NaN  \n",
      "4       NaN       NaN  \n",
      "6      7.39  7.352857  \n",
      "8       NaN       NaN  \n",
      "...     ...       ...  \n",
      "31653  7.33  7.330000  \n",
      "31654   NaN       NaN  \n",
      "31656  7.34  7.300000  \n",
      "31657   NaN       NaN  \n",
      "31658   NaN       NaN  \n",
      "\n",
      "[18995 rows x 100 columns]\n"
     ]
    }
   ],
   "source": [
    "# REARRANGE THE LABELS, TO MATCH THE REARRANGED FEATURES\n",
    "df_train_labels_sorted = df_train_labels.sort_values(by = 'pid')\n",
    "print(df_train_labels_sorted[['pid']])\n",
    "print(df_train_labels[['pid']])\n",
    "print(df_train_agg_features)"
   ]
  },
  {
   "cell_type": "code",
   "execution_count": null,
   "metadata": {},
   "outputs": [],
   "source": [
    "# Visualizing the training data after imputing and aggregating\n",
    "\n",
    "plt.figure(figsize=(16, 16))\n",
    "ax = sns.boxplot(data = pd.DataFrame(data_train_scaled))\n",
    "ax.set_xticklabels(\n",
    "    list(df_train_features),\n",
    "    rotation=90,\n",
    "    horizontalalignment='right'\n",
    ");"
   ]
  },
  {
   "cell_type": "code",
   "execution_count": null,
   "metadata": {},
   "outputs": [],
   "source": [
    "# What is the correlation between the \n",
    "pd.DataFrame(data_train_scaled).corrwith(other = pd.DataFrame(df_train_agg_imputed_features), method = \"spearman\").transpose()"
   ]
  },
  {
   "cell_type": "markdown",
   "metadata": {},
   "source": [
    "### PCA plot "
   ]
  },
  {
   "cell_type": "code",
   "execution_count": 14,
   "metadata": {
    "jupyter": {
     "source_hidden": true
    }
   },
   "outputs": [
    {
     "data": {
      "image/png": "[encoded data removed]",
      "text/plain": [
       "<Figure size 576x576 with 1 Axes>"
      ]
     },
     "metadata": {
      "needs_background": "light"
     },
     "output_type": "display_data"
    }
   ],
   "source": [
    "pca = PCA(n_components=2)\n",
    "\n",
    "principalComponents = pca.fit_transform(data_train_scaled)\n",
    "principalDf = pd.DataFrame(data = principalComponents\n",
    "             , columns = ['principal component 1', 'principal component 2'])\n",
    "\n",
    "finalDf = pd.concat([principalDf, df_train_labels[[df_train_labels.columns[11]]]], axis = 1)\n",
    "\n",
    "fig = plt.figure(figsize = (8,8))\n",
    "ax = fig.add_subplot(1,1,1) \n",
    "ax.set_xlabel('Principal Component 1', fontsize = 15)\n",
    "ax.set_ylabel('Principal Component 2', fontsize = 15)\n",
    "ax.set_title('2 component PCA for label i', fontsize = 20)\n",
    "targets = [0, 1]\n",
    "colors = ['r', 'g', 'b']\n",
    "for target, color in zip(targets,colors):\n",
    "    indicesToKeep = finalDf[df_train_labels.columns[11]] == target\n",
    "    ax.scatter(finalDf.loc[indicesToKeep, 'principal component 1']\n",
    "               , finalDf.loc[indicesToKeep, 'principal component 2']\n",
    "               , c = color\n",
    "               , s = 50)\n",
    "ax.legend(targets)\n",
    "ax.grid()"
   ]
  },
  {
   "cell_type": "markdown",
   "metadata": {},
   "source": [
    "### Test Data pre-processing"
   ]
  },
  {
   "cell_type": "code",
   "execution_count": null,
   "metadata": {},
   "outputs": [],
   "source": [
    "# data inspection: \n",
    "#############################################\n",
    "# range of the provided data?\n",
    "print(df_test_features.agg([min, max]))\n",
    "\n",
    "# how much missing data? \n",
    "print(\"number of missing values:\")\n",
    "print(df_test_features.isnull().sum(axis=0))"
   ]
  },
  {
   "cell_type": "code",
   "execution_count": 9,
   "metadata": {},
   "outputs": [],
   "source": [
    "# # aggregate data for each pid\n",
    "# df_test_aggregate_features = df_test_features.groupby('pid').agg('median')\n",
    "\n",
    "df_test_agg_features = df_test_features.groupby('pid').agg([np.min, np.max, np.mean])\n",
    "\n",
    "df_test_agg_features = df_test_agg_features.iloc[:,5:]\n",
    "# Removing ETCo2 mean and max since it has so many NA\n",
    "df_test_agg_features = df_test_agg_features.drop(df_test_agg_features.columns[[2,3]],  axis = 1)"
   ]
  },
  {
   "cell_type": "code",
   "execution_count": 10,
   "metadata": {},
   "outputs": [],
   "source": [
    "# impute missing data points\n",
    "# should we impute it with the same imputer that we've used for train?\n",
    "\n",
    "imputer = KNNImputer(n_neighbors= 10)\n",
    "#imputer = IterativeImputer(random_state=0, verbose = 1)\n",
    "df_test_agg_imputed_features = imputer.fit_transform(df_test_agg_features)"
   ]
  },
  {
   "cell_type": "code",
   "execution_count": 11,
   "metadata": {},
   "outputs": [],
   "source": [
    "# scale test data\n",
    "min_max_scaler = preprocessing.StandardScaler()\n",
    "data_test_scaled = min_max_scaler.fit_transform(df_test_agg_imputed_features)"
   ]
  },
  {
   "cell_type": "code",
   "execution_count": 19,
   "metadata": {},
   "outputs": [],
   "source": [
    "# pd.DataFrame(data_train_scaled).to_csv(\"./Results/4stats_iterarive_dat_train_scaled.csv\")\n",
    "# pd.DataFrame(data_test_scaled).to_csv(\"./Results/4stats_iterative_dat_test_scaled.csv\")"
   ]
  },
  {
   "cell_type": "markdown",
   "metadata": {},
   "source": [
    "## Fit a model & Predict"
   ]
  },
  {
   "cell_type": "markdown",
   "metadata": {},
   "source": [
    "### predict with support vector machine classification and use probabilities"
   ]
  },
  {
   "cell_type": "code",
   "execution_count": null,
   "metadata": {},
   "outputs": [
    {
     "name": "stdout",
     "output_type": "stream",
     "text": [
      "For feature  LABEL_BaseExcess\n",
      "MultiIndex([(       'PTT', 'amin'),\n",
      "            (       'PTT', 'amax'),\n",
      "            (   'Lactate', 'amin'),\n",
      "            (   'Lactate', 'amax'),\n",
      "            (   'Lactate', 'mean'),\n",
      "            (      'HCO3', 'amin'),\n",
      "            (      'HCO3', 'amax'),\n",
      "            (      'HCO3', 'mean'),\n",
      "            ('BaseExcess', 'amin'),\n",
      "            ('BaseExcess', 'amax'),\n",
      "            ('BaseExcess', 'mean'),\n",
      "            ('Creatinine', 'amin'),\n",
      "            ('Creatinine', 'amax'),\n",
      "            ('Creatinine', 'mean'),\n",
      "            (     'PaCO2', 'amin'),\n",
      "            (     'PaCO2', 'amax'),\n",
      "            (     'PaCO2', 'mean'),\n",
      "            (      'FiO2', 'amin'),\n",
      "            (      'FiO2', 'amax'),\n",
      "            (      'FiO2', 'mean'),\n",
      "            (      'SaO2', 'amin'),\n",
      "            (      'ABPm', 'mean'),\n",
      "            (      'ABPd', 'mean'),\n",
      "            (   'Calcium', 'amin'),\n",
      "            (  'Chloride', 'amin'),\n",
      "            (  'Chloride', 'amax'),\n",
      "            (  'Chloride', 'mean'),\n",
      "            (        'pH', 'amin'),\n",
      "            (        'pH', 'amax'),\n",
      "            (        'pH', 'mean')],\n",
      "           )\n",
      "Fitting 5 folds for each of 4 candidates, totalling 20 fits\n"
     ]
    },
    {
     "name": "stderr",
     "output_type": "stream",
     "text": [
      "[Parallel(n_jobs=6)]: Using backend LokyBackend with 6 concurrent workers.\n",
      "[Parallel(n_jobs=6)]: Done  20 out of  20 | elapsed:  1.9min remaining:    0.0s\n",
      "[Parallel(n_jobs=6)]: Done  20 out of  20 | elapsed:  1.9min finished\n"
     ]
    },
    {
     "name": "stdout",
     "output_type": "stream",
     "text": [
      "[LibSVM]{'mean_fit_time': array([17.28407998, 16.25491848, 19.33904142, 29.83871431]), 'std_fit_time': array([0.12611069, 0.32322955, 0.5137879 , 4.87276751]), 'mean_score_time': array([1.98440313, 1.87405767, 1.91323318, 1.29454465]), 'std_score_time': array([0.01350047, 0.03070752, 0.19604364, 0.26151272]), 'param_C': masked_array(data=[0.1, 1, 10, 30],\n",
      "             mask=[False, False, False, False],\n",
      "       fill_value='?',\n",
      "            dtype=object), 'params': [{'C': 0.1}, {'C': 1}, {'C': 10}, {'C': 30}], 'split0_test_score': array([0.84106146, 0.85819628, 0.85749635, 0.84799829]), 'split1_test_score': array([0.82781363, 0.84953721, 0.84648548, 0.83627092]), 'split2_test_score': array([0.83844367, 0.86206007, 0.85498514, 0.84110427]), 'split3_test_score': array([0.83565564, 0.8510509 , 0.84366815, 0.83229397]), 'split4_test_score': array([0.83971696, 0.85600391, 0.84667434, 0.83311718]), 'mean_test_score': array([0.83653827, 0.85536967, 0.84986189, 0.83815693]), 'std_test_score': array([0.00471365, 0.0046005 , 0.00537505, 0.00581153]), 'rank_test_score': array([4, 1, 2, 3], dtype=int32), 'split0_train_score': array([0.84391772, 0.88176263, 0.92025318, 0.93914743]), 'split1_train_score': array([0.8460325 , 0.88385749, 0.92232387, 0.94070435]), 'split2_train_score': array([0.84360689, 0.88161816, 0.92042544, 0.93954158]), 'split3_train_score': array([0.84500519, 0.88363035, 0.92284306, 0.94077152]), 'split4_train_score': array([0.84353372, 0.88186494, 0.92103178, 0.9398809 ]), 'mean_train_score': array([0.8444192 , 0.88254671, 0.92137547, 0.94000916]), 'std_train_score': array([0.00096348, 0.00098328, 0.00103281, 0.00063909])}\n",
      "{'C': 1}\n",
      "0.8553696722385646\n",
      "ROC AUC for feature LABEL_BaseExcess  :  0.8823250613898451\n",
      "For feature  LABEL_Fibrinogen\n",
      "MultiIndex([(             'PTT', 'amin'),\n",
      "            (             'PTT', 'amax'),\n",
      "            (             'PTT', 'mean'),\n",
      "            (         'Lactate', 'amin'),\n",
      "            (         'Lactate', 'amax'),\n",
      "            (         'Lactate', 'mean'),\n",
      "            (             'Hgb', 'amin'),\n",
      "            (             'Hgb', 'mean'),\n",
      "            (      'Fibrinogen', 'amin'),\n",
      "            (      'Fibrinogen', 'amax'),\n",
      "            (      'Fibrinogen', 'mean'),\n",
      "            (             'WBC', 'amin'),\n",
      "            (             'WBC', 'amax'),\n",
      "            (             'AST', 'amin'),\n",
      "            (             'AST', 'amax'),\n",
      "            (             'AST', 'mean'),\n",
      "            (       'Platelets', 'amin'),\n",
      "            (       'Platelets', 'amax'),\n",
      "            (       'Platelets', 'mean'),\n",
      "            (    'Alkalinephos', 'amin'),\n",
      "            (    'Alkalinephos', 'mean'),\n",
      "            ('Bilirubin_direct', 'amin'),\n",
      "            ('Bilirubin_direct', 'amax'),\n",
      "            ('Bilirubin_direct', 'mean'),\n",
      "            (             'Hct', 'amin'),\n",
      "            (             'Hct', 'amax'),\n",
      "            (             'Hct', 'mean'),\n",
      "            ( 'Bilirubin_total', 'amin'),\n",
      "            ( 'Bilirubin_total', 'amax'),\n",
      "            ( 'Bilirubin_total', 'mean')],\n",
      "           )\n",
      "Fitting 5 folds for each of 4 candidates, totalling 20 fits\n"
     ]
    },
    {
     "name": "stderr",
     "output_type": "stream",
     "text": [
      "[Parallel(n_jobs=6)]: Using backend LokyBackend with 6 concurrent workers.\n"
     ]
    }
   ],
   "source": [
    "# first for the labels that have an output [0,1]\n",
    "test_pids = list(set(df_test_features.pid))\n",
    "columns_1 = [test_pids]\n",
    "\n",
    "for i in range(1, 12):\n",
    "   \n",
    "    # feature selection\n",
    "    transformer =  GenericUnivariateSelect(score_func= mutual_info_classif, mode ='k_best', param=30)\n",
    "    train_features = transformer.fit_transform(data_train_scaled, df_train_labels.iloc[:,i])\n",
    "    print(\"For feature \", df_train_labels.columns[i])\n",
    "    print(df_train_agg_features.columns[transformer.get_support(indices = True)])\n",
    "    test_features = transformer.transform(data_test_scaled)\n",
    "\n",
    "    \n",
    "    #clf = BaggingClassifier(SVC(kernel = 'poly', degree = 5, class_weight = 'balanced', verbose = True, C = 10))\n",
    "    clf_w = SVC(kernel = 'rbf', gamma = 'auto', class_weight = 'balanced', verbose = 2)\n",
    "    \n",
    "    parameters = {'C':(0.1, 1,10, 30)}\n",
    "    clf = model_selection.GridSearchCV(estimator= clf_w, param_grid = parameters, cv = 5,\n",
    "                                        refit = True, scoring = 'roc_auc', verbose = 2,\n",
    "                                       n_jobs=6, return_train_score = True)\n",
    "    clf.fit(train_features, df_train_labels.iloc[:,i])\n",
    "    \n",
    "    print(clf.cv_results_)\n",
    "    print(clf.best_params_)\n",
    "    print(clf.best_score_)\n",
    "    # compute probabilites as opposed to predictions\n",
    "    #dual_coefficients = clf.dual_coef_    # do we have to normalize with norm of this vector ?\n",
    "    \n",
    "    distance_hyperplane = clf.decision_function(test_features)\n",
    "    probability = np.empty(len(distance_hyperplane))\n",
    "    for j in range(0, len(probability)):\n",
    "        if distance_hyperplane[j] < 0:\n",
    "            probability[j] = 1 - 1/(1 + math.exp(distance_hyperplane[j]))\n",
    "        else:\n",
    "            probability[j] = 1/(1 + math.exp(-distance_hyperplane[j]))\n",
    "    columns_1.append(probability)\n",
    "\n",
    "    \n",
    "    distance_hyperplace_train = clf.decision_function(train_features)\n",
    "    probability = np.empty(len(distance_hyperplace_train))\n",
    "    for j in range(0, len(probability)):\n",
    "        if distance_hyperplace_train[j] < 0:\n",
    "            probability[j] = 1 - 1/(1 + math.exp(distance_hyperplace_train[j]))\n",
    "        else:\n",
    "            probability[j] = 1/(1 + math.exp(-distance_hyperplace_train[j]))\n",
    "    \n",
    "    tmp = roc_auc_score(y_score= probability, y_true= df_train_labels.iloc[:,i])\n",
    "    print(\"ROC AUC for feature\", list(df_train_labels)[i] , \" : \", tmp)\n",
    "    "
   ]
  },
  {
   "cell_type": "code",
   "execution_count": 80,
   "metadata": {},
   "outputs": [
    {
     "name": "stdout",
     "output_type": "stream",
     "text": [
      "MultiIndex([(             'BUN', 'amin'),\n",
      "            (         'Lactate', 'amin'),\n",
      "            (            'Temp', 'amax'),\n",
      "            (             'Hgb', 'mean'),\n",
      "            (      'BaseExcess', 'amax'),\n",
      "            (           'RRate', 'amin'),\n",
      "            (           'RRate', 'amax'),\n",
      "            (           'RRate', 'mean'),\n",
      "            (      'Fibrinogen', 'amax'),\n",
      "            (       'Phosphate', 'amax'),\n",
      "            (             'WBC', 'amin'),\n",
      "            (             'WBC', 'amax'),\n",
      "            (             'WBC', 'mean'),\n",
      "            (      'Creatinine', 'amax'),\n",
      "            (      'Creatinine', 'mean'),\n",
      "            (           'PaCO2', 'amin'),\n",
      "            (           'PaCO2', 'amax'),\n",
      "            (             'AST', 'amax'),\n",
      "            (             'AST', 'mean'),\n",
      "            (            'FiO2', 'amin'),\n",
      "            (            'FiO2', 'amax'),\n",
      "            (            'FiO2', 'mean'),\n",
      "            (       'Platelets', 'mean'),\n",
      "            (            'SaO2', 'amax'),\n",
      "            (            'ABPm', 'amin'),\n",
      "            (            'ABPm', 'mean'),\n",
      "            (       'Potassium', 'amax'),\n",
      "            (            'ABPd', 'mean'),\n",
      "            (    'Alkalinephos', 'amin'),\n",
      "            (    'Alkalinephos', 'amax'),\n",
      "            (            'SpO2', 'mean'),\n",
      "            ('Bilirubin_direct', 'amin'),\n",
      "            ('Bilirubin_direct', 'amax'),\n",
      "            (        'Chloride', 'amax'),\n",
      "            (             'Hct', 'amin'),\n",
      "            (             'Hct', 'amax'),\n",
      "            (       'Heartrate', 'amin'),\n",
      "            (       'Heartrate', 'amax'),\n",
      "            (       'Heartrate', 'mean'),\n",
      "            ( 'Bilirubin_total', 'amax'),\n",
      "            ( 'Bilirubin_total', 'mean'),\n",
      "            (       'TroponinI', 'amin'),\n",
      "            (       'TroponinI', 'amax'),\n",
      "            (       'TroponinI', 'mean'),\n",
      "            (            'ABPs', 'amin'),\n",
      "            (            'ABPs', 'amax'),\n",
      "            (            'ABPs', 'mean'),\n",
      "            (              'pH', 'amin'),\n",
      "            (              'pH', 'amax'),\n",
      "            (              'pH', 'mean')],\n",
      "           )\n",
      "Fitting 5 folds for each of 3 candidates, totalling 15 fits\n"
     ]
    },
    {
     "name": "stderr",
     "output_type": "stream",
     "text": [
      "[Parallel(n_jobs=6)]: Using backend LokyBackend with 6 concurrent workers.\n",
      "[Parallel(n_jobs=6)]: Done  12 out of  15 | elapsed:  1.2min remaining:   18.7s\n",
      "[Parallel(n_jobs=6)]: Done  15 out of  15 | elapsed:  1.6min finished\n"
     ]
    },
    {
     "name": "stdout",
     "output_type": "stream",
     "text": [
      "{'mean_fit_time': array([21.54526253, 23.55829906, 37.47510796]), 'std_fit_time': array([0.047214  , 0.7688025 , 4.67507681]), 'mean_score_time': array([4.8946321 , 4.70793958, 3.68959002]), 'std_score_time': array([0.01433916, 0.07766593, 0.36837234]), 'param_C': masked_array(data=[0.1, 1, 10],\n",
      "             mask=[False, False, False],\n",
      "       fill_value='?',\n",
      "            dtype=object), 'params': [{'C': 0.1}, {'C': 1}, {'C': 10}], 'split0_test_score': array([-0.00778206, -0.01931859, -0.08694232]), 'split1_test_score': array([-0.01561896, -0.02039647, -0.06547105]), 'split2_test_score': array([-0.00994633, -0.019823  , -0.0765745 ]), 'split3_test_score': array([-0.01664153, -0.02941238, -0.07945536]), 'split4_test_score': array([-0.01361531, -0.02084413, -0.07759094]), 'mean_test_score': array([-0.01272084, -0.02195891, -0.07720683]), 'std_test_score': array([0.00336632, 0.00376222, 0.00690089]), 'rank_test_score': array([1, 2, 3], dtype=int32)}\n",
      "{'C': 0.1}\n",
      "-0.012720837287059306\n",
      "R2 for feature LABEL_RRate  :  0.0015777050409420124\n",
      "MultiIndex([(             'Age', 'mean'),\n",
      "            (             'BUN', 'amin'),\n",
      "            (             'BUN', 'mean'),\n",
      "            (         'Lactate', 'amin'),\n",
      "            (         'Lactate', 'mean'),\n",
      "            (             'Hgb', 'amax'),\n",
      "            (             'Hgb', 'mean'),\n",
      "            (           'RRate', 'amin'),\n",
      "            (      'Fibrinogen', 'mean'),\n",
      "            (       'Phosphate', 'amin'),\n",
      "            (       'Phosphate', 'mean'),\n",
      "            (             'WBC', 'amin'),\n",
      "            (             'WBC', 'amax'),\n",
      "            (      'Creatinine', 'amax'),\n",
      "            (      'Creatinine', 'mean'),\n",
      "            (           'PaCO2', 'amin'),\n",
      "            (           'PaCO2', 'amax'),\n",
      "            (             'AST', 'amin'),\n",
      "            (             'AST', 'mean'),\n",
      "            (            'FiO2', 'amin'),\n",
      "            (       'Platelets', 'amin'),\n",
      "            (       'Platelets', 'mean'),\n",
      "            (            'ABPm', 'amin'),\n",
      "            (       'Magnesium', 'amin'),\n",
      "            (       'Potassium', 'amax'),\n",
      "            (            'ABPd', 'amax'),\n",
      "            (            'ABPd', 'mean'),\n",
      "            (         'Calcium', 'amin'),\n",
      "            (         'Calcium', 'mean'),\n",
      "            (            'SpO2', 'amin'),\n",
      "            (            'SpO2', 'amax'),\n",
      "            (            'SpO2', 'mean'),\n",
      "            ('Bilirubin_direct', 'amax'),\n",
      "            ('Bilirubin_direct', 'mean'),\n",
      "            (        'Chloride', 'amax'),\n",
      "            (        'Chloride', 'mean'),\n",
      "            (             'Hct', 'mean'),\n",
      "            (       'Heartrate', 'amin'),\n",
      "            (       'Heartrate', 'mean'),\n",
      "            ( 'Bilirubin_total', 'amax'),\n",
      "            ( 'Bilirubin_total', 'mean'),\n",
      "            (       'TroponinI', 'amin'),\n",
      "            (       'TroponinI', 'amax'),\n",
      "            (       'TroponinI', 'mean'),\n",
      "            (            'ABPs', 'amin'),\n",
      "            (            'ABPs', 'amax'),\n",
      "            (            'ABPs', 'mean'),\n",
      "            (              'pH', 'amin'),\n",
      "            (              'pH', 'amax'),\n",
      "            (              'pH', 'mean')],\n",
      "           )\n",
      "Fitting 5 folds for each of 3 candidates, totalling 15 fits\n"
     ]
    },
    {
     "name": "stderr",
     "output_type": "stream",
     "text": [
      "[Parallel(n_jobs=6)]: Using backend LokyBackend with 6 concurrent workers.\n",
      "[Parallel(n_jobs=6)]: Done  12 out of  15 | elapsed:   55.9s remaining:   14.0s\n",
      "[Parallel(n_jobs=6)]: Done  15 out of  15 | elapsed:  1.2min finished\n"
     ]
    },
    {
     "name": "stdout",
     "output_type": "stream",
     "text": [
      "{'mean_fit_time': array([22.57191396, 22.46946783, 20.11467276]), 'std_fit_time': array([0.02657337, 0.0906857 , 3.40488934]), 'mean_score_time': array([4.53720922, 4.50196881, 3.66470423]), 'std_score_time': array([0.02057075, 0.02167888, 0.55807224]), 'param_C': masked_array(data=[0.1, 1, 10],\n",
      "             mask=[False, False, False],\n",
      "       fill_value='?',\n",
      "            dtype=object), 'params': [{'C': 0.1}, {'C': 1}, {'C': 10}], 'split0_test_score': array([-0.01296042, -0.02007131, -0.05247492]), 'split1_test_score': array([-0.00960062, -0.01340969, -0.04900209]), 'split2_test_score': array([-0.02282063, -0.02707379, -0.05599584]), 'split3_test_score': array([-0.0242738 , -0.03102903, -0.06613368]), 'split4_test_score': array([-0.00713664, -0.01241738, -0.04372655]), 'mean_test_score': array([-0.01535842, -0.02080024, -0.05346662]), 'std_test_score': array([0.00695225, 0.00734043, 0.00751845]), 'rank_test_score': array([1, 2, 3], dtype=int32)}\n",
      "{'C': 0.1}\n",
      "-0.015358421046422066\n",
      "R2 for feature LABEL_ABPm  :  -0.00840582956638758\n",
      "MultiIndex([(             'Age', 'mean'),\n",
      "            (             'PTT', 'amax'),\n",
      "            (             'BUN', 'amin'),\n",
      "            (             'BUN', 'amax'),\n",
      "            (             'BUN', 'mean'),\n",
      "            (         'Lactate', 'amin'),\n",
      "            (         'Lactate', 'amax'),\n",
      "            (            'Temp', 'amin'),\n",
      "            (             'Hgb', 'amin'),\n",
      "            (             'Hgb', 'amax'),\n",
      "            (             'Hgb', 'mean'),\n",
      "            (            'HCO3', 'amin'),\n",
      "            (            'HCO3', 'amax'),\n",
      "            (            'HCO3', 'mean'),\n",
      "            (           'RRate', 'mean'),\n",
      "            (      'Fibrinogen', 'amin'),\n",
      "            (             'WBC', 'amax'),\n",
      "            (             'WBC', 'mean'),\n",
      "            (      'Creatinine', 'amax'),\n",
      "            (      'Creatinine', 'mean'),\n",
      "            (           'PaCO2', 'amin'),\n",
      "            (           'PaCO2', 'mean'),\n",
      "            (             'AST', 'amin'),\n",
      "            (             'AST', 'amax'),\n",
      "            (             'AST', 'mean'),\n",
      "            (            'FiO2', 'amin'),\n",
      "            (       'Platelets', 'amax'),\n",
      "            (       'Platelets', 'mean'),\n",
      "            (            'SaO2', 'amax'),\n",
      "            (            'SaO2', 'mean'),\n",
      "            (         'Glucose', 'mean'),\n",
      "            (            'ABPm', 'amax'),\n",
      "            (       'Magnesium', 'amin'),\n",
      "            (       'Magnesium', 'amax'),\n",
      "            (       'Potassium', 'amax'),\n",
      "            (       'Potassium', 'mean'),\n",
      "            (            'ABPd', 'amin'),\n",
      "            (            'ABPd', 'amax'),\n",
      "            (         'Calcium', 'mean'),\n",
      "            (    'Alkalinephos', 'amax'),\n",
      "            (    'Alkalinephos', 'mean'),\n",
      "            ('Bilirubin_direct', 'amin'),\n",
      "            ('Bilirubin_direct', 'amax'),\n",
      "            (        'Chloride', 'amin'),\n",
      "            (             'Hct', 'amin'),\n",
      "            ( 'Bilirubin_total', 'amax'),\n",
      "            ( 'Bilirubin_total', 'mean'),\n",
      "            (            'ABPs', 'amax'),\n",
      "            (            'ABPs', 'mean'),\n",
      "            (              'pH', 'amax')],\n",
      "           )\n",
      "Fitting 5 folds for each of 3 candidates, totalling 15 fits\n"
     ]
    },
    {
     "name": "stderr",
     "output_type": "stream",
     "text": [
      "[Parallel(n_jobs=6)]: Using backend LokyBackend with 6 concurrent workers.\n",
      "[Parallel(n_jobs=6)]: Done  12 out of  15 | elapsed:  1.7min remaining:   25.6s\n",
      "[Parallel(n_jobs=6)]: Done  15 out of  15 | elapsed:  2.0min finished\n"
     ]
    },
    {
     "name": "stdout",
     "output_type": "stream",
     "text": [
      "{'mean_fit_time': array([21.55810175, 22.48987813, 67.52681708]), 'std_fit_time': array([0.04839657, 0.02534477, 3.09088395]), 'mean_score_time': array([4.53717079, 4.47886529, 3.64427581]), 'std_score_time': array([0.01410881, 0.02041817, 0.39050588]), 'param_C': masked_array(data=[0.1, 1, 10],\n",
      "             mask=[False, False, False],\n",
      "       fill_value='?',\n",
      "            dtype=object), 'params': [{'C': 0.1}, {'C': 1}, {'C': 10}], 'split0_test_score': array([-0.00611494, -0.02507489, -0.13642827]), 'split1_test_score': array([-0.01016162, -0.03357657, -0.12100674]), 'split2_test_score': array([-0.00783242, -0.02289445, -0.0993558 ]), 'split3_test_score': array([-0.01414075, -0.03289549, -0.11230882]), 'split4_test_score': array([-0.01558401, -0.037147  , -0.11648288]), 'mean_test_score': array([-0.01076675, -0.03031768, -0.1171165 ]), 'std_test_score': array([0.00361125, 0.00541288, 0.01205849]), 'rank_test_score': array([1, 2, 3], dtype=int32)}\n",
      "{'C': 0.1}\n",
      "-0.01076674929588899\n",
      "R2 for feature LABEL_SpO2  :  0.010513187753252384\n",
      "MultiIndex([(             'BUN', 'amax'),\n",
      "            (             'BUN', 'mean'),\n",
      "            (         'Lactate', 'amax'),\n",
      "            (         'Lactate', 'mean'),\n",
      "            (             'Hgb', 'amin'),\n",
      "            (             'Hgb', 'amax'),\n",
      "            (             'Hgb', 'mean'),\n",
      "            (            'HCO3', 'amin'),\n",
      "            (            'HCO3', 'mean'),\n",
      "            (      'BaseExcess', 'mean'),\n",
      "            (           'RRate', 'amax'),\n",
      "            (      'Fibrinogen', 'amin'),\n",
      "            (      'Fibrinogen', 'amax'),\n",
      "            (      'Fibrinogen', 'mean'),\n",
      "            (             'WBC', 'amax'),\n",
      "            (           'PaCO2', 'amin'),\n",
      "            (             'AST', 'amin'),\n",
      "            (             'AST', 'amax'),\n",
      "            (            'FiO2', 'amin'),\n",
      "            (       'Platelets', 'amax'),\n",
      "            (         'Glucose', 'amin'),\n",
      "            (            'ABPm', 'amin'),\n",
      "            (            'ABPm', 'amax'),\n",
      "            (            'ABPm', 'mean'),\n",
      "            (       'Magnesium', 'amax'),\n",
      "            (       'Potassium', 'amin'),\n",
      "            (       'Potassium', 'amax'),\n",
      "            (       'Potassium', 'mean'),\n",
      "            (            'ABPd', 'amin'),\n",
      "            (         'Calcium', 'amin'),\n",
      "            (         'Calcium', 'mean'),\n",
      "            (    'Alkalinephos', 'amin'),\n",
      "            (    'Alkalinephos', 'amax'),\n",
      "            (    'Alkalinephos', 'mean'),\n",
      "            (            'SpO2', 'amax'),\n",
      "            (            'SpO2', 'mean'),\n",
      "            ('Bilirubin_direct', 'amin'),\n",
      "            ('Bilirubin_direct', 'amax'),\n",
      "            (        'Chloride', 'mean'),\n",
      "            (       'Heartrate', 'amin'),\n",
      "            (       'Heartrate', 'amax'),\n",
      "            ( 'Bilirubin_total', 'amax'),\n",
      "            (       'TroponinI', 'amin'),\n",
      "            (       'TroponinI', 'mean'),\n",
      "            (            'ABPs', 'amin'),\n",
      "            (            'ABPs', 'amax'),\n",
      "            (            'ABPs', 'mean'),\n",
      "            (              'pH', 'amin'),\n",
      "            (              'pH', 'amax'),\n",
      "            (              'pH', 'mean')],\n",
      "           )\n",
      "Fitting 5 folds for each of 3 candidates, totalling 15 fits\n"
     ]
    },
    {
     "name": "stderr",
     "output_type": "stream",
     "text": [
      "[Parallel(n_jobs=6)]: Using backend LokyBackend with 6 concurrent workers.\n",
      "[Parallel(n_jobs=6)]: Done  12 out of  15 | elapsed:   55.3s remaining:   13.8s\n",
      "[Parallel(n_jobs=6)]: Done  15 out of  15 | elapsed:  1.2min finished\n"
     ]
    },
    {
     "name": "stdout",
     "output_type": "stream",
     "text": [
      "{'mean_fit_time': array([21.59280434, 22.34096107, 20.03281097]), 'std_fit_time': array([0.04438697, 0.33736265, 3.3314325 ]), 'mean_score_time': array([4.65577979, 4.8683291 , 3.88375425]), 'std_score_time': array([0.02345233, 0.11581478, 0.7443695 ]), 'param_C': masked_array(data=[0.1, 1, 10],\n",
      "             mask=[False, False, False],\n",
      "       fill_value='?',\n",
      "            dtype=object), 'params': [{'C': 0.1}, {'C': 1}, {'C': 10}], 'split0_test_score': array([-0.00439444, -0.01034801, -0.03305084]), 'split1_test_score': array([-0.00320729, -0.01048087, -0.04184934]), 'split2_test_score': array([-0.00295907, -0.00966189, -0.04725851]), 'split3_test_score': array([-0.0024429 , -0.0065562 , -0.03753415]), 'split4_test_score': array([-0.00206643, -0.00353924, -0.02830907]), 'mean_test_score': array([-0.00301403, -0.00811724, -0.03760038]), 'std_test_score': array([0.00079625, 0.00269607, 0.00660854]), 'rank_test_score': array([1, 2, 3], dtype=int32)}\n",
      "{'C': 0.1}\n",
      "-0.003014026375831236\n",
      "R2 for feature LABEL_Heartrate  :  0.002619393428407779\n"
     ]
    }
   ],
   "source": [
    "# labels that have a real value\n",
    "columns_2 = []\n",
    "# from sklearn.kernel_ridge import KernelRidge\n",
    "\n",
    "for i in range(12, 16):\n",
    "    # feature selection\n",
    "    transformer =  GenericUnivariateSelect(score_func= mutual_info_regression, mode ='k_best', param = 50)\n",
    "    train_features = transformer.fit_transform(data_train_scaled, df_train_labels.iloc[:,i])\n",
    "    print(df_train_agg_features.columns[transformer.get_support(indices = True)])\n",
    "    test_features = transformer.transform(data_test_scaled)\n",
    "    \n",
    "    clf_w = SVR(kernel = 'rbf')\n",
    "# #     clf_w = NuSVR(nu=0.5, kernel = 'linear')\n",
    "    parameters = {'C':(0.1, 1,10)}\n",
    "    clf = model_selection.GridSearchCV(estimator= clf_w, param_grid = parameters, cv = 5,\n",
    "                                       refit = True, scoring = 'r2', verbose = 2, n_jobs=6)\n",
    "#     clf = KernelRidge(kernel = 'poly', degree = 5)\n",
    "#     parameters = {'alpha':(0.1,1,10,30)}\n",
    "#     clf = model_selection.GridSearchCV(estimator= clf, param_grid = parameters, cv = 3,\n",
    "#                                       refit = True, scoring = 'r2', verbose = 2, n_jobs=6)\n",
    "    clf.fit(train_features, df_train_labels.iloc[:,i])\n",
    "    \n",
    "    print(clf.cv_results_)\n",
    "    print(clf.best_params_)\n",
    "    print(clf.best_score_)\n",
    "\n",
    "    pred_train = clf.predict(train_features)\n",
    "    tmp = r2_score(y_pred= pred_train, y_true=df_train_labels.iloc[:,i])\n",
    "    print(\"R2 for feature\", list(df_train_labels)[i] , \" : \", tmp)\n",
    "    \n",
    "    pred = clf.predict(test_features)\n",
    "    columns_2.append(pred)\n",
    "    "
   ]
  },
  {
   "cell_type": "code",
   "execution_count": 44,
   "metadata": {},
   "outputs": [],
   "source": [
    "columns_final = columns_1 + columns_2"
   ]
  },
  {
   "cell_type": "markdown",
   "metadata": {},
   "source": [
    "### predict with Support vector regression and then compute sigmoid function"
   ]
  },
  {
   "cell_type": "code",
   "execution_count": null,
   "metadata": {
    "jupyter": {
     "source_hidden": true
    }
   },
   "outputs": [],
   "source": [
    "# first for the labels that have an output [0,1]\n",
    "\n",
    "# columns_1 = [test_pids]\n",
    "\n",
    "# for i in range(1,12):\n",
    "    \n",
    "#     clf = SVR(kernel = 'poly', degree = 3, max_iter = 10000)\n",
    "#     clf.fit(data_train_scaled, df_train_labels.iloc[:,i])\n",
    "#     pred = clf.predict(data_test_scaled)\n",
    "#     prob = np.empty(len(pred))\n",
    "#     for j in range(0, len(pred)):\n",
    "#         prob[j] = 1 / (1 + math.exp(-pred[j]))\n",
    "#     columns_1.append(prob)\n",
    "    \n",
    "#     pred_train = clf.predict(data_train_scaled)\n",
    "#     prob_train = np.empty(len(pred_train))\n",
    "#     for j in range(0, len(pred_train)):\n",
    "#         prob_train[j] = 1 / (1 + math.exp(-pred_train[j]))    \n",
    "#     tmp = roc_auc_score(y_score= prob_train, y_true= df_train_labels.iloc[:,i])\n",
    "#     print(\"ROC AUC for feature\", list(df_train_labels)[i] , \" : \", tmp)\n"
   ]
  },
  {
   "cell_type": "code",
   "execution_count": 48,
   "metadata": {
    "jupyter": {
     "source_hidden": true
    },
    "scrolled": true
   },
   "outputs": [
    {
     "name": "stdout",
     "output_type": "stream",
     "text": [
      "Fitting 2 folds for each of 6 candidates, totalling 12 fits\n"
     ]
    },
    {
     "name": "stderr",
     "output_type": "stream",
     "text": [
      "[Parallel(n_jobs=6)]: Using backend LokyBackend with 6 concurrent workers.\n",
      "[Parallel(n_jobs=6)]: Done  12 out of  12 | elapsed:    3.6s finished\n",
      "/usr/local/lib/python3.7/site-packages/sklearn/svm/_base.py:947: ConvergenceWarning: Liblinear failed to converge, increase the number of iterations.\n",
      "  \"the number of iterations.\", ConvergenceWarning)\n"
     ]
    },
    {
     "name": "stdout",
     "output_type": "stream",
     "text": [
      "{'mean_fit_time': array([0.15803492, 0.72020221, 1.31950998, 1.50902951, 1.41405416,\n",
      "       1.15272558]), 'std_fit_time': array([0.01236498, 0.10293007, 0.05689812, 0.00814259, 0.03442216,\n",
      "       0.04160535]), 'mean_score_time': array([0.00132513, 0.00139034, 0.00163651, 0.00091887, 0.00078583,\n",
      "       0.00069392]), 'std_score_time': array([1.90973282e-04, 2.23517418e-04, 4.86373901e-05, 3.81469727e-05,\n",
      "       4.79221344e-05, 4.88758087e-06]), 'param_C': masked_array(data=[0.1, 1, 10, 30, 60, 100],\n",
      "             mask=[False, False, False, False, False, False],\n",
      "       fill_value='?',\n",
      "            dtype=object), 'params': [{'C': 0.1}, {'C': 1}, {'C': 10}, {'C': 30}, {'C': 60}, {'C': 100}], 'split0_test_score': array([-0.01048037, -0.0078689 , -0.00893145, -0.01131498, -0.03368533,\n",
      "       -0.13924681]), 'split1_test_score': array([-0.02066229, -0.01702624, -0.02204602, -0.0470449 , -0.04619484,\n",
      "       -0.14142441]), 'mean_test_score': array([-0.01557133, -0.01244757, -0.01548874, -0.02917994, -0.03994009,\n",
      "       -0.14033561]), 'std_test_score': array([0.00509096, 0.00457867, 0.00655729, 0.01786496, 0.00625476,\n",
      "       0.0010888 ]), 'rank_test_score': array([3, 1, 2, 4, 5, 6], dtype=int32)}\n",
      "R2 for feature LABEL_RRate  :  -0.009897835754528073\n"
     ]
    },
    {
     "ename": "KeyboardInterrupt",
     "evalue": "",
     "output_type": "error",
     "traceback": [
      "\u001b[0;31m---------------------------------------------------------------------------\u001b[0m",
      "\u001b[0;31mKeyboardInterrupt\u001b[0m                         Traceback (most recent call last)",
      "\u001b[0;32m<ipython-input-48-30f78bf78e85>\u001b[0m in \u001b[0;36m<module>\u001b[0;34m\u001b[0m\n\u001b[1;32m      7\u001b[0m     \u001b[0;31m# feature selection\u001b[0m\u001b[0;34m\u001b[0m\u001b[0;34m\u001b[0m\u001b[0;34m\u001b[0m\u001b[0m\n\u001b[1;32m      8\u001b[0m     \u001b[0mtransformer\u001b[0m \u001b[0;34m=\u001b[0m  \u001b[0mGenericUnivariateSelect\u001b[0m\u001b[0;34m(\u001b[0m\u001b[0mscore_func\u001b[0m\u001b[0;34m=\u001b[0m \u001b[0mmutual_info_regression\u001b[0m\u001b[0;34m,\u001b[0m \u001b[0mmode\u001b[0m \u001b[0;34m=\u001b[0m\u001b[0;34m'k_best'\u001b[0m\u001b[0;34m,\u001b[0m \u001b[0mparam\u001b[0m\u001b[0;34m=\u001b[0m\u001b[0;36m20\u001b[0m\u001b[0;34m)\u001b[0m\u001b[0;34m\u001b[0m\u001b[0;34m\u001b[0m\u001b[0m\n\u001b[0;32m----> 9\u001b[0;31m     \u001b[0mtrain_features\u001b[0m \u001b[0;34m=\u001b[0m \u001b[0mtransformer\u001b[0m\u001b[0;34m.\u001b[0m\u001b[0mfit_transform\u001b[0m\u001b[0;34m(\u001b[0m\u001b[0mdata_train_scaled\u001b[0m\u001b[0;34m,\u001b[0m \u001b[0mdf_train_labels\u001b[0m\u001b[0;34m.\u001b[0m\u001b[0miloc\u001b[0m\u001b[0;34m[\u001b[0m\u001b[0;34m:\u001b[0m\u001b[0;34m,\u001b[0m\u001b[0mi\u001b[0m\u001b[0;34m]\u001b[0m\u001b[0;34m)\u001b[0m\u001b[0;34m\u001b[0m\u001b[0;34m\u001b[0m\u001b[0m\n\u001b[0m\u001b[1;32m     10\u001b[0m     \u001b[0mtest_features\u001b[0m \u001b[0;34m=\u001b[0m \u001b[0mtransformer\u001b[0m\u001b[0;34m.\u001b[0m\u001b[0mtransform\u001b[0m\u001b[0;34m(\u001b[0m\u001b[0mdata_test_scaled\u001b[0m\u001b[0;34m)\u001b[0m\u001b[0;34m\u001b[0m\u001b[0;34m\u001b[0m\u001b[0m\n\u001b[1;32m     11\u001b[0m \u001b[0;34m\u001b[0m\u001b[0m\n",
      "\u001b[0;32m/usr/local/lib/python3.7/site-packages/sklearn/base.py\u001b[0m in \u001b[0;36mfit_transform\u001b[0;34m(self, X, y, **fit_params)\u001b[0m\n\u001b[1;32m    572\u001b[0m         \u001b[0;32melse\u001b[0m\u001b[0;34m:\u001b[0m\u001b[0;34m\u001b[0m\u001b[0;34m\u001b[0m\u001b[0m\n\u001b[1;32m    573\u001b[0m             \u001b[0;31m# fit method of arity 2 (supervised transformation)\u001b[0m\u001b[0;34m\u001b[0m\u001b[0;34m\u001b[0m\u001b[0;34m\u001b[0m\u001b[0m\n\u001b[0;32m--> 574\u001b[0;31m             \u001b[0;32mreturn\u001b[0m \u001b[0mself\u001b[0m\u001b[0;34m.\u001b[0m\u001b[0mfit\u001b[0m\u001b[0;34m(\u001b[0m\u001b[0mX\u001b[0m\u001b[0;34m,\u001b[0m \u001b[0my\u001b[0m\u001b[0;34m,\u001b[0m \u001b[0;34m**\u001b[0m\u001b[0mfit_params\u001b[0m\u001b[0;34m)\u001b[0m\u001b[0;34m.\u001b[0m\u001b[0mtransform\u001b[0m\u001b[0;34m(\u001b[0m\u001b[0mX\u001b[0m\u001b[0;34m)\u001b[0m\u001b[0;34m\u001b[0m\u001b[0;34m\u001b[0m\u001b[0m\n\u001b[0m\u001b[1;32m    575\u001b[0m \u001b[0;34m\u001b[0m\u001b[0m\n\u001b[1;32m    576\u001b[0m \u001b[0;34m\u001b[0m\u001b[0m\n",
      "\u001b[0;32m/usr/local/lib/python3.7/site-packages/sklearn/feature_selection/_univariate_selection.py\u001b[0m in \u001b[0;36mfit\u001b[0;34m(self, X, y)\u001b[0m\n\u001b[1;32m    347\u001b[0m \u001b[0;34m\u001b[0m\u001b[0m\n\u001b[1;32m    348\u001b[0m         \u001b[0mself\u001b[0m\u001b[0;34m.\u001b[0m\u001b[0m_check_params\u001b[0m\u001b[0;34m(\u001b[0m\u001b[0mX\u001b[0m\u001b[0;34m,\u001b[0m \u001b[0my\u001b[0m\u001b[0;34m)\u001b[0m\u001b[0;34m\u001b[0m\u001b[0;34m\u001b[0m\u001b[0m\n\u001b[0;32m--> 349\u001b[0;31m         \u001b[0mscore_func_ret\u001b[0m \u001b[0;34m=\u001b[0m \u001b[0mself\u001b[0m\u001b[0;34m.\u001b[0m\u001b[0mscore_func\u001b[0m\u001b[0;34m(\u001b[0m\u001b[0mX\u001b[0m\u001b[0;34m,\u001b[0m \u001b[0my\u001b[0m\u001b[0;34m)\u001b[0m\u001b[0;34m\u001b[0m\u001b[0;34m\u001b[0m\u001b[0m\n\u001b[0m\u001b[1;32m    350\u001b[0m         \u001b[0;32mif\u001b[0m \u001b[0misinstance\u001b[0m\u001b[0;34m(\u001b[0m\u001b[0mscore_func_ret\u001b[0m\u001b[0;34m,\u001b[0m \u001b[0;34m(\u001b[0m\u001b[0mlist\u001b[0m\u001b[0;34m,\u001b[0m \u001b[0mtuple\u001b[0m\u001b[0;34m)\u001b[0m\u001b[0;34m)\u001b[0m\u001b[0;34m:\u001b[0m\u001b[0;34m\u001b[0m\u001b[0;34m\u001b[0m\u001b[0m\n\u001b[1;32m    351\u001b[0m             \u001b[0mself\u001b[0m\u001b[0;34m.\u001b[0m\u001b[0mscores_\u001b[0m\u001b[0;34m,\u001b[0m \u001b[0mself\u001b[0m\u001b[0;34m.\u001b[0m\u001b[0mpvalues_\u001b[0m \u001b[0;34m=\u001b[0m \u001b[0mscore_func_ret\u001b[0m\u001b[0;34m\u001b[0m\u001b[0;34m\u001b[0m\u001b[0m\n",
      "\u001b[0;32m/usr/local/lib/python3.7/site-packages/sklearn/feature_selection/_mutual_info.py\u001b[0m in \u001b[0;36mmutual_info_regression\u001b[0;34m(X, y, discrete_features, n_neighbors, copy, random_state)\u001b[0m\n\u001b[1;32m    369\u001b[0m     \"\"\"\n\u001b[1;32m    370\u001b[0m     return _estimate_mi(X, y, discrete_features, False, n_neighbors,\n\u001b[0;32m--> 371\u001b[0;31m                         copy, random_state)\n\u001b[0m\u001b[1;32m    372\u001b[0m \u001b[0;34m\u001b[0m\u001b[0m\n\u001b[1;32m    373\u001b[0m \u001b[0;34m\u001b[0m\u001b[0m\n",
      "\u001b[0;32m/usr/local/lib/python3.7/site-packages/sklearn/feature_selection/_mutual_info.py\u001b[0m in \u001b[0;36m_estimate_mi\u001b[0;34m(X, y, discrete_features, discrete_target, n_neighbors, copy, random_state)\u001b[0m\n\u001b[1;32m    288\u001b[0m \u001b[0;34m\u001b[0m\u001b[0m\n\u001b[1;32m    289\u001b[0m     mi = [_compute_mi(x, y, discrete_feature, discrete_target, n_neighbors) for\n\u001b[0;32m--> 290\u001b[0;31m           x, discrete_feature in zip(_iterate_columns(X), discrete_mask)]\n\u001b[0m\u001b[1;32m    291\u001b[0m \u001b[0;34m\u001b[0m\u001b[0m\n\u001b[1;32m    292\u001b[0m     \u001b[0;32mreturn\u001b[0m \u001b[0mnp\u001b[0m\u001b[0;34m.\u001b[0m\u001b[0marray\u001b[0m\u001b[0;34m(\u001b[0m\u001b[0mmi\u001b[0m\u001b[0;34m)\u001b[0m\u001b[0;34m\u001b[0m\u001b[0;34m\u001b[0m\u001b[0m\n",
      "\u001b[0;32m/usr/local/lib/python3.7/site-packages/sklearn/feature_selection/_mutual_info.py\u001b[0m in \u001b[0;36m<listcomp>\u001b[0;34m(.0)\u001b[0m\n\u001b[1;32m    288\u001b[0m \u001b[0;34m\u001b[0m\u001b[0m\n\u001b[1;32m    289\u001b[0m     mi = [_compute_mi(x, y, discrete_feature, discrete_target, n_neighbors) for\n\u001b[0;32m--> 290\u001b[0;31m           x, discrete_feature in zip(_iterate_columns(X), discrete_mask)]\n\u001b[0m\u001b[1;32m    291\u001b[0m \u001b[0;34m\u001b[0m\u001b[0m\n\u001b[1;32m    292\u001b[0m     \u001b[0;32mreturn\u001b[0m \u001b[0mnp\u001b[0m\u001b[0;34m.\u001b[0m\u001b[0marray\u001b[0m\u001b[0;34m(\u001b[0m\u001b[0mmi\u001b[0m\u001b[0;34m)\u001b[0m\u001b[0;34m\u001b[0m\u001b[0;34m\u001b[0m\u001b[0m\n",
      "\u001b[0;32m/usr/local/lib/python3.7/site-packages/sklearn/feature_selection/_mutual_info.py\u001b[0m in \u001b[0;36m_compute_mi\u001b[0;34m(x, y, x_discrete, y_discrete, n_neighbors)\u001b[0m\n\u001b[1;32m    160\u001b[0m         \u001b[0;32mreturn\u001b[0m \u001b[0m_compute_mi_cd\u001b[0m\u001b[0;34m(\u001b[0m\u001b[0mx\u001b[0m\u001b[0;34m,\u001b[0m \u001b[0my\u001b[0m\u001b[0;34m,\u001b[0m \u001b[0mn_neighbors\u001b[0m\u001b[0;34m)\u001b[0m\u001b[0;34m\u001b[0m\u001b[0;34m\u001b[0m\u001b[0m\n\u001b[1;32m    161\u001b[0m     \u001b[0;32melse\u001b[0m\u001b[0;34m:\u001b[0m\u001b[0;34m\u001b[0m\u001b[0;34m\u001b[0m\u001b[0m\n\u001b[0;32m--> 162\u001b[0;31m         \u001b[0;32mreturn\u001b[0m \u001b[0m_compute_mi_cc\u001b[0m\u001b[0;34m(\u001b[0m\u001b[0mx\u001b[0m\u001b[0;34m,\u001b[0m \u001b[0my\u001b[0m\u001b[0;34m,\u001b[0m \u001b[0mn_neighbors\u001b[0m\u001b[0;34m)\u001b[0m\u001b[0;34m\u001b[0m\u001b[0;34m\u001b[0m\u001b[0m\n\u001b[0m\u001b[1;32m    163\u001b[0m \u001b[0;34m\u001b[0m\u001b[0m\n\u001b[1;32m    164\u001b[0m \u001b[0;34m\u001b[0m\u001b[0m\n",
      "\u001b[0;32m/usr/local/lib/python3.7/site-packages/sklearn/feature_selection/_mutual_info.py\u001b[0m in \u001b[0;36m_compute_mi_cc\u001b[0;34m(x, y, n_neighbors)\u001b[0m\n\u001b[1;32m     62\u001b[0m     \u001b[0mnn\u001b[0m\u001b[0;34m.\u001b[0m\u001b[0mset_params\u001b[0m\u001b[0;34m(\u001b[0m\u001b[0malgorithm\u001b[0m\u001b[0;34m=\u001b[0m\u001b[0;34m'kd_tree'\u001b[0m\u001b[0;34m)\u001b[0m\u001b[0;34m\u001b[0m\u001b[0;34m\u001b[0m\u001b[0m\n\u001b[1;32m     63\u001b[0m \u001b[0;34m\u001b[0m\u001b[0m\n\u001b[0;32m---> 64\u001b[0;31m     \u001b[0mnn\u001b[0m\u001b[0;34m.\u001b[0m\u001b[0mfit\u001b[0m\u001b[0;34m(\u001b[0m\u001b[0mx\u001b[0m\u001b[0;34m)\u001b[0m\u001b[0;34m\u001b[0m\u001b[0;34m\u001b[0m\u001b[0m\n\u001b[0m\u001b[1;32m     65\u001b[0m     \u001b[0mind\u001b[0m \u001b[0;34m=\u001b[0m \u001b[0mnn\u001b[0m\u001b[0;34m.\u001b[0m\u001b[0mradius_neighbors\u001b[0m\u001b[0;34m(\u001b[0m\u001b[0mradius\u001b[0m\u001b[0;34m=\u001b[0m\u001b[0mradius\u001b[0m\u001b[0;34m,\u001b[0m \u001b[0mreturn_distance\u001b[0m\u001b[0;34m=\u001b[0m\u001b[0;32mFalse\u001b[0m\u001b[0;34m)\u001b[0m\u001b[0;34m\u001b[0m\u001b[0;34m\u001b[0m\u001b[0m\n\u001b[1;32m     66\u001b[0m     \u001b[0mnx\u001b[0m \u001b[0;34m=\u001b[0m \u001b[0mnp\u001b[0m\u001b[0;34m.\u001b[0m\u001b[0marray\u001b[0m\u001b[0;34m(\u001b[0m\u001b[0;34m[\u001b[0m\u001b[0mi\u001b[0m\u001b[0;34m.\u001b[0m\u001b[0msize\u001b[0m \u001b[0;32mfor\u001b[0m \u001b[0mi\u001b[0m \u001b[0;32min\u001b[0m \u001b[0mind\u001b[0m\u001b[0;34m]\u001b[0m\u001b[0;34m)\u001b[0m\u001b[0;34m\u001b[0m\u001b[0;34m\u001b[0m\u001b[0m\n",
      "\u001b[0;32m/usr/local/lib/python3.7/site-packages/sklearn/neighbors/_base.py\u001b[0m in \u001b[0;36mfit\u001b[0;34m(self, X, y)\u001b[0m\n\u001b[1;32m   1162\u001b[0m             \u001b[0;32mor\u001b[0m \u001b[0;34m[\u001b[0m\u001b[0mn_samples\u001b[0m\u001b[0;34m,\u001b[0m \u001b[0mn_samples\u001b[0m\u001b[0;34m]\u001b[0m \u001b[0;32mif\u001b[0m \u001b[0mmetric\u001b[0m\u001b[0;34m=\u001b[0m\u001b[0;34m'precomputed'\u001b[0m\u001b[0;34m.\u001b[0m\u001b[0;34m\u001b[0m\u001b[0;34m\u001b[0m\u001b[0m\n\u001b[1;32m   1163\u001b[0m         \"\"\"\n\u001b[0;32m-> 1164\u001b[0;31m         \u001b[0;32mreturn\u001b[0m \u001b[0mself\u001b[0m\u001b[0;34m.\u001b[0m\u001b[0m_fit\u001b[0m\u001b[0;34m(\u001b[0m\u001b[0mX\u001b[0m\u001b[0;34m)\u001b[0m\u001b[0;34m\u001b[0m\u001b[0;34m\u001b[0m\u001b[0m\n\u001b[0m",
      "\u001b[0;32m/usr/local/lib/python3.7/site-packages/sklearn/neighbors/_base.py\u001b[0m in \u001b[0;36m_fit\u001b[0;34m(self, X)\u001b[0m\n\u001b[1;32m    455\u001b[0m             self._tree = KDTree(X, self.leaf_size,\n\u001b[1;32m    456\u001b[0m                                 \u001b[0mmetric\u001b[0m\u001b[0;34m=\u001b[0m\u001b[0mself\u001b[0m\u001b[0;34m.\u001b[0m\u001b[0meffective_metric_\u001b[0m\u001b[0;34m,\u001b[0m\u001b[0;34m\u001b[0m\u001b[0;34m\u001b[0m\u001b[0m\n\u001b[0;32m--> 457\u001b[0;31m                                 **self.effective_metric_params_)\n\u001b[0m\u001b[1;32m    458\u001b[0m         \u001b[0;32melif\u001b[0m \u001b[0mself\u001b[0m\u001b[0;34m.\u001b[0m\u001b[0m_fit_method\u001b[0m \u001b[0;34m==\u001b[0m \u001b[0;34m'brute'\u001b[0m\u001b[0;34m:\u001b[0m\u001b[0;34m\u001b[0m\u001b[0;34m\u001b[0m\u001b[0m\n\u001b[1;32m    459\u001b[0m             \u001b[0mself\u001b[0m\u001b[0;34m.\u001b[0m\u001b[0m_tree\u001b[0m \u001b[0;34m=\u001b[0m \u001b[0;32mNone\u001b[0m\u001b[0;34m\u001b[0m\u001b[0;34m\u001b[0m\u001b[0m\n",
      "\u001b[0;31mKeyboardInterrupt\u001b[0m: "
     ]
    }
   ],
   "source": [
    "#labels that have a real value\n",
    "\n",
    "columns_2 = []\n",
    "\n",
    "for i in range(12, 16):\n",
    "    \n",
    "    # feature selection\n",
    "    transformer =  GenericUnivariateSelect(score_func= mutual_info_regression, mode ='k_best', param=20)\n",
    "    train_features = transformer.fit_transform(data_train_scaled, df_train_labels.iloc[:,i])\n",
    "    print(list(data_train_scaled)[transformer.get_support()])\n",
    "    test_features = transformer.transform(data_test_scaled)\n",
    "    \n",
    "\n",
    "    clf_w = LinearSVR()\n",
    "    parameters = {'C':(0.1,1,10,30,60,100)}\n",
    "    clf = model_selection.GridSearchCV(estimator= clf_w, param_grid = parameters, cv = 2,\n",
    "                                       refit = True, scoring = 'r2', verbose = 1, n_jobs=6)\n",
    "    clf.fit(train_features, df_train_labels.iloc[:,i])\n",
    "    \n",
    "    print(clf.cv_results_)\n",
    "    pred = clf.predict(test_features)\n",
    "    columns_2.append(pred)\n",
    "    \n",
    "    pred_train = clf.predict(train_features)\n",
    "    tmp = r2_score(y_pred= pred_train, y_true=df_train_labels.iloc[:,i])\n",
    "    print(\"R2 for feature\", list(df_train_labels)[i] , \" : \", tmp)"
   ]
  },
  {
   "cell_type": "code",
   "execution_count": 45,
   "metadata": {},
   "outputs": [],
   "source": [
    "transformer =  GenericUnivariateSelect(score_func= mutual_info_regression, mode ='k_best', param=20)\n",
    "train_features = transformer.fit_transform(data_train_scaled, df_train_labels.iloc[:,11])\n",
    "test_features = transformer.transform(data_test_scaled)"
   ]
  },
  {
   "cell_type": "code",
   "execution_count": 46,
   "metadata": {},
   "outputs": [
    {
     "data": {
      "text/plain": [
       "MultiIndex([(        'Lactate', 'amax'),\n",
       "            (        'Lactate', 'mean'),\n",
       "            (           'Temp', 'amin'),\n",
       "            (            'Hgb', 'amin'),\n",
       "            (           'HCO3', 'mean'),\n",
       "            (      'Phosphate', 'amin'),\n",
       "            (      'Phosphate', 'amax'),\n",
       "            (          'PaCO2', 'amax'),\n",
       "            (          'PaCO2', 'mean'),\n",
       "            (      'Platelets', 'amax'),\n",
       "            (           'SaO2', 'mean'),\n",
       "            (        'Glucose', 'amax'),\n",
       "            (      'Magnesium', 'mean'),\n",
       "            (           'ABPd', 'amin'),\n",
       "            (        'Calcium', 'amin'),\n",
       "            (           'SpO2', 'mean'),\n",
       "            (       'Chloride', 'amin'),\n",
       "            (      'Heartrate', 'mean'),\n",
       "            ('Bilirubin_total', 'amax'),\n",
       "            (             'pH', 'amin')],\n",
       "           )"
      ]
     },
     "execution_count": 46,
     "metadata": {},
     "output_type": "execute_result"
    }
   ],
   "source": [
    "df_train_agg_features.columns[transformer.get_support(indices = True)]"
   ]
  },
  {
   "cell_type": "code",
   "execution_count": 81,
   "metadata": {},
   "outputs": [],
   "source": [
    "columns_final = columns_1 + columns_2"
   ]
  },
  {
   "cell_type": "markdown",
   "metadata": {},
   "source": [
    "### Random forest"
   ]
  },
  {
   "cell_type": "code",
   "execution_count": null,
   "metadata": {},
   "outputs": [],
   "source": [
    "# Random forest Classifier\n",
    "columns_1 = [test_pids]\n",
    "for i in range(1, 12):\n",
    "    clf = RandomForestClassifier(min_samples_leaf=2, class_weight='balanced', oob_score=False, bootstrap=False)\n",
    "    clf.fit(data_train_scaled, df_train_labels.iloc[:,i])\n",
    "    print(clf.oob_score)\n",
    "    # compute probabilites as opposed to predictions\n",
    "    probability = clf.apply(data_test_scaled)\n",
    "    probs = [i[1] for i in probability] \n",
    "    columns_1.append(probs)\n",
    "    \n",
    "    \n",
    "    probability = clf.predict_proba(data_train_scaled)\n",
    "\n",
    "    probs = [i[1] for i in probability]            \n",
    "    tmp = roc_auc_score(y_score= probs, y_true= df_train_labels.iloc[:,i])\n",
    "    print(\"ROC AUC for feature\", list(df_train_labels)[i] , \" : \", tmp)"
   ]
  },
  {
   "cell_type": "markdown",
   "metadata": {},
   "source": [
    "### Compute the kernel and use SGD Regressor"
   ]
  },
  {
   "cell_type": "code",
   "execution_count": 97,
   "metadata": {},
   "outputs": [
    {
     "name": "stdout",
     "output_type": "stream",
     "text": [
      "MultiIndex([(             'BUN', 'amin'),\n",
      "            (         'Lactate', 'amin'),\n",
      "            (            'Temp', 'amin'),\n",
      "            (            'Temp', 'amax'),\n",
      "            (             'Hgb', 'amax'),\n",
      "            (             'Hgb', 'mean'),\n",
      "            (      'BaseExcess', 'amax'),\n",
      "            (           'RRate', 'amax'),\n",
      "            (           'RRate', 'mean'),\n",
      "            (      'Fibrinogen', 'amax'),\n",
      "            (             'WBC', 'amin'),\n",
      "            (             'WBC', 'amax'),\n",
      "            (             'WBC', 'mean'),\n",
      "            (      'Creatinine', 'amax'),\n",
      "            (      'Creatinine', 'mean'),\n",
      "            (           'PaCO2', 'amin'),\n",
      "            (           'PaCO2', 'amax'),\n",
      "            (             'AST', 'amin'),\n",
      "            (             'AST', 'mean'),\n",
      "            (            'FiO2', 'amin'),\n",
      "            (            'FiO2', 'amax'),\n",
      "            (            'FiO2', 'mean'),\n",
      "            (       'Platelets', 'mean'),\n",
      "            (            'SaO2', 'amax'),\n",
      "            (         'Glucose', 'mean'),\n",
      "            (            'ABPm', 'mean'),\n",
      "            (       'Potassium', 'amax'),\n",
      "            (            'ABPd', 'mean'),\n",
      "            (         'Calcium', 'amax'),\n",
      "            (         'Calcium', 'mean'),\n",
      "            (    'Alkalinephos', 'amax'),\n",
      "            (            'SpO2', 'amax'),\n",
      "            (            'SpO2', 'mean'),\n",
      "            ('Bilirubin_direct', 'amin'),\n",
      "            ('Bilirubin_direct', 'amax'),\n",
      "            ('Bilirubin_direct', 'mean'),\n",
      "            (             'Hct', 'amin'),\n",
      "            (             'Hct', 'amax'),\n",
      "            (       'Heartrate', 'amax'),\n",
      "            (       'Heartrate', 'mean'),\n",
      "            ( 'Bilirubin_total', 'amax'),\n",
      "            (       'TroponinI', 'amin'),\n",
      "            (       'TroponinI', 'amax'),\n",
      "            (       'TroponinI', 'mean'),\n",
      "            (            'ABPs', 'amin'),\n",
      "            (            'ABPs', 'amax'),\n",
      "            (            'ABPs', 'mean'),\n",
      "            (              'pH', 'amin'),\n",
      "            (              'pH', 'amax'),\n",
      "            (              'pH', 'mean')],\n",
      "           )\n",
      "Fitting 5 folds for each of 7 candidates, totalling 35 fits\n"
     ]
    },
    {
     "name": "stderr",
     "output_type": "stream",
     "text": [
      "[Parallel(n_jobs=6)]: Using backend LokyBackend with 6 concurrent workers.\n",
      "[Parallel(n_jobs=6)]: Done  24 out of  35 | elapsed:    0.5s remaining:    0.2s\n",
      "[Parallel(n_jobs=6)]: Done  35 out of  35 | elapsed:    0.7s finished\n"
     ]
    },
    {
     "name": "stdout",
     "output_type": "stream",
     "text": [
      "{'mean_fit_time': array([0.08373799, 0.05874209, 0.13056111, 0.09640326, 0.12195363,\n",
      "       0.09613595, 0.1221005 ]), 'std_fit_time': array([0.06415779, 0.01232186, 0.03292437, 0.02455495, 0.03126722,\n",
      "       0.01708725, 0.03189866]), 'mean_score_time': array([0.00087094, 0.00084648, 0.00089493, 0.00086784, 0.00081806,\n",
      "       0.00079103, 0.0007894 ]), 'std_score_time': array([9.06420907e-05, 1.27846311e-04, 6.06672179e-05, 9.66025480e-05,\n",
      "       1.33680037e-04, 1.13786215e-04, 1.09670991e-04]), 'param_alpha': masked_array(data=[0.01, 0.1, 1, 10, 100, 1000, 10000],\n",
      "             mask=[False, False, False, False, False, False, False],\n",
      "       fill_value='?',\n",
      "            dtype=object), 'params': [{'alpha': 0.01}, {'alpha': 0.1}, {'alpha': 1}, {'alpha': 10}, {'alpha': 100}, {'alpha': 1000}, {'alpha': 10000}], 'split0_test_score': array([-3.69411068e+13, -3.55394949e+12, -1.08800131e-03, -6.92670718e-04,\n",
      "       -1.94855779e-03, -1.21191779e-04, -2.47766203e-03]), 'split1_test_score': array([-1.74203891e+13, -3.27743169e+12, -3.17695716e-04, -1.50268431e-04,\n",
      "       -1.87992748e-05, -1.09747398e-06, -8.63286116e-04]), 'split2_test_score': array([-4.81538123e+14, -1.35138494e+16, -2.83155953e-03, -1.04327427e-04,\n",
      "       -3.24008821e-03, -9.37579472e-04, -1.33775597e-03]), 'split3_test_score': array([-1.81801125e+14, -1.14745321e+12, -1.31305266e-03, -3.19636351e-04,\n",
      "       -4.26803390e-05, -8.58254106e-05, -1.02137014e-04]), 'split4_test_score': array([-0.00537289, -0.00025535, -0.00018383, -0.00019729, -0.00036165,\n",
      "       -0.00076393, -0.00031734]), 'mean_test_score': array([-1.43540149e+14, -2.70436566e+15, -1.14682777e-03, -2.92838432e-04,\n",
      "       -1.12235527e-03, -3.81925310e-04, -1.01963560e-03]), 'std_test_score': array([1.80875569e+14, 5.40474206e+15, 9.47020351e-04, 2.12403502e-04,\n",
      "       1.27511635e-03, 3.88681860e-04, 8.46937302e-04]), 'rank_test_score': array([6, 7, 5, 1, 4, 2, 3], dtype=int32)}\n",
      "{'alpha': 10}\n",
      "-0.00029283843227485563\n",
      "R2 for feature LABEL_RRate  :  -1.2826653221775786e-06\n"
     ]
    }
   ],
   "source": [
    "# labels that have a real value\n",
    "columns_2 = []\n",
    "# from sklearn.kernel_ridge import KernelRidge\n",
    "from sklearn.kernel_approximation import Nystroem\n",
    "from sklearn import linear_model\n",
    "\n",
    "for i in range(12, 16):\n",
    "    # feature selection\n",
    "    transformer =  GenericUnivariateSelect(score_func= mutual_info_regression, mode ='k_best', param = 50)\n",
    "    train_features = transformer.fit_transform(data_train_scaled, df_train_labels.iloc[:,i])\n",
    "    print(df_train_agg_features.columns[transformer.get_support(indices = True)])\n",
    "    test_features = transformer.transform(data_test_scaled)\n",
    "    \n",
    "    feature_map_nystroem = Nystroem(kernel = 'poly', degree = 5,\n",
    "                                 random_state=1,\n",
    "                                 n_components=200)\n",
    "    train_transformed = feature_map_nystroem.fit_transform(train_features)\n",
    "    test_transformed = feature_map_nystroem.transform(test_features)\n",
    "    \n",
    "    clf_w = linear_model.SGDRegressor(max_iter=100000, tol=1e-4,\n",
    "                                     loss = 'squared_epsilon_insensitive', penalty = 'l1',\n",
    "                                     validation_fraction = 0.2, l1_ratio= 0.3)\n",
    "# #     clf_w = NuSVR(nu=0.5, kernel = 'linear')\n",
    "    parameters = {'alpha':(0.01, 0.1, 1,10, 100, 1000, 10000)}\n",
    "    clf = model_selection.GridSearchCV(estimator= clf_w, param_grid = parameters, cv = 5,\n",
    "                                       refit = True, scoring = 'r2', verbose = 2, n_jobs=6)\n",
    "#     clf = KernelRidge(kernel = 'poly', degree = 5)\n",
    "#     parameters = {'alpha':(0.1,1,10,30)}\n",
    "#     clf = model_selection.GridSearchCV(estimator= clf, param_grid = parameters, cv = 3,\n",
    "#                                       refit = True, scoring = 'r2', verbose = 2, n_jobs=6)\n",
    "    clf.fit(train_features, df_train_labels.iloc[:,i])\n",
    "    \n",
    "    print(clf.cv_results_)\n",
    "    print(clf.best_params_)\n",
    "    print(clf.best_score_)\n",
    "\n",
    "    pred_train = clf.predict(train_features)\n",
    "    tmp = r2_score(y_pred= pred_train, y_true=df_train_labels.iloc[:,i])\n",
    "    print(\"R2 for feature\", list(df_train_labels)[i] , \" : \", tmp)\n",
    "    \n",
    "    pred = clf.predict(test_features)\n",
    "    columns_2.append(pred)\n",
    "    \n",
    "    break\n",
    "    "
   ]
  },
  {
   "cell_type": "markdown",
   "metadata": {},
   "source": [
    "## Save predictions"
   ]
  },
  {
   "cell_type": "code",
   "execution_count": 82,
   "metadata": {},
   "outputs": [
    {
     "name": "stdout",
     "output_type": "stream",
     "text": [
      "(16, 12664)\n"
     ]
    }
   ],
   "source": [
    "print(np.shape(columns_final))\n",
    "result = pd.DataFrame(columns_final).transpose()\n",
    "result.columns = list(df_train_labels)\n",
    "result.to_csv('./Results/prediction.csv.zip', index=False, float_format='%.3f', compression='zip')"
   ]
  },
  {
   "cell_type": "code",
   "execution_count": null,
   "metadata": {},
   "outputs": [],
   "source": [
    "result.to_csv('./Results/prediction.csv', index=False, float_format='%.3f')"
   ]
  },
  {
   "cell_type": "code",
   "execution_count": null,
   "metadata": {},
   "outputs": [],
   "source": []
  }
 ],
 "metadata": {
  "kernelspec": {
   "display_name": "Python 3",
   "language": "python",
   "name": "python3"
  },
  "language_info": {
   "codemirror_mode": {
    "name": "ipython",
    "version": 3
   },
   "file_extension": ".py",
   "mimetype": "text/x-python",
   "name": "python",
   "nbconvert_exporter": "python",
   "pygments_lexer": "ipython3",
   "version": "3.7.5"
  }
 },
 "nbformat": 4,
 "nbformat_minor": 4
}
