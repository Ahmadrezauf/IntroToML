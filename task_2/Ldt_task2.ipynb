{
 "cells": [
  {
   "cell_type": "markdown",
   "metadata": {},
   "source": [
    "# Support vector machines"
   ]
  },
  {
   "cell_type": "code",
   "execution_count": 1,
   "metadata": {},
   "outputs": [],
   "source": [
    "# import libraries\n",
    "\n",
    "import numpy as np\n",
    "import math\n",
    "import pandas as pd\n",
    "from sklearn.impute import SimpleImputer\n",
    "from sklearn import preprocessing\n",
    "from sklearn.svm import LinearSVR\n",
    "from sklearn.svm import LinearSVC\n",
    "from sklearn.svm import SVR\n",
    "from sklearn.svm import SVC\n",
    "from sklearn.metrics import roc_auc_score"
   ]
  },
  {
   "cell_type": "markdown",
   "metadata": {},
   "source": [
    "## Data pre-processing"
   ]
  },
  {
   "cell_type": "code",
   "execution_count": 2,
   "metadata": {
    "jupyter": {
     "source_hidden": true
    }
   },
   "outputs": [],
   "source": [
    "# load training data\n",
    "\n",
    "# load data from csv file\n",
    "df_train_features = pd.read_csv ('train_features.csv')\n",
    "df_train_labels = pd.read_csv('train_labels.csv')\n",
    "\n",
    "# Load test data\n",
    "df_test_features = pd.read_csv ('test_features.csv')"
   ]
  },
  {
   "cell_type": "markdown",
   "metadata": {},
   "source": [
    " ### Histogram of the output labels "
   ]
  },
  {
   "cell_type": "markdown",
   "metadata": {},
   "source": [
    "We should check for class imbalance."
   ]
  },
  {
   "cell_type": "code",
   "execution_count": null,
   "metadata": {},
   "outputs": [],
   "source": [
    "labs.hist()\n",
    "\n",
    "with PdfPages(\"./Results/Labels_histogram.pdf\") as export_pdf:\n",
    "    for i in list(labs)[1:]:\n",
    "        labs.hist(column = i, bins = 100)\n",
    "        export_pdf.savefig()"
   ]
  },
  {
   "cell_type": "markdown",
   "metadata": {},
   "source": [
    "One can see the class imbalance problem here. Other observations:\n",
    "  * Heartrate, RRate, ABPm,  distribution is similar to a normal distribution\n",
    "  * SpO2 is like a censored normal distribution. \n",
    "  * For all of the other features, class imbalance is an obvious problem."
   ]
  },
  {
   "cell_type": "markdown",
   "metadata": {},
   "source": [
    "A basic strategy that could be used here: Upsample both classes! Do the upsampling efficiently, not just replicating the datapoints"
   ]
  },
  {
   "cell_type": "markdown",
   "metadata": {},
   "source": [
    "### Train Data pre-processing"
   ]
  },
  {
   "cell_type": "code",
   "execution_count": 3,
   "metadata": {},
   "outputs": [
    {
     "name": "stdout",
     "output_type": "stream",
     "text": [
      "       pid  Time    Age  EtCO2    PTT    BUN  Lactate  Temp   Hgb  HCO3  ...  \\\n",
      "min      1     1   15.0   10.0   12.5    1.0      0.2  21.0   3.3   0.0  ...   \n",
      "max  31658   315  100.0  100.0  250.0  268.0     31.0  42.0  23.8  50.0  ...   \n",
      "\n",
      "     Alkalinephos   SpO2  Bilirubin_direct  Chloride   Hct  Heartrate  \\\n",
      "min          12.0   20.0              0.01      66.0   9.4       23.0   \n",
      "max        3833.0  100.0             21.20     141.0  63.4      191.0   \n",
      "\n",
      "     Bilirubin_total  TroponinI   ABPs    pH  \n",
      "min              0.1       0.01   21.0  6.82  \n",
      "max             46.5     440.00  287.0  7.78  \n",
      "\n",
      "[2 rows x 37 columns]\n",
      "number of missing values:\n",
      "pid                      0\n",
      "Time                     0\n",
      "Age                      0\n",
      "EtCO2               218157\n",
      "PTT                 217641\n",
      "BUN                 207835\n",
      "Lactate             217184\n",
      "Temp                146825\n",
      "Hgb                 205645\n",
      "HCO3                215381\n",
      "BaseExcess          208053\n",
      "RRate                40155\n",
      "Fibrinogen          225447\n",
      "Phosphate           216350\n",
      "WBC                 208857\n",
      "Creatinine          210148\n",
      "PaCO2               206897\n",
      "AST                 222179\n",
      "FiO2                201338\n",
      "Platelets           209905\n",
      "SaO2                214926\n",
      "Glucose             180904\n",
      "ABPm                 32051\n",
      "Magnesium           210417\n",
      "Potassium           199547\n",
      "ABPd                 75522\n",
      "Calcium             210110\n",
      "Alkalinephos        222232\n",
      "SpO2                 32748\n",
      "Bilirubin_direct    227221\n",
      "Chloride            214023\n",
      "Hct                 200643\n",
      "Heartrate            27812\n",
      "Bilirubin_total     222614\n",
      "TroponinI           224164\n",
      "ABPs                 36290\n",
      "pH                  202894\n",
      "dtype: int64\n"
     ]
    }
   ],
   "source": [
    "# data inspection: \n",
    "#############################################\n",
    "# range of the provided data?\n",
    "print(df_train_features.agg([min, max]))\n",
    "\n",
    "# how much missing data? \n",
    "print(\"number of missing values:\")\n",
    "print(df_train_features.isnull().sum(axis=0))"
   ]
  },
  {
   "cell_type": "markdown",
   "metadata": {},
   "source": [
    "### Train data pre-processing"
   ]
  },
  {
   "cell_type": "code",
   "execution_count": 25,
   "metadata": {},
   "outputs": [],
   "source": [
    "# aggregate data for each pid\n",
    "# GROUPBY REARRANGES THE ROWS, WE HAVE TO DO THE SAME FOR THE LABELS\n",
    "df_train_aggregate_features = df_train_features.groupby('pid').agg('sum')\n",
    "\n",
    "# print(df_train_aggregate_features)"
   ]
  },
  {
   "cell_type": "code",
   "execution_count": 32,
   "metadata": {},
   "outputs": [],
   "source": [
    "# remove time from data frame \n",
    "df_train_agg_features = df_train_aggregate_features.drop(['Time'], axis = 1)\n",
    "# print(df_train_agg_features)"
   ]
  },
  {
   "cell_type": "code",
   "execution_count": 30,
   "metadata": {},
   "outputs": [],
   "source": [
    "# impute missing data points\n",
    "imp = SimpleImputer(strategy=\"mean\")\n",
    "df_train_agg_imputed_features = imp.fit_transform(df_train_agg_features)\n",
    "#print(df_train_agg_imputed_features)"
   ]
  },
  {
   "cell_type": "code",
   "execution_count": 33,
   "metadata": {
    "collapsed": true,
    "jupyter": {
     "outputs_hidden": true
    }
   },
   "outputs": [
    {
     "name": "stdout",
     "output_type": "stream",
     "text": [
      "         pid  LABEL_BaseExcess  LABEL_Fibrinogen  LABEL_AST  \\\n",
      "0          1               1.0               0.0        0.0   \n",
      "6622       2               0.0               0.0        0.0   \n",
      "15008      4               0.0               0.0        0.0   \n",
      "16335      6               1.0               0.0        0.0   \n",
      "17676      8               0.0               0.0        0.0   \n",
      "...      ...               ...               ...        ...   \n",
      "14402  31653               0.0               0.0        0.0   \n",
      "14403  31654               0.0               0.0        0.0   \n",
      "14404  31656               1.0               0.0        0.0   \n",
      "14405  31657               0.0               0.0        0.0   \n",
      "14406  31658               0.0               0.0        0.0   \n",
      "\n",
      "       LABEL_Alkalinephos  LABEL_Bilirubin_total  LABEL_Lactate  \\\n",
      "0                     0.0                    0.0            1.0   \n",
      "6622                  0.0                    0.0            0.0   \n",
      "15008                 0.0                    0.0            0.0   \n",
      "16335                 0.0                    0.0            0.0   \n",
      "17676                 0.0                    0.0            0.0   \n",
      "...                   ...                    ...            ...   \n",
      "14402                 0.0                    0.0            0.0   \n",
      "14403                 0.0                    0.0            0.0   \n",
      "14404                 0.0                    0.0            1.0   \n",
      "14405                 0.0                    0.0            0.0   \n",
      "14406                 0.0                    0.0            0.0   \n",
      "\n",
      "       LABEL_TroponinI  LABEL_SaO2  LABEL_Bilirubin_direct  LABEL_EtCO2  \\\n",
      "0                  0.0         0.0                     0.0          0.0   \n",
      "6622               1.0         0.0                     0.0          0.0   \n",
      "15008              0.0         1.0                     0.0          0.0   \n",
      "16335              0.0         1.0                     0.0          0.0   \n",
      "17676              0.0         0.0                     0.0          0.0   \n",
      "...                ...         ...                     ...          ...   \n",
      "14402              0.0         0.0                     0.0          0.0   \n",
      "14403              0.0         0.0                     0.0          0.0   \n",
      "14404              0.0         1.0                     0.0          0.0   \n",
      "14405              0.0         0.0                     0.0          0.0   \n",
      "14406              0.0         0.0                     0.0          0.0   \n",
      "\n",
      "       LABEL_Sepsis  LABEL_RRate  LABEL_ABPm  LABEL_SpO2  LABEL_Heartrate  \n",
      "0               0.0         12.1        85.4       100.0             59.9  \n",
      "6622            0.0         20.4        99.1        95.4             65.8  \n",
      "15008           0.0         17.8        78.8        97.4             71.8  \n",
      "16335           0.0         17.9        75.1        97.3             80.7  \n",
      "17676           0.0         18.7       112.8        97.0             92.6  \n",
      "...             ...          ...         ...         ...              ...  \n",
      "14402           0.0         18.5        97.0        95.3            101.4  \n",
      "14403           0.0         19.2       119.2        97.6             91.8  \n",
      "14404           0.0         21.0        93.8        99.2             92.2  \n",
      "14405           0.0         17.8        72.5        98.7             64.0  \n",
      "14406           0.0         16.8       104.4        96.2             67.3  \n",
      "\n",
      "[18995 rows x 16 columns]\n"
     ]
    }
   ],
   "source": [
    "# REARRANGE THE LABELS, TO MATCH THE REARRANGED FEATURES\n",
    "df_train_labels_sorted = df_train_labels.sort_values(by = 'pid')\n",
    "# print(df_train_labels_sorted)"
   ]
  },
  {
   "cell_type": "markdown",
   "metadata": {},
   "source": [
    "### Test Data pre-processing"
   ]
  },
  {
   "cell_type": "code",
   "execution_count": 18,
   "metadata": {
    "collapsed": true,
    "jupyter": {
     "outputs_hidden": true,
     "source_hidden": true
    }
   },
   "outputs": [
    {
     "name": "stdout",
     "output_type": "stream",
     "text": [
      "       pid  Time    Age  EtCO2    PTT    BUN  Lactate  Temp   Hgb  HCO3  ...  \\\n",
      "min      0     1   16.0   10.0   18.1    1.0      0.3  27.0   2.3   0.0  ...   \n",
      "max  31655   293  100.0  100.0  249.9  205.0     23.3  42.0  23.8  49.0  ...   \n",
      "\n",
      "     Alkalinephos   SpO2  Bilirubin_direct  Chloride   Hct  Heartrate  \\\n",
      "min          11.0   22.0              0.01      74.0   9.1       21.0   \n",
      "max        2121.0  100.0             21.00     145.0  71.7      184.0   \n",
      "\n",
      "     Bilirubin_total  TroponinI   ABPs    pH  \n",
      "min              0.1       0.01   28.0  6.62  \n",
      "max             46.4     271.60  281.0  7.69  \n",
      "\n",
      "[2 rows x 37 columns]\n",
      "number of missing values:\n",
      "pid                      0\n",
      "Time                     0\n",
      "Age                      0\n",
      "EtCO2               145440\n",
      "PTT                 145115\n",
      "BUN                 138520\n",
      "Lactate             144692\n",
      "Temp                 97813\n",
      "Hgb                 137096\n",
      "HCO3                143546\n",
      "BaseExcess          138730\n",
      "RRate                26669\n",
      "Fibrinogen          150313\n",
      "Phosphate           144282\n",
      "WBC                 139215\n",
      "Creatinine          140163\n",
      "PaCO2               138087\n",
      "AST                 148060\n",
      "FiO2                134169\n",
      "Platelets           140095\n",
      "SaO2                143298\n",
      "Glucose             120896\n",
      "ABPm                 21296\n",
      "Magnesium           140141\n",
      "Potassium           132953\n",
      "ABPd                 50659\n",
      "Calcium             140076\n",
      "Alkalinephos        148107\n",
      "SpO2                 21741\n",
      "Bilirubin_direct    151490\n",
      "Chloride            142551\n",
      "Hct                 133719\n",
      "Heartrate            18403\n",
      "Bilirubin_total     148419\n",
      "TroponinI           149499\n",
      "ABPs                 23651\n",
      "pH                  135162\n",
      "dtype: int64\n"
     ]
    }
   ],
   "source": [
    "# data inspection: \n",
    "#############################################\n",
    "# range of the provided data?\n",
    "print(df_test_features.agg([min, max]))\n",
    "\n",
    "# how much missing data? \n",
    "print(\"number of missing values:\")\n",
    "print(df_test_features.isnull().sum(axis=0))"
   ]
  },
  {
   "cell_type": "markdown",
   "metadata": {},
   "source": [
    "### Test data pre-processing"
   ]
  },
  {
   "cell_type": "code",
   "execution_count": 20,
   "metadata": {},
   "outputs": [],
   "source": [
    "# aggregate data for each pid\n",
    "df_test_aggregate_features = df_test_features.groupby('pid').agg('sum')\n",
    "\n",
    "#print(df_train_aggregate_features)\n",
    "\n",
    "# collect all test pids\n",
    "test_pids = list(set(df_test_features.pid))"
   ]
  },
  {
   "cell_type": "code",
   "execution_count": 21,
   "metadata": {},
   "outputs": [],
   "source": [
    "# remove time from data frame \n",
    "df_test_agg_features = df_test_aggregate_features.drop(['Time'], axis = 1)\n",
    "# print(df_test_agg_features)"
   ]
  },
  {
   "cell_type": "code",
   "execution_count": 22,
   "metadata": {},
   "outputs": [],
   "source": [
    "# impute missing data points\n",
    "df_test_agg_imputed_features = imp.transform(df_test_agg_features)"
   ]
  },
  {
   "cell_type": "markdown",
   "metadata": {},
   "source": [
    "## Fit a model & Predict"
   ]
  },
  {
   "cell_type": "markdown",
   "metadata": {},
   "source": [
    "### predict with support vector machine classification and use probabilities"
   ]
  },
  {
   "cell_type": "code",
   "execution_count": 35,
   "metadata": {},
   "outputs": [
    {
     "name": "stderr",
     "output_type": "stream",
     "text": [
      "C:\\Users\\Naomi\\Anaconda3\\lib\\site-packages\\sklearn\\svm\\_base.py:231: ConvergenceWarning: Solver terminated early (max_iter=10000).  Consider pre-processing your data with StandardScaler or MinMaxScaler.\n",
      "  % self.max_iter, ConvergenceWarning)\n"
     ]
    }
   ],
   "source": [
    "# first for the labels that have an output [0,1]\n",
    "\n",
    "columns = [test_pids]\n",
    "\n",
    "for i in range(1, 2):\n",
    "    clf = SVC(class_weight='balanced', max_iter = 10000)\n",
    "    clf.fit(df_train_agg_imputed_features, df_train_labels_sorted.iloc[:,i])\n",
    "    pred = clf.predict(df_test_agg_imputed_features)\n",
    "    # proba = clf.predict_proba(df_test_agg_imputed_features)\n",
    "    #columns.append(proba[:,1])\n",
    "    "
   ]
  },
  {
   "cell_type": "code",
   "execution_count": null,
   "metadata": {},
   "outputs": [],
   "source": [
    "print(pred)"
   ]
  },
  {
   "cell_type": "code",
   "execution_count": null,
   "metadata": {
    "jupyter": {
     "source_hidden": true
    }
   },
   "outputs": [],
   "source": [
    "print(columns)"
   ]
  },
  {
   "cell_type": "code",
   "execution_count": null,
   "metadata": {
    "jupyter": {
     "source_hidden": true
    }
   },
   "outputs": [],
   "source": [
    "# labels that have a real value\n",
    "for i in range(12, 16):\n",
    "    clf = LinearSVR()\n",
    "    clf.fit(df_train_agg_imputed_features, df_train_labels.iloc[:,i])\n",
    "    pred = clf.predict(df_test_agg_imputed_features)\n",
    "    columns.append(pred)"
   ]
  },
  {
   "cell_type": "markdown",
   "metadata": {},
   "source": [
    "### predict with Support vector regression and then compute sigmoid function"
   ]
  },
  {
   "cell_type": "code",
   "execution_count": null,
   "metadata": {},
   "outputs": [],
   "source": [
    "# first for the labels that have an output [0,1]\n",
    "\n",
    "columns = [test_pids]\n",
    "\n",
    "for i in range(1,12):\n",
    "    clf = LinearSVR(fit_intercept = True, max_iter = 1000)\n",
    "    clf.fit(df_train_agg_imputed_features, df_train_labels.iloc[:,i])\n",
    "    pred = clf.predict(df_test_agg_imputed_features)\n",
    "    prob = np.empty(len(pred))\n",
    "    for i in range(0, len(pred)):\n",
    "        prob[i] = 1 / (1 + math.exp(-pred[i]))\n",
    "    columns.append(prob)"
   ]
  },
  {
   "cell_type": "code",
   "execution_count": null,
   "metadata": {},
   "outputs": [],
   "source": [
    "# labels that have a real value\n",
    "for i in range(12, 16):\n",
    "    clf = LinearSVR()\n",
    "    clf.fit(df_train_agg_imputed_features, df_train_labels.iloc[:,i])\n",
    "    pred = clf.predict(df_test_agg_imputed_features)\n",
    "    columns.append(pred)"
   ]
  },
  {
   "cell_type": "markdown",
   "metadata": {},
   "source": [
    "## Save predictions"
   ]
  },
  {
   "cell_type": "code",
   "execution_count": null,
   "metadata": {},
   "outputs": [],
   "source": [
    "print(np.shape(columns))\n",
    "result = pd.DataFrame(columns).transpose()\n",
    "result.columns = list(df_train_labels)\n",
    "result.to_csv('prediction.zip', index=False, float_format='%.3f', compression='zip')"
   ]
  },
  {
   "cell_type": "code",
   "execution_count": null,
   "metadata": {},
   "outputs": [],
   "source": [
    "result.to_csv('prediction.csv', index=False, float_format='%.3f')"
   ]
  },
  {
   "cell_type": "code",
   "execution_count": null,
   "metadata": {},
   "outputs": [],
   "source": []
  }
 ],
 "metadata": {
  "kernelspec": {
   "display_name": "Python 3",
   "language": "python",
   "name": "python3"
  },
  "language_info": {
   "codemirror_mode": {
    "name": "ipython",
    "version": 3
   },
   "file_extension": ".py",
   "mimetype": "text/x-python",
   "name": "python",
   "nbconvert_exporter": "python",
   "pygments_lexer": "ipython3",
   "version": "3.7.5"
  }
 },
 "nbformat": 4,
 "nbformat_minor": 4
}
