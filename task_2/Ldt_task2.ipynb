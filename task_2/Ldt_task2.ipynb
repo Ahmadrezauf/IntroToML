{
 "cells": [
  {
   "cell_type": "markdown",
   "metadata": {},
   "source": [
    "# Support vector machines"
   ]
  },
  {
   "cell_type": "code",
   "execution_count": 40,
   "metadata": {},
   "outputs": [],
   "source": [
    "# import libraries\n",
    "\n",
    "import numpy as np\n",
    "import math\n",
    "import pandas as pd\n",
    "import matplotlib.pyplot as plt\n",
    "import missingno as msno\n",
    "import seaborn as sns\n",
    "\n",
    "from matplotlib.backends.backend_pdf import PdfPages\n",
    "from sklearn.decomposition import PCA\n",
    "\n",
    "from sklearn.ensemble import BaggingClassifier, RandomForestClassifier\n",
    "from sklearn.feature_selection import GenericUnivariateSelect, mutual_info_classif, mutual_info_regression\n",
    "\n",
    "from sklearn.impute import SimpleImputer\n",
    "from sklearn import preprocessing\n",
    "from sklearn.svm import LinearSVR\n",
    "from sklearn.svm import LinearSVC\n",
    "from sklearn.svm import SVR\n",
    "from sklearn.preprocessing import StandardScaler\n",
    "from sklearn.svm import SVC\n",
    "\n",
    "from sklearn.metrics import roc_auc_score\n",
    "from sklearn.metrics import r2_score\n",
    "from sklearn.metrics.pairwise import pairwise_kernels\n",
    "\n",
    "from sklearn import model_selection\n",
    "\n",
    "from sklearn.impute import KNNImputer"
   ]
  },
  {
   "cell_type": "markdown",
   "metadata": {},
   "source": [
    "## Data pre-processing"
   ]
  },
  {
   "cell_type": "code",
   "execution_count": 2,
   "metadata": {},
   "outputs": [],
   "source": [
    "# load training data\n",
    "\n",
    "# load data from csv file\n",
    "df_train_features = pd.read_csv ('train_features.csv')\n",
    "df_train_labels = pd.read_csv('train_labels.csv')\n",
    "\n",
    "# Load test data\n",
    "df_test_features = pd.read_csv ('test_features.csv')"
   ]
  },
  {
   "cell_type": "markdown",
   "metadata": {},
   "source": [
    " ### Histogram of the output labels "
   ]
  },
  {
   "cell_type": "markdown",
   "metadata": {},
   "source": [
    "We should check for class imbalance."
   ]
  },
  {
   "cell_type": "code",
   "execution_count": 3,
   "metadata": {},
   "outputs": [
    {
     "data": {
      "text/plain": [
       "array([[<matplotlib.axes._subplots.AxesSubplot object at 0x129110b50>,\n",
       "        <matplotlib.axes._subplots.AxesSubplot object at 0x10c871490>,\n",
       "        <matplotlib.axes._subplots.AxesSubplot object at 0x10c8aab10>,\n",
       "        <matplotlib.axes._subplots.AxesSubplot object at 0x10c8ec1d0>],\n",
       "       [<matplotlib.axes._subplots.AxesSubplot object at 0x10c920850>,\n",
       "        <matplotlib.axes._subplots.AxesSubplot object at 0x10c955ed0>,\n",
       "        <matplotlib.axes._subplots.AxesSubplot object at 0x12913a610>,\n",
       "        <matplotlib.axes._subplots.AxesSubplot object at 0x12916ebd0>],\n",
       "       [<matplotlib.axes._subplots.AxesSubplot object at 0x12916ec10>,\n",
       "        <matplotlib.axes._subplots.AxesSubplot object at 0x1291b13d0>,\n",
       "        <matplotlib.axes._subplots.AxesSubplot object at 0x129212b10>,\n",
       "        <matplotlib.axes._subplots.AxesSubplot object at 0x12925f690>],\n",
       "       [<matplotlib.axes._subplots.AxesSubplot object at 0x129294d10>,\n",
       "        <matplotlib.axes._subplots.AxesSubplot object at 0x1292d53d0>,\n",
       "        <matplotlib.axes._subplots.AxesSubplot object at 0x12930ba50>,\n",
       "        <matplotlib.axes._subplots.AxesSubplot object at 0x12934b110>]],\n",
       "      dtype=object)"
      ]
     },
     "execution_count": 3,
     "metadata": {},
     "output_type": "execute_result"
    },
    {
     "data": {
      "image/png": "[encoded data removed]",
      "text/plain": [
       "<Figure size 432x288 with 16 Axes>"
      ]
     },
     "metadata": {
      "needs_background": "light"
     },
     "output_type": "display_data"
    }
   ],
   "source": [
    "df_train_labels.hist()\n",
    "\n",
    "# with PdfPages(\"./Results/Labels_histogram.pdf\") as export_pdf:\n",
    "#     for i in list(df_train_labels)[1:]:\n",
    "#         df_train_labels.hist(column = i, bins = 100)\n",
    "#         export_pdf.savefig()"
   ]
  },
  {
   "cell_type": "markdown",
   "metadata": {},
   "source": [
    "One can see the class imbalance problem here. Other observations:\n",
    "  * Heartrate, RRate, ABPm,  distribution is similar to a normal distribution\n",
    "  * SpO2 is like a censored normal distribution. \n",
    "  * For all of the other features, class imbalance is an obvious problem."
   ]
  },
  {
   "cell_type": "markdown",
   "metadata": {},
   "source": [
    "A basic strategy that could be used here: Upsample both classes! Do the upsampling efficiently, not just replicating the datapoints"
   ]
  },
  {
   "cell_type": "markdown",
   "metadata": {},
   "source": [
    "### Train Data pre-processing"
   ]
  },
  {
   "cell_type": "code",
   "execution_count": null,
   "metadata": {},
   "outputs": [],
   "source": [
    "# data inspection: \n",
    "#############################################\n",
    "# range of the provided data?\n",
    "print(df_train_features.agg([min, max]))\n",
    "\n",
    "# Boxplotting the data\n",
    "# fig2, ax2 = plt.subplots()\n",
    "# ax2.set_title('BUN')\n",
    "# ax2.boxplot(df_train_features.iloc[:,5], notch=True)\n",
    "\n",
    "plt.figure(figsize=(16, 16))\n",
    "ax = sns.boxplot(data = df_train_features.iloc[:,1:])\n",
    "ax.set_xticklabels(\n",
    "    ax.get_xticklabels(),\n",
    "    rotation=90,\n",
    "    horizontalalignment='right'\n",
    ");\n",
    "\n",
    "# with PdfPages(\"./Results/Train_columns_boxplot.pdf\") as export_pdf:\n",
    "#     for i in list(df_train_labels)[1:]:\n",
    "#         df_train_labels.hist(column = i, bins = 100)\n",
    "#         export_pdf.savefig()"
   ]
  },
  {
   "cell_type": "code",
   "execution_count": null,
   "metadata": {},
   "outputs": [],
   "source": [
    "# calculate the correlation matrix\n",
    "corr = df_train_features.corr()\n",
    "\n",
    "# plot the heatmap\n",
    "plt.figure(figsize=(16, 16))\n",
    "ax = sns.heatmap(corr, \n",
    "        xticklabels=corr.columns,\n",
    "        yticklabels=corr.columns, \n",
    "        vmin=-1, vmax=1, center=0, \n",
    "           cmap=sns.diverging_palette(20, 220, n=200))\n",
    "ax.set_xticklabels(\n",
    "    ax.get_xticklabels(),\n",
    "    rotation=45,\n",
    "    horizontalalignment='right'\n",
    ");"
   ]
  },
  {
   "cell_type": "markdown",
   "metadata": {},
   "source": [
    "### Visualizing pattern of missing values"
   ]
  },
  {
   "cell_type": "code",
   "execution_count": null,
   "metadata": {},
   "outputs": [],
   "source": [
    "# how much missing data? \n",
    "print(\"Percentage of missing values:\")\n",
    "print(df_train_features.isnull().sum(axis=0) / len(df_train_features))\n",
    "\n",
    "msno.matrix(df_train_features)\n",
    "\n",
    "# Plotting the correlation between the missing values\n",
    "msno.heatmap(df_train_features)"
   ]
  },
  {
   "cell_type": "markdown",
   "metadata": {},
   "source": [
    "### Train data pre-processing"
   ]
  },
  {
   "cell_type": "code",
   "execution_count": 11,
   "metadata": {},
   "outputs": [],
   "source": [
    "# impute missing data points\n",
    "#imp = SimpleImputer(strategy=\"mean\")\n",
    "imputer = KNNImputer(n_neighbors = 10)\n",
    "df_train_agg_imputed_features = imputer.fit_transform(df_train_agg_features)\n",
    "#print(df_train_agg_imputed_features)"
   ]
  },
  {
   "cell_type": "code",
   "execution_count": 12,
   "metadata": {},
   "outputs": [],
   "source": [
    "# scale the data\n",
    "min_max_scaler = preprocessing.StandardScaler()\n",
    "# standard_scalar = preprocessing.StandardScaler()\n",
    "\n",
    "data_train_scaled = min_max_scaler.fit_transform(df_train_agg_imputed_features)"
   ]
  },
  {
   "cell_type": "code",
   "execution_count": null,
   "metadata": {},
   "outputs": [],
   "source": [
    "# REARRANGE THE LABELS, TO MATCH THE REARRANGED FEATURES\n",
    "# df_train_labels_sorted = df_train_labels.sort_values(by = 'pid')\n",
    "# print(df_train_labels_sorted)"
   ]
  },
  {
   "cell_type": "code",
   "execution_count": null,
   "metadata": {},
   "outputs": [],
   "source": [
    "# Visualizing the training data after imputing and aggregating\n",
    "\n",
    "plt.figure(figsize=(16, 16))\n",
    "ax = sns.boxplot(data = pd.DataFrame(data_train_scaled))\n",
    "ax.set_xticklabels(\n",
    "    list(df_train_features),\n",
    "    rotation=90,\n",
    "    horizontalalignment='right'\n",
    ");"
   ]
  },
  {
   "cell_type": "code",
   "execution_count": null,
   "metadata": {},
   "outputs": [],
   "source": [
    "# What is the correlation between the \n",
    "pd.DataFrame(data_train_scaled).corrwith(other = pd.DataFrame(df_train_agg_imputed_features), method = \"spearman\").transpose()"
   ]
  },
  {
   "cell_type": "markdown",
   "metadata": {},
   "source": [
    "### PCA plot "
   ]
  },
  {
   "cell_type": "code",
   "execution_count": null,
   "metadata": {
    "jupyter": {
     "source_hidden": true
    }
   },
   "outputs": [],
   "source": [
    "pca = PCA(n_components=2)\n",
    "\n",
    "principalComponents = pca.fit_transform(data_train_scaled)\n",
    "principalDf = pd.DataFrame(data = principalComponents\n",
    "             , columns = ['principal component 1', 'principal component 2'])\n",
    "\n",
    "finalDf = pd.concat([principalDf, df_train_labels[['LABEL_BaseExcess']]], axis = 1)\n",
    "\n",
    "fig = plt.figure(figsize = (8,8))\n",
    "ax = fig.add_subplot(1,1,1) \n",
    "ax.set_xlabel('Principal Component 1', fontsize = 15)\n",
    "ax.set_ylabel('Principal Component 2', fontsize = 15)\n",
    "ax.set_title('2 component PCA for LABEL_BaseExcess', fontsize = 20)\n",
    "targets = [0, 1]\n",
    "colors = ['r', 'g', 'b']\n",
    "for target, color in zip(targets,colors):\n",
    "    indicesToKeep = finalDf['LABEL_BaseExcess'] == target\n",
    "    ax.scatter(finalDf.loc[indicesToKeep, 'principal component 1']\n",
    "               , finalDf.loc[indicesToKeep, 'principal component 2']\n",
    "               , c = color\n",
    "               , s = 50)\n",
    "ax.legend(targets)\n",
    "ax.grid()"
   ]
  },
  {
   "cell_type": "markdown",
   "metadata": {},
   "source": [
    "### Test Data pre-processing"
   ]
  },
  {
   "cell_type": "code",
   "execution_count": null,
   "metadata": {},
   "outputs": [],
   "source": [
    "# data inspection: \n",
    "#############################################\n",
    "# range of the provided data?\n",
    "print(df_test_features.agg([min, max]))\n",
    "\n",
    "# how much missing data? \n",
    "print(\"number of missing values:\")\n",
    "print(df_test_features.isnull().sum(axis=0))"
   ]
  },
  {
   "cell_type": "code",
   "execution_count": 13,
   "metadata": {},
   "outputs": [],
   "source": [
    "# # aggregate data for each pid\n",
    "# df_test_aggregate_features = df_test_features.groupby('pid').agg('median')\n",
    "\n",
    "#print(df_test_aggregate_features)\n",
    "\n",
    "# # collect all test pids\n",
    "test_pids = list(set(df_test_features.pid))\n",
    "df_test_agg_features = df_test_features.groupby('pid').agg([np.min, np.max, np.mean])"
   ]
  },
  {
   "cell_type": "code",
   "execution_count": 15,
   "metadata": {},
   "outputs": [],
   "source": [
    "# impute missing data points\n",
    "# should we impute it with the same imputer that we've used for train?\n",
    "\n",
    "imputer = KNNImputer(n_neighbors=10)\n",
    "df_test_agg_imputed_features = imputer.fit_transform(df_test_agg_features)"
   ]
  },
  {
   "cell_type": "code",
   "execution_count": 16,
   "metadata": {},
   "outputs": [],
   "source": [
    "# scale test data\n",
    "min_max_scaler = preprocessing.StandardScaler()\n",
    "data_test_scaled = min_max_scaler.fit_transform(df_test_agg_imputed_features)"
   ]
  },
  {
   "cell_type": "code",
   "execution_count": null,
   "metadata": {},
   "outputs": [],
   "source": [
    "pd.DataFrame(data_train_scaled).to_csv(\"./Results/dat_train_scaled.csv\")\n",
    "pd.DataFrame(data_test_scaled).to_csv(\"./Results/dat_test_scaled.csv\")"
   ]
  },
  {
   "cell_type": "markdown",
   "metadata": {},
   "source": [
    "## Fit a model & Predict"
   ]
  },
  {
   "cell_type": "markdown",
   "metadata": {},
   "source": [
    "### predict with support vector machine classification and use probabilities"
   ]
  },
  {
   "cell_type": "code",
   "execution_count": 36,
   "metadata": {},
   "outputs": [
    {
     "name": "stdout",
     "output_type": "stream",
     "text": [
      "(18995, 20)\n",
      "[False False False False False  True False False False False False False\n",
      " False  True  True False False False  True False  True False False False\n",
      "  True False  True False False False False False False False False  True\n",
      " False False False False  True False False  True False False False False\n",
      " False  True False False False  True  True False  True False False False\n",
      "  True  True False False False False False False False False False False\n",
      " False False False False False False False False False  True False False\n",
      " False False  True False False False False False False False  True False\n",
      " False  True False False False False False False False False False False]\n",
      "(12664, 20)\n",
      "[False False False False False  True False False False False False False\n",
      " False  True  True False False False  True False  True False False False\n",
      "  True False  True False False False False False False False False  True\n",
      " False False False False  True False False  True False False False False\n",
      " False  True False False False  True  True False  True False False False\n",
      "  True  True False False False False False False False False False False\n",
      " False False False False False False False False False  True False False\n",
      " False False  True False False False False False False False  True False\n",
      " False  True False False False False False False False False False False]\n",
      "[LibSVM]ROC AUC for feature LABEL_BaseExcess  :  0.8287871500191502\n",
      "(18995, 20)\n",
      "[False False False  True False False False False  True False False False\n",
      " False False False False False False False  True False False  True False\n",
      " False False  True False False  True False False  True False False False\n",
      " False False False False False False False False  True  True False False\n",
      " False False False False False False False  True False False  True False\n",
      " False False False  True False False False False False False False  True\n",
      " False False False False  True  True False False  True  True False False\n",
      " False False False False False False False False False  True  True False\n",
      " False False False False  True False False False False False False False]\n",
      "(12664, 20)\n",
      "[False False False  True False False False False  True False False False\n",
      " False False False False False False False  True False False  True False\n",
      " False False  True False False  True False False  True False False False\n",
      " False False False False False False False False  True  True False False\n",
      " False False False False False False False  True False False  True False\n",
      " False False False  True False False False False False False False  True\n",
      " False False False False  True  True False False  True  True False False\n",
      " False False False False False False False False False  True  True False\n",
      " False False False False  True False False False False False False False]\n",
      "[LibSVM]ROC AUC for feature LABEL_Fibrinogen  :  0.9766837575609952\n",
      "(18995, 20)\n",
      "[False False False False False False False False False False False False\n",
      " False False False  True False  True False False False False False False\n",
      " False  True False False False False False  True False False  True False\n",
      " False False False False False False False False False False False  True\n",
      "  True False False False False  True  True  True False False  True False\n",
      " False False False False False False False False False False  True False\n",
      " False False False False  True False False False False False False  True\n",
      " False False False False False False False False False  True  True False\n",
      " False  True False False  True  True False False False False False  True]\n",
      "(12664, 20)\n",
      "[False False False False False False False False False False False False\n",
      " False False False  True False  True False False False False False False\n",
      " False  True False False False False False  True False False  True False\n",
      " False False False False False False False False False False False  True\n",
      "  True False False False False  True  True  True False False  True False\n",
      " False False False False False False False False False False  True False\n",
      " False False False False  True False False False False False False  True\n",
      " False False False False False False False False False  True  True False\n",
      " False  True False False  True  True False False False False False  True]\n",
      "[LibSVM]ROC AUC for feature LABEL_AST  :  0.8569899474660376\n",
      "(18995, 20)\n",
      "[False False False False False  True False  True False False False False\n",
      " False False False False False  True  True False False False False  True\n",
      " False False False False False False False False False False False  True\n",
      " False False False False  True  True  True False False False False  True\n",
      "  True False False False  True False False False False False False False\n",
      " False  True False False False False False False False False False False\n",
      " False False False  True False False False False False False False False\n",
      " False  True False False False False False  True False False False False\n",
      " False False  True False  True  True  True False False False False False]\n",
      "(12664, 20)\n",
      "[False False False False False  True False  True False False False False\n",
      " False False False False False  True  True False False False False  True\n",
      " False False False False False False False False False False False  True\n",
      " False False False False  True  True  True False False False False  True\n",
      "  True False False False  True False False False False False False False\n",
      " False  True False False False False False False False False False False\n",
      " False False False  True False False False False False False False False\n",
      " False  True False False False False False  True False False False False\n",
      " False False  True False  True  True  True False False False False False]\n",
      "[LibSVM]ROC AUC for feature LABEL_Alkalinephos  :  0.8604815928428228\n",
      "(18995, 20)\n",
      "[False False False False False  True False False False False False  True\n",
      " False False False False False  True  True False False False False  True\n",
      " False  True False False False False False False  True False False False\n",
      " False  True False  True False False False False False False False  True\n",
      " False False False  True  True  True False False  True False False False\n",
      " False False False False False False False False False False False False\n",
      " False False False False False False False False False False False False\n",
      " False False  True False False False False False False False False False\n",
      "  True False False False  True  True  True False False False False  True]\n",
      "(12664, 20)\n",
      "[False False False False False  True False False False False False  True\n",
      " False False False False False  True  True False False False False  True\n",
      " False  True False False False False False False  True False False False\n",
      " False  True False  True False False False False False False False  True\n",
      " False False False  True  True  True False False  True False False False\n",
      " False False False False False False False False False False False False\n",
      " False False False False False False False False False False False False\n",
      " False False  True False False False False False False False False False\n",
      "  True False False False  True  True  True False False False False  True]\n",
      "[LibSVM]ROC AUC for feature LABEL_Bilirubin_total  :  0.8845110869243693\n",
      "(18995, 20)\n",
      "[False  True False False False False  True False  True False False False\n",
      " False False False False False False  True False False False False False\n",
      " False False False False False False False False False False False False\n",
      " False False False False False False False  True False False False False\n",
      " False False False False  True False  True False  True False False False\n",
      " False  True  True  True False False  True False False False  True False\n",
      "  True False False False False False False False False False False False\n",
      "  True False False False False False False  True False  True False False\n",
      " False False False False False  True False  True False False False  True]\n",
      "(12664, 20)\n",
      "[False  True False False False False  True False  True False False False\n",
      " False False False False False False  True False False False False False\n",
      " False False False False False False False False False False False False\n",
      " False False False False False False False  True False False False False\n",
      " False False False False  True False  True False  True False False False\n",
      " False  True  True  True False False  True False False False  True False\n",
      "  True False False False False False False False False False False False\n",
      "  True False False False False False False  True False  True False False\n",
      " False False False False False  True False  True False False False  True]\n"
     ]
    },
    {
     "name": "stdout",
     "output_type": "stream",
     "text": [
      "[LibSVM]ROC AUC for feature LABEL_Lactate  :  0.8989060284299264\n",
      "(18995, 20)\n",
      "[False False False False False False False  True False False False False\n",
      " False False False  True False False  True False  True  True False False\n",
      " False False False False  True False False  True False False False False\n",
      "  True False  True False False  True False False False False  True False\n",
      " False False False  True False False False  True False False False False\n",
      " False False False False False False False False False False False False\n",
      " False False False False False False False False False  True False False\n",
      " False False  True False False False False  True False False  True False\n",
      " False False False False  True False  True False  True False False False]\n",
      "(12664, 20)\n",
      "[False False False False False False False  True False False False False\n",
      " False False False  True False False  True False  True  True False False\n",
      " False False False False  True False False  True False False False False\n",
      "  True False  True False False  True False False False False  True False\n",
      " False False False  True False False False  True False False False False\n",
      " False False False False False False False False False False False False\n",
      " False False False False False False False False False  True False False\n",
      " False False  True False False False False  True False False  True False\n",
      " False False False False  True False  True False  True False False False]\n",
      "[LibSVM]ROC AUC for feature LABEL_TroponinI  :  0.9562972118070021\n",
      "(18995, 20)\n",
      "[False False  True False  True False False  True False False False False\n",
      " False False False False False False False False False  True False False\n",
      " False  True False False False False False False False False False  True\n",
      " False False False  True False False False False False False False False\n",
      " False False False  True False  True False False False  True False False\n",
      " False False False False False False False False False  True  True False\n",
      " False False False False False  True False  True  True False  True False\n",
      " False False False False False False False False False False  True False\n",
      " False False False False False False  True False False  True False  True]\n",
      "(12664, 20)\n",
      "[False False  True False  True False False  True False False False False\n",
      " False False False False False False False False False  True False False\n",
      " False  True False False False False False False False False False  True\n",
      " False False False  True False False False False False False False False\n",
      " False False False  True False  True False False False  True False False\n",
      " False False False False False False False False False  True  True False\n",
      " False False False False False  True False  True  True False  True False\n",
      " False False False False False False False False False False  True False\n",
      " False False False False False False  True False False  True False  True]\n",
      "[LibSVM]ROC AUC for feature LABEL_SaO2  :  0.8959293766355956\n",
      "(18995, 20)\n",
      "[False False  True False False False  True False False False  True False\n",
      " False False False False  True  True False False False False False False\n",
      " False False False False False False False  True False False False False\n",
      " False  True False False False False False  True False False False False\n",
      " False False False False False  True  True  True False False False False\n",
      " False  True False  True False False False False  True False  True False\n",
      " False False False False False False False False False False False False\n",
      " False  True  True False False False False False False False False False\n",
      " False  True False  True False False False False False False  True False]\n",
      "(12664, 20)\n",
      "[False False  True False False False  True False False False  True False\n",
      " False False False False  True  True False False False False False False\n",
      " False False False False False False False  True False False False False\n",
      " False  True False False False False False  True False False False False\n",
      " False False False False False  True  True  True False False False False\n",
      " False  True False  True False False False False  True False  True False\n",
      " False False False False False False False False False False False False\n",
      " False  True  True False False False False False False False False False\n",
      " False  True False  True False False False False False False  True False]\n",
      "[LibSVM]ROC AUC for feature LABEL_Bilirubin_direct  :  0.9482165576638572\n",
      "(18995, 20)\n",
      "[False False False False False False False False False False False False\n",
      " False False  True False False False False False False False False  True\n",
      " False False False False False  True False False False False False False\n",
      "  True False False False False False False False False False False False\n",
      "  True False False False False False  True  True  True False False  True\n",
      " False False False False False False False False  True False  True False\n",
      " False False False False False False  True False False  True False  True\n",
      " False False False False False  True False False False False False False\n",
      " False  True False  True False False  True False  True False False  True]\n",
      "(12664, 20)\n",
      "[False False False False False False False False False False False False\n",
      " False False  True False False False False False False False False  True\n",
      " False False False False False  True False False False False False False\n",
      "  True False False False False False False False False False False False\n",
      "  True False False False False False  True  True  True False False  True\n",
      " False False False False False False False False  True False  True False\n",
      " False False False False False False  True False False  True False  True\n",
      " False False False False False  True False False False False False False\n",
      " False  True False  True False False  True False  True False False  True]\n",
      "[LibSVM]ROC AUC for feature LABEL_EtCO2  :  0.9350736231511956\n",
      "(18995, 20)\n",
      "[False False False False  True False False False False False False False\n",
      " False False False  True False False False False  True False False False\n",
      " False False False False False  True False False False False False False\n",
      " False  True False False False False False False False False  True False\n",
      " False False False  True False  True False False  True False  True  True\n",
      " False False False False False  True False  True  True False False False\n",
      "  True False False False False False  True False False False False False\n",
      " False False  True False False  True False False False False False False\n",
      " False False False False False  True False False  True False False False]\n",
      "(12664, 20)\n",
      "[False False False False  True False False False False False False False\n",
      " False False False  True False False False False  True False False False\n",
      " False False False False False  True False False False False False False\n",
      " False  True False False False False False False False False  True False\n",
      " False False False  True False  True False False  True False  True  True\n",
      " False False False False False  True False  True  True False False False\n",
      "  True False False False False False  True False False False False False\n",
      " False False  True False False  True False False False False False False\n",
      " False False False False False  True False False  True False False False]\n",
      "[LibSVM]ROC AUC for feature LABEL_Sepsis  :  0.9575467427295932\n"
     ]
    }
   ],
   "source": [
    "# first for the labels that have an output [0,1]\n",
    "\n",
    "columns_1 = [test_pids]\n",
    "\n",
    "for i in range(1, 12):\n",
    "   \n",
    "    # feature selection\n",
    "    transformer =  GenericUnivariateSelect(score_func= mutual_info_classif, mode ='k_best', param=20)\n",
    "    train_features = transformer.fit_transform(data_train_scaled, df_train_labels.iloc[:,i])\n",
    "    test_features = transformer.transform(data_test_scaled)\n",
    "\n",
    "    \n",
    "    #clf = BaggingClassifier(SVC(kernel = 'poly', degree = 5, class_weight = 'balanced', verbose = True, C = 10))\n",
    "    clf = SVC(kernel = 'poly', degree = 5, class_weight = 'balanced', verbose = True, C = 10)\n",
    "    \n",
    "    #parameters = {'C':np.linspace(0.1,10,20)}\n",
    "#     clf = model_selection.GridSearchCV(estimator= clf_w, param_grid = parameters, cv = 4,\n",
    "#                                        refit = True, scoring = 'roc_auc', verbose = 1, n_jobs=6)\n",
    "    clf.fit(train_features, df_train_labels.iloc[:,i])\n",
    "    \n",
    "    #print(clf.best_params_)\n",
    "    # compute probabilites as opposed to predictions\n",
    "    #dual_coefficients = clf.dual_coef_    # do we have to normalize with norm of this vector ?\n",
    "    \n",
    "    distance_hyperplane = clf.decision_function(test_features)\n",
    "    probability = np.empty(len(distance_hyperplane))\n",
    "    for j in range(0, len(probability)):\n",
    "        if distance_hyperplane[j] < 0:\n",
    "            probability[j] = 1 - 1/(1 + math.exp(distance_hyperplane[j]))\n",
    "        else:\n",
    "            probability[j] = 1/(1 + math.exp(-distance_hyperplane[j]))\n",
    "    columns_1.append(probability)\n",
    "\n",
    "    \n",
    "    distance_hyperplace_train = clf.decision_function(train_features)\n",
    "    probability = np.empty(len(distance_hyperplace_train))\n",
    "    for j in range(0, len(probability)):\n",
    "        if distance_hyperplace_train[j] < 0:\n",
    "            probability[j] = 1 - 1/(1 + math.exp(distance_hyperplace_train[j]))\n",
    "        else:\n",
    "            probability[j] = 1/(1 + math.exp(-distance_hyperplace_train[j]))\n",
    "    \n",
    "    tmp = roc_auc_score(y_score= probability, y_true= df_train_labels.iloc[:,i])\n",
    "    print(\"ROC AUC for feature\", list(df_train_labels)[i] , \" : \", tmp)\n",
    "    "
   ]
  },
  {
   "cell_type": "code",
   "execution_count": null,
   "metadata": {},
   "outputs": [
    {
     "name": "stdout",
     "output_type": "stream",
     "text": [
      "Fitting 4 folds for each of 3 candidates, totalling 12 fits\n"
     ]
    },
    {
     "name": "stderr",
     "output_type": "stream",
     "text": [
      "[Parallel(n_jobs=6)]: Using backend LokyBackend with 6 concurrent workers.\n"
     ]
    }
   ],
   "source": [
    "# labels that have a real value\n",
    "columns_2 = []\n",
    "\n",
    "for i in range(12, 16):\n",
    "    # feature selection\n",
    "    transformer =  GenericUnivariateSelect(score_func= mutual_info_regression, mode ='k_best', param=20)\n",
    "    train_features = transformer.fit_transform(data_train_scaled, df_train_labels.iloc[:,i])\n",
    "    test_features = transformer.transform(data_test_scaled)\n",
    "    \n",
    "    clf_w = SVR(kernel = 'poly', degree = 3)\n",
    "    parameters = {'C':np.linspace(1,10, 3)}\n",
    "    clf = model_selection.GridSearchCV(estimator= clf_w, param_grid = parameters, cv = 4,\n",
    "                                       refit = True, scoring = 'r2', verbose = 1, n_jobs=6)\n",
    "    clf.fit(train_features, df_train_labels.iloc[:,i])\n",
    "    print(clf.cv_results_)\n",
    "    \n",
    "    pred_train = clf.predict(train_features)\n",
    "    tmp = r2_score(y_pred= pred_train, y_true=df_train_labels.iloc[:,i])\n",
    "    print(\"R2 for feature\", list(df_train_labels)[i] , \" : \", tmp)\n",
    "    \n",
    "    pred = clf.predict(test_features)\n",
    "    columns_2.append(pred)\n",
    "    "
   ]
  },
  {
   "cell_type": "code",
   "execution_count": null,
   "metadata": {},
   "outputs": [],
   "source": [
    "columns_final = columns_1 + columns_2"
   ]
  },
  {
   "cell_type": "markdown",
   "metadata": {},
   "source": [
    "### predict with Support vector regression and then compute sigmoid function"
   ]
  },
  {
   "cell_type": "code",
   "execution_count": null,
   "metadata": {
    "jupyter": {
     "source_hidden": true
    }
   },
   "outputs": [],
   "source": [
    "# first for the labels that have an output [0,1]\n",
    "\n",
    "# columns_1 = [test_pids]\n",
    "\n",
    "# for i in range(1,12):\n",
    "    \n",
    "#     clf = SVR(kernel = 'poly', degree = 3, max_iter = 10000)\n",
    "#     clf.fit(data_train_scaled, df_train_labels.iloc[:,i])\n",
    "#     pred = clf.predict(data_test_scaled)\n",
    "#     prob = np.empty(len(pred))\n",
    "#     for j in range(0, len(pred)):\n",
    "#         prob[j] = 1 / (1 + math.exp(-pred[j]))\n",
    "#     columns_1.append(prob)\n",
    "    \n",
    "#     pred_train = clf.predict(data_train_scaled)\n",
    "#     prob_train = np.empty(len(pred_train))\n",
    "#     for j in range(0, len(pred_train)):\n",
    "#         prob_train[j] = 1 / (1 + math.exp(-pred_train[j]))    \n",
    "#     tmp = roc_auc_score(y_score= prob_train, y_true= df_train_labels.iloc[:,i])\n",
    "#     print(\"ROC AUC for feature\", list(df_train_labels)[i] , \" : \", tmp)\n"
   ]
  },
  {
   "cell_type": "code",
   "execution_count": 41,
   "metadata": {
    "jupyter": {
     "source_hidden": true
    },
    "scrolled": true
   },
   "outputs": [
    {
     "name": "stdout",
     "output_type": "stream",
     "text": [
      "Fitting 4 folds for each of 10 candidates, totalling 40 fits\n"
     ]
    },
    {
     "name": "stderr",
     "output_type": "stream",
     "text": [
      "[Parallel(n_jobs=6)]: Using backend LokyBackend with 6 concurrent workers.\n",
      "[Parallel(n_jobs=6)]: Done  40 out of  40 | elapsed:   15.0s finished\n",
      "/usr/local/lib/python3.7/site-packages/sklearn/svm/_base.py:947: ConvergenceWarning: Liblinear failed to converge, increase the number of iterations.\n",
      "  \"the number of iterations.\", ConvergenceWarning)\n"
     ]
    },
    {
     "name": "stdout",
     "output_type": "stream",
     "text": [
      "{'mean_fit_time': array([0.20297593, 1.52776003, 1.86675704, 2.09101903, 2.238864  ,\n",
      "       2.38156706, 2.4960168 , 2.59432793, 2.59636354, 2.3342033 ]), 'std_fit_time': array([0.02427534, 0.15090169, 0.13693127, 0.08988519, 0.08353116,\n",
      "       0.08588908, 0.06840303, 0.02372801, 0.04784499, 0.2095477 ]), 'mean_score_time': array([0.00151891, 0.00151867, 0.00118172, 0.00116915, 0.00127709,\n",
      "       0.00125945, 0.00179344, 0.00111431, 0.00106311, 0.00072503]), 'std_score_time': array([2.70914821e-04, 1.72374520e-04, 2.12430987e-04, 1.66565145e-04,\n",
      "       1.15651751e-04, 2.37657405e-05, 1.06731646e-03, 1.69495604e-04,\n",
      "       2.40797749e-04, 8.86729628e-05]), 'param_C': masked_array(data=[0.1, 1.2000000000000002, 2.3000000000000003,\n",
      "                   3.4000000000000004, 4.5, 5.6, 6.7, 7.800000000000001,\n",
      "                   8.9, 10.0],\n",
      "             mask=[False, False, False, False, False, False, False, False,\n",
      "                   False, False],\n",
      "       fill_value='?',\n",
      "            dtype=object), 'params': [{'C': 0.1}, {'C': 1.2000000000000002}, {'C': 2.3000000000000003}, {'C': 3.4000000000000004}, {'C': 4.5}, {'C': 5.6}, {'C': 6.7}, {'C': 7.800000000000001}, {'C': 8.9}, {'C': 10.0}], 'split0_test_score': array([-0.01154324, -0.00816643, -0.00878432, -0.00874171, -0.00993969,\n",
      "       -0.01071009, -0.01154014, -0.01384164, -0.00760348, -0.01228367]), 'split1_test_score': array([-0.0135656 , -0.01081396, -0.00976502, -0.01085321, -0.01172488,\n",
      "       -0.01137093, -0.01166418, -0.01112793, -0.01285174, -0.01280457]), 'split2_test_score': array([-0.02222212, -0.0185737 , -0.01925369, -0.01759932, -0.01878428,\n",
      "       -0.02178358, -0.02294687, -0.02013542, -0.01844155, -0.01936901]), 'split3_test_score': array([-0.01390441, -0.01113244, -0.01120133, -0.01182445, -0.0097737 ,\n",
      "       -0.01386647, -0.01233962, -0.0146274 , -0.01148111, -0.01150908]), 'mean_test_score': array([-0.01530884, -0.01217163, -0.01225109, -0.01225467, -0.01255564,\n",
      "       -0.01443277, -0.0146227 , -0.0149331 , -0.01259447, -0.01399158]), 'std_test_score': array([0.0040922 , 0.00387141, 0.00413332, 0.00328083, 0.00367656,\n",
      "       0.00440421, 0.00481558, 0.00327216, 0.003886  , 0.00313869]), 'rank_test_score': array([10,  1,  2,  3,  4,  7,  8,  9,  5,  6], dtype=int32)}\n",
      "R2 for feature LABEL_RRate  :  -0.010031587401247322\n",
      "Fitting 4 folds for each of 10 candidates, totalling 40 fits\n"
     ]
    },
    {
     "name": "stderr",
     "output_type": "stream",
     "text": [
      "[Parallel(n_jobs=6)]: Using backend LokyBackend with 6 concurrent workers.\n",
      "[Parallel(n_jobs=6)]: Done  40 out of  40 | elapsed:    9.2s finished\n"
     ]
    },
    {
     "name": "stdout",
     "output_type": "stream",
     "text": [
      "{'mean_fit_time': array([0.0810743 , 0.55939025, 0.90581071, 1.26440197, 1.38999587,\n",
      "       1.58947021, 1.71329075, 1.86397088, 1.91576874, 1.68888575]), 'std_fit_time': array([0.01022928, 0.08454557, 0.06334751, 0.03603409, 0.08993327,\n",
      "       0.03716532, 0.06191481, 0.10618143, 0.07305454, 0.26868279]), 'mean_score_time': array([0.00173855, 0.00124699, 0.00107449, 0.00131726, 0.00108016,\n",
      "       0.0012697 , 0.0011487 , 0.00129622, 0.00088072, 0.00077379]), 'std_score_time': array([5.42325575e-04, 1.29422136e-04, 1.57318903e-04, 4.24803437e-05,\n",
      "       2.27617239e-04, 4.50050987e-05, 1.41967003e-04, 2.12492849e-04,\n",
      "       5.46901768e-05, 4.49472773e-05]), 'param_C': masked_array(data=[0.1, 1.2000000000000002, 2.3000000000000003,\n",
      "                   3.4000000000000004, 4.5, 5.6, 6.7, 7.800000000000001,\n",
      "                   8.9, 10.0],\n",
      "             mask=[False, False, False, False, False, False, False, False,\n",
      "                   False, False],\n",
      "       fill_value='?',\n",
      "            dtype=object), 'params': [{'C': 0.1}, {'C': 1.2000000000000002}, {'C': 2.3000000000000003}, {'C': 3.4000000000000004}, {'C': 4.5}, {'C': 5.6}, {'C': 6.7}, {'C': 7.800000000000001}, {'C': 8.9}, {'C': 10.0}], 'split0_test_score': array([-0.03513815, -0.01484011, -0.01383073, -0.01449844, -0.01431   ,\n",
      "       -0.01489344, -0.01383122, -0.014042  , -0.01509106, -0.01625987]), 'split1_test_score': array([-0.03262476, -0.01351464, -0.01353121, -0.01306899, -0.01247763,\n",
      "       -0.01294919, -0.01220394, -0.01214922, -0.01264162, -0.0130827 ]), 'split2_test_score': array([-0.04657523, -0.0223371 , -0.02171659, -0.02157371, -0.02151267,\n",
      "       -0.02129553, -0.02059315, -0.02025264, -0.02116107, -0.02094078]), 'split3_test_score': array([-0.02788078, -0.10269375, -0.33103033, -0.63924889, -1.01908314,\n",
      "       -1.28543357, -1.41765097, -1.56680789, -1.54215917, -1.94659423]), 'mean_test_score': array([-0.03555473, -0.0383464 , -0.09502722, -0.17209751, -0.26684586,\n",
      "       -0.33364293, -0.36606982, -0.40331294, -0.39776323, -0.4992194 ]), 'std_test_score': array([0.00687567, 0.03730295, 0.13629599, 0.2697292 , 0.43431753,\n",
      "       0.54952526, 0.60713881, 0.67175081, 0.66072458, 0.83564692]), 'rank_test_score': array([ 1,  2,  3,  4,  5,  6,  7,  9,  8, 10], dtype=int32)}\n",
      "R2 for feature LABEL_ABPm  :  -0.027817062756235078\n",
      "Fitting 4 folds for each of 10 candidates, totalling 40 fits\n"
     ]
    },
    {
     "name": "stderr",
     "output_type": "stream",
     "text": [
      "[Parallel(n_jobs=6)]: Using backend LokyBackend with 6 concurrent workers.\n",
      "[Parallel(n_jobs=6)]: Done  40 out of  40 | elapsed:   15.6s finished\n"
     ]
    },
    {
     "name": "stdout",
     "output_type": "stream",
     "text": [
      "{'mean_fit_time': array([0.21988142, 1.78769386, 2.25111133, 2.47263706, 2.42570055,\n",
      "       2.55534494, 2.69144481, 2.7555567 , 2.7431587 , 2.50967115]), 'std_fit_time': array([0.00977382, 0.150775  , 0.15302315, 0.06194534, 0.04391186,\n",
      "       0.0430222 , 0.02706935, 0.01688295, 0.07166798, 0.09934296]), 'mean_score_time': array([0.001266  , 0.00118244, 0.00139087, 0.00119162, 0.00125253,\n",
      "       0.00119698, 0.00113696, 0.00100124, 0.0011043 , 0.00073409]), 'std_score_time': array([3.67922434e-05, 1.50484483e-04, 1.11696162e-04, 1.84314293e-04,\n",
      "       8.37752983e-05, 3.07760894e-05, 1.09950958e-04, 2.11448551e-04,\n",
      "       1.95269137e-04, 1.07449569e-04]), 'param_C': masked_array(data=[0.1, 1.2000000000000002, 2.3000000000000003,\n",
      "                   3.4000000000000004, 4.5, 5.6, 6.7, 7.800000000000001,\n",
      "                   8.9, 10.0],\n",
      "             mask=[False, False, False, False, False, False, False, False,\n",
      "                   False, False],\n",
      "       fill_value='?',\n",
      "            dtype=object), 'params': [{'C': 0.1}, {'C': 1.2000000000000002}, {'C': 2.3000000000000003}, {'C': 3.4000000000000004}, {'C': 4.5}, {'C': 5.6}, {'C': 6.7}, {'C': 7.800000000000001}, {'C': 8.9}, {'C': 10.0}], 'split0_test_score': array([-0.00324825, -0.00949013, -0.01146489, -0.00839573, -0.01350378,\n",
      "       -0.01369832, -0.01001857, -0.01882026, -0.01730828, -0.01973058]), 'split1_test_score': array([-0.00396235, -0.00806827, -0.00914487, -0.01289944, -0.01115958,\n",
      "       -0.01012515, -0.00777896, -0.01717634, -0.01387804, -0.01359401]), 'split2_test_score': array([-0.00155013, -0.0098116 , -0.00955396, -0.01016832, -0.01097579,\n",
      "       -0.01299785, -0.012888  , -0.01474466, -0.0094543 , -0.0179933 ]), 'split3_test_score': array([-0.00309529, -0.01091421, -0.01417153, -0.01352943, -0.01535437,\n",
      "       -0.02092222, -0.01453859, -0.01830615, -0.02714781, -0.01484924]), 'mean_test_score': array([-0.00296401, -0.00957105, -0.01108381, -0.01124823, -0.01274838,\n",
      "       -0.01443589, -0.01130603, -0.01726185, -0.01694711, -0.01654178]), 'std_test_score': array([0.00087945, 0.00101573, 0.00198615, 0.00207565, 0.00180473,\n",
      "       0.00397703, 0.00260047, 0.00157025, 0.00651433, 0.00244077]), 'rank_test_score': array([ 1,  2,  3,  4,  6,  7,  5, 10,  9,  8], dtype=int32)}\n",
      "R2 for feature LABEL_SpO2  :  -0.0015437430242064565\n",
      "Fitting 4 folds for each of 10 candidates, totalling 40 fits\n"
     ]
    },
    {
     "name": "stderr",
     "output_type": "stream",
     "text": [
      "[Parallel(n_jobs=6)]: Using backend LokyBackend with 6 concurrent workers.\n",
      "[Parallel(n_jobs=6)]: Done  40 out of  40 | elapsed:    6.2s finished\n"
     ]
    },
    {
     "name": "stdout",
     "output_type": "stream",
     "text": [
      "{'mean_fit_time': array([0.03495628, 0.29119098, 0.49984592, 0.66408604, 0.84731632,\n",
      "       1.03355968, 1.23394626, 1.3570857 , 1.43295556, 1.28313106]), 'std_fit_time': array([0.00487962, 0.03606594, 0.04123057, 0.02614105, 0.08332978,\n",
      "       0.10051447, 0.06323536, 0.09389402, 0.10589017, 0.25503908]), 'mean_score_time': array([0.00096709, 0.00107807, 0.00112605, 0.00113785, 0.00104368,\n",
      "       0.00113034, 0.00099289, 0.00115252, 0.00103575, 0.00082916]), 'std_score_time': array([0.00011935, 0.00016115, 0.00020795, 0.00023863, 0.00015671,\n",
      "       0.00012926, 0.00016617, 0.00018927, 0.00018031, 0.00023669]), 'param_C': masked_array(data=[0.1, 1.2000000000000002, 2.3000000000000003,\n",
      "                   3.4000000000000004, 4.5, 5.6, 6.7, 7.800000000000001,\n",
      "                   8.9, 10.0],\n",
      "             mask=[False, False, False, False, False, False, False, False,\n",
      "                   False, False],\n",
      "       fill_value='?',\n",
      "            dtype=object), 'params': [{'C': 0.1}, {'C': 1.2000000000000002}, {'C': 2.3000000000000003}, {'C': 3.4000000000000004}, {'C': 4.5}, {'C': 5.6}, {'C': 6.7}, {'C': 7.800000000000001}, {'C': 8.9}, {'C': 10.0}], 'split0_test_score': array([-0.02162494, -0.00757188, -0.00705323, -0.00696991, -0.00671764,\n",
      "       -0.00681405, -0.006474  , -0.00680913, -0.00745209, -0.00618634]), 'split1_test_score': array([-0.01539622, -0.00573388, -0.00576021, -0.00550356, -0.00560714,\n",
      "       -0.00507214, -0.00531185, -0.00526555, -0.00542397, -0.00603708]), 'split2_test_score': array([-0.01483939, -0.00399273, -0.00382395, -0.00375448, -0.00342124,\n",
      "       -0.00373586, -0.00422315, -0.00364373, -0.0039844 , -0.00392174]), 'split3_test_score': array([-0.01560843, -0.00715924, -0.00638562, -0.00653132, -0.00677884,\n",
      "       -0.00601453, -0.00639211, -0.0057796 , -0.00670141, -0.00607689]), 'mean_test_score': array([-0.01686724, -0.00611443, -0.00575575, -0.00568982, -0.00563122,\n",
      "       -0.00540914, -0.00560028, -0.0053745 , -0.00589047, -0.00555551]), 'std_test_score': array([0.00276117, 0.00140198, 0.00120541, 0.00123764, 0.00135848,\n",
      "       0.00114605, 0.00091789, 0.00114343, 0.00131786, 0.00094484]), 'rank_test_score': array([10,  9,  7,  6,  5,  2,  4,  1,  8,  3], dtype=int32)}\n",
      "R2 for feature LABEL_Heartrate  :  -0.0017322926444713893\n"
     ]
    },
    {
     "name": "stderr",
     "output_type": "stream",
     "text": [
      "/usr/local/lib/python3.7/site-packages/sklearn/svm/_base.py:947: ConvergenceWarning: Liblinear failed to converge, increase the number of iterations.\n",
      "  \"the number of iterations.\", ConvergenceWarning)\n"
     ]
    }
   ],
   "source": [
    "#labels that have a real value\n",
    "\n",
    "columns_2 = []\n",
    "\n",
    "for i in range(12, 16):\n",
    "    \n",
    "    # feature selection\n",
    "    transformer =  GenericUnivariateSelect(score_func= mutual_info_regression, mode ='k_best', param=20)\n",
    "    train_features = transformer.fit_transform(data_train_scaled, df_train_labels.iloc[:,i])\n",
    "    test_features = transformer.transform(data_test_scaled)\n",
    "\n",
    "\n",
    "    clf_w = LinearSVR()\n",
    "    parameters = {'C':np.linspace(0.1,10, 10)}\n",
    "    clf = model_selection.GridSearchCV(estimator= clf_w, param_grid = parameters, cv = 4,\n",
    "                                       refit = True, scoring = 'r2', verbose = 1, n_jobs=6)\n",
    "    clf.fit(train_features, df_train_labels.iloc[:,i])\n",
    "    \n",
    "    print(clf.cv_results_)\n",
    "    pred = clf.predict(test_features)\n",
    "    columns_2.append(pred)\n",
    "    \n",
    "    pred_train = clf.predict(train_features)\n",
    "    tmp = r2_score(y_pred= pred_train, y_true=df_train_labels.iloc[:,i])\n",
    "    print(\"R2 for feature\", list(df_train_labels)[i] , \" : \", tmp)"
   ]
  },
  {
   "cell_type": "code",
   "execution_count": null,
   "metadata": {},
   "outputs": [],
   "source": [
    "columns_final = columns_1 + columns_2"
   ]
  },
  {
   "cell_type": "markdown",
   "metadata": {},
   "source": [
    "### Random forest"
   ]
  },
  {
   "cell_type": "code",
   "execution_count": null,
   "metadata": {},
   "outputs": [],
   "source": [
    "# Random forest Classifier\n",
    "columns_1 = [test_pids]\n",
    "for i in range(1, 12):\n",
    "    clf = RandomForestClassifier(min_samples_leaf=2, class_weight='balanced', oob_score=False, bootstrap=False)\n",
    "    clf.fit(data_train_scaled, df_train_labels.iloc[:,i])\n",
    "    print(clf.oob_score)\n",
    "    # compute probabilites as opposed to predictions\n",
    "    probability = clf.apply(data_test_scaled)\n",
    "    probs = [i[1] for i in probability] \n",
    "    columns_1.append(probs)\n",
    "    \n",
    "    \n",
    "    probability = clf.predict_proba(data_train_scaled)\n",
    "\n",
    "    probs = [i[1] for i in probability]            \n",
    "    tmp = roc_auc_score(y_score= probs, y_true= df_train_labels.iloc[:,i])\n",
    "    print(\"ROC AUC for feature\", list(df_train_labels)[i] , \" : \", tmp)"
   ]
  },
  {
   "cell_type": "markdown",
   "metadata": {},
   "source": [
    "## Save predictions"
   ]
  },
  {
   "cell_type": "code",
   "execution_count": null,
   "metadata": {},
   "outputs": [],
   "source": [
    "print(np.shape(columns_final))\n",
    "result = pd.DataFrame(columns_final).transpose()\n",
    "result.columns = list(df_train_labels)\n",
    "result.to_csv('./Results/prediction.csv.zip', index=False, float_format='%.3f', compression='zip')"
   ]
  },
  {
   "cell_type": "code",
   "execution_count": null,
   "metadata": {},
   "outputs": [],
   "source": [
    "result.to_csv('./Results/prediction.csv', index=False, float_format='%.3f')"
   ]
  },
  {
   "cell_type": "code",
   "execution_count": null,
   "metadata": {},
   "outputs": [],
   "source": []
  }
 ],
 "metadata": {
  "kernelspec": {
   "display_name": "Python 3",
   "language": "python",
   "name": "python3"
  },
  "language_info": {
   "codemirror_mode": {
    "name": "ipython",
    "version": 3
   },
   "file_extension": ".py",
   "mimetype": "text/x-python",
   "name": "python",
   "nbconvert_exporter": "python",
   "pygments_lexer": "ipython3",
   "version": "3.7.5"
  }
 },
 "nbformat": 4,
 "nbformat_minor": 4
}
