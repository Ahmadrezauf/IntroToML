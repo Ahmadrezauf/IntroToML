{
 "cells": [
  {
   "cell_type": "markdown",
   "metadata": {},
   "source": [
    "# Support vector machines"
   ]
  },
  {
   "cell_type": "code",
   "execution_count": 1,
   "metadata": {},
   "outputs": [],
   "source": [
    "# import libraries\n",
    "\n",
    "import numpy as np\n",
    "import math\n",
    "import pandas as pd\n",
    "import matplotlib.pyplot as plt\n",
    "import missingno as msno\n",
    "import seaborn as sns\n",
    "\n",
    "from matplotlib.backends.backend_pdf import PdfPages\n",
    "from sklearn.decomposition import PCA\n",
    "\n",
    "from sklearn.ensemble import BaggingClassifier, RandomForestClassifier\n",
    "from sklearn.feature_selection import GenericUnivariateSelect, mutual_info_classif, mutual_info_regression, f_regression\n",
    "\n",
    "from sklearn import preprocessing\n",
    "from sklearn.svm import LinearSVR\n",
    "from sklearn.svm import LinearSVC\n",
    "from sklearn.svm import SVR\n",
    "from sklearn.svm import SVC\n",
    "\n",
    "from sklearn.preprocessing import StandardScaler\n",
    "from sklearn.metrics import roc_auc_score\n",
    "from sklearn.metrics import r2_score\n",
    "from sklearn.metrics.pairwise import pairwise_kernels\n",
    "\n",
    "from sklearn import model_selection\n",
    "\n",
    "from sklearn.impute import KNNImputer\n",
    "from sklearn.impute import SimpleImputer\n",
    "# explicitly require this experimental feature\n",
    "from sklearn.experimental import enable_iterative_imputer  # noqa\n",
    "# now you can import normally from sklearn.impute\n",
    "from sklearn.impute import IterativeImputer"
   ]
  },
  {
   "cell_type": "markdown",
   "metadata": {},
   "source": [
    "## Data pre-processing"
   ]
  },
  {
   "cell_type": "code",
   "execution_count": 13,
   "metadata": {},
   "outputs": [],
   "source": [
    "# load training data\n",
    "\n",
    "# load data from csv file\n",
    "df_train_features = pd.read_csv ('train_features.csv')\n",
    "df_train_labels = pd.read_csv('train_labels.csv')\n",
    "\n",
    "# Load test data\n",
    "df_test_features = pd.read_csv ('test_features.csv')"
   ]
  },
  {
   "cell_type": "markdown",
   "metadata": {},
   "source": [
    " ### Histogram of the output labels "
   ]
  },
  {
   "cell_type": "markdown",
   "metadata": {},
   "source": [
    "We should check for class imbalance."
   ]
  },
  {
   "cell_type": "code",
   "execution_count": 3,
   "metadata": {},
   "outputs": [
    {
     "data": {
      "text/plain": [
       "array([[<matplotlib.axes._subplots.AxesSubplot object at 0x129110b50>,\n",
       "        <matplotlib.axes._subplots.AxesSubplot object at 0x10c871490>,\n",
       "        <matplotlib.axes._subplots.AxesSubplot object at 0x10c8aab10>,\n",
       "        <matplotlib.axes._subplots.AxesSubplot object at 0x10c8ec1d0>],\n",
       "       [<matplotlib.axes._subplots.AxesSubplot object at 0x10c920850>,\n",
       "        <matplotlib.axes._subplots.AxesSubplot object at 0x10c955ed0>,\n",
       "        <matplotlib.axes._subplots.AxesSubplot object at 0x12913a610>,\n",
       "        <matplotlib.axes._subplots.AxesSubplot object at 0x12916ebd0>],\n",
       "       [<matplotlib.axes._subplots.AxesSubplot object at 0x12916ec10>,\n",
       "        <matplotlib.axes._subplots.AxesSubplot object at 0x1291b13d0>,\n",
       "        <matplotlib.axes._subplots.AxesSubplot object at 0x129212b10>,\n",
       "        <matplotlib.axes._subplots.AxesSubplot object at 0x12925f690>],\n",
       "       [<matplotlib.axes._subplots.AxesSubplot object at 0x129294d10>,\n",
       "        <matplotlib.axes._subplots.AxesSubplot object at 0x1292d53d0>,\n",
       "        <matplotlib.axes._subplots.AxesSubplot object at 0x12930ba50>,\n",
       "        <matplotlib.axes._subplots.AxesSubplot object at 0x12934b110>]],\n",
       "      dtype=object)"
      ]
     },
     "execution_count": 3,
     "metadata": {},
     "output_type": "execute_result"
    },
    {
     "data": {
      "image/png": "[encoded data removed]",
      "text/plain": [
       "<Figure size 432x288 with 16 Axes>"
      ]
     },
     "metadata": {
      "needs_background": "light"
     },
     "output_type": "display_data"
    }
   ],
   "source": [
    "df_train_labels.hist()\n",
    "\n",
    "# with PdfPages(\"./Results/Labels_histogram.pdf\") as export_pdf:\n",
    "#     for i in list(df_train_labels)[1:]:\n",
    "#         df_train_labels.hist(column = i, bins = 100)\n",
    "#         export_pdf.savefig()"
   ]
  },
  {
   "cell_type": "markdown",
   "metadata": {},
   "source": [
    "One can see the class imbalance problem here. Other observations:\n",
    "  * Heartrate, RRate, ABPm,  distribution is similar to a normal distribution\n",
    "  * SpO2 is like a censored normal distribution. \n",
    "  * For all of the other features, class imbalance is an obvious problem."
   ]
  },
  {
   "cell_type": "markdown",
   "metadata": {},
   "source": [
    "A basic strategy that could be used here: Upsample both classes! Do the upsampling efficiently, not just replicating the datapoints"
   ]
  },
  {
   "cell_type": "markdown",
   "metadata": {},
   "source": [
    "### Train Data pre-processing"
   ]
  },
  {
   "cell_type": "code",
   "execution_count": null,
   "metadata": {},
   "outputs": [],
   "source": [
    "# data inspection: \n",
    "#############################################\n",
    "# range of the provided data?\n",
    "print(df_train_features.agg([min, max]))\n",
    "\n",
    "# Boxplotting the data\n",
    "# fig2, ax2 = plt.subplots()\n",
    "# ax2.set_title('BUN')\n",
    "# ax2.boxplot(df_train_features.iloc[:,5], notch=True)\n",
    "\n",
    "plt.figure(figsize=(16, 16))\n",
    "ax = sns.boxplot(data = df_train_features.iloc[:,1:])\n",
    "ax.set_xticklabels(\n",
    "    ax.get_xticklabels(),\n",
    "    rotation=90,\n",
    "    horizontalalignment='right'\n",
    ");\n",
    "\n",
    "# with PdfPages(\"./Results/Train_columns_boxplot.pdf\") as export_pdf:\n",
    "#     for i in list(df_train_labels)[1:]:\n",
    "#         df_train_labels.hist(column = i, bins = 100)\n",
    "#         export_pdf.savefig()"
   ]
  },
  {
   "cell_type": "code",
   "execution_count": null,
   "metadata": {},
   "outputs": [],
   "source": [
    "# calculate the correlation matrix\n",
    "corr = df_train_features.corr()\n",
    "\n",
    "# plot the heatmap\n",
    "plt.figure(figsize=(16, 16))\n",
    "ax = sns.heatmap(corr, \n",
    "        xticklabels=corr.columns,\n",
    "        yticklabels=corr.columns, \n",
    "        vmin=-1, vmax=1, center=0, \n",
    "           cmap=sns.diverging_palette(20, 220, n=200))\n",
    "ax.set_xticklabels(\n",
    "    ax.get_xticklabels(),\n",
    "    rotation=45,\n",
    "    horizontalalignment='right'\n",
    ");"
   ]
  },
  {
   "cell_type": "markdown",
   "metadata": {},
   "source": [
    "### Visualizing pattern of missing values"
   ]
  },
  {
   "cell_type": "code",
   "execution_count": null,
   "metadata": {},
   "outputs": [],
   "source": [
    "# how much missing data? \n",
    "print(\"Percentage of missing values:\")\n",
    "print(df_train_features.isnull().sum(axis=0) / len(df_train_features))\n",
    "\n",
    "msno.matrix(df_train_features)\n",
    "\n",
    "# Plotting the correlation between the missing values\n",
    "msno.heatmap(df_train_features)"
   ]
  },
  {
   "cell_type": "markdown",
   "metadata": {},
   "source": [
    "### Train data pre-processing"
   ]
  },
  {
   "cell_type": "code",
   "execution_count": 25,
   "metadata": {},
   "outputs": [
    {
     "name": "stdout",
     "output_type": "stream",
     "text": [
      "MultiIndex([(             'Age', 'mean'),\n",
      "            (             'PTT', 'amin'),\n",
      "            (             'PTT', 'amax'),\n",
      "            (             'PTT', 'mean'),\n",
      "            (             'BUN', 'amin'),\n",
      "            (             'BUN', 'amax'),\n",
      "            (             'BUN', 'mean'),\n",
      "            (         'Lactate', 'amin'),\n",
      "            (         'Lactate', 'amax'),\n",
      "            (         'Lactate', 'mean'),\n",
      "            (            'Temp', 'amin'),\n",
      "            (            'Temp', 'amax'),\n",
      "            (            'Temp', 'mean'),\n",
      "            (             'Hgb', 'amin'),\n",
      "            (             'Hgb', 'amax'),\n",
      "            (             'Hgb', 'mean'),\n",
      "            (            'HCO3', 'amin'),\n",
      "            (            'HCO3', 'amax'),\n",
      "            (            'HCO3', 'mean'),\n",
      "            (      'BaseExcess', 'amin'),\n",
      "            (      'BaseExcess', 'amax'),\n",
      "            (      'BaseExcess', 'mean'),\n",
      "            (           'RRate', 'amin'),\n",
      "            (           'RRate', 'amax'),\n",
      "            (           'RRate', 'mean'),\n",
      "            (      'Fibrinogen', 'amin'),\n",
      "            (      'Fibrinogen', 'amax'),\n",
      "            (      'Fibrinogen', 'mean'),\n",
      "            (       'Phosphate', 'amin'),\n",
      "            (       'Phosphate', 'amax'),\n",
      "            (       'Phosphate', 'mean'),\n",
      "            (             'WBC', 'amin'),\n",
      "            (             'WBC', 'amax'),\n",
      "            (             'WBC', 'mean'),\n",
      "            (      'Creatinine', 'amin'),\n",
      "            (      'Creatinine', 'amax'),\n",
      "            (      'Creatinine', 'mean'),\n",
      "            (           'PaCO2', 'amin'),\n",
      "            (           'PaCO2', 'amax'),\n",
      "            (           'PaCO2', 'mean'),\n",
      "            (             'AST', 'amin'),\n",
      "            (             'AST', 'amax'),\n",
      "            (             'AST', 'mean'),\n",
      "            (            'FiO2', 'amin'),\n",
      "            (            'FiO2', 'amax'),\n",
      "            (            'FiO2', 'mean'),\n",
      "            (       'Platelets', 'amin'),\n",
      "            (       'Platelets', 'amax'),\n",
      "            (       'Platelets', 'mean'),\n",
      "            (            'SaO2', 'amin'),\n",
      "            (            'SaO2', 'amax'),\n",
      "            (            'SaO2', 'mean'),\n",
      "            (         'Glucose', 'amin'),\n",
      "            (         'Glucose', 'amax'),\n",
      "            (         'Glucose', 'mean'),\n",
      "            (            'ABPm', 'amin'),\n",
      "            (            'ABPm', 'amax'),\n",
      "            (            'ABPm', 'mean'),\n",
      "            (       'Magnesium', 'amin'),\n",
      "            (       'Magnesium', 'amax'),\n",
      "            (       'Magnesium', 'mean'),\n",
      "            (       'Potassium', 'amin'),\n",
      "            (       'Potassium', 'amax'),\n",
      "            (       'Potassium', 'mean'),\n",
      "            (            'ABPd', 'amin'),\n",
      "            (            'ABPd', 'amax'),\n",
      "            (            'ABPd', 'mean'),\n",
      "            (         'Calcium', 'amin'),\n",
      "            (         'Calcium', 'amax'),\n",
      "            (         'Calcium', 'mean'),\n",
      "            (    'Alkalinephos', 'amin'),\n",
      "            (    'Alkalinephos', 'amax'),\n",
      "            (    'Alkalinephos', 'mean'),\n",
      "            (            'SpO2', 'amin'),\n",
      "            (            'SpO2', 'amax'),\n",
      "            (            'SpO2', 'mean'),\n",
      "            ('Bilirubin_direct', 'amin'),\n",
      "            ('Bilirubin_direct', 'amax'),\n",
      "            ('Bilirubin_direct', 'mean'),\n",
      "            (        'Chloride', 'amin'),\n",
      "            (        'Chloride', 'amax'),\n",
      "            (        'Chloride', 'mean'),\n",
      "            (             'Hct', 'amin'),\n",
      "            (             'Hct', 'amax'),\n",
      "            (             'Hct', 'mean'),\n",
      "            (       'Heartrate', 'amin'),\n",
      "            (       'Heartrate', 'amax'),\n",
      "            (       'Heartrate', 'mean'),\n",
      "            ( 'Bilirubin_total', 'amin'),\n",
      "            ( 'Bilirubin_total', 'amax'),\n",
      "            ( 'Bilirubin_total', 'mean'),\n",
      "            (       'TroponinI', 'amin'),\n",
      "            (       'TroponinI', 'amax'),\n",
      "            (       'TroponinI', 'mean'),\n",
      "            (            'ABPs', 'amin'),\n",
      "            (            'ABPs', 'amax'),\n",
      "            (            'ABPs', 'mean'),\n",
      "            (              'pH', 'amin'),\n",
      "            (              'pH', 'amax'),\n",
      "            (              'pH', 'mean')],\n",
      "           )\n",
      "100\n",
      "33\n",
      "number of missing values:\n",
      "Age   mean        0\n",
      "PTT   amin    11179\n",
      "      amax    11179\n",
      "      mean    11179\n",
      "BUN   amin     5029\n",
      "              ...  \n",
      "ABPs  amax      398\n",
      "      mean      398\n",
      "pH    amin    11001\n",
      "      amax    11001\n",
      "      mean    11001\n",
      "Length: 100, dtype: int64\n",
      "('PTT', 'amin')\n",
      "11179\n",
      "('PTT', 'amax')\n",
      "11179\n",
      "('PTT', 'mean')\n",
      "11179\n",
      "('BUN', 'amin')\n",
      "5029\n",
      "('BUN', 'amax')\n",
      "5029\n",
      "('BUN', 'mean')\n",
      "5029\n",
      "('Lactate', 'amin')\n",
      "14123\n",
      "('Lactate', 'amax')\n",
      "14123\n",
      "('Lactate', 'mean')\n",
      "14123\n",
      "('Temp', 'amin')\n",
      "443\n",
      "('Temp', 'amax')\n",
      "443\n",
      "('Temp', 'mean')\n",
      "443\n",
      "('Hgb', 'amin')\n",
      "5020\n",
      "('Hgb', 'amax')\n",
      "5020\n",
      "('Hgb', 'mean')\n",
      "5020\n",
      "('HCO3', 'amin')\n",
      "11158\n",
      "('HCO3', 'amax')\n",
      "11158\n",
      "('HCO3', 'mean')\n",
      "11158\n",
      "('BaseExcess', 'amin')\n",
      "13298\n",
      "('BaseExcess', 'amax')\n",
      "13298\n",
      "('BaseExcess', 'mean')\n",
      "13298\n",
      "('RRate', 'amin')\n",
      "152\n",
      "('RRate', 'amax')\n",
      "152\n",
      "('RRate', 'mean')\n",
      "152\n",
      "('Fibrinogen', 'amin')\n",
      "17281\n",
      "should be removed\n",
      "('Fibrinogen', 'amax')\n",
      "17281\n",
      "should be removed\n",
      "('Fibrinogen', 'mean')\n",
      "17281\n",
      "should be removed\n",
      "('Phosphate', 'amin')\n",
      "9666\n",
      "('Phosphate', 'amax')\n",
      "9666\n",
      "('Phosphate', 'mean')\n",
      "9666\n",
      "('WBC', 'amin')\n",
      "5654\n",
      "('WBC', 'amax')\n",
      "5654\n"
     ]
    }
   ],
   "source": [
    "df_train_agg_features = df_train_features.groupby('pid').agg([np.min, np.max, np.mean])\n",
    "df_train_agg_features = df_train_agg_features.iloc[:,5:]\n",
    "# Removing ETCo2\n",
    "df_train_agg_features = df_train_agg_features.drop(df_train_agg_features.columns[[1,2,3]],  axis = 1)\n",
    "print(df_train_agg_features.columns)\n",
    "df_train_agg_features.columns\n",
    "print(int(df_train_agg_features.shape[1]))\n",
    "print(int(df_train_agg_features.shape[1]/3))\n",
    "\n",
    "# how much missing data? \n",
    "print(\"number of missing values:\")\n",
    "print(df_train_agg_features.isnull().sum(axis=0))\n",
    "\n",
    "na_percent_max = int(0.8 * df_train_agg_features.shape[0])\n",
    "tmp = pd.DataFrame(df_train_agg_features)\n",
    "for i in range(1, (int(df_train_agg_features.shape[1]/3))):\n",
    "    na_count = df_train_agg_features.iloc[:,i].isna().sum()\n",
    "    print(df_train_agg_features.columns[i])\n",
    "    print(na_count)\n",
    "    \n",
    "    if(na_count > na_percent_max):\n",
    "        print(\"should be removed\")\n"
   ]
  },
  {
   "cell_type": "code",
   "execution_count": 26,
   "metadata": {},
   "outputs": [],
   "source": [
    "# impute missing data points\n",
    "#imp = SimpleImputer(strategy=\"mean\")\n",
    "imputer = KNNImputer(n_neighbors = 10)\n",
    "#imputer = IterativeImputer(random_state=0, verbose = 2, max_iter = 30)\n",
    "df_train_agg_imputed_features = imputer.fit_transform(df_train_agg_features)\n",
    "#print(df_train_agg_imputed_features)"
   ]
  },
  {
   "cell_type": "code",
   "execution_count": 27,
   "metadata": {},
   "outputs": [],
   "source": [
    "# scale the data\n",
    "min_max_scaler = preprocessing.StandardScaler()\n",
    "# standard_scalar = preprocessing.StandardScaler()\n",
    "\n",
    "data_train_scaled = min_max_scaler.fit_transform(df_train_agg_imputed_features)"
   ]
  },
  {
   "cell_type": "code",
   "execution_count": null,
   "metadata": {},
   "outputs": [],
   "source": [
    "# REARRANGE THE LABELS, TO MATCH THE REARRANGED FEATURES\n",
    "# df_train_labels_sorted = df_train_labels.sort_values(by = 'pid')\n",
    "# print(df_train_labels_sorted)"
   ]
  },
  {
   "cell_type": "code",
   "execution_count": null,
   "metadata": {},
   "outputs": [],
   "source": [
    "# Visualizing the training data after imputing and aggregating\n",
    "\n",
    "plt.figure(figsize=(16, 16))\n",
    "ax = sns.boxplot(data = pd.DataFrame(data_train_scaled))\n",
    "ax.set_xticklabels(\n",
    "    list(df_train_features),\n",
    "    rotation=90,\n",
    "    horizontalalignment='right'\n",
    ");"
   ]
  },
  {
   "cell_type": "code",
   "execution_count": null,
   "metadata": {},
   "outputs": [],
   "source": [
    "# What is the correlation between the \n",
    "pd.DataFrame(data_train_scaled).corrwith(other = pd.DataFrame(df_train_agg_imputed_features), method = \"spearman\").transpose()"
   ]
  },
  {
   "cell_type": "markdown",
   "metadata": {},
   "source": [
    "### PCA plot "
   ]
  },
  {
   "cell_type": "code",
   "execution_count": 40,
   "metadata": {
    "jupyter": {
     "source_hidden": true
    }
   },
   "outputs": [
    {
     "data": {
      "image/png": "[encoded data removed]",
      "text/plain": [
       "<Figure size 576x576 with 1 Axes>"
      ]
     },
     "metadata": {
      "needs_background": "light"
     },
     "output_type": "display_data"
    }
   ],
   "source": [
    "pca = PCA(n_components=2)\n",
    "\n",
    "principalComponents = pca.fit_transform(data_train_scaled)\n",
    "principalDf = pd.DataFrame(data = principalComponents\n",
    "             , columns = ['principal component 1', 'principal component 2'])\n",
    "\n",
    "finalDf = pd.concat([principalDf, df_train_labels[[df_train_labels.columns[9]]]], axis = 1)\n",
    "\n",
    "fig = plt.figure(figsize = (8,8))\n",
    "ax = fig.add_subplot(1,1,1) \n",
    "ax.set_xlabel('Principal Component 1', fontsize = 15)\n",
    "ax.set_ylabel('Principal Component 2', fontsize = 15)\n",
    "ax.set_title('2 component PCA for label i', fontsize = 20)\n",
    "targets = [0, 1]\n",
    "colors = ['r', 'g', 'b']\n",
    "for target, color in zip(targets,colors):\n",
    "    indicesToKeep = finalDf[df_train_labels.columns[9]] == target\n",
    "    ax.scatter(finalDf.loc[indicesToKeep, 'principal component 1']\n",
    "               , finalDf.loc[indicesToKeep, 'principal component 2']\n",
    "               , c = color\n",
    "               , s = 50)\n",
    "ax.legend(targets)\n",
    "ax.grid()"
   ]
  },
  {
   "cell_type": "markdown",
   "metadata": {},
   "source": [
    "### Test Data pre-processing"
   ]
  },
  {
   "cell_type": "code",
   "execution_count": null,
   "metadata": {},
   "outputs": [],
   "source": [
    "# data inspection: \n",
    "#############################################\n",
    "# range of the provided data?\n",
    "print(df_test_features.agg([min, max]))\n",
    "\n",
    "# how much missing data? \n",
    "print(\"number of missing values:\")\n",
    "print(df_test_features.isnull().sum(axis=0))"
   ]
  },
  {
   "cell_type": "code",
   "execution_count": 29,
   "metadata": {},
   "outputs": [],
   "source": [
    "# # aggregate data for each pid\n",
    "# df_test_aggregate_features = df_test_features.groupby('pid').agg('median')\n",
    "\n",
    "#print(df_test_aggregate_features)\n",
    "\n",
    "# # collect all test pids\n",
    "test_pids = list(set(df_test_features.pid))\n",
    "df_test_agg_features = df_test_features.groupby('pid').agg([np.min, np.max, np.mean])\n",
    "\n",
    "df_test_agg_features = df_test_agg_features.iloc[:,5:]\n",
    "# Removing ETCo2\n",
    "df_test_agg_features = df_test_agg_features.drop(df_test_agg_features.columns[[1,2,3]],  axis = 1)"
   ]
  },
  {
   "cell_type": "code",
   "execution_count": 30,
   "metadata": {},
   "outputs": [],
   "source": [
    "# impute missing data points\n",
    "# should we impute it with the same imputer that we've used for train?\n",
    "\n",
    "imputer = KNNImputer(n_neighbors= 10)\n",
    "#imputer = IterativeImputer(random_state=0, verbose = 1)\n",
    "df_test_agg_imputed_features = imputer.fit_transform(df_test_agg_features)"
   ]
  },
  {
   "cell_type": "code",
   "execution_count": 31,
   "metadata": {},
   "outputs": [],
   "source": [
    "# scale test data\n",
    "min_max_scaler = preprocessing.StandardScaler()\n",
    "data_test_scaled = min_max_scaler.fit_transform(df_test_agg_imputed_features)"
   ]
  },
  {
   "cell_type": "code",
   "execution_count": 19,
   "metadata": {},
   "outputs": [],
   "source": [
    "# pd.DataFrame(data_train_scaled).to_csv(\"./Results/4stats_iterarive_dat_train_scaled.csv\")\n",
    "# pd.DataFrame(data_test_scaled).to_csv(\"./Results/4stats_iterative_dat_test_scaled.csv\")"
   ]
  },
  {
   "cell_type": "markdown",
   "metadata": {},
   "source": [
    "## Fit a model & Predict"
   ]
  },
  {
   "cell_type": "markdown",
   "metadata": {},
   "source": [
    "### predict with support vector machine classification and use probabilities"
   ]
  },
  {
   "cell_type": "code",
   "execution_count": 36,
   "metadata": {},
   "outputs": [
    {
     "name": "stdout",
     "output_type": "stream",
     "text": [
      "(18995, 20)\n",
      "[False False False False False  True False False False False False False\n",
      " False  True  True False False False  True False  True False False False\n",
      "  True False  True False False False False False False False False  True\n",
      " False False False False  True False False  True False False False False\n",
      " False  True False False False  True  True False  True False False False\n",
      "  True  True False False False False False False False False False False\n",
      " False False False False False False False False False  True False False\n",
      " False False  True False False False False False False False  True False\n",
      " False  True False False False False False False False False False False]\n",
      "(12664, 20)\n",
      "[False False False False False  True False False False False False False\n",
      " False  True  True False False False  True False  True False False False\n",
      "  True False  True False False False False False False False False  True\n",
      " False False False False  True False False  True False False False False\n",
      " False  True False False False  True  True False  True False False False\n",
      "  True  True False False False False False False False False False False\n",
      " False False False False False False False False False  True False False\n",
      " False False  True False False False False False False False  True False\n",
      " False  True False False False False False False False False False False]\n",
      "[LibSVM]ROC AUC for feature LABEL_BaseExcess  :  0.8287871500191502\n",
      "(18995, 20)\n",
      "[False False False  True False False False False  True False False False\n",
      " False False False False False False False  True False False  True False\n",
      " False False  True False False  True False False  True False False False\n",
      " False False False False False False False False  True  True False False\n",
      " False False False False False False False  True False False  True False\n",
      " False False False  True False False False False False False False  True\n",
      " False False False False  True  True False False  True  True False False\n",
      " False False False False False False False False False  True  True False\n",
      " False False False False  True False False False False False False False]\n",
      "(12664, 20)\n",
      "[False False False  True False False False False  True False False False\n",
      " False False False False False False False  True False False  True False\n",
      " False False  True False False  True False False  True False False False\n",
      " False False False False False False False False  True  True False False\n",
      " False False False False False False False  True False False  True False\n",
      " False False False  True False False False False False False False  True\n",
      " False False False False  True  True False False  True  True False False\n",
      " False False False False False False False False False  True  True False\n",
      " False False False False  True False False False False False False False]\n",
      "[LibSVM]ROC AUC for feature LABEL_Fibrinogen  :  0.9766837575609952\n",
      "(18995, 20)\n",
      "[False False False False False False False False False False False False\n",
      " False False False  True False  True False False False False False False\n",
      " False  True False False False False False  True False False  True False\n",
      " False False False False False False False False False False False  True\n",
      "  True False False False False  True  True  True False False  True False\n",
      " False False False False False False False False False False  True False\n",
      " False False False False  True False False False False False False  True\n",
      " False False False False False False False False False  True  True False\n",
      " False  True False False  True  True False False False False False  True]\n",
      "(12664, 20)\n",
      "[False False False False False False False False False False False False\n",
      " False False False  True False  True False False False False False False\n",
      " False  True False False False False False  True False False  True False\n",
      " False False False False False False False False False False False  True\n",
      "  True False False False False  True  True  True False False  True False\n",
      " False False False False False False False False False False  True False\n",
      " False False False False  True False False False False False False  True\n",
      " False False False False False False False False False  True  True False\n",
      " False  True False False  True  True False False False False False  True]\n",
      "[LibSVM]ROC AUC for feature LABEL_AST  :  0.8569899474660376\n",
      "(18995, 20)\n",
      "[False False False False False  True False  True False False False False\n",
      " False False False False False  True  True False False False False  True\n",
      " False False False False False False False False False False False  True\n",
      " False False False False  True  True  True False False False False  True\n",
      "  True False False False  True False False False False False False False\n",
      " False  True False False False False False False False False False False\n",
      " False False False  True False False False False False False False False\n",
      " False  True False False False False False  True False False False False\n",
      " False False  True False  True  True  True False False False False False]\n",
      "(12664, 20)\n",
      "[False False False False False  True False  True False False False False\n",
      " False False False False False  True  True False False False False  True\n",
      " False False False False False False False False False False False  True\n",
      " False False False False  True  True  True False False False False  True\n",
      "  True False False False  True False False False False False False False\n",
      " False  True False False False False False False False False False False\n",
      " False False False  True False False False False False False False False\n",
      " False  True False False False False False  True False False False False\n",
      " False False  True False  True  True  True False False False False False]\n",
      "[LibSVM]ROC AUC for feature LABEL_Alkalinephos  :  0.8604815928428228\n",
      "(18995, 20)\n",
      "[False False False False False  True False False False False False  True\n",
      " False False False False False  True  True False False False False  True\n",
      " False  True False False False False False False  True False False False\n",
      " False  True False  True False False False False False False False  True\n",
      " False False False  True  True  True False False  True False False False\n",
      " False False False False False False False False False False False False\n",
      " False False False False False False False False False False False False\n",
      " False False  True False False False False False False False False False\n",
      "  True False False False  True  True  True False False False False  True]\n",
      "(12664, 20)\n",
      "[False False False False False  True False False False False False  True\n",
      " False False False False False  True  True False False False False  True\n",
      " False  True False False False False False False  True False False False\n",
      " False  True False  True False False False False False False False  True\n",
      " False False False  True  True  True False False  True False False False\n",
      " False False False False False False False False False False False False\n",
      " False False False False False False False False False False False False\n",
      " False False  True False False False False False False False False False\n",
      "  True False False False  True  True  True False False False False  True]\n",
      "[LibSVM]ROC AUC for feature LABEL_Bilirubin_total  :  0.8845110869243693\n",
      "(18995, 20)\n",
      "[False  True False False False False  True False  True False False False\n",
      " False False False False False False  True False False False False False\n",
      " False False False False False False False False False False False False\n",
      " False False False False False False False  True False False False False\n",
      " False False False False  True False  True False  True False False False\n",
      " False  True  True  True False False  True False False False  True False\n",
      "  True False False False False False False False False False False False\n",
      "  True False False False False False False  True False  True False False\n",
      " False False False False False  True False  True False False False  True]\n",
      "(12664, 20)\n",
      "[False  True False False False False  True False  True False False False\n",
      " False False False False False False  True False False False False False\n",
      " False False False False False False False False False False False False\n",
      " False False False False False False False  True False False False False\n",
      " False False False False  True False  True False  True False False False\n",
      " False  True  True  True False False  True False False False  True False\n",
      "  True False False False False False False False False False False False\n",
      "  True False False False False False False  True False  True False False\n",
      " False False False False False  True False  True False False False  True]\n"
     ]
    },
    {
     "name": "stdout",
     "output_type": "stream",
     "text": [
      "[LibSVM]ROC AUC for feature LABEL_Lactate  :  0.8989060284299264\n",
      "(18995, 20)\n",
      "[False False False False False False False  True False False False False\n",
      " False False False  True False False  True False  True  True False False\n",
      " False False False False  True False False  True False False False False\n",
      "  True False  True False False  True False False False False  True False\n",
      " False False False  True False False False  True False False False False\n",
      " False False False False False False False False False False False False\n",
      " False False False False False False False False False  True False False\n",
      " False False  True False False False False  True False False  True False\n",
      " False False False False  True False  True False  True False False False]\n",
      "(12664, 20)\n",
      "[False False False False False False False  True False False False False\n",
      " False False False  True False False  True False  True  True False False\n",
      " False False False False  True False False  True False False False False\n",
      "  True False  True False False  True False False False False  True False\n",
      " False False False  True False False False  True False False False False\n",
      " False False False False False False False False False False False False\n",
      " False False False False False False False False False  True False False\n",
      " False False  True False False False False  True False False  True False\n",
      " False False False False  True False  True False  True False False False]\n",
      "[LibSVM]ROC AUC for feature LABEL_TroponinI  :  0.9562972118070021\n",
      "(18995, 20)\n",
      "[False False  True False  True False False  True False False False False\n",
      " False False False False False False False False False  True False False\n",
      " False  True False False False False False False False False False  True\n",
      " False False False  True False False False False False False False False\n",
      " False False False  True False  True False False False  True False False\n",
      " False False False False False False False False False  True  True False\n",
      " False False False False False  True False  True  True False  True False\n",
      " False False False False False False False False False False  True False\n",
      " False False False False False False  True False False  True False  True]\n",
      "(12664, 20)\n",
      "[False False  True False  True False False  True False False False False\n",
      " False False False False False False False False False  True False False\n",
      " False  True False False False False False False False False False  True\n",
      " False False False  True False False False False False False False False\n",
      " False False False  True False  True False False False  True False False\n",
      " False False False False False False False False False  True  True False\n",
      " False False False False False  True False  True  True False  True False\n",
      " False False False False False False False False False False  True False\n",
      " False False False False False False  True False False  True False  True]\n",
      "[LibSVM]ROC AUC for feature LABEL_SaO2  :  0.8959293766355956\n",
      "(18995, 20)\n",
      "[False False  True False False False  True False False False  True False\n",
      " False False False False  True  True False False False False False False\n",
      " False False False False False False False  True False False False False\n",
      " False  True False False False False False  True False False False False\n",
      " False False False False False  True  True  True False False False False\n",
      " False  True False  True False False False False  True False  True False\n",
      " False False False False False False False False False False False False\n",
      " False  True  True False False False False False False False False False\n",
      " False  True False  True False False False False False False  True False]\n",
      "(12664, 20)\n",
      "[False False  True False False False  True False False False  True False\n",
      " False False False False  True  True False False False False False False\n",
      " False False False False False False False  True False False False False\n",
      " False  True False False False False False  True False False False False\n",
      " False False False False False  True  True  True False False False False\n",
      " False  True False  True False False False False  True False  True False\n",
      " False False False False False False False False False False False False\n",
      " False  True  True False False False False False False False False False\n",
      " False  True False  True False False False False False False  True False]\n",
      "[LibSVM]ROC AUC for feature LABEL_Bilirubin_direct  :  0.9482165576638572\n",
      "(18995, 20)\n",
      "[False False False False False False False False False False False False\n",
      " False False  True False False False False False False False False  True\n",
      " False False False False False  True False False False False False False\n",
      "  True False False False False False False False False False False False\n",
      "  True False False False False False  True  True  True False False  True\n",
      " False False False False False False False False  True False  True False\n",
      " False False False False False False  True False False  True False  True\n",
      " False False False False False  True False False False False False False\n",
      " False  True False  True False False  True False  True False False  True]\n",
      "(12664, 20)\n",
      "[False False False False False False False False False False False False\n",
      " False False  True False False False False False False False False  True\n",
      " False False False False False  True False False False False False False\n",
      "  True False False False False False False False False False False False\n",
      "  True False False False False False  True  True  True False False  True\n",
      " False False False False False False False False  True False  True False\n",
      " False False False False False False  True False False  True False  True\n",
      " False False False False False  True False False False False False False\n",
      " False  True False  True False False  True False  True False False  True]\n",
      "[LibSVM]ROC AUC for feature LABEL_EtCO2  :  0.9350736231511956\n",
      "(18995, 20)\n",
      "[False False False False  True False False False False False False False\n",
      " False False False  True False False False False  True False False False\n",
      " False False False False False  True False False False False False False\n",
      " False  True False False False False False False False False  True False\n",
      " False False False  True False  True False False  True False  True  True\n",
      " False False False False False  True False  True  True False False False\n",
      "  True False False False False False  True False False False False False\n",
      " False False  True False False  True False False False False False False\n",
      " False False False False False  True False False  True False False False]\n",
      "(12664, 20)\n",
      "[False False False False  True False False False False False False False\n",
      " False False False  True False False False False  True False False False\n",
      " False False False False False  True False False False False False False\n",
      " False  True False False False False False False False False  True False\n",
      " False False False  True False  True False False  True False  True  True\n",
      " False False False False False  True False  True  True False False False\n",
      "  True False False False False False  True False False False False False\n",
      " False False  True False False  True False False False False False False\n",
      " False False False False False  True False False  True False False False]\n",
      "[LibSVM]ROC AUC for feature LABEL_Sepsis  :  0.9575467427295932\n"
     ]
    }
   ],
   "source": [
    "# first for the labels that have an output [0,1]\n",
    "\n",
    "columns_1 = [test_pids]\n",
    "\n",
    "for i in range(1, 12):\n",
    "   \n",
    "    # feature selection\n",
    "    transformer =  GenericUnivariateSelect(score_func= mutual_info_classif, mode ='k_best', param=20)\n",
    "    train_features = transformer.fit_transform(data_train_scaled, df_train_labels.iloc[:,i])\n",
    "    test_features = transformer.transform(data_test_scaled)\n",
    "\n",
    "    \n",
    "    #clf = BaggingClassifier(SVC(kernel = 'poly', degree = 5, class_weight = 'balanced', verbose = True, C = 10))\n",
    "    clf = SVC(kernel = 'poly', degree = 5, class_weight = 'balanced', verbose = True, C = 10)\n",
    "    \n",
    "    #parameters = {'C':np.linspace(0.1,10,20)}\n",
    "#     clf = model_selection.GridSearchCV(estimator= clf_w, param_grid = parameters, cv = 4,\n",
    "#                                        refit = True, scoring = 'roc_auc', verbose = 1, n_jobs=6)\n",
    "    clf.fit(train_features, df_train_labels.iloc[:,i])\n",
    "    \n",
    "    #print(clf.best_params_)\n",
    "    # compute probabilites as opposed to predictions\n",
    "    #dual_coefficients = clf.dual_coef_    # do we have to normalize with norm of this vector ?\n",
    "    \n",
    "    distance_hyperplane = clf.decision_function(test_features)\n",
    "    probability = np.empty(len(distance_hyperplane))\n",
    "    for j in range(0, len(probability)):\n",
    "        if distance_hyperplane[j] < 0:\n",
    "            probability[j] = 1 - 1/(1 + math.exp(distance_hyperplane[j]))\n",
    "        else:\n",
    "            probability[j] = 1/(1 + math.exp(-distance_hyperplane[j]))\n",
    "    columns_1.append(probability)\n",
    "\n",
    "    \n",
    "    distance_hyperplace_train = clf.decision_function(train_features)\n",
    "    probability = np.empty(len(distance_hyperplace_train))\n",
    "    for j in range(0, len(probability)):\n",
    "        if distance_hyperplace_train[j] < 0:\n",
    "            probability[j] = 1 - 1/(1 + math.exp(distance_hyperplace_train[j]))\n",
    "        else:\n",
    "            probability[j] = 1/(1 + math.exp(-distance_hyperplace_train[j]))\n",
    "    \n",
    "    tmp = roc_auc_score(y_score= probability, y_true= df_train_labels.iloc[:,i])\n",
    "    print(\"ROC AUC for feature\", list(df_train_labels)[i] , \" : \", tmp)\n",
    "    "
   ]
  },
  {
   "cell_type": "code",
   "execution_count": null,
   "metadata": {},
   "outputs": [
    {
     "name": "stdout",
     "output_type": "stream",
     "text": [
      "R2 for feature LABEL_RRate  :  0.4549121830930438\n",
      "R2 for feature LABEL_ABPm  :  0.4381890830585493\n",
      "R2 for feature LABEL_SpO2  :  0.41006856722355167\n"
     ]
    }
   ],
   "source": [
    "# labels that have a real value\n",
    "columns_2 = []\n",
    "from sklearn.kernel_ridge import KernelRidge\n",
    "\n",
    "for i in range(12, 16):\n",
    "    # feature selection\n",
    "    transformer =  GenericUnivariateSelect(score_func= mutual_info_regression, mode ='k_best', param = 30)\n",
    "    train_features = transformer.fit_transform(data_train_scaled, df_train_labels.iloc[:,i])\n",
    "    test_features = transformer.transform(data_test_scaled)\n",
    "    \n",
    "#     clf_w = SVR(kernel = 'poly', degree = 5, cache_size=7000)\n",
    "# #     clf_w = NuSVR(nu=0.5, kernel = 'linear')\n",
    "#     parameters = {'C':(0.1,1,10,30)}\n",
    "#     clf = model_selection.GridSearchCV(estimator= clf_w, param_grid = parameters, cv = 2,\n",
    "#                                        refit = True, scoring = 'r2', verbose = 2, n_jobs=6)\n",
    "    clf = KernelRidge(kernel = 'poly', degree = 5)\n",
    "    clf.fit(train_features, df_train_labels.iloc[:,i])\n",
    "#     print(clf.cv_results_)\n",
    "\n",
    "\n",
    "    pred_train = clf.predict(train_features)\n",
    "    tmp = r2_score(y_pred= pred_train, y_true=df_train_labels.iloc[:,i])\n",
    "    print(\"R2 for feature\", list(df_train_labels)[i] , \" : \", tmp)\n",
    "    \n",
    "    pred = clf.predict(test_features)\n",
    "    columns_2.append(pred)\n",
    "    "
   ]
  },
  {
   "cell_type": "code",
   "execution_count": 44,
   "metadata": {},
   "outputs": [],
   "source": [
    "columns_final = columns_1 + columns_2"
   ]
  },
  {
   "cell_type": "markdown",
   "metadata": {},
   "source": [
    "### predict with Support vector regression and then compute sigmoid function"
   ]
  },
  {
   "cell_type": "code",
   "execution_count": null,
   "metadata": {
    "jupyter": {
     "source_hidden": true
    }
   },
   "outputs": [],
   "source": [
    "# first for the labels that have an output [0,1]\n",
    "\n",
    "# columns_1 = [test_pids]\n",
    "\n",
    "# for i in range(1,12):\n",
    "    \n",
    "#     clf = SVR(kernel = 'poly', degree = 3, max_iter = 10000)\n",
    "#     clf.fit(data_train_scaled, df_train_labels.iloc[:,i])\n",
    "#     pred = clf.predict(data_test_scaled)\n",
    "#     prob = np.empty(len(pred))\n",
    "#     for j in range(0, len(pred)):\n",
    "#         prob[j] = 1 / (1 + math.exp(-pred[j]))\n",
    "#     columns_1.append(prob)\n",
    "    \n",
    "#     pred_train = clf.predict(data_train_scaled)\n",
    "#     prob_train = np.empty(len(pred_train))\n",
    "#     for j in range(0, len(pred_train)):\n",
    "#         prob_train[j] = 1 / (1 + math.exp(-pred_train[j]))    \n",
    "#     tmp = roc_auc_score(y_score= prob_train, y_true= df_train_labels.iloc[:,i])\n",
    "#     print(\"ROC AUC for feature\", list(df_train_labels)[i] , \" : \", tmp)\n"
   ]
  },
  {
   "cell_type": "code",
   "execution_count": 48,
   "metadata": {
    "jupyter": {
     "source_hidden": true
    },
    "scrolled": true
   },
   "outputs": [
    {
     "name": "stdout",
     "output_type": "stream",
     "text": [
      "Fitting 2 folds for each of 6 candidates, totalling 12 fits\n"
     ]
    },
    {
     "name": "stderr",
     "output_type": "stream",
     "text": [
      "[Parallel(n_jobs=6)]: Using backend LokyBackend with 6 concurrent workers.\n",
      "[Parallel(n_jobs=6)]: Done  12 out of  12 | elapsed:    3.6s finished\n",
      "/usr/local/lib/python3.7/site-packages/sklearn/svm/_base.py:947: ConvergenceWarning: Liblinear failed to converge, increase the number of iterations.\n",
      "  \"the number of iterations.\", ConvergenceWarning)\n"
     ]
    },
    {
     "name": "stdout",
     "output_type": "stream",
     "text": [
      "{'mean_fit_time': array([0.15803492, 0.72020221, 1.31950998, 1.50902951, 1.41405416,\n",
      "       1.15272558]), 'std_fit_time': array([0.01236498, 0.10293007, 0.05689812, 0.00814259, 0.03442216,\n",
      "       0.04160535]), 'mean_score_time': array([0.00132513, 0.00139034, 0.00163651, 0.00091887, 0.00078583,\n",
      "       0.00069392]), 'std_score_time': array([1.90973282e-04, 2.23517418e-04, 4.86373901e-05, 3.81469727e-05,\n",
      "       4.79221344e-05, 4.88758087e-06]), 'param_C': masked_array(data=[0.1, 1, 10, 30, 60, 100],\n",
      "             mask=[False, False, False, False, False, False],\n",
      "       fill_value='?',\n",
      "            dtype=object), 'params': [{'C': 0.1}, {'C': 1}, {'C': 10}, {'C': 30}, {'C': 60}, {'C': 100}], 'split0_test_score': array([-0.01048037, -0.0078689 , -0.00893145, -0.01131498, -0.03368533,\n",
      "       -0.13924681]), 'split1_test_score': array([-0.02066229, -0.01702624, -0.02204602, -0.0470449 , -0.04619484,\n",
      "       -0.14142441]), 'mean_test_score': array([-0.01557133, -0.01244757, -0.01548874, -0.02917994, -0.03994009,\n",
      "       -0.14033561]), 'std_test_score': array([0.00509096, 0.00457867, 0.00655729, 0.01786496, 0.00625476,\n",
      "       0.0010888 ]), 'rank_test_score': array([3, 1, 2, 4, 5, 6], dtype=int32)}\n",
      "R2 for feature LABEL_RRate  :  -0.009897835754528073\n"
     ]
    },
    {
     "ename": "KeyboardInterrupt",
     "evalue": "",
     "output_type": "error",
     "traceback": [
      "\u001b[0;31m---------------------------------------------------------------------------\u001b[0m",
      "\u001b[0;31mKeyboardInterrupt\u001b[0m                         Traceback (most recent call last)",
      "\u001b[0;32m<ipython-input-48-30f78bf78e85>\u001b[0m in \u001b[0;36m<module>\u001b[0;34m\u001b[0m\n\u001b[1;32m      7\u001b[0m     \u001b[0;31m# feature selection\u001b[0m\u001b[0;34m\u001b[0m\u001b[0;34m\u001b[0m\u001b[0;34m\u001b[0m\u001b[0m\n\u001b[1;32m      8\u001b[0m     \u001b[0mtransformer\u001b[0m \u001b[0;34m=\u001b[0m  \u001b[0mGenericUnivariateSelect\u001b[0m\u001b[0;34m(\u001b[0m\u001b[0mscore_func\u001b[0m\u001b[0;34m=\u001b[0m \u001b[0mmutual_info_regression\u001b[0m\u001b[0;34m,\u001b[0m \u001b[0mmode\u001b[0m \u001b[0;34m=\u001b[0m\u001b[0;34m'k_best'\u001b[0m\u001b[0;34m,\u001b[0m \u001b[0mparam\u001b[0m\u001b[0;34m=\u001b[0m\u001b[0;36m20\u001b[0m\u001b[0;34m)\u001b[0m\u001b[0;34m\u001b[0m\u001b[0;34m\u001b[0m\u001b[0m\n\u001b[0;32m----> 9\u001b[0;31m     \u001b[0mtrain_features\u001b[0m \u001b[0;34m=\u001b[0m \u001b[0mtransformer\u001b[0m\u001b[0;34m.\u001b[0m\u001b[0mfit_transform\u001b[0m\u001b[0;34m(\u001b[0m\u001b[0mdata_train_scaled\u001b[0m\u001b[0;34m,\u001b[0m \u001b[0mdf_train_labels\u001b[0m\u001b[0;34m.\u001b[0m\u001b[0miloc\u001b[0m\u001b[0;34m[\u001b[0m\u001b[0;34m:\u001b[0m\u001b[0;34m,\u001b[0m\u001b[0mi\u001b[0m\u001b[0;34m]\u001b[0m\u001b[0;34m)\u001b[0m\u001b[0;34m\u001b[0m\u001b[0;34m\u001b[0m\u001b[0m\n\u001b[0m\u001b[1;32m     10\u001b[0m     \u001b[0mtest_features\u001b[0m \u001b[0;34m=\u001b[0m \u001b[0mtransformer\u001b[0m\u001b[0;34m.\u001b[0m\u001b[0mtransform\u001b[0m\u001b[0;34m(\u001b[0m\u001b[0mdata_test_scaled\u001b[0m\u001b[0;34m)\u001b[0m\u001b[0;34m\u001b[0m\u001b[0;34m\u001b[0m\u001b[0m\n\u001b[1;32m     11\u001b[0m \u001b[0;34m\u001b[0m\u001b[0m\n",
      "\u001b[0;32m/usr/local/lib/python3.7/site-packages/sklearn/base.py\u001b[0m in \u001b[0;36mfit_transform\u001b[0;34m(self, X, y, **fit_params)\u001b[0m\n\u001b[1;32m    572\u001b[0m         \u001b[0;32melse\u001b[0m\u001b[0;34m:\u001b[0m\u001b[0;34m\u001b[0m\u001b[0;34m\u001b[0m\u001b[0m\n\u001b[1;32m    573\u001b[0m             \u001b[0;31m# fit method of arity 2 (supervised transformation)\u001b[0m\u001b[0;34m\u001b[0m\u001b[0;34m\u001b[0m\u001b[0;34m\u001b[0m\u001b[0m\n\u001b[0;32m--> 574\u001b[0;31m             \u001b[0;32mreturn\u001b[0m \u001b[0mself\u001b[0m\u001b[0;34m.\u001b[0m\u001b[0mfit\u001b[0m\u001b[0;34m(\u001b[0m\u001b[0mX\u001b[0m\u001b[0;34m,\u001b[0m \u001b[0my\u001b[0m\u001b[0;34m,\u001b[0m \u001b[0;34m**\u001b[0m\u001b[0mfit_params\u001b[0m\u001b[0;34m)\u001b[0m\u001b[0;34m.\u001b[0m\u001b[0mtransform\u001b[0m\u001b[0;34m(\u001b[0m\u001b[0mX\u001b[0m\u001b[0;34m)\u001b[0m\u001b[0;34m\u001b[0m\u001b[0;34m\u001b[0m\u001b[0m\n\u001b[0m\u001b[1;32m    575\u001b[0m \u001b[0;34m\u001b[0m\u001b[0m\n\u001b[1;32m    576\u001b[0m \u001b[0;34m\u001b[0m\u001b[0m\n",
      "\u001b[0;32m/usr/local/lib/python3.7/site-packages/sklearn/feature_selection/_univariate_selection.py\u001b[0m in \u001b[0;36mfit\u001b[0;34m(self, X, y)\u001b[0m\n\u001b[1;32m    347\u001b[0m \u001b[0;34m\u001b[0m\u001b[0m\n\u001b[1;32m    348\u001b[0m         \u001b[0mself\u001b[0m\u001b[0;34m.\u001b[0m\u001b[0m_check_params\u001b[0m\u001b[0;34m(\u001b[0m\u001b[0mX\u001b[0m\u001b[0;34m,\u001b[0m \u001b[0my\u001b[0m\u001b[0;34m)\u001b[0m\u001b[0;34m\u001b[0m\u001b[0;34m\u001b[0m\u001b[0m\n\u001b[0;32m--> 349\u001b[0;31m         \u001b[0mscore_func_ret\u001b[0m \u001b[0;34m=\u001b[0m \u001b[0mself\u001b[0m\u001b[0;34m.\u001b[0m\u001b[0mscore_func\u001b[0m\u001b[0;34m(\u001b[0m\u001b[0mX\u001b[0m\u001b[0;34m,\u001b[0m \u001b[0my\u001b[0m\u001b[0;34m)\u001b[0m\u001b[0;34m\u001b[0m\u001b[0;34m\u001b[0m\u001b[0m\n\u001b[0m\u001b[1;32m    350\u001b[0m         \u001b[0;32mif\u001b[0m \u001b[0misinstance\u001b[0m\u001b[0;34m(\u001b[0m\u001b[0mscore_func_ret\u001b[0m\u001b[0;34m,\u001b[0m \u001b[0;34m(\u001b[0m\u001b[0mlist\u001b[0m\u001b[0;34m,\u001b[0m \u001b[0mtuple\u001b[0m\u001b[0;34m)\u001b[0m\u001b[0;34m)\u001b[0m\u001b[0;34m:\u001b[0m\u001b[0;34m\u001b[0m\u001b[0;34m\u001b[0m\u001b[0m\n\u001b[1;32m    351\u001b[0m             \u001b[0mself\u001b[0m\u001b[0;34m.\u001b[0m\u001b[0mscores_\u001b[0m\u001b[0;34m,\u001b[0m \u001b[0mself\u001b[0m\u001b[0;34m.\u001b[0m\u001b[0mpvalues_\u001b[0m \u001b[0;34m=\u001b[0m \u001b[0mscore_func_ret\u001b[0m\u001b[0;34m\u001b[0m\u001b[0;34m\u001b[0m\u001b[0m\n",
      "\u001b[0;32m/usr/local/lib/python3.7/site-packages/sklearn/feature_selection/_mutual_info.py\u001b[0m in \u001b[0;36mmutual_info_regression\u001b[0;34m(X, y, discrete_features, n_neighbors, copy, random_state)\u001b[0m\n\u001b[1;32m    369\u001b[0m     \"\"\"\n\u001b[1;32m    370\u001b[0m     return _estimate_mi(X, y, discrete_features, False, n_neighbors,\n\u001b[0;32m--> 371\u001b[0;31m                         copy, random_state)\n\u001b[0m\u001b[1;32m    372\u001b[0m \u001b[0;34m\u001b[0m\u001b[0m\n\u001b[1;32m    373\u001b[0m \u001b[0;34m\u001b[0m\u001b[0m\n",
      "\u001b[0;32m/usr/local/lib/python3.7/site-packages/sklearn/feature_selection/_mutual_info.py\u001b[0m in \u001b[0;36m_estimate_mi\u001b[0;34m(X, y, discrete_features, discrete_target, n_neighbors, copy, random_state)\u001b[0m\n\u001b[1;32m    288\u001b[0m \u001b[0;34m\u001b[0m\u001b[0m\n\u001b[1;32m    289\u001b[0m     mi = [_compute_mi(x, y, discrete_feature, discrete_target, n_neighbors) for\n\u001b[0;32m--> 290\u001b[0;31m           x, discrete_feature in zip(_iterate_columns(X), discrete_mask)]\n\u001b[0m\u001b[1;32m    291\u001b[0m \u001b[0;34m\u001b[0m\u001b[0m\n\u001b[1;32m    292\u001b[0m     \u001b[0;32mreturn\u001b[0m \u001b[0mnp\u001b[0m\u001b[0;34m.\u001b[0m\u001b[0marray\u001b[0m\u001b[0;34m(\u001b[0m\u001b[0mmi\u001b[0m\u001b[0;34m)\u001b[0m\u001b[0;34m\u001b[0m\u001b[0;34m\u001b[0m\u001b[0m\n",
      "\u001b[0;32m/usr/local/lib/python3.7/site-packages/sklearn/feature_selection/_mutual_info.py\u001b[0m in \u001b[0;36m<listcomp>\u001b[0;34m(.0)\u001b[0m\n\u001b[1;32m    288\u001b[0m \u001b[0;34m\u001b[0m\u001b[0m\n\u001b[1;32m    289\u001b[0m     mi = [_compute_mi(x, y, discrete_feature, discrete_target, n_neighbors) for\n\u001b[0;32m--> 290\u001b[0;31m           x, discrete_feature in zip(_iterate_columns(X), discrete_mask)]\n\u001b[0m\u001b[1;32m    291\u001b[0m \u001b[0;34m\u001b[0m\u001b[0m\n\u001b[1;32m    292\u001b[0m     \u001b[0;32mreturn\u001b[0m \u001b[0mnp\u001b[0m\u001b[0;34m.\u001b[0m\u001b[0marray\u001b[0m\u001b[0;34m(\u001b[0m\u001b[0mmi\u001b[0m\u001b[0;34m)\u001b[0m\u001b[0;34m\u001b[0m\u001b[0;34m\u001b[0m\u001b[0m\n",
      "\u001b[0;32m/usr/local/lib/python3.7/site-packages/sklearn/feature_selection/_mutual_info.py\u001b[0m in \u001b[0;36m_compute_mi\u001b[0;34m(x, y, x_discrete, y_discrete, n_neighbors)\u001b[0m\n\u001b[1;32m    160\u001b[0m         \u001b[0;32mreturn\u001b[0m \u001b[0m_compute_mi_cd\u001b[0m\u001b[0;34m(\u001b[0m\u001b[0mx\u001b[0m\u001b[0;34m,\u001b[0m \u001b[0my\u001b[0m\u001b[0;34m,\u001b[0m \u001b[0mn_neighbors\u001b[0m\u001b[0;34m)\u001b[0m\u001b[0;34m\u001b[0m\u001b[0;34m\u001b[0m\u001b[0m\n\u001b[1;32m    161\u001b[0m     \u001b[0;32melse\u001b[0m\u001b[0;34m:\u001b[0m\u001b[0;34m\u001b[0m\u001b[0;34m\u001b[0m\u001b[0m\n\u001b[0;32m--> 162\u001b[0;31m         \u001b[0;32mreturn\u001b[0m \u001b[0m_compute_mi_cc\u001b[0m\u001b[0;34m(\u001b[0m\u001b[0mx\u001b[0m\u001b[0;34m,\u001b[0m \u001b[0my\u001b[0m\u001b[0;34m,\u001b[0m \u001b[0mn_neighbors\u001b[0m\u001b[0;34m)\u001b[0m\u001b[0;34m\u001b[0m\u001b[0;34m\u001b[0m\u001b[0m\n\u001b[0m\u001b[1;32m    163\u001b[0m \u001b[0;34m\u001b[0m\u001b[0m\n\u001b[1;32m    164\u001b[0m \u001b[0;34m\u001b[0m\u001b[0m\n",
      "\u001b[0;32m/usr/local/lib/python3.7/site-packages/sklearn/feature_selection/_mutual_info.py\u001b[0m in \u001b[0;36m_compute_mi_cc\u001b[0;34m(x, y, n_neighbors)\u001b[0m\n\u001b[1;32m     62\u001b[0m     \u001b[0mnn\u001b[0m\u001b[0;34m.\u001b[0m\u001b[0mset_params\u001b[0m\u001b[0;34m(\u001b[0m\u001b[0malgorithm\u001b[0m\u001b[0;34m=\u001b[0m\u001b[0;34m'kd_tree'\u001b[0m\u001b[0;34m)\u001b[0m\u001b[0;34m\u001b[0m\u001b[0;34m\u001b[0m\u001b[0m\n\u001b[1;32m     63\u001b[0m \u001b[0;34m\u001b[0m\u001b[0m\n\u001b[0;32m---> 64\u001b[0;31m     \u001b[0mnn\u001b[0m\u001b[0;34m.\u001b[0m\u001b[0mfit\u001b[0m\u001b[0;34m(\u001b[0m\u001b[0mx\u001b[0m\u001b[0;34m)\u001b[0m\u001b[0;34m\u001b[0m\u001b[0;34m\u001b[0m\u001b[0m\n\u001b[0m\u001b[1;32m     65\u001b[0m     \u001b[0mind\u001b[0m \u001b[0;34m=\u001b[0m \u001b[0mnn\u001b[0m\u001b[0;34m.\u001b[0m\u001b[0mradius_neighbors\u001b[0m\u001b[0;34m(\u001b[0m\u001b[0mradius\u001b[0m\u001b[0;34m=\u001b[0m\u001b[0mradius\u001b[0m\u001b[0;34m,\u001b[0m \u001b[0mreturn_distance\u001b[0m\u001b[0;34m=\u001b[0m\u001b[0;32mFalse\u001b[0m\u001b[0;34m)\u001b[0m\u001b[0;34m\u001b[0m\u001b[0;34m\u001b[0m\u001b[0m\n\u001b[1;32m     66\u001b[0m     \u001b[0mnx\u001b[0m \u001b[0;34m=\u001b[0m \u001b[0mnp\u001b[0m\u001b[0;34m.\u001b[0m\u001b[0marray\u001b[0m\u001b[0;34m(\u001b[0m\u001b[0;34m[\u001b[0m\u001b[0mi\u001b[0m\u001b[0;34m.\u001b[0m\u001b[0msize\u001b[0m \u001b[0;32mfor\u001b[0m \u001b[0mi\u001b[0m \u001b[0;32min\u001b[0m \u001b[0mind\u001b[0m\u001b[0;34m]\u001b[0m\u001b[0;34m)\u001b[0m\u001b[0;34m\u001b[0m\u001b[0;34m\u001b[0m\u001b[0m\n",
      "\u001b[0;32m/usr/local/lib/python3.7/site-packages/sklearn/neighbors/_base.py\u001b[0m in \u001b[0;36mfit\u001b[0;34m(self, X, y)\u001b[0m\n\u001b[1;32m   1162\u001b[0m             \u001b[0;32mor\u001b[0m \u001b[0;34m[\u001b[0m\u001b[0mn_samples\u001b[0m\u001b[0;34m,\u001b[0m \u001b[0mn_samples\u001b[0m\u001b[0;34m]\u001b[0m \u001b[0;32mif\u001b[0m \u001b[0mmetric\u001b[0m\u001b[0;34m=\u001b[0m\u001b[0;34m'precomputed'\u001b[0m\u001b[0;34m.\u001b[0m\u001b[0;34m\u001b[0m\u001b[0;34m\u001b[0m\u001b[0m\n\u001b[1;32m   1163\u001b[0m         \"\"\"\n\u001b[0;32m-> 1164\u001b[0;31m         \u001b[0;32mreturn\u001b[0m \u001b[0mself\u001b[0m\u001b[0;34m.\u001b[0m\u001b[0m_fit\u001b[0m\u001b[0;34m(\u001b[0m\u001b[0mX\u001b[0m\u001b[0;34m)\u001b[0m\u001b[0;34m\u001b[0m\u001b[0;34m\u001b[0m\u001b[0m\n\u001b[0m",
      "\u001b[0;32m/usr/local/lib/python3.7/site-packages/sklearn/neighbors/_base.py\u001b[0m in \u001b[0;36m_fit\u001b[0;34m(self, X)\u001b[0m\n\u001b[1;32m    455\u001b[0m             self._tree = KDTree(X, self.leaf_size,\n\u001b[1;32m    456\u001b[0m                                 \u001b[0mmetric\u001b[0m\u001b[0;34m=\u001b[0m\u001b[0mself\u001b[0m\u001b[0;34m.\u001b[0m\u001b[0meffective_metric_\u001b[0m\u001b[0;34m,\u001b[0m\u001b[0;34m\u001b[0m\u001b[0;34m\u001b[0m\u001b[0m\n\u001b[0;32m--> 457\u001b[0;31m                                 **self.effective_metric_params_)\n\u001b[0m\u001b[1;32m    458\u001b[0m         \u001b[0;32melif\u001b[0m \u001b[0mself\u001b[0m\u001b[0;34m.\u001b[0m\u001b[0m_fit_method\u001b[0m \u001b[0;34m==\u001b[0m \u001b[0;34m'brute'\u001b[0m\u001b[0;34m:\u001b[0m\u001b[0;34m\u001b[0m\u001b[0;34m\u001b[0m\u001b[0m\n\u001b[1;32m    459\u001b[0m             \u001b[0mself\u001b[0m\u001b[0;34m.\u001b[0m\u001b[0m_tree\u001b[0m \u001b[0;34m=\u001b[0m \u001b[0;32mNone\u001b[0m\u001b[0;34m\u001b[0m\u001b[0;34m\u001b[0m\u001b[0m\n",
      "\u001b[0;31mKeyboardInterrupt\u001b[0m: "
     ]
    }
   ],
   "source": [
    "#labels that have a real value\n",
    "\n",
    "columns_2 = []\n",
    "\n",
    "for i in range(12, 16):\n",
    "    \n",
    "    # feature selection\n",
    "    transformer =  GenericUnivariateSelect(score_func= mutual_info_regression, mode ='k_best', param=20)\n",
    "    train_features = transformer.fit_transform(data_train_scaled, df_train_labels.iloc[:,i])\n",
    "    test_features = transformer.transform(data_test_scaled)\n",
    "    \n",
    "    clf_w = LinearSVR()\n",
    "    parameters = {'C':(0.1,1,10,30,60,100)}\n",
    "    clf = model_selection.GridSearchCV(estimator= clf_w, param_grid = parameters, cv = 2,\n",
    "                                       refit = True, scoring = 'r2', verbose = 1, n_jobs=6)\n",
    "    clf.fit(train_features, df_train_labels.iloc[:,i])\n",
    "    \n",
    "    print(clf.cv_results_)\n",
    "    pred = clf.predict(test_features)\n",
    "    columns_2.append(pred)\n",
    "    \n",
    "    pred_train = clf.predict(train_features)\n",
    "    tmp = r2_score(y_pred= pred_train, y_true=df_train_labels.iloc[:,i])\n",
    "    print(\"R2 for feature\", list(df_train_labels)[i] , \" : \", tmp)"
   ]
  },
  {
   "cell_type": "code",
   "execution_count": 45,
   "metadata": {},
   "outputs": [],
   "source": [
    "transformer =  GenericUnivariateSelect(score_func= mutual_info_regression, mode ='k_best', param=20)\n",
    "train_features = transformer.fit_transform(data_train_scaled, df_train_labels.iloc[:,11])\n",
    "test_features = transformer.transform(data_test_scaled)"
   ]
  },
  {
   "cell_type": "code",
   "execution_count": 46,
   "metadata": {},
   "outputs": [
    {
     "data": {
      "text/plain": [
       "MultiIndex([(        'Lactate', 'amax'),\n",
       "            (        'Lactate', 'mean'),\n",
       "            (           'Temp', 'amin'),\n",
       "            (            'Hgb', 'amin'),\n",
       "            (           'HCO3', 'mean'),\n",
       "            (      'Phosphate', 'amin'),\n",
       "            (      'Phosphate', 'amax'),\n",
       "            (          'PaCO2', 'amax'),\n",
       "            (          'PaCO2', 'mean'),\n",
       "            (      'Platelets', 'amax'),\n",
       "            (           'SaO2', 'mean'),\n",
       "            (        'Glucose', 'amax'),\n",
       "            (      'Magnesium', 'mean'),\n",
       "            (           'ABPd', 'amin'),\n",
       "            (        'Calcium', 'amin'),\n",
       "            (           'SpO2', 'mean'),\n",
       "            (       'Chloride', 'amin'),\n",
       "            (      'Heartrate', 'mean'),\n",
       "            ('Bilirubin_total', 'amax'),\n",
       "            (             'pH', 'amin')],\n",
       "           )"
      ]
     },
     "execution_count": 46,
     "metadata": {},
     "output_type": "execute_result"
    }
   ],
   "source": [
    "df_train_agg_features.columns[transformer.get_support(indices = True)]"
   ]
  },
  {
   "cell_type": "code",
   "execution_count": null,
   "metadata": {},
   "outputs": [],
   "source": [
    "columns_final = columns_1 + columns_2"
   ]
  },
  {
   "cell_type": "markdown",
   "metadata": {},
   "source": [
    "### Random forest"
   ]
  },
  {
   "cell_type": "code",
   "execution_count": null,
   "metadata": {},
   "outputs": [],
   "source": [
    "# Random forest Classifier\n",
    "columns_1 = [test_pids]\n",
    "for i in range(1, 12):\n",
    "    clf = RandomForestClassifier(min_samples_leaf=2, class_weight='balanced', oob_score=False, bootstrap=False)\n",
    "    clf.fit(data_train_scaled, df_train_labels.iloc[:,i])\n",
    "    print(clf.oob_score)\n",
    "    # compute probabilites as opposed to predictions\n",
    "    probability = clf.apply(data_test_scaled)\n",
    "    probs = [i[1] for i in probability] \n",
    "    columns_1.append(probs)\n",
    "    \n",
    "    \n",
    "    probability = clf.predict_proba(data_train_scaled)\n",
    "\n",
    "    probs = [i[1] for i in probability]            \n",
    "    tmp = roc_auc_score(y_score= probs, y_true= df_train_labels.iloc[:,i])\n",
    "    print(\"ROC AUC for feature\", list(df_train_labels)[i] , \" : \", tmp)"
   ]
  },
  {
   "cell_type": "markdown",
   "metadata": {},
   "source": [
    "## Save predictions"
   ]
  },
  {
   "cell_type": "code",
   "execution_count": 45,
   "metadata": {},
   "outputs": [
    {
     "name": "stdout",
     "output_type": "stream",
     "text": [
      "(16, 12664)\n"
     ]
    }
   ],
   "source": [
    "print(np.shape(columns_final))\n",
    "result = pd.DataFrame(columns_final).transpose()\n",
    "result.columns = list(df_train_labels)\n",
    "result.to_csv('./Results/prediction.csv.zip', index=False, float_format='%.3f', compression='zip')"
   ]
  },
  {
   "cell_type": "code",
   "execution_count": null,
   "metadata": {},
   "outputs": [],
   "source": [
    "result.to_csv('./Results/prediction.csv', index=False, float_format='%.3f')"
   ]
  },
  {
   "cell_type": "code",
   "execution_count": null,
   "metadata": {},
   "outputs": [],
   "source": []
  }
 ],
 "metadata": {
  "kernelspec": {
   "display_name": "Python 3",
   "language": "python",
   "name": "python3"
  },
  "language_info": {
   "codemirror_mode": {
    "name": "ipython",
    "version": 3
   },
   "file_extension": ".py",
   "mimetype": "text/x-python",
   "name": "python",
   "nbconvert_exporter": "python",
   "pygments_lexer": "ipython3",
   "version": "3.7.5"
  }
 },
 "nbformat": 4,
 "nbformat_minor": 4
}
