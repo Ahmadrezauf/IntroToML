{
 "cells": [
  {
   "cell_type": "markdown",
   "metadata": {
    "colab_type": "text",
    "id": "j0ZvOZjQhVaf"
   },
   "source": [
    "# Neural Networks to predict protein activation"
   ]
  },
  {
   "cell_type": "markdown",
   "metadata": {
    "colab_type": "text",
    "id": "zVSZM-Ldyo_b"
   },
   "source": [
    "### Improvement ideas\n",
    "* Look at one hot key encoding, are we dropping one of the 21 features? do we need to do so?\n",
    "* One vector with four 1s, we might be loosing information\n",
    "* Class weights\n",
    "* Number of epochs\n",
    "* batch size\n",
    "* Neural Network (number of layers, where to put drop out layer, activations)\n",
    "* Optimizer, loss function for f1"
   ]
  },
  {
   "cell_type": "markdown",
   "metadata": {
    "colab_type": "text",
    "id": "PZ4JK9FA1my-"
   },
   "source": [
    "#### Set up the directories, load libraries"
   ]
  },
  {
   "cell_type": "code",
   "execution_count": 0,
   "metadata": {
    "colab": {},
    "colab_type": "code",
    "id": "OLodKHnmhaFA"
   },
   "outputs": [],
   "source": [
    "import pandas as pd\n",
    "import numpy as np\n",
    "\n",
    "import pickle\n",
    "%tensorflow_version 1.x\n",
    "import tensorflow as tf\n",
    "from tensorflow.python.util import deprecation\n",
    "deprecation._PRINT_DEPRECATION_WARNINGS = False\n",
    "\n",
    "import keras\n",
    "import keras.backend as K\n",
    "from keras import Sequential\n",
    "from keras.layers import Dense, Dropout\n",
    "from keras.layers import BatchNormalization\n",
    "from keras import regularizers\n",
    "from keras.optimizers import SGD\n",
    "from keras.callbacks import Callback,ModelCheckpoint\n",
    "\n",
    "from sklearn.preprocessing import OneHotEncoder\n",
    "from sklearn.model_selection import StratifiedKFold\n",
    "from sklearn import metrics\n",
    "from sklearn.metrics import classification_report\n",
    "from sklearn.utils import class_weight\n",
    "from sklearn.preprocessing import LabelEncoder"
   ]
  },
  {
   "cell_type": "code",
   "execution_count": 0,
   "metadata": {
    "colab": {},
    "colab_type": "code",
    "id": "C7shaT-b1x4a"
   },
   "outputs": [],
   "source": [
    "#!if [ ! -f Archive.zip ]; then wget -nv https://drive.google.com/open?id=1g7aT8cMkFAFlk6wxkiEH3mgFVp2Xa1l9 -O Archive.zip; fi"
   ]
  },
  {
   "cell_type": "code",
   "execution_count": 3,
   "metadata": {
    "colab": {
     "base_uri": "https://localhost:8080/",
     "height": 140
    },
    "colab_type": "code",
    "executionInfo": {
     "elapsed": 34759,
     "status": "ok",
     "timestamp": 1588661798081,
     "user": {
      "displayName": "Naomi Stricker",
      "photoUrl": "",
      "userId": "00066504149364385992"
     },
     "user_tz": -120
    },
    "id": "cBkOnoh0pLVo",
    "outputId": "4dd83688-bea3-4031-e0b8-bb72dde00362"
   },
   "outputs": [
    {
     "name": "stdout",
     "output_type": "stream",
     "text": [
      "Go to this URL in a browser: https://accounts.google.com/o/oauth2/auth?client_id=947318989803-6bn6qk8qdgf4n4g3pfee6491hc0brc4i.apps.googleusercontent.com&redirect_uri=urn%3aietf%3awg%3aoauth%3a2.0%3aoob&response_type=code&scope=email%20https%3a%2f%2fwww.googleapis.com%2fauth%2fdocs.test%20https%3a%2f%2fwww.googleapis.com%2fauth%2fdrive%20https%3a%2f%2fwww.googleapis.com%2fauth%2fdrive.photos.readonly%20https%3a%2f%2fwww.googleapis.com%2fauth%2fpeopleapi.readonly\n",
      "\n",
      "Enter your authorization code:\n",
      "··········\n",
      "Mounted at /content/drive\n"
     ]
    },
    {
     "data": {
      "text/plain": [
       "'/content/drive/My Drive/IML/IML_Projects/task_3'"
      ]
     },
     "execution_count": 3,
     "metadata": {
      "tags": []
     },
     "output_type": "execute_result"
    }
   ],
   "source": [
    "from google.colab import drive\n",
    "drive.mount('/content/drive', force_remount= True)\n",
    "import os\n",
    "os.chdir(\"/content/drive/My Drive/IML/IML_Projects/task_3\")\n",
    "os.getcwd()"
   ]
  },
  {
   "cell_type": "code",
   "execution_count": 4,
   "metadata": {
    "colab": {
     "base_uri": "https://localhost:8080/",
     "height": 34
    },
    "colab_type": "code",
    "executionInfo": {
     "elapsed": 34748,
     "status": "ok",
     "timestamp": 1588661798086,
     "user": {
      "displayName": "Naomi Stricker",
      "photoUrl": "",
      "userId": "00066504149364385992"
     },
     "user_tz": -120
    },
    "id": "L4i-_fs24jYr",
    "outputId": "24250874-c41c-419f-ab80-90cfaed2e029"
   },
   "outputs": [
    {
     "data": {
      "text/plain": [
       "'/content/drive/My Drive/IML/IML_Projects/task_3'"
      ]
     },
     "execution_count": 4,
     "metadata": {
      "tags": []
     },
     "output_type": "execute_result"
    }
   ],
   "source": [
    "import os\n",
    "os.getcwd()"
   ]
  },
  {
   "cell_type": "code",
   "execution_count": 5,
   "metadata": {
    "colab": {
     "base_uri": "https://localhost:8080/",
     "height": 51
    },
    "colab_type": "code",
    "executionInfo": {
     "elapsed": 36782,
     "status": "ok",
     "timestamp": 1588661800132,
     "user": {
      "displayName": "Naomi Stricker",
      "photoUrl": "",
      "userId": "00066504149364385992"
     },
     "user_tz": -120
    },
    "id": "cLfAjJV7ouEd",
    "outputId": "fe387166-b632-4567-8b02-f8dc26eb53aa"
   },
   "outputs": [
    {
     "name": "stdout",
     "output_type": "stream",
     "text": [
      " Data\t\t models\t\t      'on the server'\n",
      " iml_task_3.py\t ns_IML_Task_3.ipynb   prediction.csv\n"
     ]
    }
   ],
   "source": [
    "! ls"
   ]
  },
  {
   "cell_type": "markdown",
   "metadata": {
    "colab_type": "text",
    "id": "drNBDblM15cR"
   },
   "source": [
    "#### Load data & data inspection"
   ]
  },
  {
   "cell_type": "code",
   "execution_count": 0,
   "metadata": {
    "colab": {},
    "colab_type": "code",
    "id": "yQXuKcg4h71k"
   },
   "outputs": [],
   "source": [
    "dat_train = pd.read_csv(\"./Data/train.csv\")\n",
    "dat_test = pd.read_csv(\"./Data/test.csv\")"
   ]
  },
  {
   "cell_type": "code",
   "execution_count": 7,
   "metadata": {
    "colab": {
     "base_uri": "https://localhost:8080/",
     "height": 0
    },
    "colab_type": "code",
    "executionInfo": {
     "elapsed": 37688,
     "status": "ok",
     "timestamp": 1588661801055,
     "user": {
      "displayName": "Naomi Stricker",
      "photoUrl": "",
      "userId": "00066504149364385992"
     },
     "user_tz": -120
    },
    "id": "dgASSA0s-eT9",
    "outputId": "14bb0e5b-f318-48d2-ccd4-421e13d4d228"
   },
   "outputs": [
    {
     "data": {
      "text/plain": [
       "0    107787\n",
       "1      4213\n",
       "Name: Active, dtype: int64"
      ]
     },
     "execution_count": 7,
     "metadata": {
      "tags": []
     },
     "output_type": "execute_result"
    }
   ],
   "source": [
    "# check class balance on activation\n",
    "dat_train['Active'].value_counts()"
   ]
  },
  {
   "cell_type": "markdown",
   "metadata": {
    "colab_type": "text",
    "id": "wTE0Z3et2N82"
   },
   "source": [
    "#### Pre-process data"
   ]
  },
  {
   "cell_type": "code",
   "execution_count": 0,
   "metadata": {
    "colab": {},
    "colab_type": "code",
    "id": "0QH_sN8RiI_n"
   },
   "outputs": [],
   "source": [
    "import re\n",
    "\n",
    "def split_convert(word_inp): \n",
    "    return [ord(i) for i in word_inp] "
   ]
  },
  {
   "cell_type": "code",
   "execution_count": 0,
   "metadata": {
    "colab": {},
    "colab_type": "code",
    "id": "7oiAKv-SoLs1"
   },
   "outputs": [],
   "source": [
    "train_seqs = [split_convert(i) for i in dat_train.iloc[:,0]]\n",
    "train_labels = [i for i in dat_train.iloc[:,1]]\n",
    "test_seqs = [split_convert(i) for i in dat_test.iloc[:,0]]"
   ]
  },
  {
   "cell_type": "code",
   "execution_count": 0,
   "metadata": {
    "colab": {},
    "colab_type": "code",
    "id": "SfD9CYbP2cG1"
   },
   "outputs": [],
   "source": [
    "# binary encode\n",
    "onehot_encoder = OneHotEncoder(sparse=False)\n",
    "train_seqs_onehot = onehot_encoder.fit_transform(train_seqs)\n",
    "test_seqs_onehot = onehot_encoder.transform(test_seqs)"
   ]
  },
  {
   "cell_type": "markdown",
   "metadata": {
    "colab_type": "text",
    "id": "F_zRRJJ72q-K"
   },
   "source": [
    "#### Define Neural Network Architecture and Model"
   ]
  },
  {
   "cell_type": "code",
   "execution_count": 0,
   "metadata": {
    "colab": {},
    "colab_type": "code",
    "id": "vDJA5RrP1FgN"
   },
   "outputs": [],
   "source": [
    "# functions to determine metrics f1, precision and recall\n",
    "# taken from: https://datascience.stackexchange.com/questions/45165/how-to-get-accuracy-f1-precision-and-recall-for-a-keras-model\n",
    "\n",
    "def get_recall(y_true, y_pred):\n",
    "    true_positives = K.sum(K.round(K.clip(y_true * y_pred, 0, 1)))\n",
    "    possible_positives = K.sum(K.round(K.clip(y_true, 0, 1)))\n",
    "    recall = true_positives / (possible_positives + K.epsilon())\n",
    "    return recall\n",
    "\n",
    "def get_precision(y_true, y_pred):\n",
    "    true_positives = K.sum(K.round(K.clip(y_true * y_pred, 0, 1)))\n",
    "    predicted_positives = K.sum(K.round(K.clip(y_pred, 0, 1)))\n",
    "    precision = true_positives / (predicted_positives + K.epsilon())\n",
    "    return precision\n",
    "\n",
    "def get_f1(y_true, y_pred):\n",
    "    precision = get_precision(y_true, y_pred)\n",
    "    recall = get_recall(y_true, y_pred)\n",
    "    return 2*((precision*recall)/(precision+recall+K.epsilon()))"
   ]
  },
  {
   "cell_type": "code",
   "execution_count": 0,
   "metadata": {
    "colab": {},
    "colab_type": "code",
    "id": "NpI0G91aHgnH"
   },
   "outputs": [],
   "source": [
    "# determine class imbalance\n",
    "class_weights = class_weight.compute_class_weight('balanced', np.unique(train_labels), train_labels)\n",
    "class_weight_dict = dict(enumerate(class_weights))"
   ]
  },
  {
   "cell_type": "code",
   "execution_count": 0,
   "metadata": {
    "colab": {},
    "colab_type": "code",
    "id": "OUwlmVhLW07X"
   },
   "outputs": [],
   "source": [
    "# class_weight = {0:1, 1:12}\n",
    "NEPOCHS = 60  \n",
    "BATCHSIZE = 64\n",
    "VALIDATIONSPLIT = 0.2\n",
    "HIDDENSIZE = 80"
   ]
  },
  {
   "cell_type": "code",
   "execution_count": 0,
   "metadata": {
    "colab": {},
    "colab_type": "code",
    "id": "_MLkZ2kHyfqV"
   },
   "outputs": [],
   "source": [
    "# opt = SGD(lr=0.01, momentum=0.9)\n",
    "opt = 'adam'\n",
    "\n",
    "def create_model():\n",
    "  model = Sequential()\n",
    "  model.add(Dense(60, input_dim = 80, activation='relu', kernel_initializer= 'he_normal'))\n",
    "  model.add(Dense(1, input_dim = 60, activation='sigmoid'))\n",
    "\n",
    "  model.compile(optimizer=opt,\n",
    "                loss='binary_crossentropy',\n",
    " #               loss='mean_squared_error',\n",
    "                metrics=['accuracy'])\n",
    "\n",
    "  return model\n"
   ]
  },
  {
   "cell_type": "markdown",
   "metadata": {
    "colab_type": "text",
    "id": "USe8a-792wls"
   },
   "source": [
    "#### Model Selection / training"
   ]
  },
  {
   "cell_type": "code",
   "execution_count": 0,
   "metadata": {
    "colab": {},
    "colab_type": "code",
    "id": "lmVPZ0er052Q"
   },
   "outputs": [],
   "source": [
    "kfold_splits = 5\n",
    "folds = list(StratifiedKFold(n_splits=kfold_splits, shuffle=True, random_state=1).split(train_seqs, train_labels))"
   ]
  },
  {
   "cell_type": "code",
   "execution_count": 107,
   "metadata": {
    "colab": {
     "base_uri": "https://localhost:8080/",
     "height": 568
    },
    "colab_type": "code",
    "executionInfo": {
     "elapsed": 929457,
     "status": "ok",
     "timestamp": 1588675693473,
     "user": {
      "displayName": "Naomi Stricker",
      "photoUrl": "",
      "userId": "00066504149364385992"
     },
     "user_tz": -120
    },
    "id": "xd7SibE9ktB0",
    "outputId": "9f7fe24b-a555-482b-b6bb-d36aa36196db"
   },
   "outputs": [
    {
     "name": "stdout",
     "output_type": "stream",
     "text": [
      "Model: \"sequential_121\"\n",
      "_________________________________________________________________\n",
      "Layer (type)                 Output Shape              Param #   \n",
      "=================================================================\n",
      "dense_285 (Dense)            (None, 60)                4860      \n",
      "_________________________________________________________________\n",
      "dense_286 (Dense)            (None, 1)                 61        \n",
      "=================================================================\n",
      "Total params: 4,921\n",
      "Trainable params: 4,921\n",
      "Non-trainable params: 0\n",
      "_________________________________________________________________\n",
      "Training on fold 1/5...\n",
      "22400/22400 [==============================] - 3s 148us/step\n",
      "89600/89600 [==============================] - 4s 45us/step\n",
      "F1 score for this fold is :  0.8539915966386554 0.8850091887634549\n",
      "Training on fold 2/5...\n",
      "22400/22400 [==============================] - 3s 146us/step\n",
      "89600/89600 [==============================] - 4s 40us/step\n",
      "F1 score for this fold is :  0.817258883248731 0.8778645833333333\n",
      "Training on fold 3/5...\n",
      "22400/22400 [==============================] - 3s 144us/step\n",
      "89600/89600 [==============================] - 4s 40us/step\n",
      "F1 score for this fold is :  0.8545551411827383 0.8987983978638184\n",
      "Training on fold 4/5...\n",
      "22400/22400 [==============================] - 3s 148us/step\n",
      "89600/89600 [==============================] - 4s 40us/step\n",
      "F1 score for this fold is :  0.8443519000520562 0.8934252386002121\n",
      "Training on fold 5/5...\n",
      "22400/22400 [==============================] - 3s 151us/step\n",
      "89600/89600 [==============================] - 4s 41us/step\n",
      "F1 score for this fold is :  0.8568387440127727 0.9004676018704075\n"
     ]
    }
   ],
   "source": [
    "# Convert labels to categorical one-hot encoding\n",
    "#train_labels_onehot = keras.utils.to_categorical(train_labels, num_classes=2)\n",
    "\n",
    "mode_path = './models/mlp_v2.h5'\n",
    "\n",
    "model = None\n",
    "model = create_model()\n",
    "model.summary()\n",
    "\n",
    "best_fold = -1\n",
    "best_score = 0\n",
    "best_model = None\n",
    "\n",
    "for index, (train_indices, val_indices) in enumerate(folds):\n",
    "  print(\"Training on fold \" + str(index+1) + \"/5...\")\n",
    "  # Generate batches from indices\n",
    "  xtrain, xval = train_seqs_onehot[train_indices], train_seqs_onehot[val_indices]\n",
    "  #ytrain, yval = train_labels_onehot[train_indices], train_labels_onehot[val_indices]\n",
    "  ytrain = np.array(train_labels)[train_indices.astype(int)]\n",
    "  yval = np.array(train_labels)[val_indices.astype(int)]\n",
    "\n",
    "  # xtrain_onehot = onehot_encoder.transform(xtrain)\n",
    "  # xval_onehot = onehot_encoder.transform(xval)\n",
    "  # ytrain_onehot = keras.utils.to_categorical(y_train, num_classes=2)\n",
    "  # yval_onehot = keras.utils.to_categorical(y_val, num_classes=2)\n",
    "\n",
    "  model = None\n",
    "  model = create_model()\n",
    "\n",
    "  # class wight for the train set\n",
    "  class_weights = class_weight.compute_class_weight('balanced', np.unique(ytrain), ytrain)\n",
    "  class_weight_dict = dict(enumerate(class_weights))\n",
    "\n",
    "  # model.summary()\n",
    "  callbacks = [ModelCheckpoint(filepath=mode_path, save_best_only=True)]\n",
    "  model.fit(xtrain, ytrain, validation_data = (xval, yval), epochs = NEPOCHS, batch_size=BATCHSIZE, verbose = 0 ,\n",
    "            callbacks=callbacks, class_weight = class_weight_dict)  # starts training\n",
    "\n",
    "  # get the best fold based on the best f1 score\n",
    "  y_pred = model.predict_classes(xval, batch_size=BATCHSIZE, verbose=1)\n",
    "  y_train = model.predict_classes(xtrain, batch_size=BATCHSIZE, verbose=1)\n",
    "  # y_pred_bool = np.argmax(y_pred, axis=1)\n",
    "  y_pred_bool = y_pred.astype(int)\n",
    "  #tmp_score = metrics.f1_score(np.argmax(yval, axis=1),y_pred)\n",
    "  tmp_score = metrics.f1_score(yval,y_pred)\n",
    "  score_train = metrics.f1_score(ytrain,y_train)\n",
    "  print(\"F1 score for this fold is : \", tmp_score, score_train)\n",
    "  if(tmp_score > best_score):\n",
    "    best_fold = index\n",
    "    best_model = model\n"
   ]
  },
  {
   "cell_type": "code",
   "execution_count": 108,
   "metadata": {
    "colab": {
     "base_uri": "https://localhost:8080/",
     "height": 34
    },
    "colab_type": "code",
    "executionInfo": {
     "elapsed": 158740,
     "status": "ok",
     "timestamp": 1588675852697,
     "user": {
      "displayName": "Naomi Stricker",
      "photoUrl": "",
      "userId": "00066504149364385992"
     },
     "user_tz": -120
    },
    "id": "vi4NQFv1Bk_N",
    "outputId": "fdfbeeb1-fe69-479a-a69d-d1cd9b499d3f"
   },
   "outputs": [
    {
     "data": {
      "text/plain": [
       "<keras.callbacks.callbacks.History at 0x7fdcf5938470>"
      ]
     },
     "execution_count": 108,
     "metadata": {
      "tags": []
     },
     "output_type": "execute_result"
    }
   ],
   "source": [
    "# train model on entire data set\n",
    "# class wight for the train set\n",
    "class_weights = class_weight.compute_class_weight('balanced', np.unique(train_labels), train_labels)\n",
    "class_weight_dict = dict(enumerate(class_weights))\n",
    "\n",
    "# model.summary()\n",
    "callbacks = [ModelCheckpoint(filepath=mode_path, save_best_only=True)]\n",
    "model.fit(train_seqs_onehot,train_labels, validation_split=0.2, epochs = NEPOCHS, batch_size=BATCHSIZE, verbose = 0 ,\n",
    "            callbacks=callbacks, class_weight = class_weight_dict)  # starts training"
   ]
  },
  {
   "cell_type": "code",
   "execution_count": 109,
   "metadata": {
    "colab": {
     "base_uri": "https://localhost:8080/",
     "height": 189
    },
    "colab_type": "code",
    "executionInfo": {
     "elapsed": 4295,
     "status": "ok",
     "timestamp": 1588675856971,
     "user": {
      "displayName": "Naomi Stricker",
      "photoUrl": "",
      "userId": "00066504149364385992"
     },
     "user_tz": -120
    },
    "id": "7qR1ILk9sWm3",
    "outputId": "2630f7dd-0e63-4845-ddd9-8f6c7a156799"
   },
   "outputs": [
    {
     "name": "stdout",
     "output_type": "stream",
     "text": [
      "112000/112000 [==============================] - 4s 40us/step\n",
      "              precision    recall  f1-score   support\n",
      "\n",
      "           0       1.00      0.99      1.00    107787\n",
      "           1       0.88      0.99      0.93      4213\n",
      "\n",
      "    accuracy                           0.99    112000\n",
      "   macro avg       0.94      0.99      0.96    112000\n",
      "weighted avg       1.00      0.99      0.99    112000\n",
      "\n"
     ]
    }
   ],
   "source": [
    "# Training Error\n",
    "y_pred = model.predict_classes(train_seqs_onehot, batch_size=BATCHSIZE, verbose=1)\n",
    "y_pred_bool = np.argmax(y_pred, axis=1)\n",
    "\n",
    "print(classification_report(train_labels, y_pred))"
   ]
  },
  {
   "cell_type": "markdown",
   "metadata": {
    "colab_type": "text",
    "id": "V4wULYMI8woU"
   },
   "source": [
    "#### Prediction on test data"
   ]
  },
  {
   "cell_type": "code",
   "execution_count": 110,
   "metadata": {
    "colab": {
     "base_uri": "https://localhost:8080/",
     "height": 51
    },
    "colab_type": "code",
    "executionInfo": {
     "elapsed": 165369,
     "status": "ok",
     "timestamp": 1588675859361,
     "user": {
      "displayName": "Naomi Stricker",
      "photoUrl": "",
      "userId": "00066504149364385992"
     },
     "user_tz": -120
    },
    "id": "hUlOIEMzxP6p",
    "outputId": "bb7cc609-6cee-4413-aa4e-e70850f700f4"
   },
   "outputs": [
    {
     "name": "stdout",
     "output_type": "stream",
     "text": [
      "48000/48000 [==============================] - 2s 40us/step\n",
      "2080\n"
     ]
    }
   ],
   "source": [
    "y_pred = model.predict_classes(test_seqs_onehot, batch_size=BATCHSIZE,verbose = 1)\n",
    "# res = np.argmax(y_pred, axis=1)\n",
    "print(np.sum(y_pred))\n",
    "\n",
    "# res = pd.DataFrame(res)\n",
    "res = pd.DataFrame(y_pred)"
   ]
  },
  {
   "cell_type": "markdown",
   "metadata": {
    "colab_type": "text",
    "id": "OttnRkXZ8zil"
   },
   "source": [
    "#### Save results"
   ]
  },
  {
   "cell_type": "code",
   "execution_count": 0,
   "metadata": {
    "colab": {},
    "colab_type": "code",
    "id": "Ux7REfQX0Uhq"
   },
   "outputs": [],
   "source": [
    "res.to_csv(\"./prediction.csv\", index=False, header=False)"
   ]
  },
  {
   "cell_type": "code",
   "execution_count": 0,
   "metadata": {
    "colab": {},
    "colab_type": "code",
    "id": "Przd4rnpTGxB"
   },
   "outputs": [],
   "source": []
  }
 ],
 "metadata": {
  "colab": {
   "collapsed_sections": [
    "PZ4JK9FA1my-",
    "drNBDblM15cR",
    "wTE0Z3et2N82",
    "V4wULYMI8woU",
    "OttnRkXZ8zil"
   ],
   "name": "ns_IML_Task_3.ipynb",
   "provenance": []
  },
  "kernelspec": {
   "display_name": "Python 3",
   "language": "python",
   "name": "python3"
  },
  "language_info": {
   "codemirror_mode": {
    "name": "ipython",
    "version": 3
   },
   "file_extension": ".py",
   "mimetype": "text/x-python",
   "name": "python",
   "nbconvert_exporter": "python",
   "pygments_lexer": "ipython3",
   "version": "3.7.4"
  }
 },
 "nbformat": 4,
 "nbformat_minor": 1
}
