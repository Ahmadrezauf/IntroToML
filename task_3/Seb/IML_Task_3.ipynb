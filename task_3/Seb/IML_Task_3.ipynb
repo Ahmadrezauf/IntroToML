{
  "nbformat": 4,
  "nbformat_minor": 0,
  "metadata": {
    "colab": {
      "name": "IML_Task 3.ipynb",
      "provenance": [],
      "collapsed_sections": []
    },
    "kernelspec": {
      "name": "python3",
      "display_name": "Python 3"
    }
  },
  "cells": [
    {
      "cell_type": "markdown",
      "metadata": {
        "id": "j0ZvOZjQhVaf",
        "colab_type": "text"
      },
      "source": [
        "Testing google colab"
      ]
    },
    {
      "cell_type": "code",
      "metadata": {
        "id": "OLodKHnmhaFA",
        "colab_type": "code",
        "colab": {}
      },
      "source": [
        "import pandas as pd\n",
        "import numpy as np\n",
        "\n",
        "import pickle\n",
        "%tensorflow_version 1.x\n",
        "import tensorflow as tf\n",
        "from tensorflow.python.util import deprecation\n",
        "deprecation._PRINT_DEPRECATION_WARNINGS = False\n",
        "\n",
        "import keras"
      ],
      "execution_count": 0,
      "outputs": []
    },
    {
      "cell_type": "code",
      "metadata": {
        "id": "C7shaT-b1x4a",
        "colab_type": "code",
        "outputId": "6b822bf6-2d9e-4a6b-b360-a3557a3262e6",
        "colab": {
          "base_uri": "https://localhost:8080/",
          "height": 34
        }
      },
      "source": [
        "!if [ ! -f Archive.zip ]; then wget -nv https://drive.google.com/open?id=1g7aT8cMkFAFlk6wxkiEH3mgFVp2Xa1l9 -O Archive.zip; fi"
      ],
      "execution_count": 0,
      "outputs": [
        {
          "output_type": "stream",
          "text": [
            "2020-05-01 06:31:28 URL:https://drive.google.com/drive/folders/1g7aT8cMkFAFlk6wxkiEH3mgFVp2Xa1l9?usp=drive_open [192664] -> \"Archive.zip\" [1]\n"
          ],
          "name": "stdout"
        }
      ]
    },
    {
      "cell_type": "code",
      "metadata": {
        "id": "L4i-_fs24jYr",
        "colab_type": "code",
        "outputId": "0d296cb1-2d30-4803-f1f4-85d89dfa9f9d",
        "colab": {
          "base_uri": "https://localhost:8080/",
          "height": 34
        }
      },
      "source": [
        "import os\n",
        "os.getcwd()"
      ],
      "execution_count": 0,
      "outputs": [
        {
          "output_type": "execute_result",
          "data": {
            "text/plain": [
              "'/content'"
            ]
          },
          "metadata": {
            "tags": []
          },
          "execution_count": 3
        }
      ]
    },
    {
      "cell_type": "code",
      "metadata": {
        "id": "yQXuKcg4h71k",
        "colab_type": "code",
        "colab": {}
      },
      "source": [
        "dat_train = pd.read_csv(\"./Data/train.csv\")\n",
        "dat_test = pd.read_csv(\"./Data/test.csv\")"
      ],
      "execution_count": 0,
      "outputs": []
    },
    {
      "cell_type": "code",
      "metadata": {
        "id": "0QH_sN8RiI_n",
        "colab_type": "code",
        "outputId": "89f0feaa-09eb-4e12-c32b-715b53145ea4",
        "colab": {
          "base_uri": "https://localhost:8080/",
          "height": 34
        }
      },
      "source": [
        "import re\n",
        "\n",
        "def split_convert(word_inp): \n",
        "    return [ord(i) for i in word_inp] \n",
        "print(split_convert(\"hello\"))\n",
        "#tf.one_hot([1,2,3,4,5,1,2,4],  depth = 4)"
      ],
      "execution_count": 0,
      "outputs": [
        {
          "output_type": "stream",
          "text": [
            "[104, 101, 108, 108, 111]\n"
          ],
          "name": "stdout"
        }
      ]
    },
    {
      "cell_type": "code",
      "metadata": {
        "id": "7oiAKv-SoLs1",
        "colab_type": "code",
        "colab": {}
      },
      "source": [
        "train_seqs = [split_convert(i) for i in dat_train.iloc[:,0]]\n",
        "train_labels = [i for i in dat_train.iloc[:,1]]\n",
        "test_seqs = [split_convert(i) for i in dat_test.iloc[:,0]]"
      ],
      "execution_count": 0,
      "outputs": []
    },
    {
      "cell_type": "code",
      "metadata": {
        "id": "vDJA5RrP1FgN",
        "colab_type": "code",
        "colab": {}
      },
      "source": [
        "import keras.backend as K\n",
        "\n",
        "# taken from: https://datascience.stackexchange.com/questions/45165/how-to-get-accuracy-f1-precision-and-recall-for-a-keras-model\n",
        "\n",
        "def get_recall(y_true, y_pred):\n",
        "    true_positives = K.sum(K.round(K.clip(y_true * y_pred, 0, 1)))\n",
        "    possible_positives = K.sum(K.round(K.clip(y_true, 0, 1)))\n",
        "    recall = true_positives / (possible_positives + K.epsilon())\n",
        "    return recall\n",
        "\n",
        "def get_precision(y_true, y_pred):\n",
        "    true_positives = K.sum(K.round(K.clip(y_true * y_pred, 0, 1)))\n",
        "    predicted_positives = K.sum(K.round(K.clip(y_pred, 0, 1)))\n",
        "    precision = true_positives / (predicted_positives + K.epsilon())\n",
        "    return precision\n",
        "\n",
        "def get_f1(y_true, y_pred):\n",
        "    precision = get_precision(y_true, y_pred)\n",
        "    recall = get_recall(y_true, y_pred)\n",
        "    return 2*((precision*recall)/(precision+recall+K.epsilon()))\n",
        "\n"
      ],
      "execution_count": 0,
      "outputs": []
    },
    {
      "cell_type": "code",
      "metadata": {
        "id": "OUwlmVhLW07X",
        "colab_type": "code",
        "colab": {}
      },
      "source": [
        "class_weight = {0:1, 1:20}\n",
        "NEPOCHS = 60    \n",
        "BATCHSIZE = 32\n",
        "VALIDATIONSPLIT = 0.2\n",
        "HIDDENSIZE = 80"
      ],
      "execution_count": 0,
      "outputs": []
    },
    {
      "cell_type": "code",
      "metadata": {
        "id": "_MLkZ2kHyfqV",
        "colab_type": "code",
        "colab": {}
      },
      "source": [
        "from keras import Sequential\n",
        "from keras.layers import Dense, Dropout\n",
        "from keras.layers import BatchNormalization\n",
        "from keras.callbacks import Callback,ModelCheckpoint\n",
        "\n",
        "def create_model():\n",
        "  model = Sequential()\n",
        "  model.add(Dense(HIDDENSIZE, input_dim = 80, activation='relu'))\n",
        "  model.add(Dense(HIDDENSIZE, input_dim = HIDDENSIZE, activation='relu'))\n",
        "  # model.add(Dense(HIDDENSIZE, input_dim = HIDDENSIZE, activation='relu'))\n",
        "  # model.add(Dense(HIDDENSIZE, input_dim = HIDDENSIZE, activation='relu'))\n",
        "  model.add(BatchNormalization(momentum=0.8))\n",
        "  model.add(Dropout(0.5))\n",
        "\n",
        "  model.add(Dense(HIDDENSIZE, input_dim = HIDDENSIZE, activation='relu'))\n",
        "  model.add(Dense(HIDDENSIZE, input_dim = HIDDENSIZE, activation='relu'))\n",
        "  # model.add(Dense(HIDDENSIZE, input_dim = HIDDENSIZE, activation='relu'))\n",
        "  # model.add(Dense(HIDDENSIZE, input_dim = HIDDENSIZE, activation='relu'))\n",
        "  model.add(BatchNormalization(momentum=0.8))\n",
        "  model.add(Dropout(0.5))\n",
        "\n",
        "  model.add(Dense(HIDDENSIZE, input_dim = HIDDENSIZE, activation='relu'))\n",
        "  model.add(Dense(HIDDENSIZE, input_dim = HIDDENSIZE, activation='relu'))\n",
        "  # model.add(Dense(HIDDENSIZE, input_dim = HIDDENSIZE, activation='relu'))\n",
        "  # model.add(Dense(HIDDENSIZE, input_dim = HIDDENSIZE, activation='relu'))\n",
        "  model.add(Dropout(0.5))\n",
        "  model.add(BatchNormalization(momentum=0.8))\n",
        "\n",
        "  model.add(Dense(2, input_dim = HIDDENSIZE, activation='softmax'))\n",
        "\n",
        "  model.compile(optimizer='rmsprop',\n",
        "                loss='binary_crossentropy',\n",
        "                metrics=[get_f1, get_recall])\n",
        "  return model\n"
      ],
      "execution_count": 0,
      "outputs": []
    },
    {
      "cell_type": "code",
      "metadata": {
        "id": "lmVPZ0er052Q",
        "colab_type": "code",
        "colab": {}
      },
      "source": [
        "from sklearn.preprocessing import OneHotEncoder\n",
        "from sklearn.model_selection import StratifiedKFold\n",
        "\n",
        "kfold_splits = 5\n",
        "folds = list(StratifiedKFold(n_splits=kfold_splits, shuffle=True, random_state=1).split(train_seqs, train_labels))\n",
        "\n",
        "# binary encode\n",
        "onehot_encoder = OneHotEncoder(sparse=False)\n",
        "train_seqs_onehot = onehot_encoder.fit_transform(train_seqs)\n",
        "test_seqs_onehot = onehot_encoder.transform(test_seqs)"
      ],
      "execution_count": 0,
      "outputs": []
    },
    {
      "cell_type": "code",
      "metadata": {
        "id": "xd7SibE9ktB0",
        "colab_type": "code",
        "outputId": "fc2c3e05-ce90-45f6-ba39-141180e7cbf4",
        "colab": {
          "base_uri": "https://localhost:8080/",
          "height": 850
        }
      },
      "source": [
        "from sklearn import metrics\n",
        "\n",
        "# Convert labels to categorical one-hot encoding\n",
        "train_labels_onehot = keras.utils.to_categorical(train_labels, num_classes=2)\n",
        "\n",
        "mode_path = './models/mlp_v2.h5'\n",
        "\n",
        "model = None\n",
        "model = create_model()\n",
        "model.summary()\n",
        "\n",
        "best_fold = -1\n",
        "best_score = 0\n",
        "best_model = None\n",
        "\n",
        "for index, (train_indices, val_indices) in enumerate(folds):\n",
        "  print(\"Training on fold \" + str(index+1) + \"/5...\")\n",
        "  # Generate batches from indices\n",
        "  xtrain, xval = train_seqs_onehot[train_indices], train_seqs_onehot[val_indices]\n",
        "  ytrain, yval = train_labels_onehot[train_indices], train_labels_onehot[val_indices]\n",
        "\n",
        "  # xtrain_onehot = onehot_encoder.transform(xtrain)\n",
        "  # xval_onehot = onehot_encoder.transform(xval)\n",
        "  # ytrain_onehot = keras.utils.to_categorical(y_train, num_classes=2)\n",
        "  # yval_onehot = keras.utils.to_categorical(y_val, num_classes=2)\n",
        "\n",
        "  model = None\n",
        "  model = create_model()\n",
        "\n",
        "  # model.summary()\n",
        "  callbacks = [ModelCheckpoint(filepath=mode_path, save_best_only=True)]\n",
        "  model.fit(xtrain, ytrain, validation_data = (xval, yval), epochs = NEPOCHS, batch_size=BATCHSIZE, verbose = 0 ,\n",
        "            callbacks=callbacks, class_weight = class_weight)  # starts training\n",
        "\n",
        "  # get the best fold based on the best f1 score\n",
        "  y_pred = model.predict(xval, batch_size=BATCHSIZE, verbose=1)\n",
        "  y_pred_bool = np.argmax(y_pred, axis=1)\n",
        "  tmp_score = metrics.f1_score(np.argmax(yval, axis=1),y_pred_bool)\n",
        "  print(\"F1 score for this fold is : \", tmp_score)\n",
        "  if(tmp_score > best_score):\n",
        "    best_fold = index\n",
        "    best_model = model\n"
      ],
      "execution_count": 0,
      "outputs": [
        {
          "output_type": "stream",
          "text": [
            "Model: \"sequential_55\"\n",
            "_________________________________________________________________\n",
            "Layer (type)                 Output Shape              Param #   \n",
            "=================================================================\n",
            "dense_613 (Dense)            (None, 80)                6480      \n",
            "_________________________________________________________________\n",
            "dense_614 (Dense)            (None, 80)                6480      \n",
            "_________________________________________________________________\n",
            "batch_normalization_163 (Bat (None, 80)                320       \n",
            "_________________________________________________________________\n",
            "dropout_163 (Dropout)        (None, 80)                0         \n",
            "_________________________________________________________________\n",
            "dense_615 (Dense)            (None, 80)                6480      \n",
            "_________________________________________________________________\n",
            "dense_616 (Dense)            (None, 80)                6480      \n",
            "_________________________________________________________________\n",
            "batch_normalization_164 (Bat (None, 80)                320       \n",
            "_________________________________________________________________\n",
            "dropout_164 (Dropout)        (None, 80)                0         \n",
            "_________________________________________________________________\n",
            "dense_617 (Dense)            (None, 80)                6480      \n",
            "_________________________________________________________________\n",
            "dense_618 (Dense)            (None, 80)                6480      \n",
            "_________________________________________________________________\n",
            "dropout_165 (Dropout)        (None, 80)                0         \n",
            "_________________________________________________________________\n",
            "batch_normalization_165 (Bat (None, 80)                320       \n",
            "_________________________________________________________________\n",
            "dense_619 (Dense)            (None, 2)                 162       \n",
            "=================================================================\n",
            "Total params: 40,002\n",
            "Trainable params: 39,522\n",
            "Non-trainable params: 480\n",
            "_________________________________________________________________\n",
            "Training on fold 1/5...\n",
            "22400/22400 [==============================] - 8s 351us/step\n",
            "F1 score for this fold is :  0.7248995983935743\n",
            "Training on fold 2/5...\n",
            "22400/22400 [==============================] - 8s 350us/step\n",
            "F1 score for this fold is :  0.7160722556739232\n",
            "Training on fold 3/5...\n",
            "22400/22400 [==============================] - 8s 369us/step\n",
            "F1 score for this fold is :  0.7889713679745494\n",
            "Training on fold 4/5...\n",
            "22400/22400 [==============================] - 8s 378us/step\n",
            "F1 score for this fold is :  0.6453162530024019\n",
            "Training on fold 5/5...\n",
            "22400/22400 [==============================] - 9s 382us/step\n",
            "F1 score for this fold is :  0.6966390222610213\n"
          ],
          "name": "stdout"
        }
      ]
    },
    {
      "cell_type": "code",
      "metadata": {
        "id": "7qR1ILk9sWm3",
        "colab_type": "code",
        "outputId": "81857486-a2dd-4dfe-8daf-753c0b875937",
        "colab": {
          "base_uri": "https://localhost:8080/",
          "height": 187
        }
      },
      "source": [
        "# Training Error\n",
        "from sklearn.metrics import classification_report\n",
        "\n",
        "y_pred = best_model.predict(train_seqs_onehot, batch_size=BATCHSIZE, verbose=1)\n",
        "y_pred_bool = np.argmax(y_pred, axis=1)\n",
        "\n",
        "print(classification_report(train_labels, y_pred_bool))"
      ],
      "execution_count": 0,
      "outputs": [
        {
          "output_type": "stream",
          "text": [
            "112000/112000 [==============================] - 13s 116us/step\n",
            "              precision    recall  f1-score   support\n",
            "\n",
            "           0       1.00      0.97      0.99    107787\n",
            "           1       0.58      0.93      0.71      4213\n",
            "\n",
            "    accuracy                           0.97    112000\n",
            "   macro avg       0.79      0.95      0.85    112000\n",
            "weighted avg       0.98      0.97      0.98    112000\n",
            "\n"
          ],
          "name": "stdout"
        }
      ]
    },
    {
      "cell_type": "code",
      "metadata": {
        "id": "hUlOIEMzxP6p",
        "colab_type": "code",
        "outputId": "7ffdd24a-6d7c-4643-f388-85c6594dbf2b",
        "colab": {
          "base_uri": "https://localhost:8080/",
          "height": 51
        }
      },
      "source": [
        "y_pred = best_model.predict(test_seqs_onehot, batch_size=BATCHSIZE,verbose = 1)\n",
        "res = np.argmax(y_pred, axis=1)\n",
        "print(np.sum(res))\n",
        "\n",
        "res = pd.DataFrame(res)"
      ],
      "execution_count": 0,
      "outputs": [
        {
          "output_type": "stream",
          "text": [
            "48000/48000 [==============================] - 2s 47us/step\n",
            "2187\n"
          ],
          "name": "stdout"
        }
      ]
    },
    {
      "cell_type": "code",
      "metadata": {
        "id": "Ux7REfQX0Uhq",
        "colab_type": "code",
        "colab": {}
      },
      "source": [
        "res.to_csv(\"./prediction.csv\", index=False, header=False)"
      ],
      "execution_count": 0,
      "outputs": []
    }
  ]
}