{
 "cells": [
  {
   "cell_type": "markdown",
   "metadata": {
    "colab_type": "text",
    "id": "j0ZvOZjQhVaf"
   },
   "source": [
    "# Neural Networks to predict protein activation"
   ]
  },
  {
   "cell_type": "markdown",
   "metadata": {
    "colab_type": "text",
    "id": "zVSZM-Ldyo_b"
   },
   "source": [
    "### Improvement ideas\n",
    "* Look at one hot key encoding, are we dropping one of the 21 features? do we need to do so?\n",
    "* One vector with four 1s, we might be loosing information\n",
    "* Number of epochs\n",
    "* batch size\n",
    "* Neural Network (number of layers, where to put drop out layer, activations)\n",
    "* Optimizer, loss function for f1"
   ]
  },
  {
   "cell_type": "markdown",
   "metadata": {
    "colab_type": "text",
    "id": "PZ4JK9FA1my-"
   },
   "source": [
    "#### Set up the directories, load libraries"
   ]
  },
  {
   "cell_type": "code",
   "execution_count": 0,
   "metadata": {
    "colab": {},
    "colab_type": "code",
    "id": "OLodKHnmhaFA"
   },
   "outputs": [],
   "source": [
    "import pandas as pd\n",
    "import numpy as np\n",
    "\n",
    "import pickle\n",
    "%tensorflow_version 1.x\n",
    "import tensorflow as tf\n",
    "from tensorflow.python.util import deprecation\n",
    "deprecation._PRINT_DEPRECATION_WARNINGS = False\n",
    "\n",
    "import keras\n",
    "import keras.backend as K\n",
    "from keras import Sequential\n",
    "from keras.layers import Dense, Dropout\n",
    "from keras.layers import BatchNormalization\n",
    "from keras import regularizers\n",
    "from keras.constraints import unit_norm\n",
    "from keras.optimizers import SGD\n",
    "from keras.callbacks import Callback,ModelCheckpoint, EarlyStopping\n",
    "\n",
    "from sklearn.preprocessing import OneHotEncoder\n",
    "from sklearn.model_selection import StratifiedKFold\n",
    "from sklearn import metrics\n",
    "from sklearn.metrics import classification_report\n",
    "from sklearn.utils import class_weight\n",
    "from sklearn.preprocessing import LabelEncoder"
   ]
  },
  {
   "cell_type": "code",
   "execution_count": 0,
   "metadata": {
    "colab": {},
    "colab_type": "code",
    "id": "C7shaT-b1x4a"
   },
   "outputs": [],
   "source": [
    "#!if [ ! -f Archive.zip ]; then wget -nv https://drive.google.com/open?id=1g7aT8cMkFAFlk6wxkiEH3mgFVp2Xa1l9 -O Archive.zip; fi"
   ]
  },
  {
   "cell_type": "code",
   "execution_count": 4,
   "metadata": {
    "colab": {
     "base_uri": "https://localhost:8080/",
     "height": 140
    },
    "colab_type": "code",
    "executionInfo": {
     "elapsed": 40509,
     "status": "ok",
     "timestamp": 1588786128699,
     "user": {
      "displayName": "Naomi Stricker",
      "photoUrl": "",
      "userId": "00066504149364385992"
     },
     "user_tz": -120
    },
    "id": "cBkOnoh0pLVo",
    "outputId": "e4b70f95-40ca-4f7f-c65c-78d57352679a"
   },
   "outputs": [
    {
     "name": "stdout",
     "output_type": "stream",
     "text": [
      "Go to this URL in a browser: https://accounts.google.com/o/oauth2/auth?client_id=947318989803-6bn6qk8qdgf4n4g3pfee6491hc0brc4i.apps.googleusercontent.com&redirect_uri=urn%3aietf%3awg%3aoauth%3a2.0%3aoob&response_type=code&scope=email%20https%3a%2f%2fwww.googleapis.com%2fauth%2fdocs.test%20https%3a%2f%2fwww.googleapis.com%2fauth%2fdrive%20https%3a%2f%2fwww.googleapis.com%2fauth%2fdrive.photos.readonly%20https%3a%2f%2fwww.googleapis.com%2fauth%2fpeopleapi.readonly\n",
      "\n",
      "Enter your authorization code:\n",
      "··········\n",
      "Mounted at /content/drive\n"
     ]
    },
    {
     "data": {
      "text/plain": [
       "'/content/drive/My Drive/IML/IML_Projects/task_3'"
      ]
     },
     "execution_count": 4,
     "metadata": {
      "tags": []
     },
     "output_type": "execute_result"
    }
   ],
   "source": [
    "from google.colab import drive\n",
    "drive.mount('/content/drive', force_remount= True)\n",
    "import os\n",
    "os.chdir(\"/content/drive/My Drive/IML/IML_Projects/task_3\")\n",
    "os.getcwd()"
   ]
  },
  {
   "cell_type": "code",
   "execution_count": 5,
   "metadata": {
    "colab": {
     "base_uri": "https://localhost:8080/",
     "height": 34
    },
    "colab_type": "code",
    "executionInfo": {
     "elapsed": 40485,
     "status": "ok",
     "timestamp": 1588786128704,
     "user": {
      "displayName": "Naomi Stricker",
      "photoUrl": "",
      "userId": "00066504149364385992"
     },
     "user_tz": -120
    },
    "id": "L4i-_fs24jYr",
    "outputId": "c1f60bae-7f7d-456c-b186-f255b8597609"
   },
   "outputs": [
    {
     "data": {
      "text/plain": [
       "'/content/drive/My Drive/IML/IML_Projects/task_3'"
      ]
     },
     "execution_count": 5,
     "metadata": {
      "tags": []
     },
     "output_type": "execute_result"
    }
   ],
   "source": [
    "import os\n",
    "os.getcwd()"
   ]
  },
  {
   "cell_type": "code",
   "execution_count": 6,
   "metadata": {
    "colab": {
     "base_uri": "https://localhost:8080/",
     "height": 51
    },
    "colab_type": "code",
    "executionInfo": {
     "elapsed": 42324,
     "status": "ok",
     "timestamp": 1588786130574,
     "user": {
      "displayName": "Naomi Stricker",
      "photoUrl": "",
      "userId": "00066504149364385992"
     },
     "user_tz": -120
    },
    "id": "cLfAjJV7ouEd",
    "outputId": "66d316b6-3e50-4bae-b7a3-e07584005d23"
   },
   "outputs": [
    {
     "name": "stdout",
     "output_type": "stream",
     "text": [
      " Data\t\t models\t\t      'on the server'\n",
      " iml_task_3.py\t ns_IML_Task_3.ipynb   prediction.csv\n"
     ]
    }
   ],
   "source": [
    "! ls"
   ]
  },
  {
   "cell_type": "markdown",
   "metadata": {
    "colab_type": "text",
    "id": "drNBDblM15cR"
   },
   "source": [
    "#### Load data & data inspection"
   ]
  },
  {
   "cell_type": "code",
   "execution_count": 0,
   "metadata": {
    "colab": {},
    "colab_type": "code",
    "id": "yQXuKcg4h71k"
   },
   "outputs": [],
   "source": [
    "dat_train = pd.read_csv(\"./Data/train.csv\")\n",
    "dat_test = pd.read_csv(\"./Data/test.csv\")"
   ]
  },
  {
   "cell_type": "code",
   "execution_count": 8,
   "metadata": {
    "colab": {
     "base_uri": "https://localhost:8080/",
     "height": 69
    },
    "colab_type": "code",
    "executionInfo": {
     "elapsed": 43231,
     "status": "ok",
     "timestamp": 1588786131511,
     "user": {
      "displayName": "Naomi Stricker",
      "photoUrl": "",
      "userId": "00066504149364385992"
     },
     "user_tz": -120
    },
    "id": "dgASSA0s-eT9",
    "outputId": "1d194937-d9ff-436e-952b-c1e4a052369a"
   },
   "outputs": [
    {
     "data": {
      "text/plain": [
       "0    107787\n",
       "1      4213\n",
       "Name: Active, dtype: int64"
      ]
     },
     "execution_count": 8,
     "metadata": {
      "tags": []
     },
     "output_type": "execute_result"
    }
   ],
   "source": [
    "# check class balance on activation\n",
    "dat_train['Active'].value_counts()"
   ]
  },
  {
   "cell_type": "markdown",
   "metadata": {
    "colab_type": "text",
    "id": "wTE0Z3et2N82"
   },
   "source": [
    "#### Pre-process data"
   ]
  },
  {
   "cell_type": "code",
   "execution_count": 0,
   "metadata": {
    "colab": {},
    "colab_type": "code",
    "id": "0QH_sN8RiI_n"
   },
   "outputs": [],
   "source": [
    "import re\n",
    "\n",
    "def split_convert(word_inp): \n",
    "    return [ord(i) for i in word_inp] "
   ]
  },
  {
   "cell_type": "code",
   "execution_count": 0,
   "metadata": {
    "colab": {},
    "colab_type": "code",
    "id": "7oiAKv-SoLs1"
   },
   "outputs": [],
   "source": [
    "train_seqs = [split_convert(i) for i in dat_train.iloc[:,0]]\n",
    "train_labels = [i for i in dat_train.iloc[:,1]]\n",
    "test_seqs = [split_convert(i) for i in dat_test.iloc[:,0]]"
   ]
  },
  {
   "cell_type": "code",
   "execution_count": 0,
   "metadata": {
    "colab": {},
    "colab_type": "code",
    "id": "SfD9CYbP2cG1"
   },
   "outputs": [],
   "source": [
    "# binary encode\n",
    "onehot_encoder = OneHotEncoder(sparse=False)\n",
    "train_seqs_onehot = onehot_encoder.fit_transform(train_seqs)\n",
    "test_seqs_onehot = onehot_encoder.transform(test_seqs)"
   ]
  },
  {
   "cell_type": "markdown",
   "metadata": {
    "colab_type": "text",
    "id": "F_zRRJJ72q-K"
   },
   "source": [
    "#### Define Neural Network Architecture and Model"
   ]
  },
  {
   "cell_type": "code",
   "execution_count": 0,
   "metadata": {
    "colab": {},
    "colab_type": "code",
    "id": "vDJA5RrP1FgN"
   },
   "outputs": [],
   "source": [
    "# functions to determine metrics f1, precision and recall\n",
    "# taken from: https://datascience.stackexchange.com/questions/45165/how-to-get-accuracy-f1-precision-and-recall-for-a-keras-model\n",
    "\n",
    "def get_recall(y_true, y_pred):\n",
    "    true_positives = K.sum(K.round(K.clip(y_true * y_pred, 0, 1)))\n",
    "    possible_positives = K.sum(K.round(K.clip(y_true, 0, 1)))\n",
    "    recall = true_positives / (possible_positives + K.epsilon())\n",
    "    return recall\n",
    "\n",
    "def get_precision(y_true, y_pred):\n",
    "    true_positives = K.sum(K.round(K.clip(y_true * y_pred, 0, 1)))\n",
    "    predicted_positives = K.sum(K.round(K.clip(y_pred, 0, 1)))\n",
    "    precision = true_positives / (predicted_positives + K.epsilon())\n",
    "    return precision\n",
    "\n",
    "def get_f1(y_true, y_pred):\n",
    "    precision = get_precision(y_true, y_pred)\n",
    "    recall = get_recall(y_true, y_pred)\n",
    "    return 2*((precision*recall)/(precision+recall+K.epsilon()))"
   ]
  },
  {
   "cell_type": "code",
   "execution_count": 0,
   "metadata": {
    "colab": {},
    "colab_type": "code",
    "id": "NpI0G91aHgnH"
   },
   "outputs": [],
   "source": [
    "# determine class imbalance\n",
    "class_weights = class_weight.compute_class_weight('balanced', np.unique(train_labels), train_labels)\n",
    "class_weight_dict = dict(enumerate(class_weights))"
   ]
  },
  {
   "cell_type": "code",
   "execution_count": 0,
   "metadata": {
    "colab": {},
    "colab_type": "code",
    "id": "OUwlmVhLW07X"
   },
   "outputs": [],
   "source": [
    "# class_weight = {0:1, 1:12}\n",
    "NEPOCHS = 60\n",
    "BATCHSIZE = 64\n",
    "VALIDATIONSPLIT = 0.2\n",
    "HIDDENSIZE = 80"
   ]
  },
  {
   "cell_type": "code",
   "execution_count": 0,
   "metadata": {
    "colab": {},
    "colab_type": "code",
    "id": "_MLkZ2kHyfqV"
   },
   "outputs": [],
   "source": [
    "# opt = SGD(lr=0.01, momentum=0.8)\n",
    "opt = 'adam'\n",
    "reg_param = 0.001\n",
    "dropout_param = 0.1\n",
    "\n",
    "def create_model():\n",
    "  model = Sequential()\n",
    "  model.add(Dense(HIDDENSIZE, input_dim = 80, activation='relu', activity_regularizer = keras.regularizers.l2(reg_param)))\n",
    "  model.add(Dense(40, input_dim = 80, activation= 'relu', activity_regularizer = keras.regularizers.l2(reg_param)))\n",
    "  model.add(Dense(1, input_dim = 40, activation='sigmoid', activity_regularizer = keras.regularizers.l2(reg_param)))\n",
    "\n",
    "  model.compile(optimizer=opt,\n",
    "                loss='binary_crossentropy',\n",
    " #               loss='mean_squared_error',\n",
    "                metrics=['accuracy'])\n",
    "\n",
    "  return model\n"
   ]
  },
  {
   "cell_type": "markdown",
   "metadata": {
    "colab_type": "text",
    "id": "USe8a-792wls"
   },
   "source": [
    "#### Model Selection / training"
   ]
  },
  {
   "cell_type": "code",
   "execution_count": 0,
   "metadata": {
    "colab": {},
    "colab_type": "code",
    "id": "lmVPZ0er052Q"
   },
   "outputs": [],
   "source": [
    "kfold_splits = 5\n",
    "folds = list(StratifiedKFold(n_splits=kfold_splits, shuffle=True, random_state=1).split(train_seqs, train_labels))"
   ]
  },
  {
   "cell_type": "code",
   "execution_count": 50,
   "metadata": {
    "colab": {
     "base_uri": "https://localhost:8080/",
     "height": 395
    },
    "colab_type": "code",
    "executionInfo": {
     "elapsed": 644808,
     "status": "error",
     "timestamp": 1588797022553,
     "user": {
      "displayName": "Naomi Stricker",
      "photoUrl": "",
      "userId": "00066504149364385992"
     },
     "user_tz": -120
    },
    "id": "xd7SibE9ktB0",
    "outputId": "33781861-b7de-45df-e9c3-6d9dc0d8258f"
   },
   "outputs": [
    {
     "name": "stdout",
     "output_type": "stream",
     "text": [
      "Training on fold 1/5...\n"
     ]
    },
    {
     "ename": "KeyboardInterrupt",
     "evalue": "ignored",
     "output_type": "error",
     "traceback": [
      "\u001b[0;31m---------------------------------------------------------------------------\u001b[0m",
      "\u001b[0;31mKeyboardInterrupt\u001b[0m                         Traceback (most recent call last)",
      "\u001b[0;32m<ipython-input-50-93cc66509fe5>\u001b[0m in \u001b[0;36m<module>\u001b[0;34m()\u001b[0m\n\u001b[1;32m     30\u001b[0m   \u001b[0mcallbacks\u001b[0m \u001b[0;34m=\u001b[0m \u001b[0;34m[\u001b[0m\u001b[0mModelCheckpoint\u001b[0m\u001b[0;34m(\u001b[0m\u001b[0mfilepath\u001b[0m\u001b[0;34m=\u001b[0m\u001b[0mmode_path\u001b[0m\u001b[0;34m,\u001b[0m \u001b[0msave_best_only\u001b[0m\u001b[0;34m=\u001b[0m\u001b[0;32mTrue\u001b[0m\u001b[0;34m)\u001b[0m\u001b[0;34m]\u001b[0m\u001b[0;34m\u001b[0m\u001b[0;34m\u001b[0m\u001b[0m\n\u001b[1;32m     31\u001b[0m   model.fit(xtrain, ytrain, validation_data = (xval, yval), epochs = NEPOCHS, batch_size=BATCHSIZE, verbose = 0 ,\n\u001b[0;32m---> 32\u001b[0;31m             callbacks=callbacks, class_weight = class_weight_dict)  # starts training\n\u001b[0m\u001b[1;32m     33\u001b[0m \u001b[0;34m\u001b[0m\u001b[0m\n\u001b[1;32m     34\u001b[0m   \u001b[0;31m# get the best fold based on the best f1 score\u001b[0m\u001b[0;34m\u001b[0m\u001b[0;34m\u001b[0m\u001b[0;34m\u001b[0m\u001b[0m\n",
      "\u001b[0;32m/usr/local/lib/python3.6/dist-packages/keras/engine/training.py\u001b[0m in \u001b[0;36mfit\u001b[0;34m(self, x, y, batch_size, epochs, verbose, callbacks, validation_split, validation_data, shuffle, class_weight, sample_weight, initial_epoch, steps_per_epoch, validation_steps, validation_freq, max_queue_size, workers, use_multiprocessing, **kwargs)\u001b[0m\n\u001b[1;32m   1237\u001b[0m                                         \u001b[0msteps_per_epoch\u001b[0m\u001b[0;34m=\u001b[0m\u001b[0msteps_per_epoch\u001b[0m\u001b[0;34m,\u001b[0m\u001b[0;34m\u001b[0m\u001b[0;34m\u001b[0m\u001b[0m\n\u001b[1;32m   1238\u001b[0m                                         \u001b[0mvalidation_steps\u001b[0m\u001b[0;34m=\u001b[0m\u001b[0mvalidation_steps\u001b[0m\u001b[0;34m,\u001b[0m\u001b[0;34m\u001b[0m\u001b[0;34m\u001b[0m\u001b[0m\n\u001b[0;32m-> 1239\u001b[0;31m                                         validation_freq=validation_freq)\n\u001b[0m\u001b[1;32m   1240\u001b[0m \u001b[0;34m\u001b[0m\u001b[0m\n\u001b[1;32m   1241\u001b[0m     def evaluate(self,\n",
      "\u001b[0;32m/usr/local/lib/python3.6/dist-packages/keras/engine/training_arrays.py\u001b[0m in \u001b[0;36mfit_loop\u001b[0;34m(model, fit_function, fit_inputs, out_labels, batch_size, epochs, verbose, callbacks, val_function, val_inputs, shuffle, initial_epoch, steps_per_epoch, validation_steps, validation_freq)\u001b[0m\n\u001b[1;32m    194\u001b[0m                     \u001b[0mins_batch\u001b[0m\u001b[0;34m[\u001b[0m\u001b[0mi\u001b[0m\u001b[0;34m]\u001b[0m \u001b[0;34m=\u001b[0m \u001b[0mins_batch\u001b[0m\u001b[0;34m[\u001b[0m\u001b[0mi\u001b[0m\u001b[0;34m]\u001b[0m\u001b[0;34m.\u001b[0m\u001b[0mtoarray\u001b[0m\u001b[0;34m(\u001b[0m\u001b[0;34m)\u001b[0m\u001b[0;34m\u001b[0m\u001b[0;34m\u001b[0m\u001b[0m\n\u001b[1;32m    195\u001b[0m \u001b[0;34m\u001b[0m\u001b[0m\n\u001b[0;32m--> 196\u001b[0;31m                 \u001b[0mouts\u001b[0m \u001b[0;34m=\u001b[0m \u001b[0mfit_function\u001b[0m\u001b[0;34m(\u001b[0m\u001b[0mins_batch\u001b[0m\u001b[0;34m)\u001b[0m\u001b[0;34m\u001b[0m\u001b[0;34m\u001b[0m\u001b[0m\n\u001b[0m\u001b[1;32m    197\u001b[0m                 \u001b[0mouts\u001b[0m \u001b[0;34m=\u001b[0m \u001b[0mto_list\u001b[0m\u001b[0;34m(\u001b[0m\u001b[0mouts\u001b[0m\u001b[0;34m)\u001b[0m\u001b[0;34m\u001b[0m\u001b[0;34m\u001b[0m\u001b[0m\n\u001b[1;32m    198\u001b[0m                 \u001b[0;32mfor\u001b[0m \u001b[0ml\u001b[0m\u001b[0;34m,\u001b[0m \u001b[0mo\u001b[0m \u001b[0;32min\u001b[0m \u001b[0mzip\u001b[0m\u001b[0;34m(\u001b[0m\u001b[0mout_labels\u001b[0m\u001b[0;34m,\u001b[0m \u001b[0mouts\u001b[0m\u001b[0;34m)\u001b[0m\u001b[0;34m:\u001b[0m\u001b[0;34m\u001b[0m\u001b[0;34m\u001b[0m\u001b[0m\n",
      "\u001b[0;32m/tensorflow-1.15.2/python3.6/tensorflow_core/python/keras/backend.py\u001b[0m in \u001b[0;36m__call__\u001b[0;34m(self, inputs)\u001b[0m\n\u001b[1;32m   3474\u001b[0m \u001b[0;34m\u001b[0m\u001b[0m\n\u001b[1;32m   3475\u001b[0m     fetched = self._callable_fn(*array_vals,\n\u001b[0;32m-> 3476\u001b[0;31m                                 run_metadata=self.run_metadata)\n\u001b[0m\u001b[1;32m   3477\u001b[0m     \u001b[0mself\u001b[0m\u001b[0;34m.\u001b[0m\u001b[0m_call_fetch_callbacks\u001b[0m\u001b[0;34m(\u001b[0m\u001b[0mfetched\u001b[0m\u001b[0;34m[\u001b[0m\u001b[0;34m-\u001b[0m\u001b[0mlen\u001b[0m\u001b[0;34m(\u001b[0m\u001b[0mself\u001b[0m\u001b[0;34m.\u001b[0m\u001b[0m_fetches\u001b[0m\u001b[0;34m)\u001b[0m\u001b[0;34m:\u001b[0m\u001b[0;34m]\u001b[0m\u001b[0;34m)\u001b[0m\u001b[0;34m\u001b[0m\u001b[0;34m\u001b[0m\u001b[0m\n\u001b[1;32m   3478\u001b[0m     output_structure = nest.pack_sequence_as(\n",
      "\u001b[0;32m/tensorflow-1.15.2/python3.6/tensorflow_core/python/client/session.py\u001b[0m in \u001b[0;36m__call__\u001b[0;34m(self, *args, **kwargs)\u001b[0m\n\u001b[1;32m   1470\u001b[0m         ret = tf_session.TF_SessionRunCallable(self._session._session,\n\u001b[1;32m   1471\u001b[0m                                                \u001b[0mself\u001b[0m\u001b[0;34m.\u001b[0m\u001b[0m_handle\u001b[0m\u001b[0;34m,\u001b[0m \u001b[0margs\u001b[0m\u001b[0;34m,\u001b[0m\u001b[0;34m\u001b[0m\u001b[0;34m\u001b[0m\u001b[0m\n\u001b[0;32m-> 1472\u001b[0;31m                                                run_metadata_ptr)\n\u001b[0m\u001b[1;32m   1473\u001b[0m         \u001b[0;32mif\u001b[0m \u001b[0mrun_metadata\u001b[0m\u001b[0;34m:\u001b[0m\u001b[0;34m\u001b[0m\u001b[0;34m\u001b[0m\u001b[0m\n\u001b[1;32m   1474\u001b[0m           \u001b[0mproto_data\u001b[0m \u001b[0;34m=\u001b[0m \u001b[0mtf_session\u001b[0m\u001b[0;34m.\u001b[0m\u001b[0mTF_GetBuffer\u001b[0m\u001b[0;34m(\u001b[0m\u001b[0mrun_metadata_ptr\u001b[0m\u001b[0;34m)\u001b[0m\u001b[0;34m\u001b[0m\u001b[0;34m\u001b[0m\u001b[0m\n",
      "\u001b[0;31mKeyboardInterrupt\u001b[0m: "
     ]
    }
   ],
   "source": [
    "# Convert labels to categorical one-hot encoding\n",
    "#train_labels_onehot = keras.utils.to_categorical(train_labels, num_classes=2)\n",
    "\n",
    "mode_path = './models/mlp_v2.h5'\n",
    "\n",
    "best_fold = -1\n",
    "best_score = 0\n",
    "best_model = None\n",
    "\n",
    "for index, (train_indices, val_indices) in enumerate(folds):\n",
    "  print(\"Training on fold \" + str(index+1) + \"/5...\")\n",
    "  # Generate batches from indices\n",
    "  xtrain, xval = train_seqs_onehot[train_indices], train_seqs_onehot[val_indices]\n",
    "  #ytrain, yval = train_labels_onehot[train_indices], train_labels_onehot[val_indices]\n",
    "  ytrain = np.array(train_labels)[train_indices.astype(int)]\n",
    "  yval = np.array(train_labels)[val_indices.astype(int)]\n",
    "\n",
    "  # xtrain_onehot = onehot_encoder.transform(xtrain)\n",
    "  # xval_onehot = onehot_encoder.transform(xval)\n",
    "  # ytrain_onehot = keras.utils.to_categorical(y_train, num_classes=2)\n",
    "  # yval_onehot = keras.utils.to_categorical(y_val, num_classes=2)\n",
    "\n",
    "  model = None\n",
    "  model = create_model()\n",
    "\n",
    "  # class wight for the train set\n",
    "  class_weights = class_weight.compute_class_weight('balanced', np.unique(ytrain), ytrain)\n",
    "  class_weight_dict = dict(enumerate(class_weights))\n",
    "\n",
    "  # model.summary()\n",
    "  # , EarlyStopping(monitor='val_loss', patience=3)\n",
    "  callbacks = [ModelCheckpoint(filepath=mode_path, save_best_only=True)]\n",
    "  model.fit(xtrain, ytrain, validation_data = (xval, yval), epochs = NEPOCHS, batch_size=BATCHSIZE, verbose = 0 ,\n",
    "            callbacks=callbacks, class_weight = class_weight_dict)  # starts training\n",
    "\n",
    "  # get the best fold based on the best f1 score\n",
    "  y_pred = model.predict_classes(xval, batch_size=BATCHSIZE, verbose=1)\n",
    "  y_train = model.predict_classes(xtrain, batch_size=BATCHSIZE, verbose=1)\n",
    "  # y_pred_bool = np.argmax(y_pred, axis=1)\n",
    "  y_pred_bool = y_pred.astype(int)\n",
    "  #tmp_score = metrics.f1_score(np.argmax(yval, axis=1),y_pred)\n",
    "  tmp_score = metrics.f1_score(yval,y_pred)\n",
    "  score_train = metrics.f1_score(ytrain,y_train)\n",
    "  print(\"F1 score: for validation \", tmp_score, \"for train \", score_train)\n",
    "  if(tmp_score > best_score):\n",
    "    best_fold = index\n",
    "    best_model = model\n"
   ]
  },
  {
   "cell_type": "markdown",
   "metadata": {
    "colab_type": "text",
    "id": "61UChnQAuav4"
   },
   "source": [
    "#### train model"
   ]
  },
  {
   "cell_type": "code",
   "execution_count": 86,
   "metadata": {
    "colab": {
     "base_uri": "https://localhost:8080/",
     "height": 34
    },
    "colab_type": "code",
    "executionInfo": {
     "elapsed": 389267,
     "status": "ok",
     "timestamp": 1588800946282,
     "user": {
      "displayName": "Naomi Stricker",
      "photoUrl": "",
      "userId": "00066504149364385992"
     },
     "user_tz": -120
    },
    "id": "vi4NQFv1Bk_N",
    "outputId": "75b3ec0c-0d41-4316-ef9f-000e4ce7fd6f"
   },
   "outputs": [
    {
     "data": {
      "text/plain": [
       "<keras.callbacks.callbacks.History at 0x7fb137916f98>"
      ]
     },
     "execution_count": 86,
     "metadata": {
      "tags": []
     },
     "output_type": "execute_result"
    }
   ],
   "source": [
    "# train model on entire data set\n",
    "# class wight for the train set\n",
    "class_weights = class_weight.compute_class_weight('balanced', np.unique(train_labels), train_labels)\n",
    "class_weight_dict = dict(enumerate(class_weights))\n",
    "\n",
    "# model.summary()\n",
    "  # , EarlyStopping(monitor='val_loss', patience=3)\n",
    "callbacks = [ModelCheckpoint(filepath=mode_path, save_best_only=True)]\n",
    "model.fit(train_seqs_onehot,train_labels, validation_split=0.2, epochs = NEPOCHS, batch_size=BATCHSIZE, verbose = 0 ,\n",
    "            callbacks=callbacks, class_weight = class_weight_dict)  # starts training"
   ]
  },
  {
   "cell_type": "markdown",
   "metadata": {
    "colab_type": "text",
    "id": "V4wULYMI8woU"
   },
   "source": [
    "#### Prediction on test data"
   ]
  },
  {
   "cell_type": "code",
   "execution_count": 87,
   "metadata": {
    "colab": {
     "base_uri": "https://localhost:8080/",
     "height": 51
    },
    "colab_type": "code",
    "executionInfo": {
     "elapsed": 1852,
     "status": "ok",
     "timestamp": 1588800952522,
     "user": {
      "displayName": "Naomi Stricker",
      "photoUrl": "",
      "userId": "00066504149364385992"
     },
     "user_tz": -120
    },
    "id": "hUlOIEMzxP6p",
    "outputId": "b0016c9d-63ca-41f5-d006-39e5e888a006"
   },
   "outputs": [
    {
     "name": "stdout",
     "output_type": "stream",
     "text": [
      "48000/48000 [==============================] - 1s 22us/step\n",
      "1847\n"
     ]
    }
   ],
   "source": [
    "y_pred = model.predict_classes(test_seqs_onehot, batch_size=BATCHSIZE,verbose = 1)\n",
    "# res = np.argmax(y_pred, axis=1)\n",
    "print(np.sum(y_pred))\n",
    "\n",
    "# res = pd.DataFrame(res)\n",
    "res = pd.DataFrame(y_pred)"
   ]
  },
  {
   "cell_type": "markdown",
   "metadata": {
    "colab_type": "text",
    "id": "OttnRkXZ8zil"
   },
   "source": [
    "#### Save results"
   ]
  },
  {
   "cell_type": "code",
   "execution_count": 0,
   "metadata": {
    "colab": {},
    "colab_type": "code",
    "id": "Ux7REfQX0Uhq"
   },
   "outputs": [],
   "source": [
    "res.to_csv(\"./prediction.csv\", index=False, header=False)"
   ]
  },
  {
   "cell_type": "code",
   "execution_count": 0,
   "metadata": {
    "colab": {},
    "colab_type": "code",
    "id": "Przd4rnpTGxB"
   },
   "outputs": [],
   "source": []
  }
 ],
 "metadata": {
  "accelerator": "GPU",
  "colab": {
   "collapsed_sections": [
    "PZ4JK9FA1my-",
    "drNBDblM15cR",
    "wTE0Z3et2N82"
   ],
   "machine_shape": "hm",
   "name": "ns_IML_Task_3.ipynb",
   "provenance": []
  },
  "kernelspec": {
   "display_name": "Python 3",
   "language": "python",
   "name": "python3"
  },
  "language_info": {
   "codemirror_mode": {
    "name": "ipython",
    "version": 3
   },
   "file_extension": ".py",
   "mimetype": "text/x-python",
   "name": "python",
   "nbconvert_exporter": "python",
   "pygments_lexer": "ipython3",
   "version": "3.7.5"
  }
 },
 "nbformat": 4,
 "nbformat_minor": 1
}
